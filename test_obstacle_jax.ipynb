{
 "cells": [
  {
   "cell_type": "code",
   "execution_count": 2,
   "metadata": {},
   "outputs": [],
   "source": [
    "import time\n",
    "import numpy as np\n",
    "import scipy.special\n",
    "import jax.numpy as jnp\n",
    "import matplotlib.pyplot as plt\n",
    "# import optimizer_traj_opt\n",
    "\n",
    "from jax import jit, jacfwd, jacrev, random, vmap\n",
    "from jax.config import config\n",
    "config.update(\"jax_enable_x64\", True)"
   ]
  },
  {
   "cell_type": "markdown",
   "metadata": {},
   "source": [
    "#### Bernstein Coefficient Polynomials"
   ]
  },
  {
   "cell_type": "code",
   "execution_count": 3,
   "metadata": {},
   "outputs": [],
   "source": [
    "def bernstein_coeff_order10_new(n, tmin, tmax, t_actual):\n",
    "    l = tmax - tmin\n",
    "    t = (t_actual - tmin) / l\n",
    "\n",
    "    P0 = scipy.special.binom(n, 0) * ((1 - t) ** (n - 0)) * t ** 0\n",
    "    P1 = scipy.special.binom(n, 1) * ((1 - t) ** (n - 1)) * t ** 1\n",
    "    P2 = scipy.special.binom(n, 2) * ((1 - t) ** (n - 2)) * t ** 2\n",
    "    P3 = scipy.special.binom(n, 3) * ((1 - t) ** (n - 3)) * t ** 3\n",
    "    P4 = scipy.special.binom(n, 4) * ((1 - t) ** (n - 4)) * t ** 4\n",
    "    P5 = scipy.special.binom(n, 5) * ((1 - t) ** (n - 5)) * t ** 5\n",
    "    P6 = scipy.special.binom(n, 6) * ((1 - t) ** (n - 6)) * t ** 6\n",
    "    P7 = scipy.special.binom(n, 7) * ((1 - t) ** (n - 7)) * t ** 7\n",
    "    P8 = scipy.special.binom(n, 8) * ((1 - t) ** (n - 8)) * t ** 8\n",
    "    P9 = scipy.special.binom(n, 9) * ((1 - t) ** (n - 9)) * t ** 9\n",
    "    P10 = scipy.special.binom(n, 10) * ((1 - t) ** (n - 10)) * t ** 10\n",
    "\n",
    "    P0dot = -10.0 * (-t + 1) ** 9\n",
    "    P1dot = -90.0 * t * (-t + 1) ** 8 + 10.0 * (-t + 1) ** 9\n",
    "    P2dot = -360.0 * t ** 2 * (-t + 1) ** 7 + 90.0 * t * (-t + 1) ** 8\n",
    "    P3dot = -840.0 * t ** 3 * (-t + 1) ** 6 + 360.0 * t ** 2 * (-t + 1) ** 7\n",
    "    P4dot = -1260.0 * t ** 4 * (-t + 1) ** 5 + 840.0 * t ** 3 * (-t + 1) ** 6\n",
    "    P5dot = -1260.0 * t ** 5 * (-t + 1) ** 4 + 1260.0 * t ** 4 * (-t + 1) ** 5\n",
    "    P6dot = -840.0 * t ** 6 * (-t + 1) ** 3 + 1260.0 * t ** 5 * (-t + 1) ** 4\n",
    "    P7dot = -360.0 * t ** 7 * (-t + 1) ** 2 + 840.0 * t ** 6 * (-t + 1) ** 3\n",
    "    P8dot = 45.0 * t ** 8 * (2 * t - 2) + 360.0 * t ** 7 * (-t + 1) ** 2\n",
    "    P9dot = -10.0 * t ** 9 + 9 * t ** 8 * (-10.0 * t + 10.0)\n",
    "    P10dot = 10.0 * t ** 9\n",
    "\n",
    "    P0ddot = 90.0 * (-t + 1) ** 8\n",
    "    P1ddot = 720.0 * t * (-t + 1) ** 7 - 180.0 * (-t + 1) ** 8\n",
    "    P2ddot = 2520.0 * t ** 2 * (-t + 1) ** 6 - 1440.0 * t * (-t + 1) ** 7 + 90.0 * (-t + 1) ** 8\n",
    "    P3ddot = 5040.0 * t ** 3 * (-t + 1) ** 5 - 5040.0 * t ** 2 * (-t + 1) ** 6 + 720.0 * t * (-t + 1) ** 7\n",
    "    P4ddot = 6300.0 * t ** 4 * (-t + 1) ** 4 - 10080.0 * t ** 3 * (-t + 1) ** 5 + 2520.0 * t ** 2 * (-t + 1) ** 6\n",
    "    P5ddot = 5040.0 * t ** 5 * (-t + 1) ** 3 - 12600.0 * t ** 4 * (-t + 1) ** 4 + 5040.0 * t ** 3 * (-t + 1) ** 5\n",
    "    P6ddot = 2520.0 * t ** 6 * (-t + 1) ** 2 - 10080.0 * t ** 5 * (-t + 1) ** 3 + 6300.0 * t ** 4 * (-t + 1) ** 4\n",
    "    P7ddot = -360.0 * t ** 7 * (2 * t - 2) - 5040.0 * t ** 6 * (-t + 1) ** 2 + 5040.0 * t ** 5 * (-t + 1) ** 3\n",
    "    P8ddot = 90.0 * t ** 8 + 720.0 * t ** 7 * (2 * t - 2) + 2520.0 * t ** 6 * (-t + 1) ** 2\n",
    "    P9ddot = -180.0 * t ** 8 + 72 * t ** 7 * (-10.0 * t + 10.0)\n",
    "    P10ddot = 90.0 * t ** 8\n",
    "\n",
    "    P = np.hstack((P0, P1, P2, P3, P4, P5, P6, P7, P8, P9, P10))\n",
    "    Pdot = np.hstack((P0dot, P1dot, P2dot, P3dot, P4dot, P5dot, P6dot, P7dot, P8dot, P9dot, P10dot)) / l\n",
    "    Pddot = np.hstack((P0ddot, P1ddot, P2ddot, P3ddot, P4ddot, P5ddot, P6ddot, P7ddot, P8ddot, P9ddot, P10ddot)) / (l ** 2)\n",
    "    return P, Pdot, Pddot"
   ]
  },
  {
   "cell_type": "markdown",
   "metadata": {},
   "source": [
    "#### Initializations"
   ]
  },
  {
   "cell_type": "code",
   "execution_count": 4,
   "metadata": {},
   "outputs": [],
   "source": [
    "x_min = -6.0\n",
    "x_max = 6.0\n",
    "\n",
    "y_min = -6.0\n",
    "y_max = 6.0\n",
    "\n",
    "t_fin = 8.0\n",
    "num = 20"
   ]
  },
  {
   "cell_type": "code",
   "execution_count": 5,
   "metadata": {},
   "outputs": [],
   "source": [
    "tot_time = np.linspace(0.0, t_fin, num)\n",
    "tot_time_copy = tot_time.reshape(num, 1)\n",
    "P, Pdot, Pddot = bernstein_coeff_order10_new(10, tot_time_copy[0], tot_time_copy[-1], tot_time_copy)\n",
    "nvar = np.shape(P)[1]\n",
    "num = np.shape(P)[0]"
   ]
  },
  {
   "cell_type": "code",
   "execution_count": 6,
   "metadata": {},
   "outputs": [],
   "source": [
    "x_obs_temp = np.hstack((0, 5, 3.0, 2.5))\n",
    "y_obs_temp = np.hstack((0, 0, -1.0, -1.5))\n",
    "num_obs = np.shape(x_obs_temp)[0]\n",
    "\n",
    "a_obs = 1.0\n",
    "b_obs = 1.0\n",
    "\n",
    "x_obs = np.ones((num_obs, num)) * x_obs_temp[:, np.newaxis]\n",
    "y_obs = np.ones((num_obs, num)) * y_obs_temp[:, np.newaxis]"
   ]
  },
  {
   "cell_type": "code",
   "execution_count": 7,
   "metadata": {},
   "outputs": [
    {
     "name": "stdout",
     "output_type": "stream",
     "text": [
      "(4, 20)\n"
     ]
    },
    {
     "data": {
      "text/plain": [
       "(20, 11)"
      ]
     },
     "execution_count": 7,
     "metadata": {},
     "output_type": "execute_result"
    }
   ],
   "source": [
    "print(x_obs.shape)\n",
    "P.shape"
   ]
  },
  {
   "cell_type": "code",
   "execution_count": 8,
   "metadata": {},
   "outputs": [],
   "source": [
    "x_init = -1\n",
    "y_init = 1\n",
    "vx_init = 0.0\n",
    "ax_init = 0.0\n",
    "vy_init = 0.0\n",
    "ay_init = 0.0"
   ]
  },
  {
   "cell_type": "code",
   "execution_count": 9,
   "metadata": {},
   "outputs": [],
   "source": [
    "x_fin = 1\n",
    "y_fin = 1\n",
    "vx_fin = 0.0\n",
    "ax_fin = 0.0\n",
    "vy_fin = 0.0\n",
    "ay_fin = 0.0"
   ]
  },
  {
   "cell_type": "code",
   "execution_count": 10,
   "metadata": {},
   "outputs": [],
   "source": [
    "rho_obs = 0.3\n",
    "rho_eq = 10.0\n",
    "weight_smoothness = 10"
   ]
  },
  {
   "cell_type": "code",
   "execution_count": 11,
   "metadata": {},
   "outputs": [],
   "source": [
    "bx_eq =  np.hstack((x_init, vx_init, ax_init, x_fin, vx_fin, ax_fin))\n",
    "by_eq =  np.hstack((y_init, vy_init, ay_init, y_fin, vy_fin, ay_fin))"
   ]
  },
  {
   "cell_type": "code",
   "execution_count": 12,
   "metadata": {},
   "outputs": [
    {
     "data": {
      "text/plain": [
       "(80, 11)"
      ]
     },
     "execution_count": 12,
     "metadata": {},
     "output_type": "execute_result"
    }
   ],
   "source": [
    "A_eq = np.vstack((P[0], Pdot[0], Pddot[0], P[-1], Pdot[-1], Pddot[-1]))\n",
    "A_obs = np.tile(P, (num_obs, 1))\n",
    "Q_smoothness = np.dot(Pddot.T, Pddot)\n",
    "Q_smoothness_new = Q_smoothness\n",
    "A_eq.shape\n",
    "A_obs.shape"
   ]
  },
  {
   "cell_type": "code",
   "execution_count": 13,
   "metadata": {},
   "outputs": [
    {
     "name": "stderr",
     "output_type": "stream",
     "text": [
      "WARNING:absl:No GPU/TPU found, falling back to CPU. (Set TF_CPP_MIN_LOG_LEVEL=0 and rerun for more info.)\n"
     ]
    }
   ],
   "source": [
    "P_jax = jnp.asarray(P)\n",
    "A_eq_jax = jnp.asarray(A_eq)\n",
    "A_obs_jax = jnp.asarray(A_obs)\n",
    "x_obs_jax = jnp.asarray(x_obs)\n",
    "y_obs_jax = jnp.asarray(y_obs)\n",
    "Q_smoothness_jax = jnp.asarray(Q_smoothness)"
   ]
  },
  {
   "cell_type": "code",
   "execution_count": 14,
   "metadata": {},
   "outputs": [
    {
     "name": "stdout",
     "output_type": "stream",
     "text": [
      "(4, 20)\n"
     ]
    }
   ],
   "source": [
    "print(x_obs.shape)"
   ]
  },
  {
   "cell_type": "code",
   "execution_count": 15,
   "metadata": {},
   "outputs": [],
   "source": [
    "import matplotlib.pyplot as plt\n",
    "\n",
    "def plot(traj, obs):\n",
    "    plt.xlim([np.amin(traj[\"x\"])-1, np.amax(traj[\"x\"])+1])    \n",
    "    plt.ylim([np.amin(traj[\"y\"])-1, np.amax(traj[\"y\"])+1])    \n",
    "    plt.scatter(traj[\"x\"], traj[\"y\"], label=\"Trajectory\")    \n",
    "    print(obs[\"x\"], obs[\"y\"])    \n",
    "    plt.scatter(obs[\"x\"], obs[\"y\"], s=200, label=\"Obstacles\")    \n",
    "    plt.legend()    \n",
    "    plt.show()\n",
    "\n"
   ]
  },
  {
   "cell_type": "markdown",
   "metadata": {},
   "source": [
    "#### Compute Solution"
   ]
  },
  {
   "cell_type": "code",
   "execution_count": 16,
   "metadata": {},
   "outputs": [],
   "source": [
    "import cvxopt\n",
    "from cvxopt import solvers\n",
    "def compute_sol_qp(rho_obs, rho_eq, weight_smoothness, num_obs, bx_eq, by_eq, P, Pdot, Pddot, x_obs, y_obs, a_obs, b_obs):\n",
    "    maxiter = 2\n",
    "    nvar = np.shape(P)[1]\n",
    "    num = np.shape(P)[0]\n",
    "\n",
    "#     print(P.shape)\n",
    "#     print(Pdot.shape)\n",
    "#     print(Pddot.shape)\n",
    "    \n",
    "    A_eq = np.vstack((P[0], Pdot[0], Pddot[0], P[-1], Pdot[-1], Pddot[-1]))\n",
    "    A_obs = np.tile(P, (num_obs, 1))\n",
    "\n",
    "    cost_smoothness = weight_smoothness * np.dot(Pddot.T, Pddot)\n",
    "\n",
    "    alpha_obs = np.zeros((num_obs, num))\n",
    "    d_obs = np.ones((num_obs, num))\n",
    "\n",
    "    lamda_x = np.zeros(nvar)\n",
    "    lamda_y = np.zeros(nvar)\n",
    "    res_obs = np.ones(maxiter)\n",
    "    res_eq = np.ones(maxiter)\n",
    "    d_min = np.ones(maxiter)\n",
    "    b_x_obs = x_obs.reshape(num_obs * num)\n",
    "    b_y_obs = y_obs.reshape(num_obs * num)    \n",
    "    cost = cost_smoothness + rho_obs * np.dot(A_obs.T, A_obs) + rho_eq * np.dot(A_eq.T, A_eq)\n",
    "    for i in range(0, maxiter):\n",
    "        temp_x_obs = d_obs * np.cos(alpha_obs) * a_obs\n",
    "#         print(\"temp_x_obs.shape: {}, x_obs.shape: {} \".format(temp_x_obs.shape, x_obs.shape))\n",
    "        b_obs_x = x_obs.reshape(num * num_obs) + temp_x_obs.reshape(num * num_obs)\n",
    "#         print(\"x_obs.shape: {}, b_obs_x.shape: {}\".format(x_obs.shape, b_obs_x.shape))\n",
    "\n",
    "        temp_y_obs = d_obs * np.sin(alpha_obs) * b_obs\n",
    "        b_obs_y = y_obs.reshape(num * num_obs) + temp_y_obs.reshape(num*num_obs)\n",
    "\n",
    "        bb_obs = np.hstack((x_obs,y_obs))\n",
    "        A_eq = np.vstack((P[0], Pdot[0], Pddot[0], P[-1], Pdot[-1], Pddot[-1]))\n",
    "\n",
    "        A_obs = np.tile(P, (num_obs, 1))\n",
    "        b_eq = np.hstack((bx_eq, by_eq))\n",
    "\n",
    "        Q_obs = np.dot(A_obs.T, A_obs)\n",
    "        Q_eq = np.dot(A_eq.T, A_eq)\n",
    "        qx_obs = np.dot(b_x_obs.T, A_obs) * 2\n",
    "        qy_obs = np.dot(b_y_obs.T, A_obs) * 2\n",
    "        qx_eq = np.dot(bx_eq.T, A_eq) * 2\n",
    "        qy_eq = np.dot(by_eq.T, A_eq) * 2\n",
    "        q = np.hstack((qx_eq, qy_eq))\n",
    "        print(qx_obs.shape)\n",
    "        A_eq = cvxopt.matrix(A_eq, tc='d')\n",
    "        bx_eq_m = cvxopt.matrix(bx_eq, tc='d')\n",
    "        by_eq_m = cvxopt.matrix(by_eq, tc='d')\n",
    "        b_eq = cvxopt.matrix(b_eq, tc='d')\n",
    "        Q = cvxopt.matrix(weight_smoothness * Q_smoothness_new + rho_obs * Q_obs + rho_eq * Q_eq, tc='d')\n",
    "        q_x = cvxopt.matrix(rho_obs * qx_obs + rho_eq * qx_eq, tc='d')\n",
    "        q_y = cvxopt.matrix(rho_obs * qy_obs + rho_eq * qy_eq, tc='d')\n",
    "        \n",
    "        print(q_x.size)\n",
    "        print(bx_eq.shape)\n",
    "        sol_x = solvers.qp(Q, q_x, None, None, A_eq, bx_eq_m)\n",
    "        sol_x = np.array(sol_x['x'])\n",
    "        sol_y = solvers.qp(Q, q_y, None, None, A_eq, by_eq_m)\n",
    "        sol_y = np.array(sol_y['x'])\n",
    "        x = np.dot(P, sol_x).reshape((num,))\n",
    "        y = np.dot(P, sol_y).reshape((num,))\n",
    "\n",
    "        print(\"x.shape: {}, y.shape: {}\".format(x.shape, y.shape))\n",
    "\n",
    "        wc_alpha = (x - x_obs)\n",
    "        ws_alpha = (y - y_obs)\n",
    "        x = x.reshape((num, 1))\n",
    "        y = y.reshape((num, 1))\n",
    "# #         print(\"wc_alpha.shape: {}, ws_alpha.shape: {}\".format(wc_alpha.shape, ws_alpha.shape))\n",
    "        alpha_obs = np.arctan2(ws_alpha * a_obs, wc_alpha * b_obs)\n",
    "        \n",
    "        c1_d = 1.0 * rho_obs * (a_obs ** 2 * np.cos(alpha_obs) ** 2 + b_obs ** 2 * np.sin(alpha_obs) ** 2)\n",
    "        c2_d = 1.0 * rho_obs * (a_obs * wc_alpha * np.cos(alpha_obs) + b_obs * ws_alpha * np.sin(alpha_obs))\n",
    "\n",
    "        d_temp = c2_d / c1_d\n",
    "        d_obs = np.maximum(np.ones((num_obs, num)), d_temp)\n",
    "#         d_min[i] = np.amin(d_temp)\n",
    "\n",
    "#         res_x_obs_vec = wc_alpha - a_obs * d_obs * np.cos(alpha_obs)\n",
    "#         res_y_obs_vec = ws_alpha - b_obs * d_obs * np.sin(alpha_obs)\n",
    "        \n",
    "#         res_eq_x_vec = np.dot(A_eq, sol_x) - bx_eq\n",
    "#         res_eq_y_vec = np.dot(A_eq, sol_y) - by_eq\n",
    "    \n",
    "\n",
    "    return x.squeeze(),y.squeeze()"
   ]
  },
  {
   "cell_type": "code",
   "execution_count": 17,
   "metadata": {},
   "outputs": [
    {
     "name": "stdout",
     "output_type": "stream",
     "text": [
      "(11,)\n",
      "(11, 1)\n",
      "(6,)\n",
      "x.shape: (20,), y.shape: (20,)\n",
      "(11,)\n",
      "(11, 1)\n",
      "(6,)\n",
      "x.shape: (20,), y.shape: (20,)\n",
      "[-1.         -1.06926119 -1.34948529 -1.75307434 -2.16862292 -2.54590927\n",
      " -2.8713518  -3.12983073 -3.28975013 -3.31301861 -3.17537875 -2.88033498\n",
      " -2.45693754 -1.94299701 -1.3660484  -0.73967715 -0.08778155  0.51090389\n",
      "  0.90604032  1.        ] [1.         1.00388621 1.01996622 1.0438299  1.06924524 1.09314185\n",
      " 1.11462735 1.13301829 1.14690679 1.15448565 1.15448565 1.14690679\n",
      " 1.13301829 1.11462735 1.09314185 1.06924524 1.0438299  1.01996622\n",
      " 1.00388621 1.        ]\n"
     ]
    }
   ],
   "source": [
    "x,y  = compute_sol_qp(rho_obs, rho_eq, weight_smoothness, num_obs, bx_eq, by_eq, P, Pdot, Pddot, x_obs, y_obs, a_obs, b_obs)\n",
    "print(x.squeeze(), y.squeeze())"
   ]
  },
  {
   "cell_type": "code",
   "execution_count": 18,
   "metadata": {},
   "outputs": [
    {
     "name": "stdout",
     "output_type": "stream",
     "text": [
      "[0.  5.  3.  2.5] [ 0.   0.  -1.  -1.5]\n"
     ]
    },
    {
     "data": {
      "image/png": "[encoded data removed]",
      "text/plain": [
       "<Figure size 432x288 with 1 Axes>"
      ]
     },
     "metadata": {
      "needs_background": "light"
     },
     "output_type": "display_data"
    }
   ],
   "source": [
    "plot({\"x\":x, \"y\":y}, {\"x\":x_obs_temp, \"y\":y_obs_temp})\n",
    "x = [1]\n",
    "y = [1]"
   ]
  },
  {
   "cell_type": "code",
   "execution_count": 19,
   "metadata": {},
   "outputs": [],
   "source": [
    "def compute_sol(rho_obs, rho_eq, weight_smoothness, num_obs, bx_eq, by_eq, P, Pdot, Pddot, x_obs, y_obs, a_obs=1, b_obs=1):    \n",
    "    maxiter = 300\n",
    "    nvar = np.shape(P)[1]\n",
    "    num = np.shape(P)[0]\n",
    "\n",
    "    print(P.shape)\n",
    "    print(Pdot.shape)\n",
    "    print(Pddot.shape)\n",
    "    \n",
    "    A_eq = np.vstack((P[0], Pdot[0], Pddot[0], P[-1], Pdot[-1], Pddot[-1]))\n",
    "    A_obs = np.tile(P, (num_obs, 1))\n",
    "\n",
    "    cost_smoothness = weight_smoothness * np.dot(Pddot.T, Pddot)\n",
    "\n",
    "    alpha_obs = np.zeros((num_obs, num))\n",
    "    d_obs = np.ones((num_obs, num))\n",
    "\n",
    "    lamda_x = np.zeros(nvar)\n",
    "    lamda_y = np.zeros(nvar)\n",
    "    res_obs = np.ones(maxiter)\n",
    "    res_eq = np.ones(maxiter)\n",
    "    d_min = np.ones(maxiter)\n",
    "    cost = cost_smoothness + rho_obs * np.dot(A_obs.T, A_obs) + rho_eq * np.dot(A_eq.T, A_eq)\n",
    "\n",
    "    print(A_obs.shape)\n",
    "    print(A_eq.shape)\n",
    "    old_x, old_y = np.zeros((4,20)), np.zeros((4,20))\n",
    "    for i in range(0, maxiter):\n",
    "        temp_x_obs = d_obs * np.cos(alpha_obs) * a_obs\n",
    "#         temp_x_obs = d_obs * wc_alpha/d_temp\n",
    "#         print(\"temp_x_obs.shape: {}, x_obs.shape: {} \".format(temp_x_obs.shape, x_obs.shape))\n",
    "        b_obs_x = x_obs.reshape(num * num_obs) + temp_x_obs.reshape(num * num_obs)\n",
    "#         print(\"x_obs.shape: {}, b_obs_x.shape: {}\".format(x_obs.shape, b_obs_x.shape))\n",
    "\n",
    "        temp_y_obs = d_obs * np.sin(alpha_obs) * b_obs\n",
    "#         temp_y_obs = d_obs * ws_alpha/d_temp\n",
    "        b_obs_y = y_obs.reshape(num * num_obs) + temp_y_obs.reshape(num*num_obs)\n",
    "\n",
    "        \n",
    "        lincost_x = -lamda_x - rho_obs * np.dot(A_obs.T, b_obs_x) - rho_eq * np.dot(A_eq.T, bx_eq)\n",
    "        lincost_y = -lamda_y - rho_obs * np.dot(A_obs.T, b_obs_y) - rho_eq * np.dot(A_eq.T, by_eq)\n",
    "\n",
    "        sol_x = np.linalg.solve(-cost, lincost_x)\n",
    "        sol_y = np.linalg.solve(-cost, lincost_y)\n",
    "        \n",
    "#         print(\"sol_x.shape: {}, sol_y.shape: {}\".format(sol_x.shape, sol_y.shape))\n",
    "\n",
    "        x,y = old_x, old_y\n",
    "#         plt.figure(figsize=(25,25))\n",
    "#         plt.xlim([-10,10])\n",
    "#         plt.ylim([-10,10])\n",
    "#         plt.scatter(b_obs_x, b_obs_y,color='orange')\n",
    "#         plt.scatter(b_obs_x, b_obs_y,color='green')\n",
    "#         for ii in range(4):\n",
    "#             circ = plt.Circle((x_obs[ii][0], y_obs[ii][0]), a_obs, color='r')\n",
    "#             plt.gca().add_patch(circ)\n",
    "#         plt.scatter(x,y,color='b')\n",
    "#         plt.savefig(\"./debug/obs/fig\" + str(i))\n",
    "#         plt.clf()\n",
    "\n",
    "        x = np.dot(P, sol_x)\n",
    "        y = np.dot(P, sol_y)\n",
    "   \n",
    "        old_x, old_y = x,y\n",
    "#         print(\"x.shape: {}, y.shape: {}\".format(x.shape, y.shape))\n",
    "\n",
    "#         print(x);print(x_obs)\n",
    "        wc_alpha = (x - x_obs)\n",
    "        ws_alpha = (y - y_obs)\n",
    "        \n",
    "#         print(wc_alpha)\n",
    "#         print(\"wc_alpha.shape: {}, ws_alpha.shape: {}\".format(wc_alpha.shape, ws_alpha.shape))\n",
    "        alpha_obs = np.arctan2(ws_alpha * a_obs, wc_alpha * b_obs)\n",
    "        \n",
    "#         c1_d = 1.0 * rho_obs * (a_obs ** 2 * np.cos(alpha_obs) ** 2 + b_obs ** 2 * np.sin(alpha_obs) ** 2)\n",
    "#         c2_d = 1.0 * rho_obs * (a_obs * wc_alpha * np.cos(alpha_obs) + b_obs * ws_alpha * np.sin(alpha_obs))\n",
    "\n",
    "        n_x = wc_alpha/a_obs\n",
    "        n_y = ws_alpha/b_obs\n",
    "\n",
    "        d_temp = (n_x ** 2 + n_y ** 2) ** 0.5  \n",
    "        \n",
    "#         d_temp = c2_d / c1_d\n",
    "        d_obs = np.maximum(np.ones((num_obs, num)), d_temp)\n",
    "        d_min[i] = np.amin(d_temp)\n",
    "\n",
    "#         tan(alpha) = (ws/b)/(wc/a)\n",
    "#         cos(alpha) = (wc/a)/((ws/b)**2 + (wc/a) ** 2)**0.5        \n",
    "        \n",
    "#         res_x_obs_vec = wc_alpha - a_obs * d_obs * np.cos(alpha_obs)\n",
    "        res_x_obs_vec = wc_alpha - d_obs * (wc_alpha)/(d_temp)\n",
    "        res_y_obs_vec = ws_alpha - d_obs * (ws_alpha)/(d_temp)\n",
    "        \n",
    "        res_eq_x_vec = np.dot(A_eq, sol_x) - bx_eq\n",
    "        res_eq_y_vec = np.dot(A_eq, sol_y) - by_eq\n",
    "        \n",
    "#         print(\"update : {},lamda_x: {}\".format((rho_obs*np.dot(A_obs.T, res_x_obs_vec.reshape(num_obs * num)) - rho_eq * np.dot(A_eq.T, res_eq_x_vec)).shape, lamda_x.shape))\n",
    "#         print(\"update : {}\".format(rho_obs*np.dot(A_obs.T, res_y_obs_vec.reshape(num_obs * num)) - rho_eq * np.dot(A_eq.T, res_eq_y_vec).shape, lamda_y.shape))\n",
    "        lamda_x = lamda_x-rho_obs*np.dot(A_obs.T, res_x_obs_vec.reshape(num_obs * num)) - rho_eq * np.dot(A_eq.T, res_eq_x_vec)\n",
    "        lamda_y = lamda_y-rho_obs*np.dot(A_obs.T, res_y_obs_vec.reshape(num_obs * num)) - rho_eq * np.dot(A_eq.T, res_eq_y_vec)\n",
    "\n",
    "        res_eq[i] = np.linalg.norm(np.hstack((res_eq_x_vec,  res_eq_y_vec)))\n",
    "        res_obs[i] = np.linalg.norm(np.hstack((res_x_obs_vec, res_y_obs_vec)))\n",
    "\n",
    "    slack_obs = np.sqrt((d_obs - 1))\n",
    "    plt.figure(1)\n",
    "    plt.plot(res_obs)\n",
    "    plt.figure(2)\n",
    "    plt.plot(res_eq)\n",
    "    plt.figure(3)\n",
    "    plt.plot(d_min)    \n",
    "    plt.show()\n",
    "    return x, y, sol_x, sol_y, alpha_obs.reshape(num_obs*num), d_obs.reshape(num_obs*num), lamda_x, lamda_y, slack_obs.reshape(num_obs*num)"
   ]
  },
  {
   "cell_type": "code",
   "execution_count": 20,
   "metadata": {},
   "outputs": [
    {
     "name": "stdout",
     "output_type": "stream",
     "text": [
      "(20, 11)\n",
      "(20, 11)\n",
      "(20, 11)\n",
      "(80, 11)\n",
      "(6, 11)\n"
     ]
    },
    {
     "data": {
      "image/png": "[encoded data removed]",
      "text/plain": [
       "<Figure size 432x288 with 1 Axes>"
      ]
     },
     "metadata": {
      "needs_background": "light"
     },
     "output_type": "display_data"
    },
    {
     "data": {
      "image/png": "[encoded data removed]",
      "text/plain": [
       "<Figure size 432x288 with 1 Axes>"
      ]
     },
     "metadata": {
      "needs_background": "light"
     },
     "output_type": "display_data"
    },
    {
     "data": {
      "image/png": "[encoded data removed]",
      "text/plain": [
       "<Figure size 432x288 with 1 Axes>"
      ]
     },
     "metadata": {
      "needs_background": "light"
     },
     "output_type": "display_data"
    }
   ],
   "source": [
    "x, y, sol_x, sol_y, alpha_obs, d_obs, lamda_x, lamda_y, slack_obs = compute_sol(rho_obs, rho_eq, weight_smoothness, num_obs, bx_eq, by_eq, P, Pdot, Pddot, x_obs, y_obs, a_obs, b_obs)\n",
    "lamda_x_jax = jnp.asarray(lamda_x)\n",
    "lamda_y_jax = jnp.asarray(lamda_y)"
   ]
  },
  {
   "cell_type": "code",
   "execution_count": 21,
   "metadata": {},
   "outputs": [
    {
     "name": "stdout",
     "output_type": "stream",
     "text": [
      "[0.  5.  3.  2.5] [ 0.   0.  -1.  -1.5]\n"
     ]
    },
    {
     "data": {
      "image/png": "[encoded data removed]",
      "text/plain": [
       "<Figure size 432x288 with 1 Axes>"
      ]
     },
     "metadata": {
      "needs_background": "light"
     },
     "output_type": "display_data"
    }
   ],
   "source": [
    "plot({\"x\":x, \"y\":y}, {\"x\":x_obs_temp, \"y\":y_obs_temp})\n",
    "x = [1]\n",
    "y = [1]"
   ]
  },
  {
   "cell_type": "code",
   "execution_count": 22,
   "metadata": {},
   "outputs": [],
   "source": [
    "def cost_fun_qp(aug_sol_jax, param_sol):\n",
    "    x_init, vx_init, ax_init, x_fin, vx_fin, ax_fin, y_init, vy_init, ay_init, y_fin, vy_fin, ay_fin = param_sol\n",
    "\n",
    "    bx_eq_jax =  jnp.hstack((x_init, vx_init, ax_init, x_fin, vx_fin, ax_fin))\n",
    "    by_eq_jax =  jnp.hstack((y_init, vy_init, ay_init, y_fin, vy_fin, ay_fin))\n",
    "\n",
    "    c_x = aug_sol_jax[0:nvar]\n",
    "    c_y = aug_sol_jax[nvar:2*nvar]\n",
    "\n",
    "    num_tot = num_obs * num\n",
    "\n",
    "    alpha_obs = aug_sol_jax[2*nvar:2*nvar+num_tot]\n",
    "    d_obs = aug_sol_jax[2*nvar+num_tot:2*nvar+2*num_tot]\n",
    "\n",
    "    cost_smoothness_x = 0.5 * weight_smoothness * jnp.dot(c_x.T, jnp.dot(Q_smoothness_jax, c_x))\n",
    "    cost_smoothness_y = 0.5 * weight_smoothness * jnp.dot(c_y.T, jnp.dot(Q_smoothness_jax, c_y))\n",
    "\n",
    "    temp_x_obs = d_obs * jnp.cos(alpha_obs) * a_obs\n",
    "    b_obs_x = x_obs_jax.reshape(num * num_obs) + temp_x_obs\n",
    "\n",
    "    temp_y_obs = d_obs * jnp.sin(alpha_obs) * b_obs\n",
    "    b_obs_y = y_obs_jax.reshape(num * num_obs) + temp_y_obs\n",
    "\n",
    "    cost_obs_x = 0.5 * rho_obs * (jnp.sum((jnp.dot(A_obs_jax, c_x) - b_obs_x) ** 2))\n",
    "    cost_obs_y = 0.5 * rho_obs * (jnp.sum((jnp.dot(A_obs_jax, c_y) - b_obs_y) ** 2))\n",
    "    \n",
    "    cost_slack = rho_obs * jnp.sum(jnp.maximum(jnp.zeros(num_tot), -d_obs + 1))\n",
    "    cost_eq_x = 0.5 * rho_eq * (jnp.sum((jnp.dot(A_eq_jax, c_x) - bx_eq_jax) ** 2))\n",
    "    cost_eq_y = 0.5 * rho_eq * (jnp.sum((jnp.dot(A_eq_jax, c_y) - by_eq_jax) ** 2))\n",
    "    \n",
    "    cost_x = cost_smoothness_x + cost_obs_x + cost_eq_x - jnp.dot(lamda_x_jax.T, c_x)\n",
    "    cost_y = cost_smoothness_y + cost_obs_y + cost_eq_y - jnp.dot(lamda_y_jax.T, c_y)\n",
    "   \n",
    "    eps = 10 ** (-8.0)\n",
    "    cost = cost_x + cost_y + eps * jnp.sum(c_x ** 2) + eps * jnp.sum(c_y ** 2) + eps * jnp.sum(d_obs ** 2) + eps * jnp.sum(alpha_obs ** 2) + cost_slack\n",
    "    return cost"
   ]
  },
  {
   "cell_type": "code",
   "execution_count": 23,
   "metadata": {},
   "outputs": [],
   "source": [
    "hess_inp = jit(jacfwd(jacrev(cost_fun_qp)))\n",
    "hess_param = jit(jacfwd(jacrev(cost_fun_qp), argnums=1))"
   ]
  },
  {
   "cell_type": "code",
   "execution_count": 24,
   "metadata": {},
   "outputs": [],
   "source": [
    "aug_sol = np.hstack(( sol_x, sol_y, alpha_obs, d_obs))\n",
    "aug_sol_jax = jnp.asarray(aug_sol)\n",
    "\n",
    "params = jnp.hstack((x_init, vx_init, ax_init, x_fin, vx_fin, ax_fin, y_init, vy_init, ay_init, y_fin, vy_fin, ay_fin))\n",
    "\n",
    "F_yy = hess_inp(aug_sol, params)\n",
    "F_xy = hess_param(aug_sol, params)\n",
    "F_yy_inv = jnp.linalg.inv(F_yy)\n",
    "\n",
    "dgx = jnp.dot(-F_yy_inv, F_xy)"
   ]
  },
  {
   "cell_type": "markdown",
   "metadata": {},
   "source": [
    "#### Cost function"
   ]
  },
  {
   "cell_type": "markdown",
   "metadata": {},
   "source": [
    "\n",
    "```\n",
    "x^T -> (1 x n)\n",
    "Q -> (n x n)\n",
    "x -> (n x 1)\n",
    "\n",
    "x^T Q x -> 1 x 1\n",
    "\n",
    "x^T -> (B x n)\n",
    "Q -> (n x n)\n",
    "x -> (n x B)\n",
    "\n",
    "x^T Q x -> B x B \n",
    "\n",
    "1. \n",
    "for i in range(B):\n",
    "    x^T -> (1 x n)\n",
    "    Q -> (n x n)\n",
    "    x -> (n x 1)\n",
    "    lst.append(output)\n",
    "\n",
    "2.\n",
    "diag(x^T Q x) -> B x B -> [B x 1]\n",
    "\n",
    "1 and 2 are same\n",
    "```"
   ]
  },
  {
   "cell_type": "code",
   "execution_count": 25,
   "metadata": {},
   "outputs": [],
   "source": [
    "def cost_fun(aug_sol_jax, param_sol):\n",
    "    x_init, vx_init, ax_init, x_fin, vx_fin, ax_fin, y_init, vy_init, ay_init, y_fin, vy_fin, ay_fin = param_sol\n",
    "\n",
    "    bx_eq_jax =  jnp.hstack((x_init, vx_init, ax_init, x_fin, vx_fin, ax_fin))\n",
    "    by_eq_jax =  jnp.hstack((y_init, vy_init, ay_init, y_fin, vy_fin, ay_fin))\n",
    "    \n",
    "    c_x = aug_sol_jax[0:nvar]\n",
    "    c_y = aug_sol_jax[nvar:2*nvar]\n",
    "\n",
    "    num_tot = num_obs * num\n",
    "\n",
    "    alpha_obs = aug_sol_jax[2*nvar:2*nvar+num_tot]\n",
    "    d_obs = aug_sol_jax[2*nvar+num_tot:2*nvar+2*num_tot]\n",
    "\n",
    "    cost_smoothness_x = 0.5 * weight_smoothness * jnp.dot(c_x.T, jnp.dot(Q_smoothness_jax, c_x))\n",
    "    cost_smoothness_y = 0.5 * weight_smoothness * jnp.dot(c_y.T, jnp.dot(Q_smoothness_jax, c_y))\n",
    "\n",
    "    temp_x_obs = d_obs * jnp.cos(alpha_obs) * a_obs\n",
    "    b_obs_x = x_obs_jax.reshape(num * num_obs) + temp_x_obs\n",
    "\n",
    "    temp_y_obs = d_obs * jnp.sin(alpha_obs) * b_obs\n",
    "    b_obs_y = y_obs_jax.reshape(num * num_obs) + temp_y_obs\n",
    "\n",
    "    \n",
    "    cost_obs_x = 0.5 * rho_obs * (jnp.sum((jnp.dot(A_obs_jax, c_x) - b_obs_x) ** 2))\n",
    "    cost_obs_y = 0.5 * rho_obs * (jnp.sum((jnp.dot(A_obs_jax, c_y) - b_obs_y) ** 2))\n",
    "    \n",
    "    cost_slack = rho_obs * jnp.sum(jnp.maximum(jnp.zeros(num_tot), -d_obs + 1))\n",
    "    cost_eq_x = 0.5 * rho_eq * (jnp.sum((jnp.dot(A_eq_jax, c_x) - bx_eq_jax) ** 2))\n",
    "    cost_eq_y = 0.5 * rho_eq * (jnp.sum((jnp.dot(A_eq_jax, c_y) - by_eq_jax) ** 2))\n",
    "    \n",
    "    cost_x = cost_smoothness_x + cost_obs_x + cost_eq_x - jnp.dot(lamda_x_jax.T, c_x)\n",
    "    cost_y = cost_smoothness_y + cost_obs_y + cost_eq_y - jnp.dot(lamda_y_jax.T, c_y)\n",
    "   \n",
    "    eps = 10 ** (-8.0)\n",
    "    cost = cost_x + cost_y + eps * jnp.sum(c_x ** 2) + eps * jnp.sum(c_y ** 2) + eps * jnp.sum(d_obs ** 2) + eps * jnp.sum(alpha_obs ** 2) + cost_slack\n",
    "    return cost"
   ]
  },
  {
   "cell_type": "code",
   "execution_count": 26,
   "metadata": {},
   "outputs": [
    {
     "data": {
      "text/plain": [
       "((182,), (12,))"
      ]
     },
     "execution_count": 26,
     "metadata": {},
     "output_type": "execute_result"
    }
   ],
   "source": [
    "aug_sol.shape, params.shape"
   ]
  },
  {
   "cell_type": "code",
   "execution_count": 27,
   "metadata": {},
   "outputs": [],
   "source": [
    "alpha_obs = np.zeros((num_obs, num))\n",
    "d_obs = np.ones((num_obs, num))\n",
    "\n",
    "lamda_x = np.zeros(nvar)\n",
    "lamda_y = np.zeros(nvar)"
   ]
  },
  {
   "cell_type": "code",
   "execution_count": 28,
   "metadata": {},
   "outputs": [
    {
     "data": {
      "text/plain": [
       "(array([-1.6721, -0.0158,  0.2543, -0.5678,  0.    ,  0.    ]),\n",
       " array([ 2.1997, -1.7899, -0.6161, -0.7362,  0.    ,  0.    ]))"
      ]
     },
     "execution_count": 28,
     "metadata": {},
     "output_type": "execute_result"
    }
   ],
   "source": [
    "bx_eq = np.array([-1.6721, -0.0158,  0.2543, -0.5678,  0.0000,  0.0000])\n",
    "by_eq = np.array([2.1997, -1.7899, -0.6161, -0.7362,  0.0000,  0.0000])\n",
    "bx_eq, by_eq"
   ]
  },
  {
   "cell_type": "code",
   "execution_count": 29,
   "metadata": {},
   "outputs": [],
   "source": [
    "maxiter = 300\n",
    "cost_smoothness = weight_smoothness * np.dot(Pddot.T, Pddot)\n",
    "cost = cost_smoothness + rho_obs * np.dot(A_obs.T, A_obs) + rho_eq * np.dot(A_eq.T, A_eq)"
   ]
  },
  {
   "cell_type": "code",
   "execution_count": 30,
   "metadata": {},
   "outputs": [
    {
     "name": "stdout",
     "output_type": "stream",
     "text": [
      "(80, 11)\n",
      "(11, 11)\n",
      "(1, 11)\n"
     ]
    }
   ],
   "source": [
    "import cvxopt\n",
    "from cvxopt import solvers\n",
    "\n",
    "\n",
    "A_obs = np.tile(P, (num_obs, 1))\n",
    "bx_obs = x_obs.reshape(num_obs * num)\n",
    "by_obs = y_obs.reshape(num_obs * num)\n",
    "qx_obs = np.dot(bx_obs.T, A_obs) * 2\n",
    "qy_obs = np.dot(by_obs.T, A_obs) * 2\n",
    "\n",
    "\n",
    "A_eq = np.vstack((P[0], Pdot[0], Pddot[0], P[-1], Pdot[-1], Pddot[-1]))\n",
    "#     A_eq = np.vstack((A_eq, A_eq))\n",
    "A_eq = cvxopt.matrix(A_eq, tc='d')\n",
    "b_eq = np.hstack((bx_eq, by_eq))\n",
    "bx_eq = cvxopt.matrix(bx_eq, tc='d')\n",
    "by_eq = cvxopt.matrix(by_eq, tc='d')\n",
    "b_eq = cvxopt.matrix(b_eq, tc='d')\n",
    "qx_eq = np.dot(bx_eq.T, A_eq) * 2\n",
    "qy_eq = np.dot(by_eq.T, A_eq) * 2\n",
    "q = np.hstack((qx_eq, qy_eq))\n",
    "print(A_obs.shape)\n",
    "\n",
    "Q_obs = np.dot(A_obs.T, A_obs)\n",
    "print(Q_obs.shape)\n",
    "Q_eq = np.dot(A_eq.T, A_eq)\n",
    "Q = cvxopt.matrix(weight_smoothness * Q_smoothness_new + rho_obs * Q_obs + rho_eq * Q_eq, tc='d')\n",
    "\n",
    "q_x = cvxopt.matrix(rho_obs * qx_obs + rho_eq * qx_eq)\n",
    "q_y = cvxopt.matrix(rho_obs * qy_obs + rho_eq * qy_eq)\n",
    "\n",
    "print((rho_obs * qx_obs + rho_eq * qx_eq).shape)\n",
    "\n",
    "q_x = q_y = cvxopt.matrix(np.zeros((11,1)))\n",
    "\n",
    "sol_x = solvers.qp(Q, q_x, None, None, A_eq, bx_eq)\n",
    "sol_x = np.array(sol_x['x'])\n",
    "sol_y = solvers.qp(Q, q_y, None, None, A_eq, by_eq)\n",
    "sol_y = np.array(sol_y['x'])\n",
    "#     print(sol_x['x'])\n",
    "x = np.dot(P, sol_x)\n",
    "y = np.dot(P, sol_y)\n",
    "# return x.squeeze(),y.squeeze()"
   ]
  },
  {
   "cell_type": "code",
   "execution_count": 33,
   "metadata": {},
   "outputs": [
    {
     "name": "stdout",
     "output_type": "stream",
     "text": [
      "(11, 1) (11, 1) (80,)\n"
     ]
    }
   ],
   "source": [
    "print(sol_x.shape, sol_y.shape, alpha_obs.reshape(-1).shape)"
   ]
  },
  {
   "cell_type": "code",
   "execution_count": 32,
   "metadata": {},
   "outputs": [
    {
     "ename": "ValueError",
     "evalue": "all the input arrays must have same number of dimensions, but the array at index 0 has 2 dimension(s) and the array at index 2 has 1 dimension(s)",
     "output_type": "error",
     "traceback": [
      "\u001b[0;31m---------------------------------------------------------------------------\u001b[0m",
      "\u001b[0;31mValueError\u001b[0m                                Traceback (most recent call last)",
      "\u001b[0;32m<ipython-input-32-6e00d9fff1bd>\u001b[0m in \u001b[0;36m<module>\u001b[0;34m\u001b[0m\n\u001b[0;32m----> 1\u001b[0;31m \u001b[0mnew_sol\u001b[0m \u001b[0;34m=\u001b[0m \u001b[0mnp\u001b[0m\u001b[0;34m.\u001b[0m\u001b[0mhstack\u001b[0m\u001b[0;34m(\u001b[0m\u001b[0;34m(\u001b[0m\u001b[0msol_x\u001b[0m\u001b[0;34m,\u001b[0m \u001b[0msol_y\u001b[0m\u001b[0;34m,\u001b[0m \u001b[0malpha_obs\u001b[0m\u001b[0;34m.\u001b[0m\u001b[0mreshape\u001b[0m\u001b[0;34m(\u001b[0m\u001b[0;34m-\u001b[0m\u001b[0;36m1\u001b[0m\u001b[0;34m)\u001b[0m\u001b[0;34m,\u001b[0m \u001b[0md_obs\u001b[0m\u001b[0;34m.\u001b[0m\u001b[0mreshape\u001b[0m\u001b[0;34m(\u001b[0m\u001b[0;34m-\u001b[0m\u001b[0;36m1\u001b[0m\u001b[0;34m)\u001b[0m\u001b[0;34m)\u001b[0m\u001b[0;34m)\u001b[0m\u001b[0;34m\u001b[0m\u001b[0;34m\u001b[0m\u001b[0m\n\u001b[0m\u001b[1;32m      2\u001b[0m \u001b[0mnew_sol\u001b[0m\u001b[0;34m.\u001b[0m\u001b[0mshape\u001b[0m\u001b[0;34m\u001b[0m\u001b[0;34m\u001b[0m\u001b[0m\n",
      "\u001b[0;32m<__array_function__ internals>\u001b[0m in \u001b[0;36mhstack\u001b[0;34m(*args, **kwargs)\u001b[0m\n",
      "\u001b[0;32m~/.local/lib/python3.8/site-packages/numpy/core/shape_base.py\u001b[0m in \u001b[0;36mhstack\u001b[0;34m(tup)\u001b[0m\n\u001b[1;32m    344\u001b[0m         \u001b[0;32mreturn\u001b[0m \u001b[0m_nx\u001b[0m\u001b[0;34m.\u001b[0m\u001b[0mconcatenate\u001b[0m\u001b[0;34m(\u001b[0m\u001b[0marrs\u001b[0m\u001b[0;34m,\u001b[0m \u001b[0;36m0\u001b[0m\u001b[0;34m)\u001b[0m\u001b[0;34m\u001b[0m\u001b[0;34m\u001b[0m\u001b[0m\n\u001b[1;32m    345\u001b[0m     \u001b[0;32melse\u001b[0m\u001b[0;34m:\u001b[0m\u001b[0;34m\u001b[0m\u001b[0;34m\u001b[0m\u001b[0m\n\u001b[0;32m--> 346\u001b[0;31m         \u001b[0;32mreturn\u001b[0m \u001b[0m_nx\u001b[0m\u001b[0;34m.\u001b[0m\u001b[0mconcatenate\u001b[0m\u001b[0;34m(\u001b[0m\u001b[0marrs\u001b[0m\u001b[0;34m,\u001b[0m \u001b[0;36m1\u001b[0m\u001b[0;34m)\u001b[0m\u001b[0;34m\u001b[0m\u001b[0;34m\u001b[0m\u001b[0m\n\u001b[0m\u001b[1;32m    347\u001b[0m \u001b[0;34m\u001b[0m\u001b[0m\n\u001b[1;32m    348\u001b[0m \u001b[0;34m\u001b[0m\u001b[0m\n",
      "\u001b[0;32m<__array_function__ internals>\u001b[0m in \u001b[0;36mconcatenate\u001b[0;34m(*args, **kwargs)\u001b[0m\n",
      "\u001b[0;31mValueError\u001b[0m: all the input arrays must have same number of dimensions, but the array at index 0 has 2 dimension(s) and the array at index 2 has 1 dimension(s)"
     ]
    }
   ],
   "source": [
    "new_sol = np.hstack((sol_x, sol_y, alpha_obs.reshape(-1), d_obs.reshape(-1)))\n",
    "new_sol.shape"
   ]
  },
  {
   "cell_type": "code",
   "execution_count": null,
   "metadata": {},
   "outputs": [],
   "source": [
    "# Constraints"
   ]
  },
  {
   "cell_type": "code",
   "execution_count": null,
   "metadata": {},
   "outputs": [],
   "source": [
    "def constraints(aug_sol_jax, param_sol):\n",
    "    x_init, vx_init, ax_init, x_fin, vx_fin, ax_fin, y_init, vy_init, ay_init, y_fin, vy_fin, ay_fin = param_sol\n",
    "    bx_eq_jax =  jnp.hstack((x_init, vx_init, ax_init, x_fin, vx_fin, ax_fin))\n",
    "    by_eq_jax =  jnp.hstack((y_init, vy_init, ay_init, y_fin, vy_fin, ay_fin))\n",
    "    \n",
    "    c_x = aug_sol_jax[0:nvar]\n",
    "    c_y = aug_sol_jax[nvar:2*nvar]\n",
    "#     print((jnp.dot(A_eq_jax, c_x) - bx_eq_jax))\n",
    "    return (jnp.dot(A_eq_jax, c_x) - bx_eq_jax) + (jnp.dot(A_eq_jax, c_y) - by_eq_jax)"
   ]
  },
  {
   "cell_type": "code",
   "execution_count": null,
   "metadata": {},
   "outputs": [],
   "source": [
    "hess_inp = jit(jacfwd(jacrev(constraints)))\n",
    "hess_param = jit(jacfwd(jacrev(constraints), argnums=1))\n",
    "# hess_param_ = jit(jacfwd(jacrev(constraints), argnums=0))"
   ]
  },
  {
   "cell_type": "code",
   "execution_count": null,
   "metadata": {},
   "outputs": [],
   "source": [
    "aug_sol = np.hstack(( sol_x, sol_y, alpha_obs, d_obs))\n",
    "aug_sol_jax = jnp.asarray(aug_sol)\n",
    "\n",
    "params = jnp.hstack((x_init, vx_init, ax_init, x_fin, vx_fin, ax_fin, y_init, vy_init, ay_init, y_fin, vy_fin, ay_fin))\n",
    "\n",
    "F_yy = hess_inp(aug_sol, params)\n",
    "F_xy = hess_param(aug_sol, params)\n",
    "F_yy_inv = jnp.linalg.inv(F_yy)\n",
    "\n",
    "dgx = jnp.dot(-F_yy_inv, F_xy)"
   ]
  },
  {
   "cell_type": "markdown",
   "metadata": {},
   "source": [
    "#### Compute argmin derivative"
   ]
  },
  {
   "cell_type": "code",
   "execution_count": null,
   "metadata": {},
   "outputs": [],
   "source": [
    "hess_inp = jit(jacfwd(jacrev(cost_fun)))\n",
    "hess_param = jit(jacfwd(jacrev(cost_fun), argnums=1))"
   ]
  },
  {
   "cell_type": "code",
   "execution_count": null,
   "metadata": {},
   "outputs": [],
   "source": [
    "aug_sol = np.hstack(( sol_x, sol_y, alpha_obs, d_obs))\n",
    "aug_sol_jax = jnp.asarray(aug_sol)\n",
    "\n",
    "params = jnp.hstack((x_init, vx_init, ax_init, x_fin, vx_fin, ax_fin, y_init, vy_init, ay_init, y_fin, vy_fin, ay_fin))\n",
    "\n",
    "F_yy = hess_inp(aug_sol, params)\n",
    "F_xy = hess_param(aug_sol, params)\n",
    "F_yy_inv = jnp.linalg.inv(F_yy)\n",
    "\n",
    "dgx = jnp.dot(-F_yy_inv, F_xy)"
   ]
  },
  {
   "cell_type": "code",
   "execution_count": null,
   "metadata": {},
   "outputs": [],
   "source": [
    "aug_sol.shape, params.shape"
   ]
  },
  {
   "cell_type": "code",
   "execution_count": null,
   "metadata": {},
   "outputs": [],
   "source": [
    "aug_sol = np.hstack(( sol_x, sol_y, alpha_obs, d_obs))\n",
    "aug_sol_jax = jnp.asarray(aug_sol)"
   ]
  },
  {
   "cell_type": "markdown",
   "metadata": {},
   "source": [
    "#### debug compute solution dimensions and values"
   ]
  },
  {
   "cell_type": "code",
   "execution_count": null,
   "metadata": {},
   "outputs": [],
   "source": [
    "alpha_obs = np.zeros((num_obs, num))\n",
    "d_obs = np.ones((num_obs, num))\n",
    "\n",
    "lamda_x = np.zeros(nvar)\n",
    "lamda_y = np.zeros(nvar)"
   ]
  },
  {
   "cell_type": "code",
   "execution_count": null,
   "metadata": {},
   "outputs": [],
   "source": [
    "bx_eq = np.array([-1.6721, -0.0158,  0.2543, -0.5678,  0.0000,  0.0000])\n",
    "by_eq = np.array([2.1997, -1.7899, -0.6161, -0.7362,  0.0000,  0.0000])\n",
    "bx_eq, by_eq"
   ]
  },
  {
   "cell_type": "code",
   "execution_count": null,
   "metadata": {},
   "outputs": [],
   "source": [
    "maxiter = 300\n",
    "cost_smoothness = weight_smoothness * np.dot(Pddot.T, Pddot)\n",
    "cost = cost_smoothness + rho_obs * np.dot(A_obs.T, A_obs) + rho_eq * np.dot(A_eq.T, A_eq)"
   ]
  },
  {
   "cell_type": "code",
   "execution_count": null,
   "metadata": {},
   "outputs": [],
   "source": [
    "for i in range(0, maxiter):\n",
    "    temp_x_obs = d_obs * np.cos(alpha_obs) * a_obs\n",
    "    b_obs_x = x_obs.reshape(num * num_obs) + temp_x_obs.reshape(num * num_obs)\n",
    "\n",
    "    temp_y_obs = d_obs * np.sin(alpha_obs) * b_obs\n",
    "    b_obs_y = y_obs.reshape(num * num_obs) + temp_y_obs.reshape(num*num_obs)\n",
    "\n",
    "    lincost_x = -lamda_x - rho_obs * np.dot(A_obs.T, b_obs_x) - rho_eq * np.dot(A_eq.T, bx_eq)\n",
    "    lincost_y = -lamda_y - rho_obs * np.dot(A_obs.T, b_obs_y) - rho_eq * np.dot(A_eq.T, by_eq)\n",
    "\n",
    "    sol_x = np.linalg.solve(-cost, lincost_x)\n",
    "    sol_y = np.linalg.solve(-cost, lincost_y)\n",
    "\n",
    "    #print(\"sol_x.shape: {}, sol_y.shape: {}\".format(sol_x.shape, sol_y.shape))\n",
    "\n",
    "    x = np.dot(P, sol_x)\n",
    "    y = np.dot(P, sol_y)\n",
    "\n",
    "    #print(\"x.shape: {}, y.shape: {}\".format(x.shape, y.shape))\n",
    "\n",
    "    wc_alpha = (x - x_obs)\n",
    "    ws_alpha = (y - y_obs)\n",
    "    #print(\"wc_alpha.shape: {}, ws_alpha.shape: {}\".format(wc_alpha.shape, ws_alpha.shape))\n",
    "    alpha_obs = np.arctan2(ws_alpha * a_obs, wc_alpha * b_obs)\n",
    "\n",
    "    c1_d = 1.0 * rho_obs * (a_obs ** 2 * np.cos(alpha_obs) ** 2 + b_obs ** 2 * np.sin(alpha_obs) ** 2)\n",
    "    c2_d = 1.0 * rho_obs * (a_obs * wc_alpha * np.cos(alpha_obs) + b_obs * ws_alpha * np.sin(alpha_obs))\n",
    "\n",
    "    d_temp = c2_d / c1_d\n",
    "    d_obs = np.maximum(np.ones((num_obs, num)), d_temp)\n",
    "\n",
    "    res_x_obs_vec = wc_alpha - a_obs * d_obs * np.cos(alpha_obs)\n",
    "    res_y_obs_vec = ws_alpha - b_obs * d_obs * np.sin(alpha_obs)\n",
    "\n",
    "    res_eq_x_vec = np.dot(A_eq, sol_x) - bx_eq\n",
    "    res_eq_y_vec = np.dot(A_eq, sol_y) - by_eq\n",
    "    \n",
    "    lamda_x = lamda_x-rho_obs*np.dot(A_obs.T, res_x_obs_vec.reshape(num_obs * num)) - rho_eq * np.dot(A_eq.T, res_eq_x_vec)\n",
    "    lamda_y = lamda_y-rho_obs*np.dot(A_obs.T, res_y_obs_vec.reshape(num_obs * num)) - rho_eq * np.dot(A_eq.T, res_eq_y_vec)"
   ]
  },
  {
   "cell_type": "code",
   "execution_count": null,
   "metadata": {},
   "outputs": [],
   "source": [
    "new_sol = np.hstack((sol_x, sol_y, alpha_obs.reshape(-1), d_obs.reshape(-1)))\n",
    "new_sol.shape"
   ]
  },
  {
   "cell_type": "code",
   "execution_count": null,
   "metadata": {},
   "outputs": [],
   "source": [
    "new_sol"
   ]
  },
  {
   "cell_type": "code",
   "execution_count": null,
   "metadata": {},
   "outputs": [],
   "source": [
    "new_sol[:15]"
   ]
  },
  {
   "cell_type": "code",
   "execution_count": null,
   "metadata": {},
   "outputs": [],
   "source": [
    "lamda_x"
   ]
  },
  {
   "cell_type": "code",
   "execution_count": null,
   "metadata": {},
   "outputs": [],
   "source": [
    "x1 = np.dot(P, new_sol[:11])"
   ]
  },
  {
   "cell_type": "code",
   "execution_count": null,
   "metadata": {},
   "outputs": [],
   "source": [
    "y1 = np.dot(P, new_sol[11:22])"
   ]
  },
  {
   "cell_type": "code",
   "execution_count": null,
   "metadata": {},
   "outputs": [],
   "source": [
    "x1"
   ]
  },
  {
   "cell_type": "code",
   "execution_count": null,
   "metadata": {},
   "outputs": [],
   "source": [
    "def cost_fun_new(aug_sol_jax, param_sol):\n",
    "    x_init, vx_init, ax_init, x_fin, vx_fin, ax_fin, y_init, vy_init, ay_init, y_fin, vy_fin, ay_fin = param_sol\n",
    "\n",
    "    bx_eq_jax =  jnp.hstack((x_init, vx_init, ax_init, x_fin, vx_fin, ax_fin))\n",
    "    by_eq_jax =  jnp.hstack((y_init, vy_init, ay_init, y_fin, vy_fin, ay_fin))\n",
    "\n",
    "    c_x = aug_sol_jax[0:nvar]\n",
    "    c_y = aug_sol_jax[nvar:2*nvar]\n",
    "\n",
    "    num_tot = num_obs * num\n",
    "\n",
    "    alpha_obs = aug_sol_jax[2*nvar:2*nvar+num_tot]\n",
    "    d_obs = aug_sol_jax[2*nvar+num_tot:2*nvar+2*num_tot]\n",
    "\n",
    "    cost_smoothness_x = 0.5 * weight_smoothness * jnp.dot(c_x.T, jnp.dot(Q_smoothness_jax, c_x))\n",
    "    cost_smoothness_y = 0.5 * weight_smoothness * jnp.dot(c_y.T, jnp.dot(Q_smoothness_jax, c_y))\n",
    "\n",
    "    temp_x_obs = d_obs * jnp.cos(alpha_obs) * a_obs\n",
    "    b_obs_x = x_obs_jax.reshape(num * num_obs) + temp_x_obs\n",
    "\n",
    "    temp_y_obs = d_obs * jnp.sin(alpha_obs) * b_obs\n",
    "    b_obs_y = y_obs_jax.reshape(num * num_obs) + temp_y_obs\n",
    "\n",
    "    cost_obs_x = 0.5 * rho_obs * (jnp.sum((jnp.dot(A_obs_jax, c_x) - b_obs_x) ** 2))\n",
    "    cost_obs_y = 0.5 * rho_obs * (jnp.sum((jnp.dot(A_obs_jax, c_y) - b_obs_y) ** 2))\n",
    "    \n",
    "    cost_slack = rho_obs * jnp.sum(jnp.maximum(jnp.zeros(num_tot), -d_obs + 1))\n",
    "    cost_eq_x = 0.5 * rho_eq * (jnp.sum((jnp.dot(A_eq_jax, c_x) - bx_eq_jax) ** 2))\n",
    "    cost_eq_y = 0.5 * rho_eq * (jnp.sum((jnp.dot(A_eq_jax, c_y) - by_eq_jax) ** 2))\n",
    "    \n",
    "    cost_x = cost_smoothness_x + cost_obs_x + cost_eq_x - jnp.dot(lamda_x.T, c_x)\n",
    "    cost_y = cost_smoothness_y + cost_obs_y + cost_eq_y - jnp.dot(lamda_y.T, c_y)\n",
    "   \n",
    "    eps = 10 ** (-8.0)\n",
    "    cost = cost_x + cost_y + eps * jnp.sum(c_x ** 2) + eps * jnp.sum(c_y ** 2) + eps * jnp.sum(d_obs ** 2) + eps * jnp.sum(alpha_obs ** 2) + cost_slack\n",
    "    return cost"
   ]
  },
  {
   "cell_type": "code",
   "execution_count": null,
   "metadata": {},
   "outputs": [],
   "source": [
    "cost_fun_new(new_sol, np.hstack((bx_eq, by_eq)))"
   ]
  },
  {
   "cell_type": "code",
   "execution_count": null,
   "metadata": {},
   "outputs": [],
   "source": [
    "hess_inp = jit(jacfwd(jacrev(cost_fun_new)))\n",
    "hess_param = jit(jacfwd(jacrev(cost_fun_new), argnums=1))"
   ]
  },
  {
   "cell_type": "code",
   "execution_count": null,
   "metadata": {},
   "outputs": [],
   "source": [
    "aug_sol_jax = jnp.asarray(new_sol)\n",
    "params = jnp.asarray(np.hstack((bx_eq, by_eq)))\n",
    "\n",
    "F_yy = hess_inp(aug_sol_jax, params)\n",
    "F_xy = hess_param(aug_sol_jax, params)\n",
    "F_yy_inv = jnp.linalg.inv(F_yy)"
   ]
  },
  {
   "cell_type": "code",
   "execution_count": null,
   "metadata": {},
   "outputs": [],
   "source": [
    "dgx = jnp.dot(-F_yy_inv, F_xy)"
   ]
  },
  {
   "cell_type": "code",
   "execution_count": null,
   "metadata": {},
   "outputs": [],
   "source": [
    "dgx.shape"
   ]
  },
  {
   "cell_type": "code",
   "execution_count": null,
   "metadata": {},
   "outputs": [],
   "source": [
    "np.save(\"dgx.npy\", dgx)"
   ]
  },
  {
   "cell_type": "code",
   "execution_count": null,
   "metadata": {},
   "outputs": [],
   "source": [
    "dgx"
   ]
  },
  {
   "cell_type": "code",
   "execution_count": null,
   "metadata": {},
   "outputs": [],
   "source": [
    "def constraints(aug_sol_jax, param_sol):\n",
    "    x_init, vx_init, ax_init, x_fin, vx_fin, ax_fin, y_init, vy_init, ay_init, y_fin, vy_fin, ay_fin = param_sol\n",
    "\n",
    "    bx_eq_jax =  jnp.hstack((x_init, vx_init, ax_init, x_fin, vx_fin, ax_fin))\n",
    "    by_eq_jax =  jnp.hstack((y_init, vy_init, ay_init, y_fin, vy_fin, ay_fin))\n",
    "    \n",
    "    c_x = aug_sol_jax[0:nvar]\n",
    "    c_y = aug_sol_jax[nvar:2*nvar]\n",
    "    \n",
    "    return jnp.dot(A_eq_jax, c_x) - bx_eq_jax + jnp.dot(A_eq_jax, c_y) - by_eq_jax"
   ]
  }
 ],
 "metadata": {
  "kernelspec": {
   "display_name": "Python 3",
   "language": "python",
   "name": "python3"
  },
  "language_info": {
   "codemirror_mode": {
    "name": "ipython",
    "version": 3
   },
   "file_extension": ".py",
   "mimetype": "text/x-python",
   "name": "python",
   "nbconvert_exporter": "python",
   "pygments_lexer": "ipython3",
   "version": "3.8.5"
  }
 },
 "nbformat": 4,
 "nbformat_minor": 4
}
