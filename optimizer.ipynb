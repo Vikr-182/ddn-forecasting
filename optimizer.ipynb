{
 "cells": [
  {
   "cell_type": "code",
   "execution_count": 1,
   "id": "15f0d206-e29b-4e8d-815e-9431d7a35afc",
   "metadata": {},
   "outputs": [],
   "source": [
    "import os\n",
    "import sys\n",
    "sys.path.append(\"./ddn/\")\n",
    "sys.path.append(\"./\")\n",
    "import warnings\n",
    "warnings.filterwarnings('ignore')\n",
    "\n",
    "import torch\n",
    "import numpy as np\n",
    "import scipy.special\n",
    "import torch.nn as nn\n",
    "import torch.nn.functional as F\n",
    "import matplotlib.pyplot as plt\n",
    "\n",
    "from scipy.linalg import block_diag\n",
    "from torch.utils.data import Dataset, DataLoader\n",
    "from utils.bernstein import bernstein_coeff_order10_new\n",
    "from ddn.ddn.pytorch.node import AbstractDeclarativeNode\n",
    "from utils.models.ddn import *\n",
    "from utils.nodes.OPTNode import *"
   ]
  },
  {
   "cell_type": "code",
   "execution_count": 2,
   "id": "f64db6f3-d690-4867-8c3f-c5e97c31e0d9",
   "metadata": {},
   "outputs": [],
   "source": [
    "%load_ext autoreload\n",
    "%autoreload 2"
   ]
  },
  {
   "cell_type": "code",
   "execution_count": 3,
   "id": "174c142e-5c15-4f42-b402-cd4a0f37c1fc",
   "metadata": {},
   "outputs": [],
   "source": [
    "rho_obs = 1.2\n",
    "rho_eq = 10.0\n",
    "weight_smoothness = 10\n",
    "\n",
    "pred_len = 30\n",
    "num = 30\n",
    "t_fin = 2.0\n",
    "a_obs = 1.0\n",
    "b_obs = 1.0\n",
    "\n",
    "tot_time = np.linspace(0.0, t_fin, num)\n",
    "tot_time_copy = tot_time.reshape(num, 1)\n",
    "P, Pdot, Pddot = bernstein_coeff_order10_new(10, tot_time_copy[0], tot_time_copy[-1], tot_time_copy)\n",
    "nvar = np.shape(P)[1]\n",
    "\n",
    "x_obs_temp = np.hstack((-10000.0, 10000.79, 30000.0, 10000.0))\n",
    "y_obs_temp = np.hstack((-10000.0, 10000.0, -30000.80, 10000.0))\n",
    "\n",
    "num_obs = np.shape(x_obs_temp)[0]\n",
    "\n",
    "x_obs = np.ones((num_obs, num)) * x_obs_temp[:, np.newaxis]\n",
    "y_obs = np.ones((num_obs, num)) * y_obs_temp[:, np.newaxis]\n",
    "\n",
    "obs_inp_list = []\n",
    "for i in range(num_obs):\n",
    "    obs_inp_list.extend([x_obs_temp[i], y_obs_temp[i], a_obs])\n",
    "    \n",
    "A_obs = np.tile(P, (num_obs, 1))\n",
    "A_eq = np.vstack((P[0], Pdot[0], Pddot[0], P[-1], Pdot[-1], Pddot[-1]))\n",
    "Q_smoothness = np.dot(Pddot.T, Pddot)"
   ]
  },
  {
   "cell_type": "code",
   "execution_count": 129,
   "id": "6d51fba2-2a68-48c9-869a-f83b314edf0f",
   "metadata": {},
   "outputs": [],
   "source": [
    "#####################################################\n",
    "#####################################################\n",
    "##################### NEW OPTIMIZER #################\n",
    "#######################################################\n",
    "######################################################\n",
    "class OPTNode2(AbstractDeclarativeNode):\n",
    "    def __init__(self, rho_eq=1.0, rho_goal=1.0, rho_nonhol=1.0, rho_psi=1.0, maxiter=5000, weight_smoothness=1.0, weight_smoothness_psi=1.0, t_fin=2.0, num=30, bernstein_coeff_order10_new=None, device=\"cpu\"):\n",
    "        super().__init__()\n",
    "        self.rho_eq = rho_eq\n",
    "        self.rho_goal = rho_goal\n",
    "        self.rho_nonhol = rho_nonhol\n",
    "        self.rho_psi = rho_psi\n",
    "        self.maxiter = maxiter\n",
    "        self.weight_smoothness = weight_smoothness\n",
    "        self.weight_smoothness_psi = weight_smoothness_psi\n",
    "        self.bernstein_coeff_order10_new = bernstein_coeff_order10_new\n",
    "        \n",
    "        self.device = device\n",
    "        \n",
    "        self.t_fin = t_fin\n",
    "        self.num = num\n",
    "        self.t = self.t_fin / self.num\n",
    "\n",
    "        #self.num_batch = 10\n",
    "        \n",
    "        tot_time = np.linspace(0.0, self.t_fin, self.num)\n",
    "        tot_time_copy = tot_time.reshape(self.num, 1)\n",
    "        self.P, self.Pdot, self.Pddot = bernstein_coeff_order10_new(10, tot_time_copy[0], tot_time_copy[-1], tot_time_copy)\n",
    "        self.nvar = np.shape(self.P)[1]\n",
    "        \n",
    "        self.cost_smoothness = self.weight_smoothness * np.dot(self.Pddot.T, self.Pddot)\n",
    "        self.cost_smoothness_psi = self.weight_smoothness_psi * np.dot(self.Pddot.T, self.Pddot)\n",
    "        self.lincost_smoothness_psi = np.zeros(self.nvar)\n",
    "\n",
    "        self.A_eq = np.vstack((self.P[0], self.P[-1]))\n",
    "        self.A_eq_psi = np.vstack((self.P[0], self.Pdot[0], self.P[-1]))\n",
    "        \n",
    "        self.P = torch.tensor(self.P, dtype=torch.double).to(device)\n",
    "        self.Pdot = torch.tensor(self.Pdot, dtype=torch.double).to(device)\n",
    "        self.Pddot = torch.tensor(self.Pddot, dtype=torch.double).to(device)\n",
    "        self.A_eq = torch.tensor(self.A_eq, dtype=torch.double).to(device)        \n",
    "        self.A_eq_psi = torch.tensor(self.A_eq_psi, dtype=torch.double).to(device)\n",
    "        self.cost_smoothness = torch.tensor(self.cost_smoothness, dtype=torch.double).to(device)\n",
    "        self.cost_smoothness_psi = torch.tensor(self.cost_smoothness_psi, dtype=torch.double).to(device)\n",
    "        self.lincost_smoothness_psi = torch.tensor(self.lincost_smoothness_psi, dtype=torch.double).to(device)\n",
    "    \n",
    "        self.A_nonhol = self.Pdot\n",
    "        self.A_psi = self.P\n",
    "        \n",
    "        self.lamda_x = None\n",
    "        self.lamda_y = None\n",
    "        self.lamda_psi = None\n",
    "        \n",
    "    def compute_x(self, v, psi, b_eq_x, b_eq_y):\n",
    "        b_nonhol_x = v * torch.cos(psi)\n",
    "        b_nonhol_y = v * torch.sin(psi)\n",
    "    \n",
    "        cost = self.cost_smoothness + self.rho_nonhol * torch.matmul(self.A_nonhol.T, self.A_nonhol) + self.rho_eq * torch.matmul(self.A_eq.T, self.A_eq)\n",
    "        lincost_x = -self.lamda_x - self.rho_nonhol * torch.matmul(self.A_nonhol.T, b_nonhol_x.T).T - self.rho_eq * torch.matmul(self.A_eq.T, b_eq_x.T).T\n",
    "        lincost_y = -self.lamda_y - self.rho_nonhol * torch.matmul(self.A_nonhol.T, b_nonhol_y.T).T - self.rho_eq * torch.matmul(self.A_eq.T, b_eq_y.T).T\n",
    "\n",
    "        cost_inv = torch.linalg.inv(cost)\n",
    "\n",
    "        sol_x = torch.matmul(-cost_inv, lincost_x.T).T\n",
    "        sol_y = torch.matmul(-cost_inv, lincost_y.T).T\n",
    "\n",
    "        x = torch.matmul(self.P, sol_x.T).T\n",
    "        xdot = torch.matmul(self.Pdot, sol_x.T).T\n",
    "\n",
    "        y = torch.matmul(self.P, sol_y.T).T\n",
    "        ydot = torch.matmul(self.Pdot, sol_y.T).T\n",
    "         \n",
    "        return sol_x, sol_y, x, xdot, y, ydot\n",
    "    \n",
    "    def compute_psi(self, psi, lamda_psi, psi_temp, b_eq_psi):\n",
    "        cost = self.cost_smoothness_psi + self.rho_psi * torch.matmul(self.A_psi.T, self.A_psi) + self.rho_eq * torch.matmul(self.A_eq_psi.T, self.A_eq_psi)\n",
    "        lincost_psi = -self.lamda_psi - self.rho_psi * torch.matmul(self.A_psi.T, psi_temp.T).T - self.rho_eq * torch.matmul(self.A_eq_psi.T, b_eq_psi.T).T\n",
    "\n",
    "        cost_inv = torch.linalg.inv(cost)\n",
    "\n",
    "        sol_psi = torch.matmul(-cost_inv, lincost_psi.T).T\n",
    "\n",
    "        psi = torch.matmul(self.P, sol_psi.T).T\n",
    "\n",
    "        res_psi = torch.matmul(self.A_psi, sol_psi.T).T - psi_temp\n",
    "        res_eq_psi = torch.matmul(self.A_eq_psi, sol_psi.T).T - b_eq_psi\n",
    "\n",
    "        self.lamda_psi = self.lamda_psi - self.rho_psi * torch.matmul(self.A_psi.T, res_psi.T).T - self.rho_eq * torch.matmul(self.A_eq_psi.T, res_eq_psi.T).T\n",
    "\n",
    "        return sol_psi, torch.linalg.norm(res_psi), torch.linalg.norm(res_eq_psi), psi\n",
    "\n",
    "    \n",
    "    def solve(self, fixed_params, variable_params):\n",
    "        batch_size, _ = fixed_params.size()\n",
    "        x_init, y_init, v_init, psi_init, psidot_init = torch.chunk(fixed_params, 5, dim=1)\n",
    "        x_fin, y_fin, psi_fin = torch.chunk(variable_params, 3, dim=1)\n",
    "        \n",
    "        b_eq_x = torch.cat((x_init, x_fin), dim=1)\n",
    "        b_eq_y = torch.cat((y_init, y_fin), dim=1)\n",
    "        b_eq_psi = torch.cat((psi_init, psidot_init, psi_fin), dim=1)\n",
    "        \n",
    "        v = torch.ones(batch_size, self.num, dtype=torch.double).to(self.device) * v_init\n",
    "        psi = torch.ones(batch_size, self.num, dtype=torch.double).to(self.device) * psi_init\n",
    "        xdot = v * torch.cos(psi)\n",
    "        ydot = v * torch.sin(psi)\n",
    "        \n",
    "        self.lamda_x = torch.zeros(batch_size, self.nvar, dtype=torch.double).to(self.device)\n",
    "        self.lamda_y = torch.zeros(batch_size, self.nvar, dtype=torch.double).to(self.device)\n",
    "        self.lamda_psi = torch.zeros(batch_size, self.nvar, dtype=torch.double).to(self.device)\n",
    "        \n",
    "        res_psi_arr = []\n",
    "        res_eq_psi_arr = []\n",
    "        res_eq_arr = []\n",
    "        res_nonhol_arr = []\n",
    "        for i in range(0, self.maxiter):\n",
    "            psi_temp = torch.atan2(ydot, xdot)\n",
    "            c_psi, res_psi, res_eq_psi, psi = self.compute_psi(psi, self.lamda_psi, psi_temp, b_eq_psi)\n",
    "            c_x, c_y, x, xdot, y, ydot = self.compute_x(v, psi, b_eq_x, b_eq_y)\n",
    "            \n",
    "            res_eq_psi_arr.append(res_eq_psi)\n",
    "            res_psi_arr.append(res_psi)\n",
    "            v = torch.sqrt(xdot ** 2 + ydot ** 2)\n",
    "            #v[:, 0] = v_init[:, 0]\n",
    "\n",
    "            res_eq_x = torch.matmul(self.A_eq, c_x.T).T - b_eq_x\n",
    "            res_nonhol_x = xdot - v * torch.cos(psi)\n",
    "\n",
    "            res_eq_y = torch.matmul(self.A_eq, c_y.T).T - b_eq_y\n",
    "            res_nonhol_y = ydot - v * torch.sin(psi)\n",
    "\n",
    "            res_eq_arr.append(torch.linalg.norm(torch.sqrt(res_eq_x**2 + res_eq_y**2)))\n",
    "            res_nonhol_arr.append(torch.linalg.norm(torch.sqrt(res_nonhol_x**2 + res_nonhol_y**2)))\n",
    "            \n",
    "            self.lamda_x = self.lamda_x - self.rho_eq * torch.matmul(self.A_eq.T, res_eq_x.T).T - self.rho_nonhol * torch.matmul(self.A_nonhol.T, res_nonhol_x.T).T\n",
    "            self.lamda_y = self.lamda_y - self.rho_eq * torch.matmul(self.A_eq.T, res_eq_y.T).T - self.rho_nonhol * torch.matmul(self.A_nonhol.T, res_nonhol_y.T).T\n",
    "        \n",
    "        primal_sol = torch.hstack((c_x, c_y, c_psi, v))\n",
    "        return primal_sol, None\n",
    "    \n",
    "    def objective(self, fixed_params, variable_params, y):\n",
    "        c_x = y[:, :self.nvar]\n",
    "        c_y = y[:, self.nvar:2*self.nvar]\n",
    "        c_psi = y[:, 2*self.nvar:3*self.nvar]\n",
    "        v = y[:, 3*self.nvar:]\n",
    "        \n",
    "        x_init, y_init, v_init, psi_init, psidot_init = torch.chunk(fixed_params, 5, dim=1)\n",
    "        x_fin, y_fin, psi_fin = torch.chunk(variable_params, 3, dim=1)\n",
    "        \n",
    "        x = torch.matmul(self.P, c_x.T).T\n",
    "        y = torch.matmul(self.P, c_y.T).T\n",
    "        psi = torch.matmul(self.P, c_psi.T).T\n",
    "        xdot = torch.matmul(self.Pdot, c_x.T).T\n",
    "        ydot = torch.matmul(self.Pdot, c_y.T).T\n",
    "        psidot = torch.matmul(self.Pdot, c_psi.T).T\n",
    "        xddot = torch.matmul(self.Pddot, c_x.T).T\n",
    "        yddot = torch.matmul(self.Pddot, c_y.T).T\n",
    "        psiddot = torch.matmul(self.Pddot, c_psi.T).T\n",
    "        \n",
    "        cost_nonhol = 0.5*self.rho_nonhol*torch.sum((xdot - v*torch.cos(psi)) ** 2, 1) + 0.5*self.rho_nonhol*torch.sum((ydot - v*torch.sin(psi)) ** 2, 1)\n",
    "        cost_pos = 0.5*self.rho_eq*(torch.sum((x[:, -1] - x_fin) ** 2, 1) + torch.sum((y[:, -1] - y_fin) ** 2, 1) + torch.sum((x[:, 0] - x_init) ** 2, 1) + torch.sum((y[:, 0] - y_init) ** 2, 1))\n",
    "        cost_psi = 0.5*self.rho_eq*(torch.sum((psi[:, -1] - psi_fin) ** 2, 1) + torch.sum((psi[:, 0] - psi_init) ** 2, 1)\n",
    "                                    + torch.sum((psidot[:, 0] - psidot_init) ** 2, 1))\n",
    "        #cost_v = 0.5*self.rho_eq*torch.sum((v[:, 0] - v_init) ** 2, 1)\n",
    "        cost_cancel = torch.diagonal(torch.matmul(-self.lamda_x, c_x.T) + torch.matmul(-self.lamda_y, c_y.T) + torch.matmul(-self.lamda_psi, c_psi.T))\n",
    "        \n",
    "        cost_smoothness = 0.5*self.weight_smoothness*(torch.sum(xddot**2, 1) + torch.sum(yddot**2, 1)) + 0.5*self.weight_smoothness_psi*torch.sum(psiddot**2, 1)\n",
    "        return cost_nonhol + cost_pos + cost_psi + cost_smoothness + cost_cancel #+ cost_v \n"
   ]
  },
  {
   "cell_type": "code",
   "execution_count": 132,
   "id": "4edc7dc6-5a00-44a6-bbe2-93f5500b8f3e",
   "metadata": {},
   "outputs": [],
   "source": [
    "#####################################################\n",
    "#####################################################\n",
    "##################### NEW OPTIMIZER #################\n",
    "#######################################################\n",
    "######################################################\n",
    "class OPTNode(AbstractDeclarativeNode):\n",
    "    def __init__(self, rho_eq=1.0, rho_goal=1.0, a_obs=1.0, b_obs=1.0, x_obs=[], y_obs=[], rho_obs=3.0, num_obs=0, rho_nonhol=1.0, rho_psi=1.0, maxiter=5000, weight_smoothness=1.0, weight_smoothness_psi=1.0, t_fin=2.0, num=30, bernstein_coeff_order10_new=None, device=\"cpu\"):\n",
    "        super().__init__()\n",
    "        self.rho_eq = rho_eq\n",
    "        self.rho_goal = rho_goal\n",
    "        self.rho_nonhol = rho_nonhol\n",
    "        self.rho_psi = rho_psi\n",
    "        self.rho_obs = rho_obs\n",
    "        self.maxiter = maxiter\n",
    "        self.a_obs = a_obs\n",
    "        self.b_obs = b_obs\n",
    "        self.x_obs = torch.tensor(x_obs, dtype=torch.double).to(device)\n",
    "        self.y_obs = torch.tensor(y_obs, dtype=torch.double).to(device)\n",
    "        self.num_obs = num_obs\n",
    "        self.weight_smoothness = weight_smoothness\n",
    "        self.weight_smoothness_psi = weight_smoothness_psi\n",
    "        self.bernstein_coeff_order10_new = bernstein_coeff_order10_new\n",
    "        \n",
    "        self.device = device\n",
    "        \n",
    "        self.t_fin = t_fin\n",
    "        self.num = num\n",
    "        self.t = self.t_fin / self.num\n",
    "\n",
    "        #self.num_batch = 10\n",
    "        \n",
    "        tot_time = np.linspace(0.0, self.t_fin, self.num)\n",
    "        tot_time_copy = tot_time.reshape(self.num, 1)\n",
    "        self.P, self.Pdot, self.Pddot = bernstein_coeff_order10_new(10, tot_time_copy[0], tot_time_copy[-1], tot_time_copy)\n",
    "        self.nvar = np.shape(self.P)[1]\n",
    "        \n",
    "        self.cost_smoothness = self.weight_smoothness * np.dot(self.Pddot.T, self.Pddot)\n",
    "        self.cost_smoothness_psi = self.weight_smoothness_psi * np.dot(self.Pddot.T, self.Pddot)\n",
    "        self.lincost_smoothness_psi = np.zeros(self.nvar)\n",
    "\n",
    "        self.A_eq = np.vstack((self.P[0], self.P[-1]))\n",
    "        self.A_obs = np.tile(self.P, (num_obs, 1))\n",
    "        self.A_eq_psi = np.vstack((self.P[0], self.Pdot[0], self.P[-1]))\n",
    "        \n",
    "        self.P = torch.tensor(self.P, dtype=torch.double).to(device)\n",
    "        self.Pdot = torch.tensor(self.Pdot, dtype=torch.double).to(device)\n",
    "        self.Pddot = torch.tensor(self.Pddot, dtype=torch.double).to(device)\n",
    "        self.A_obs = torch.tensor(self.A_obs, dtype=torch.double).to(device)\n",
    "        self.A_eq = torch.tensor(self.A_eq, dtype=torch.double).to(device)        \n",
    "        self.A_eq_psi = torch.tensor(self.A_eq_psi, dtype=torch.double).to(device)\n",
    "        self.cost_smoothness = torch.tensor(self.cost_smoothness, dtype=torch.double).to(device)\n",
    "        self.cost_smoothness_psi = torch.tensor(self.cost_smoothness_psi, dtype=torch.double).to(device)\n",
    "        self.lincost_smoothness_psi = torch.tensor(self.lincost_smoothness_psi, dtype=torch.double).to(device)\n",
    "    \n",
    "        self.A_nonhol = self.Pdot\n",
    "        self.A_psi = self.P\n",
    "        \n",
    "        self.lamda_x = None\n",
    "        self.lamda_y = None\n",
    "        self.lamda_psi = None\n",
    "        \n",
    "    def compute_x(self, v, psi, b_eq_x, b_eq_y):\n",
    "        b_nonhol_x = v * torch.cos(psi)\n",
    "        b_nonhol_y = v * torch.sin(psi)\n",
    "    \n",
    "        b_obs_x = self.x_obs.view(self.num * self.num_obs) + self.temp_x_obs.view(self.num * self.num_obs)\n",
    "        b_obs_y = self.y_obs.view(self.num * self.num_obs) + self.temp_y_obs.view(self.num * self.num_obs)\n",
    "    \n",
    "        cost = self.cost_smoothness + self.rho_nonhol * torch.matmul(self.A_nonhol.T, self.A_nonhol) + self.rho_eq * torch.matmul(self.A_eq.T, self.A_eq) + self.rho_obs * torch.matmul(self.A_obs.T, self.A_obs)\n",
    "        lincost_x = -self.lamda_x - self.rho_nonhol * torch.matmul(self.A_nonhol.T, b_nonhol_x.T).T - self.rho_eq * torch.matmul(self.A_eq.T, b_eq_x.T).T - self.rho_obs * torch.matmul(self.A_obs.T, b_obs_x)\n",
    "        lincost_y = -self.lamda_y - self.rho_nonhol * torch.matmul(self.A_nonhol.T, b_nonhol_y.T).T - self.rho_eq * torch.matmul(self.A_eq.T, b_eq_y.T).T - self.rho_obs * torch.matmul(self.A_obs.T, b_obs_y)\n",
    "\n",
    "        cost_inv = torch.linalg.inv(cost)\n",
    "\n",
    "        sol_x = torch.matmul(-cost_inv, lincost_x.T).T\n",
    "        sol_y = torch.matmul(-cost_inv, lincost_y.T).T\n",
    "\n",
    "        x = torch.matmul(self.P, sol_x.T).T\n",
    "        xdot = torch.matmul(self.Pdot, sol_x.T).T\n",
    "\n",
    "        y = torch.matmul(self.P, sol_y.T).T\n",
    "        ydot = torch.matmul(self.Pdot, sol_y.T).T\n",
    "         \n",
    "        return sol_x, sol_y, x, xdot, y, ydot\n",
    "    \n",
    "    def compute_psi(self, psi, lamda_psi, psi_temp, b_eq_psi):\n",
    "        cost = self.cost_smoothness_psi + self.rho_psi * torch.matmul(self.A_psi.T, self.A_psi) + self.rho_eq * torch.matmul(self.A_eq_psi.T, self.A_eq_psi)\n",
    "        lincost_psi = -self.lamda_psi - self.rho_psi * torch.matmul(self.A_psi.T, psi_temp.T).T - self.rho_eq * torch.matmul(self.A_eq_psi.T, b_eq_psi.T).T\n",
    "\n",
    "        cost_inv = torch.linalg.inv(cost)\n",
    "\n",
    "        sol_psi = torch.matmul(-cost_inv, lincost_psi.T).T\n",
    "\n",
    "        psi = torch.matmul(self.P, sol_psi.T).T\n",
    "\n",
    "        res_psi = torch.matmul(self.A_psi, sol_psi.T).T - psi_temp\n",
    "        res_eq_psi = torch.matmul(self.A_eq_psi, sol_psi.T).T - b_eq_psi\n",
    "\n",
    "        self.lamda_psi = self.lamda_psi - self.rho_psi * torch.matmul(self.A_psi.T, res_psi.T).T - self.rho_eq * torch.matmul(self.A_eq_psi.T, res_eq_psi.T).T\n",
    "\n",
    "        return sol_psi, torch.linalg.norm(res_psi), torch.linalg.norm(res_eq_psi), psi\n",
    "\n",
    "    \n",
    "    def solve(self, fixed_params, variable_params):\n",
    "        batch_size, _ = fixed_params.size()\n",
    "        x_init, y_init, v_init, psi_init, psidot_init = torch.chunk(fixed_params, 5, dim=1)\n",
    "        x_fin, y_fin, psi_fin = torch.chunk(variable_params, 3, dim=1)\n",
    "        \n",
    "        b_eq_x = torch.cat((x_init, x_fin), dim=1)\n",
    "        b_eq_y = torch.cat((y_init, y_fin), dim=1)\n",
    "        b_eq_psi = torch.cat((psi_init, psidot_init, psi_fin), dim=1)\n",
    "\n",
    "        d_obs = torch.ones(self.num_obs, self.num, dtype=torch.double).to(device)\n",
    "        alpha_obs = torch.zeros(self.num_obs, self.num, dtype=torch.double).to(device)\n",
    "        ones_tensor = torch.ones((self.num_obs, self.num), dtype=torch.double).to(device)        \n",
    "        \n",
    "        v = torch.ones(batch_size, self.num, dtype=torch.double).to(self.device) * v_init\n",
    "        psi = torch.ones(batch_size, self.num, dtype=torch.double).to(self.device) * psi_init\n",
    "        xdot = v * torch.cos(psi)\n",
    "        ydot = v * torch.sin(psi)\n",
    "        \n",
    "        self.lamda_x = torch.zeros(batch_size, self.nvar, dtype=torch.double).to(self.device)\n",
    "        self.lamda_y = torch.zeros(batch_size, self.nvar, dtype=torch.double).to(self.device)\n",
    "        self.lamda_psi = torch.zeros(batch_size, self.nvar, dtype=torch.double).to(self.device)\n",
    "        \n",
    "        res_psi_arr = []\n",
    "        res_eq_psi_arr = []\n",
    "        res_eq_arr = []\n",
    "        res_nonhol_arr = []\n",
    "        for i in range(0, self.maxiter):\n",
    "            self.temp_x_obs = d_obs * torch.cos(alpha_obs) * self.a_obs\n",
    "            self.temp_y_obs = d_obs * torch.sin(alpha_obs) * self.b_obs\n",
    "\n",
    "            psi_temp = torch.atan2(ydot, xdot)\n",
    "            c_psi, res_psi, res_eq_psi, psi = self.compute_psi(psi, self.lamda_psi, psi_temp, b_eq_psi)\n",
    "            c_x, c_y, x, xdot, y, ydot = self.compute_x(v, psi, b_eq_x, b_eq_y)\n",
    "            \n",
    "            wc_alpha = x - self.x_obs\n",
    "            ws_alpha = y - self.y_obs\n",
    "            alpha_obs = torch.atan2(ws_alpha * self.a_obs, wc_alpha * self.b_obs)\n",
    "\n",
    "            c1_d = self.rho_obs * (self.a_obs ** 2 * torch.cos(alpha_obs) ** 2 + self.b_obs ** 2 * torch.sin(alpha_obs) ** 2)\n",
    "            c2_d = self.rho_obs * (self.a_obs * wc_alpha * torch.cos(alpha_obs) + self.b_obs * ws_alpha * torch.sin(alpha_obs))\n",
    "            d_temp = c2_d / c1_d\n",
    "            d_obs = torch.max(d_temp, ones_tensor)\n",
    "            \n",
    "            res_x_obs_vec = wc_alpha - self.a_obs * d_obs * torch.cos(alpha_obs)\n",
    "            res_y_obs_vec = ws_alpha - self.b_obs * d_obs * torch.sin(alpha_obs)            \n",
    "            \n",
    "            res_eq_psi_arr.append(res_eq_psi)\n",
    "            res_psi_arr.append(res_psi)\n",
    "            v = torch.sqrt(xdot ** 2 + ydot ** 2)\n",
    "            #v[:, 0] = v_init[:, 0]\n",
    "\n",
    "            res_eq_x = torch.matmul(self.A_eq, c_x.T).T - b_eq_x\n",
    "            res_nonhol_x = xdot - v * torch.cos(psi)\n",
    "\n",
    "            res_eq_y = torch.matmul(self.A_eq, c_y.T).T - b_eq_y\n",
    "            res_nonhol_y = ydot - v * torch.sin(psi)\n",
    "\n",
    "            res_eq_arr.append(torch.linalg.norm(torch.sqrt(res_eq_x**2 + res_eq_y**2)))\n",
    "            res_nonhol_arr.append(torch.linalg.norm(torch.sqrt(res_nonhol_x**2 + res_nonhol_y**2)))\n",
    "            \n",
    "            self.lamda_x = self.lamda_x - self.rho_eq * torch.matmul(self.A_eq.T, res_eq_x.T).T - self.rho_nonhol * torch.matmul(self.A_nonhol.T, res_nonhol_x.T).T - self.rho_obs * torch.matmul(self.A_obs.T, res_x_obs_vec.view(-1))\n",
    "            self.lamda_y = self.lamda_y - self.rho_eq * torch.matmul(self.A_eq.T, res_eq_y.T).T - self.rho_nonhol * torch.matmul(self.A_nonhol.T, res_nonhol_y.T).T - self.rho_obs * torch.matmul(self.A_obs.T, res_y_obs_vec.view(-1))\n",
    "        \n",
    "        primal_sol = torch.hstack((c_x, c_y, c_psi, v))\n",
    "        return primal_sol, None\n",
    "    \n",
    "    def objective(self, fixed_params, variable_params, y):\n",
    "        c_x = y[:, :self.nvar]\n",
    "        c_y = y[:, self.nvar:2*self.nvar]\n",
    "        c_psi = y[:, 2*self.nvar:3*self.nvar]\n",
    "        v = y[:, 3*self.nvar:]        \n",
    "        \n",
    "        x_init, y_init, v_init, psi_init, psidot_init = torch.chunk(fixed_params, 5, dim=1)\n",
    "        x_fin, y_fin, psi_fin = torch.chunk(variable_params, 3, dim=1)\n",
    "        \n",
    "        x = torch.matmul(self.P, c_x.T).T\n",
    "        y = torch.matmul(self.P, c_y.T).T\n",
    "        psi = torch.matmul(self.P, c_psi.T).T\n",
    "        xdot = torch.matmul(self.Pdot, c_x.T).T\n",
    "        ydot = torch.matmul(self.Pdot, c_y.T).T\n",
    "        psidot = torch.matmul(self.Pdot, c_psi.T).T\n",
    "        xddot = torch.matmul(self.Pddot, c_x.T).T\n",
    "        yddot = torch.matmul(self.Pddot, c_y.T).T\n",
    "        psiddot = torch.matmul(self.Pddot, c_psi.T).T\n",
    "        \n",
    "        cost_nonhol = 0.5*self.rho_nonhol*torch.sum((xdot - v*torch.cos(psi)) ** 2, 1) + 0.5*self.rho_nonhol*torch.sum((ydot - v*torch.sin(psi)) ** 2, 1)\n",
    "        cost_pos = 0.5*self.rho_eq*(torch.sum((x[:, -1] - x_fin) ** 2, 1) + torch.sum((y[:, -1] - y_fin) ** 2, 1) + torch.sum((x[:, 0] - x_init) ** 2, 1) + torch.sum((y[:, 0] - y_init) ** 2, 1))\n",
    "        cost_psi = 0.5*self.rho_eq*(torch.sum((psi[:, -1] - psi_fin) ** 2, 1) + torch.sum((psi[:, 0] - psi_init) ** 2, 1)\n",
    "                                    + torch.sum((psidot[:, 0] - psidot_init) ** 2, 1))\n",
    "        #cost_v = 0.5*self.rho_eq*torch.sum((v[:, 0] - v_init) ** 2, 1)\n",
    "        cost_cancel = torch.diagonal(torch.matmul(-self.lamda_x, c_x.T) + torch.matmul(-self.lamda_y, c_y.T) + torch.matmul(-self.lamda_psi, c_psi.T))\n",
    "        \n",
    "        cost_smoothness = 0.5*self.weight_smoothness*(torch.sum(xddot**2, 1) + torch.sum(yddot**2, 1)) + 0.5*self.weight_smoothness_psi*torch.sum(psiddot**2, 1)\n",
    "        return cost_nonhol + cost_pos + cost_psi + cost_smoothness + cost_cancel #+ cost_v \n"
   ]
  },
  {
   "cell_type": "code",
   "execution_count": 146,
   "id": "55851db6-12cd-4723-aad3-eb2dbde28119",
   "metadata": {},
   "outputs": [
    {
     "data": {
      "text/plain": [
       "<Figure size 720x360 with 0 Axes>"
      ]
     },
     "metadata": {},
     "output_type": "display_data"
    },
    {
     "data": {
      "text/plain": [
       "<Figure size 720x360 with 0 Axes>"
      ]
     },
     "metadata": {},
     "output_type": "display_data"
    },
    {
     "data": {
      "text/plain": [
       "<Figure size 720x360 with 0 Axes>"
      ]
     },
     "metadata": {},
     "output_type": "display_data"
    },
    {
     "data": {
      "text/plain": [
       "<Figure size 720x360 with 0 Axes>"
      ]
     },
     "metadata": {},
     "output_type": "display_data"
    },
    {
     "data": {
      "text/plain": [
       "<Figure size 720x360 with 0 Axes>"
      ]
     },
     "metadata": {},
     "output_type": "display_data"
    },
    {
     "data": {
      "text/plain": [
       "<Figure size 720x360 with 0 Axes>"
      ]
     },
     "metadata": {},
     "output_type": "display_data"
    },
    {
     "data": {
      "text/plain": [
       "<Figure size 720x360 with 0 Axes>"
      ]
     },
     "metadata": {},
     "output_type": "display_data"
    },
    {
     "data": {
      "text/plain": [
       "<Figure size 720x360 with 0 Axes>"
      ]
     },
     "metadata": {},
     "output_type": "display_data"
    },
    {
     "data": {
      "text/plain": [
       "<Figure size 720x360 with 0 Axes>"
      ]
     },
     "metadata": {},
     "output_type": "display_data"
    },
    {
     "data": {
      "text/plain": [
       "<Figure size 720x360 with 0 Axes>"
      ]
     },
     "metadata": {},
     "output_type": "display_data"
    },
    {
     "data": {
      "text/plain": [
       "<Figure size 720x360 with 0 Axes>"
      ]
     },
     "metadata": {},
     "output_type": "display_data"
    },
    {
     "data": {
      "text/plain": [
       "<Figure size 720x360 with 0 Axes>"
      ]
     },
     "metadata": {},
     "output_type": "display_data"
    },
    {
     "data": {
      "text/plain": [
       "<Figure size 720x360 with 0 Axes>"
      ]
     },
     "metadata": {},
     "output_type": "display_data"
    },
    {
     "data": {
      "text/plain": [
       "<Figure size 720x360 with 0 Axes>"
      ]
     },
     "metadata": {},
     "output_type": "display_data"
    },
    {
     "data": {
      "text/plain": [
       "<Figure size 720x360 with 0 Axes>"
      ]
     },
     "metadata": {},
     "output_type": "display_data"
    },
    {
     "data": {
      "text/plain": [
       "<Figure size 720x360 with 0 Axes>"
      ]
     },
     "metadata": {},
     "output_type": "display_data"
    },
    {
     "data": {
      "text/plain": [
       "<Figure size 720x360 with 0 Axes>"
      ]
     },
     "metadata": {},
     "output_type": "display_data"
    },
    {
     "data": {
      "text/plain": [
       "<Figure size 720x360 with 0 Axes>"
      ]
     },
     "metadata": {},
     "output_type": "display_data"
    },
    {
     "data": {
      "text/plain": [
       "<Figure size 720x360 with 0 Axes>"
      ]
     },
     "metadata": {},
     "output_type": "display_data"
    },
    {
     "data": {
      "text/plain": [
       "<Figure size 720x360 with 0 Axes>"
      ]
     },
     "metadata": {},
     "output_type": "display_data"
    },
    {
     "data": {
      "text/plain": [
       "<Figure size 720x360 with 0 Axes>"
      ]
     },
     "metadata": {},
     "output_type": "display_data"
    },
    {
     "data": {
      "text/plain": [
       "<Figure size 720x360 with 0 Axes>"
      ]
     },
     "metadata": {},
     "output_type": "display_data"
    },
    {
     "data": {
      "text/plain": [
       "<Figure size 720x360 with 0 Axes>"
      ]
     },
     "metadata": {},
     "output_type": "display_data"
    },
    {
     "data": {
      "text/plain": [
       "<Figure size 720x360 with 0 Axes>"
      ]
     },
     "metadata": {},
     "output_type": "display_data"
    },
    {
     "data": {
      "text/plain": [
       "<Figure size 720x360 with 0 Axes>"
      ]
     },
     "metadata": {},
     "output_type": "display_data"
    },
    {
     "data": {
      "text/plain": [
       "<Figure size 720x360 with 0 Axes>"
      ]
     },
     "metadata": {},
     "output_type": "display_data"
    },
    {
     "data": {
      "text/plain": [
       "<Figure size 720x360 with 0 Axes>"
      ]
     },
     "metadata": {},
     "output_type": "display_data"
    },
    {
     "data": {
      "text/plain": [
       "<Figure size 720x360 with 0 Axes>"
      ]
     },
     "metadata": {},
     "output_type": "display_data"
    },
    {
     "data": {
      "text/plain": [
       "<Figure size 720x360 with 0 Axes>"
      ]
     },
     "metadata": {},
     "output_type": "display_data"
    },
    {
     "data": {
      "text/plain": [
       "<Figure size 720x360 with 0 Axes>"
      ]
     },
     "metadata": {},
     "output_type": "display_data"
    },
    {
     "data": {
      "text/plain": [
       "<Figure size 720x360 with 0 Axes>"
      ]
     },
     "metadata": {},
     "output_type": "display_data"
    },
    {
     "data": {
      "text/plain": [
       "<Figure size 720x360 with 0 Axes>"
      ]
     },
     "metadata": {},
     "output_type": "display_data"
    },
    {
     "data": {
      "text/plain": [
       "<Figure size 720x360 with 0 Axes>"
      ]
     },
     "metadata": {},
     "output_type": "display_data"
    },
    {
     "data": {
      "text/plain": [
       "<Figure size 720x360 with 0 Axes>"
      ]
     },
     "metadata": {},
     "output_type": "display_data"
    },
    {
     "data": {
      "text/plain": [
       "<Figure size 720x360 with 0 Axes>"
      ]
     },
     "metadata": {},
     "output_type": "display_data"
    },
    {
     "data": {
      "text/plain": [
       "<Figure size 720x360 with 0 Axes>"
      ]
     },
     "metadata": {},
     "output_type": "display_data"
    },
    {
     "data": {
      "text/plain": [
       "<Figure size 720x360 with 0 Axes>"
      ]
     },
     "metadata": {},
     "output_type": "display_data"
    },
    {
     "data": {
      "text/plain": [
       "<Figure size 720x360 with 0 Axes>"
      ]
     },
     "metadata": {},
     "output_type": "display_data"
    },
    {
     "data": {
      "text/plain": [
       "<Figure size 720x360 with 0 Axes>"
      ]
     },
     "metadata": {},
     "output_type": "display_data"
    },
    {
     "data": {
      "text/plain": [
       "<Figure size 720x360 with 0 Axes>"
      ]
     },
     "metadata": {},
     "output_type": "display_data"
    },
    {
     "data": {
      "text/plain": [
       "<Figure size 720x360 with 0 Axes>"
      ]
     },
     "metadata": {},
     "output_type": "display_data"
    },
    {
     "data": {
      "text/plain": [
       "<Figure size 720x360 with 0 Axes>"
      ]
     },
     "metadata": {},
     "output_type": "display_data"
    },
    {
     "data": {
      "text/plain": [
       "<Figure size 720x360 with 0 Axes>"
      ]
     },
     "metadata": {},
     "output_type": "display_data"
    },
    {
     "data": {
      "text/plain": [
       "<Figure size 720x360 with 0 Axes>"
      ]
     },
     "metadata": {},
     "output_type": "display_data"
    },
    {
     "data": {
      "text/plain": [
       "<Figure size 720x360 with 0 Axes>"
      ]
     },
     "metadata": {},
     "output_type": "display_data"
    },
    {
     "data": {
      "text/plain": [
       "<Figure size 720x360 with 0 Axes>"
      ]
     },
     "metadata": {},
     "output_type": "display_data"
    },
    {
     "data": {
      "text/plain": [
       "<Figure size 720x360 with 0 Axes>"
      ]
     },
     "metadata": {},
     "output_type": "display_data"
    },
    {
     "data": {
      "text/plain": [
       "<Figure size 720x360 with 0 Axes>"
      ]
     },
     "metadata": {},
     "output_type": "display_data"
    },
    {
     "data": {
      "text/plain": [
       "<Figure size 720x360 with 0 Axes>"
      ]
     },
     "metadata": {},
     "output_type": "display_data"
    },
    {
     "data": {
      "text/plain": [
       "<Figure size 720x360 with 0 Axes>"
      ]
     },
     "metadata": {},
     "output_type": "display_data"
    },
    {
     "data": {
      "text/plain": [
       "<Figure size 720x360 with 0 Axes>"
      ]
     },
     "metadata": {},
     "output_type": "display_data"
    },
    {
     "data": {
      "text/plain": [
       "<Figure size 720x360 with 0 Axes>"
      ]
     },
     "metadata": {},
     "output_type": "display_data"
    },
    {
     "data": {
      "text/plain": [
       "<Figure size 720x360 with 0 Axes>"
      ]
     },
     "metadata": {},
     "output_type": "display_data"
    },
    {
     "data": {
      "text/plain": [
       "<Figure size 720x360 with 0 Axes>"
      ]
     },
     "metadata": {},
     "output_type": "display_data"
    },
    {
     "data": {
      "text/plain": [
       "<Figure size 720x360 with 0 Axes>"
      ]
     },
     "metadata": {},
     "output_type": "display_data"
    },
    {
     "data": {
      "text/plain": [
       "<Figure size 720x360 with 0 Axes>"
      ]
     },
     "metadata": {},
     "output_type": "display_data"
    },
    {
     "data": {
      "text/plain": [
       "<Figure size 720x360 with 0 Axes>"
      ]
     },
     "metadata": {},
     "output_type": "display_data"
    },
    {
     "data": {
      "text/plain": [
       "<Figure size 720x360 with 0 Axes>"
      ]
     },
     "metadata": {},
     "output_type": "display_data"
    },
    {
     "data": {
      "text/plain": [
       "<Figure size 720x360 with 0 Axes>"
      ]
     },
     "metadata": {},
     "output_type": "display_data"
    },
    {
     "data": {
      "text/plain": [
       "<Figure size 720x360 with 0 Axes>"
      ]
     },
     "metadata": {},
     "output_type": "display_data"
    },
    {
     "data": {
      "text/plain": [
       "<Figure size 720x360 with 0 Axes>"
      ]
     },
     "metadata": {},
     "output_type": "display_data"
    },
    {
     "data": {
      "text/plain": [
       "<Figure size 720x360 with 0 Axes>"
      ]
     },
     "metadata": {},
     "output_type": "display_data"
    },
    {
     "data": {
      "text/plain": [
       "<Figure size 720x360 with 0 Axes>"
      ]
     },
     "metadata": {},
     "output_type": "display_data"
    },
    {
     "data": {
      "text/plain": [
       "<Figure size 720x360 with 0 Axes>"
      ]
     },
     "metadata": {},
     "output_type": "display_data"
    },
    {
     "data": {
      "text/plain": [
       "<Figure size 720x360 with 0 Axes>"
      ]
     },
     "metadata": {},
     "output_type": "display_data"
    },
    {
     "data": {
      "text/plain": [
       "<Figure size 720x360 with 0 Axes>"
      ]
     },
     "metadata": {},
     "output_type": "display_data"
    },
    {
     "data": {
      "text/plain": [
       "<Figure size 720x360 with 0 Axes>"
      ]
     },
     "metadata": {},
     "output_type": "display_data"
    },
    {
     "data": {
      "text/plain": [
       "<Figure size 720x360 with 0 Axes>"
      ]
     },
     "metadata": {},
     "output_type": "display_data"
    },
    {
     "data": {
      "text/plain": [
       "<Figure size 720x360 with 0 Axes>"
      ]
     },
     "metadata": {},
     "output_type": "display_data"
    },
    {
     "data": {
      "text/plain": [
       "<Figure size 720x360 with 0 Axes>"
      ]
     },
     "metadata": {},
     "output_type": "display_data"
    },
    {
     "data": {
      "text/plain": [
       "<Figure size 720x360 with 0 Axes>"
      ]
     },
     "metadata": {},
     "output_type": "display_data"
    },
    {
     "data": {
      "text/plain": [
       "<Figure size 720x360 with 0 Axes>"
      ]
     },
     "metadata": {},
     "output_type": "display_data"
    },
    {
     "data": {
      "text/plain": [
       "<Figure size 720x360 with 0 Axes>"
      ]
     },
     "metadata": {},
     "output_type": "display_data"
    },
    {
     "data": {
      "text/plain": [
       "<Figure size 720x360 with 0 Axes>"
      ]
     },
     "metadata": {},
     "output_type": "display_data"
    },
    {
     "data": {
      "text/plain": [
       "<Figure size 720x360 with 0 Axes>"
      ]
     },
     "metadata": {},
     "output_type": "display_data"
    },
    {
     "data": {
      "text/plain": [
       "<Figure size 720x360 with 0 Axes>"
      ]
     },
     "metadata": {},
     "output_type": "display_data"
    },
    {
     "data": {
      "text/plain": [
       "<Figure size 720x360 with 0 Axes>"
      ]
     },
     "metadata": {},
     "output_type": "display_data"
    },
    {
     "data": {
      "text/plain": [
       "<Figure size 720x360 with 0 Axes>"
      ]
     },
     "metadata": {},
     "output_type": "display_data"
    },
    {
     "data": {
      "text/plain": [
       "<Figure size 720x360 with 0 Axes>"
      ]
     },
     "metadata": {},
     "output_type": "display_data"
    },
    {
     "data": {
      "text/plain": [
       "<Figure size 720x360 with 0 Axes>"
      ]
     },
     "metadata": {},
     "output_type": "display_data"
    },
    {
     "data": {
      "text/plain": [
       "<Figure size 720x360 with 0 Axes>"
      ]
     },
     "metadata": {},
     "output_type": "display_data"
    },
    {
     "data": {
      "text/plain": [
       "<Figure size 720x360 with 0 Axes>"
      ]
     },
     "metadata": {},
     "output_type": "display_data"
    },
    {
     "data": {
      "text/plain": [
       "<Figure size 720x360 with 0 Axes>"
      ]
     },
     "metadata": {},
     "output_type": "display_data"
    },
    {
     "data": {
      "text/plain": [
       "<Figure size 720x360 with 0 Axes>"
      ]
     },
     "metadata": {},
     "output_type": "display_data"
    },
    {
     "data": {
      "text/plain": [
       "<Figure size 720x360 with 0 Axes>"
      ]
     },
     "metadata": {},
     "output_type": "display_data"
    },
    {
     "data": {
      "text/plain": [
       "<Figure size 720x360 with 0 Axes>"
      ]
     },
     "metadata": {},
     "output_type": "display_data"
    },
    {
     "data": {
      "text/plain": [
       "<Figure size 720x360 with 0 Axes>"
      ]
     },
     "metadata": {},
     "output_type": "display_data"
    },
    {
     "data": {
      "text/plain": [
       "<Figure size 720x360 with 0 Axes>"
      ]
     },
     "metadata": {},
     "output_type": "display_data"
    },
    {
     "data": {
      "text/plain": [
       "<Figure size 720x360 with 0 Axes>"
      ]
     },
     "metadata": {},
     "output_type": "display_data"
    },
    {
     "data": {
      "text/plain": [
       "<Figure size 720x360 with 0 Axes>"
      ]
     },
     "metadata": {},
     "output_type": "display_data"
    },
    {
     "data": {
      "text/plain": [
       "<Figure size 720x360 with 0 Axes>"
      ]
     },
     "metadata": {},
     "output_type": "display_data"
    },
    {
     "data": {
      "text/plain": [
       "<Figure size 720x360 with 0 Axes>"
      ]
     },
     "metadata": {},
     "output_type": "display_data"
    },
    {
     "data": {
      "text/plain": [
       "<Figure size 720x360 with 0 Axes>"
      ]
     },
     "metadata": {},
     "output_type": "display_data"
    },
    {
     "data": {
      "text/plain": [
       "<Figure size 720x360 with 0 Axes>"
      ]
     },
     "metadata": {},
     "output_type": "display_data"
    },
    {
     "data": {
      "text/plain": [
       "<Figure size 720x360 with 0 Axes>"
      ]
     },
     "metadata": {},
     "output_type": "display_data"
    },
    {
     "data": {
      "text/plain": [
       "<Figure size 720x360 with 0 Axes>"
      ]
     },
     "metadata": {},
     "output_type": "display_data"
    },
    {
     "data": {
      "text/plain": [
       "<Figure size 720x360 with 0 Axes>"
      ]
     },
     "metadata": {},
     "output_type": "display_data"
    },
    {
     "data": {
      "text/plain": [
       "<Figure size 720x360 with 0 Axes>"
      ]
     },
     "metadata": {},
     "output_type": "display_data"
    },
    {
     "data": {
      "text/plain": [
       "<Figure size 720x360 with 0 Axes>"
      ]
     },
     "metadata": {},
     "output_type": "display_data"
    },
    {
     "data": {
      "text/plain": [
       "<Figure size 720x360 with 0 Axes>"
      ]
     },
     "metadata": {},
     "output_type": "display_data"
    }
   ],
   "source": [
    "for i in range(100):\n",
    "    x_init, y_init, v_init, psi_init, psidot_init = 0.0, 0.0, 0.0, 0.0, 0.0\n",
    "    x_fin, y_fin, psi_fin = 30  + np.random.rand() * 70, -3 + np.random.rand() * 5, 0.0\n",
    "    # sol = problem.solve(fixed_params, variable_params)\n",
    "    device = \"cpu\"\n",
    "\n",
    "    num_obs = np.random.randint(1, 5)\n",
    "    x_obs = []\n",
    "    y_obs = []\n",
    "    for j in range(num_obs):        \n",
    "        x_obs.append(5 + np.random.rand() * x_fin)\n",
    "        y_obs.append(-2 + np.random.rand() * 2)\n",
    "    x_obs = np.array(x_obs)\n",
    "    y_obs = np.array(y_obs)\n",
    "    a_obs = 3.0\n",
    "    b_obs = 3.0\n",
    "    rho_obs = 1.0\n",
    "\n",
    "    x_obs = np.ones((num_obs, num)) * x_obs[:, np.newaxis]\n",
    "    y_obs = np.ones((num_obs, num)) * y_obs[:, np.newaxis]\n",
    "\n",
    "    problem = OPTNode(x_obs=x_obs, y_obs=y_obs, a_obs=a_obs, b_obs=b_obs, num_obs=num_obs, rho_obs=rho_obs, rho_eq=10, t_fin=9.0, num=pred_len, bernstein_coeff_order10_new=bernstein_coeff_order10_new, device = \"cpu\")\n",
    "    problem2 = OPTNode2(rho_eq=10, t_fin=9.0, num=pred_len, bernstein_coeff_order10_new=bernstein_coeff_order10_new, device = \"cpu\")\n",
    "    \n",
    "    fixed_params = torch.tensor([x_init, y_init, v_init, psi_init, psidot_init], dtype=torch.double).reshape(1, 5)\n",
    "    variable_params = torch.tensor([x_fin, y_fin, psi_fin], dtype=torch.double).reshape(1, 3)\n",
    "    sol = problem.solve(fixed_params, variable_params)[0]\n",
    "    sol2 = problem2.solve(fixed_params, variable_params)[0]\n",
    "    # Compute final trajectory\n",
    "    x_pred = torch.matmul(torch.tensor(P), sol[:, :nvar].transpose(0, 1))\n",
    "    y_pred = torch.matmul(torch.tensor(P), sol[:, nvar:2*nvar].transpose(0, 1))\n",
    "\n",
    "    x_pred2 = torch.matmul(torch.tensor(P), sol2[:, :nvar].transpose(0, 1))\n",
    "    y_pred2 = torch.matmul(torch.tensor(P), sol2[:, nvar:2*nvar].transpose(0, 1))\n",
    "    \n",
    "    \n",
    "    fig, (ax1, ax2) = plt.subplots(1, 2, figsize=(10,5)) # note we must use plt.subplots, not plt.subplot\n",
    "    for ind in range(num_obs):\n",
    "        circle1 = plt.Circle((x_obs[ind][0], y_obs[ind][0]), a_obs, color='orange')\n",
    "        ax1.add_patch(circle1)\n",
    "        circle2 = plt.Circle((x_obs[ind][0], y_obs[ind][0]), a_obs, color='orange')\n",
    "        ax2.add_patch(circle2)\n",
    "    ax1.scatter(x_pred, y_pred)\n",
    "    ax1.set_title(\"With collision avoidance\")\n",
    "    ax2.scatter(x_pred2, y_pred2)\n",
    "    ax2.set_title(\"Without collision avoidance\")\n",
    "    # plt.axis('equal')\n",
    "    ax1.set_xlim([-20, 100])\n",
    "    ax1.set_ylim([-50, 50])\n",
    "    ax2.set_xlim([-20, 100])\n",
    "    ax2.set_ylim([-50, 50])\n",
    "    plt.savefig(f\"figs/{i}.png\")\n",
    "    plt.clf()"
   ]
  },
  {
   "cell_type": "code",
   "execution_count": null,
   "id": "475e72c0-b820-4fec-8647-2845ca7bab7d",
   "metadata": {},
   "outputs": [
    {
     "name": "stdout",
     "output_type": "stream",
     "text": [
      "torch.Size([30, 11]) RARA\n"
     ]
    }
   ],
   "source": []
  },
  {
   "cell_type": "code",
   "execution_count": null,
   "id": "8cc3ab08-2671-47ad-8da0-ccc8214093ca",
   "metadata": {},
   "outputs": [
    {
     "data": {
      "text/plain": [
       "(-3.9999650913160583, 83.99996491092192, -6.924500498475947, 6.61545240468933)"
      ]
     },
     "execution_count": 125,
     "metadata": {},
     "output_type": "execute_result"
    },
    {
     "data": {
      "image/png": "[encoded data removed]",
      "text/plain": [
       "<Figure size 432x288 with 1 Axes>"
      ]
     },
     "metadata": {
      "needs_background": "light"
     },
     "output_type": "display_data"
    }
   ],
   "source": [
    "\n",
    "# plt.scatter()"
   ]
  },
  {
   "cell_type": "code",
   "execution_count": null,
   "id": "1cff5587-e5c7-4f51-95ea-c88845a5620e",
   "metadata": {},
   "outputs": [],
   "source": [
    "#####################################################\n",
    "#####################################################\n",
    "##################### OLD OPTIMIZER #################\n",
    "#######################################################\n",
    "######################################################\n",
    "\n",
    "class OPTNode(AbstractDeclarativeNode):\n",
    "    def __init__(self, P, Pddot, A_eq, A_obs, Q_smoothness, x_obs, y_obs, num=12, num_obs=4, nvar=11, a_obs=1.0, b_obs=1.0, rho_obs=0.3, rho_eq=10.0, weight_smoothness=10, maxiter=300, eps=1e-7, num_tot=48):\n",
    "        super().__init__()\n",
    "        self.P = torch.tensor(P, dtype=torch.double).to(device)\n",
    "        self.Pddot = torch.tensor(Pddot, dtype=torch.double).to(device)\n",
    "        self.A_eq = torch.tensor(A_eq, dtype=torch.double).to(device)\n",
    "        self.A_obs = torch.tensor(A_obs, dtype=torch.double).to(device)\n",
    "        self.Q_smoothness = torch.tensor(Q_smoothness, dtype=torch.double).to(device)\n",
    "        self.x_obs = torch.tensor(x_obs, dtype=torch.double).to(device)\n",
    "        self.y_obs = torch.tensor(y_obs, dtype=torch.double).to(device)\n",
    "        \n",
    "        self.num = num\n",
    "        self.num_obs = num_obs\n",
    "        self.eps = eps\n",
    "        self.nvar = nvar        \n",
    "        self.a_obs = a_obs\n",
    "        self.b_obs = b_obs        \n",
    "        self.rho_eq = rho_eq\n",
    "        self.num_obs = num_obs\n",
    "        self.maxiter = maxiter\n",
    "        self.num_tot = num_tot\n",
    "        self.rho_obs = rho_obs\n",
    "        self.weight_smoothness = weight_smoothness\n",
    "        \n",
    "    def objective(self, b, lamda_x, lamda_y, y):  \n",
    "        batch_size, _ = b.size()\n",
    "        b = b.transpose(0, 1)\n",
    "        y = y.transpose(0, 1)\n",
    "        lamda_x = lamda_x.transpose(0, 1)\n",
    "        lamda_y = lamda_y.transpose(0, 1)\n",
    "        bx_eq_tensor, by_eq_tensor = torch.split(b, 6, dim=0)\n",
    "        ones_tensor = torch.ones(self.num_tot, batch_size, dtype=torch.double).to(device)\n",
    "\n",
    "        c_x = y[0:self.nvar]\n",
    "        c_y = y[self.nvar:2 * self.nvar]\n",
    "        alpha_obs = y[2 * self.nvar: 2 * self.nvar + self.num_tot]\n",
    "        d_obs = y[2 * self.nvar + self.num_tot:]\n",
    "\n",
    "        cost_smoothness_x = 0.5 * self.weight_smoothness * torch.diag(torch.matmul(c_x.T, torch.matmul(self.Q_smoothness, c_x)))\n",
    "        cost_smoothness_y = 0.5 * self.weight_smoothness * torch.diag(torch.matmul(c_y.T, torch.matmul(self.Q_smoothness, c_y)))\n",
    "\n",
    "        self.temp_x_obs = d_obs * torch.cos(alpha_obs) * self.a_obs\n",
    "        b_obs_x = self.x_obs.view(-1, 1) + self.temp_x_obs\n",
    "\n",
    "        self.temp_y_obs = d_obs * torch.sin(alpha_obs) * self.b_obs\n",
    "        b_obs_y = self.y_obs.view(-1, 1) + self.temp_y_obs\n",
    "\n",
    "        cost_obs_x = 0.5 * self.rho_obs * (torch.sum((torch.matmul(self.A_obs, c_x) - b_obs_x) ** 2, axis=0))\n",
    "        cost_obs_y = 0.5 * self.rho_obs * (torch.sum((torch.matmul(self.A_obs, c_y) - b_obs_y) ** 2, axis=0))\n",
    "        cost_slack = self.rho_obs * torch.sum(torch.max(1 - d_obs, ones_tensor), axis=0)\n",
    "\n",
    "        cost_eq_x = 0.5 * self.rho_eq * torch.sum((torch.matmul(self.A_eq, c_x) - bx_eq_tensor) ** 2, axis=0)\n",
    "        cost_eq_y = 0.5 * self.rho_eq * torch.sum((torch.matmul(self. A_eq, c_y) - by_eq_tensor) ** 2, axis=0)\n",
    "\n",
    "        cost_x = cost_smoothness_x + cost_obs_x + cost_eq_x - torch.diag(torch.matmul(lamda_x.transpose(0, 1), c_x))\n",
    "        cost_y = cost_smoothness_y + cost_obs_y + cost_eq_y - torch.diag(torch.matmul(lamda_y.transpose(0, 1), c_y))\n",
    "        cost = cost_x + cost_y + self.eps * torch.sum(c_x ** 2, axis=0) + self.eps * torch.sum(c_y ** 2, axis=0) + self.eps * torch.sum(d_obs ** 2, axis=0) + self.eps * torch.sum(alpha_obs ** 2, axis=0) + cost_slack\n",
    "        return cost\n",
    "    \n",
    "    def optimize(self, b, lamda_x, lamda_y):\n",
    "        bx_eq_tensor, by_eq_tensor = torch.split(b, 6, dim=0)\n",
    "        \n",
    "        d_obs = torch.ones(self.num_obs, self.num, dtype=torch.double).to(device)\n",
    "        alpha_obs = torch.zeros(self.num_obs, self.num, dtype=torch.double).to(device)\n",
    "        ones_tensor = torch.ones((self.num_obs, self.num), dtype=torch.double).to(device)\n",
    "        cost_smoothness = self.weight_smoothness * torch.matmul(self.Pddot.T, self.Pddot)\n",
    "        cost = cost_smoothness + self.rho_obs * torch.matmul(self.A_obs.T, self.A_obs) + self.rho_eq * torch.matmul(self.A_eq.T, self.A_eq)\n",
    "\n",
    "        for i in range(self.maxiter):\n",
    "            temp_x_obs = d_obs * torch.cos(alpha_obs) * self.a_obs\n",
    "            temp_y_obs = d_obs * torch.sin(alpha_obs) * self.b_obs\n",
    "\n",
    "            b_obs_x = self.x_obs.view(self.num * self.num_obs) + temp_x_obs.view(self.num * self.num_obs)\n",
    "            b_obs_y = self.y_obs.view(self.num * self.num_obs) + temp_y_obs.view(self.num * self.num_obs)\n",
    "\n",
    "            lincost_x = -lamda_x - self.rho_obs * torch.matmul(self.A_obs.T, b_obs_x) - self.rho_eq * torch.matmul(self.A_eq.T, bx_eq_tensor)\n",
    "            lincost_y = -lamda_y - self.rho_obs * torch.matmul(self.A_obs.T, b_obs_y) - self.rho_eq * torch.matmul(self.A_eq.T, by_eq_tensor)\n",
    "\n",
    "            lincost_x = lincost_x.view(-1, 1)\n",
    "            lincost_y = lincost_y.view(-1, 1)\n",
    "\n",
    "            sol_x, _ = torch.solve(lincost_x, -cost)\n",
    "            sol_y, _ = torch.solve(lincost_y, -cost)\n",
    "\n",
    "            sol_x = sol_x.view(-1)\n",
    "            sol_y = sol_y.view(-1)\n",
    "\n",
    "            x = torch.matmul(self.P, sol_x)\n",
    "            y = torch.matmul(self.P, sol_y)\n",
    "\n",
    "            wc_alpha = x - self.x_obs\n",
    "            ws_alpha = y - self.y_obs\n",
    "            alpha_obs = torch.atan2(ws_alpha * self.a_obs, wc_alpha * self.b_obs)\n",
    "\n",
    "            c1_d = self.rho_obs * (self.a_obs ** 2 * torch.cos(alpha_obs) ** 2 + self.b_obs ** 2 * torch.sin(alpha_obs) ** 2)\n",
    "            c2_d = self.rho_obs * (self.a_obs * wc_alpha * torch.cos(alpha_obs) + self.b_obs * ws_alpha * torch.sin(alpha_obs))\n",
    "            d_temp = c2_d / c1_d\n",
    "            d_obs = torch.max(d_temp, ones_tensor)\n",
    "\n",
    "            res_x_obs_vec = wc_alpha - self.a_obs * d_obs * torch.cos(alpha_obs)\n",
    "            res_y_obs_vec = ws_alpha - self.b_obs * d_obs * torch.sin(alpha_obs)\n",
    "\n",
    "            res_eq_x_vec = torch.matmul(self.A_eq, sol_x) - bx_eq_tensor\n",
    "            res_eq_y_vec = torch.matmul(self.A_eq, sol_y) - by_eq_tensor\n",
    "\n",
    "            lamda_x -= self.rho_obs * torch.matmul(self.A_obs.T, res_x_obs_vec.view(-1)) + self.rho_eq * torch.matmul(self.A_eq.T, res_eq_x_vec)\n",
    "            lamda_y -= self.rho_obs * torch.matmul(self.A_obs.T, res_y_obs_vec.view(-1)) + self.rho_eq * torch.matmul(self.A_eq.T, res_eq_y_vec)\n",
    "\n",
    "        sol = torch.cat([sol_x, sol_y, alpha_obs.view(-1), d_obs.view(-1)])\n",
    "        return sol\n",
    "\n",
    "    def solve(self, b, lamda_x, lamda_y):\n",
    "        batch_size, _ = b.size()\n",
    "        b = b.transpose(0, 1)\n",
    "        lamda_x = lamda_x.transpose(0, 1)\n",
    "        lamda_y = lamda_y.transpose(0, 1)\n",
    "        y = torch.zeros(batch_size, 2 * self.nvar + 2 * self.num_tot, dtype=torch.double).to(device)\n",
    "        for i in range(batch_size):\n",
    "            b_cur = b[:, i]\n",
    "            lamda_x_cur = lamda_x[:, i]\n",
    "            lamda_y_cur = lamda_y[:, i]\n",
    "            sol = self.optimize(b_cur, lamda_x_cur, lamda_y_cur)\n",
    "            y[i, :] = sol\n",
    "        return y, None"
   ]
  }
 ],
 "metadata": {
  "kernelspec": {
   "display_name": "Python 3 (ipykernel)",
   "language": "python",
   "name": "python3"
  },
  "language_info": {
   "codemirror_mode": {
    "name": "ipython",
    "version": 3
   },
   "file_extension": ".py",
   "mimetype": "text/x-python",
   "name": "python",
   "nbconvert_exporter": "python",
   "pygments_lexer": "ipython3",
   "version": "3.8.10"
  }
 },
 "nbformat": 4,
 "nbformat_minor": 5
}
