{
 "cells": [
  {
   "cell_type": "code",
   "execution_count": 3,
   "id": "6a3d9e94-986f-40d8-9939-062c3bb47b0e",
   "metadata": {},
   "outputs": [],
   "source": [
    "import os\n",
    "import sys\n",
    "sys.path.append(\"./ddn/\")\n",
    "sys.path.append(\"./\")\n",
    "import warnings\n",
    "warnings.filterwarnings('ignore')\n",
    "\n",
    "import torch\n",
    "import numpy as np\n",
    "import scipy.special\n",
    "import torch.nn as nn\n",
    "import torch.nn.functional as F\n",
    "import matplotlib.pyplot as plt\n",
    "\n",
    "from scipy.linalg import block_diag\n",
    "from torch.utils.data import Dataset, DataLoader\n",
    "from utils.bernstein import bernstein_coeff_order10_new\n",
    "from ddn.ddn.pytorch.node import AbstractDeclarativeNode\n",
    "from utils.models.ddn import *\n",
    "from utils.nodes.OPTNode import *"
   ]
  },
  {
   "cell_type": "code",
   "execution_count": null,
   "id": "4b7ccba6-0812-4760-b6bb-ff7b0684e026",
   "metadata": {},
   "outputs": [],
   "source": [
    "%load_ext autoreload\n",
    "%autoreload 2"
   ]
  },
  {
   "cell_type": "code",
   "execution_count": null,
   "id": "7e5b4bff-df15-4bdb-aeea-14af6f012f58",
   "metadata": {},
   "outputs": [],
   "source": [
    "rho_obs = 1.2\n",
    "rho_eq = 10.0\n",
    "weight_smoothness = 10\n",
    "\n",
    "pred_len = 30\n",
    "num = 30\n",
    "t_fin = 2.0\n",
    "a_obs = 1.0\n",
    "b_obs = 1.0\n",
    "\n",
    "tot_time = np.linspace(0.0, t_fin, num)\n",
    "tot_time_copy = tot_time.reshape(num, 1)\n",
    "P, Pdot, Pddot = bernstein_coeff_order10_new(10, tot_time_copy[0], tot_time_copy[-1], tot_time_copy)\n",
    "nvar = np.shape(P)[1]\n",
    "\n",
    "x_obs_temp = np.hstack((-10000.0, 10000.79, 30000.0, 10000.0))\n",
    "y_obs_temp = np.hstack((-10000.0, 10000.0, -30000.80, 10000.0))\n",
    "\n",
    "num_obs = np.shape(x_obs_temp)[0]\n",
    "\n",
    "x_obs = np.ones((num_obs, num)) * x_obs_temp[:, np.newaxis]\n",
    "y_obs = np.ones((num_obs, num)) * y_obs_temp[:, np.newaxis]\n",
    "\n",
    "obs_inp_list = []\n",
    "for i in range(num_obs):\n",
    "    obs_inp_list.extend([x_obs_temp[i], y_obs_temp[i], a_obs])\n",
    "    \n",
    "A_obs = np.tile(P, (num_obs, 1))\n",
    "A_eq = np.vstack((P[0], Pdot[0], Pddot[0], P[-1], Pdot[-1], Pddot[-1]))\n",
    "Q_smoothness = np.dot(Pddot.T, Pddot)"
   ]
  },
  {
   "cell_type": "code",
   "execution_count": null,
   "id": "e31281d7-75d8-4b8f-8312-ee647a0076f4",
   "metadata": {},
   "outputs": [],
   "source": [
    "problem = OPTNode(rho_eq=10, t_fin=9.0, num=pred_len, bernstein_coeff_order10_new=bernstein_coeff_order10_new, device = \"cpu\")\n",
    "opt_layer = DeclarativeLayer(problem)"
   ]
  },
  {
   "cell_type": "code",
   "execution_count": null,
   "id": "d72254ee-e36d-486f-942e-4fdef4f34ec4",
   "metadata": {},
   "outputs": [],
   "source": [
    "x_init, y_init, v_init, psi_init, psidot_init = 0.0, 0.0, 0.0, 0.0, 0.0\n",
    "x_fin, y_fin, psi_fin = 10.0, 10.0, 0.0\n",
    "# sol = problem.solve(fixed_params, variable_params)"
   ]
  },
  {
   "cell_type": "code",
   "execution_count": null,
   "id": "e406bbd3-4c73-45d5-a79a-4731ce30adea",
   "metadata": {},
   "outputs": [],
   "source": [
    "fixed_params = torch.tensor([x_init, y_init, v_init, psi_init, psidot_init], dtype=torch.double).reshape(1, 5)\n",
    "variable_params = torch.tensor([x_fin, y_fin, psi_fin], dtype=torch.double).reshape(1, 3)\n",
    "sol = problem.solve(fixed_params, variable_params)"
   ]
  },
  {
   "cell_type": "code",
   "execution_count": null,
   "id": "40a9dce3-6a14-4c02-a21b-78b498c0581d",
   "metadata": {},
   "outputs": [],
   "source": [
    "class toy(nn.Module):\n",
    "    def __init__(self, opt_layer):\n",
    "        super(toy, self).__init__()\n",
    "        self.opt_layer = opt_layer\n",
    "        self.activation = nn.ReLU()\n",
    "        self.layer = nn.Linear(63, 63)\n",
    "        # self.mask = torch.tensor([[0.0, 0.0, 1.0]], dtype=torch.double)\n",
    "    \n",
    "    def forward(self, fixed_params, variable_params):\n",
    "        return self.activation(self.layer(self.opt_layer(fixed_params, variable_params)))\n",
    "    \n",
    "model = toy(opt_layer)"
   ]
  },
  {
   "cell_type": "code",
   "execution_count": 11,
   "id": "0ed16032-ae8e-46b1-9ebe-f0150d6cc563",
   "metadata": {},
   "outputs": [],
   "source": [
    "model.double()\n",
    "out = model(fixed_params, variable_params)\n",
    "loss = nn.MSELoss()\n",
    "criterion = loss(out, torch.rand(1, 63, dtype=torch.double))\n",
    "optimizer = torch.optim.SGD(model.parameters(), lr = 0.001)\n",
    "optimizer.zero_grad()\n",
    "criterion.backward()\n",
    "optimizer.step()"
   ]
  },
  {
   "cell_type": "code",
   "execution_count": null,
   "id": "78f49d2c-4918-417c-bc77-872365da87f6",
   "metadata": {},
   "outputs": [],
   "source": []
  },
  {
   "cell_type": "code",
   "execution_count": 15,
   "id": "280d1e0b-82ce-41ed-9558-36826cb4b277",
   "metadata": {},
   "outputs": [
    {
     "name": "stdout",
     "output_type": "stream",
     "text": [
      "Requirement already satisfied: torchviz in /home/vikrant/.local/lib/python3.8/site-packages (0.0.2)\n",
      "Requirement already satisfied: graphviz in /home/vikrant/.local/lib/python3.8/site-packages (from torchviz) (0.20.1)\n",
      "Requirement already satisfied: torch in /home/vikrant/.local/lib/python3.8/site-packages (from torchviz) (1.12.1)\n",
      "Requirement already satisfied: typing-extensions in /home/vikrant/.local/lib/python3.8/site-packages (from torch->torchviz) (4.3.0)\n"
     ]
    },
    {
     "data": {
      "text/plain": [
       "'rnn_torchviz.png'"
      ]
     },
     "execution_count": 15,
     "metadata": {},
     "output_type": "execute_result"
    }
   ],
   "source": [
    "!pip3 install torchviz\n",
    "from torchviz import make_dot\n",
    "make_dot(out, params=dict(list(model.named_parameters()))).render(\"rnn_torchviz\", format=\"png\")"
   ]
  },
  {
   "cell_type": "code",
   "execution_count": 16,
   "id": "18c701b4-ae7e-4a79-8eb2-99bd9664ad17",
   "metadata": {},
   "outputs": [
    {
     "name": "stdout",
     "output_type": "stream",
     "text": [
      "\n",
      "Tracing back tensors:\n",
      "<MseLossBackward0 object at 0x7f996afa23a0>\n",
      "<ReluBackward0 object at 0x7f996aff3880>\n",
      "<AddmmBackward0 object at 0x7f996aff34f0>\n",
      "<AccumulateGrad object at 0x7f996aff3790>\n",
      "Tensor with grad found: Parameter containing:\n",
      "tensor([ 0.0438, -0.1053, -0.0841, -0.0398,  0.0519, -0.1223,  0.0986,  0.0224,\n",
      "        -0.0734,  0.0217,  0.0735, -0.0200,  0.0392,  0.0472,  0.0986, -0.0484,\n",
      "        -0.1041,  0.0016,  0.0236, -0.0003,  0.0485,  0.0331, -0.0179,  0.0413,\n",
      "        -0.1136, -0.0300,  0.0538, -0.0665,  0.1141, -0.0791, -0.1090,  0.0496,\n",
      "        -0.0140, -0.1150,  0.0695,  0.0011,  0.0587, -0.0418, -0.0989,  0.0271,\n",
      "         0.0673, -0.0161, -0.0187, -0.1251, -0.0267, -0.0437, -0.1186,  0.0491,\n",
      "         0.1027, -0.0625, -0.0443, -0.0867,  0.0442, -0.0863, -0.0922, -0.0005,\n",
      "        -0.0117, -0.0655,  0.0379, -0.1023,  0.0304,  0.1150, -0.1227],\n",
      "       dtype=torch.float64, requires_grad=True)\n",
      " - gradient: tensor([ 0.0000,  0.0000,  0.0554,  0.0000,  0.0530,  0.0463,  0.1020,  0.0000,\n",
      "        -0.0143, -0.0052,  0.0000,  0.0211,  0.0000,  0.0206,  0.0000, -0.0119,\n",
      "        -0.0173,  0.0674,  0.0000,  0.0046,  0.0000,  0.0000,  0.0000, -0.0058,\n",
      "         0.1089,  0.0332,  0.0583,  0.0527,  0.0000,  0.0000,  0.0383,  0.0139,\n",
      "         0.0000,  0.0556,  0.0349,  0.0000,  0.0462, -0.0123,  0.0000,  0.0547,\n",
      "         0.0000,  0.0000,  0.0746,  0.0000,  0.0000,  0.0000,  0.0428,  0.0000,\n",
      "         0.0000,  0.0000,  0.0008,  0.0000,  0.0055,  0.1026,  0.0000,  0.0688,\n",
      "         0.0536,  0.0000,  0.0000,  0.0000,  0.0629, -0.0207, -0.0008],\n",
      "       dtype=torch.float64)\n",
      "\n",
      "<TBackward0 object at 0x7f996aff3730>\n",
      "<AccumulateGrad object at 0x7f996aff37f0>\n",
      "Tensor with grad found: Parameter containing:\n",
      "tensor([[ 0.0885, -0.0341,  0.1042,  ..., -0.0194, -0.0431, -0.1088],\n",
      "        [-0.0328,  0.0470,  0.0045,  ..., -0.0960, -0.0988,  0.0487],\n",
      "        [ 0.0312,  0.0275,  0.1147,  ...,  0.0080, -0.0585, -0.1248],\n",
      "        ...,\n",
      "        [ 0.0175,  0.1254,  0.0127,  ...,  0.0385, -0.0119, -0.1216],\n",
      "        [ 0.1097,  0.0996,  0.1201,  ...,  0.1117,  0.0593, -0.1182],\n",
      "        [-0.0098,  0.0327, -0.0981,  ..., -0.0551, -0.0648, -0.0341]],\n",
      "       dtype=torch.float64, requires_grad=True)\n",
      " - gradient: tensor([[ 0.0000e+00,  0.0000e+00,  0.0000e+00,  ...,  0.0000e+00,\n",
      "          0.0000e+00,  0.0000e+00],\n",
      "        [ 0.0000e+00,  0.0000e+00,  0.0000e+00,  ...,  0.0000e+00,\n",
      "          0.0000e+00,  0.0000e+00],\n",
      "        [ 8.0737e-10,  6.8841e-02,  1.3894e-01,  ...,  6.4506e-02,\n",
      "          6.3797e-02,  6.3182e-02],\n",
      "        ...,\n",
      "        [ 9.1731e-10,  7.8216e-02,  1.5786e-01,  ...,  7.3290e-02,\n",
      "          7.2485e-02,  7.1785e-02],\n",
      "        [-3.0120e-10, -2.5682e-02, -5.1833e-02,  ..., -2.4064e-02,\n",
      "         -2.3800e-02, -2.3570e-02],\n",
      "        [-1.1349e-11, -9.6772e-04, -1.9531e-03,  ..., -9.0677e-04,\n",
      "         -8.9681e-04, -8.8816e-04]], dtype=torch.float64)\n",
      "\n"
     ]
    }
   ],
   "source": [
    "print()\n",
    "print('Tracing back tensors:')\n",
    "def getBack(var_grad_fn):\n",
    "    print(var_grad_fn)\n",
    "    for n in var_grad_fn.next_functions:\n",
    "        if n[0]:\n",
    "            try:\n",
    "                tensor = getattr(n[0], 'variable')\n",
    "                print(n[0])\n",
    "                print('Tensor with grad found:', tensor)\n",
    "                print(' - gradient:', tensor.grad)\n",
    "                print()\n",
    "            except AttributeError as e:\n",
    "                getBack(n[0])\n",
    "\n",
    "getBack(criterion.grad_fn)"
   ]
  }
 ],
 "metadata": {
  "kernelspec": {
   "display_name": "Python 3 (ipykernel)",
   "language": "python",
   "name": "python3"
  },
  "language_info": {
   "codemirror_mode": {
    "name": "ipython",
    "version": 3
   },
   "file_extension": ".py",
   "mimetype": "text/x-python",
   "name": "python",
   "nbconvert_exporter": "python",
   "pygments_lexer": "ipython3",
   "version": "3.8.10"
  }
 },
 "nbformat": 4,
 "nbformat_minor": 5
}
