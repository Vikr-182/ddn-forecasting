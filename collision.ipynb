{
 "cells": [
  {
   "cell_type": "code",
   "execution_count": 4,
   "id": "247dc2f7-f824-4441-9328-96298f1e33a9",
   "metadata": {},
   "outputs": [],
   "source": [
    "import os\n",
    "import sys\n",
    "sys.path.append(\"./ddn/\")\n",
    "sys.path.append(\"./\")\n",
    "import warnings\n",
    "warnings.filterwarnings('ignore')\n",
    "\n",
    "import torch\n",
    "import numpy as np\n",
    "import scipy.special\n",
    "import torch.nn as nn\n",
    "import torch.nn.functional as F\n",
    "import matplotlib.pyplot as plt\n",
    "import pandas as pd\n",
    "\n",
    "from scipy.linalg import block_diag\n",
    "from torch.utils.data import Dataset, DataLoader\n",
    "from utils.bernstein import bernstein_coeff_order10_new\n",
    "from ddn.ddn.pytorch.node import AbstractDeclarativeNode\n",
    "from utils.models.ddn import *\n",
    "from utils.nodes.OPTNode import *"
   ]
  },
  {
   "cell_type": "code",
   "execution_count": 2,
   "id": "a43122d5-00f0-4cea-8492-42490952da62",
   "metadata": {},
   "outputs": [],
   "source": [
    "%load_ext autoreload\n",
    "%autoreload 2"
   ]
  },
  {
   "cell_type": "code",
   "execution_count": 5,
   "id": "567805b6-b75f-4cbc-a4a9-058f037212f7",
   "metadata": {},
   "outputs": [],
   "source": [
    "from av2.datasets.motion_forecasting.data_schema import ArgoverseScenario, ObjectState, ObjectType, Track, TrackCategory\n",
    "from typing import List, Tuple\n",
    "\n",
    "def _load_tracks_from_tabular_format(tracks_df: pd.DataFrame) -> List[Track]:\n",
    "    \"\"\"Load tracks from tabular data format.\n",
    "    Args:\n",
    "        tracks_df: DataFrame containing all track data in a tabular format.\n",
    "    Returns:\n",
    "        All tracks associated with the scenario.\n",
    "    \"\"\"\n",
    "    tracks: List[Track] = []\n",
    "\n",
    "    for track_id, track_df in tracks_df.groupby(\"track_id\"):\n",
    "\n",
    "        observed_states: List[bool] = track_df.loc[:, \"observed\"].values.tolist()\n",
    "        object_type: ObjectType = ObjectType(track_df[\"object_type\"].iloc[0])\n",
    "        object_category: TrackCategory = TrackCategory(track_df[\"object_category\"].iloc[0])\n",
    "        timesteps: List[int] = track_df.loc[:, \"timestep\"].values.tolist()\n",
    "        positions: List[Tuple[float, float]] = list(\n",
    "            zip(\n",
    "                track_df.loc[:, \"position_x\"].values.tolist(),\n",
    "                track_df.loc[:, \"position_y\"].values.tolist(),\n",
    "            )\n",
    "        )\n",
    "        headings: List[float] = track_df.loc[:, \"heading\"].values.tolist()\n",
    "        velocities: List[Tuple[float, float]] = list(\n",
    "            zip(\n",
    "                track_df.loc[:, \"velocity_x\"].values.tolist(),\n",
    "                track_df.loc[:, \"velocity_y\"].values.tolist(),\n",
    "            )\n",
    "        )\n",
    "\n",
    "        object_states: List[ObjectState] = []\n",
    "        for idx in range(len(timesteps)):\n",
    "            object_states.append(\n",
    "                ObjectState(\n",
    "                    observed=observed_states[idx],\n",
    "                    timestep=timesteps[idx],\n",
    "                    position=positions[idx],\n",
    "                    heading=headings[idx],\n",
    "                    velocity=velocities[idx],\n",
    "                )\n",
    "            )\n",
    "\n",
    "        tracks.append(\n",
    "            Track(track_id=track_id, object_states=object_states, object_type=object_type, category=object_category)\n",
    "        )\n",
    "\n",
    "    return tracks"
   ]
  },
  {
   "cell_type": "code",
   "execution_count": 6,
   "id": "d27b7572-c25b-489a-bed0-a201b2fd6e6a",
   "metadata": {},
   "outputs": [],
   "source": [
    "from av2.datasets.motion_forecasting import scenario_serialization\n",
    "from av2.datasets.motion_forecasting.viz.scenario_visualization import visualize_scenario\n",
    "from av2.map.map_api import ArgoverseStaticMap\n",
    "\n",
    "colors = {\n",
    "    TrackCategory.FOCAL_TRACK: \"red\",\n",
    "    TrackCategory.SCORED_TRACK: \"yellow\",\n",
    "    TrackCategory.UNSCORED_TRACK: \"blue\",\n",
    "    TrackCategory.TRACK_FRAGMENT: \"grey\"\n",
    "}"
   ]
  },
  {
   "cell_type": "code",
   "execution_count": 7,
   "id": "7235953a-4748-4be8-b4f9-ed3044017291",
   "metadata": {},
   "outputs": [],
   "source": [
    "import os\n",
    "# os.listdir(\"/mnt/e/datasets/argoverse/val/\")"
   ]
  },
  {
   "cell_type": "code",
   "execution_count": 8,
   "id": "335c5f4a-8dca-4eb0-9705-6297ef4ff905",
   "metadata": {},
   "outputs": [],
   "source": [
    "rho_obs = 1.2\n",
    "rho_eq = 10.0\n",
    "weight_smoothness = 10\n",
    "\n",
    "pred_len = 60\n",
    "num = 60\n",
    "t_fin = 6.0\n",
    "a_obs = 1.0\n",
    "b_obs = 1.0\n",
    "\n",
    "tot_time = np.linspace(0.0, t_fin, num)\n",
    "tot_time_copy = tot_time.reshape(num, 1)\n",
    "P, Pdot, Pddot = bernstein_coeff_order10_new(10, tot_time_copy[0], tot_time_copy[-1], tot_time_copy)\n",
    "nvar = np.shape(P)[1]\n",
    "\n",
    "A_eq = np.vstack((P[0], Pdot[0], Pddot[0], P[-1], Pdot[-1], Pddot[-1]))\n",
    "Q_smoothness = np.dot(Pddot.T, Pddot)"
   ]
  },
  {
   "cell_type": "code",
   "execution_count": 18,
   "id": "7ee23fe6-1d17-4859-9ee4-c0c3d9b1f82d",
   "metadata": {},
   "outputs": [],
   "source": [
    "cnt = 0\n",
    "focals = []\n",
    "obstacles = []\n",
    "\n",
    "for file in os.listdir(\"/mnt/e/datasets/argoverse/val\"):\n",
    "    cnt = cnt + 1\n",
    "    tracks_df = pd.read_parquet(f\"/mnt/e/datasets/argoverse/val/{file}/scenario_{file}.parquet\")\n",
    "\n",
    "    tracks = _load_tracks_from_tabular_format(tracks_df)\n",
    "    scenario_id = tracks_df[\"scenario_id\"][0]\n",
    "    focal_track_id = tracks_df[\"focal_track_id\"][0]\n",
    "    city_name = tracks_df[\"city\"][0]\n",
    "    map_id = tracks_df[\"map_id\"][0] if \"map_id\" in tracks_df.columns else None\n",
    "    slice_id = tracks_df[\"slice_id\"][0] if \"slice_id\" in tracks_df.columns else None\n",
    "    \n",
    "    \n",
    "    timestamps_ns = np.linspace(\n",
    "        tracks_df[\"start_timestamp\"][0], tracks_df[\"end_timestamp\"][0], num=tracks_df[\"num_timestamps\"][0]\n",
    "    )\n",
    "\n",
    "    scenario = ArgoverseScenario(\n",
    "            scenario_id=scenario_id,\n",
    "            timestamps_ns=timestamps_ns,\n",
    "            tracks=tracks,\n",
    "            focal_track_id=focal_track_id,\n",
    "            city_name=city_name,\n",
    "            map_id=map_id,\n",
    "            slice_id=slice_id,\n",
    "    )\n",
    "\n",
    "    obstacle = []\n",
    "    # plt.figure(figsize=(10,10))\n",
    "    for track in scenario.tracks:\n",
    "        x = [i.position[0] for i in track.object_states]\n",
    "        y = [i.position[1] for i in track.object_states]\n",
    "        # plt.scatter(x,y, color=colors[track.category])    \n",
    "        if track.category in [TrackCategory.FOCAL_TRACK, TrackCategory.SCORED_TRACK]:\n",
    "            if len(x) != 110:\n",
    "                print(len(x), len(y))\n",
    "        if track.category in [TrackCategory.FOCAL_TRACK]:\n",
    "            focals.append([x, y])\n",
    "        elif track.category in [TrackCategory.SCORED_TRACK]:\n",
    "            obstacle.append([x, y])\n",
    "            pass\n",
    "    obstacles.append(obstacle)\n",
    "    # plt.axis('equal')\n",
    "    if cnt > 100: break"
   ]
  },
  {
   "cell_type": "code",
   "execution_count": 19,
   "id": "0a70afa3-6921-442e-8410-c7fed6f75bb4",
   "metadata": {},
   "outputs": [
    {
     "data": {
      "text/plain": [
       "(101, 2, 110)"
      ]
     },
     "execution_count": 19,
     "metadata": {},
     "output_type": "execute_result"
    }
   ],
   "source": [
    "fixed_params = []\n",
    "variable_params = []\n",
    "for focal in focals:\n",
    "    "
   ]
  },
  {
   "cell_type": "code",
   "execution_count": null,
   "id": "495ed327-0fe4-4a2a-828f-6b4b9a556e60",
   "metadata": {},
   "outputs": [],
   "source": [
    "\n",
    "x_obs_temp = np.hstack((-10000.0, 10000.79, 30000.0, 10000.0))\n",
    "y_obs_temp = np.hstack((-10000.0, 10000.0, -30000.80, 10000.0))\n",
    "\n",
    "num_obs = np.shape(x_obs_temp)[0]\n",
    "\n",
    "x_obs = np.ones((num_obs, num)) * x_obs_temp[:, np.newaxis]\n",
    "y_obs = np.ones((num_obs, num)) * y_obs_temp[:, np.newaxis]\n",
    "\n",
    "obs_inp_list = []\n",
    "for i in range(num_obs):\n",
    "    obs_inp_list.extend([x_obs_temp[i], y_obs_temp[i], a_obs])\n",
    "    \n",
    "A_obs = np.tile(P, (num_obs, 1))\n"
   ]
  }
 ],
 "metadata": {
  "kernelspec": {
   "display_name": "Python 3 (ipykernel)",
   "language": "python",
   "name": "python3"
  },
  "language_info": {
   "codemirror_mode": {
    "name": "ipython",
    "version": 3
   },
   "file_extension": ".py",
   "mimetype": "text/x-python",
   "name": "python",
   "nbconvert_exporter": "python",
   "pygments_lexer": "ipython3",
   "version": "3.8.10"
  }
 },
 "nbformat": 4,
 "nbformat_minor": 5
}
