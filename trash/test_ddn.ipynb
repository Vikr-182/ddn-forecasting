{
 "cells": [
  {
   "cell_type": "code",
   "execution_count": 4,
   "metadata": {},
   "outputs": [],
   "source": [
    "import os\n",
    "import sys\n",{
 "cells": [
  {
   "cell_type": "code",
   "execution_count": 2,
   "metadata": {},
   "outputs": [],
   "source": [
    "import os\n",{
 "cells": [
  {
   "cell_type": "code",
   "execution_count": 1,
   "metadata": {},
   "outputs": [],
   "source": [
    "import os\n",
    "import sys\n",
    "sys.path.append(\"../Base\")\n",
    "import warnings\n",
    "warnings.filterwarnings('ignore')\n",
    "\n",
    "import torch\n",
    "import numpy as np\n",
    "import scipy.special\n",
    "import torch.nn as nn\n",
    "import torch.nn.functional as F\n",
    "import matplotlib.pyplot as plt\n",
    "\n",
    "from scipy.linalg import block_diag\n",
    "from torch.utils.data import Dataset, DataLoader\n",
    "from bernstein_coeff_order10_arbitinterval import bernstein_coeff_order10_new\n",
    "from ddn.pytorch.node import AbstractDeclarativeNode"
   ]
  },
  {
   "cell_type": "markdown",
   "metadata": {},
   "source": [
    "#### CUDA Initialization"
   ]
  },
  {
   "cell_type": "code",
   "execution_count": 2,
   "metadata": {},
   "outputs": [
    {
     "name": "stdout",
     "output_type": "stream",
     "text": [
      "Using cpu device\n"
     ]
    }
   ],
   "source": [
    "device = 'cuda' if torch.cuda.is_available() else 'cpu'\n",
    "print('Using {} device'.format(device))"
   ]
  },
  {
   "cell_type": "markdown",
   "metadata": {},
   "source": [
    "#### Initializations"
   ]
  },
  {
   "cell_type": "code",
   "execution_count": 84,
   "metadata": {},
   "outputs": [
    {
     "data": {
      "text/plain": [
       "tensor([2950.8256, 2930.4779, 2910.8990, 2892.1134, 2874.1452, 2857.0181,\n",
       "        2840.7554, 2825.3800, 2810.9142, 2797.3798], dtype=torch.float64)"
      ]
     },
     "execution_count": 84,
     "metadata": {},
     "output_type": "execute_result"
    }
   ],
   "source": [
    "class OPTNode(AbstractDeclarativeNode):\n",
    "    def __init__(self, rho_eq=1.0, rho_goal=1.0, rho_nonhol=1.0, rho_psi=1.0, maxiter=500, weight_smoothness=5.0, weight_smoothness_psi=5.0, t_fin=8.0, num=100):\n",
    "        super().__init__()\n",
    "        self.rho_eq = rho_eq\n",
    "        self.rho_goal = rho_goal\n",
    "        self.rho_nonhol = rho_nonhol\n",
    "        self.rho_psi = rho_psi\n",
    "        self.maxiter = maxiter\n",
    "        self.weight_smoothness = weight_smoothness\n",
    "        self.weight_smoothness_psi = weight_smoothness_psi\n",
    "\n",
    "        self.t_fin = t_fin\n",
    "        self.num = num\n",
    "        self.t = self.t_fin / self.num\n",
    "\n",
    "        #self.num_batch = 10\n",
    "        \n",
    "        tot_time = np.linspace(0.0, self.t_fin, self.num)\n",
    "        tot_time_copy = tot_time.reshape(self.num, 1)\n",
    "        self.P, self.Pdot, self.Pddot = bernstein_coeff_order10_new(10, tot_time_copy[0], tot_time_copy[-1], tot_time_copy)\n",
    "        self.nvar = np.shape(self.P)[1]\n",
    "        \n",
    "        self.cost_smoothness = self.weight_smoothness * np.dot(self.Pddot.T, self.Pddot)\n",
    "        self.cost_smoothness_psi = self.weight_smoothness_psi * np.dot(self.Pddot.T, self.Pddot)\n",
    "        self.lincost_smoothness_psi = np.zeros(self.nvar)\n",
    "\n",
    "        self.A_eq = np.vstack((self.P[0], self.P[-1]))\n",
    "        self.A_eq_psi = np.vstack((self.P[0], self.Pdot[0], self.P[-1], self.Pdot[-1]))\n",
    "        \n",
    "        self.P = torch.tensor(self.P, dtype=torch.double).to(device)\n",
    "        self.Pdot = torch.tensor(self.Pdot, dtype=torch.double).to(device)\n",
    "        self.Pddot = torch.tensor(self.Pddot, dtype=torch.double).to(device)\n",
    "        self.A_eq = torch.tensor(self.A_eq, dtype=torch.double).to(device)        \n",
    "        self.A_eq_psi = torch.tensor(self.A_eq_psi, dtype=torch.double).to(device)\n",
    "        self.cost_smoothness = torch.tensor(self.cost_smoothness, dtype=torch.double).to(device)\n",
    "        self.cost_smoothness_psi = torch.tensor(self.cost_smoothness_psi, dtype=torch.double).to(device)\n",
    "        self.lincost_smoothness_psi = torch.tensor(self.lincost_smoothness_psi, dtype=torch.double).to(device)\n",
    "        \n",
    "        self.A_nonhol = self.Pdot\n",
    "        self.A_psi = self.P\n",
    "    \n",
    "    def compute_x(self, lamda_x, lamda_y, v, psi, b_eq_x, b_eq_y):\n",
    "        b_nonhol_x = v * torch.cos(psi)\n",
    "        b_nonhol_y = v * torch.sin(psi)\n",
    "    \n",
    "        cost = self.cost_smoothness + self.rho_nonhol * torch.matmul(self.A_nonhol.T, self.A_nonhol) + self.rho_eq * torch.matmul(self.A_eq.T, self.A_eq)\n",
    "        lincost_x = -lamda_x - self.rho_nonhol * torch.matmul(self.A_nonhol.T, b_nonhol_x.T).T - self.rho_eq * torch.matmul(self.A_eq.T, b_eq_x.T).T\n",
    "        lincost_y = -lamda_y - self.rho_nonhol * torch.matmul(self.A_nonhol.T, b_nonhol_y.T).T - self.rho_eq * torch.matmul(self.A_eq.T, b_eq_y.T).T\n",
    "\n",
    "        cost_inv = torch.linalg.inv(cost)\n",
    "\n",
    "        sol_x = torch.matmul(-cost_inv, lincost_x.T).T\n",
    "        sol_y = torch.matmul(-cost_inv, lincost_y.T).T\n",
    "\n",
    "        x = torch.matmul(self.P, sol_x.T).T\n",
    "        xdot = torch.matmul(self.Pdot, sol_x.T).T\n",
    "\n",
    "        y = torch.matmul(self.P, sol_y.T).T\n",
    "        ydot = torch.matmul(self.Pdot, sol_y.T).T\n",
    "         \n",
    "        return sol_x, sol_y, x, xdot, y, ydot\n",
    "    \n",
    "    def compute_psi(self, psi, lamda_psi, psi_temp, b_eq_psi):\n",
    "        cost = self.cost_smoothness_psi + self.rho_psi * torch.matmul(self.A_psi.T, self.A_psi) + self.rho_eq * torch.matmul(self.A_eq_psi.T, self.A_eq_psi)\n",
    "        lincost_psi = -lamda_psi - self.rho_psi * torch.matmul(self.A_psi.T, psi_temp.T).T - self.rho_eq * torch.matmul(self.A_eq_psi.T, b_eq_psi.T).T\n",
    "\n",
    "        cost_inv = torch.linalg.inv(cost)\n",
    "\n",
    "        sol_psi = torch.matmul(-cost_inv, lincost_psi.T).T\n",
    "\n",
    "        psi = torch.matmul(self.P, sol_psi.T).T\n",
    "\n",
    "        res_psi = torch.matmul(self.A_psi, sol_psi.T).T - psi_temp\n",
    "        res_eq_psi = torch.matmul(self.A_eq_psi, sol_psi.T).T - b_eq_psi\n",
    "\n",
    "        lamda_psi = lamda_psi - self.rho_psi * torch.matmul(self.A_psi.T, res_psi.T).T - self.rho_eq * torch.matmul(self.A_eq_psi.T, res_eq_psi.T).T\n",
    "\n",
    "        return sol_psi, np.linalg.norm(res_psi), np.linalg.norm(res_eq_psi), psi, lamda_psi\n",
    "\n",
    "    \n",
    "    def solve(self, fixed_params, variable_params):\n",
    "        batch_size, _ = fixed_params.size()\n",
    "        x_init, y_init, v_init, psi_init, psidot_init = torch.chunk(fixed_params, 5, dim=1)\n",
    "        x_fin, y_fin, psi_fin, psidot_fin = torch.chunk(variable_params, 4, dim=1)\n",
    "        \n",
    "        b_eq_x = torch.cat((x_init, x_fin), dim=1)\n",
    "        b_eq_y = torch.cat((y_init, y_fin), dim=1)\n",
    "        b_eq_psi = torch.cat((psi_init, psidot_init, psi_fin, psidot_fin), dim=1)\n",
    "        \n",
    "        lamda_x = torch.zeros(batch_size, self.nvar, dtype=torch.double).to(device)\n",
    "        lamda_y = torch.zeros(batch_size, self.nvar, dtype=torch.double).to(device)\n",
    "        lamda_psi = torch.zeros(batch_size, self.nvar, dtype=torch.double).to(device)\n",
    "        \n",
    "        v = torch.ones(batch_size, self.num, dtype=torch.double).to(device) * v_init\n",
    "        psi = torch.ones(batch_size, self.num, dtype=torch.double).to(device) * psi_init\n",
    "        xdot = v * torch.cos(psi)\n",
    "        ydot = v * torch.sin(psi)\n",
    "        \n",
    "        for i in range(0, self.maxiter):\n",
    "            psi_temp = torch.atan2(ydot, xdot)\n",
    "            c_psi, _, _, psi, lamda_psi = self.compute_psi(psi, lamda_psi, psi_temp, b_eq_psi)\n",
    "            c_x, c_y, x, xdot, y, ydot = self.compute_x(lamda_x, lamda_y, v, psi, b_eq_x, b_eq_y)\n",
    "            \n",
    "            v = torch.sqrt(xdot ** 2 + ydot ** 2)\n",
    "            v[:, 0] = v_init[:, 0]\n",
    "\n",
    "            res_eq_x = torch.matmul(self.A_eq, c_x.T).T - b_eq_x\n",
    "            res_nonhol_x = xdot - v * torch.cos(psi)\n",
    "\n",
    "            res_eq_y = torch.matmul(self.A_eq, c_y.T).T - b_eq_y\n",
    "            res_nonhol_y = ydot - v * torch.sin(psi)\n",
    "\n",
    "            lamda_x = lamda_x - self.rho_eq * torch.matmul(self.A_eq.T, res_eq_x.T).T - self.rho_nonhol * torch.matmul(self.A_nonhol.T, res_nonhol_x.T).T\n",
    "            lamda_y = lamda_y - self.rho_eq * torch.matmul(self.A_eq.T, res_eq_y.T).T - self.rho_nonhol * torch.matmul(self.A_nonhol.T, res_nonhol_y.T).T\n",
    "                    \n",
    "        \n",
    "        primal_sol = torch.hstack((c_x, c_y, c_psi, v))\n",
    "        return primal_sol, None\n",
    "    \n",
    "    def objective(self, fixed_params, variable_params, y):\n",
    "        c_x = y[:, :self.nvar]\n",
    "        c_y = y[:, self.nvar:2*self.nvar]\n",
    "        c_psi = y[:, 2*self.nvar:3*self.nvar]\n",
    "        v = y[:, 3*self.nvar:]\n",
    "        \n",
    "        x_init, y_init, v_init, psi_init, psidot_init = torch.chunk(fixed_params, 5, dim=1)\n",
    "        x_fin, y_fin, psi_fin, psidot_fin = torch.chunk(variable_params, 4, dim=1)\n",
    "        \n",
    "        x = torch.matmul(self.P, c_x.T).T\n",
    "        y = torch.matmul(self.P, c_y.T).T\n",
    "        psi = torch.matmul(self.P, c_psi.T).T\n",
    "        xdot = torch.matmul(self.Pdot, c_x.T).T\n",
    "        ydot = torch.matmul(self.Pdot, c_y.T).T\n",
    "        psidot = torch.matmul(self.Pdot, c_psi.T).T\n",
    "        xddot = torch.matmul(self.Pddot, c_x.T).T\n",
    "        yddot = torch.matmul(self.Pddot, c_y.T).T\n",
    "        psiddot = torch.matmul(self.Pddot, c_psi.T).T\n",
    "        \n",
    "        cost_nonhol = 0.5*self.rho_nonhol*torch.sum((xdot - v*torch.cos(psi)) ** 2, 1) + 0.5*self.rho_nonhol*torch.sum((ydot - v*torch.sin(psi)) ** 2, 1)\n",
    "        cost_pos = 0.5*self.rho_eq*(torch.sum((x[:, -1] - x_fin) ** 2, 1) + torch.sum((y[:, -1] - y_fin) ** 2, 1) + torch.sum((x[:, 0] - x_init) ** 2, 1) + torch.sum((y[:, 0] - y_init) ** 2, 1))\n",
    "        cost_psi = 0.5*self.rho_eq*(torch.sum((psi[:, -1] - psi_fin) ** 2, 1) + torch.sum((psi[:, 0] - psi_init) ** 2, 1) + \n",
    "                                    torch.sum((psidot[:, -1] - psidot_fin) ** 2, 1) + torch.sum((psidot[:, 0] - psidot_init) ** 2, 1))\n",
    "        cost_v = 0.5*self.rho_eq*torch.sum((v[:, 0] - v_init) ** 2, 1)\n",
    "        \n",
    "        cost_smoothness = 0.5*self.weight_smoothness*(torch.sum(xddot**2, 1) + torch.sum(yddot**2, 1)) + 0.5*self.weight_smoothness_psi*torch.sum(psiddot**2, 1)\n",
    "        return cost_nonhol + cost_pos + cost_psi + cost_v + cost_smoothness\n",
    "\n",
    "opt_node = OPTNode()\n",
    "opt_node.objective(fixed_params, variable_params, res)"
   ]
  },
  {
   "cell_type": "code",
   "execution_count": 85,
   "metadata": {},
   "outputs": [],
   "source": [
    "opt_node = OPTNode()"
   ]
  },
  {
   "cell_type": "code",
   "execution_count": 86,
   "metadata": {},
   "outputs": [],
   "source": [
    "x_init = 0.0 * np.ones((10, 1))\n",
    "x_fin = -50.0 *np.ones((10, 1))\n",
    "\n",
    "y_init = 0.0 * np.ones((10, 1))\n",
    "y_fin = 50.0 * np.ones((10, 1))\n",
    "\n",
    "psi_init = 91 * np.pi / 180.0 * np.ones((10, 1))\n",
    "psi_fin = np.linspace(160 * np.pi / 180, 170 * np.pi / 180, 10).reshape(10, 1)\n",
    "\n",
    "psidot_init = 0.0 * np.ones((10, 1))\n",
    "psidot_fin = 0.0 * np.ones((10, 1))\n",
    "\n",
    "v_init = 20.0 * np.ones((10, 1))\n",
    "\n",
    "fixed_params = torch.tensor([x_init, y_init, v_init, psi_init, psidot_init], dtype=torch.double).to(device)\n",
    "variable_params = torch.tensor([x_fin, y_fin, psi_fin, psidot_fin], dtype=torch.double).to(device)\n",
    "fixed_params = torch.squeeze(fixed_params).transpose(0, 1)\n",
    "variable_params = torch.squeeze(variable_params).transpose(0, 1)"
   ]
  },
  {
   "cell_type": "code",
   "execution_count": 87,
   "metadata": {},
   "outputs": [],
   "source": [
    "res, _ = opt_node.solve(fixed_params, variable_params)"
   ]
  },
  {
   "cell_type": "code",
   "execution_count": 88,
   "metadata": {},
   "outputs": [],
   "source": [
    "c_x = res[:, :opt_node.nvar]\n",
    "c_y = res[:, opt_node.nvar: 2*opt_node.nvar]"
   ]
  },
  {
   "cell_type": "code",
   "execution_count": 89,
   "metadata": {},
   "outputs": [
    {
     "data": {
      "text/plain": [
       "[<matplotlib.lines.Line2D at 0x7fd9585b9d50>,\n",
       " <matplotlib.lines.Line2D at 0x7fd9585b9f50>,\n",
       " <matplotlib.lines.Line2D at 0x7fd9585a8490>,\n",
       " <matplotlib.lines.Line2D at 0x7fd9585a8410>,\n",
       " <matplotlib.lines.Line2D at 0x7fd9585a84d0>,\n",
       " <matplotlib.lines.Line2D at 0x7fd9585a8510>,\n",
       " <matplotlib.lines.Line2D at 0x7fd9585a88d0>,\n",
       " <matplotlib.lines.Line2D at 0x7fd9585a8ad0>,\n",
       " <matplotlib.lines.Line2D at 0x7fd9585a8e50>,\n",
       " <matplotlib.lines.Line2D at 0x7fd9585a86d0>]"
      ]
     },
     "execution_count": 89,
     "metadata": {},
     "output_type": "execute_result"
    },
    {
     "data": {
      "image/png": "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\n",
      "text/plain": [
       "<Figure size 432x288 with 1 Axes>"
      ]
     },
     "metadata": {{
 "cells": [
  {
   "cell_type": "code",
   "execution_count": 99,
   "metadata": {},
   "outputs": [],
   "source": [
    "import os\n",
    "import sys\n",
    "sys.path.append(\"../Base\")\n",
    "import warnings\n",
    "warnings.filterwarnings('ignore')\n",
    "\n",
    "import torch\n",
    "import numpy as np\n",
    "import scipy.special\n",
    "import torch.nn as nn\n",
    "import torch.nn.functional as F\n",
    "import matplotlib.pyplot as plt\n",
    "\n",
    "from scipy.linalg import block_diag\n",
    "from torch.utils.data import Dataset, DataLoader\n",
    "from bernstein_coeff_order10_arbitinterval import bernstein_coeff_order10_new\n",
    "from ddn.pytorch.node import AbstractDeclarativeNode"
   ]
  },
  {
   "cell_type": "markdown",
   "metadata": {},
   "source": [
    "#### CUDA Initialization"
   ]
  },
  {
   "cell_type": "code",
   "execution_count": 100,
   "metadata": {},
   "outputs": [
    {
     "name": "stdout",
     "output_type": "stream",
     "text": [
      "Using cpu device\n"
     ]
    }
   ],
   "source": [
    "device = 'cuda' if torch.cuda.is_available() else 'cpu'\n",
    "print('Using {} device'.format(device))"
   ]
  },
  {
   "cell_type": "markdown",
   "metadata": {},
   "source": [
    "#### Initializations"
   ]
  },
  {
   "cell_type": "code",
   "execution_count": 101,
   "metadata": {},
   "outputs": [
    {
     "data": {
      "text/plain": [
       "tensor([2950.8256, 2930.4779, 2910.8990, 2892.1134, 2874.1452, 2857.0181,\n",
       "        2840.7554, 2825.3800, 2810.9142, 2797.3798], dtype=torch.float64,\n",
       "       grad_fn=<AddBackward0>)"
      ]
     },
     "execution_count": 101,
     "metadata": {},
     "output_type": "execute_result"
    }
   ],
   "source": [
    "class OPTNode(AbstractDeclarativeNode):\n",
    "    def __init__(self, rho_eq=1.0, rho_goal=1.0, rho_nonhol=1.0, rho_psi=1.0, maxiter=500, weight_smoothness=5.0, weight_smoothness_psi=5.0, t_fin=8.0, num=100):\n",
    "        super().__init__()\n",
    "        self.rho_eq = rho_eq\n",
    "        self.rho_goal = rho_goal\n",
    "        self.rho_nonhol = rho_nonhol\n",
    "        self.rho_psi = rho_psi\n",
    "        self.maxiter = maxiter\n",
    "        self.weight_smoothness = weight_smoothness\n",
    "        self.weight_smoothness_psi = weight_smoothness_psi\n",
    "\n",
    "        self.t_fin = t_fin\n",
    "        self.num = num\n",
    "        self.t = self.t_fin / self.num\n",
    "\n",
    "        #self.num_batch = 10\n",
    "        \n",
    "        tot_time = np.linspace(0.0, self.t_fin, self.num)\n",
    "        tot_time_copy = tot_time.reshape(self.num, 1)\n",
    "        self.P, self.Pdot, self.Pddot = bernstein_coeff_order10_new(10, tot_time_copy[0], tot_time_copy[-1], tot_time_copy)\n",
    "        self.nvar = np.shape(self.P)[1]\n",
    "        \n",
    "        self.cost_smoothness = self.weight_smoothness * np.dot(self.Pddot.T, self.Pddot)\n",
    "        self.cost_smoothness_psi = self.weight_smoothness_psi * np.dot(self.Pddot.T, self.Pddot)\n",
    "        self.lincost_smoothness_psi = np.zeros(self.nvar)\n",
    "\n",
    "        self.A_eq = np.vstack((self.P[0], self.P[-1]))\n",
    "        self.A_eq_psi = np.vstack((self.P[0], self.Pdot[0], self.P[-1], self.Pdot[-1]))\n",
    "        \n",
    "        self.P = torch.tensor(self.P, dtype=torch.double).to(device)\n",
    "        self.Pdot = torch.tensor(self.Pdot, dtype=torch.double).to(device)\n",
    "        self.Pddot = torch.tensor(self.Pddot, dtype=torch.double).to(device)\n",
    "        self.A_eq = torch.tensor(self.A_eq, dtype=torch.double).to(device)        \n",
    "        self.A_eq_psi = torch.tensor(self.A_eq_psi, dtype=torch.double).to(device)\n",
    "        self.cost_smoothness = torch.tensor(self.cost_smoothness, dtype=torch.double).to(device)\n",
    "        self.cost_smoothness_psi = torch.tensor(self.cost_smoothness_psi, dtype=torch.double).to(device)\n",
    "        self.lincost_smoothness_psi = torch.tensor(self.lincost_smoothness_psi, dtype=torch.double).to(device)\n",
    "        \n",
    "        self.A_nonhol = self.Pdot\n",
    "        self.A_psi = self.P\n",
    "    \n",
    "    def compute_x(self, lamda_x, lamda_y, v, psi, b_eq_x, b_eq_y):\n",
    "        b_nonhol_x = v * torch.cos(psi)\n",
    "        b_nonhol_y = v * torch.sin(psi)\n",
    "    \n",
    "        cost = self.cost_smoothness + self.rho_nonhol * torch.matmul(self.A_nonhol.T, self.A_nonhol) + self.rho_eq * torch.matmul(self.A_eq.T, self.A_eq)\n",
    "        lincost_x = -lamda_x - self.rho_nonhol * torch.matmul(self.A_nonhol.T, b_nonhol_x.T).T - self.rho_eq * torch.matmul(self.A_eq.T, b_eq_x.T).T\n",
    "        lincost_y = -lamda_y - self.rho_nonhol * torch.matmul(self.A_nonhol.T, b_nonhol_y.T).T - self.rho_eq * torch.matmul(self.A_eq.T, b_eq_y.T).T\n",
    "\n",
    "        cost_inv = torch.linalg.inv(cost)\n",
    "\n",
    "        sol_x = torch.matmul(-cost_inv, lincost_x.T).T\n",
    "        sol_y = torch.matmul(-cost_inv, lincost_y.T).T\n",
    "\n",
    "        x = torch.matmul(self.P, sol_x.T).T\n",
    "        xdot = torch.matmul(self.Pdot, sol_x.T).T\n",
    "\n",
    "        y = torch.matmul(self.P, sol_y.T).T\n",
    "        ydot = torch.matmul(self.Pdot, sol_y.T).T\n",
    "         \n",
    "        return sol_x, sol_y, x, xdot, y, ydot\n",
    "    \n",
    "    def compute_psi(self, psi, lamda_psi, psi_temp, b_eq_psi):\n",
    "        cost = self.cost_smoothness_psi + self.rho_psi * torch.matmul(self.A_psi.T, self.A_psi) + self.rho_eq * torch.matmul(self.A_eq_psi.T, self.A_eq_psi)\n",
    "        lincost_psi = -lamda_psi - self.rho_psi * torch.matmul(self.A_psi.T, psi_temp.T).T - self.rho_eq * torch.matmul(self.A_eq_psi.T, b_eq_psi.T).T\n",
    "\n",
    "        cost_inv = torch.linalg.inv(cost)\n",
    "\n",
    "        sol_psi = torch.matmul(-cost_inv, lincost_psi.T).T\n",
    "\n",
    "        psi = torch.matmul(self.P, sol_psi.T).T\n",
    "\n",
    "        res_psi = torch.matmul(self.A_psi, sol_psi.T).T - psi_temp\n",
    "        res_eq_psi = torch.matmul(self.A_eq_psi, sol_psi.T).T - b_eq_psi\n",
    "\n",
    "        lamda_psi = lamda_psi - self.rho_psi * torch.matmul(self.A_psi.T, res_psi.T).T - self.rho_eq * torch.matmul(self.A_eq_psi.T, res_eq_psi.T).T\n",
    "\n",
    "        return sol_psi, np.linalg.norm(res_psi), np.linalg.norm(res_eq_psi), psi, lamda_psi\n",
    "\n",
    "    \n",
    "    def solve(self, fixed_params, variable_params):\n",
    "        batch_size, _ = fixed_params.size()\n",
    "        x_init, y_init, v_init, psi_init, psidot_init = torch.chunk(fixed_params, 5, dim=1)\n",
    "        x_fin, y_fin, psi_fin, psidot_fin = torch.chunk(variable_params, 4, dim=1)\n",
    "        \n",
    "        b_eq_x = torch.cat((x_init, x_fin), dim=1)\n",
    "        b_eq_y = torch.cat((y_init, y_fin), dim=1)\n",
    "        b_eq_psi = torch.cat((psi_init, psidot_init, psi_fin, psidot_fin), dim=1)\n",
    "        \n",
    "        lamda_x = torch.zeros(batch_size, self.nvar, dtype=torch.double).to(device)\n",
    "        lamda_y = torch.zeros(batch_size, self.nvar, dtype=torch.double).to(device)\n",
    "        lamda_psi = torch.zeros(batch_size, self.nvar, dtype=torch.double).to(device)\n",
    "        \n",
    "        v = torch.ones(batch_size, self.num, dtype=torch.double).to(device) * v_init\n",
    "        psi = torch.ones(batch_size, self.num, dtype=torch.double).to(device) * psi_init\n",
    "        xdot = v * torch.cos(psi)\n",
    "        ydot = v * torch.sin(psi)\n",
    "        \n",
    "        for i in range(0, self.maxiter):\n",
    "            psi_temp = torch.atan2(ydot, xdot)\n",
    "            c_psi, _, _, psi, lamda_psi = self.compute_psi(psi, lamda_psi, psi_temp, b_eq_psi)\n",
    "            c_x, c_y, x, xdot, y, ydot = self.compute_x(lamda_x, lamda_y, v, psi, b_eq_x, b_eq_y)\n",
    "            \n",
    "            v = torch.sqrt(xdot ** 2 + ydot ** 2)\n",
    "            v[:, 0] = v_init[:, 0]\n",
    "\n",
    "            res_eq_x = torch.matmul(self.A_eq, c_x.T).T - b_eq_x\n",
    "            res_nonhol_x = xdot - v * torch.cos(psi)\n",
    "\n",
    "            res_eq_y = torch.matmul(self.A_eq, c_y.T).T - b_eq_y\n",
    "            res_nonhol_y = ydot - v * torch.sin(psi)\n",
    "\n",
    "            lamda_x = lamda_x - self.rho_eq * torch.matmul(self.A_eq.T, res_eq_x.T).T - self.rho_nonhol * torch.matmul(self.A_nonhol.T, res_nonhol_x.T).T\n",
    "            lamda_y = lamda_y - self.rho_eq * torch.matmul(self.A_eq.T, res_eq_y.T).T - self.rho_nonhol * torch.matmul(self.A_nonhol.T, res_nonhol_y.T).T\n",
    "                    \n",
    "        \n",
    "        primal_sol = torch.hstack((c_x, c_y, c_psi, v))\n",
    "        return primal_sol, None\n",
    "    \n",
    "    def objective(self, fixed_params, variable_params, y):\n",
    "        c_x = y[:, :self.nvar]\n",
    "        c_y = y[:, self.nvar:2*self.nvar]\n",
    "        c_psi = y[:, 2*self.nvar:3*self.nvar]\n",
    "        v = y[:, 3*self.nvar:]\n",
    "        \n",
    "        x_init, y_init, v_init, psi_init, psidot_init = torch.chunk(fixed_params, 5, dim=1)\n",
    "        x_fin, y_fin, psi_fin, psidot_fin = torch.chunk(variable_params, 4, dim=1)\n",
    "        \n",
    "        x = torch.matmul(self.P, c_x.T).T\n",
    "        y = torch.matmul(self.P, c_y.T).T\n",
    "        psi = torch.matmul(self.P, c_psi.T).T\n",
    "        xdot = torch.matmul(self.Pdot, c_x.T).T\n",
    "        ydot = torch.matmul(self.Pdot, c_y.T).T\n",
    "        psidot = torch.matmul(self.Pdot, c_psi.T).T\n",
    "        xddot = torch.matmul(self.Pddot, c_x.T).T\n",
    "        yddot = torch.matmul(self.Pddot, c_y.T).T\n",
    "        psiddot = torch.matmul(self.Pddot, c_psi.T).T\n",
    "        \n",
    "        cost_nonhol = 0.5*self.rho_nonhol*torch.sum((xdot - v*torch.cos(psi)) ** 2, 1) + 0.5*self.rho_nonhol*torch.sum((ydot - v*torch.sin(psi)) ** 2, 1)\n",
    "        cost_pos = 0.5*self.rho_eq*(torch.sum((x[:, -1] - x_fin) ** 2, 1) + torch.sum((y[:, -1] - y_fin) ** 2, 1) + torch.sum((x[:, 0] - x_init) ** 2, 1) + torch.sum((y[:, 0] - y_init) ** 2, 1))\n",
    "        cost_psi = 0.5*self.rho_eq*(torch.sum((psi[:, -1] - psi_fin) ** 2, 1) + torch.sum((psi[:, 0] - psi_init) ** 2, 1) + \n",
    "                                    torch.sum((psidot[:, -1] - psidot_fin) ** 2, 1) + torch.sum((psidot[:, 0] - psidot_init) ** 2, 1))\n",
    "        cost_v = 0.5*self.rho_eq*torch.sum((v[:, 0] - v_init) ** 2, 1)\n",
    "        \n",
    "        cost_smoothness = 0.5*self.weight_smoothness*(torch.sum(xddot**2, 1) + torch.sum(yddot**2, 1)) + 0.5*self.weight_smoothness_psi*torch.sum(psiddot**2, 1)\n",
    "        return cost_nonhol + cost_pos + cost_psi + cost_v + cost_smoothness\n",
    "\n",
    "opt_node = OPTNode()\n",
    "opt_node.objective(fixed_params, variable_params, res)"
   ]
  },
  {
   "cell_type": "code",
   "execution_count": 102,
   "metadata": {},
   "outputs": [],
   "source": [
    "opt_node = OPTNode()"
   ]
  },
  {
   "cell_type": "code",
   "execution_count": 103,
   "metadata": {},
   "outputs": [],
   "source": [
    "x_init = 0.0 * np.ones((10, 1))\n",
    "x_fin = -50.0 *np.ones((10, 1))\n",
    "\n",
    "y_init = 0.0 * np.ones((10, 1))\n",
    "y_fin = 50.0 * np.ones((10, 1))\n",
    "\n",
    "psi_init = 91 * np.pi / 180.0 * np.ones((10, 1))\n",
    "psi_fin = np.linspace(160 * np.pi / 180, 170 * np.pi / 180, 10).reshape(10, 1)\n",
    "\n",
    "psidot_init = 0.0 * np.ones((10, 1))\n",
    "psidot_fin = 0.0 * np.ones((10, 1))\n",
    "\n",
    "v_init = 20.0 * np.ones((10, 1))\n",
    "\n",
    "fixed_params = torch.tensor([x_init, y_init, v_init, psi_init, psidot_init], dtype=torch.double).to(device)\n",
    "variable_params = torch.tensor([x_fin, y_fin, psi_fin, psidot_fin], dtype=torch.double).to(device)\n",
    "fixed_params = torch.squeeze(fixed_params).transpose(0, 1)\n",
    "variable_params = torch.squeeze(variable_params).transpose(0, 1)"
   ]
  },
  {
   "cell_type": "code",
   "execution_count": 104,
   "metadata": {},
   "outputs": [],
   "source": [
    "res, _ = opt_node.solve(fixed_params, variable_params)"
   ]
  },
  {
   "cell_type": "code",
   "execution_count": 105,
   "metadata": {},
   "outputs": [],
   "source": [
    "c_x = res[:, :opt_node.nvar]\n",
    "c_y = res[:, opt_node.nvar: 2*opt_node.nvar]"
   ]
  },
  {
   "cell_type": "code",
   "execution_count": 106,
   "metadata": {},
   "outputs": [
    {
     "data": {
      "text/plain": [
       "[<matplotlib.lines.Line2D at 0x7fd9562f47d0>,\n",
       " <matplotlib.lines.Line2D at 0x7fd9562f49d0>,\n",
       " <matplotlib.lines.Line2D at 0x7fd9562f4b90>,\n",
       " <matplotlib.lines.Line2D at 0x7fd9562f4d50>,\n",
       " <matplotlib.lines.Line2D at 0x7fd9562f4f10>,\n",
       " <matplotlib.lines.Line2D at 0x7fd9562fc110>,\n",
       " <matplotlib.lines.Line2D at 0x7fd9562fc350>,\n",
       " <matplotlib.lines.Line2D at 0x7fd9562fc510>,\n",
       " <matplotlib.lines.Line2D at 0x7fd9562f4ed0>,\n",
       " <matplotlib.lines.Line2D at 0x7fd9562fc150>]"
      ]
     },
     "execution_count": 106,
     "metadata": {},
     "output_type": "execute_result"
    },
    {
     "data": {
      "image/png": "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\n",
      "text/plain": [
       "<Figure size 432x288 with 1 Axes>"
      ]
     },
     "metadata": {
      "needs_background": "light"
     },
     "output_type": "display_data"
    }
   ],
   "source": [
    "x = torch.matmul(opt_node.P, c_x.T)\n",
    "y = torch.matmul(opt_node.P, c_y.T)\n",
    "plt.plot(x, y)"
   ]
  },
  {
   "cell_type": "code",
   "execution_count": 107,
   "metadata": {},
   "outputs": [
    {
     "data": {
      "text/plain": [
       "tensor([2950.8256, 2930.4779, 2910.8990, 2892.1134, 2874.1452, 2857.0181,\n",
       "        2840.7554, 2825.3800, 2810.9142, 2797.3798], dtype=torch.float64)"
      ]
     },
     "execution_count": 107,
     "metadata": {},
     "output_type": "execute_result"
    }
   ],
   "source": [
    "opt_node.objective(fixed_params, variable_params, res)"
   ]
  },
  {
   "cell_type": "code",
   "execution_count": 108,
   "metadata": {},
   "outputs": [
    {
     "data": {
      "text/plain": [
       "(None,\n",
       " tensor([[-3.3682e+00,  1.2220e+01,  1.1431e+00,  6.3725e-02],\n",
       "         [-3.3562e+00,  1.2205e+01,  1.1340e+00,  5.8605e-02],\n",
       "         [-3.3437e+00,  1.2188e+01,  1.1246e+00,  5.3327e-02],\n",
       "         [-3.3307e+00,  1.2171e+01,  1.1150e+00,  4.7891e-02],\n",
       "         [-3.3172e+00,  1.2153e+01,  1.1051e+00,  4.2294e-02],\n",
       "         [-3.3033e+00,  1.2135e+01,  1.0949e+00,  3.6538e-02],\n",
       "         [-3.2889e+00,  1.2116e+01,  1.0845e+00,  3.0622e-02],\n",
       "         [-3.2741e+00,  1.2096e+01,  1.0738e+00,  2.4547e-02],\n",
       "         [-3.2589e+00,  1.2075e+01,  1.0628e+00,  1.8313e-02],\n",
       "         [-3.2434e+00,  1.2054e+01,  1.0514e+00,  1.1920e-02]],\n",
       "        dtype=torch.float64))"
      ]
     },
     "execution_count": 108,
     "metadata": {},
     "output_type": "execute_result"
    }
   ],
   "source": [
    "variable_params.requires_grad = True\n",
    "opt_node.gradient(fixed_params, variable_params)"
   ]
  }
 ],
 "metadata": {
  "kernelspec": {
   "display_name": "Python 3",
   "language": "python",
   "name": "python3"
  },
  "language_info": {
   "codemirror_mode": {
    "name": "ipython",
    "version": 3
   },
   "file_extension": ".py",
   "mimetype": "text/x-python",
   "name": "python",
   "nbconvert_exporter": "python",
   "pygments_lexer": "ipython3",
   "version": "3.7.7"
  }
 },
 "nbformat": 4,
 "nbformat_minor": 5
}

      "needs_background": "light"
     },
     "output_type": "display_data"
    }
   ],
   "source": [
    "x = torch.matmul(opt_node.P, c_x.T)\n",
    "y = torch.matmul(opt_node.P, c_y.T)\n",
    "plt.plot(x, y)"
   ]
  },
  {
   "cell_type": "code",
   "execution_count": 90,
   "metadata": {},
   "outputs": [
    {
     "data": {
      "text/plain": [
       "tensor([2950.8256, 2930.4779, 2910.8990, 2892.1134, 2874.1452, 2857.0181,\n",
       "        2840.7554, 2825.3800, 2810.9142, 2797.3798], dtype=torch.float64)"
      ]
     },
     "execution_count": 90,
     "metadata": {},
     "output_type": "execute_result"
    }
   ],
   "source": [
    "opt_node.objective(fixed_params, variable_params, res)"
   ]
  },
  {
   "cell_type": "code",
   "execution_count": null,
   "metadata": {},
   "outputs": [],
   "source": []
  }
 ],
 "metadata": {
  "kernelspec": {
   "display_name": "Python 3",
   "language": "python",
   "name": "python3"
  },
  "language_info": {
   "codemirror_mode": {
    "name": "ipython",
    "version": 3
   },
   "file_extension": ".py",
   "mimetype": "text/x-python",
   "name": "python",
   "nbconvert_exporter": "python",
   "pygments_lexer": "ipython3",
   "version": "3.7.7"
  }
 },
 "nbformat": 4,
 "nbformat_minor": 5
}

    "import sys\n",
    "sys.path.append(\"../Base\")\n",
    "import warnings\n",
    "warnings.filterwarnings('ignore')\n",
    "\n",
    "import torch\n",
    "import numpy as np\n",
    "import scipy.special\n",
    "import torch.nn as nn\n",
    "import torch.nn.functional as F\n",
    "import matplotlib.pyplot as plt\n",
    "\n",
    "from scipy.linalg import block_diag\n",
    "from torch.utils.data import Dataset, DataLoader\n",
    "from bernstein_coeff_order10_arbitinterval import bernstein_coeff_order10_new\n",
    "from ddn.pytorch.node import AbstractDeclarativeNode"
   ]
  },
  {
   "cell_type": "markdown",
   "metadata": {},
   "source": [
    "#### CUDA Initialization"
   ]
  },
  {
   "cell_type": "code",
   "execution_count": 8,
   "metadata": {},
   "outputs": [
    {
     "name": "stdout",
     "output_type": "stream",
     "text": [
      "Using cpu device\n"
     ]
    }
   ],
   "source": [
    "device = 'cuda' if torch.cuda.is_available() else 'cpu'\n",
    "print('Using {} device'.format(device))"
   ]
  },
  {
   "cell_type": "markdown",
   "metadata": {},
   "source": [
    "#### Initializations"
   ]
  },
  {
   "cell_type": "code",
   "execution_count": 9,
   "metadata": {},
   "outputs": [],
   "source": [
    "class OPTNode(AbstractDeclarativeNode):\n",
    "    def __init__(self, rho_eq=1.0, rho_goal=1.0, rho_nonhol=1.0, rho_psi=1.0, maxiter=500, weight_smoothness=5.0, weight_smoothness_psi=5.0, t_fin=8.0, num=100):\n",
    "        self.rho_eq = 1.0\n",
    "        self.rho_goal = 1.0\n",
    "        self.rho_nonhol = 1.0\n",
    "        self.rho_psi = 1.0\n",
    "        self.maxiter = 5000\n",
    "        self.weight_smoothness = 5.0\n",
    "        self.weight_smoothness_psi = 5.0\n",
    "\n",
    "        self.t_fin = 8.0\n",
    "        self.num = 100\n",
    "        self.t = self.t_fin / self.num\n",
    "\n",
    "        self.num_batch = 10\n",
    "        \n",
    "        tot_time = np.linspace(0.0, self.t_fin, self.num)\n",
    "        tot_time_copy = tot_time.reshape(self.num, 1)\n",
    "        self.P, self.Pdot, self.Pddot = bernstein_coeff_order10_new(10, tot_time_copy[0], tot_time_copy[-1], tot_time_copy)\n",
    "        self.nvar = np.shape(self.P)[1]\n",
    "        \n",
    "        self.cost_smoothness = self.weight_smoothness * np.dot(self.Pddot.T, self.Pddot)\n",
    "        self.cost_smoothness_psi = self.weight_smoothness_psi * np.dot(self.Pddot.T, self.Pddot)\n",
    "        self.lincost_smoothness_psi = np.zeros(self.nvar)\n",
    "\n",
    "        self.A_eq = np.vstack((self.P[0], self.P[-1]))\n",
    "        self.A_eq_psi = np.vstack((self.P[0], self.Pdot[0], self.P[-1], self.Pdot[-1]))\n",
    "        \n",
    "        self.P = torch.tensor(self.P, dtype=torch.double).to(device)\n",
    "        self.Pdot = torch.tensor(self.Pdot, dtype=torch.double).to(device)\n",
    "        self.Pddot = torch.tensor(self.Pddot, dtype=torch.double).to(device)\n",
    "        self.A_eq = torch.tensor(self.A_eq, dtype=torch.double).to(device)        \n",
    "        self.A_eq_psi = torch.tensor(self.A_eq_psi, dtype=torch.double).to(device)\n",
    "        self.cost_smoothness = torch.tensor(self.cost_smoothness, dtype=torch.double).to(device)\n",
    "        self.cost_smoothness_psi = torch.tensor(self.cost_smoothness_psi, dtype=torch.double).to(device)\n",
    "        self.lincost_smoothness_psi = torch.tensor(self.lincost_smoothness_psi, dtype=torch.double).to(device)\n",
    "        \n",
    "        self.A_nonhol = self.Pdot\n",
    "        self.A_psi = self.P\n",
    "    \n",
    "    def compute_x(self, lamda_x, lamda_y, v, psi, b_eq_x, b_eq_y):\n",
    "        b_nonhol_x = v * torch.cos(psi)\n",
    "        b_nonhol_y = v * torch.sin(psi)\n",
    "    \n",
    "        cost = self.cost_smoothness + self.rho_nonhol * torch.matmul(self.A_nonhol.T, self.A_nonhol) + self.rho_eq * torch.matmul(self.A_eq.T, self.A_eq)\n",
    "        lincost_x = -lamda_x - self.rho_nonhol * torch.matmul(self.A_nonhol.T, b_nonhol_x.T).T - self.rho_eq * torch.matmul(self.A_eq.T, b_eq_x.T).T\n",
    "        lincost_y = -lamda_y - self.rho_nonhol * torch.matmul(self.A_nonhol.T, b_nonhol_y.T).T - self.rho_eq * torch.matmul(self.A_eq.T, b_eq_y.T).T\n",
    "\n",
    "        cost_inv = torch.linalg.inv(cost)\n",
    "\n",
    "        sol_x = torch.matmul(-cost_inv, lincost_x.T).T\n",
    "        sol_y = torch.matmul(-cost_inv, lincost_y.T).T\n",
    "\n",
    "        x = torch.matmul(self.P, sol_x.T).T\n",
    "        xdot = torch.matmul(self.Pdot, sol_x.T).T\n",
    "\n",
    "        y = torch.matmul(self.P, sol_y.T).T\n",
    "        ydot = torch.matmul(self.Pdot, sol_y.T).T\n",
    "         \n",
    "        return sol_x, sol_y, x, xdot, y, ydot\n",
    "    \n",
    "    def compute_psi(self, psi, lamda_psi, psi_temp, b_eq_psi):\n",
    "        cost = self.cost_smoothness_psi + self.rho_psi * torch.matmul(self.A_psi.T, self.A_psi) + self.rho_eq * torch.matmul(self.A_eq_psi.T, self.A_eq_psi)\n",
    "        lincost_psi = -lamda_psi - self.rho_psi * torch.matmul(self.A_psi.T, psi_temp.T).T - self.rho_eq * torch.matmul(self.A_eq_psi.T, b_eq_psi.T).T\n",
    "\n",
    "        cost_inv = torch.linalg.inv(cost)\n",
    "\n",
    "        sol_psi = torch.matmul(-cost_inv, lincost_psi.T).T\n",
    "\n",
    "        psi = torch.matmul(self.P, sol_psi.T).T\n",
    "\n",
    "        res_psi = torch.matmul(self.A_psi, sol_psi.T).T - psi_temp\n",
    "        res_eq_psi = torch.matmul(self.A_eq_psi, sol_psi.T).T - b_eq_psi\n",
    "\n",
    "        lamda_psi = lamda_psi - self.rho_psi * torch.matmul(self.A_psi.T, res_psi.T).T - self.rho_eq * torch.matmul(self.A_eq_psi.T, res_eq_psi.T).T\n",
    "\n",
    "        return sol_psi, np.linalg.norm(res_psi), np.linalg.norm(res_eq_psi), psi, lamda_psi\n",
    "\n",
    "    \n",
    "    def solve(self, fixed_params, variable_params):\n",
    "        batch_size, _ = fixed_params.size()\n",
    "        x_init, y_init, v_init, psi_init, psidot_init = torch.chunk(fixed_params, 5, dim=1)\n",
    "        x_fin, y_fin, psi_fin, psidot_fin = torch.chunk(variable_params, 4, dim=1)\n",
    "        \n",
    "        b_eq_x = torch.cat((x_init, x_fin), dim=1)\n",
    "        b_eq_y = torch.cat((y_init, y_fin), dim=1)\n",
    "        b_eq_psi = torch.cat((psi_init, psidot_init, psi_fin, psidot_fin), dim=1)\n",
    "        \n",
    "        lamda_x = torch.zeros(batch_size, self.nvar, dtype=torch.double).to(device)\n",
    "        lamda_y = torch.zeros(batch_size, self.nvar, dtype=torch.double).to(device)\n",
    "        lamda_psi = torch.zeros(batch_size, self.nvar, dtype=torch.double).to(device)\n",
    "        \n",
    "        v = torch.ones(batch_size, self.num, dtype=torch.double).to(device) * v_init\n",
    "        psi = torch.ones(batch_size, self.num, dtype=torch.double).to(device) * psi_init\n",
    "        xdot = v * torch.cos(psi)\n",
    "        ydot = v * torch.sin(psi)\n",
    "        \n",
    "        for i in range(0, self.maxiter):\n",
    "            psi_temp = torch.atan2(ydot, xdot)\n",
    "            c_psi, _, _, psi, lamda_psi = self.compute_psi(psi, lamda_psi, psi_temp, b_eq_psi)\n",
    "            c_x, c_y, x, xdot, y, ydot = self.compute_x(lamda_x, lamda_y, v, psi, b_eq_x, b_eq_y)\n",
    "            \n",
    "            v = torch.sqrt(xdot ** 2 + ydot ** 2)\n",
    "            v[:, 0] = v_init[:, 0]\n",
    "\n",
    "            res_eq_x = torch.matmul(self.A_eq, c_x.T).T - b_eq_x\n",
    "            res_nonhol_x = xdot - v * torch.cos(psi)\n",
    "\n",
    "            res_eq_y = torch.matmul(self.A_eq, c_y.T).T - b_eq_y\n",
    "            res_nonhol_y = ydot - v * torch.sin(psi)\n",
    "\n",
    "            lamda_x = lamda_x - self.rho_eq * torch.matmul(self.A_eq.T, res_eq_x.T).T - self.rho_nonhol * torch.matmul(self.A_nonhol.T, res_nonhol_x.T).T\n",
    "            lamda_y = lamda_y - self.rho_eq * torch.matmul(self.A_eq.T, res_eq_y.T).T - self.rho_nonhol * torch.matmul(self.A_nonhol.T, res_nonhol_y.T).T\n",
    "                    \n",
    "        plt.figure(1)\n",
    "        plt.plot(res_eq)\n",
    "\n",
    "        plt.figure(2)\n",
    "        plt.plot(res_nonhol)\n",
    "\n",
    "        plt.figure(3)\n",
    "        plt.plot(res_eq_psi)\n",
    "        \n",
    "        primal_sol = torch.hstack((c_x, c_y, c_psi, v))\n",
    "        return primal_sol, res_eq, res_nonhol, res_eq_psi"
   ]
  },
  {
   "cell_type": "code",
   "execution_count": 11,
   "metadata": {},
   "outputs": [],
   "source": [
    "opt_node = OPTNode()"
   ]
  },
  {
   "cell_type": "code",
   "execution_count": 13,
   "metadata": {},
   "outputs": [],
   "source": [
    "x_init = 0.0 * np.ones((10, 1))\n",
    "x_fin = -50.0 *np.ones((10, 1))\n",
    "\n",
    "y_init = 0.0 * np.ones((10, 1))\n",
    "y_fin = 50.0 * np.ones((10, 1))\n",
    "\n",
    "psi_init = 91 * np.pi / 180.0 * np.ones((10, 1))\n",
    "psi_fin = np.linspace(160 * np.pi / 180, 170 * np.pi / 180, 10).reshape(10, 1)\n",
    "\n",
    "psidot_init = 0.0 * np.ones((10, 1))\n",
    "psidot_fin = 0.0 * np.ones((10, 1))\n",
    "\n",
    "v_init = 20.0 * np.ones((10, 1))\n",
    "\n",
    "fixed_params = torch.tensor([x_init, y_init, v_init, psi_init, psidot_init], dtype=torch.double).to(device)\n",
    "variable_params = torch.tensor([x_fin, y_fin, psi_fin, psidot_fin], dtype=torch.double).to(device)\n",
    "fixed_params = torch.squeeze(fixed_params).transpose(0, 1)\n",
    "variable_params = torch.squeeze(variable_params).transpose(0, 1)"
   ]
  },
  {
   "cell_type": "code",
   "execution_count": 14,
   "metadata": {},
   "outputs": [
    {
     "data": {
      "image/png": "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\n",
      "text/plain": [
       "<Figure size 432x288 with 1 Axes>"
      ]
     },
     "metadata": {
      "needs_background": "light"
     },
     "output_type": "display_data"
    },
    {
     "data": {
      "image/png": "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\n",
      "text/plain": [
       "<Figure size 432x288 with 1 Axes>"
      ]
     },
     "metadata": {
      "needs_background": "light"
     },
     "output_type": "display_data"
    },
    {
     "data": {
      "image/png": "iVBORw0KGgoAAAANSUhEUgAAAXQAAAD8CAYAAABn919SAAAABHNCSVQICAgIfAhkiAAAAAlwSFlzAAALEgAACxIB0t1+/AAAADh0RVh0U29mdHdhcmUAbWF0cGxvdGxpYiB2ZXJzaW9uMy4yLjIsIGh0dHA6Ly9tYXRwbG90bGliLm9yZy+WH4yJAAAfk0lEQVR4nO3deXRc5Znn8e9Tm3ZZtiUvWF7BNLbjsAkDgXQICXsSemgyA50OCacTH3JIDjmTTk6WM8mk58ykl5wshASPO6EDSTp0JgmEYQyEBAgQAsEGr9jGwhgsb5K8yNaukp75o66k0mKrZJVcvlW/zzl16ta9r6qe1wd+evXet+41d0dERMIvkusCREQkOxToIiJ5QoEuIpInFOgiInlCgS4ikicU6CIieSLjQDezqJm9amaPjnLMzOxuM6s3s41mdkF2yxQRkbGMZ4R+F7D1OMeuAxYHj5XAvROsS0REximjQDezWuAG4IfHaXIj8ICnvAhUmdnsLNUoIiIZiGXY7jvAF4CK4xyfA+xOe90Q7NuX3sjMVpIawVNWVnbhOeecM65iRUQK3bp165rdvWa0Y2MGupl9AGh093VmdsXxmo2yb8Q1Bdx9NbAaoK6uzteuXTvWx4uISBoze+t4xzKZcrkM+JCZ7QIeBK40s58Oa9MAzE17XQvsHWedIiIyAWMGurt/yd1r3X0BcAvwlLv/7bBmjwC3BatdLgFa3H3f8PcSEZHJk+kc+ghmdgeAu68C1gDXA/VAO3B7VqoTEZGMjSvQ3f0Z4Jlge1XafgfuzGZhIiIyPvqmqIhInlCgi4jkCQW6iEieCF2gb99/jG8+sZ2DrV25LkVE5LQSukB/o6mVe56up0mBLiIyROgCPR5NldyT1M2tRUTShS7QE7FUyd29vTmuRETk9BK+QA9G6N0aoYuIDBG+QI+lrgPW3duX40pERE4v4Qv0aBSA7qQCXUQkXegCPR6M0Hs0QhcRGSJ0gT44h65AFxFJF75AH1jlokAXEUkXvkDXCF1EZFThC/SYAl1EZDShC/SBb4pqykVEZIjQBbpG6CIioxsz0M2s2Mz+bGYbzGyLmX19lDZXmFmLma0PHl+dnHIhFtGyRRGR0WRyC7ou4Ep3bzWzOPC8mT3m7i8Oa/ecu38g+yUOZWYkYhG6FOgiIkOMGejB/UJbg5fx4JHTC6kURSOachERGSajOXQzi5rZeqAReNLdXxql2aXBtMxjZrYsq1UOE49FNOUiIjJMRoHu7r3ufh5QC6wws3cMa/IKMN/dzwW+Bzw82vuY2UozW2tma5uamk666IRG6CIiI4xrlYu7HwGeAa4dtv+ou7cG22uAuJlVj/Lzq929zt3rampqTrroeMzo6dXlc0VE0mWyyqXGzKqC7RLg/cC2YW1mmZkF2yuC9z2Y/XJTNEIXERkpk1Uus4H7zSxKKqh/4e6PmtkdAO6+CrgZ+JSZJYEO4JbgZOqkSMSidCnQRUSGyGSVy0bg/FH2r0rbvge4J7ulHV8iajopKiIyTOi+KQqpb4tqykVEZKhQBno8qmWLIiLDhTLQE7GIrocuIjJMOANdq1xEREYIZaDHNUIXERkhlIGua7mIiIwUykDXSVERkZFCGehatigiMlJoA13XchERGSqUgR7XHLqIyAihDPT+deiTeLkYEZHQCWegR/vvK6pAFxHpF85Aj6XK1lp0EZFB4Qz0aKrsHs2ji4gMCGWgxzVCFxEZIZSB3j9C10oXEZFB4Qx0jdBFREYIZ6BrhC4iMkImN4kuNrM/m9kGM9tiZl8fpY2Z2d1mVm9mG83sgskpN6V/hK7ruYiIDMrkJtFdwJXu3mpmceB5M3vM3V9Ma3MdsDh4XAzcGzxPirhG6CIiI4w5QveU1uBlPHgM/0bPjcADQdsXgSozm53dUgcNzKEr0EVEBmQ0h25mUTNbDzQCT7r7S8OazAF2p71uCPYNf5+VZrbWzNY2NTWdbM2DI3RNuYiIDMgo0N29193PA2qBFWb2jmFNbLQfG+V9Vrt7nbvX1dTUjL/aQJFG6CIiI4xrlYu7HwGeAa4ddqgBmJv2uhbYO6HKTmDwpKiu5SIi0i+TVS41ZlYVbJcA7we2DWv2CHBbsNrlEqDF3fdlvdrA4JRL72R9hIhI6GSyymU2cL+ZRUn9AviFuz9qZncAuPsqYA1wPVAPtAO3T1K9gE6KioiMZsxAd/eNwPmj7F+Vtu3Andkt7fjiEV0+V0RkuFB+U7R/ykVfLBIRGRTOQA+mXJIaoYuIDAhloMeCKRetQxcRGRTKQO+fctEIXURkUCgDPRoxIqY5dBGRdKEMdEiN0nv6FOgiIv3CHehJTbmIiPQLcaAbSY3QRUQGhDbQY9GI5tBFRNKENtAT0Yi+KSoikia0gR6LmkboIiJpQhvo8WhE69BFRNKENtBjEdM3RUVE0oQ20BOxCEkFuojIgNAGelwnRUVEhghtoMciOikqIpIutIGeiGkduohIukzuKTrXzJ42s61mtsXM7hqlzRVm1mJm64PHVyen3EGxiJHs05SLiEi/TO4pmgQ+5+6vmFkFsM7MnnT314a1e87dP5D9EkcXj0Z0T1ERkTRjjtDdfZ+7vxJsHwO2AnMmu7CxxKMRjdBFRNKMaw7dzBaQumH0S6McvtTMNpjZY2a27Dg/v9LM1prZ2qampnEXmy6ub4qKiAyRcaCbWTnwK+Cz7n502OFXgPnufi7wPeDh0d7D3Ve7e52719XU1JxszUDq4lz6pqiIyKCMAt3M4qTC/Gfu/uvhx939qLu3BttrgLiZVWe10mHi0Yi+KSoikiaTVS4G/AjY6u7fOk6bWUE7zGxF8L4Hs1nocPGo6ZuiIiJpMlnlchnwUWCTma0P9n0ZmAfg7quAm4FPmVkS6ABucfdJnQ/RN0VFRIYaM9Dd/XnAxmhzD3BPtorKhC6fKyIyVHi/Kao7FomIDBHaQC+KRehzFOoiIoHQBnpxPApAR09vjisRETk9hDbQSxKpQO/sVqCLiECYA10jdBGRIRToIiJ5IryBHky5dGjKRUQECHOga4QuIjJEeAO9/6SoAl1EBAhzoPeP0Lu1Dl1EBEIc6FqHLiIyVGgDfeCkqAJdRAQIc6DHB79YNMkXdhQRCYXQBnr/lMv/XLOVhV9aw/efrs9xRSIiuRXaQI9Ghl7R91+e2M7uQ+05qkZEJPdCG+jpHr7zMgDWbNqX40pERHIn9IF+7twqzptbxZLZlTy7oynX5YiI5MyYdywys7nAA8AsoA9Y7e7fHdbGgO8C1wPtwMfd/ZXslzvU5q9fQzyamnqpmz+Vh17dQ2+fj5iOEREpBJmM0JPA59x9CXAJcKeZLR3W5jpgcfBYCdyb1SqPo7woRlEsdXL0/HlVtHYl2dF47FR8tIjIaWfMQHf3ff2jbXc/BmwF5gxrdiPwgKe8CFSZ2eysV3sCy+dMAWDbPgW6iBSmcc2hm9kC4HzgpWGH5gC70143MDL0MbOVZrbWzNY2NWV3vnv+9DKiEaO+sTWr7ysiEhYZB7qZlQO/Aj7r7keHHx7lR0Z828fdV7t7nbvX1dTUjK/SMSRiEeZPL1Wgi0jByijQzSxOKsx/5u6/HqVJAzA37XUtsHfi5Y3PmTXl1Dcp0EWkMI0Z6MEKlh8BW939W8dp9ghwm6VcArS4+ylfFH7WjHJ2NbfR06srMIpI4Rlz2SJwGfBRYJOZrQ/2fRmYB+Duq4A1pJYs1pNatnh79ksd21k15ST7nLcPtXNmTXkuShARyZkxA93dn2f0OfL0Ng7cma2iTtaZM1IhXt/YqkAXkYIT+m+KpjuzpgxAJ0ZFpCDlVaBXFMepqShiV3NbrksRETnl8irQARZOL2PXQQW6iBSevAv0BdWlvNmsy+iKSOHJu0CfP72M5tYuWruSuS5FROSUyrtAX1idOjGqeXQRKTR5F+gLpgeBrnl0ESkw+Rfo1aWARugiUnjyLtBLEzFmVhbpxKiIFJy8C3RITbtoykVECk1eBvrC6jLeUqCLSIHJy0BfUF1Gc2s3xzp7cl2KiMgpk5+BPr3/xKjm0UWkcORloPdfaVE3jBaRQpKXgb6oppyyRJQNu4/kuhQRkVMmLwM9GjGW105hfUNLrksRETll8jLQAermT2PznhaOtHfnuhQRkVMik3uK3mdmjWa2+TjHrzCzFjNbHzy+mv0yx+/qZTPp7XN++9qBXJciInJKZDJC/zFw7RhtnnP384LHP0y8rIlbPmcKZ9aU8b//8AZJ3TRaRArAmIHu7s8Ch05BLVllZnzh2nN4o6mN/1i7O9fliIhMumzNoV9qZhvM7DEzW5al95ywq5fO5KIFU/n2kzt0fXQRyXvZCPRXgPnufi7wPeDh4zU0s5VmttbM1jY1NWXho0/MzPjy9Utobu3igT/tmvTPExHJpQkHursfdffWYHsNEDez6uO0Xe3ude5eV1NTM9GPzsj586Zy+VnV3P/CLs2li0hem3Cgm9ksM7Nge0Xwngcn+r7Z9JGL53HgaBd/2nlalSUiklWxsRqY2c+BK4BqM2sAvgbEAdx9FXAz8CkzSwIdwC3u7pNW8Ul47zkzKC+K8cj6vbx78an5y0BE5FQbM9Dd/dYxjt8D3JO1iiZBcTzK1ctm8viW/fyPv3oHxfForksSEcm6vP2m6HAfOvcMjnUmeW5Hc65LERGZFAUT6O86s5qK4hhPbNmf61JERCZFwQR6Ihbh/Utm8rutB+jRahcRyUMFE+gA1yybxZH2Hv78Zui++CoiMqaCCvT3nF1DSTzK45s17SIi+aegAr0kEeWKv6jhiS376e07rVZWiohMWEEFOsAHzz2DxmNdPLO9MdeliIhkVcEF+lVLZzKzsogH/vRWrksREcmqggv0eDTCrSvm8YfXm9jZ1JrrckREsqbgAh3gIxfPpzQR5Z8f357rUkREsqYgA72moog73nMmj2/Zz0u6YJeI5ImCDHSAT757EXOqSvjSQ5vo7OnNdTkiIhNWsIFekojyjZuWs7Opje/8bkeuyxERmbCCDXSAvzy7hv9SN5fVz77Bht1Hcl2OiMiEFHSgA3z5hiXUVBTxhV9upCupqRcRCa+CD/QpJXG+cdNyth84xveffiPX5YiInLSCD3SAK8+ZyU3nz+EHT9dr6kVEQkuBHvjaB5cxs7KYz/z8VY519uS6HBGRcRsz0M3sPjNrNLPNxzluZna3mdWb2UYzuyD7ZU6+KaVx7r71PPYc6eBLv97EaXZbVBGRMWUyQv8xcO0Jjl8HLA4eK4F7J15Wblw4fxqfu/psHt24j7t/X5/rckRExmXMQHf3Z4ET3RHiRuABT3kRqDKz2dkq8FT71HvO5OYLa/n2717nl+sacl2OiEjGYll4jznA7rTXDcG+fcMbmtlKUqN45s2bl4WPzj4z43/9p+Xsb+nkC7/cQFEswgfPPSPXZYmIjCkbJ0VtlH2jTkC7+2p3r3P3upqamix89ORIxCKsvu1C6hZM47P/sZ5HN+7NdUkiImPKRqA3AHPTXtcCoU/A0kSMf/v4RVw4byp3Pbie/7N299g/JCKSQ9kI9EeA24LVLpcALe4+YroljMqKYvzb7Rdx6aLpfP6XG/n+0/Va/SIip60x59DN7OfAFUC1mTUAXwPiAO6+ClgDXA/UA+3A7ZNVbC6UFcW47+MX8flfbuBfnthO49FOvvrBZUQjo800iYjkzpiB7u63jnHcgTuzVtFpKBGL8O3/fB4zKor41+feZGdzG3ffcj5TyxK5Lk1EZIC+KZqhSMT4yg1L+cZNy3lp5yE+eM/zbN7TkuuyREQGKNDH6dYV8/jFHZfS2+f89b0v8JMX39K8uoicFhToJ+G8uVX8389czsWLpvPfHt7M392/lqZjXbkuS0QKnAL9JFWXF3H/7Rfx3z+4lD/WN3PNd57lt1v257osESlgCvQJMDM+ftlCHv3M5cyqLGblT9Zx589eofFoZ65LE5ECpEDPgsUzK3j4zsv43FVn8+TWA7zvW3/g3196m74+za2LyKmjQM+SRCzCZ963mMfvejfLzqjkyw9t4qZ7X+CVtw/nujQRKRAK9CxbVFPOzz95Cd/88LnsOdLBTT94gbsefJU9RzpyXZqI5DkF+iQwM26+sJZn/v4KPv3es3h8836u/OYzfPOJ7bR06G5IIjI5LFdrqOvq6nzt2rU5+exTbc+RDv7psW08smEvFcUxPvnuRdx+2QIqiuO5Lk1EQsbM1rl73ajHFOinzpa9LXz7yR38busBqkrjrPzLRXzs0gWUFWXjsvQiUggU6KeZDbuP8O3fvc4z25uYWhrno5cu4GOXzmd6eVGuSxOR05wC/TS17q3D3PvMG/xu6wGKYhE+XFfLJy5fxILqslyXJiKnKQX6aa6+8Rj/+uybPPTqHnr6+rhqyUxuu3QB7zpzOhFdpldE0ijQQ6LxaCc/fmEXD768m0Nt3SyqLuMjl8zn5gtqmVKqE6giokAPna5kL49t2s9PXnyLdW8dpjge4UPnnsGH6+ZSN38qZhq1ixQqBXqIbdnbwk9ffJvfrN9De3cv86eXctP5tdx0wRzmTivNdXkicopNONDN7Frgu0AU+KG7/+Ow41cAvwHeDHb92t3/4UTvqUAfn7auJI9v3s+vXmngTzsP4g4XL5zGX19YyzXLZjGlRFMyIoVgQoFuZlHgdeAqoAF4GbjV3V9La3MF8Pfu/oFMi1Kgn7w9Rzp46JUGfvXKHt5sbiMeNd69uIbrl8/mqqUzFe4ieexEgZ7JN1pWAPXuvjN4sweBG4HXTvhTMmnmVJXw6SsXc+d7z2L97iOs2bSPNZv289S2RuJR4/Kzqrl++WyuXjpLJ1NFCkgmgT4H2J32ugG4eJR2l5rZBmAvqdH6luENzGwlsBJg3rx5469WhjAzzp83lfPnTeXL1y9hQ0MLazbt4/9t3MfT2zfyxcgmLlowlfedM5Mrl8xgUXWZTqiK5LFMplw+DFzj7p8IXn8UWOHun0lrUwn0uXurmV0PfNfdF5/ofTXlMnncnY0NLfz2tf38fmsj2/YfA2DB9FKuPGcm71syg4sWTCMR07XZRMJmolMuDcDctNe1pEbhA9z9aNr2GjP7gZlVu3vzyRQsE2NmnDu3inPnVvH5a85hz5EOntrWyFNbD/DTl97ivj++SWkiysULp3HZWdVcvriav5hZodG7SMhlMkKPkTop+j5gD6mTon+TPqViZrOAA+7uZrYC+CUw30/w5hqh50Z7d5I/1h/kuR1NPF/fzM6mNiB1j9TLz5rOZWdVc9lZ1ZxRVZLjSkVkNBMaobt70sw+DTxBatnife6+xczuCI6vAm4GPmVmSaADuOVEYS65U5qIcdXSmVy1dCaQWjHzx/pm/ljfzPP1zTy8PvXHV+3UElYsmMZFC6dx0YJpnFmj+XeR052+WCQD+vqc7QeO8cIbB3n5zUO8vOsQB9u6AZhelqBuwVQuWpAK+CWzKzUHL5ID+qaonBR3Z2dzGy+/eYg/70oF/O5DqVvpJWIRlp1RyXlzqwYe86aVahQvMskU6JI1+1s6WffWYTY0HGH920fYtKeFjp5eAKaWxlMnY2urWD5nCkvPqGT2lGKFvEgWTXSVi8iAWVOKueGds7nhnbMBSPb28fqB1oGA39BwhGdf30FfME6YWhpn6RmVLJ1dybIzUiG/qLqMWFTTNSLZphG6ZF1bV5Jt+4/y2t6jbNl7lNf2HWXb/mN0J/sAKIpFOGdWBUtmV3L2zArOnlnB4pnlzKgo0mheZAwaocspVVYU48L507hw/rSBfcnePt5oauO1fS0DQf/4lv08+PLgl5Ari2MD4b54Rur57JkVCnqRDGmELjnj7jS3drPjwDF2NLby+oFj7DjQyuuNxzjS3jPQrrI4xqKachZVl7EgePRvl+sG21JgNEKX05KZUVNRRE1FEe86q3pg/2hBv7OpjT/tPMivX90z5D1qKopYOL2MBdWlLKwuZ2F1KfOmlVE7rYTKYl2YTAqLAl1OO8cLeoCO7l52HWxjV3MbO5tTz7sOtvHUtkaaWxuGtJ1SEmfutBJqq0pTz1NTz3OnljJnagmlCf3nL/lF/0VLqJQkoiyZXcmS2ZUjjh3t7OGt5nbePtROw+F2dh9up+FwBzsaj/H09ka6gpOy/arLE8yZWkptVQmzphQze0oxs6cMbs+oKNJqHAkVBbrkjcriOMtrp7C8dsqIY+5OU2sXuw910BAEfcPhdnYf6mDr/qM8ta1xYD19v4ilpnRmTSlhdmUxs6tSQT9rSgmzKlOBX1NRRJnm8eU0of8SpSCYGTMqiplRUcyF86eOOO7uHO1Isu9oB/taOtnf0hk8p17XN7Xy3I4m2rp7R/xsaSKamiIqLxqYKqru3x62T5dLkMmkQBchFfhTSuNMKY1zzqyR0zn9jnX2DIR907Eumlq7Us/Bo76xlT/tPDhklU66qtI408sSTC8rYmpZnGllCaaVJZhaGjyXJZie9ro0EdWSTcmYAl1kHCqK41QUx1k8s+KE7bqSvRxs7R4M+7Tgb27t4lBbN282t7HurSMcbu+mt2/05cOJWGRIwE8tSzC1NE5lcZwpJalHZcng9pTSOJXFMcqLYvpFUIAU6CKToCgW5YyqkoyuK9/X5xzrTHKovZtDbd0cbuseut3WzeH2bg62dbP7cDstHT0c7ejhOL8DAIhGjMri2IjQTw//iiD4K4pjlCVilBfHqCiKUx7s1/RQ+CjQRXIsEhmc7llYXZbRz/T1Oa3dSVraewYCviV4HO0c3G7pSA5sNxzuGNg+3l8E6RKxCOVFscFHcYyK4LmsKNhOe12aiFKaiFIST9tORClNpF4XxSL6q2GSKdBFQigSMSqLU1Mvc8duPoS709bdS1tXkmOdSVq7krR2Jmnt6qG1q5fWzh5au5IcG9ifHGi7/2gnrU2D+4cvBT1hzZa6wUrJQPBHg+BP7StLRClJDP1lUBKPUhyPUhyPUByLUjTwnNpXFAuOBe2KYhHiBbzUVIEuUmDMbGDUPfP4538z0p3so60rFe4dPb20d/fS3pVMPff00tEdbHf30tH/3JOkrSttuztJc2tXWrsk7T29nOxVSaIRozgWGQj44vjgL4D0Xwr9vwj6fwkkYqlHPBqhKG07kXYsMazdwOv0NrEI8aiRiJ76v0gyCnQzuxb4Lqlb0P3Q3f9x2HELjl8PtAMfd/dXslyriJxmUgGWOlmbTe5OZ08fHT29dCV76ezpo7Onl86eXrqS/dt9dCV76erpozPZO2TfYPvB111Bm7a25MCx/vfr6e2jO9lHMoOpqPFIRINwT/8lEIvwNyvm8Yl3L8rqZ0EGgW5mUeD7wFVAA/CymT3i7q+lNbsOWBw8LgbuDZ5FRMbNzFJTLonoKf3cvj6nu7cv9UgL+u5k35Dg7+4d3E7t96Bdb3DM6UqOfI+e3j66evuoLi+alPozGaGvAOrdfSeAmT0I3AikB/qNwAPBjaFfNLMqM5vt7vuyXrGIyCSJRIziSGo+PowyOXswB9id9roh2DfeNpjZSjNba2Zrm5qaxluriIicQCaBPtqs/vCJpkza4O6r3b3O3etqamoyqU9ERDKUSaA3wJCVUbXA3pNoIyIikyiTQH8ZWGxmC80sAdwCPDKszSPAbZZyCdCi+XMRkVNrzJOi7p40s08DT5Batnifu28xszuC46uANaSWLNaTWrZ4++SVLCIio8loHbq7ryEV2un7VqVtO3BndksTEZHxKNzvyIqI5BkFuohInjA/2QsmTPSDzZqAt07yx6uB5iyWEwbqc2FQnwvDRPo8391HXfeds0CfCDNb6+51ua7jVFKfC4P6XBgmq8+achERyRMKdBGRPBHWQF+d6wJyQH0uDOpzYZiUPodyDl1EREYK6whdRESGUaCLiOSJ0AW6mV1rZtvNrN7MvpjrerLFzO4zs0Yz25y2b5qZPWlmO4LnqWnHvhT8G2w3s2tyU/XEmNlcM3vazLaa2RYzuyvYn7f9NrNiM/uzmW0I+vz1YH/e9hlSdz4zs1fN7NHgdV73F8DMdpnZJjNbb2Zrg32T2293D82D1MXB3gAWAQlgA7A013VlqW9/CVwAbE7b98/AF4PtLwL/FGwvDfpeBCwM/k2iue7DSfR5NnBBsF0BvB70LW/7TereAeXBdhx4Cbgkn/sc9OO/Av8OPBq8zuv+Bn3ZBVQP2zep/Q7bCH3gdnju3g303w4v9Nz9WeDQsN03AvcH2/cDf5W2/0F373L3N0ld5XLFKSk0i9x9nwc3E3f3Y8BWUne6ytt+e0pr8DIePJw87rOZ1QI3AD9M2523/R3DpPY7bIGe0a3u8shMD64rHzzPCPbn3b+DmS0Azic1Ys3rfgfTD+uBRuBJd8/3Pn8H+ALQl7Yvn/vbz4Hfmtk6M1sZ7JvUfmd0+dzTSEa3uisAefXvYGblwK+Az7r7UbPRupdqOsq+0PXb3XuB88ysCnjIzN5xguah7rOZfQBodPd1ZnZFJj8yyr7Q9HeYy9x9r5nNAJ40s20naJuVfodthF5ot7o7YGazAYLnxmB/3vw7mFmcVJj/zN1/HezO+34DuPsR4BngWvK3z5cBHzKzXaSmSK80s5+Sv/0d4O57g+dG4CFSUyiT2u+wBXomt8PLJ48AHwu2Pwb8Jm3/LWZWZGYLgcXAn3NQ34RYaij+I2Cru38r7VDe9tvMaoKROWZWArwf2Eae9tndv+Tute6+gNT/r0+5+9+Sp/3tZ2ZlZlbRvw1cDWxmsvud6zPBJ3Hm+HpSqyHeAL6S63qy2K+fA/uAHlK/rf8OmA78HtgRPE9La/+V4N9gO3Bdrus/yT5fTurPyo3A+uBxfT73G3gn8GrQ583AV4P9edvntH5cweAql7zuL6mVeBuCx5b+rJrsfuur/yIieSJsUy4iInIcCnQRkTyhQBcRyRMKdBGRPKFAFxHJEwp0EZE8oUAXEckT/x9rfkMF2UjJawAAAABJRU5ErkJggg==\n",
      "text/plain": [
       "<Figure size 432x288 with 1 Axes>"
      ]
     },
     "metadata": {
      "needs_background": "light"
     },
     "output_type": "display_data"
    }
   ],
   "source": [
    "res, res_eq_pt, res_nonhol_pt, res_eq_psi_pt = opt_node.solve(fixed_params, variable_params)"
   ]
  },
  {
   "cell_type": "code",
   "execution_count": 15,
   "metadata": {},
   "outputs": [],
   "source": [
    "c_x = res[:, :opt_node.nvar]\n",
    "c_y = res[:, opt_node.nvar: 2*opt_node.nvar]"
   ]
  },
  {
   "cell_type": "code",
   "execution_count": 16,
   "metadata": {},
   "outputs": [
    {
     "data": {
      "text/plain": [
       "[<matplotlib.lines.Line2D at 0x7efd2050a290>,\n",
       " <matplotlib.lines.Line2D at 0x7efd2050a490>,\n",
       " <matplotlib.lines.Line2D at 0x7efd2050a650>,\n",
       " <matplotlib.lines.Line2D at 0x7efd2050a810>,\n",
       " <matplotlib.lines.Line2D at 0x7efd2050a9d0>,\n",
       " <matplotlib.lines.Line2D at 0x7efd2050ab90>,\n",
       " <matplotlib.lines.Line2D at 0x7efd2050add0>,\n",
       " <matplotlib.lines.Line2D at 0x7efd2050af90>,\n",
       " <matplotlib.lines.Line2D at 0x7efd2050a990>,\n",
       " <matplotlib.lines.Line2D at 0x7efd2050abd0>]"
      ]
     },
     "execution_count": 16,
     "metadata": {},
     "output_type": "execute_result"
    },
    {
     "data": {
      "image/png": "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\n",
      "text/plain": [
       "<Figure size 432x288 with 1 Axes>"
      ]
     },
     "metadata": {
      "needs_background": "light"
     },
     "output_type": "display_data"
    }
   ],
   "source": [
    "x = torch.matmul(opt_node.P, c_x.T)\n",
    "y = torch.matmul(opt_node.P, c_y.T)\n",
    "plt.plot(x, y)"
   ]
  },
  {
   "cell_type": "code",
   "execution_count": 17,
   "metadata": {},
   "outputs": [
    {
     "data": {
      "text/plain": [
       "<matplotlib.legend.Legend at 0x7efd3c696610>"
      ]
     },
     "execution_count": 17,
     "metadata": {},
     "output_type": "execute_result"
    },
    {
     "data": {
      "image/png": "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\n",
      "text/plain": [
       "<Figure size 432x288 with 1 Axes>"
      ]
     },
     "metadata": {
      "needs_background": "light"
     },
     "output_type": "display_data"
    }
   ],
   "source": [
    "plt.plot(res_eq, label=\"np\")\n",
    "plt.plot(res_eq_pt, label=\"torch\")\n",
    "plt.legend()"
   ]
  },
  {
   "cell_type": "code",
   "execution_count": 18,
   "metadata": {},
   "outputs": [
    {
     "data": {
      "text/plain": [
       "<matplotlib.legend.Legend at 0x7efd20491190>"
      ]
     },
     "execution_count": 18,
     "metadata": {},
     "output_type": "execute_result"
    },
    {
     "data": {
      "image/png": "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\n",
      "text/plain": [
       "<Figure size 432x288 with 1 Axes>"
      ]
     },
     "metadata": {
      "needs_background": "light"
     },
     "output_type": "display_data"
    }
   ],
   "source": [
    "plt.plot(res_nonhol, label=\"np\")\n",
    "plt.plot(res_nonhol_pt, label=\"torch\")\n",
    "plt.legend()"
   ]
  },
  {
   "cell_type": "code",
   "execution_count": 19,
   "metadata": {},
   "outputs": [
    {
     "data": {
      "text/plain": [
       "<matplotlib.legend.Legend at 0x7efd2040ee50>"
      ]
     },
     "execution_count": 19,
     "metadata": {},
     "output_type": "execute_result"
    },
    {
     "data": {
      "image/png": "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\n",
      "text/plain": [
       "<Figure size 432x288 with 1 Axes>"
      ]
     },
     "metadata": {
      "needs_background": "light"
     },
     "output_type": "display_data"
    }
   ],
   "source": [
    "plt.plot(res_eq_psi, label=\"np\")\n",
    "plt.plot(res_eq_psi_pt, label=\"torch\")\n",
    "plt.legend()"
   ]
  },
  {
   "cell_type": "code",
   "execution_count": null,
   "metadata": {},
   "outputs": [],
   "source": []
  }
 ],
 "metadata": {
  "kernelspec": {
   "display_name": "Python 3",
   "language": "python",
   "name": "python3"
  },
  "language_info": {
   "codemirror_mode": {
    "name": "ipython",
    "version": 3
   },
   "file_extension": ".py",
   "mimetype": "text/x-python",
   "name": "python",
   "nbconvert_exporter": "python",
   "pygments_lexer": "ipython3",
   "version": "3.7.7"
  }
 },
 "nbformat": 4,
 "nbformat_minor": 5
}

    "sys.path.append(\"../Base\")\n",
    "import warnings\n",
    "warnings.filterwarnings('ignore')\n",
    "\n",
    "import torch\n",
    "import numpy as np\n",
    "import scipy.special\n",
    "import torch.nn as nn\n",
    "import torch.nn.functional as F\n",
    "import matplotlib.pyplot as plt\n",
    "\n",
    "from scipy.linalg import block_diag\n",
    "from torch.utils.data import Dataset, DataLoader\n",
    "from bernstein_coeff_order10_arbitinterval import bernstein_coeff_order10_new\n",
    "from ddn.pytorch.node import AbstractDeclarativeNode"
   ]
  },
  {
   "cell_type": "code",
   "execution_count": 61,
   "metadata": {},
   "outputs": [],
   "source": [
    "import time\n",
    "import numpy as np\n",
    "import jax.numpy as jnp\n",
    "import matplotlib.pyplot as plt \n",
    "import bernstein_coeff_order10_arbitinterval\n",
    "\n",
    "from jax import grad, jit, jacfwd, jacrev, random, vmap\n",
    "from jax.config import config\n",
    "config.update(\"jax_enable_x64\", True)"
   ]
  },
  {
   "cell_type": "code",
   "execution_count": 63,
   "metadata": {},
   "outputs": [],
   "source": [
    "class Optimizer_Nonhol:\n",
    "    def __init__(self):\n",
    "        self.rho_eq = 1.0\n",
    "        self.rho_goal = 1.0\n",
    "        self.rho_nonhol = 1.0\n",
    "        self.rho_psi = 1.0\n",
    "        self.maxiter = 500\n",
    "        self.weight_smoothness = 5.0\n",
    "        self.weight_smoothness_psi = 5.0\n",
    "\n",
    "        self.t_fin = 8.0\n",
    "        self.num = 100\n",
    "        self.t = self.t_fin / self.num\n",
    "\n",
    "        self.num_batch = 10\n",
    "\n",
    "        tot_time = np.linspace(0.0, self.t_fin, self.num)\n",
    "        tot_time_copy = tot_time.reshape(self.num, 1)\n",
    "        (self.P, self.Pdot, self.Pddot) = bernstein_coeff_order10_arbitinterval.bernstein_coeff_order10_new(10, tot_time_copy[0], tot_time_copy[-1], tot_time_copy)\n",
    "        self.nvar = np.shape(self.P)[1]\n",
    "\n",
    "        self.lamda_x = np.zeros((self.num_batch, self.nvar))\n",
    "        self.lamda_y = np.zeros((self.num_batch, self.nvar))\n",
    "        self.lamda_psi = np.zeros((self.num_batch, self.nvar))\n",
    "\n",
    "        self.cost_smoothness = self.weight_smoothness * np.dot(self.Pddot.T, self.Pddot)\n",
    "\n",
    "        self.cost_smoothness_psi = self.weight_smoothness_psi * np.dot(self.Pddot.T, self.Pddot)\n",
    "        self.lincost_smoothness_psi = np.zeros(self.nvar)\n",
    "\n",
    "        self.A_eq = np.vstack((self.P[0], self.P[-1]))\n",
    "        self.A_eq_psi = np.vstack((self.P[0], self.Pdot[0], self.P[-1], self.Pdot[-1]))\n",
    "\n",
    "        self.A_nonhol = self.Pdot\n",
    "        self.A_psi = self.P\n",
    "\n",
    "        # ############################### Converting to Jax for objective and gradient computation\n",
    "\n",
    "        self.P_jax = jnp.asarray(self.P)\n",
    "        self.Pdot_jax = jnp.asarray(self.Pdot)\n",
    "        self.Pddot_jax = jnp.asarray(self.Pddot)\n",
    "\n",
    "    def compute_x(self, b_eq_x, b_eq_y):\n",
    "\n",
    "        b_nonhol_x = self.v * np.cos(self.psi)\n",
    "        b_nonhol_y = self.v * np.sin(self.psi)\n",
    "\n",
    "        cost = self.cost_smoothness + self.rho_nonhol * np.dot(self.A_nonhol.T, self.A_nonhol) + self.rho_eq * np.dot(self.A_eq.T, self.A_eq)\n",
    "        lincost_x = -self.lamda_x - self.rho_nonhol * np.dot(self.A_nonhol.T, b_nonhol_x.T).T - self.rho_eq * np.dot(self.A_eq.T, b_eq_x.T).T\n",
    "        lincost_y = -self.lamda_y - self.rho_nonhol * np.dot(self.A_nonhol.T, b_nonhol_y.T).T - self.rho_eq * np.dot(self.A_eq.T, b_eq_y.T).T\n",
    "\n",
    "        cost_inv = np.linalg.inv(cost)\n",
    "\n",
    "        sol_x = np.dot(-cost_inv, lincost_x.T).T\n",
    "        sol_y = np.dot(-cost_inv, lincost_y.T).T\n",
    "\n",
    "        self.x = np.dot(self.P, sol_x.T).T\n",
    "        self.xdot = np.dot(self.Pdot, sol_x.T).T\n",
    "\n",
    "        self.y = np.dot(self.P, sol_y.T).T\n",
    "        self.ydot = np.dot(self.Pdot, sol_y.T).T\n",
    "\n",
    "        return (sol_x, sol_y)\n",
    "\n",
    "    def compute_psi(self, psi_temp, b_eq_psi):\n",
    "\n",
    "        cost = self.cost_smoothness_psi + self.rho_psi * np.dot(self.A_psi.T, self.A_psi) + self.rho_eq * np.dot(self.A_eq_psi.T, self.A_eq_psi)\n",
    "        lincost_psi = -self.lamda_psi - self.rho_psi * np.dot(self.A_psi.T, psi_temp.T).T - self.rho_eq * np.dot(self.A_eq_psi.T, b_eq_psi.T).T\n",
    "\n",
    "        cost_inv = np.linalg.inv(cost)\n",
    "\n",
    "        sol_psi = np.dot(-cost_inv, lincost_psi.T).T\n",
    "\n",
    "        self.psi = np.dot(self.P, sol_psi.T).T\n",
    "\n",
    "        res_psi = np.dot(self.A_psi, sol_psi.T).T - psi_temp\n",
    "        res_eq_psi = np.dot(self.A_eq_psi, sol_psi.T).T - b_eq_psi\n",
    "\n",
    "        self.lamda_psi = self.lamda_psi - self.rho_psi * np.dot(self.A_psi.T, res_psi.T).T - self.rho_eq * np.dot(self.A_eq_psi.T, res_eq_psi.T).T\n",
    "\n",
    "        return (sol_psi, np.linalg.norm(res_psi), np.linalg.norm(res_eq_psi))\n",
    "\n",
    "    def solve(self, x_init, x_fin, y_init, y_fin, v_init, psi_init, psidot_init, psi_fin, psidot_fin):\n",
    "\n",
    "        b_eq_x = np.hstack((x_init, x_fin))\n",
    "        b_eq_y = np.hstack((y_init, y_fin))\n",
    "\n",
    "        b_eq_psi = np.hstack((psi_init, psidot_init, psi_fin, psidot_fin))\n",
    "\n",
    "        res_psi = np.ones(self.maxiter)\n",
    "        res_eq_psi = np.ones(self.maxiter)\n",
    "        res_nonhol = np.ones(self.maxiter)\n",
    "        res_eq = np.ones(self.maxiter)\n",
    "\n",
    "        self.v = np.ones((self.num_batch, self.num)) * v_init\n",
    "        self.psi = np.ones((self.num_batch, self.num)) * psi_init\n",
    "        self.xdot = self.v * np.cos(self.psi)\n",
    "        self.ydot = self.v * np.sin(self.psi)\n",
    "\n",
    "        for i in range(0, self.maxiter):\n",
    "\n",
    "            psi_temp = np.arctan2(self.ydot, self.xdot)\n",
    "\n",
    "            (c_psi, res_psi[i], res_eq_psi[i]) = self.compute_psi(psi_temp, b_eq_psi)\n",
    "\n",
    "            (c_x, c_y) = self.compute_x(b_eq_x, b_eq_y)\n",
    "            \n",
    "            self.v = np.sqrt(self.xdot ** 2 + self.ydot ** 2)\n",
    "            self.v[:, 0] = v_init[:, 0]\n",
    "\n",
    "            res_eq_x = np.dot(self.A_eq, c_x.T).T - b_eq_x\n",
    "            res_nonhol_x = self.xdot - self.v * np.cos(self.psi)\n",
    "\n",
    "            res_eq_y = np.dot(self.A_eq, c_y.T).T - b_eq_y\n",
    "            res_nonhol_y = self.ydot - self.v * np.sin(self.psi)\n",
    "\n",
    "            self.lamda_x = self.lamda_x - self.rho_eq * np.dot(self.A_eq.T, res_eq_x.T).T - self.rho_nonhol * np.dot(self.A_nonhol.T, res_nonhol_x.T).T\n",
    "            self.lamda_y = self.lamda_y - self.rho_eq * np.dot(self.A_eq.T, res_eq_y.T).T - self.rho_nonhol * np.dot(self.A_nonhol.T, res_nonhol_y.T).T\n",
    "\n",
    "            res_eq[i] = np.linalg.norm(np.hstack((res_eq_x, res_eq_y)))\n",
    "            res_nonhol[i] = np.linalg.norm(np.hstack((res_nonhol_x, res_nonhol_y)))\n",
    "\n",
    "        plt.figure(1)\n",
    "        plt.plot(res_eq)\n",
    "\n",
    "        plt.figure(2)\n",
    "        plt.plot(res_nonhol)\n",
    "\n",
    "        plt.figure(3)\n",
    "        plt.plot(res_eq_psi)\n",
    "\n",
    "        plt.figure(4)\n",
    "        plt.plot(self.x.T, self.y.T)\n",
    "        plt.axis('equal')\n",
    "\n",
    "        plt.show()\n",
    "        return (c_x, c_y, c_psi, self.v, res_eq, res_nonhol, res_eq_psi)"
   ]
  },
  {
   "cell_type": "code",
   "execution_count": 64,
   "metadata": {},
   "outputs": [
    {
     "name": "stderr",
     "output_type": "stream",
     "text": [
      "WARNING:absl:No GPU/TPU found, falling back to CPU. (Set TF_CPP_MIN_LOG_LEVEL=0 and rerun for more info.)\n"
     ]
    }
   ],
   "source": [
    "prob = Optimizer_Nonhol()"
   ]
  },
  {
   "cell_type": "code",
   "execution_count": 65,
   "metadata": {},
   "outputs": [],
   "source": [
    "x_init = 0.0 * np.ones((prob.num_batch, 1))\n",
    "x_fin = -50.0 *np.ones((prob.num_batch, 1))\n",
    "\n",
    "y_init = 0.0 * np.ones((prob.num_batch, 1))\n",
    "y_fin = 50.0 * np.ones((prob.num_batch, 1))\n",
    "\n",
    "psi_init = 91 * np.pi / 180.0 * np.ones((prob.num_batch, 1))\n",
    "psi_fin = np.linspace(160 * np.pi / 180, 170 * np.pi / 180, prob.num_batch).reshape(prob.num_batch, 1)\n",
    "\n",
    "psidot_init = 0.0 * np.ones((prob.num_batch, 1))\n",
    "psidot_fin = 0.0 * np.ones((prob.num_batch, 1))\n",
    "\n",
    "v_init = 20.0 * np.ones((prob.num_batch, 1))"
   ]
  },
  {
   "cell_type": "code",
   "execution_count": 66,
   "metadata": {},
   "outputs": [
    {
     "data": {
      "image/png": "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\n",
      "text/plain": [
       "<Figure size 432x288 with 1 Axes>"
      ]
     },
     "metadata": {
      "needs_background": "light"
     },
     "output_type": "display_data"
    },
    {
     "data": {
      "image/png": "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\n",
      "text/plain": [
       "<Figure size 432x288 with 1 Axes>"
      ]
     },
     "metadata": {
      "needs_background": "light"
     },
     "output_type": "display_data"
    },
    {
     "data": {
      "image/png": "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\n",
      "text/plain": [
       "<Figure size 432x288 with 1 Axes>"
      ]
     },
     "metadata": {
      "needs_background": "light"
     },
     "output_type": "display_data"
    },
    {
     "data": {
      "image/png": "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\n",
      "text/plain": [
       "<Figure size 432x288 with 1 Axes>"
      ]
     },
     "metadata": {
      "needs_background": "light"
     },
     "output_type": "display_data"
    }
   ],
   "source": [
    "c_x, c_y, c_psi, v, res_eq, res_nonhol, res_eq_psi = prob.solve(x_init, x_fin, y_init, y_fin, v_init, psi_init, psidot_init, psi_fin, psidot_fin)"
   ]
  },
  {
   "cell_type": "markdown",
   "metadata": {},
   "source": [
    "#### CUDA Initialization"
   ]
  },
  {
   "cell_type": "code",
   "execution_count": 5,
   "metadata": {},
   "outputs": [
    {
     "name": "stdout",
     "output_type": "stream",
     "text": [
      "Using cpu device\n"
     ]
    }
   ],
   "source": [
    "device = 'cuda' if torch.cuda.is_available() else 'cpu'\n",
    "print('Using {} device'.format(device))"
   ]
  },
  {
   "cell_type": "markdown",
   "metadata": {},
   "source": [
    "#### Initializations"
   ]
  },
  {
   "cell_type": "code",
   "execution_count": 67,
   "metadata": {},
   "outputs": [],
   "source": [
    "class OPTNode(AbstractDeclarativeNode):\n",
    "    def __init__(self, rho_eq=1.0, rho_goal=1.0, rho_nonhol=1.0, rho_psi=1.0, maxiter=500, weight_smoothness=5.0, weight_smoothness_psi=5.0, t_fin=8.0, num=100):\n",
    "        self.rho_eq = 1.0\n",
    "        self.rho_goal = 1.0\n",
    "        self.rho_nonhol = 1.0\n",
    "        self.rho_psi = 1.0\n",
    "        self.maxiter = 500\n",
    "        self.weight_smoothness = 5.0\n",
    "        self.weight_smoothness_psi = 5.0\n",
    "\n",
    "        self.t_fin = 8.0\n",
    "        self.num = 100\n",
    "        self.t = self.t_fin / self.num\n",
    "\n",
    "        self.num_batch = 10\n",
    "        \n",
    "        tot_time = np.linspace(0.0, self.t_fin, self.num)\n",
    "        tot_time_copy = tot_time.reshape(self.num, 1)\n",
    "        self.P, self.Pdot, self.Pddot = bernstein_coeff_order10_new(10, tot_time_copy[0], tot_time_copy[-1], tot_time_copy)\n",
    "        self.nvar = np.shape(self.P)[1]\n",
    "        \n",
    "        self.cost_smoothness = self.weight_smoothness * np.dot(self.Pddot.T, self.Pddot)\n",
    "        self.cost_smoothness_psi = self.weight_smoothness_psi * np.dot(self.Pddot.T, self.Pddot)\n",
    "        self.lincost_smoothness_psi = np.zeros(self.nvar)\n",
    "\n",
    "        self.A_eq = np.vstack((self.P[0], self.P[-1]))\n",
    "        self.A_eq_psi = np.vstack((self.P[0], self.Pdot[0], self.P[-1], self.Pdot[-1]))\n",
    "        \n",
    "        self.P = torch.tensor(self.P, dtype=torch.double).to(device)\n",
    "        self.Pdot = torch.tensor(self.Pdot, dtype=torch.double).to(device)\n",
    "        self.Pddot = torch.tensor(self.Pddot, dtype=torch.double).to(device)\n",
    "        self.A_eq = torch.tensor(self.A_eq, dtype=torch.double).to(device)        \n",
    "        self.A_eq_psi = torch.tensor(self.A_eq_psi, dtype=torch.double).to(device)\n",
    "        self.cost_smoothness = torch.tensor(self.cost_smoothness, dtype=torch.double).to(device)\n",
    "        self.cost_smoothness_psi = torch.tensor(self.cost_smoothness_psi, dtype=torch.double).to(device)\n",
    "        self.lincost_smoothness_psi = torch.tensor(self.lincost_smoothness_psi, dtype=torch.double).to(device)\n",
    "        \n",
    "        self.A_nonhol = self.Pdot\n",
    "        self.A_psi = self.P\n",
    "    \n",
    "    def compute_x(self, lamda_x, lamda_y, v, psi, b_eq_x, b_eq_y):\n",
    "        b_nonhol_x = v * torch.cos(psi)\n",
    "        b_nonhol_y = v * torch.sin(psi)\n",
    "\n",
    "        cost = self.cost_smoothness + self.rho_nonhol * torch.matmul(self.A_nonhol.T, self.A_nonhol) + self.rho_eq * torch.matmul(self.A_eq.T, self.A_eq)\n",
    "        lincost_x = -lamda_x - self.rho_nonhol * torch.matmul(self.A_nonhol.T, b_nonhol_x.T).T - self.rho_eq * torch.matmul(self.A_eq.T, b_eq_x.T).T\n",
    "        lincost_y = -lamda_y - self.rho_nonhol * torch.matmul(self.A_nonhol.T, b_nonhol_y.T).T - self.rho_eq * torch.matmul(self.A_eq.T, b_eq_y.T).T\n",
    "\n",
    "        cost_inv = torch.linalg.inv(cost)\n",
    "\n",
    "        sol_x = torch.matmul(-cost_inv, lincost_x.T).T\n",
    "        sol_y = torch.matmul(-cost_inv, lincost_y.T).T\n",
    "\n",
    "        x = torch.matmul(self.P, sol_x.T).T\n",
    "        xdot = torch.matmul(self.Pdot, sol_x.T).T\n",
    "\n",
    "        y = torch.matmul(self.P, sol_y.T).T\n",
    "        ydot = torch.matmul(self.Pdot, sol_y.T).T\n",
    "\n",
    "        return sol_x, sol_y, x, xdot, y, ydot\n",
    "    \n",
    "    def compute_psi(self, psi, lamda_psi, psi_temp, b_eq_psi):\n",
    "        cost = self.cost_smoothness_psi + self.rho_psi * torch.matmul(self.A_psi.T, self.A_psi) + self.rho_eq * torch.matmul(self.A_eq_psi.T, self.A_eq_psi)\n",
    "        lincost_psi = -lamda_psi - self.rho_psi * torch.matmul(self.A_psi.T, psi_temp.T).T - self.rho_eq * torch.matmul(self.A_eq_psi.T, b_eq_psi.T).T\n",
    "\n",
    "        cost_inv = torch.linalg.inv(cost)\n",
    "\n",
    "        sol_psi = torch.matmul(-cost_inv, lincost_psi.T).T\n",
    "\n",
    "        psi = torch.matmul(self.P, sol_psi.T).T\n",
    "\n",
    "        res_psi = torch.matmul(self.A_psi, sol_psi.T).T - psi_temp\n",
    "        res_eq_psi = torch.matmul(self.A_eq_psi, sol_psi.T).T - b_eq_psi\n",
    "\n",
    "        lamda_psi = lamda_psi - self.rho_psi * torch.matmul(self.A_psi.T, res_psi.T).T - self.rho_eq * torch.matmul(self.A_eq_psi.T, res_eq_psi.T).T\n",
    "\n",
    "        return sol_psi, np.linalg.norm(res_psi), np.linalg.norm(res_eq_psi), psi\n",
    "\n",
    "    \n",
    "    def solve(self, fixed_params, variable_params):\n",
    "        batch_size, _ = fixed_params.size()\n",
    "        x_init, y_init, v_init, psi_init, psidot_init = torch.chunk(fixed_params, 5, dim=1)\n",
    "        x_fin, y_fin, psi_fin, psidot_fin = torch.chunk(variable_params, 4, dim=1)\n",
    "        \n",
    "        b_eq_x = torch.cat((x_init, x_fin), dim=1)\n",
    "        b_eq_y = torch.cat((y_init, y_fin), dim=1)\n",
    "        b_eq_psi = torch.cat((psi_init, psidot_init, psi_fin, psidot_fin), dim=1)\n",
    "        \n",
    "        lamda_x = torch.zeros(batch_size, self.nvar, dtype=torch.double).to(device)\n",
    "        lamda_y = torch.zeros(batch_size, self.nvar, dtype=torch.double).to(device)\n",
    "        lamda_psi = torch.zeros(batch_size, self.nvar, dtype=torch.double).to(device)\n",
    "        \n",
    "        v = torch.ones(batch_size, self.num, dtype=torch.double).to(device) * v_init\n",
    "        psi = torch.ones(batch_size, self.num, dtype=torch.double).to(device) * psi_init\n",
    "        xdot = v * torch.cos(psi)\n",
    "        ydot = v * torch.sin(psi)\n",
    "        \n",
    "        res_eq_psi = torch.ones(self.maxiter)\n",
    "        res_nonhol = torch.ones(self.maxiter)\n",
    "        res_eq = torch.ones(self.maxiter)\n",
    "        \n",
    "        for i in range(0, self.maxiter):\n",
    "            psi_temp = torch.atan2(ydot, xdot)\n",
    "            c_psi, _, res_eq_psi[i], psi = self.compute_psi(psi, lamda_psi, psi_temp, b_eq_psi)\n",
    "            c_x, c_y, x, xdot, y, ydot = self.compute_x(lamda_x, lamda_y, v, psi, b_eq_x, b_eq_y)\n",
    "            \n",
    "            v = torch.sqrt(xdot ** 2 + ydot ** 2)\n",
    "            v[:, 0] = v_init[:, 0]\n",
    "\n",
    "            res_eq_x = torch.matmul(self.A_eq, c_x.T).T - b_eq_x\n",
    "            res_nonhol_x = xdot - v * torch.cos(psi)\n",
    "\n",
    "            res_eq_y = torch.matmul(self.A_eq, c_y.T).T - b_eq_y\n",
    "            res_nonhol_y = ydot - v * torch.sin(psi)\n",
    "\n",
    "            lamda_x = lamda_x - self.rho_eq * torch.matmul(self.A_eq.T, res_eq_x.T).T - self.rho_nonhol * torch.matmul(self.A_nonhol.T, res_nonhol_x.T).T\n",
    "            lamda_y = lamda_y - self.rho_eq * torch.matmul(self.A_eq.T, res_eq_y.T).T - self.rho_nonhol * torch.matmul(self.A_nonhol.T, res_nonhol_y.T).T\n",
    "            \n",
    "            res_eq[i] = torch.linalg.norm(torch.hstack((res_eq_x, res_eq_y)))\n",
    "            res_nonhol[i] = torch.linalg.norm(torch.hstack((res_nonhol_x, res_nonhol_y)))\n",
    "        \n",
    "        plt.figure(1)\n",
    "        plt.plot(res_eq)\n",
    "\n",
    "        plt.figure(2)\n",
    "        plt.plot(res_nonhol)\n",
    "\n",
    "        plt.figure(3)\n",
    "        plt.plot(res_eq_psi)\n",
    "        \n",
    "        primal_sol = torch.hstack((c_x, c_y, c_psi, v))\n",
    "        return primal_sol, res_eq, res_nonhol, res_eq_psi"
   ]
  },
  {
   "cell_type": "code",
   "execution_count": 68,
   "metadata": {},
   "outputs": [],
   "source": [
    "opt_node = OPTNode()"
   ]
  },
  {
   "cell_type": "code",
   "execution_count": null,
   "metadata": {},
   "outputs": [],
   "source": []
  },
  {
   "cell_type": "code",
   "execution_count": 69,
   "metadata": {},
   "outputs": [],
   "source": [
    "fixed_params = torch.randn(10, 5, dtype=torch.double).to(device)\n",
    "variable_params = torch.randn(10, 4, dtype=torch.double).to(device)"
   ]
  },
  {
   "cell_type": "code",
   "execution_count": 70,
   "metadata": {},
   "outputs": [
    {
     "data": {
      "image/png": "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\n",
      "text/plain": [
       "<Figure size 432x288 with 1 Axes>"
      ]
     },
     "metadata": {
      "needs_background": "light"
     },
     "output_type": "display_data"
    },
    {
     "data": {
      "image/png": "iVBORw0KGgoAAAANSUhEUgAAAXAAAAD4CAYAAAD1jb0+AAAABHNCSVQICAgIfAhkiAAAAAlwSFlzAAALEgAACxIB0t1+/AAAADh0RVh0U29mdHdhcmUAbWF0cGxvdGxpYiB2ZXJzaW9uMy4yLjIsIGh0dHA6Ly9tYXRwbG90bGliLm9yZy+WH4yJAAAdgElEQVR4nO3deZzcdZ3n8denrq6+u5N00gkBEiBcYpDQKsiICKgIrMw6uisjLs6wizOz66irq7Ds6szjsbNeODqOK26GQ2dk8cQZxlGU0zCIQHOEJDS5D3L0kXTS6bu6qj77R1V3qvrI0V2dzrfzfj4e/ajqX/26fp9vd/Kub33r+/t9zd0REZHwRGa6ABERmRwFuIhIoBTgIiKBUoCLiARKAS4iEqjY8TzYvHnzfMmSJcfzkCIiwXvhhRf2unvD6O3HNcCXLFlCc3Pz8TykiEjwzGz7eNs1hCIiEigFuIhIoBTgIiKBUoCLiARKAS4iEigFuIhIoBTgIiKBCiLAH2tp49tPbprpMkRETihBBPhvNnSwctWWmS5DROSEEkSAJ6IRUunsTJchInJCCSLA4zEFuIjIaEEEeCIaIZ11slkt/yYiMiyMAI/lykxl1AsXERkWRICXKcBFRMYIIsBHeuAaBxcRGRFGgEcV4CIiowUR4PF8gA9pCEVEZMQRA9zM7jWzdjNbO2r7x81svZmtM7OvTF+JGkIRERnP0fTAvwtcU7jBzN4J3AAsd/c3AHeWvrRDhgN8UAEuIjLiiAHu7quAzlGb/xT4krsP5vdpn4baRmgaoYjIWJMdAz8beLuZPWtmvzGzN0+0o5ndambNZtbc0dExqYOV6UNMEZExJhvgMaAeuAT4b8CPzMzG29HdV7p7k7s3NTQ0TOpgcY2Bi4iMMdkA3wk86DnPAVlgXunKKpbQLBQRkTEmG+D/CFwJYGZnAwlgb6mKGk2zUERExoodaQczewC4AphnZjuBLwD3AvfmpxamgJvdfdquNKUPMUVExjpigLv7jRM8dFOJa5nQ8BCKphGKiBwSxJmYZRpCEREZI4gA16n0IiJjBRHg+hBTRGQsBbiISKCCCPBYxDDTLBQRkUJBBLiZEYsYaa2JKSIyIogABzCM6ZtpLiISnmACHANHCS4iMiyYADdA+S0ickg4AW7KbxGRQuEEOMY0Xm5FRCQ44QS4oQ8xRUQKhBPgaAhFRKRQOAFumkYoIlIonABH0whFRAoFE+BoDFxEpMgRA9zM7jWz9vzqO6Mf+4yZuZlN23qYI8ea7gOIiATmaHrg3wWuGb3RzE4F3gXsKHFN48qNgasLLiIy7IgB7u6rgM5xHvo68FmO0+QQncgjIlJsUmPgZvY+YJe7rz6KfW81s2Yza+7o6JjM4XLPg8bARUQKHXOAm1kFcAfw+aPZ391XunuTuzc1NDQc6+EKj6tZKCIiBSbTAz8TWAqsNrNtwGLgRTNrLGVho6kHLiJSLHasP+Dua4D5w9/nQ7zJ3feWsK4xNAYuIlLsaKYRPgA8A5xjZjvN7JbpL2vcStQDFxEpcMQeuLvfeITHl5SsmsMwXRBcRKRIMGdiagxcRKRYOAGuU+lFRIqEE+BoGqGISKFwAlw9cBGRIuEEOPoIU0SkUDgBrgUdRESKBBPgoAUdREQKBRPgpjEUEZEiQQW48ltE5JBwAhwt6CAiUiicAFcPXESkSDgBjuaBi4gUCifAzdQDFxEpEE6Ag8bARUQKBBPgaAxcRKRIMAGuy4GLiBQ7mhV57jWzdjNbW7Dtq2b2mpm9YmY/M7O66S1TixqLiIx2ND3w7wLXjNr2CHCBuy8HNgC3l7iuMTQLRUSk2BED3N1XAZ2jtv3a3dP5b39HbmX6aaXLyYqIFCvFGPgfA7+c6EEzu9XMms2suaOjY9IH0YIOIiLFphTgZnYHkAbun2gfd1/p7k3u3tTQ0DCFY6kHLiJS6Iir0k/EzG4Grgeu8uM0QVv5LSJyyKQC3MyuAT4HvMPd+0pb0oTHVA9cRKTA0UwjfAB4BjjHzHaa2S3At4Bq4BEze9nMvjPNdebmgasPLiIy4og9cHe/cZzN90xDLYelMXARkWLhnImpU+lFRIqEE+Ba0EFEpEg4Aa4euIhIkXACHI2Bi4gUCibA0YIOIiJFgglwLeggIlIsnAC3ma5AROTEEkyAi4hIsWACXB9iiogUCyfAtSKPiEiRcAIc9cBFRAqFE+C6FoqISJFwAlwr8oiIFAkmwFEPXESkSDABbuhaKCIihcIJcCW4iEiRo1mR514zazeztQXb5pjZI2a2MX9bP71lagxcRGS0o+mBfxe4ZtS224DH3H0Z8Fj++2mlWSgiIsWOGODuvgroHLX5BuB7+fvfA36/xHWNoeuBi4gUm+wY+AJ33wOQv50/0Y5mdquZNZtZc0dHxyQPpxV5RERGm/YPMd19pbs3uXtTQ0PDpJ9HPXARkWKTDfA2M1sIkL9tL11JE1MHXETkkMkG+EPAzfn7NwP/VJpyJmZakUdEpMjRTCN8AHgGOMfMdprZLcCXgHeZ2UbgXfnvp5WBuuAiIgViR9rB3W+c4KGrSlzLYWkMXESkWDhnYqIOuIhIoXACXAs6iIgUCSfAUQ9cRKRQOAGuU+lFRIoEE+CgaYQiIoWCCfBcD1wRLiIyLJwAn+kCREROMOEEuMbARUSKhBPgWtBBRKRIOAGuHriISJGwAnymixAROYGEE+Ba0EFEpEgwAY564CIiRYIJ8NzlZGe6ChGRE0c4Aa4FHUREioQT4OhMTBGRQlMKcDP7lJmtM7O1ZvaAmSVLVdjYY2kERUSk0KQD3MxOAf4caHL3C4Ao8KFSFTbmeGgeuIhIoakOocSAcjOLARXA7qmXND4t6CAiUmzSAe7uu4A7gR3AHqDL3X89ej8zu9XMms2suaOjY9KFqgcuIlJsKkMo9cANwFJgEVBpZjeN3s/dV7p7k7s3NTQ0TL5SnUovIlJkKkMoVwNb3b3D3YeAB4G3laassUwXlBURKTKVAN8BXGJmFWZmwFVAS2nKGksLOoiIFJvKGPizwE+AF4E1+edaWaK6xjA0jVBEpFBsKj/s7l8AvlCiWg5Ll5MVESkW0JmYmkYoIlIonABXD1xEpEhYAT7TRYiInECCCXAw9cBFRAoEE+CmC4KLiBQJJ8DRGLiISKFwAlxj4CIiRcIJcC1qLCJSJJwAVw9cRKRIOAGOxsBFRAqFE+CmIRQRkULBBDhoCEVEpFAwAW66HKGISJFwAhxTfouIFAgnwLUgj4hIkSkFuJnVmdlPzOw1M2sxs0tLVdh49CGmiMghU1rQAfgb4GF3/4CZJYCKEtQ0Lg2Bi4gUm3SAm1kNcDnwUQB3TwGp0pQ13vE0D1xEpNBUhlDOADqA+8zsJTO728wqS1TXGGZakUdEpNBUAjwGrADucveLgF7gttE7mdmtZtZsZs0dHR2TPpjOxBQRKTaVAN8J7MyvTg+5FepXjN7J3Ve6e5O7NzU0NEz+aLoWiohIkUkHuLu3Aq+b2Tn5TVcBr5akqnGYElxEpMhUZ6F8HLg/PwNlC/BHUy9pfLmrESrBRUSGTSnA3f1loKlEtRyWxsBFRIoFdSam8ltE5JBwAlwr8oiIFAknwNUDFxEpEk6AozFwEZFCwQS4LkcoIlIsmAAfjm+Ng4uI5IQT4PkEV36LiOSEE+D5PrjyW0QkJ5wAH+mBK8JFRCCkAM/fKr5FRHLCCXCNgYuIFAkowIfHwJXgIiIQUIAPUw9cRCQnmADXeTwiIsXCCfDhaYTqgYuIACEF+PCHmBoDFxEBShDgZhbNr0r/81IUNOFx8rfqgYuI5JSiB/4JoKUEz3NYh3rgIiICUwxwM1sMXAfcXZpyDnOskTFwRbiICEy9B/4N4LNAtgS1HJZ64CIixSYd4GZ2PdDu7i8cYb9bzazZzJo7Ojome7gR6oCLiORMpQd+GfA+M9sG/AC40sy+P3ond1/p7k3u3tTQ0DDpg5m64CIiRSYd4O5+u7svdvclwIeAx939ppJVNsqhi1kpwUVEIMR54MpvEREAYqV4End/EniyFM81EV1OVkSkWEA9cE0jFBEpFFCA524V3yIiOeEEeP5WHXARkZxgAhwt6CAiUiSYAB+5HLjyW0QECCnANQYuIlIknADXgg4iIkXCCXAt6CAiUiScAM/f/sMz22e0DhGRE0U4AZ5P8G8/uXlmCxEROUGEE+CH5qHobEwREQIK8FTm0JoRe3tSM1iJiMiJIZgA7+geHLn/+v6+GaxEROTEEEyAtxcGeKcCfLbJZJ3nt3WSyWp4TORoleRyssdDJntoCKXt4MAMViKllkpn+bP7X+TRljYiBvf/x0u49My5M12WyAkvmB747e89j9veey7JeIT2g4NH/gEJQibr3HT3szza0gZA1uG+p7fOcFUiYZjKosanmtkTZtZiZuvM7BOlLGy0+soEf/KOM2msSdLWrQCfLda3dvPctk4+dfXZbP3itXzw4sWs2tjBF3/RQnu33mmdyNKZLHc/tYVN7d0zXcpJayo98DTwaXc/D7gE+M9mdn5pyprY/Ook7RpCmTWat3cC8P4Vp2BmXHnufAaGsvzfVVu4/3c7Zrg6mchQJsunfrSa//UvLdzwradZtaFjpks6KU1lUeM97v5i/n430AKcUqrCJjK/pqzoA00J2zOb99FYk2RxfTkA73lDI2/Lj3/v69Xf+UT1qR++zD+v3s0HL15MQ3UZn/zhy3QPDM10WSedkoyBm9kS4CLg2VI83+EsqEnS2jVAVrMVgvarda2846tP8PC6Vt51/oKRJfMiEeP7t7yVFafVsaGtB4DO3hRPb9o7k+VKgQN9KX6xZg9/fNlSvvrBC/nmjRdxoC/FHT9bO+3HTmeyvLhj/7QfJxRTDnAzqwJ+CnzS3Q+O8/itZtZsZs0dHVN/m3XOgmr6hzJs3dc75eeSmfOlX77G9n19uMN1yxcWPRaJGOc0VvPc1k5+8NwOPnrfc3z47mfpS6WB3Lj5rgP9M1G2AE9t3EvW4brljQAsX1zHn1+1jIdW7+a5rZ3Teuz/88Rm3v/t3/KRe57VUCpTDHAzi5ML7/vd/cHx9nH3le7e5O5NDQ0NUzkcABeeWgfA6tcPTPm5ZOZUJKIAvH3ZPN66dM6Yxz9w8WIAbntwDa/s7AJgR37+/3u+sYrLvvT4capUCrk7dz+1hUW1SS5cXDey/WOX5yYY/PefrWHHvr5pu9zFml25fwtPbdzLnb9ePy3HCMlUZqEYcA/Q4u5/XbqSDu+s+VVUlcX45drW43VIKbF0Jsum9h4+csnp3PfRN48MnxS6+PQ5fOemFUXb7vzVBr788Gsj37/lrx7lgef0Qefx9Mirbaze2cUnrl5GLHooPsoTUb7ygeVsau/h8q8+wT++vKvo557a2MGPml8vQQWHXhgKr490sppKD/wy4CPAlWb2cv7r2hLVNaFoxPizd57JI6+28V3NFz6hPb+tk7X5HlOhf1mzh8F0lrcvm1cUAqNdc8FC3r5s3sj3j7a0cVfB1Sjbuwe5/cE1uLsucHYcZLLO1369gaXzKvmDFYvHPH752Q38z+tzE9E+99M1vPPOJ9nTlRvq+sg9z/HZn7zCxx94iTt/tZ67n9rC+tZjn364bd+hs7C7+vWh6aTPxHT3f4WZeQn82OVn8vKOA/zlz19lUV05735D40yUIaO83tnHYy1t/IdLl9A9kOaD33kGgK1fvJaPP/ASDvy7plP5zI9Xs2x+FVedt+CIz/mNf/8m7nt6G996YtOE+/ynv3+BR1vaePf5C3jvGxv5zpNbcJwb33Iaf/jW0yiLRUvVxJPa3U9tYX1bN9+88aIJX3hv+b2lDAxl+Oqv1rN1by9Xf+03nD63cuTxf169e+T+vKotNP+Pq8c8R89gmvd8fRVXnzefG996Go01SR5taed9Fy5i+75ern1jI+t2H+Thda28sH0/F59eX/rGBsKOZ8+lqanJm5ubS/Jc/akMN/7d71jf2s0Tn7mCxtpkSZ5XDi+bdfqHMmxo62bn/n5e2L6f9a3d/NsVp/AXD62jL5XhAxcv5pWdB0ZmkZyzoJr1bbneVjIeYcncSv7+lrcwv/ro/2Y/fH4Hn/vpmmOuN2Lw4z+5lGULqimPR3GH/qEMteXxo/p5d6dnME3WYVN7N4lolIbqMhbUlI079DPaYDrD9n197OkaYPXrB3hl5wFa9nTTM5imMhHl0jPnceW583nrGXOYW5k4quecKnc/5uO8svMAf3DXb7nq3AXcddOKw/58OpPlm49t5JuPT/yiO+ynf/o2apIxnNy76z0HBrjpnvEns91x7Xn81S9a+NsbL+Kh1bt55NU2zmio5PFPX3FMbQmRmb3g7k1jtoca4JDr8V35tSf5wMWn8sX3v7FkzyvQO5hmQ1s3r+45yPrWbl7acYD9fSnaDg4wlBn/30xZLMJgOkvE4MyGKj5+1TIeb2lj674+1u3qIp11rlu+kM9ffz4Lao79Bdfdues3m2moKuPHzTvZ3NHDvt5jv7RwPGosm19NMh6hviLBnMoEteVxKstibO7owcxo3tZJz0AaMzg4kCZiudP8C59jfnWS3lSaU+rKqUnGmVddRmtXPxEzyhNR+lIZdu3vH5kxY/nfyxsW1VBbHmdLRy9rd3dxoC83FHDx6fV87PIzeOe58+kZyM24qa9MHHP7Dmflqs384PnX+daNKzh/Uc2E+w0MZdi2r5fnt+1n+95e7vvtNiriUR779DuYf5R/u5d27Gfn/n6+8egGNneUbtbYY59+B/2pDNf/7b+SiEV45QvvJhmf3e+yZmWAA/zFQ+v4h99t576PvpnLz576LJfZwt0ZGMpycGCI7oEhuvrTdA8M0T2QpmcwTXk8yt6eQboH0uzvS7G/b4hs1mlpPUjHwUF6UukxC0gvmVvB0nmVnLuwhgsX17FkXgWL6ytIZ7Ic7E/TWJskFjk0n3u8mqajh7l1by9tBwfY0NZNIhph+eI6dnT28lprN139Q2zp6KU/laF7MM3B/iFqy+PUVcTJZJ0te3vJZJ2+VJqBodwF02qSMd5+dgNzKhIMpjM01paDO8sX1+HAnq5+du3v5/X9fSTjUXYf6CeVztLZm8LMcHeqkjGMXJBfv3whZzVUccHiWmqSxT3/TNZ5dus+XtpxgG8/sYneVIbqZIzefK//3MZqzl9UQ2NNkrcsnUN9RYKsO2WxKGc0VBKLGLFohEzW2djeTSqd5ewF1QwOZWlpPcjenkEM4/ltnaxv7eaZLftGjv3mJfVUJ+Ns7ujhYP8Qg+ksA0MZYtEI7l70Qv1vLlzE5645h8X1Fcf89xnKZNm1v5/VOw+wsLacLR09pLNOV/8QS+ZWMpjO0JfKALlx7VjEaO8eZM2uLvb2DLJlVPhv/t/XEo0YT2/ay4fvfpYb3rSI//LOszhrftVxeQczE2ZtgHf2pvjDv/sdG9q6uW75IuZUxFlUV05VMsY1b2ikviIxbpjMpOGTkIayWRL5scThP0M662TywxRd/UPs6xnMB0yGPV0D9KXS9A5m6BtK0zuYprVrgEQsQtvBQboHhuhLZehP5f5D9A9ljqqeRDTCgtoyslk4b2ENcysTLKjNnR15ZkMlZzVUU1Mem7X/OYb1pXIvbMCMtHUwneHpTXv5xZpW6ivi7OtN8eyWziPOeU/EIkSMkRegw7nkjDl85t3n8DePbeSpjeOfHNVYk+S65QuJRYya8jhXnTefcxsn7q0fD9ms0949yO6uflacdmjM+5uPbeTrj27AHeZUJnjzknqWL66jtjxOxIza8jhDmSynza2gsSZJdTJGxIx4NEIsYphN3996YCjDwFCGju5BHm1p548uWzLpdwqzNsAh93b/yw+/xkOrd9M9kC66pnR9RZwrzpnPaXMqmFeVoHsw17OsKotRUx4jGYuSdci4k4xFSOd/tjweJZ11OnsH2deboiwWJR41Lj1jLjXlceZX58ZAB4YyI70gd2cwnWXn/n52H+gfGQfe35eiqz/X+y2LRWg7OMCB/qHcW+14lIF80GbdcRjT8x1PIhahPB6lsSbJUDbLguokFYko8WiE2vI4VckYc6sS1CTj1JTHqU7GqEnGqS2PUZGI0ZfK0FBdRnXZofFHOTF19Q3xq1db+e2mvbyyq4vBoSyn1JdzwaJaasvj9A2lGUo7yxZU0do1wOqdB1hcX845jTVUlUWpLY9z2pxK9velaDq9fiSwMlnnQF+K7Z19VCZizKlMUJ2MkYhGTrhOz+G83tnHM5v38ezWTp7bto/XO4/uJK9oxIha7kXqlLokiViErOdmZpjlpinWVsQ5pa6c2vI4iViEoUwW99z/1XTWScailMUj9A7mhry27+tj5/4+dnT20T2QZjB96EX1rg+v4L1vXDhBNYc3qwN8WG46GfSk0uw+0M/Da1tZu6uLV3cfZM/BgaMKxqMVixgLapLs6eon67nAj0WN7vzY5bDT5lRQX5mgviJOVVmMwXSW6mSMZDxKZSLKUMZJxqOkM1kiESMRjVAWi1CeiFJXkWBeVSK3LR5lYW2uB5E7VjBXAhY5rvpSafZ2pxjKZukZSDOUybKvN0Vr1wD7+1K5d7ipDFmHeMzo6huieft+apIxyhO5D7rdwXF2HeinsydFb2rsu9loxIo6i2ZwSl05sYixsLacZQuqqEnGKU9Eufj0ei45Y/LXuJ8owINZ0OFomOXeEtUk49Q0xove9g2mc0MS1WVxzKB7IDcmPJjOEo0YETO6+lNEIxGy7vQNZkhlMiyqK2dBdZJUJsuergGe39qJGbR2DdB6cIDr6xZSkYjlhi+GMsypSNBYm+Ss+VWcNqeCRXXlM/gbETn5VCRinDa3dNHmnhvW7E1lSMYjpDOeH7aykXfdw+/YE7Hj27GaVQF+OGWxKPOrD40/JeO56WDHYkFNkjedWnfkHUVk1jAzYlGjtjwXzmVFqWkj74YTMzDspPfhIiKBUoCLiARKAS4iEigFuIhIoBTgIiKBUoCLiARKAS4iEigFuIhIoI7rqfRm1gFsn+SPzwNOtqXJ1eaTg9p8cphKm0939zGXWz2uAT4VZtY83rUAZjO1+eSgNp8cpqPNGkIREQmUAlxEJFAhBfjKmS5gBqjNJwe1+eRQ8jYHMwYuIiLFQuqBi4hIAQW4iEiggghwM7vGzNab2SYzu22m6ykVM7vXzNrNbG3Btjlm9oiZbczf1hc8dnv+d7DezN4zM1VPnpmdamZPmFmLma0zs0/kt8/mNifN7DkzW51v81/mt8/aNg8zs6iZvWRmP89/P6vbbGbbzGyNmb1sZs35bdPb5tw6kifuFxAFNgNnAAlgNXD+TNdVorZdDqwA1hZs+wpwW/7+bcCX8/fPz7e9DFia/51EZ7oNx9jehcCK/P1qYEO+XbO5zQZU5e/HgWeBS2Zzmwva/l+B/wf8PP/9rG4zsA2YN2rbtLY5hB74W4BN7r7F3VPAD4AbZrimknD3VUDnqM03AN/L3/8e8PsF23/g7oPuvhXYRO53Ewx33+PuL+bvdwMtwCnM7ja7u/fkv43nv5xZ3GYAM1sMXAfcXbB5Vrd5AtPa5hAC/BTg9YLvd+a3zVYL3H0P5AIPmJ/fPqt+D2a2BLiIXI90Vrc5P5TwMtAOPOLus77NwDeAzwLZgm2zvc0O/NrMXjCzW/PbprXNISxqPN5KoSfj3MdZ83swsyrgp8An3f2g2YSLwc6KNrt7BniTmdUBPzOzCw6ze/BtNrPrgXZ3f8HMrjiaHxlnW1BtzrvM3Xeb2XzgETN77TD7lqTNIfTAdwKnFny/GNg9Q7UcD21mthAgf9ue3z4rfg9mFicX3ve7+4P5zbO6zcPc/QDwJHANs7vNlwHvM7Nt5IY8rzSz7zO724y7787ftgM/IzckMq1tDiHAnweWmdlSM0sAHwIemuGaptNDwM35+zcD/1Sw/UNmVmZmS4FlwHMzUN+kWa6rfQ/Q4u5/XfDQbG5zQ77njZmVA1cDrzGL2+zut7v7YndfQu7/6+PufhOzuM1mVmlm1cP3gXcDa5nuNs/0J7dH+enuteRmLGwG7pjpekrYrgeAPcAQuVfkW4C5wGPAxvztnIL978j/DtYD753p+ifR3t8j9zbxFeDl/Ne1s7zNy4GX8m1eC3w+v33WtnlU+6/g0CyUWdtmcrPkVue/1g3n1HS3WafSi4gEKoQhFBERGYcCXEQkUApwEZFAKcBFRAKlABcRCZQCXEQkUApwEZFA/X9l7qtk20wdtgAAAABJRU5ErkJggg==\n",
      "text/plain": [
       "<Figure size 432x288 with 1 Axes>"
      ]
     },
     "metadata": {
      "needs_background": "light"
     },
     "output_type": "display_data"
    },
    {
     "data": {
      "image/png": "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\n",
      "text/plain": [
       "<Figure size 432x288 with 1 Axes>"
      ]
     },
     "metadata": {
      "needs_background": "light"
     },
     "output_type": "display_data"
    }
   ],
   "source": [
    "res = opt_node.solve(fixed_params, variable_params)"
   ]
  },
  {
   "cell_type": "code",
   "execution_count": 71,
   "metadata": {},
   "outputs": [
    {
     "ename": "AttributeError",
     "evalue": "'tuple' object has no attribute 'size'",
     "output_type": "error",
     "traceback": [
      "\u001b[0;31m---------------------------------------------------------------------------\u001b[0m",
      "\u001b[0;31mAttributeError\u001b[0m                            Traceback (most recent call last)",
      "\u001b[0;32m<ipython-input-71-a6955e7abb39>\u001b[0m in \u001b[0;36m<module>\u001b[0;34m\u001b[0m\n\u001b[0;32m----> 1\u001b[0;31m \u001b[0mres\u001b[0m\u001b[0;34m.\u001b[0m\u001b[0msize\u001b[0m\u001b[0;34m(\u001b[0m\u001b[0;34m)\u001b[0m\u001b[0;34m\u001b[0m\u001b[0;34m\u001b[0m\u001b[0m\n\u001b[0m",
      "\u001b[0;31mAttributeError\u001b[0m: 'tuple' object has no attribute 'size'"
     ]
    }
   ],
   "source": [
    "res.size()"
   ]
  },
  {
   "cell_type": "code",
   "execution_count": 72,
   "metadata": {},
   "outputs": [
    {
     "data": {
      "text/plain": [
       "tensor([[1., 1., 1.],\n",
       "        [1., 1., 1.],\n",
       "        [1., 1., 1.],\n",
       "        [1., 1., 1.],\n",
       "        [1., 1., 1.],\n",
       "        [1., 1., 1.],\n",
       "        [1., 1., 1.],\n",
       "        [1., 1., 1.],\n",
       "        [1., 1., 1.],\n",
       "        [1., 1., 1.]])"
      ]
     },
     "execution_count": 72,
     "metadata": {},
     "output_type": "execute_result"
    }
   ],
   "source": [
    "torch.ones(10, 3)"
   ]
  },
  {
   "cell_type": "code",
   "execution_count": 73,
   "metadata": {},
   "outputs": [],
   "source": [
    "x_init = 0.0 * np.ones((10, 1))\n",
    "x_fin = -50.0 *np.ones((10, 1))\n",
    "\n",
    "y_init = 0.0 * np.ones((10, 1))\n",
    "y_fin = 50.0 * np.ones((10, 1))\n",
    "\n",
    "psi_init = 91 * np.pi / 180.0 * np.ones((10, 1))\n",
    "psi_fin = np.linspace(160 * np.pi / 180, 170 * np.pi / 180, 10).reshape(10, 1)\n",
    "\n",
    "psidot_init = 0.0 * np.ones((10, 1))\n",
    "psidot_fin = 0.0 * np.ones((10, 1))\n",
    "\n",
    "v_init = 20.0 * np.ones((10, 1))\n",
    "\n",
    "fixed_params = torch.tensor([x_init, y_init, v_init, psi_init, psidot_init], dtype=torch.double).to(device)\n",
    "variable_params = torch.tensor([x_fin, y_fin, psi_fin, psidot_fin], dtype=torch.double).to(device)\n",
    "fixed_params = torch.squeeze(fixed_params).transpose(0, 1)\n",
    "variable_params = torch.squeeze(variable_params).transpose(0, 1)"
   ]
  },
  {
   "cell_type": "code",
   "execution_count": 74,
   "metadata": {},
   "outputs": [
    {
     "data": {
      "image/png": "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\n",
      "text/plain": [
       "<Figure size 432x288 with 1 Axes>"
      ]
     },
     "metadata": {
      "needs_background": "light"
     },
     "output_type": "display_data"
    },
    {
     "data": {
      "image/png": "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\n",
      "text/plain": [
       "<Figure size 432x288 with 1 Axes>"
      ]
     },
     "metadata": {
      "needs_background": "light"
     },
     "output_type": "display_data"
    },
    {
     "data": {
      "image/png": "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\n",
      "text/plain": [
       "<Figure size 432x288 with 1 Axes>"
      ]
     },
     "metadata": {
      "needs_background": "light"
     },
     "output_type": "display_data"
    }
   ],
   "source": [
    "res, res_eq_pt, res_nonhol_pt, res_eq_psi_pt = opt_node.solve(fixed_params, variable_params)"
   ]
  },
  {
   "cell_type": "code",
   "execution_count": 59,
   "metadata": {},
   "outputs": [],
   "source": [
    "c_x = res[:, :opt_node.nvar]\n",
    "c_y = res[:, opt_node.nvar: 2*opt_node.nvar]"
   ]
  },
  {
   "cell_type": "code",
   "execution_count": 60,
   "metadata": {},
   "outputs": [
    {
     "data": {
      "text/plain": [
       "[<matplotlib.lines.Line2D at 0x7f59a821ff50>,\n",
       " <matplotlib.lines.Line2D at 0x7f59a822b190>,\n",
       " <matplotlib.lines.Line2D at 0x7f59a822b350>,\n",
       " <matplotlib.lines.Line2D at 0x7f59a822b510>,\n",
       " <matplotlib.lines.Line2D at 0x7f59a822b6d0>,\n",
       " <matplotlib.lines.Line2D at 0x7f59a822b890>,\n",
       " <matplotlib.lines.Line2D at 0x7f59a822bad0>,\n",
       " <matplotlib.lines.Line2D at 0x7f59a822bc90>,\n",
       " <matplotlib.lines.Line2D at 0x7f59a822be50>,\n",
       " <matplotlib.lines.Line2D at 0x7f59a822b8d0>]"
      ]
     },
     "execution_count": 60,
     "metadata": {},
     "output_type": "execute_result"
    },
    {
     "data": {
      "image/png": "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\n",
      "text/plain": [
       "<Figure size 432x288 with 1 Axes>"
      ]
     },
     "metadata": {
      "needs_background": "light"
     },
     "output_type": "display_data"
    }
   ],
   "source": [
    "x = torch.matmul(opt_node.P, c_x.T)\n",
    "y = torch.matmul(opt_node.P, c_y.T)\n",
    "plt.plot(x, y)"
   ]
  },
  {
   "cell_type": "code",
   "execution_count": 78,
   "metadata": {},
   "outputs": [
    {
     "data": {
      "text/plain": [
       "<matplotlib.legend.Legend at 0x7f599ef3ee50>"
      ]
     },
     "execution_count": 78,
     "metadata": {},
     "output_type": "execute_result"
    },
    {
     "data": {
      "image/png": "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\n",
      "text/plain": [
       "<Figure size 432x288 with 1 Axes>"
      ]
     },
     "metadata": {
      "needs_background": "light"
     },
     "output_type": "display_data"
    }
   ],
   "source": [
    "plt.plot(res_eq, label=\"np\")\n",
    "plt.plot(res_eq_pt, label=\"torch\")\n",
    "plt.legend()"
   ]
  },
  {
   "cell_type": "code",
   "execution_count": 77,
   "metadata": {},
   "outputs": [
    {
     "data": {
      "text/plain": [
       "<matplotlib.legend.Legend at 0x7f599c1ff8d0>"
      ]
     },
     "execution_count": 77,
     "metadata": {},
     "output_type": "execute_result"
    },
    {
     "data": {
      "image/png": "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\n",
      "text/plain": [
       "<Figure size 432x288 with 1 Axes>"
      ]
     },
     "metadata": {
      "needs_background": "light"
     },
     "output_type": "display_data"
    }
   ],
   "source": [
    "plt.plot(res_nonhol, label=\"np\")\n",
    "plt.plot(res_nonhol_pt, label=\"torch\")\n",
    "plt.legend()"
   ]
  },
  {
   "cell_type": "code",
   "execution_count": 79,
   "metadata": {},
   "outputs": [
    {
     "data": {
      "text/plain": [
       "<matplotlib.legend.Legend at 0x7f599478de90>"
      ]
     },
     "execution_count": 79,
     "metadata": {},
     "output_type": "execute_result"
    },
    {
     "data": {
      "image/png": "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\n",
      "text/plain": [
       "<Figure size 432x288 with 1 Axes>"
      ]
     },
     "metadata": {
      "needs_background": "light"
     },
     "output_type": "display_data"
    }
   ],
   "source": [
    "plt.plot(res_eq_psi, label=\"np\")\n",
    "plt.plot(res_eq_psi_pt, label=\"torch\")\n",
    "plt.legend()"
   ]
  },
  {
   "cell_type": "code",
   "execution_count": null,
   "metadata": {},
   "outputs": [],
   "source": []
  }
 ],
 "metadata": {
  "kernelspec": {
   "display_name": "Python 3",
   "language": "python",
   "name": "python3"
  },
  "language_info": {
   "codemirror_mode": {
    "name": "ipython",
    "version": 3
   },
   "file_extension": ".py",
   "mimetype": "text/x-python",
   "name": "python",
   "nbconvert_exporter": "python",
   "pygments_lexer": "ipython3",
   "version": "3.7.7"
  }
 },
 "nbformat": 4,
 "nbformat_minor": 5
}
