{
 "cells": [
  {
   "cell_type": "code",
   "execution_count": 5,
   "metadata": {},
   "outputs": [],
   "source": [
    "import os\n",
    "import sys\n",
    "# sys.path.append(\"/Users/shashanks./Downloads/Installations/ddn/\")\n",
    "sys.path.append(\"./ddn/\")\n",
    "sys.path.append(\"./\")\n",
    "import warnings\n",
    "warnings.filterwarnings('ignore')\n",
    "\n",
    "import torch\n",
    "import numpy as np\n",
    "import scipy.special\n",
    "import torch.nn as nn\n",
    "import matplotlib.pyplot as plt\n",
    "\n",
    "from scipy.linalg import block_diag\n",
    "from torch.utils.data import Dataset, DataLoader\n",
    "from bernstein import bernstein_coeff_order10_new\n",
    "from ddn.pytorch.node import AbstractDeclarativeNode\n",
    "\n",
    "from utils.viz_helpers import plot_traj\n",
    "from utils.metrics import get_ade, get_fde"
   ]
  },
  {
   "cell_type": "code",
   "execution_count": 6,
   "metadata": {},
   "outputs": [
    {
     "name": "stdout",
     "output_type": "stream",
     "text": [
      "(1000, 50, 2)\n",
      "AB\n",
      "(200, 50, 2)\n",
      "AB\n"
     ]
    }
   ],
   "source": [
    "from utils.dataloader import TrajectoryDataset\n",
    "\n",
    "train_dataset = TrajectoryDataset(\"/datasets/argoverse/val_data.npy\")\n",
    "train_loader = DataLoader(train_dataset, batch_size=20, shuffle=False, num_workers=0)\n",
    "\n",
    "test_dataset = TrajectoryDataset(\"/datasets/argoverse/val_test_data.npy\")\n",
    "test_loader = DataLoader(test_dataset, batch_size=20, shuffle=False, num_workers=0)\n"
   ]
  },
  {
   "cell_type": "code",
   "execution_count": 7,
   "metadata": {},
   "outputs": [],
   "source": [
    "import json\n",
    "# with open(\"./inp.json\") as f:\n",
    "#     data = json.load(f)\n",
    "\n",
    "# print(type(data))\n",
    "# print(data.keys())"
   ]
  },
  {
   "cell_type": "code",
   "execution_count": 8,
   "metadata": {},
   "outputs": [],
   "source": [
    "# print(np.array(data['x_init']).shape)\n",
    "# print(np.array(data['y_init']).shape)\n",
    "# print(np.array(data['v_init']).shape)\n",
    "\n",
    "ind = [8, 12, 19, 21, 27, 29, 34, 48, 77, 94, 105, 116, 122, 145, 163, 165, 229, 252, 272, 326]\n",
    "others = [386, 409, 411]"
   ]
  },
  {
   "cell_type": "code",
   "execution_count": 9,
   "metadata": {},
   "outputs": [
    {
     "data": {
      "text/plain": [
       "-0.7853981633974483"
      ]
     },
     "execution_count": 9,
     "metadata": {},
     "output_type": "execute_result"
    }
   ],
   "source": [
    "np.arctan(1/-1)"
   ]
  },
  {
   "cell_type": "code",
   "execution_count": 10,
   "metadata": {},
   "outputs": [
    {
     "data": {
      "image/png": "[encoded data removed]",
      "text/plain": [
       "<Figure size 432x288 with 1 Axes>"
      ]
     },
     "metadata": {
      "needs_background": "light"
     },
     "output_type": "display_data"
    }
   ],
   "source": [
    "cnt = 0\n",
    "x_s = []\n",
    "y_s = []\n",
    "\n",
    "x_init_s = []\n",
    "y_init_s = []\n",
    "vx_init_s = []\n",
    "vy_init_s = []\n",
    "psi_init_s = []\n",
    "psidot_init_s = []\n",
    "\n",
    "#['x_init', 'y_init', 'v_init', 'psi_init', 'psidot_init', 'x_fin', 'y_fin', 'psi_fin', 'psidot_fin'])\n",
    "\n",
    "x_fin_s = []\n",
    "y_fin_s = []\n",
    "vx_fin_s = []\n",
    "vy_fin_s = []\n",
    "psi_fin_s = []\n",
    "psidot_fin_s = []\n",
    "\n",
    "dt = 0.1\n",
    "\n",
    "xs = []\n",
    "vs = []\n",
    "psis = []\n",
    "psidots = []\n",
    "for i, data in enumerate(train_loader):\n",
    "    traj_inp, traj_out, b_inp = data\n",
    "    for ii in range(traj_inp.shape[0]):\n",
    "#         gt = [[out[ii][j],out[ii][j + num]] for j in range(len(out[ii])//2)]\n",
    "        if False:\n",
    "            inp_x = traj_inp[ii,:40:2].detach()\n",
    "            inp_y = traj_inp[ii,1:40:2].detach()\n",
    "            gt_x = [traj_out[ii][j] for j in range(len(traj_out[ii])//2)]\n",
    "            gt_y = [traj_out[ii][j + 30] for j in range(len(traj_out[ii])//2)]\n",
    "            v_x = [ (gt_x[k + 1] - gt_x[k])/dt  for k in range(len(gt_x) - 1)]\n",
    "            v_y = [ (gt_y[k + 1] - gt_y[k])/dt  for k in range(len(gt_y) - 1)]\n",
    "            psi = [ np.arctan(v_y[k]/v_x[k]) if v_x[k] > 0 else (np.arctan(v_y[k]/v_x[k]) + np.pi) for k in range(len(v_x))]\n",
    "            psidot = [ (psi[k + 1] - psi[k])/dt for k in range(len(psi) - 1) ]\n",
    "            psi = [i.item() for i in psi]\n",
    "            psidot = [i.item() for i in psidot]\n",
    "            x_init = inp_x[19]\n",
    "            y_init = inp_y[19]\n",
    "            \n",
    "#             print(v_x[0], v_y[0], psi[0])\n",
    "            \n",
    "            vx_init = v_x[0]\n",
    "            vy_init = v_y[0]\n",
    "            \n",
    "            vx_fin = v_x[len(v_x) - 1]\n",
    "            vy_fin = v_y[len(v_y) - 1]\n",
    "            \n",
    "            psi_init = psi[0]\n",
    "            psi_fin = psi[len(psi) - 1]\n",
    "            \n",
    "            psidot_init = psi[0]\n",
    "            psidot_fin = psidot[len(psidot) - 1]\n",
    "            \n",
    "            x_fin = gt_x[29]\n",
    "            y_fin = gt_y[29]\n",
    "            \n",
    "            \n",
    "            x_init_s.append([x_init])\n",
    "            y_init_s.append([y_init])\n",
    "            \n",
    "            x_fin_s.append([x_fin])\n",
    "            y_fin_s.append([y_fin])\n",
    "            \n",
    "            vx_init_s.append([vx_init])\n",
    "            vy_init_s.append([vy_init])\n",
    "            \n",
    "            vx_fin_s.append([vx_fin])\n",
    "            vy_fin_s.append([vy_fin])\n",
    "            \n",
    "            psi_init_s.append([psi_init])\n",
    "            psi_fin_s.append([psi_fin])\n",
    "\n",
    "            psidot_init_s.append([psidot_init])\n",
    "            psidot_fin_s.append([psidot_fin])\n",
    "            \n",
    "            print(i * 20 + ii)\n",
    "            plt.plot(gt_x, gt_y, label='gt')\n",
    "            plt.legend()\n",
    "            \n",
    "            xs.append([gt_x, gt_y])\n",
    "            vs.append([v_x, v_y])\n",
    "            psis.append([psi])\n",
    "            psidots.append([psidot])\n",
    "#             print(arr)\n",
    "#         plot_traj(ii, traj_inp[ii], traj_out[ii], out[ii], {\"x\": [], \"y\": []}, offsets=offsets_train, cities = cities, avm=None, center=False, inp_len=20 * 2, c_len = 20 * 2 + num_elems * 2, num=30, mode=\"test\", batch_num = i)\n",
    "\n",
    "x_init_s = [[i[0].item()] for i in x_init_s]\n",
    "y_init_s = [[i[0].item()] for i in y_init_s]\n",
    "vx_init_s = [[i[0].item()] for i in vx_init_s]\n",
    "vy_init_s = [[i[0].item()] for i in vy_init_s]\n",
    "\n",
    "x_fin_s = [[i[0].item()] for i in x_fin_s]\n",
    "y_fin_s = [[i[0].item()] for i in y_fin_s]\n",
    "vx_fin_s = [[i[0].item()] for i in vx_fin_s]\n",
    "vy_fin_s = [[i[0].item()] for i in vy_fin_s]\n",
    "\n",
    "\n",
    "dic = {\n",
    "    'x_init': (x_init_s),\n",
    "    'y_init': (y_init_s),\n",
    "    'vx_init': (vx_init_s),\n",
    "    'vy_init': (vy_init_s),\n",
    "    'psi_init': (psi_init_s), \n",
    "    'psidot_init': (psidot_init_s),\n",
    "    'x_fin': (x_fin_s),\n",
    "    'y_fin': (y_fin_s), \n",
    "    'psi_fin': (psi_fin_s), \n",
    "    'psidot_fin': (psidot_fin_s) \n",
    "}\n",
    "\n",
    "with open(\"inp.json\", \"w\") as f:\n",
    "    json.dump(dic, f)\n",
    "# #['x_init', 'y_init', 'v_init', 'psi_init', 'psidot_init', 'x_fin', 'y_fin', 'psi_fin', 'psidot_fin'])"
   ]
  },
  {
   "cell_type": "code",
   "execution_count": 11,
   "metadata": {},
   "outputs": [
    {
     "name": "stdout",
     "output_type": "stream",
     "text": [
      "(0,) (0,) (0,) (0,)\n"
     ]
    }
   ],
   "source": [
    "xs = np.array(xs)\n",
    "vs = np.array(vs)\n",
    "psis = np.array(psis)\n",
    "psidots = np.array(psidots)\n",
    "\n",
    "print(xs.shape, vs.shape, psis.shape, psidots.shape)"
   ]
  },
  {
   "cell_type": "code",
   "execution_count": 13,
   "metadata": {},
   "outputs": [
    {
     "data": {
      "text/plain": [
       "[<matplotlib.lines.Line2D at 0x7f18d663a550>]"
      ]
     },
     "execution_count": 13,
     "metadata": {},
     "output_type": "execute_result"
    },
    {
     "data": {
      "image/png": "[encoded data removed]",
      "text/plain": [
       "<Figure size 432x288 with 1 Axes>"
      ]
     },
     "metadata": {
      "needs_background": "light"
     },
     "output_type": "display_data"
    }
   ],
   "source": [
    "plt.plot(xs[0, 0, :], xs[0, 1, :])"
   ]
  },
  {
   "cell_type": "code",
   "execution_count": 14,
   "metadata": {},
   "outputs": [
    {
     "name": "stdout",
     "output_type": "stream",
     "text": [
      "[-13.83823799 -14.97189598 -15.47706982 -16.04832791 -16.55923466\n",
      " -17.13656425 -17.50904194 -17.95404772 -18.54113921 -19.56307642\n",
      " -19.98597321 -20.40613318 -20.79619746 -20.99899212 -21.28484361\n",
      " -21.6537573  -22.47345256 -22.85034121 -23.31983274 -23.65565937\n",
      " -24.09042204 -24.3809927  -24.72035026 -25.40164026 -25.73163982\n",
      " -25.94188926 -26.21009358 -26.32806516 -26.54798329 -26.81244999] [ -2.63477483  -2.92284386  -3.06826132  -3.19967563  -3.38875561\n",
      "  -3.5561565   -3.74703957  -3.97193832  -4.14244385  -4.71805688\n",
      "  -4.70555993  -5.00251783  -5.3107566   -5.40591082  -5.94426964\n",
      "  -6.21109174  -6.96574165  -7.3178575   -7.79152114  -8.13000819\n",
      "  -8.59526943  -8.9851925   -9.46225654 -10.38538597 -10.87481862\n",
      " -11.3792107  -11.87608765 -12.47292946 -12.93884264 -13.50542846]\n"
     ]
    }
   ],
   "source": [
    "print(xs[0, 0], xs[0, 1])"
   ]
  },
  {
   "cell_type": "code",
   "execution_count": 15,
   "metadata": {},
   "outputs": [
    {
     "name": "stdout",
     "output_type": "stream",
     "text": [
      "[-11.33657989  -5.0517384   -5.71258095  -5.10906745  -5.77329591\n",
      "  -3.72477694  -4.45005777  -5.87091488 -10.21937212  -4.22896791\n",
      "  -4.20159966  -3.90064286  -2.02794662  -2.8585149   -3.68913687\n",
      "  -8.1969526   -3.76888654  -4.69491528  -3.35826634  -4.34762671\n",
      "  -2.90570653  -3.39357567  -6.81289994  -3.29999565  -2.10249439\n",
      "  -2.68204313  -1.1797158   -2.19918131  -2.64466701] [-2.88069023 -1.45417461 -1.31414316 -1.8907998  -1.67400885 -1.90883073\n",
      " -2.24898752 -1.70505531 -5.75613022  0.12496946 -2.969579   -3.0823877\n",
      " -0.95154216 -5.38358824 -2.66822103 -7.54649909 -3.52115853 -4.73663636\n",
      " -3.38487045 -4.65261248 -3.89923071 -4.77064039 -9.23129426 -4.89432654\n",
      " -5.04392076 -4.96876948 -5.96841813 -4.65913178 -5.66585826]\n"
     ]
    }
   ],
   "source": [
    "print(vs[0, 0], vs[0, 1])"
   ]
  },
  {
   "cell_type": "code",
   "execution_count": 16,
   "metadata": {},
   "outputs": [
    {
     "name": "stdout",
     "output_type": "stream",
     "text": [
      "3.390431811549459\n"
     ]
    }
   ],
   "source": [
    "print(np.arctan(vs[0,1,0]/vs[0,0,0]) + np.pi)\n",
    "# print(psis)"
   ]
  },
  {
   "cell_type": "code",
   "execution_count": 17,
   "metadata": {},
   "outputs": [
    {
     "data": {
      "text/plain": [
       "<matplotlib.collections.PathCollection at 0x7f18d6260f10>"
      ]
     },
     "execution_count": 17,
     "metadata": {},
     "output_type": "execute_result"
    },
    {
     "data": {
      "image/png": "[encoded data removed]",
      "text/plain": [
       "<Figure size 432x288 with 1 Axes>"
      ]
     },
     "metadata": {
      "needs_background": "light"
     },
     "output_type": "display_data"
    }
   ],
   "source": [
    "plt.scatter([i for i in range(len(vs[0][0]))] , vs[0, 0, :])\n",
    "plt.scatter([i for i in range(len(vs[0][0]))] , vs[0, 1, :])"
   ]
  },
  {
   "cell_type": "code",
   "execution_count": 18,
   "metadata": {},
   "outputs": [
    {
     "data": {
      "text/plain": [
       "[<matplotlib.lines.Line2D at 0x7f18d67573d0>]"
      ]
     },
     "execution_count": 18,
     "metadata": {},
     "output_type": "execute_result"
    },
    {
     "data": {
      "image/png": "[encoded data removed]",
      "text/plain": [
       "<Figure size 432x288 with 1 Axes>"
      ]
     },
     "metadata": {
      "needs_background": "light"
     },
     "output_type": "display_data"
    }
   ],
   "source": [
    "plt.plot([i for i in range(len(psi))] , psi)\n",
    "# plt.plot([i for i in range(len(psi))], [    for k in range(len())])\n",
    "# print(np.array(psi).shape)"
   ]
  },
  {
   "cell_type": "code",
   "execution_count": 19,
   "metadata": {},
   "outputs": [
    {
     "name": "stdout",
     "output_type": "stream",
     "text": [
      "(20, 1, 29)\n"
     ]
    }
   ],
   "source": [
    "np.save(\"pos_data.npy\", np.array(xs))\n",
    "np.save(\"vel_data.npy\", np.array(xs))\n",
    "np.save(\"psi_data.npy\", np.array(psis))\n",
    "np.save(\"psidot_data.npy\", np.array(psidots))\n",
    "print(np.array(psis).shape)\n",
    "# plt.plot(arr[:, 0], arr[ :, 1])"
   ]
  },
  {
   "cell_type": "code",
   "execution_count": 20,
   "metadata": {},
   "outputs": [
    {
     "name": "stdout",
     "output_type": "stream",
     "text": [
      "dict_keys(['x_init', 'y_init', 'v_init', 'psi_init', 'psidot_init', 'x_fin', 'y_fin', 'psi_fin', 'psidot_fin'])\n",
      "(20, 1)\n",
      "dict_keys(['x_init', 'y_init', 'vx_init', 'vy_init', 'psi_init', 'psidot_init', 'x_fin', 'y_fin', 'psi_fin', 'psidot_fin'])\n",
      "(20, 1)\n"
     ]
    }
   ],
   "source": [
    "with open(\"./tempinp.json\") as f:\n",
    "    rdata = json.load(f)\n",
    "    \n",
    "print(rdata.keys())\n",
    "print(np.array(rdata['psidot_init']).shape)\n",
    "print(dic.keys())\n",
    "print(np.array(dic['psidot_init']).shape)"
   ]
  },
  {
   "cell_type": "code",
   "execution_count": 13,
   "metadata": {},
   "outputs": [
    {
     "name": "stdout",
     "output_type": "stream",
     "text": [
      "Using cpu device\n"
     ]
    }
   ],
   "source": [
    "device = 'cuda' if torch.cuda.is_available() else 'cpu'\n",
    "print('Using {} device'.format(device))"
   ]
  },
  {
   "cell_type": "code",
   "execution_count": 12,
   "metadata": {},
   "outputs": [],
   "source": [
    "class OPTNode(AbstractDeclarativeNode):\n",
    "    def __init__(self, rho_eq=1.0, rho_goal=1.0, rho_nonhol=1.0, rho_psi=1.0, maxiter=500, weight_smoothness=5.0, weight_smoothness_psi=5.0, t_fin=8.0, num=16):\n",
    "        super().__init__()\n",
    "        self.rho_eq = rho_eq\n",
    "        self.rho_goal = rho_goal\n",
    "        self.rho_nonhol = rho_nonhol\n",
    "        self.rho_psi = rho_psi\n",
    "        self.maxiter = maxiter\n",
    "        self.weight_smoothness = weight_smoothness\n",
    "        self.weight_smoothness_psi = weight_smoothness_psi\n",
    "\n",
    "        self.t_fin = t_fin\n",
    "        self.num = num\n",
    "        self.t = self.t_fin / self.num\n",
    "\n",
    "        #self.num_batch = 10\n",
    "        \n",
    "        tot_time = np.linspace(0.0, self.t_fin, self.num)\n",
    "        tot_time_copy = tot_time.reshape(self.num, 1)\n",
    "        self.P, self.Pdot, self.Pddot = bernstein_coeff_order10_new(10, tot_time_copy[0], tot_time_copy[-1], tot_time_copy)\n",
    "        self.nvar = np.shape(self.P)[1]\n",
    "        \n",
    "        self.cost_smoothness = self.weight_smoothness * np.dot(self.Pddot.T, self.Pddot)\n",
    "        self.cost_smoothness_psi = self.weight_smoothness_psi * np.dot(self.Pddot.T, self.Pddot)\n",
    "        self.lincost_smoothness_psi = np.zeros(self.nvar)\n",
    "\n",
    "        self.A_eq = np.vstack((self.P[0], self.P[-1]))\n",
    "        self.A_eq_psi = np.vstack((self.P[0], self.Pdot[0], self.P[-1], self.Pdot[-1]))\n",
    "        \n",
    "        self.P = torch.tensor(self.P, dtype=torch.double).to(device)\n",
    "        self.Pdot = torch.tensor(self.Pdot, dtype=torch.double).to(device)\n",
    "        self.Pddot = torch.tensor(self.Pddot, dtype=torch.double).to(device)\n",
    "        self.A_eq = torch.tensor(self.A_eq, dtype=torch.double).to(device)        \n",
    "        self.A_eq_psi = torch.tensor(self.A_eq_psi, dtype=torch.double).to(device)\n",
    "        self.cost_smoothness = torch.tensor(self.cost_smoothness, dtype=torch.double).to(device)\n",
    "        self.cost_smoothness_psi = torch.tensor(self.cost_smoothness_psi, dtype=torch.double).to(device)\n",
    "        self.lincost_smoothness_psi = torch.tensor(self.lincost_smoothness_psi, dtype=torch.double).to(device)\n",
    "        \n",
    "        self.A_nonhol = self.Pdot\n",
    "        self.A_psi = self.P\n",
    "    \n",
    "    def compute_x(self, lamda_x, lamda_y, v, psi, b_eq_x, b_eq_y):\n",
    "        b_nonhol_x = v * torch.cos(psi)\n",
    "        b_nonhol_y = v * torch.sin(psi)\n",
    "    \n",
    "        cost = self.cost_smoothness + self.rho_nonhol * torch.matmul(self.A_nonhol.T, self.A_nonhol) + self.rho_eq * torch.matmul(self.A_eq.T, self.A_eq)\n",
    "        lincost_x = -lamda_x - self.rho_nonhol * torch.matmul(self.A_nonhol.T, b_nonhol_x.T).T - self.rho_eq * torch.matmul(self.A_eq.T, b_eq_x.T).T\n",
    "        lincost_y = -lamda_y - self.rho_nonhol * torch.matmul(self.A_nonhol.T, b_nonhol_y.T).T - self.rho_eq * torch.matmul(self.A_eq.T, b_eq_y.T).T\n",
    "\n",
    "        cost_inv = torch.linalg.inv(cost)\n",
    "\n",
    "        sol_x = torch.matmul(-cost_inv, lincost_x.T).T\n",
    "        sol_y = torch.matmul(-cost_inv, lincost_y.T).T\n",
    "\n",
    "        x = torch.matmul(self.P, sol_x.T).T\n",
    "        xdot = torch.matmul(self.Pdot, sol_x.T).T\n",
    "\n",
    "        y = torch.matmul(self.P, sol_y.T).T\n",
    "        ydot = torch.matmul(self.Pdot, sol_y.T).T\n",
    "         \n",
    "        return sol_x, sol_y, x, xdot, y, ydot\n",
    "    \n",
    "    def compute_psi(self, psi, lamda_psi, psi_temp, b_eq_psi):\n",
    "        cost = self.cost_smoothness_psi + self.rho_psi * torch.matmul(self.A_psi.T, self.A_psi) + self.rho_eq * torch.matmul(self.A_eq_psi.T, self.A_eq_psi)\n",
    "        lincost_psi = -lamda_psi - self.rho_psi * torch.matmul(self.A_psi.T, psi_temp.T).T - self.rho_eq * torch.matmul(self.A_eq_psi.T, b_eq_psi.T).T\n",
    "\n",
    "        cost_inv = torch.linalg.inv(cost)\n",
    "\n",
    "        sol_psi = torch.matmul(-cost_inv, lincost_psi.T).T\n",
    "\n",
    "        psi = torch.matmul(self.P, sol_psi.T).T\n",
    "\n",
    "        res_psi = torch.matmul(self.A_psi, sol_psi.T).T - psi_temp\n",
    "        res_eq_psi = torch.matmul(self.A_eq_psi, sol_psi.T).T - b_eq_psi\n",
    "\n",
    "        lamda_psi = lamda_psi - self.rho_psi * torch.matmul(self.A_psi.T, res_psi.T).T - self.rho_eq * torch.matmul(self.A_eq_psi.T, res_eq_psi.T).T\n",
    "\n",
    "        return sol_psi, np.linalg.norm(res_psi), np.linalg.norm(res_eq_psi), psi, lamda_psi\n",
    "\n",
    "    \n",
    "    def solve(self, fixed_params, variable_params):\n",
    "        batch_size, _ = fixed_params.size()\n",
    "        x_init, y_init, v_init, psi_init, psidot_init = torch.chunk(fixed_params, 5, dim=1)\n",
    "        x_fin, y_fin, psi_fin, psidot_fin = torch.chunk(variable_params, 4, dim=1)\n",
    "        \n",
    "        b_eq_x = torch.cat((x_init, x_fin), dim=1)\n",
    "        b_eq_y = torch.cat((y_init, y_fin), dim=1)\n",
    "        b_eq_psi = torch.cat((psi_init, psidot_init, psi_fin, psidot_fin), dim=1)\n",
    "        \n",
    "        lamda_x = torch.zeros(batch_size, self.nvar, dtype=torch.double).to(device)\n",
    "        lamda_y = torch.zeros(batch_size, self.nvar, dtype=torch.double).to(device)\n",
    "        lamda_psi = torch.zeros(batch_size, self.nvar, dtype=torch.double).to(device)\n",
    "        \n",
    "        v = torch.ones(batch_size, self.num, dtype=torch.double).to(device) * v_init\n",
    "        psi = torch.ones(batch_size, self.num, dtype=torch.double).to(device) * psi_init\n",
    "        xdot = v * torch.cos(psi)\n",
    "        ydot = v * torch.sin(psi)\n",
    "        \n",
    "        for i in range(0, self.maxiter):\n",
    "            psi_temp = torch.atan2(ydot, xdot)\n",
    "            c_psi, _, _, psi, lamda_psi = self.compute_psi(psi, lamda_psi, psi_temp, b_eq_psi)\n",
    "            c_x, c_y, x, xdot, y, ydot = self.compute_x(lamda_x, lamda_y, v, psi, b_eq_x, b_eq_y)\n",
    "            \n",
    "            v = torch.sqrt(xdot ** 2 + ydot ** 2)\n",
    "            #v[:, 0] = v_init[:, 0]\n",
    "\n",
    "            res_eq_x = torch.matmul(self.A_eq, c_x.T).T - b_eq_x\n",
    "            res_nonhol_x = xdot - v * torch.cos(psi)\n",
    "\n",
    "            res_eq_y = torch.matmul(self.A_eq, c_y.T).T - b_eq_y\n",
    "            res_nonhol_y = ydot - v * torch.sin(psi)\n",
    "\n",
    "            lamda_x = lamda_x - self.rho_eq * torch.matmul(self.A_eq.T, res_eq_x.T).T - self.rho_nonhol * torch.matmul(self.A_nonhol.T, res_nonhol_x.T).T\n",
    "            lamda_y = lamda_y - self.rho_eq * torch.matmul(self.A_eq.T, res_eq_y.T).T - self.rho_nonhol * torch.matmul(self.A_nonhol.T, res_nonhol_y.T).T\n",
    "                    \n",
    "        \n",
    "        primal_sol = torch.hstack((c_x, c_y, c_psi, v))\n",
    "        return primal_sol, None\n",
    "    \n",
    "    def objective(self, fixed_params, variable_params, y):\n",
    "        c_x = y[:, :self.nvar]\n",
    "        c_y = y[:, self.nvar:2*self.nvar]\n",
    "        c_psi = y[:, 2*self.nvar:3*self.nvar]\n",
    "        v = y[:, 3*self.nvar:]\n",
    "        \n",
    "        x_init, y_init, v_init, psi_init, psidot_init = torch.chunk(fixed_params, 5, dim=1)\n",
    "        x_fin, y_fin, psi_fin, psidot_fin = torch.chunk(variable_params, 4, dim=1)\n",
    "        \n",
    "        x = torch.matmul(self.P, c_x.T).T\n",
    "        y = torch.matmul(self.P, c_y.T).T\n",
    "        psi = torch.matmul(self.P, c_psi.T).T\n",
    "        xdot = torch.matmul(self.Pdot, c_x.T).T\n",
    "        ydot = torch.matmul(self.Pdot, c_y.T).T\n",
    "        psidot = torch.matmul(self.Pdot, c_psi.T).T\n",
    "        xddot = torch.matmul(self.Pddot, c_x.T).T\n",
    "        yddot = torch.matmul(self.Pddot, c_y.T).T\n",
    "        psiddot = torch.matmul(self.Pddot, c_psi.T).T\n",
    "        \n",
    "        cost_nonhol = 0.5*self.rho_nonhol*torch.sum((xdot - v*torch.cos(psi)) ** 2, 1) + 0.5*self.rho_nonhol*torch.sum((ydot - v*torch.sin(psi)) ** 2, 1)\n",
    "        cost_pos = 0.5*self.rho_eq*(torch.sum((x[:, -1] - x_fin) ** 2, 1) + torch.sum((y[:, -1] - y_fin) ** 2, 1) + torch.sum((x[:, 0] - x_init) ** 2, 1) + torch.sum((y[:, 0] - y_init) ** 2, 1))\n",
    "        cost_psi = 0.5*self.rho_eq*(torch.sum((psi[:, -1] - psi_fin) ** 2, 1) + torch.sum((psi[:, 0] - psi_init) ** 2, 1) + \n",
    "                                    torch.sum((psidot[:, -1] - psidot_fin) ** 2, 1) + torch.sum((psidot[:, 0] - psidot_init) ** 2, 1))\n",
    "        #cost_v = 0.5*self.rho_eq*torch.sum((v[:, 0] - v_init) ** 2, 1)\n",
    "        \n",
    "        cost_smoothness = 0.5*self.weight_smoothness*(torch.sum(xddot**2, 1) + torch.sum(yddot**2, 1)) + 0.5*self.weight_smoothness_psi*torch.sum(psiddot**2, 1)\n",
    "        return cost_nonhol + cost_pos + cost_psi + cost_smoothness #+ cost_v"
   ]
  },
  {
   "cell_type": "code",
   "execution_count": 14,
   "metadata": {},
   "outputs": [],
   "source": [
    "class DeclarativeFunction(torch.autograd.Function):\n",
    "    \"\"\"Generic declarative autograd function.\n",
    "    Defines the forward and backward functions. Saves all inputs and outputs,\n",
    "    which may be memory-inefficient for the specific problem.\n",
    "    \n",
    "    Assumptions:\n",
    "    * All inputs are PyTorch tensors\n",
    "    * All inputs have a single batch dimension (b, ...)\n",
    "    \"\"\"\n",
    "    @staticmethod\n",
    "    def forward(ctx, problem, *inputs):\n",
    "        output, solve_ctx = torch.no_grad()(problem.solve)(*inputs)\n",
    "        ctx.save_for_backward(output, *inputs)\n",
    "        ctx.problem = problem\n",
    "        ctx.solve_ctx = solve_ctx\n",
    "        return output.clone()\n",
    "\n",
    "    @staticmethod\n",
    "    def backward(ctx, grad_output):\n",
    "        output, *inputs = ctx.saved_tensors\n",
    "        problem = ctx.problem\n",
    "        solve_ctx = ctx.solve_ctx\n",
    "        output.requires_grad = True\n",
    "        inputs = tuple(inputs)\n",
    "        grad_inputs = problem.gradient(*inputs, y=output, v=grad_output,\n",
    "            ctx=solve_ctx)\n",
    "        return (None, *grad_inputs)"
   ]
  },
  {
   "cell_type": "code",
   "execution_count": 15,
   "metadata": {},
   "outputs": [],
   "source": [
    "class DeclarativeLayer(torch.nn.Module):\n",
    "    \"\"\"Generic declarative layer.\n",
    "    \n",
    "    Assumptions:\n",
    "    * All inputs are PyTorch tensors\n",
    "    * All inputs have a single batch dimension (b, ...)\n",
    "    Usage:\n",
    "        problem = <derived class of *DeclarativeNode>\n",
    "        declarative_layer = DeclarativeLayer(problem)\n",
    "        y = declarative_layer(x1, x2, ...)\n",
    "    \"\"\"\n",
    "    def __init__(self, problem):\n",
    "        super(DeclarativeLayer, self).__init__()\n",
    "        self.problem = problem\n",
    "        \n",
    "    def forward(self, *inputs):\n",
    "        return DeclarativeFunction.apply(self.problem, *inputs)"
   ]
  },
  {
   "cell_type": "code",
   "execution_count": 16,
   "metadata": {},
   "outputs": [],
   "source": [
    "class TrajNet(nn.Module):\n",
    "    def __init__(self, opt_layer, P, Pdot, input_size=32, hidden_size=64, output_size=4, nvar=11, t_obs=8):\n",
    "        super(TrajNet, self).__init__()\n",
    "        self.nvar = nvar\n",
    "        self.t_obs = t_obs\n",
    "        self.P = torch.tensor(P, dtype=torch.double).to(device)\n",
    "        self.Pdot = torch.tensor(Pdot, dtype=torch.double).to(device)\n",
    "        self.linear1 = nn.Linear(input_size, hidden_size)\n",
    "        self.linear2 = nn.Linear(hidden_size, output_size)\n",
    "        self.opt_layer = opt_layer\n",
    "        self.activation = nn.ReLU()\n",
    "        self.mask = torch.tensor([[0.0, 0.0, 1.0, 1.0]], dtype=torch.double).to(device)\n",
    "    \n",
    "    def forward(self, x, fixed_params, var_inp):\n",
    "        batch_size, _ = x.size()\n",
    "        out = self.activation(self.linear1(x))\n",
    "        variable_params = self.linear2(out)\n",
    "        variable_params = self.mask * var_inp + (1-self.mask) * variable_params\n",
    "        \n",
    "        # Run optimization\n",
    "        sol = self.opt_layer(fixed_params, variable_params)\n",
    "         \n",
    "        # Compute final trajectory\n",
    "        x_pred = torch.matmul(self.P, sol[:, :self.nvar].transpose(0, 1))\n",
    "        y_pred = torch.matmul(self.P, sol[:, self.nvar:2*self.nvar].transpose(0, 1))\n",
    "        x_pred = x_pred.transpose(0, 1)\n",
    "        y_pred = y_pred.transpose(0, 1)\n",
    "        out = torch.cat([x_pred, y_pred], dim=1)\n",
    "        return out"
   ]
  },
  {
   "cell_type": "code",
   "execution_count": 8,
   "metadata": {},
   "outputs": [],
   "source": [
    "class ArgoverseDataset(Dataset):\n",
    "    def __init__(self, data_path, t_obs=16, dt=0.125,centerline_dir=None):\n",
    "        self.data = np.load(data_path)\n",
    "        self.data_path = data_path\n",
    "        self.t_obs = t_obs\n",
    "        self.dt = dt\n",
    "        self.centerline_dir = centerline_dir\n",
    "    \n",
    "    def __len__(self):\n",
    "        return len(self.data)\n",
    "    \n",
    "    def __getitem__(self, idx):\n",
    "        traj = self.data[idx]\n",
    "        x_traj = traj[:, 0]\n",
    "        y_traj = traj[:, 1]\n",
    "        \n",
    "        vx_traj = traj[:, 2]\n",
    "        vy_traj = traj[:, 3]\n",
    "        psi_traj = traj[:, 4]\n",
    "        psidot_traj = traj[:, 5]\n",
    "\n",
    "        v_x = [ (x_traj[k + 1] - x_traj[k])/self.dt  for k in range(len(x_traj) - 1)]\n",
    "        v_y = [ (y_traj[k + 1] - y_traj[k])/dt  for k in range(len(gt_y) - 1)]\n",
    "        psi = [ np.arctan(v_y[k]/v_x[k]) if v_x[k] > 0 else (np.arctan(v_y[k]/v_x[k]) + np.pi) for k in range(len(v_x))]\n",
    "        psidot = [ (psi[k + 1] - psi[k])/dt for k in range(len(psi) - 1) ]\n",
    "        psi = [i.item() for i in psi]\n",
    "        psidot = [i.item() for i in psidot]        \n",
    "        psi_traj = np.pi * psi_traj / 180.0\n",
    "        psidot_traj = np.pi * psidot_traj / 180.0\n",
    "                \n",
    "        x_traj = x_traj - x_traj[0]\n",
    "        y_traj = y_traj - y_traj[0]\n",
    "                \n",
    "        x_inp = x_traj[:self.t_obs]\n",
    "        y_inp = y_traj[:self.t_obs]\n",
    "        x_fut = x_traj[self.t_obs:]\n",
    "        y_fut = y_traj[self.t_obs:]\n",
    "        psi_fut = psi_traj[self.t_obs:]\n",
    "        psidot_fut = psidot_traj[self.t_obs:]\n",
    "        \n",
    "        vx_beg = vx_traj[self.t_obs-1]\n",
    "        vy_beg = vy_traj[self.t_obs-1]\n",
    "        \n",
    "        vx_beg_prev = vx_traj[self.t_obs-2]\n",
    "        vy_beg_prev = vy_traj[self.t_obs-2]\n",
    "        \n",
    "        ax_beg = (vx_beg - vx_beg_prev) / self.dt\n",
    "        ay_beg = (vy_beg - vy_beg_prev) / self.dt\n",
    "        \n",
    "        vx_fin = vx_traj[2*self.t_obs-1]\n",
    "        vy_fin = vy_traj[2*self.t_obs-1]\n",
    "        \n",
    "        vx_fin_prev = vx_traj[2*self.t_obs-2]\n",
    "        vy_fin_prev = vy_traj[2*self.t_obs-2]\n",
    "        \n",
    "        ax_fin = (vx_fin - vx_fin_prev) / self.dt\n",
    "        ay_fin = (vy_fin - vy_fin_prev) / self.dt\n",
    "        \n",
    "        traj_inp = np.dstack((x_inp, y_inp)).flatten()        \n",
    "        if self.centerline_dir is not None:\n",
    "            cs = np.load(self.centerline_dir)[idx][self.t_obs:]\n",
    "            data = np.load(self.data_path)\n",
    "\n",
    "            \n",
    "            c_x = cs[:, 0]\n",
    "            \n",
    "            c_y = cs[:, 1]\n",
    "            c_x -= data[idx][0,0]\n",
    "            c_y -= data[idx][0,1]\n",
    "            c_x -= c_x[0]\n",
    "            c_y -= c_y[0]\n",
    "            c_x += x_inp[-1]\n",
    "            c_y += y_inp[-1]\n",
    "        \n",
    "#             c_y += y_inp[-1] + 2\n",
    "            c_inp = np.dstack((c_x, c_y)).flatten()\n",
    "            traj_inp = np.hstack((traj_inp, c_inp))\n",
    "            \n",
    "        vx_fut = vx_traj[self.t_obs:]\n",
    "        vy_fut = vy_traj[self.t_obs:]\n",
    "        traj_out = np.hstack((x_fut, y_fut)).flatten()\n",
    "        \n",
    "        fixed_params = np.array([x_fut[0], y_fut[0], 0, psi_fut[0], psidot_fut[0]])\n",
    "        var_inp = np.array([x_inp[-1], y_inp[-1], psi_fut[-1], psidot_fut[-1]])\n",
    "        return torch.tensor(traj_inp), torch.tensor(traj_out), torch.tensor(fixed_params), torch.tensor(var_inp)"
   ]
  },
  {
   "cell_type": "code",
   "execution_count": 22,
   "metadata": {},
   "outputs": [
    {
     "ename": "NameError",
     "evalue": "name 'ArgoverseDataset' is not defined",
     "output_type": "error",
     "traceback": [
      "\u001b[0;31m---------------------------------------------------------------------------\u001b[0m",
      "\u001b[0;31mNameError\u001b[0m                                 Traceback (most recent call last)",
      "\u001b[0;32m<ipython-input-22-b7cfc267c7ac>\u001b[0m in \u001b[0;36m<module>\u001b[0;34m\u001b[0m\n\u001b[0;32m----> 1\u001b[0;31m \u001b[0mtrain_dataset\u001b[0m \u001b[0;34m=\u001b[0m \u001b[0mArgoverseDataset\u001b[0m\u001b[0;34m(\u001b[0m\u001b[0;34m\"/datasets/argoverse/val_data.npy\"\u001b[0m\u001b[0;34m,\u001b[0m \u001b[0mcenterline_dir\u001b[0m\u001b[0;34m=\u001b[0m\u001b[0;34m\"/datasets/argoverse/val_centerlines.npy\"\u001b[0m\u001b[0;34m,\u001b[0m \u001b[0mt_obs\u001b[0m\u001b[0;34m=\u001b[0m\u001b[0;36m30\u001b[0m\u001b[0;34m,\u001b[0m \u001b[0mdt\u001b[0m\u001b[0;34m=\u001b[0m\u001b[0;36m0.1\u001b[0m\u001b[0;34m)\u001b[0m\u001b[0;34m\u001b[0m\u001b[0;34m\u001b[0m\u001b[0m\n\u001b[0m\u001b[1;32m      2\u001b[0m \u001b[0mtrain_loader\u001b[0m \u001b[0;34m=\u001b[0m \u001b[0mDataLoader\u001b[0m\u001b[0;34m(\u001b[0m\u001b[0mtrain_dataset\u001b[0m\u001b[0;34m,\u001b[0m \u001b[0mbatch_size\u001b[0m\u001b[0;34m=\u001b[0m\u001b[0;36m20\u001b[0m\u001b[0;34m,\u001b[0m \u001b[0mshuffle\u001b[0m\u001b[0;34m=\u001b[0m\u001b[0;32mFalse\u001b[0m\u001b[0;34m,\u001b[0m \u001b[0mnum_workers\u001b[0m\u001b[0;34m=\u001b[0m\u001b[0;36m0\u001b[0m\u001b[0;34m)\u001b[0m\u001b[0;34m\u001b[0m\u001b[0;34m\u001b[0m\u001b[0m\n\u001b[1;32m      3\u001b[0m \u001b[0;34m\u001b[0m\u001b[0m\n\u001b[1;32m      4\u001b[0m \u001b[0mtest_dataset\u001b[0m \u001b[0;34m=\u001b[0m \u001b[0mArgoverseDataset\u001b[0m\u001b[0;34m(\u001b[0m\u001b[0;34m\"/datasets/argoverse/val_test_data.npy\"\u001b[0m\u001b[0;34m,\u001b[0m \u001b[0mcenterline_dir\u001b[0m\u001b[0;34m=\u001b[0m\u001b[0;34m\"/datasets/argoverse/val_test_centerlines.npy\"\u001b[0m\u001b[0;34m,\u001b[0m \u001b[0mt_obs\u001b[0m\u001b[0;34m=\u001b[0m\u001b[0;36m30\u001b[0m\u001b[0;34m,\u001b[0m \u001b[0mdt\u001b[0m\u001b[0;34m=\u001b[0m\u001b[0;36m0.1\u001b[0m\u001b[0;34m)\u001b[0m\u001b[0;34m\u001b[0m\u001b[0;34m\u001b[0m\u001b[0m\n\u001b[1;32m      5\u001b[0m \u001b[0mtest_loader\u001b[0m \u001b[0;34m=\u001b[0m \u001b[0mDataLoader\u001b[0m\u001b[0;34m(\u001b[0m\u001b[0mtest_dataset\u001b[0m\u001b[0;34m,\u001b[0m \u001b[0mbatch_size\u001b[0m\u001b[0;34m=\u001b[0m\u001b[0;36m20\u001b[0m\u001b[0;34m,\u001b[0m \u001b[0mshuffle\u001b[0m\u001b[0;34m=\u001b[0m\u001b[0;32mFalse\u001b[0m\u001b[0;34m,\u001b[0m \u001b[0mnum_workers\u001b[0m\u001b[0;34m=\u001b[0m\u001b[0;36m0\u001b[0m\u001b[0;34m)\u001b[0m\u001b[0;34m\u001b[0m\u001b[0;34m\u001b[0m\u001b[0m\n",
      "\u001b[0;31mNameError\u001b[0m: name 'ArgoverseDataset' is not defined"
     ]
    }
   ],
   "source": [
    "train_dataset = ArgoverseDataset(\"/datasets/argoverse/val_data.npy\", centerline_dir=\"/datasets/argoverse/val_centerlines.npy\", t_obs=30, dt=0.1)\n",
    "train_loader = DataLoader(train_dataset, batch_size=20, shuffle=False, num_workers=0)\n",
    "\n",
    "test_dataset = ArgoverseDataset(\"/datasets/argoverse/val_test_data.npy\", centerline_dir=\"/datasets/argoverse/val_test_centerlines.npy\", t_obs=30, dt=0.1)\n",
    "test_loader = DataLoader(test_dataset, batch_size=20, shuffle=False, num_workers=0)\n"
   ]
  },
  {
   "cell_type": "code",
   "execution_count": 17,
   "metadata": {},
   "outputs": [],
   "source": [
    "# train_dataset = TrajectoryDataset(\"/datasets/argoverse/carla_train.npy\", centerline_dir=\"/datasets/argoverse/carla_train_centerlines.npy\")\n",
    "# train_loader = DataLoader(train_dataset, batch_size=20, shuffle=False, num_workers=0)"
   ]
  },
  {
   "cell_type": "code",
   "execution_count": 19,
   "metadata": {},
   "outputs": [],
   "source": [
    "# test_dataset = TrajectoryDataset(\"/datasets/argoverse/carla_test.npy\", centerline_dir=\"/datasets/argoverse/carla_test_centerlines.npy\")\n",
    "# test_loader = DataLoader(test_dataset, batch_size=20, shuffle=False, num_workers=0)"
   ]
  },
  {
   "cell_type": "code",
   "execution_count": 21,
   "metadata": {},
   "outputs": [],
   "source": [
    "offsets_train = np.load(\"/datasets/argoverse/val_offsets.npy\")\n",
    "# offsets_test = np.load(\"/datasets/argoverse/val_offsets_test.npy\")"
   ]
  },
  {
   "cell_type": "code",
   "execution_count": 31,
   "metadata": {},
   "outputs": [],
   "source": [
    "import numpy as np\n",
    "import matplotlib.pyplot as plt\n",
    "\n",
    "def plot_traj(cnt, traj_inp, traj_out, traj_pred, obs, batch_num=0, num = 30, offsets = [], cities = [], avm = None, center = True, mode = \"train\", inp_len=40, c_len=70):\n",
    "    traj_inp = traj_inp.numpy()\n",
    "    traj_out = traj_out.numpy()\n",
    "    traj_pred = traj_pred.detach().numpy()\n",
    "    \n",
    "    lane_centerlines = []\n",
    "    ind = batch_num * 20 + cnt\n",
    "\n",
    "    fig, ax = plt.subplots(1, 1, figsize=(6, 6))\n",
    "    # Get lane centerlines which lie within the range of trajectories\n",
    "    ox = offsets[ind][0] + 2\n",
    "    oy = offsets[ind][1] + 2\n",
    "    ox = 0\n",
    "    oy = 0\n",
    "    if avm is not None:\n",
    "        city = cities[ind]\n",
    "        ox = offsets[ind][0] + 2\n",
    "        oy = offsets[ind][1] + 2\n",
    "        x_max = np.max(np.concatenate((traj_inp[:inp_len:2], traj_out[:num], traj_pred[:num]), axis=0)) + ox\n",
    "        x_min = np.min(np.concatenate((traj_inp[:inp_len:2], traj_out[:num], traj_pred[:num]), axis=0)) + ox\n",
    "        y_max = np.max(np.concatenate((traj_inp[1:inp_len:2], traj_out[num:], traj_pred[num:]), axis=0)) + oy\n",
    "        y_min = np.min(np.concatenate((traj_inp[1:inp_len:2], traj_out[num:], traj_pred[num:]), axis=0)) + oy\n",
    "        \n",
    "        seq_lane_props = avm.city_lane_centerlines_dict[city]\n",
    "        for lane_id, lane_props in seq_lane_props.items():\n",
    "            lane_cl = lane_props.centerline\n",
    "\n",
    "            if (np.min(lane_cl[:, 0]) < x_max and np.min(lane_cl[:, 1]) < y_max and np.max(lane_cl[:, 0]) > x_min and np.max(lane_cl[:, 1]) > y_min):\n",
    "                lane_centerlines.append(lane_cl)\n",
    "\n",
    "        for lane_cl in lane_centerlines:\n",
    "            if True:\n",
    "                ax.plot(lane_cl[:, 0], lane_cl[:, 1], \"--\", color=\"grey\", alpha=1, linewidth=1, zorder=0)\n",
    "\n",
    "    ax.scatter(traj_inp[:inp_len:2] + ox, traj_inp[1:inp_len:2] + oy, color='blue', label='Inp traj')\n",
    "    ax.scatter(traj_out[:num] + ox, traj_out[num:] + oy, color='orange', label='GT')\n",
    "    ax.scatter(traj_pred[:num] + ox, traj_pred[num:] + oy, color='green', label='Pred')\n",
    "\n",
    "    if center:\n",
    "        ax.plot(traj_inp[inp_len:c_len:2] + ox , traj_inp[inp_len + 1:c_len:2] + oy, color='black',label='primary-centerline')\n",
    "    \n",
    "    ax.legend()\n",
    "    ax.set_xlim([-50,50])\n",
    "    ax.set_ylim([-50,50])    \n",
    "    if mode == \"train\":\n",
    "        plt.savefig('./results/{}.png'.format(cnt))\n",
    "    else:\n",
    "        plt.savefig('./results/{}.png'.format(batch_num * 20 + cnt))\n",
    "    plt.close()\n"
   ]
  },
  {
   "cell_type": "code",
   "execution_count": 32,
   "metadata": {},
   "outputs": [
    {
     "name": "stdout",
     "output_type": "stream",
     "text": [
      "torch.Size([20, 64]) torch.Size([20, 32]) <built-in method size of Tensor object at 0x7fc3073e5300> <built-in method size of Tensor object at 0x7fc3073e5400>\n"
     ]
    }
   ],
   "source": [
    "for batch_num, data in enumerate(train_loader):\n",
    "    traj_inp, traj_out, fixed_params, var_inp = data\n",
    "    torch.set_printoptions(precision=None, threshold=None, edgeitems=None, linewidth=None, profile=None, sci_mode=False)\n",
    "    print(traj_inp.size(), traj_out.size(), fixed_params.size, var_inp.size)\n",
    "    ade = []\n",
    "    fde = []\n",
    "    out = model(traj_inp, fixed_params, var_inp)    \n",
    "#     plt.scatter(traj_inp[0][:32:2], traj_inp[0][1:32:2])\n",
    "#     plt.scatter(traj_inp[0][32:96:2], traj_inp[0][33:96:2])\n",
    "    for ii in range(1):\n",
    "        gt = [[out[ii][j],out[ii][j + num]] for j in range(len(out[ii])//2)]\n",
    "        pred = [[traj_out[ii][j],traj_out[ii][j + num]] for j in range(len(out[ii])//2)]\n",
    "        ade.append(get_ade(np.array(pred), np.array(gt)))\n",
    "        fde.append(get_fde(np.array(pred), np.array(gt)))\n",
    "        plot_traj(ii, traj_inp[ii], traj_out[ii], out[ii], {\"x\": [], \"y\": []}, offsets=offsets_train, cities = [], avm=None, center=True, inp_len=num * 2, c_len = num * 2 + num_elems * 2, num=num)\n",
    "    \n",
    "#     print(fixed_params, var_inp)\n",
    "    break"
   ]
  },
  {
   "cell_type": "code",
   "execution_count": 33,
   "metadata": {},
   "outputs": [],
   "source": [
    "problem = OPTNode()\n",
    "opt_layer = DeclarativeLayer(problem)\n",
    "\n",
    "model = TrajNet(opt_layer, problem.P, problem.Pdot, input_size=64)\n",
    "model = model.double()\n",
    "model = model.to(device)"
   ]
  },
  {
   "cell_type": "code",
   "execution_count": 34,
   "metadata": {},
   "outputs": [
    {
     "data": {
      "text/plain": [
       "torch.Size([20, 32])"
      ]
     },
     "execution_count": 34,
     "metadata": {},
     "output_type": "execute_result"
    }
   ],
   "source": [
    "out = model(traj_inp, fixed_params, var_inp)\n",
    "out.shape"
   ]
  },
  {
   "cell_type": "code",
   "execution_count": 35,
   "metadata": {},
   "outputs": [],
   "source": [
    "criterion = nn.MSELoss()\n",
    "optimizer = torch.optim.SGD(model.parameters(), lr = 0.001)"
   ]
  },
  {
   "cell_type": "code",
   "execution_count": 36,
   "metadata": {},
   "outputs": [],
   "source": [
    "num = 16\n",
    "num_elems = 16"
   ]
  },
  {
   "cell_type": "code",
   "execution_count": 45,
   "metadata": {},
   "outputs": [
    {
     "name": "stdout",
     "output_type": "stream",
     "text": [
      "Epoch: 0, Batch: 0, Loss: 3.6875044780759567\n",
      "ADE: 2.231018939248687 FDE: 2.98978541092142\n",
      "Epoch: 0, Batch: 10, Loss: 2.1793500618931385\n",
      "ADE: 1.6428823768750784 FDE: 1.785141094435339\n",
      "Epoch: 0, Mean Loss: 2.7416247192702796\n",
      "Mean ADE: 1.808391176643898 Mean FDE: 1.9113738755656056\n",
      "----------------------------------------------------------------------------------------------------\n",
      "Epoch: 1, Batch: 0, Loss: 2.2350999843840826\n",
      "ADE: 1.5931155500211154 FDE: 1.721040194841882\n",
      "Epoch: 1, Batch: 10, Loss: 2.092787812789408\n",
      "ADE: 1.6162989695885481 FDE: 1.7868217152891226\n",
      "Epoch: 1, Mean Loss: 2.8558451986637188\n",
      "Mean ADE: 1.8357353927214948 Mean FDE: 1.9538115143824837\n",
      "----------------------------------------------------------------------------------------------------\n",
      "Epoch: 2, Batch: 0, Loss: 2.465809966300967\n",
      "ADE: 1.657140527856987 FDE: 1.8220169264000834\n"
     ]
    },
    {
     "ename": "KeyboardInterrupt",
     "evalue": "",
     "output_type": "error",
     "traceback": [
      "\u001b[0;31m---------------------------------------------------------------------------\u001b[0m",
      "\u001b[0;31mKeyboardInterrupt\u001b[0m                         Traceback (most recent call last)",
      "\u001b[0;32m<ipython-input-45-025b37ea7ced>\u001b[0m in \u001b[0;36m<module>\u001b[0;34m\u001b[0m\n\u001b[1;32m     20\u001b[0m \u001b[0;34m\u001b[0m\u001b[0m\n\u001b[1;32m     21\u001b[0m         \u001b[0moptimizer\u001b[0m\u001b[0;34m.\u001b[0m\u001b[0mzero_grad\u001b[0m\u001b[0;34m(\u001b[0m\u001b[0;34m)\u001b[0m\u001b[0;34m\u001b[0m\u001b[0;34m\u001b[0m\u001b[0m\n\u001b[0;32m---> 22\u001b[0;31m         \u001b[0mloss\u001b[0m\u001b[0;34m.\u001b[0m\u001b[0mbackward\u001b[0m\u001b[0;34m(\u001b[0m\u001b[0;34m)\u001b[0m\u001b[0;34m\u001b[0m\u001b[0;34m\u001b[0m\u001b[0m\n\u001b[0m\u001b[1;32m     23\u001b[0m         \u001b[0moptimizer\u001b[0m\u001b[0;34m.\u001b[0m\u001b[0mstep\u001b[0m\u001b[0;34m(\u001b[0m\u001b[0;34m)\u001b[0m\u001b[0;34m\u001b[0m\u001b[0;34m\u001b[0m\u001b[0m\n\u001b[1;32m     24\u001b[0m \u001b[0;34m\u001b[0m\u001b[0m\n",
      "\u001b[0;32m~/.local/lib/python3.8/site-packages/torch/tensor.py\u001b[0m in \u001b[0;36mbackward\u001b[0;34m(self, gradient, retain_graph, create_graph, inputs)\u001b[0m\n\u001b[1;32m    243\u001b[0m                 \u001b[0mcreate_graph\u001b[0m\u001b[0;34m=\u001b[0m\u001b[0mcreate_graph\u001b[0m\u001b[0;34m,\u001b[0m\u001b[0;34m\u001b[0m\u001b[0;34m\u001b[0m\u001b[0m\n\u001b[1;32m    244\u001b[0m                 inputs=inputs)\n\u001b[0;32m--> 245\u001b[0;31m         \u001b[0mtorch\u001b[0m\u001b[0;34m.\u001b[0m\u001b[0mautograd\u001b[0m\u001b[0;34m.\u001b[0m\u001b[0mbackward\u001b[0m\u001b[0;34m(\u001b[0m\u001b[0mself\u001b[0m\u001b[0;34m,\u001b[0m \u001b[0mgradient\u001b[0m\u001b[0;34m,\u001b[0m \u001b[0mretain_graph\u001b[0m\u001b[0;34m,\u001b[0m \u001b[0mcreate_graph\u001b[0m\u001b[0;34m,\u001b[0m \u001b[0minputs\u001b[0m\u001b[0;34m=\u001b[0m\u001b[0minputs\u001b[0m\u001b[0;34m)\u001b[0m\u001b[0;34m\u001b[0m\u001b[0;34m\u001b[0m\u001b[0m\n\u001b[0m\u001b[1;32m    246\u001b[0m \u001b[0;34m\u001b[0m\u001b[0m\n\u001b[1;32m    247\u001b[0m     \u001b[0;32mdef\u001b[0m \u001b[0mregister_hook\u001b[0m\u001b[0;34m(\u001b[0m\u001b[0mself\u001b[0m\u001b[0;34m,\u001b[0m \u001b[0mhook\u001b[0m\u001b[0;34m)\u001b[0m\u001b[0;34m:\u001b[0m\u001b[0;34m\u001b[0m\u001b[0;34m\u001b[0m\u001b[0m\n",
      "\u001b[0;32m~/.local/lib/python3.8/site-packages/torch/autograd/__init__.py\u001b[0m in \u001b[0;36mbackward\u001b[0;34m(tensors, grad_tensors, retain_graph, create_graph, grad_variables, inputs)\u001b[0m\n\u001b[1;32m    143\u001b[0m         \u001b[0mretain_graph\u001b[0m \u001b[0;34m=\u001b[0m \u001b[0mcreate_graph\u001b[0m\u001b[0;34m\u001b[0m\u001b[0;34m\u001b[0m\u001b[0m\n\u001b[1;32m    144\u001b[0m \u001b[0;34m\u001b[0m\u001b[0m\n\u001b[0;32m--> 145\u001b[0;31m     Variable._execution_engine.run_backward(\n\u001b[0m\u001b[1;32m    146\u001b[0m         \u001b[0mtensors\u001b[0m\u001b[0;34m,\u001b[0m \u001b[0mgrad_tensors_\u001b[0m\u001b[0;34m,\u001b[0m \u001b[0mretain_graph\u001b[0m\u001b[0;34m,\u001b[0m \u001b[0mcreate_graph\u001b[0m\u001b[0;34m,\u001b[0m \u001b[0minputs\u001b[0m\u001b[0;34m,\u001b[0m\u001b[0;34m\u001b[0m\u001b[0;34m\u001b[0m\u001b[0m\n\u001b[1;32m    147\u001b[0m         allow_unreachable=True, accumulate_grad=True)  # allow_unreachable flag\n",
      "\u001b[0;32m~/.local/lib/python3.8/site-packages/torch/autograd/function.py\u001b[0m in \u001b[0;36mapply\u001b[0;34m(self, *args)\u001b[0m\n\u001b[1;32m     87\u001b[0m     \u001b[0;32mdef\u001b[0m \u001b[0mapply\u001b[0m\u001b[0;34m(\u001b[0m\u001b[0mself\u001b[0m\u001b[0;34m,\u001b[0m \u001b[0;34m*\u001b[0m\u001b[0margs\u001b[0m\u001b[0;34m)\u001b[0m\u001b[0;34m:\u001b[0m\u001b[0;34m\u001b[0m\u001b[0;34m\u001b[0m\u001b[0m\n\u001b[1;32m     88\u001b[0m         \u001b[0;31m# _forward_cls is defined by derived class\u001b[0m\u001b[0;34m\u001b[0m\u001b[0;34m\u001b[0m\u001b[0;34m\u001b[0m\u001b[0m\n\u001b[0;32m---> 89\u001b[0;31m         \u001b[0;32mreturn\u001b[0m \u001b[0mself\u001b[0m\u001b[0;34m.\u001b[0m\u001b[0m_forward_cls\u001b[0m\u001b[0;34m.\u001b[0m\u001b[0mbackward\u001b[0m\u001b[0;34m(\u001b[0m\u001b[0mself\u001b[0m\u001b[0;34m,\u001b[0m \u001b[0;34m*\u001b[0m\u001b[0margs\u001b[0m\u001b[0;34m)\u001b[0m  \u001b[0;31m# type: ignore\u001b[0m\u001b[0;34m\u001b[0m\u001b[0;34m\u001b[0m\u001b[0m\n\u001b[0m\u001b[1;32m     90\u001b[0m \u001b[0;34m\u001b[0m\u001b[0m\n\u001b[1;32m     91\u001b[0m \u001b[0;34m\u001b[0m\u001b[0m\n",
      "\u001b[0;32m<ipython-input-5-f83e2d5da7f5>\u001b[0m in \u001b[0;36mbackward\u001b[0;34m(ctx, grad_output)\u001b[0m\n\u001b[1;32m     23\u001b[0m         \u001b[0moutput\u001b[0m\u001b[0;34m.\u001b[0m\u001b[0mrequires_grad\u001b[0m \u001b[0;34m=\u001b[0m \u001b[0;32mTrue\u001b[0m\u001b[0;34m\u001b[0m\u001b[0;34m\u001b[0m\u001b[0m\n\u001b[1;32m     24\u001b[0m         \u001b[0minputs\u001b[0m \u001b[0;34m=\u001b[0m \u001b[0mtuple\u001b[0m\u001b[0;34m(\u001b[0m\u001b[0minputs\u001b[0m\u001b[0;34m)\u001b[0m\u001b[0;34m\u001b[0m\u001b[0;34m\u001b[0m\u001b[0m\n\u001b[0;32m---> 25\u001b[0;31m         grad_inputs = problem.gradient(*inputs, y=output, v=grad_output,\n\u001b[0m\u001b[1;32m     26\u001b[0m             ctx=solve_ctx)\n\u001b[1;32m     27\u001b[0m         \u001b[0;32mreturn\u001b[0m \u001b[0;34m(\u001b[0m\u001b[0;32mNone\u001b[0m\u001b[0;34m,\u001b[0m \u001b[0;34m*\u001b[0m\u001b[0mgrad_inputs\u001b[0m\u001b[0;34m)\u001b[0m\u001b[0;34m\u001b[0m\u001b[0;34m\u001b[0m\u001b[0m\n",
      "\u001b[0;32m~/core/home/R/goal/code/./ddn/ddn/pytorch/node.py\u001b[0m in \u001b[0;36mgradient\u001b[0;34m(self, y, v, ctx, *xs)\u001b[0m\n\u001b[1;32m    114\u001b[0m         \u001b[0mxs\u001b[0m\u001b[0;34m,\u001b[0m \u001b[0mxs_split\u001b[0m\u001b[0;34m,\u001b[0m \u001b[0mxs_sizes\u001b[0m\u001b[0;34m,\u001b[0m \u001b[0my\u001b[0m\u001b[0;34m,\u001b[0m \u001b[0mv\u001b[0m\u001b[0;34m,\u001b[0m \u001b[0mctx\u001b[0m \u001b[0;34m=\u001b[0m \u001b[0mself\u001b[0m\u001b[0;34m.\u001b[0m\u001b[0m_gradient_init\u001b[0m\u001b[0;34m(\u001b[0m\u001b[0mxs\u001b[0m\u001b[0;34m,\u001b[0m \u001b[0my\u001b[0m\u001b[0;34m,\u001b[0m \u001b[0mv\u001b[0m\u001b[0;34m,\u001b[0m \u001b[0mctx\u001b[0m\u001b[0;34m)\u001b[0m\u001b[0;34m\u001b[0m\u001b[0;34m\u001b[0m\u001b[0m\n\u001b[1;32m    115\u001b[0m \u001b[0;34m\u001b[0m\u001b[0m\n\u001b[0;32m--> 116\u001b[0;31m         \u001b[0mfY\u001b[0m\u001b[0;34m,\u001b[0m \u001b[0mfYY\u001b[0m\u001b[0;34m,\u001b[0m \u001b[0mfXY\u001b[0m \u001b[0;34m=\u001b[0m \u001b[0mself\u001b[0m\u001b[0;34m.\u001b[0m\u001b[0m_get_objective_derivatives\u001b[0m\u001b[0;34m(\u001b[0m\u001b[0mxs\u001b[0m\u001b[0;34m,\u001b[0m \u001b[0my\u001b[0m\u001b[0;34m)\u001b[0m\u001b[0;34m\u001b[0m\u001b[0;34m\u001b[0m\u001b[0m\n\u001b[0m\u001b[1;32m    117\u001b[0m \u001b[0;34m\u001b[0m\u001b[0m\n\u001b[1;32m    118\u001b[0m         \u001b[0;32mif\u001b[0m \u001b[0;32mnot\u001b[0m \u001b[0mself\u001b[0m\u001b[0;34m.\u001b[0m\u001b[0m_check_optimality_cond\u001b[0m\u001b[0;34m(\u001b[0m\u001b[0mfY\u001b[0m\u001b[0;34m)\u001b[0m\u001b[0;34m:\u001b[0m\u001b[0;34m\u001b[0m\u001b[0;34m\u001b[0m\u001b[0m\n",
      "\u001b[0;32m~/core/home/R/goal/code/./ddn/ddn/pytorch/node.py\u001b[0m in \u001b[0;36m_get_objective_derivatives\u001b[0;34m(self, xs, y)\u001b[0m\n\u001b[1;32m    252\u001b[0m \u001b[0;34m\u001b[0m\u001b[0m\n\u001b[1;32m    253\u001b[0m         \u001b[0;31m# Compute second-order partial derivative of f wrt y at (xs,y):\u001b[0m\u001b[0;34m\u001b[0m\u001b[0;34m\u001b[0m\u001b[0;34m\u001b[0m\u001b[0m\n\u001b[0;32m--> 254\u001b[0;31m         \u001b[0mfYY\u001b[0m \u001b[0;34m=\u001b[0m \u001b[0mself\u001b[0m\u001b[0;34m.\u001b[0m\u001b[0m_batch_jacobian\u001b[0m\u001b[0;34m(\u001b[0m\u001b[0mfY\u001b[0m\u001b[0;34m,\u001b[0m \u001b[0my\u001b[0m\u001b[0;34m)\u001b[0m \u001b[0;31m# bxmxm\u001b[0m\u001b[0;34m\u001b[0m\u001b[0;34m\u001b[0m\u001b[0m\n\u001b[0m\u001b[1;32m    255\u001b[0m         fYY = fYY.detach() if fYY is not None else y.new_zeros(\n\u001b[1;32m    256\u001b[0m             self.b, self.m, self.m)\n",
      "\u001b[0;32m~/.local/lib/python3.8/site-packages/torch/autograd/grad_mode.py\u001b[0m in \u001b[0;36mdecorate_context\u001b[0;34m(*args, **kwargs)\u001b[0m\n\u001b[1;32m     25\u001b[0m         \u001b[0;32mdef\u001b[0m \u001b[0mdecorate_context\u001b[0m\u001b[0;34m(\u001b[0m\u001b[0;34m*\u001b[0m\u001b[0margs\u001b[0m\u001b[0;34m,\u001b[0m \u001b[0;34m**\u001b[0m\u001b[0mkwargs\u001b[0m\u001b[0;34m)\u001b[0m\u001b[0;34m:\u001b[0m\u001b[0;34m\u001b[0m\u001b[0;34m\u001b[0m\u001b[0m\n\u001b[1;32m     26\u001b[0m             \u001b[0;32mwith\u001b[0m \u001b[0mself\u001b[0m\u001b[0;34m.\u001b[0m\u001b[0m__class__\u001b[0m\u001b[0;34m(\u001b[0m\u001b[0;34m)\u001b[0m\u001b[0;34m:\u001b[0m\u001b[0;34m\u001b[0m\u001b[0;34m\u001b[0m\u001b[0m\n\u001b[0;32m---> 27\u001b[0;31m                 \u001b[0;32mreturn\u001b[0m \u001b[0mfunc\u001b[0m\u001b[0;34m(\u001b[0m\u001b[0;34m*\u001b[0m\u001b[0margs\u001b[0m\u001b[0;34m,\u001b[0m \u001b[0;34m**\u001b[0m\u001b[0mkwargs\u001b[0m\u001b[0;34m)\u001b[0m\u001b[0;34m\u001b[0m\u001b[0;34m\u001b[0m\u001b[0m\n\u001b[0m\u001b[1;32m     28\u001b[0m         \u001b[0;32mreturn\u001b[0m \u001b[0mcast\u001b[0m\u001b[0;34m(\u001b[0m\u001b[0mF\u001b[0m\u001b[0;34m,\u001b[0m \u001b[0mdecorate_context\u001b[0m\u001b[0;34m)\u001b[0m\u001b[0;34m\u001b[0m\u001b[0;34m\u001b[0m\u001b[0m\n\u001b[1;32m     29\u001b[0m \u001b[0;34m\u001b[0m\u001b[0m\n",
      "\u001b[0;32m~/core/home/R/goal/code/./ddn/ddn/pytorch/node.py\u001b[0m in \u001b[0;36m_batch_jacobian\u001b[0;34m(self, y, x, create_graph)\u001b[0m\n\u001b[1;32m    331\u001b[0m             \u001b[0mgrad_outputs\u001b[0m \u001b[0;34m=\u001b[0m \u001b[0mtorch\u001b[0m\u001b[0;34m.\u001b[0m\u001b[0mzeros_like\u001b[0m\u001b[0;34m(\u001b[0m\u001b[0my\u001b[0m\u001b[0;34m,\u001b[0m \u001b[0mrequires_grad\u001b[0m\u001b[0;34m=\u001b[0m\u001b[0;32mFalse\u001b[0m\u001b[0;34m)\u001b[0m \u001b[0;31m# bxm\u001b[0m\u001b[0;34m\u001b[0m\u001b[0;34m\u001b[0m\u001b[0m\n\u001b[1;32m    332\u001b[0m             \u001b[0mgrad_outputs\u001b[0m\u001b[0;34m[\u001b[0m\u001b[0;34m:\u001b[0m\u001b[0;34m,\u001b[0m \u001b[0mi\u001b[0m\u001b[0;34m]\u001b[0m \u001b[0;34m=\u001b[0m \u001b[0;36m1.0\u001b[0m\u001b[0;34m\u001b[0m\u001b[0;34m\u001b[0m\u001b[0m\n\u001b[0;32m--> 333\u001b[0;31m             yiX, = grad(y, x, grad_outputs=grad_outputs, retain_graph=True,\n\u001b[0m\u001b[1;32m    334\u001b[0m                 create_graph=create_graph, allow_unused=True) # bxn1xn2x...\n\u001b[1;32m    335\u001b[0m             \u001b[0;32mif\u001b[0m \u001b[0myiX\u001b[0m \u001b[0;32mis\u001b[0m \u001b[0;32mNone\u001b[0m\u001b[0;34m:\u001b[0m \u001b[0;31m# grad returns None instead of zero\u001b[0m\u001b[0;34m\u001b[0m\u001b[0;34m\u001b[0m\u001b[0m\n",
      "\u001b[0;32m~/.local/lib/python3.8/site-packages/torch/autograd/__init__.py\u001b[0m in \u001b[0;36mgrad\u001b[0;34m(outputs, inputs, grad_outputs, retain_graph, create_graph, only_inputs, allow_unused)\u001b[0m\n\u001b[1;32m    221\u001b[0m         \u001b[0mretain_graph\u001b[0m \u001b[0;34m=\u001b[0m \u001b[0mcreate_graph\u001b[0m\u001b[0;34m\u001b[0m\u001b[0;34m\u001b[0m\u001b[0m\n\u001b[1;32m    222\u001b[0m \u001b[0;34m\u001b[0m\u001b[0m\n\u001b[0;32m--> 223\u001b[0;31m     return Variable._execution_engine.run_backward(\n\u001b[0m\u001b[1;32m    224\u001b[0m         \u001b[0moutputs\u001b[0m\u001b[0;34m,\u001b[0m \u001b[0mgrad_outputs_\u001b[0m\u001b[0;34m,\u001b[0m \u001b[0mretain_graph\u001b[0m\u001b[0;34m,\u001b[0m \u001b[0mcreate_graph\u001b[0m\u001b[0;34m,\u001b[0m\u001b[0;34m\u001b[0m\u001b[0;34m\u001b[0m\u001b[0m\n\u001b[1;32m    225\u001b[0m         inputs, allow_unused, accumulate_grad=False)\n",
      "\u001b[0;31mKeyboardInterrupt\u001b[0m: "
     ]
    }
   ],
   "source": [
    "epoch_train_loss = []\n",
    "num_epochs = 20\n",
    "\n",
    "for epoch in range(num_epochs):\n",
    "    train_loss = []\n",
    "    mean_ade = []\n",
    "    mean_fde = []    \n",
    "    for batch_num, data in enumerate(train_loader):\n",
    "        traj_inp, traj_out, fixed_params, var_inp = data\n",
    "        traj_inp = traj_inp.to(device)\n",
    "        traj_out = traj_out.to(device)\n",
    "        fixed_params = fixed_params.to(device)\n",
    "        var_inp = var_inp.to(device)\n",
    "\n",
    "        ade = []\n",
    "        fde = []            \n",
    "        \n",
    "        out = model(traj_inp, fixed_params, var_inp)\n",
    "        loss = criterion(out, traj_out)\n",
    "        \n",
    "        optimizer.zero_grad()\n",
    "        loss.backward()\n",
    "        optimizer.step()\n",
    "        \n",
    "        train_loss.append(loss.item())\n",
    "        for ii in range(traj_inp.size()[0]):\n",
    "            gt = [[out[ii][j],out[ii][j + num]] for j in range(len(out[ii])//2)]\n",
    "            pred = [[traj_out[ii][j],traj_out[ii][j + num]] for j in range(len(out[ii])//2)]\n",
    "            ade.append(get_ade(np.array(pred), np.array(gt)))\n",
    "            fde.append(get_fde(np.array(pred), np.array(gt)))                        \n",
    "            plot_traj(ii, traj_inp[ii], traj_out[ii], out[ii], {\"x\": [], \"y\": []}, offsets=offsets_train, cities = [], avm=None, center=True, inp_len=num * 2, c_len = num * 2 + num_elems * 2, num=num, mode=\"train\", batch_num=batch_num)\n",
    "        if batch_num % 10 == 0:\n",
    "            print(\"Epoch: {}, Batch: {}, Loss: {}\".format(epoch, batch_num, loss.item()))\n",
    "            print(\"ADE: {}\".format(np.mean(ade)), \"FDE: {}\".format(np.mean(fde)))\n",
    "    \n",
    "        mean_ade.append(np.mean(ade))\n",
    "        mean_fde.append(np.mean(fde))\n",
    "    \n",
    "    mean_loss = np.mean(train_loss)\n",
    "    epoch_train_loss.append(mean_loss)\n",
    "    torch.save(model.state_dict(), \"./checkpoints/final.ckpt\")\n",
    "    print(\"Epoch: {}, Mean Loss: {}\".format(epoch, mean_loss))\n",
    "    print(\"Mean ADE: {}\".format(np.mean(mean_ade)), \"Mean FDE: {}\".format(np.mean(mean_fde)))\n",
    "    print(\"-\"*100)"
   ]
  },
  {
   "cell_type": "code",
   "execution_count": 46,
   "metadata": {},
   "outputs": [
    {
     "name": "stdout",
     "output_type": "stream",
     "text": [
      "Batch: 0, Loss: 2.272251315915624\n",
      "Batch: 1, Loss: 2.2690870221839683\n",
      "Batch: 2, Loss: 1.9787803100264583\n",
      "Batch: 3, Loss: 3.2117938502689656\n",
      "Batch: 4, Loss: 2.390085830908581\n",
      "Batch: 5, Loss: 2.6413616257680106\n",
      "Batch: 6, Loss: 3.222393242925834\n",
      "Batch: 7, Loss: 2.2955828059614936\n",
      "Batch: 8, Loss: 2.475143422844444\n",
      "Batch: 9, Loss: 3.3694734975766636\n",
      "Epoch Mean Test Loss: 2.6125952924380043\n",
      "Mean ADE: 1.7750787725301553 Mean FDE: 1.9918675656775726\n"
     ]
    }
   ],
   "source": [
    "with torch.no_grad():\n",
    "    cnt = 0\n",
    "    test_loss = []\n",
    "    mean_ade = []\n",
    "    mean_fde = []     \n",
    "    for batch_num, data in enumerate(test_loader):\n",
    "        traj_inp, traj_out, fixed_params, var_inp = data\n",
    "        traj_inp = traj_inp.to(device)\n",
    "        traj_out = traj_out.to(device)\n",
    "        fixed_params = fixed_params.to(device)\n",
    "        var_inp = var_inp.to(device)\n",
    "        \n",
    "        ade = []\n",
    "        fde = []        \n",
    "        \n",
    "        out = model(traj_inp, fixed_params, var_inp)\n",
    "        loss = criterion(out, traj_out)\n",
    "        \n",
    "        test_loss.append(loss.item())\n",
    "        print(\"Batch: {}, Loss: {}\".format(batch_num, loss.item()))\n",
    "        \n",
    "        for ii in range(traj_inp.size()[0]):\n",
    "            gt = [[out[ii][j],out[ii][j + num]] for j in range(len(out[ii])//2)]\n",
    "            pred = [[traj_out[ii][j],traj_out[ii][j + num]] for j in range(len(out[ii])//2)]\n",
    "            ade.append(get_ade(np.array(pred), np.array(gt)))\n",
    "            fde.append(get_fde(np.array(pred), np.array(gt)))                        \n",
    "            plot_traj(ii, traj_inp[ii], traj_out[ii], out[ii], {\"x\": [], \"y\": []}, offsets=offsets_test, cities = [], avm=None, center=True, inp_len=num * 2, c_len = num * 2 + num * 2, num=num, mode=\"test\", batch_num=batch_num)\n",
    "\n",
    "        mean_ade.append(np.mean(ade))\n",
    "        mean_fde.append(np.mean(fde))  \n",
    "\n",
    "mean_loss = np.mean(test_loss)\n",
    "print(\"Epoch Mean Test Loss: {}\".format(mean_loss))\n",
    "print(\"Mean ADE: {}\".format(np.mean(mean_ade)), \"Mean FDE: {}\".format(np.mean(mean_fde)))"
   ]
  },
  {
   "cell_type": "code",
   "execution_count": 103,
   "metadata": {},
   "outputs": [],
   "source": []
  }
 ],
 "metadata": {
  "kernelspec": {
   "display_name": "Python 3",
   "language": "python",
   "name": "python3"
  },
  "language_info": {
   "codemirror_mode": {
    "name": "ipython",
    "version": 3
   },
   "file_extension": ".py",
   "mimetype": "text/x-python",
   "name": "python",
   "nbconvert_exporter": "python",
   "pygments_lexer": "ipython3",
   "version": "3.8.10"
  }
 },
 "nbformat": 4,
 "nbformat_minor": 4
}
