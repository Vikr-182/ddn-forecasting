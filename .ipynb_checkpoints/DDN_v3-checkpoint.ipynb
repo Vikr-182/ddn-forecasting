{
 "cells": [
  {
   "cell_type": "code",
   "execution_count": 15,
   "metadata": {},
   "outputs": [],
   "source": [
    "import os\n",
    "import sys\n",
    "sys.path.append(\"./ddn/\")\n",
    "sys.path.append(\"./\")\n",
    "import warnings\n",
    "warnings.filterwarnings('ignore')\n",
    "\n",
    "import torch\n",
    "import numpy as np\n",
    "import scipy.special\n",
    "import torch.nn as nn\n",
    "import torch.nn.functional as F\n",
    "import matplotlib.pyplot as plt\n",
    "\n",
    "from scipy.linalg import block_diag\n",
    "from torch.utils.data import Dataset, DataLoader\n",
    "# from bernstein import bernstein_coeff_order10_new\n",
    "from utils import *\n",
    "from ddn.pytorch.node import AbstractDeclarativeNode"
   ]
  },
  {
   "cell_type": "code",
   "execution_count": 16,
   "metadata": {},
   "outputs": [
    {
     "name": "stdout",
     "output_type": "stream",
     "text": [
      "\u001b[31mERROR: Could not find a version that satisfies the requirement bernstein (from versions: none)\u001b[0m\n",
      "\u001b[31mERROR: No matching distribution found for bernstein\u001b[0m\n"
     ]
    }
   ],
   "source": [
    "!TMPDIR=/home/vikrant pip install --cache-dir=/home/vikrant/ --build /home/vikrant/ bernstein"
   ]
  },
  {
   "cell_type": "code",
   "execution_count": 22,
   "metadata": {},
   "outputs": [],
   "source": [
    "def bernstein_coeff_order10_new(n, tmin, tmax, t_actual):\n",
    "    l = tmax - tmin\n",
    "    t = (t_actual - tmin) / l\n",
    "\n",
    "    P0 = scipy.special.binom(n, 0) * ((1 - t) ** (n - 0)) * t ** 0\n",
    "    P1 = scipy.special.binom(n, 1) * ((1 - t) ** (n - 1)) * t ** 1\n",
    "    P2 = scipy.special.binom(n, 2) * ((1 - t) ** (n - 2)) * t ** 2\n",
    "    P3 = scipy.special.binom(n, 3) * ((1 - t) ** (n - 3)) * t ** 3\n",
    "    P4 = scipy.special.binom(n, 4) * ((1 - t) ** (n - 4)) * t ** 4\n",
    "    P5 = scipy.special.binom(n, 5) * ((1 - t) ** (n - 5)) * t ** 5\n",
    "    P6 = scipy.special.binom(n, 6) * ((1 - t) ** (n - 6)) * t ** 6\n",
    "    P7 = scipy.special.binom(n, 7) * ((1 - t) ** (n - 7)) * t ** 7\n",
    "    P8 = scipy.special.binom(n, 8) * ((1 - t) ** (n - 8)) * t ** 8\n",
    "    P9 = scipy.special.binom(n, 9) * ((1 - t) ** (n - 9)) * t ** 9\n",
    "    P10 = scipy.special.binom(n, 10) * ((1 - t) ** (n - 10)) * t ** 10\n",
    "\n",
    "    P0dot = -10.0 * (-t + 1) ** 9\n",
    "    P1dot = -90.0 * t * (-t + 1) ** 8 + 10.0 * (-t + 1) ** 9\n",
    "    P2dot = -360.0 * t ** 2 * (-t + 1) ** 7 + 90.0 * t * (-t + 1) ** 8\n",
    "    P3dot = -840.0 * t ** 3 * (-t + 1) ** 6 + 360.0 * t ** 2 * (-t + 1) ** 7\n",
    "    P4dot = -1260.0 * t ** 4 * (-t + 1) ** 5 + 840.0 * t ** 3 * (-t + 1) ** 6\n",
    "    P5dot = -1260.0 * t ** 5 * (-t + 1) ** 4 + 1260.0 * t ** 4 * (-t + 1) ** 5\n",
    "    P6dot = -840.0 * t ** 6 * (-t + 1) ** 3 + 1260.0 * t ** 5 * (-t + 1) ** 4\n",
    "    P7dot = -360.0 * t ** 7 * (-t + 1) ** 2 + 840.0 * t ** 6 * (-t + 1) ** 3\n",
    "    P8dot = 45.0 * t ** 8 * (2 * t - 2) + 360.0 * t ** 7 * (-t + 1) ** 2\n",
    "    P9dot = -10.0 * t ** 9 + 9 * t ** 8 * (-10.0 * t + 10.0)\n",
    "    P10dot = 10.0 * t ** 9\n",
    "\n",
    "    P0ddot = 90.0 * (-t + 1) ** 8\n",
    "    P1ddot = 720.0 * t * (-t + 1) ** 7 - 180.0 * (-t + 1) ** 8\n",
    "    P2ddot = 2520.0 * t ** 2 * (-t + 1) ** 6 - 1440.0 * t * (-t + 1) ** 7 + 90.0 * (-t + 1) ** 8\n",
    "    P3ddot = 5040.0 * t ** 3 * (-t + 1) ** 5 - 5040.0 * t ** 2 * (-t + 1) ** 6 + 720.0 * t * (-t + 1) ** 7\n",
    "    P4ddot = 6300.0 * t ** 4 * (-t + 1) ** 4 - 10080.0 * t ** 3 * (-t + 1) ** 5 + 2520.0 * t ** 2 * (-t + 1) ** 6\n",
    "    P5ddot = 5040.0 * t ** 5 * (-t + 1) ** 3 - 12600.0 * t ** 4 * (-t + 1) ** 4 + 5040.0 * t ** 3 * (-t + 1) ** 5\n",
    "    P6ddot = 2520.0 * t ** 6 * (-t + 1) ** 2 - 10080.0 * t ** 5 * (-t + 1) ** 3 + 6300.0 * t ** 4 * (-t + 1) ** 4\n",
    "    P7ddot = -360.0 * t ** 7 * (2 * t - 2) - 5040.0 * t ** 6 * (-t + 1) ** 2 + 5040.0 * t ** 5 * (-t + 1) ** 3\n",
    "    P8ddot = 90.0 * t ** 8 + 720.0 * t ** 7 * (2 * t - 2) + 2520.0 * t ** 6 * (-t + 1) ** 2\n",
    "    P9ddot = -180.0 * t ** 8 + 72 * t ** 7 * (-10.0 * t + 10.0)\n",
    "    P10ddot = 90.0 * t ** 8\n",
    "    90.0 * t ** 8\n",
    "\n",
    "    P = np.hstack((P0, P1, P2, P3, P4, P5, P6, P7, P8, P9, P10))\n",
    "    Pdot = np.hstack((P0dot, P1dot, P2dot, P3dot, P4dot, P5dot, P6dot, P7dot, P8dot, P9dot, P10dot)) / l\n",
    "    Pddot = np.hstack((P0ddot, P1ddot, P2ddot, P3ddot, P4ddot, P5ddot, P6ddot, P7ddot, P8ddot, P9ddot, P10ddot)) / (l ** 2)\n",
    "    return P, Pdot, Pddot"
   ]
  },
  {
   "cell_type": "markdown",
   "metadata": {},
   "source": [
    "#### CUDA Initializations"
   ]
  },
  {
   "cell_type": "code",
   "execution_count": 17,
   "metadata": {},
   "outputs": [
    {
     "name": "stdout",
     "output_type": "stream",
     "text": [
      "Using cpu device\n"
     ]
    }
   ],
   "source": [
    "device = 'cuda' if torch.cuda.is_available() else 'cpu'\n",
    "print('Using {} device'.format(device))"
   ]
  },
  {
   "cell_type": "code",
   "execution_count": 18,
   "metadata": {},
   "outputs": [],
   "source": [
    "# rho_obs = 0.3\n",
    "rho_obs = 1.2\n",
    "rho_eq = 10.0\n",
    "weight_smoothness = 10"
   ]
  },
  {
   "cell_type": "code",
   "execution_count": 23,
   "metadata": {},
   "outputs": [],
   "source": [
    "num = 25\n",
    "t_fin = 2\n",
    "a_obs = 1.0\n",
    "b_obs = 1.0\n",
    "\n",
    "tot_time = np.linspace(0.0, t_fin, num)\n",
    "tot_time_copy = tot_time.reshape(num, 1)\n",
    "P, Pdot, Pddot = bernstein_coeff_order10_new(10, tot_time_copy[0], tot_time_copy[-1], tot_time_copy)\n",
    "nvar = np.shape(P)[1]"
   ]
  },
  {
   "cell_type": "code",
   "execution_count": 6,
   "metadata": {},
   "outputs": [
    {
     "data": {
      "text/plain": [
       "array([[-2. , -2. , -2. , -2. , -2. , -2. , -2. , -2. , -2. , -2. , -2. ,\n",
       "        -2. , -2. , -2. , -2. , -2. , -2. , -2. , -2. , -2. , -2. , -2. ,\n",
       "        -2. , -2. , -2. ],\n",
       "       [ 1. ,  1. ,  1. ,  1. ,  1. ,  1. ,  1. ,  1. ,  1. ,  1. ,  1. ,\n",
       "         1. ,  1. ,  1. ,  1. ,  1. ,  1. ,  1. ,  1. ,  1. ,  1. ,  1. ,\n",
       "         1. ,  1. ,  1. ],\n",
       "       [-0.8, -0.8, -0.8, -0.8, -0.8, -0.8, -0.8, -0.8, -0.8, -0.8, -0.8,\n",
       "        -0.8, -0.8, -0.8, -0.8, -0.8, -0.8, -0.8, -0.8, -0.8, -0.8, -0.8,\n",
       "        -0.8, -0.8, -0.8],\n",
       "       [ 2. ,  2. ,  2. ,  2. ,  2. ,  2. ,  2. ,  2. ,  2. ,  2. ,  2. ,\n",
       "         2. ,  2. ,  2. ,  2. ,  2. ,  2. ,  2. ,  2. ,  2. ,  2. ,  2. ,\n",
       "         2. ,  2. ,  2. ]])"
      ]
     },
     "execution_count": 6,
     "metadata": {},
     "output_type": "execute_result"
    }
   ],
   "source": [
    "x_obs_temp = np.hstack((-2.0, -0.79, 3.0, 4.0))\n",
    "y_obs_temp = np.hstack((-2.0, 1.0, -0.80, 2.0))\n",
    "num_obs = np.shape(x_obs_temp)[0]\n",
    "\n",
    "x_obs = np.ones((num_obs, num)) * x_obs_temp[:, np.newaxis]\n",
    "y_obs = np.ones((num_obs, num)) * y_obs_temp[:, np.newaxis]\n",
    "x_obs\n",
    "y_obs"
   ]
  },
  {
   "cell_type": "code",
   "execution_count": 10,
   "metadata": {},
   "outputs": [
    {
     "data": {
      "text/plain": [
       "array([-2.  , -2.  ,  1.  , -0.79,  1.  ,  1.  ,  3.  , -0.8 ,  1.  ,\n",
       "        4.  ,  2.  ,  1.  ])"
      ]
     },
     "execution_count": 10,
     "metadata": {},
     "output_type": "execute_result"
    }
   ],
   "source": [
    "obs_inp_list = []\n",
    "for i in range(num_obs):\n",
    "    obs_inp_list.extend([x_obs_temp[i], y_obs_temp[i], a_obs])\n",
    "\n",
    "obs_inp = np.array(obs_inp_list)\n",
    "obs_inp"
   ]
  },
  {
   "cell_type": "code",
   "execution_count": 24,
   "metadata": {},
   "outputs": [
    {
     "data": {
      "text/plain": [
       "(25, 11)"
      ]
     },
     "execution_count": 24,
     "metadata": {},
     "output_type": "execute_result"
    }
   ],
   "source": [
    "P.shape"
   ]
  },
  {
   "cell_type": "code",
   "execution_count": 25,
   "metadata": {},
   "outputs": [],
   "source": [
    "A_obs = np.tile(P, (num_obs, 1))\n",
    "A_eq = np.vstack((P[0], Pdot[0], Pddot[0], P[-1], Pdot[-1], Pddot[-1]))\n",
    "Q_smoothness = np.dot(Pddot.T, Pddot)"
   ]
  },
  {
   "cell_type": "code",
   "execution_count": 26,
   "metadata": {},
   "outputs": [
    {
     "data": {
      "text/plain": [
       "array([[1.00000000e+00, 0.00000000e+00, 0.00000000e+00, ...,\n",
       "        0.00000000e+00, 0.00000000e+00, 0.00000000e+00],\n",
       "       [6.53380160e-01, 2.84078331e-01, 5.55805429e-02, ...,\n",
       "        3.75453164e-10, 3.62756680e-12, 1.57720296e-14],\n",
       "       [4.18903888e-01, 3.80821716e-01, 1.55790702e-01, ...,\n",
       "        8.79397899e-08, 1.77656141e-09, 1.61505583e-11],\n",
       "       ...,\n",
       "       [1.61505583e-11, 1.77656141e-09, 8.79397899e-08, ...,\n",
       "        1.55790702e-01, 3.80821716e-01, 4.18903888e-01],\n",
       "       [1.57720296e-14, 3.62756680e-12, 3.75453164e-10, ...,\n",
       "        5.55805429e-02, 2.84078331e-01, 6.53380160e-01],\n",
       "       [0.00000000e+00, 0.00000000e+00, 0.00000000e+00, ...,\n",
       "        0.00000000e+00, 0.00000000e+00, 1.00000000e+00]])"
      ]
     },
     "execution_count": 26,
     "metadata": {},
     "output_type": "execute_result"
    }
   ],
   "source": [
    "A_obs"
   ]
  },
  {
   "cell_type": "code",
   "execution_count": 53,
   "metadata": {},
   "outputs": [
    {
     "ename": "NameError",
     "evalue": "name 'x' is not defined",
     "output_type": "error",
     "traceback": [
      "\u001b[0;31m---------------------------------------------------------------------------\u001b[0m",
      "\u001b[0;31mNameError\u001b[0m                                 Traceback (most recent call last)",
      "\u001b[0;32m<ipython-input-53-8143102589b2>\u001b[0m in \u001b[0;36m<module>\u001b[0;34m\u001b[0m\n\u001b[0;32m----> 1\u001b[0;31m \u001b[0mplot\u001b[0m\u001b[0;34m(\u001b[0m\u001b[0;34m{\u001b[0m\u001b[0;34m\"x\"\u001b[0m\u001b[0;34m:\u001b[0m\u001b[0mx\u001b[0m\u001b[0;34m,\u001b[0m \u001b[0;34m\"y\"\u001b[0m\u001b[0;34m:\u001b[0m\u001b[0my\u001b[0m\u001b[0;34m}\u001b[0m\u001b[0;34m,\u001b[0m \u001b[0;34m{\u001b[0m\u001b[0;34m\"x\"\u001b[0m\u001b[0;34m:\u001b[0m\u001b[0mx_obs_temp\u001b[0m\u001b[0;34m,\u001b[0m \u001b[0;34m\"y\"\u001b[0m\u001b[0;34m:\u001b[0m\u001b[0my_obs_temp\u001b[0m\u001b[0;34m}\u001b[0m\u001b[0;34m)\u001b[0m\u001b[0;34m\u001b[0m\u001b[0;34m\u001b[0m\u001b[0m\n\u001b[0m",
      "\u001b[0;31mNameError\u001b[0m: name 'x' is not defined"
     ]
    }
   ],
   "source": [
    "#plot({\"x\":x, \"y\":y}, {\"x\":x_obs_temp, \"y\":y_obs_temp})"
   ]
  },
  {
   "cell_type": "code",
   "execution_count": 27,
   "metadata": {},
   "outputs": [],
   "source": [
    "class OPTNode(AbstractDeclarativeNode):\n",
    "    def __init__(self, P, Pddot, A_eq, A_obs, Q_smoothness, x_obs, y_obs, num=12, num_obs=4, nvar=11, a_obs=1.0, b_obs=1.0, rho_obs=0.3, rho_eq=10.0, weight_smoothness=10, maxiter=300, eps=1e-7, num_tot=48):\n",
    "        super().__init__()\n",
    "        self.P = torch.tensor(P, dtype=torch.double).to(device)\n",
    "        self.Pddot = torch.tensor(Pddot, dtype=torch.double).to(device)\n",
    "        self.A_eq = torch.tensor(A_eq, dtype=torch.double).to(device)\n",
    "        self.A_obs = torch.tensor(A_obs, dtype=torch.double).to(device)\n",
    "        self.Q_smoothness = torch.tensor(Q_smoothness, dtype=torch.double).to(device)\n",
    "        self.x_obs = torch.tensor(x_obs, dtype=torch.double).to(device)\n",
    "        self.y_obs = torch.tensor(y_obs, dtype=torch.double).to(device)\n",
    "        \n",
    "        self.num = num\n",
    "        self.num_obs = num_obs\n",
    "        self.eps = eps\n",
    "        self.nvar = nvar        \n",
    "        self.a_obs = a_obs\n",
    "        self.b_obs = b_obs        \n",
    "        self.rho_eq = rho_eq\n",
    "        self.num_obs = num_obs\n",
    "        self.maxiter = maxiter\n",
    "        self.num_tot = num_tot\n",
    "        self.rho_obs = rho_obs\n",
    "        self.weight_smoothness = weight_smoothness\n",
    "        \n",
    "    def objective(self, b, lamda_x, lamda_y, y):  \n",
    "        batch_size, _ = b.size()\n",
    "        b = b.transpose(0, 1)\n",
    "        y = y.transpose(0, 1)\n",
    "        lamda_x = lamda_x.transpose(0, 1)\n",
    "        lamda_y = lamda_y.transpose(0, 1)\n",
    "        bx_eq_tensor, by_eq_tensor = torch.split(b, 6, dim=0)\n",
    "        ones_tensor = torch.ones(self.num_tot, batch_size, dtype=torch.double).to(device)\n",
    "\n",
    "        c_x = y[0:self.nvar]\n",
    "        c_y = y[self.nvar:2 * self.nvar]\n",
    "        alpha_obs = y[2 * self.nvar: 2 * self.nvar + self.num_tot]\n",
    "        d_obs = y[2 * self.nvar + self.num_tot:]\n",
    "\n",
    "        cost_smoothness_x = 0.5 * self.weight_smoothness * torch.diag(torch.matmul(c_x.T, torch.matmul(self.Q_smoothness, c_x)))\n",
    "        cost_smoothness_y = 0.5 * self.weight_smoothness * torch.diag(torch.matmul(c_y.T, torch.matmul(self.Q_smoothness, c_y)))\n",
    "\n",
    "        temp_x_obs = d_obs * torch.cos(alpha_obs) * self.a_obs\n",
    "        b_obs_x = self.x_obs.view(-1, 1) + temp_x_obs\n",
    "\n",
    "        temp_y_obs = d_obs * torch.sin(alpha_obs) * self.b_obs\n",
    "        b_obs_y = self.y_obs.view(-1, 1) + temp_y_obs\n",
    "\n",
    "        cost_obs_x = 0.5 * self.rho_obs * (torch.sum((torch.matmul(self.A_obs, c_x) - b_obs_x) ** 2, axis=0))\n",
    "        cost_obs_y = 0.5 * self.rho_obs * (torch.sum((torch.matmul(self.A_obs, c_y) - b_obs_y) ** 2, axis=0))\n",
    "        cost_slack = self.rho_obs * torch.sum(torch.max(1 - d_obs, ones_tensor), axis=0)\n",
    "\n",
    "        cost_eq_x = 0.5 * self.rho_eq * torch.sum((torch.matmul(self.A_eq, c_x) - bx_eq_tensor) ** 2, axis=0)\n",
    "        cost_eq_y = 0.5 * self.rho_eq * torch.sum((torch.matmul(self.A_eq, c_y) - by_eq_tensor) ** 2, axis=0)\n",
    "\n",
    "        cost_x = cost_smoothness_x + cost_obs_x + cost_eq_x - torch.diag(torch.matmul(lamda_x.transpose(0, 1), c_x))\n",
    "        cost_y = cost_smoothness_y + cost_obs_y + cost_eq_y - torch.diag(torch.matmul(lamda_y.transpose(0, 1), c_y))\n",
    "        cost = cost_x + cost_y + self.eps * torch.sum(c_x ** 2, axis=0) + self.eps * torch.sum(c_y ** 2, axis=0) + self.eps * torch.sum(d_obs ** 2, axis=0) + self.eps * torch.sum(alpha_obs ** 2, axis=0) + cost_slack\n",
    "        return cost\n",
    "    \n",
    "    def optimize(self, b, lamda_x, lamda_y):\n",
    "        bx_eq_tensor, by_eq_tensor = torch.split(b, 6, dim=0)\n",
    "        \n",
    "        d_obs = torch.ones(self.num_obs, self.num, dtype=torch.double).to(device)\n",
    "        alpha_obs = torch.zeros(self.num_obs, self.num, dtype=torch.double).to(device)\n",
    "        ones_tensor = torch.ones((self.num_obs, self.num), dtype=torch.double).to(device)\n",
    "        cost_smoothness = self.weight_smoothness * torch.matmul(self.Pddot.T, self.Pddot)\n",
    "        cost = cost_smoothness + self.rho_obs * torch.matmul(self.A_obs.T, self.A_obs) + self.rho_eq * torch.matmul(self.A_eq.T, self.A_eq)\n",
    "\n",
    "        for i in range(self.maxiter):\n",
    "            temp_x_obs = d_obs * torch.cos(alpha_obs) * self.a_obs\n",
    "            temp_y_obs = d_obs * torch.sin(alpha_obs) * self.b_obs\n",
    "\n",
    "            b_obs_x = self.x_obs.view(self.num * self.num_obs) + temp_x_obs.view(self.num * self.num_obs)\n",
    "            b_obs_y = self.y_obs.view(self.num * self.num_obs) + temp_y_obs.view(self.num * self.num_obs)\n",
    "\n",
    "            lincost_x = -lamda_x - self.rho_obs * torch.matmul(self.A_obs.T, b_obs_x) - self.rho_eq * torch.matmul(self.A_eq.T, bx_eq_tensor)\n",
    "            lincost_y = -lamda_y - self.rho_obs * torch.matmul(self.A_obs.T, b_obs_y) - self.rho_eq * torch.matmul(self.A_eq.T, by_eq_tensor)\n",
    "\n",
    "            lincost_x = lincost_x.view(-1, 1)\n",
    "            lincost_y = lincost_y.view(-1, 1)\n",
    "\n",
    "            sol_x, _ = torch.solve(lincost_x, -cost)\n",
    "            sol_y, _ = torch.solve(lincost_y, -cost)\n",
    "\n",
    "            sol_x = sol_x.view(-1)\n",
    "            sol_y = sol_y.view(-1)\n",
    "\n",
    "            x = torch.matmul(self.P, sol_x)\n",
    "            y = torch.matmul(self.P, sol_y)\n",
    "\n",
    "            wc_alpha = x - self.x_obs\n",
    "            ws_alpha = y - self.y_obs\n",
    "            alpha_obs = torch.atan2(ws_alpha * self.a_obs, wc_alpha * self.b_obs)\n",
    "\n",
    "            c1_d = self.rho_obs * (self.a_obs ** 2 * torch.cos(alpha_obs) ** 2 + self.b_obs ** 2 * torch.sin(alpha_obs) ** 2)\n",
    "            c2_d = self.rho_obs * (self.a_obs * wc_alpha * torch.cos(alpha_obs) + self.b_obs * ws_alpha * torch.sin(alpha_obs))\n",
    "            d_temp = c2_d / c1_d\n",
    "            d_obs = torch.max(d_temp, ones_tensor)\n",
    "\n",
    "            res_x_obs_vec = wc_alpha - self.a_obs * d_obs * torch.cos(alpha_obs)\n",
    "            res_y_obs_vec = ws_alpha - self.b_obs * d_obs * torch.sin(alpha_obs)\n",
    "\n",
    "            res_eq_x_vec = torch.matmul(self.A_eq, sol_x) - bx_eq_tensor\n",
    "            res_eq_y_vec = torch.matmul(self.A_eq, sol_y) - by_eq_tensor\n",
    "\n",
    "            lamda_x -= self.rho_obs * torch.matmul(self.A_obs.T, res_x_obs_vec.view(-1)) + self.rho_eq * torch.matmul(self.A_eq.T, res_eq_x_vec)\n",
    "            lamda_y -= self.rho_obs * torch.matmul(self.A_obs.T, res_y_obs_vec.view(-1)) + self.rho_eq * torch.matmul(self.A_eq.T, res_eq_y_vec)\n",
    "\n",
    "        sol = torch.cat([sol_x, sol_y, alpha_obs.view(-1), d_obs.view(-1)])\n",
    "        return sol\n",
    "\n",
    "    def solve(self, b, lamda_x, lamda_y):\n",
    "        batch_size, _ = b.size()\n",
    "        b = b.transpose(0, 1)\n",
    "        lamda_x = lamda_x.transpose(0, 1)\n",
    "        lamda_y = lamda_y.transpose(0, 1)\n",
    "        y = torch.zeros(batch_size, 2 * self.nvar + 2 * self.num_tot, dtype=torch.double).to(device)\n",
    "        for i in range(batch_size):\n",
    "            b_cur = b[:, i]\n",
    "            lamda_x_cur = lamda_x[:, i]\n",
    "            lamda_y_cur = lamda_y[:, i]\n",
    "            sol = self.optimize(b_cur, lamda_x_cur, lamda_y_cur)\n",
    "            y[i, :] = sol\n",
    "        return y, None"
   ]
  },
  {
   "cell_type": "markdown",
   "metadata": {},
   "source": [
    "#### PyTorch Declarative Function"
   ]
  },
  {
   "cell_type": "code",
   "execution_count": 28,
   "metadata": {},
   "outputs": [],
   "source": [
    "class OptFunction(torch.autograd.Function):\n",
    "    \"\"\"Generic declarative autograd function.\n",
    "    Defines the forward and backward functions. Saves all inputs and outputs,\n",
    "    which may be memory-inefficient for the specific problem.\n",
    "    \n",
    "    Assumptions:\n",
    "    * All inputs are PyTorch tensors\n",
    "    * All inputs have a single batch dimension (b, ...)\n",
    "    \"\"\"\n",
    "    @staticmethod\n",
    "    def forward(ctx, problem, *inputs):\n",
    "        output, solve_ctx = torch.no_grad()(problem.solve)(*inputs)\n",
    "        ctx.save_for_backward(output, *inputs)\n",
    "        ctx.problem = problem\n",
    "        ctx.solve_ctx = solve_ctx\n",
    "        return output.clone()\n",
    "\n",
    "    @staticmethod\n",
    "    def backward(ctx, grad_output):\n",
    "        output, *inputs = ctx.saved_tensors\n",
    "        problem = ctx.problem\n",
    "        solve_ctx = ctx.solve_ctx\n",
    "        output.requires_grad = True\n",
    "        inputs = tuple(inputs)\n",
    "        grad_inputs = problem.gradient(*inputs, y=output, v=grad_output,\n",
    "            ctx=solve_ctx)\n",
    "        return (None, *grad_inputs)"
   ]
  },
  {
   "cell_type": "markdown",
   "metadata": {},
   "source": [
    "#### PyTorch Declarative Layer"
   ]
  },
  {
   "cell_type": "code",
   "execution_count": 29,
   "metadata": {},
   "outputs": [],
   "source": [
    "class OptLayer(torch.nn.Module):\n",
    "    \"\"\"Generic declarative layer.\n",
    "    \n",
    "    Assumptions:\n",
    "    * All inputs are PyTorch tensors\n",
    "    * All inputs have a single batch dimension (b, ...)\n",
    "    Usage:\n",
    "        problem = <derived class of *DeclarativeNode>\n",
    "        declarative_layer = DeclarativeLayer(problem)\n",
    "        y = declarative_layer(x1, x2, ...)\n",
    "    \"\"\"\n",
    "    def __init__(self, problem):\n",
    "        super(OptLayer, self).__init__()\n",
    "        self.problem = problem\n",
    "        \n",
    "    def forward(self, *inputs):\n",
    "        return OptFunction.apply(self.problem, *inputs)"
   ]
  },
  {
   "cell_type": "markdown",
   "metadata": {},
   "source": [
    "#### TrajNet"
   ]
  },
  {
   "cell_type": "code",
   "execution_count": 30,
   "metadata": {},
   "outputs": [],
   "source": [
    "class TrajNet(nn.Module):\n",
    "    def __init__(self, opt_layer, P, input_size=16, hidden_size=64, output_size=12, nvar=11, t_obs=8):\n",
    "        super(TrajNet, self).__init__()\n",
    "        self.P = torch.tensor(P, dtype=torch.double).to(device)\n",
    "        self.nvar = nvar\n",
    "        self.t_obs = t_obs\n",
    "        self.linear1 = nn.Linear(input_size, hidden_size)\n",
    "        self.linear2 = nn.Linear(hidden_size, output_size)\n",
    "        self.opt_layer = opt_layer\n",
    "        self.activation = nn.ReLU()\n",
    "        self.mask = torch.tensor([[1.0, 1.0, 1.0, 0.0, 1.0, 1.0, 1.0, 1.0, 1.0, 0.0, 1.0, 1.0]], dtype=torch.double)\n",
    "    \n",
    "    def forward(self, x, b):\n",
    "        batch_size, _ = x.size()\n",
    "        out = self.activation(self.linear1(x))\n",
    "        b_pred = self.linear2(out)\n",
    "        b_gen = self.mask * b + (1 - self.mask) * b_pred\n",
    "        \n",
    "        # Run optimization\n",
    "        lamda_x = torch.zeros(batch_size, self.nvar, dtype=torch.double).to(device)\n",
    "        lamda_y = torch.zeros(batch_size, self.nvar, dtype=torch.double).to(device)\n",
    "        sol = self.opt_layer(b_gen, lamda_x, lamda_y)\n",
    "\n",
    "        # Compute final trajectory\n",
    "        x_pred = torch.matmul(self.P, sol[:, :self.nvar].transpose(0, 1))\n",
    "        y_pred = torch.matmul(self.P, sol[:, self.nvar:2*self.nvar].transpose(0, 1))\n",
    "        \n",
    "        x_pred = x_pred.transpose(0, 1)\n",
    "        y_pred = y_pred.transpose(0, 1)\n",
    "        out = torch.cat([x_pred, y_pred], dim=1)\n",
    "        #return out, sol, b_gen, lamda_x, lamda_y\n",
    "        return out"
   ]
  },
  {
   "cell_type": "code",
   "execution_count": 32,
   "metadata": {},
   "outputs": [],
   "source": [
    "opt_node = OPTNode(\n",
    "    P, \n",
    "    Pddot, \n",
    "    A_eq, \n",
    "    A_obs, \n",
    "    Q_smoothness, \n",
    "    x_obs, \n",
    "    y_obs,\n",
    "    num=num, \n",
    "    num_obs=num_obs, \n",
    "    nvar=nvar, \n",
    "    a_obs=a_obs, \n",
    "    b_obs=b_obs, \n",
    "    rho_obs=rho_obs, \n",
    "    rho_eq=rho_eq,\n",
    "    weight_smoothness=weight_smoothness, \n",
    "    maxiter=300, \n",
    "    eps=1e-7, \n",
    "    num_tot=num*num_obs\n",
    ")\n",
    "opt_layer = OptLayer(opt_node)"
   ]
  },
  {
   "cell_type": "code",
   "execution_count": 33,
   "metadata": {},
   "outputs": [],
   "source": [
    "model = TrajNet(opt_layer, P, input_size=2 * num + 3 * num_obs + 4)\n",
    "model = model.double()\n",
    "model = model.to(device)"
   ]
  },
  {
   "cell_type": "markdown",
   "metadata": {},
   "source": [
    "#### Model Testing"
   ]
  },
  {
   "cell_type": "code",
   "execution_count": 34,
   "metadata": {},
   "outputs": [],
   "source": [
    "x_inp = torch.randn(10, 66, dtype=torch.double)\n",
    "y_out = torch.randn(10, 50, dtype=torch.double)\n",
    "b_inp = torch.randn(10, 12, dtype=torch.double)"
   ]
  },
  {
   "cell_type": "code",
   "execution_count": 35,
   "metadata": {},
   "outputs": [
    {
     "name": "stdout",
     "output_type": "stream",
     "text": [
      "torch.Size([10, 66])\n"
     ]
    }
   ],
   "source": [
    "print(x_inp.shape)"
   ]
  },
  {
   "cell_type": "code",
   "execution_count": 36,
   "metadata": {},
   "outputs": [
    {
     "data": {
      "text/plain": [
       "torch.Size([10, 50])"
      ]
     },
     "execution_count": 36,
     "metadata": {},
     "output_type": "execute_result"
    }
   ],
   "source": [
    "out = model(x_inp, b_inp)\n",
    "out.size()"
   ]
  },
  {
   "cell_type": "markdown",
   "metadata": {},
   "source": [
    "#### Trajectory DataLoader"
   ]
  },
  {
   "cell_type": "code",
   "execution_count": 37,
   "metadata": {},
   "outputs": [],
   "source": [
    "class TrajectoryDataset(Dataset):\n",
    "    def __init__(self, root_dir, t_obs=8, dt=0.4):\n",
    "        self.root_dir = root_dir\n",
    "        self.t_obs = t_obs\n",
    "        self.dt = dt\n",
    "    \n",
    "    def __len__(self):\n",
    "        return len(os.listdir(self.root_dir))\n",
    "    \n",
    "    def get_vel(self, pos):\n",
    "        return (pos[-1] - pos[-2]) / self.dt\n",
    "    \n",
    "    def get_acc(self, vel):\n",
    "        return (vel[-1] - vel[-2]) / self.dt\n",
    "    \n",
    "    def __getitem__(self, idx):\n",
    "        file_name = \"{}.npy\".format(idx)\n",
    "        file_path = os.path.join(self.root_dir, file_name)\n",
    "        \n",
    "        data = np.load(file_path, allow_pickle=True).item()\n",
    "        x_traj = data['x_traj']\n",
    "        y_traj = data['y_traj']\n",
    "        \n",
    "        x_inp = x_traj[:self.t_obs]\n",
    "        y_inp = y_traj[:self.t_obs]\n",
    "        x_fut = x_traj[self.t_obs:]\n",
    "        y_fut = y_traj[self.t_obs:]\n",
    "        \n",
    "        vx_beg = (x_inp[-1] - x_inp[-2]) / self.dt\n",
    "        vy_beg = (y_inp[-1] - y_inp[-2]) / self.dt\n",
    "        \n",
    "        vx_beg_prev = (x_inp[-2] - x_inp[-3]) / self.dt\n",
    "        vy_beg_prev = (y_inp[-2] - y_inp[-3]) / self.dt\n",
    "        \n",
    "        ax_beg = (vx_beg - vx_beg_prev) / self.dt\n",
    "        ay_beg = (vy_beg - vy_beg_prev) / self.dt\n",
    "        \n",
    "        vel_acc_inp = np.array([vx_beg, vy_beg, ax_beg, ay_beg])\n",
    "        \n",
    "        traj_inp = np.dstack((x_inp, y_inp)).flatten()\n",
    "        traj_inp = np.hstack((traj_inp, vel_acc_inp, obs_inp))\n",
    "        traj_out = np.hstack((x_fut, y_fut)).flatten()\n",
    "        b_inp = np.array([x_inp[-1], vx_beg, ax_beg, 0, 0, 0, y_inp[-1], vy_beg, ay_beg, 0, 0, 0])\n",
    "        return torch.tensor(traj_inp), torch.tensor(traj_out), torch.tensor(b_inp)"
   ]
  },
  {
   "cell_type": "code",
   "execution_count": 38,
   "metadata": {},
   "outputs": [
    {
     "ename": "FileNotFoundError",
     "evalue": "[Errno 2] No such file or directory: './train2/data/'",
     "output_type": "error",
     "traceback": [
      "\u001b[0;31m---------------------------------------------------------------------------\u001b[0m",
      "\u001b[0;31mFileNotFoundError\u001b[0m                         Traceback (most recent call last)",
      "\u001b[0;32m<ipython-input-38-b2dde56a7a86>\u001b[0m in \u001b[0;36m<module>\u001b[0;34m\u001b[0m\n\u001b[1;32m      1\u001b[0m \u001b[0mtrain_dataset\u001b[0m \u001b[0;34m=\u001b[0m \u001b[0mTrajectoryDataset\u001b[0m\u001b[0;34m(\u001b[0m\u001b[0;34m\"./train2/data/\"\u001b[0m\u001b[0;34m,\u001b[0m \u001b[0mt_obs\u001b[0m\u001b[0;34m=\u001b[0m\u001b[0;36m25\u001b[0m\u001b[0;34m,\u001b[0m \u001b[0mdt\u001b[0m\u001b[0;34m=\u001b[0m\u001b[0;36m0.08\u001b[0m\u001b[0;34m)\u001b[0m\u001b[0;34m\u001b[0m\u001b[0;34m\u001b[0m\u001b[0m\n\u001b[0;32m----> 2\u001b[0;31m \u001b[0mtrain_loader\u001b[0m \u001b[0;34m=\u001b[0m \u001b[0mDataLoader\u001b[0m\u001b[0;34m(\u001b[0m\u001b[0mtrain_dataset\u001b[0m\u001b[0;34m,\u001b[0m \u001b[0mbatch_size\u001b[0m\u001b[0;34m=\u001b[0m\u001b[0;36m20\u001b[0m\u001b[0;34m,\u001b[0m \u001b[0mshuffle\u001b[0m\u001b[0;34m=\u001b[0m\u001b[0;32mTrue\u001b[0m\u001b[0;34m,\u001b[0m \u001b[0mnum_workers\u001b[0m\u001b[0;34m=\u001b[0m\u001b[0;36m0\u001b[0m\u001b[0;34m)\u001b[0m\u001b[0;34m\u001b[0m\u001b[0;34m\u001b[0m\u001b[0m\n\u001b[0m",
      "\u001b[0;32m~/.local/lib/python3.8/site-packages/torch/utils/data/dataloader.py\u001b[0m in \u001b[0;36m__init__\u001b[0;34m(self, dataset, batch_size, shuffle, sampler, batch_sampler, num_workers, collate_fn, pin_memory, drop_last, timeout, worker_init_fn, multiprocessing_context, generator, prefetch_factor, persistent_workers)\u001b[0m\n\u001b[1;32m    264\u001b[0m                     \u001b[0;31m# Cannot statically verify that dataset is Sized\u001b[0m\u001b[0;34m\u001b[0m\u001b[0;34m\u001b[0m\u001b[0;34m\u001b[0m\u001b[0m\n\u001b[1;32m    265\u001b[0m                     \u001b[0;31m# Somewhat related: see NOTE [ Lack of Default `__len__` in Python Abstract Base Classes ]\u001b[0m\u001b[0;34m\u001b[0m\u001b[0;34m\u001b[0m\u001b[0;34m\u001b[0m\u001b[0m\n\u001b[0;32m--> 266\u001b[0;31m                     \u001b[0msampler\u001b[0m \u001b[0;34m=\u001b[0m \u001b[0mRandomSampler\u001b[0m\u001b[0;34m(\u001b[0m\u001b[0mdataset\u001b[0m\u001b[0;34m,\u001b[0m \u001b[0mgenerator\u001b[0m\u001b[0;34m=\u001b[0m\u001b[0mgenerator\u001b[0m\u001b[0;34m)\u001b[0m  \u001b[0;31m# type: ignore\u001b[0m\u001b[0;34m\u001b[0m\u001b[0;34m\u001b[0m\u001b[0m\n\u001b[0m\u001b[1;32m    267\u001b[0m                 \u001b[0;32melse\u001b[0m\u001b[0;34m:\u001b[0m\u001b[0;34m\u001b[0m\u001b[0;34m\u001b[0m\u001b[0m\n\u001b[1;32m    268\u001b[0m                     \u001b[0msampler\u001b[0m \u001b[0;34m=\u001b[0m \u001b[0mSequentialSampler\u001b[0m\u001b[0;34m(\u001b[0m\u001b[0mdataset\u001b[0m\u001b[0;34m)\u001b[0m\u001b[0;34m\u001b[0m\u001b[0;34m\u001b[0m\u001b[0m\n",
      "\u001b[0;32m~/.local/lib/python3.8/site-packages/torch/utils/data/sampler.py\u001b[0m in \u001b[0;36m__init__\u001b[0;34m(self, data_source, replacement, num_samples, generator)\u001b[0m\n\u001b[1;32m    100\u001b[0m                              \"since a random permute will be performed.\")\n\u001b[1;32m    101\u001b[0m \u001b[0;34m\u001b[0m\u001b[0m\n\u001b[0;32m--> 102\u001b[0;31m         \u001b[0;32mif\u001b[0m \u001b[0;32mnot\u001b[0m \u001b[0misinstance\u001b[0m\u001b[0;34m(\u001b[0m\u001b[0mself\u001b[0m\u001b[0;34m.\u001b[0m\u001b[0mnum_samples\u001b[0m\u001b[0;34m,\u001b[0m \u001b[0mint\u001b[0m\u001b[0;34m)\u001b[0m \u001b[0;32mor\u001b[0m \u001b[0mself\u001b[0m\u001b[0;34m.\u001b[0m\u001b[0mnum_samples\u001b[0m \u001b[0;34m<=\u001b[0m \u001b[0;36m0\u001b[0m\u001b[0;34m:\u001b[0m\u001b[0;34m\u001b[0m\u001b[0;34m\u001b[0m\u001b[0m\n\u001b[0m\u001b[1;32m    103\u001b[0m             raise ValueError(\"num_samples should be a positive integer \"\n\u001b[1;32m    104\u001b[0m                              \"value, but got num_samples={}\".format(self.num_samples))\n",
      "\u001b[0;32m~/.local/lib/python3.8/site-packages/torch/utils/data/sampler.py\u001b[0m in \u001b[0;36mnum_samples\u001b[0;34m(self)\u001b[0m\n\u001b[1;32m    108\u001b[0m         \u001b[0;31m# dataset size might change at runtime\u001b[0m\u001b[0;34m\u001b[0m\u001b[0;34m\u001b[0m\u001b[0;34m\u001b[0m\u001b[0m\n\u001b[1;32m    109\u001b[0m         \u001b[0;32mif\u001b[0m \u001b[0mself\u001b[0m\u001b[0;34m.\u001b[0m\u001b[0m_num_samples\u001b[0m \u001b[0;32mis\u001b[0m \u001b[0;32mNone\u001b[0m\u001b[0;34m:\u001b[0m\u001b[0;34m\u001b[0m\u001b[0;34m\u001b[0m\u001b[0m\n\u001b[0;32m--> 110\u001b[0;31m             \u001b[0;32mreturn\u001b[0m \u001b[0mlen\u001b[0m\u001b[0;34m(\u001b[0m\u001b[0mself\u001b[0m\u001b[0;34m.\u001b[0m\u001b[0mdata_source\u001b[0m\u001b[0;34m)\u001b[0m\u001b[0;34m\u001b[0m\u001b[0;34m\u001b[0m\u001b[0m\n\u001b[0m\u001b[1;32m    111\u001b[0m         \u001b[0;32mreturn\u001b[0m \u001b[0mself\u001b[0m\u001b[0;34m.\u001b[0m\u001b[0m_num_samples\u001b[0m\u001b[0;34m\u001b[0m\u001b[0;34m\u001b[0m\u001b[0m\n\u001b[1;32m    112\u001b[0m \u001b[0;34m\u001b[0m\u001b[0m\n",
      "\u001b[0;32m<ipython-input-37-4c36b94b9dd5>\u001b[0m in \u001b[0;36m__len__\u001b[0;34m(self)\u001b[0m\n\u001b[1;32m      6\u001b[0m \u001b[0;34m\u001b[0m\u001b[0m\n\u001b[1;32m      7\u001b[0m     \u001b[0;32mdef\u001b[0m \u001b[0m__len__\u001b[0m\u001b[0;34m(\u001b[0m\u001b[0mself\u001b[0m\u001b[0;34m)\u001b[0m\u001b[0;34m:\u001b[0m\u001b[0;34m\u001b[0m\u001b[0;34m\u001b[0m\u001b[0m\n\u001b[0;32m----> 8\u001b[0;31m         \u001b[0;32mreturn\u001b[0m \u001b[0mlen\u001b[0m\u001b[0;34m(\u001b[0m\u001b[0mos\u001b[0m\u001b[0;34m.\u001b[0m\u001b[0mlistdir\u001b[0m\u001b[0;34m(\u001b[0m\u001b[0mself\u001b[0m\u001b[0;34m.\u001b[0m\u001b[0mroot_dir\u001b[0m\u001b[0;34m)\u001b[0m\u001b[0;34m)\u001b[0m\u001b[0;34m\u001b[0m\u001b[0;34m\u001b[0m\u001b[0m\n\u001b[0m\u001b[1;32m      9\u001b[0m \u001b[0;34m\u001b[0m\u001b[0m\n\u001b[1;32m     10\u001b[0m     \u001b[0;32mdef\u001b[0m \u001b[0mget_vel\u001b[0m\u001b[0;34m(\u001b[0m\u001b[0mself\u001b[0m\u001b[0;34m,\u001b[0m \u001b[0mpos\u001b[0m\u001b[0;34m)\u001b[0m\u001b[0;34m:\u001b[0m\u001b[0;34m\u001b[0m\u001b[0;34m\u001b[0m\u001b[0m\n",
      "\u001b[0;31mFileNotFoundError\u001b[0m: [Errno 2] No such file or directory: './train2/data/'"
     ]
    }
   ],
   "source": [
    "train_dataset = TrajectoryDataset(\"./train2/data/\", t_obs=25, dt=0.08)\n",
    "train_loader = DataLoader(train_dataset, batch_size=20, shuffle=True, num_workers=0)"
   ]
  },
  {
   "cell_type": "code",
   "execution_count": 18,
   "metadata": {},
   "outputs": [],
   "source": [
    "test_dataset = TrajectoryDataset(\"./test2/data/\", t_obs=25, dt=0.08)\n",
    "test_loader = DataLoader(test_dataset, batch_size=20, shuffle=True, num_workers=0)"
   ]
  },
  {
   "cell_type": "code",
   "execution_count": 19,
   "metadata": {},
   "outputs": [
    {
     "name": "stdout",
     "output_type": "stream",
     "text": [
      "torch.Size([20, 66]) torch.Size([20, 50]) torch.Size([20, 12])\n"
     ]
    }
   ],
   "source": [
    "for i, data in enumerate(train_loader):\n",
    "    traj_inp, traj_out, b_inp = data\n",
    "    print(traj_inp.size(), traj_out.size(), b_inp.size())\n",
    "    break"
   ]
  },
  {
   "cell_type": "code",
   "execution_count": 20,
   "metadata": {},
   "outputs": [
    {
     "data": {
      "text/plain": [
       "torch.Size([20, 50])"
      ]
     },
     "execution_count": 20,
     "metadata": {},
     "output_type": "execute_result"
    }
   ],
   "source": [
    "out = model(traj_inp, b_inp)\n",
    "out.size()"
   ]
  },
  {
   "cell_type": "markdown",
   "metadata": {},
   "source": [
    "#### Training"
   ]
  },
  {
   "cell_type": "code",
   "execution_count": 21,
   "metadata": {},
   "outputs": [],
   "source": [
    "criterion = nn.MSELoss()\n",
    "optimizer = torch.optim.SGD(model.parameters(), lr=0.01)"
   ]
  },
  {
   "cell_type": "code",
   "execution_count": 27,
   "metadata": {},
   "outputs": [
    {
     "data": {
      "text/plain": [
       "(torch.Size([20, 66]), torch.Size([20, 50]))"
      ]
     },
     "execution_count": 27,
     "metadata": {},
     "output_type": "execute_result"
    }
   ],
   "source": [
    "traj_inp.size(), traj_out.size()"
   ]
  },
  {
   "cell_type": "code",
   "execution_count": 22,
   "metadata": {},
   "outputs": [
    {
     "name": "stdout",
     "output_type": "stream",
     "text": [
      "Epoch: 0, Batch: 0, Loss: 3.597267522613275\n",
      "Epoch: 0, Batch: 10, Loss: 3.6374654269460485\n",
      "Epoch: 0, Batch: 20, Loss: 3.075532198721876\n",
      "Epoch: 0, Batch: 30, Loss: 2.1896120944111543\n",
      "Epoch: 0, Batch: 40, Loss: 1.9410138033179258\n",
      "Epoch: 0, Mean Loss: 2.619794483993626\n",
      "----------------------------------------------------------------------------------------------------\n",
      "Epoch: 1, Batch: 0, Loss: 0.71858536097491\n",
      "Epoch: 1, Batch: 10, Loss: 0.8450240026428454\n",
      "Epoch: 1, Batch: 20, Loss: 0.2715142416076923\n",
      "Epoch: 1, Batch: 30, Loss: 0.24318837605881446\n",
      "Epoch: 1, Batch: 40, Loss: 0.22076619843806825\n",
      "Epoch: 1, Mean Loss: 0.42434176093649134\n",
      "----------------------------------------------------------------------------------------------------\n",
      "Epoch: 2, Batch: 0, Loss: 0.22395106163617431\n",
      "Epoch: 2, Batch: 10, Loss: 0.22331791232285186\n",
      "Epoch: 2, Batch: 20, Loss: 0.10549174903440268\n",
      "Epoch: 2, Batch: 30, Loss: 0.10402500701150384\n",
      "Epoch: 2, Batch: 40, Loss: 0.11386426637503719\n",
      "Epoch: 2, Mean Loss: 0.11580573137792152\n",
      "----------------------------------------------------------------------------------------------------\n",
      "Epoch: 3, Batch: 0, Loss: 0.06726907533567929\n",
      "Epoch: 3, Batch: 10, Loss: 0.09833377607866013\n",
      "Epoch: 3, Batch: 20, Loss: 0.1862821430498543\n",
      "Epoch: 3, Batch: 30, Loss: 0.05750988007135467\n",
      "Epoch: 3, Batch: 40, Loss: 0.13465359151375594\n",
      "Epoch: 3, Mean Loss: 0.10186050045131005\n",
      "----------------------------------------------------------------------------------------------------\n",
      "Epoch: 4, Batch: 0, Loss: 0.04035984170806672\n",
      "Epoch: 4, Batch: 10, Loss: 0.17297799756934867\n",
      "Epoch: 4, Batch: 20, Loss: 0.07667122751773138\n",
      "Epoch: 4, Batch: 30, Loss: 0.0704368614803244\n",
      "Epoch: 4, Batch: 40, Loss: 0.1210494886010513\n",
      "Epoch: 4, Mean Loss: 0.09365499071373083\n",
      "----------------------------------------------------------------------------------------------------\n",
      "Epoch: 5, Batch: 0, Loss: 0.06331921986772535\n",
      "Epoch: 5, Batch: 10, Loss: 0.07034379403252697\n",
      "Epoch: 5, Batch: 20, Loss: 0.11076964835349747\n",
      "Epoch: 5, Batch: 30, Loss: 0.03529610637369372\n",
      "Epoch: 5, Batch: 40, Loss: 0.10512737012286273\n",
      "Epoch: 5, Mean Loss: 0.08847481463454149\n",
      "----------------------------------------------------------------------------------------------------\n",
      "Epoch: 6, Batch: 0, Loss: 0.08934659355834086\n",
      "Epoch: 6, Batch: 10, Loss: 0.10550616917163026\n",
      "Epoch: 6, Batch: 20, Loss: 0.06969105180936756\n",
      "Epoch: 6, Batch: 30, Loss: 0.08287158962719403\n",
      "Epoch: 6, Batch: 40, Loss: 0.05690394369088789\n",
      "Epoch: 6, Mean Loss: 0.08290118799042777\n",
      "----------------------------------------------------------------------------------------------------\n",
      "Epoch: 7, Batch: 0, Loss: 0.063901170325052\n",
      "Epoch: 7, Batch: 10, Loss: 0.05935003301299408\n",
      "Epoch: 7, Batch: 20, Loss: 0.10517747965930338\n",
      "Epoch: 7, Batch: 30, Loss: 0.06929279733936194\n",
      "Epoch: 7, Batch: 40, Loss: 0.056841357281924444\n",
      "Epoch: 7, Mean Loss: 0.07900325908178407\n",
      "----------------------------------------------------------------------------------------------------\n",
      "Epoch: 8, Batch: 0, Loss: 0.07063453249096092\n",
      "Epoch: 8, Batch: 10, Loss: 0.0851222680455789\n",
      "Epoch: 8, Batch: 20, Loss: 0.06020276853283278\n",
      "Epoch: 8, Batch: 30, Loss: 0.05361788059648082\n",
      "Epoch: 8, Batch: 40, Loss: 0.07244535984580412\n",
      "Epoch: 8, Mean Loss: 0.07445846595018088\n",
      "----------------------------------------------------------------------------------------------------\n",
      "Epoch: 9, Batch: 0, Loss: 0.0416606741936408\n",
      "Epoch: 9, Batch: 10, Loss: 0.07352178689380111\n",
      "Epoch: 9, Batch: 20, Loss: 0.08157804995613023\n",
      "Epoch: 9, Batch: 30, Loss: 0.08416162941127071\n",
      "Epoch: 9, Batch: 40, Loss: 0.06294630471486162\n",
      "Epoch: 9, Mean Loss: 0.07055973575806716\n",
      "----------------------------------------------------------------------------------------------------\n",
      "Epoch: 10, Batch: 0, Loss: 0.04178684738062042\n",
      "Epoch: 10, Batch: 10, Loss: 0.06962576677093499\n",
      "Epoch: 10, Batch: 20, Loss: 0.040594188168099\n",
      "Epoch: 10, Batch: 30, Loss: 0.04471645525486747\n",
      "Epoch: 10, Batch: 40, Loss: 0.08614838034602165\n",
      "Epoch: 10, Mean Loss: 0.06760515234647983\n",
      "----------------------------------------------------------------------------------------------------\n",
      "Epoch: 11, Batch: 0, Loss: 0.05136456044284361\n",
      "Epoch: 11, Batch: 10, Loss: 0.051086889757454484\n",
      "Epoch: 11, Batch: 20, Loss: 0.040822416739674704\n",
      "Epoch: 11, Batch: 30, Loss: 0.09307388201794672\n",
      "Epoch: 11, Batch: 40, Loss: 0.07374599650006795\n"
     ]
    },
    {
     "ename": "RuntimeError",
     "evalue": "",
     "output_type": "error",
     "traceback": [
      "\u001b[0;31m---------------------------------------------------------------------------\u001b[0m",
      "\u001b[0;31mRuntimeError\u001b[0m                              Traceback (most recent call last)",
      "\u001b[0;32m<ipython-input-22-390f1ae0393c>\u001b[0m in \u001b[0;36m<module>\u001b[0;34m\u001b[0m\n\u001b[1;32m     14\u001b[0m \u001b[0;34m\u001b[0m\u001b[0m\n\u001b[1;32m     15\u001b[0m         \u001b[0moptimizer\u001b[0m\u001b[0;34m.\u001b[0m\u001b[0mzero_grad\u001b[0m\u001b[0;34m(\u001b[0m\u001b[0;34m)\u001b[0m\u001b[0;34m\u001b[0m\u001b[0;34m\u001b[0m\u001b[0m\n\u001b[0;32m---> 16\u001b[0;31m         \u001b[0mloss\u001b[0m\u001b[0;34m.\u001b[0m\u001b[0mbackward\u001b[0m\u001b[0;34m(\u001b[0m\u001b[0;34m)\u001b[0m\u001b[0;34m\u001b[0m\u001b[0;34m\u001b[0m\u001b[0m\n\u001b[0m\u001b[1;32m     17\u001b[0m         \u001b[0moptimizer\u001b[0m\u001b[0;34m.\u001b[0m\u001b[0mstep\u001b[0m\u001b[0;34m(\u001b[0m\u001b[0;34m)\u001b[0m\u001b[0;34m\u001b[0m\u001b[0;34m\u001b[0m\u001b[0m\n\u001b[1;32m     18\u001b[0m \u001b[0;34m\u001b[0m\u001b[0m\n",
      "\u001b[0;32m~/opt/anaconda3/envs/pytorchenv/lib/python3.7/site-packages/torch/tensor.py\u001b[0m in \u001b[0;36mbackward\u001b[0;34m(self, gradient, retain_graph, create_graph)\u001b[0m\n\u001b[1;32m    183\u001b[0m                 \u001b[0mproducts\u001b[0m\u001b[0;34m.\u001b[0m \u001b[0mDefaults\u001b[0m \u001b[0mto\u001b[0m\u001b[0;31m \u001b[0m\u001b[0;31m`\u001b[0m\u001b[0;31m`\u001b[0m\u001b[0;32mFalse\u001b[0m\u001b[0;31m`\u001b[0m\u001b[0;31m`\u001b[0m\u001b[0;34m.\u001b[0m\u001b[0;34m\u001b[0m\u001b[0;34m\u001b[0m\u001b[0m\n\u001b[1;32m    184\u001b[0m         \"\"\"\n\u001b[0;32m--> 185\u001b[0;31m         \u001b[0mtorch\u001b[0m\u001b[0;34m.\u001b[0m\u001b[0mautograd\u001b[0m\u001b[0;34m.\u001b[0m\u001b[0mbackward\u001b[0m\u001b[0;34m(\u001b[0m\u001b[0mself\u001b[0m\u001b[0;34m,\u001b[0m \u001b[0mgradient\u001b[0m\u001b[0;34m,\u001b[0m \u001b[0mretain_graph\u001b[0m\u001b[0;34m,\u001b[0m \u001b[0mcreate_graph\u001b[0m\u001b[0;34m)\u001b[0m\u001b[0;34m\u001b[0m\u001b[0;34m\u001b[0m\u001b[0m\n\u001b[0m\u001b[1;32m    186\u001b[0m \u001b[0;34m\u001b[0m\u001b[0m\n\u001b[1;32m    187\u001b[0m     \u001b[0;32mdef\u001b[0m \u001b[0mregister_hook\u001b[0m\u001b[0;34m(\u001b[0m\u001b[0mself\u001b[0m\u001b[0;34m,\u001b[0m \u001b[0mhook\u001b[0m\u001b[0;34m)\u001b[0m\u001b[0;34m:\u001b[0m\u001b[0;34m\u001b[0m\u001b[0;34m\u001b[0m\u001b[0m\n",
      "\u001b[0;32m~/opt/anaconda3/envs/pytorchenv/lib/python3.7/site-packages/torch/autograd/__init__.py\u001b[0m in \u001b[0;36mbackward\u001b[0;34m(tensors, grad_tensors, retain_graph, create_graph, grad_variables)\u001b[0m\n\u001b[1;32m    125\u001b[0m     Variable._execution_engine.run_backward(\n\u001b[1;32m    126\u001b[0m         \u001b[0mtensors\u001b[0m\u001b[0;34m,\u001b[0m \u001b[0mgrad_tensors\u001b[0m\u001b[0;34m,\u001b[0m \u001b[0mretain_graph\u001b[0m\u001b[0;34m,\u001b[0m \u001b[0mcreate_graph\u001b[0m\u001b[0;34m,\u001b[0m\u001b[0;34m\u001b[0m\u001b[0;34m\u001b[0m\u001b[0m\n\u001b[0;32m--> 127\u001b[0;31m         allow_unreachable=True)  # allow_unreachable flag\n\u001b[0m\u001b[1;32m    128\u001b[0m \u001b[0;34m\u001b[0m\u001b[0m\n\u001b[1;32m    129\u001b[0m \u001b[0;34m\u001b[0m\u001b[0m\n",
      "\u001b[0;31mRuntimeError\u001b[0m: "
     ]
    }
   ],
   "source": [
    "epoch_train_loss = []\n",
    "num_epochs = 25\n",
    "\n",
    "for epoch in range(num_epochs):\n",
    "    train_loss = []\n",
    "    for batch_num, data in enumerate(train_loader):\n",
    "        traj_inp, traj_out, b_inp = data\n",
    "        traj_inp = traj_inp.to(device)\n",
    "        traj_out = traj_out.to(device)\n",
    "        b_inp = b_inp.to(device)\n",
    "\n",
    "        out = model(traj_inp, b_inp)\n",
    "        loss = criterion(out, traj_out)\n",
    "        \n",
    "        optimizer.zero_grad()\n",
    "        loss.backward()\n",
    "        optimizer.step()\n",
    "        \n",
    "        train_loss.append(loss.item())\n",
    "        if batch_num % 10 == 0:\n",
    "            print(\"Epoch: {}, Batch: {}, Loss: {}\".format(epoch, batch_num, loss.item()))\n",
    "    \n",
    "    mean_loss = np.mean(train_loss)\n",
    "    epoch_train_loss.append(mean_loss)\n",
    "    print(\"Epoch: {}, Mean Loss: {}\".format(epoch, mean_loss))\n",
    "    print(\"-\"*100)"
   ]
  },
  {
   "cell_type": "markdown",
   "metadata": {},
   "source": [
    "#### Testing"
   ]
  },
  {
   "cell_type": "code",
   "execution_count": 23,
   "metadata": {},
   "outputs": [],
   "source": [
    "def plot_traj(cnt, traj_inp, traj_out, traj_pred):\n",
    "    traj_inp = traj_inp.numpy()[:2*num]\n",
    "    traj_out = traj_out.numpy()\n",
    "    traj_pred = traj_pred.numpy()\n",
    "    \n",
    "    fig, ax = plt.subplots(1, 1, figsize=(6, 6))\n",
    "    ax.scatter(traj_inp[::2], traj_inp[1::2], label='Inp traj')\n",
    "    ax.scatter(traj_out[:25], traj_out[25:], label='GT')\n",
    "    ax.scatter(traj_pred[:25], traj_pred[25:], label='Pred')\n",
    "    \n",
    "    th = np.linspace(0, 2 * np.pi, 100)\n",
    "    for i in range(0, num_obs):\n",
    "        x_circ = x_obs_temp[i] + a_obs * np.cos(th)\n",
    "        y_circ = y_obs_temp[i] + b_obs * np.sin(th)\n",
    "        ax.plot(x_circ, y_circ, '-k')\n",
    "    \n",
    "    ax.legend()\n",
    "    ax.set_xlim([-7, 7])\n",
    "    ax.set_ylim([-7, 7])\n",
    "    plt.savefig('./results2/{}.png'.format(cnt))\n",
    "    plt.close()"
   ]
  },
  {
   "cell_type": "code",
   "execution_count": 24,
   "metadata": {},
   "outputs": [
    {
     "name": "stdout",
     "output_type": "stream",
     "text": [
      "Batch: 0, Loss: 0.047442761681783734\n",
      "Batch: 1, Loss: 0.055483755868878146\n",
      "Batch: 2, Loss: 0.04164899872188836\n",
      "Batch: 3, Loss: 0.08082373442987568\n",
      "Batch: 4, Loss: 0.10025171270190578\n",
      "Batch: 5, Loss: 0.05275736551519793\n",
      "Batch: 6, Loss: 0.06318858453784654\n",
      "Batch: 7, Loss: 0.06342766008092374\n",
      "Batch: 8, Loss: 0.0673475549737441\n",
      "Batch: 9, Loss: 0.04733797712653085\n",
      "Batch: 10, Loss: 0.0622968548978996\n",
      "Batch: 11, Loss: 0.12419776689126667\n",
      "Batch: 12, Loss: 0.04735131806137628\n",
      "Batch: 13, Loss: 0.04176294246143593\n",
      "Batch: 14, Loss: 0.04405045757928851\n",
      "Batch: 15, Loss: 0.03775964139115965\n",
      "Batch: 16, Loss: 0.06042275740861554\n",
      "Batch: 17, Loss: 0.055223548383680994\n",
      "Batch: 18, Loss: 0.049916531615260176\n",
      "Batch: 19, Loss: 0.07637315659790227\n",
      "Batch: 20, Loss: 0.06345654882391301\n",
      "Batch: 21, Loss: 0.06582567225564817\n",
      "Batch: 22, Loss: 0.06583034043163732\n",
      "Batch: 23, Loss: 0.06727757298478469\n",
      "Batch: 24, Loss: 0.04179578769337556\n",
      "Batch: 25, Loss: 0.059909945256077665\n",
      "Batch: 26, Loss: 0.09414588782642999\n",
      "Batch: 27, Loss: 0.06723759956789353\n",
      "Batch: 28, Loss: 0.07781682586246898\n",
      "Batch: 29, Loss: 0.06488319521143436\n",
      "Batch: 30, Loss: 0.04421108849964399\n",
      "Batch: 31, Loss: 0.09838376948405374\n",
      "Batch: 32, Loss: 0.0773481409980358\n",
      "Batch: 33, Loss: 0.06112924187342887\n",
      "Batch: 34, Loss: 0.07121116340152366\n",
      "Batch: 35, Loss: 0.06163088507649947\n",
      "Batch: 36, Loss: 0.041563687072092924\n",
      "Batch: 37, Loss: 0.053771279933182134\n",
      "Batch: 38, Loss: 0.07792411991607356\n",
      "Batch: 39, Loss: 0.0822018615072265\n",
      "Batch: 40, Loss: 0.07269460636701651\n",
      "Batch: 41, Loss: 0.1050643670845963\n",
      "Batch: 42, Loss: 0.04609981446215848\n",
      "Batch: 43, Loss: 0.05222493624912177\n",
      "Batch: 44, Loss: 0.053509999340056236\n",
      "Batch: 45, Loss: 0.05410993840461184\n",
      "Batch: 46, Loss: 0.033724994624591456\n",
      "Batch: 47, Loss: 0.04922430181089182\n",
      "Batch: 48, Loss: 0.06215799194866461\n",
      "Batch: 49, Loss: 0.04671379900506107\n",
      "Epoch Mean Test Loss: 0.06264288887797309\n"
     ]
    }
   ],
   "source": [
    "with torch.no_grad():\n",
    "    cnt = 0\n",
    "    test_loss = []\n",
    "    for batch_num, data in enumerate(test_loader):\n",
    "        traj_inp, traj_out, b_inp = data\n",
    "        traj_inp = traj_inp.to(device)\n",
    "        traj_out = traj_out.to(device)\n",
    "        b_inp = b_inp.to(device)\n",
    "\n",
    "        out = model(traj_inp, b_inp)\n",
    "        loss = criterion(out, traj_out)\n",
    "        \n",
    "        test_loss.append(loss.item())\n",
    "        print(\"Batch: {}, Loss: {}\".format(batch_num, loss.item()))\n",
    "        for i in range(traj_inp.size()[0]):\n",
    "            plot_traj(cnt, traj_inp[i], traj_out[i], out[i])\n",
    "            cnt += 1\n",
    "mean_loss = np.mean(test_loss)\n",
    "print(\"Epoch Mean Test Loss: {}\".format(mean_loss))"
   ]
  },
  {
   "cell_type": "code",
   "execution_count": null,
   "metadata": {},
   "outputs": [],
   "source": [
    "traj_inp.numpy()[0][:2*num].shape, traj_out.numpy()[0].shape"
   ]
  },
  {
   "cell_type": "code",
   "execution_count": null,
   "metadata": {},
   "outputs": [],
   "source": [
    "traj_inp[6]"
   ]
  },
  {
   "cell_type": "code",
   "execution_count": null,
   "metadata": {},
   "outputs": [],
   "source": [
    "traj_out[6]"
   ]
  },
  {
   "cell_type": "code",
   "execution_count": null,
   "metadata": {},
   "outputs": [],
   "source": [
    "out[6]"
   ]
  },
  {
   "cell_type": "code",
   "execution_count": null,
   "metadata": {},
   "outputs": [],
   "source": [
    "torch.sqrt(torch.sum((traj_out[6] - out[6]) ** 2))"
   ]
  },
  {
   "cell_type": "code",
   "execution_count": null,
   "metadata": {},
   "outputs": [],
   "source": [
    "fin = torch.tensor([traj_out[6][1], traj_out[6][23]])\n",
    "fin_pred = torch.tensor([out[6][11], out[6][23]])\n",
    "fin, fin_pred"
   ]
  },
  {
   "cell_type": "code",
   "execution_count": null,
   "metadata": {},
   "outputs": [],
   "source": [
    "torch.sqrt(torch.sum((fin_pred - fin) ** 2))"
   ]
  },
  {
   "cell_type": "code",
   "execution_count": null,
   "metadata": {},
   "outputs": [],
   "source": [
    "torch.sqrt(torch.sum((traj_out[6][-1] - out[6][-1]) ** 2))"
   ]
  },
  {
   "cell_type": "code",
   "execution_count": null,
   "metadata": {},
   "outputs": [],
   "source": []
  },
  {
   "cell_type": "code",
   "execution_count": null,
   "metadata": {},
   "outputs": [],
   "source": [
    "criterion(traj_out[6], out[6])"
   ]
  },
  {
   "cell_type": "code",
   "execution_count": null,
   "metadata": {},
   "outputs": [],
   "source": [
    "def disp_traj(cnt, traj_inp, traj_out, traj_pred):\n",
    "    traj_inp = traj_inp.numpy()\n",
    "    traj_out = traj_out.numpy()\n",
    "    traj_pred = traj_pred.numpy()\n",
    "    \n",
    "    fig, ax = plt.subplots(1, 1, figsize=(6, 6))\n",
    "    ax.scatter(traj_inp[::2], traj_inp[1::2], label='Inp traj')\n",
    "    ax.scatter(traj_out[:12], traj_out[12:], label='GT')\n",
    "    ax.scatter(traj_out[11], traj_out[23], label='Fin GT')\n",
    "    ax.scatter(traj_pred[:12], traj_pred[12:], label='Pred')\n",
    "    ax.scatter(traj_pred[11], traj_pred[23], label='Fin Pred')\n",
    "    \n",
    "    th = np.linspace(0, 2 * np.pi, 100)\n",
    "    for i in range(0, num_obs):\n",
    "        x_circ = x_obs_temp[i] + a_obs * np.cos(th)\n",
    "        y_circ = y_obs_temp[i] + b_obs * np.sin(th)\n",
    "        ax.plot(x_circ, y_circ, '-k')\n",
    "    \n",
    "    ax.legend()\n",
    "    ax.set_xlim([-7, 7])\n",
    "    ax.set_ylim([-7, 7])\n",
    "    plt.show()"
   ]
  },
  {
   "cell_type": "code",
   "execution_count": null,
   "metadata": {},
   "outputs": [],
   "source": [
    "disp_traj(0, traj_inp[8], traj_out[8], out[8].detach())"
   ]
  }
 ],
 "metadata": {
  "kernelspec": {
   "display_name": "Python 3",
   "language": "python",
   "name": "python3"
  },
  "language_info": {
   "codemirror_mode": {
    "name": "ipython",
    "version": 3
   },
   "file_extension": ".py",
   "mimetype": "text/x-python",
   "name": "python",
   "nbconvert_exporter": "python",
   "pygments_lexer": "ipython3",
   "version": "3.8.5"
  }
 },
 "nbformat": 4,
 "nbformat_minor": 4
}
