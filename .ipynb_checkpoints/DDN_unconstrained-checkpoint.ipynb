{
 "cells": [
  {
   "cell_type": "code",
   "execution_count": 115,
   "metadata": {},
   "outputs": [],
   "source": [
    "import os\n",
    "import sys\n",
    "sys.path.append(\"./ddn/\")\n",
    "sys.path.append(\"./\")\n",
    "import warnings\n",
    "warnings.filterwarnings('ignore')\n",
    "\n",
    "import torch\n",
    "import numpy as np\n",
    "import scipy.special\n",
    "import torch.nn as nn\n",
    "import torch.nn.functional as F\n",
    "import matplotlib.pyplot as plt\n",
    "\n",
    "from scipy.linalg import block_diag\n",
    "from torch.utils.data import Dataset, DataLoader\n",
    "#from bernstein import bernstesin_coeff_order10_new\n",
    "from utils import *\n",
    "from ddn.pytorch.node import AbstractDeclarativeNode"
   ]
  },
  {
   "cell_type": "code",
   "execution_count": 116,
   "metadata": {},
   "outputs": [
    {
     "name": "stdout",
     "output_type": "stream",
     "text": [
      "Requirement already satisfied: pandas in /home/vikrant/.local/lib/python3.8/site-packages (1.2.4)\n",
      "Requirement already satisfied: python-dateutil>=2.7.3 in /usr/lib/python3/dist-packages (from pandas) (2.7.3)\n",
      "Requirement already satisfied: pytz>=2017.3 in /usr/lib/python3/dist-packages (from pandas) (2019.3)\n",
      "Requirement already satisfied: numpy>=1.16.5 in /home/vikrant/.local/lib/python3.8/site-packages (from pandas) (1.19.5)\n"
     ]
    }
   ],
   "source": [
    "!TMPDIR=/home/vikrant pip install --cache-dir=/home/vikrant/ --build /home/vikrant/ pandas"
   ]
  },
  {
   "cell_type": "markdown",
   "metadata": {},
   "source": [
    "#### CUDA Initializations"
   ]
  },
  {
   "cell_type": "code",
   "execution_count": 117,
   "metadata": {},
   "outputs": [
    {
     "name": "stdout",
     "output_type": "stream",
     "text": [
      "Using cpu device\n"
     ]
    }
   ],
   "source": [
    "device = 'cuda' if torch.cuda.is_available() else 'cpu'\n",
    "print('Using {} device'.format(device))"
   ]
  },
  {
   "cell_type": "code",
   "execution_count": 118,
   "metadata": {},
   "outputs": [],
   "source": [
    "def bernstein_coeff_order10_new(n, tmin, tmax, t_actual):\n",
    "    l = tmax - tmin\n",
    "    t = (t_actual - tmin) / l\n",
    "\n",
    "    P0 = scipy.special.binom(n, 0) * ((1 - t) ** (n - 0)) * t ** 0\n",
    "    P1 = scipy.special.binom(n, 1) * ((1 - t) ** (n - 1)) * t ** 1\n",
    "    P2 = scipy.special.binom(n, 2) * ((1 - t) ** (n - 2)) * t ** 2\n",
    "    P3 = scipy.special.binom(n, 3) * ((1 - t) ** (n - 3)) * t ** 3\n",
    "    P4 = scipy.special.binom(n, 4) * ((1 - t) ** (n - 4)) * t ** 4\n",
    "    P5 = scipy.special.binom(n, 5) * ((1 - t) ** (n - 5)) * t ** 5\n",
    "    P6 = scipy.special.binom(n, 6) * ((1 - t) ** (n - 6)) * t ** 6\n",
    "    P7 = scipy.special.binom(n, 7) * ((1 - t) ** (n - 7)) * t ** 7\n",
    "    P8 = scipy.special.binom(n, 8) * ((1 - t) ** (n - 8)) * t ** 8\n",
    "    P9 = scipy.special.binom(n, 9) * ((1 - t) ** (n - 9)) * t ** 9\n",
    "    P10 = scipy.special.binom(n, 10) * ((1 - t) ** (n - 10)) * t ** 10\n",
    "\n",
    "    P0dot = -10.0 * (-t + 1) ** 9\n",
    "    P1dot = -90.0 * t * (-t + 1) ** 8 + 10.0 * (-t + 1) ** 9\n",
    "    P2dot = -360.0 * t ** 2 * (-t + 1) ** 7 + 90.0 * t * (-t + 1) ** 8\n",
    "    P3dot = -840.0 * t ** 3 * (-t + 1) ** 6 + 360.0 * t ** 2 * (-t + 1) ** 7\n",
    "    P4dot = -1260.0 * t ** 4 * (-t + 1) ** 5 + 840.0 * t ** 3 * (-t + 1) ** 6\n",
    "    P5dot = -1260.0 * t ** 5 * (-t + 1) ** 4 + 1260.0 * t ** 4 * (-t + 1) ** 5\n",
    "    P6dot = -840.0 * t ** 6 * (-t + 1) ** 3 + 1260.0 * t ** 5 * (-t + 1) ** 4\n",
    "    P7dot = -360.0 * t ** 7 * (-t + 1) ** 2 + 840.0 * t ** 6 * (-t + 1) ** 3\n",
    "    P8dot = 45.0 * t ** 8 * (2 * t - 2) + 360.0 * t ** 7 * (-t + 1) ** 2\n",
    "    P9dot = -10.0 * t ** 9 + 9 * t ** 8 * (-10.0 * t + 10.0)\n",
    "    P10dot = 10.0 * t ** 9\n",
    "\n",
    "    P0ddot = 90.0 * (-t + 1) ** 8\n",
    "    P1ddot = 720.0 * t * (-t + 1) ** 7 - 180.0 * (-t + 1) ** 8\n",
    "    P2ddot = 2520.0 * t ** 2 * (-t + 1) ** 6 - 1440.0 * t * (-t + 1) ** 7 + 90.0 * (-t + 1) ** 8\n",
    "    P3ddot = 5040.0 * t ** 3 * (-t + 1) ** 5 - 5040.0 * t ** 2 * (-t + 1) ** 6 + 720.0 * t * (-t + 1) ** 7\n",
    "    P4ddot = 6300.0 * t ** 4 * (-t + 1) ** 4 - 10080.0 * t ** 3 * (-t + 1) ** 5 + 2520.0 * t ** 2 * (-t + 1) ** 6\n",
    "    P5ddot = 5040.0 * t ** 5 * (-t + 1) ** 3 - 12600.0 * t ** 4 * (-t + 1) ** 4 + 5040.0 * t ** 3 * (-t + 1) ** 5\n",
    "    P6ddot = 2520.0 * t ** 6 * (-t + 1) ** 2 - 10080.0 * t ** 5 * (-t + 1) ** 3 + 6300.0 * t ** 4 * (-t + 1) ** 4\n",
    "    P7ddot = -360.0 * t ** 7 * (2 * t - 2) - 5040.0 * t ** 6 * (-t + 1) ** 2 + 5040.0 * t ** 5 * (-t + 1) ** 3\n",
    "    P8ddot = 90.0 * t ** 8 + 720.0 * t ** 7 * (2 * t - 2) + 2520.0 * t ** 6 * (-t + 1) ** 2\n",
    "    P9ddot = -180.0 * t ** 8 + 72 * t ** 7 * (-10.0 * t + 10.0)\n",
    "    P10ddot = 90.0 * t ** 8\n",
    "    90.0 * t ** 8\n",
    "\n",
    "    P = np.hstack((P0, P1, P2, P3, P4, P5, P6, P7, P8, P9, P10))\n",
    "    Pdot = np.hstack((P0dot, P1dot, P2dot, P3dot, P4dot, P5dot, P6dot, P7dot, P8dot, P9dot, P10dot)) / l\n",
    "    Pddot = np.hstack((P0ddot, P1ddot, P2ddot, P3ddot, P4ddot, P5ddot, P6ddot, P7ddot, P8ddot, P9ddot, P10ddot)) / (l ** 2)\n",
    "    return P, Pdot, Pddot"
   ]
  },
  {
   "cell_type": "code",
   "execution_count": 146,
   "metadata": {},
   "outputs": [],
   "source": [
    "def plot_traj(cnt, traj_inp, traj_out, traj_pred, obs):\n",
    "    traj_inp = traj_inp.numpy()[:2*num]\n",
    "    traj_out = traj_out.numpy()\n",
    "    traj_pred = traj_pred.detach().numpy()\n",
    "    \n",
    "    fig, ax = plt.subplots(1, 1, figsize=(6, 6))\n",
    "    ax.scatter(traj_inp[::2], traj_inp[1::2], label='Inp traj')\n",
    "    ax.scatter(traj_out[:num], traj_out[num:], label='GT')\n",
    "    ax.scatter(traj_pred[:num], traj_pred[num:], label='Pred')\n",
    "#     ax.scatter(obs[\"x\"], obs[\"y\"], s=20, label=\"Obstacles\")\n",
    "    \n",
    "    x_obs_temp = obs[\"x\"]\n",
    "    y_obs_temp = obs[\"y\"]\n",
    "    \n",
    "    th = np.linspace(0, 2 * np.pi, 100)\n",
    "    for i in range(0, num_obs):\n",
    "        x_circ = x_obs_temp[i] + a_obs * np.cos(th)\n",
    "        y_circ = y_obs_temp[i] + b_obs * np.sin(th)\n",
    "        ax.plot(x_circ, y_circ, '-k')\n",
    "    \n",
    "    ax.legend()\n",
    "    ax.set_xlim([-7, 7])\n",
    "    ax.set_ylim([-7, 7])\n",
    "    plt.savefig('./results/{}.png'.format(cnt))\n",
    "    plt.close()"
   ]
  },
  {
   "cell_type": "code",
   "execution_count": 120,
   "metadata": {},
   "outputs": [],
   "source": [
    "# rho_obs = 0.3\n",
    "rho_obs = 1.2\n",
    "rho_eq = 10.0\n",
    "weight_smoothness = 10"
   ]
  },
  {
   "cell_type": "code",
   "execution_count": 121,
   "metadata": {},
   "outputs": [],
   "source": [
    "num = 10\n",
    "t_fin = 2\n",
    "a_obs = 1.0\n",
    "b_obs = 1.0\n",
    "\n",
    "tot_time = np.linspace(0.0, t_fin, num)\n",
    "tot_time_copy = tot_time.reshape(num, 1)\n",
    "P, Pdot, Pddot = bernstein_coeff_order10_new(10, tot_time_copy[0], tot_time_copy[-1], tot_time_copy)\n",
    "nvar = np.shape(P)[1]"
   ]
  },
  {
   "cell_type": "code",
   "execution_count": 167,
   "metadata": {},
   "outputs": [
    {
     "data": {
      "text/plain": [
       "array([[-2. , -2. , -2. , -2. , -2. , -2. , -2. , -2. , -2. , -2. ],\n",
       "       [ 2. ,  2. ,  2. ,  2. ,  2. ,  2. ,  2. ,  2. ,  2. ,  2. ],\n",
       "       [-0.8, -0.8, -0.8, -0.8, -0.8, -0.8, -0.8, -0.8, -0.8, -0.8],\n",
       "       [ 2. ,  2. ,  2. ,  2. ,  2. ,  2. ,  2. ,  2. ,  2. ,  2. ]])"
      ]
     },
     "execution_count": 167,
     "metadata": {},
     "output_type": "execute_result"
    }
   ],
   "source": [
    "# x_obs_temp = np.hstack((-10.0, -10.79, -10, -10))\n",
    "# y_obs_temp = np.hstack((10.0, 15.0, 15, 15))\n",
    "x_obs_temp = np.hstack((-2.0, -5.79, 3.0, 4.0))\n",
    "y_obs_temp = np.hstack((-2.0, 2.0, -0.80, 2.0))\n",
    "num_obs = np.shape(x_obs_temp)[0]\n",
    "\n",
    "x_obs = np.ones((num_obs, num)) * x_obs_temp[:, np.newaxis]\n",
    "y_obs = np.ones((num_obs, num)) * y_obs_temp[:, np.newaxis]\n",
    "x_obs\n",
    "y_obs"
   ]
  },
  {
   "cell_type": "code",
   "execution_count": 168,
   "metadata": {},
   "outputs": [
    {
     "data": {
      "text/plain": [
       "array([-2.  , -2.  ,  1.  , -5.79,  2.  ,  1.  ,  3.  , -0.8 ,  1.  ,\n",
       "        4.  ,  2.  ,  1.  ])"
      ]
     },
     "execution_count": 168,
     "metadata": {},
     "output_type": "execute_result"
    }
   ],
   "source": [
    "obs_inp_list = []\n",
    "for i in range(num_obs):\n",
    "    obs_inp_list.extend([x_obs_temp[i], y_obs_temp[i], a_obs])\n",
    "\n",
    "obs_inp = np.array(obs_inp_list)\n",
    "obs_inp"
   ]
  },
  {
   "cell_type": "code",
   "execution_count": 169,
   "metadata": {},
   "outputs": [],
   "source": [
    "A_obs = np.tile(P, (num_obs, 1))\n",
    "A_eq = np.vstack((P[0], Pdot[0], Pddot[0], P[-1], Pdot[-1], Pddot[-1]))\n",
    "Q_smoothness = np.dot(Pddot.T, Pddot)"
   ]
  },
  {
   "cell_type": "code",
   "execution_count": 125,
   "metadata": {},
   "outputs": [],
   "source": [
    "# A_obs"
   ]
  },
  {
   "cell_type": "code",
   "execution_count": 126,
   "metadata": {},
   "outputs": [],
   "source": [
    "#plot({\"x\":x, \"y\":y}, {\"x\":x_obs_temp, \"y\":y_obs_temp})"
   ]
  },
  {
   "cell_type": "code",
   "execution_count": 170,
   "metadata": {},
   "outputs": [],
   "source": [
    "class OPTNode(AbstractDeclarativeNode):\n",
    "    def __init__(self, P, Pddot, A_eq, A_obs, Q_smoothness, x_obs, y_obs, num=12, num_obs=4, nvar=11, a_obs=1.0, b_obs=1.0, rho_obs=0.3, rho_eq=10.0, weight_smoothness=10, maxiter=300, eps=1e-7, num_tot=48):\n",
    "        super().__init__()\n",
    "        self.P = torch.tensor(P, dtype=torch.double).to(device)\n",
    "        self.Pddot = torch.tensor(Pddot, dtype=torch.double).to(device)\n",
    "        self.A_eq = torch.tensor(A_eq, dtype=torch.double).to(device)\n",
    "        self.A_obs = torch.tensor(A_obs, dtype=torch.double).to(device)\n",
    "        self.Q_smoothness = torch.tensor(Q_smoothness, dtype=torch.double).to(device)\n",
    "        self.x_obs = torch.tensor(x_obs, dtype=torch.double).to(device)\n",
    "        self.y_obs = torch.tensor(y_obs, dtype=torch.double).to(device)\n",
    "        \n",
    "        self.num = num\n",
    "        self.num_obs = num_obs\n",
    "        self.eps = eps\n",
    "        self.nvar = nvar        \n",
    "        self.a_obs = a_obs\n",
    "        self.b_obs = b_obs        \n",
    "        self.rho_eq = rho_eq\n",
    "        self.num_obs = num_obs\n",
    "        self.maxiter = maxiter\n",
    "        self.num_tot = num_tot\n",
    "        self.rho_obs = rho_obs\n",
    "        self.weight_smoothness = weight_smoothness\n",
    "        \n",
    "    def objective(self, b, lamda_x, lamda_y, y):  \n",
    "        batch_size, _ = b.size()\n",
    "        b = b.transpose(0, 1)\n",
    "        y = y.transpose(0, 1)\n",
    "        lamda_x = lamda_x.transpose(0, 1)\n",
    "        lamda_y = lamda_y.transpose(0, 1)\n",
    "        bx_eq_tensor, by_eq_tensor = torch.split(b, 6, dim=0)\n",
    "        ones_tensor = torch.ones(self.num_tot, batch_size, dtype=torch.double).to(device)\n",
    "\n",
    "        c_x = y[0:self.nvar]\n",
    "        c_y = y[self.nvar:2 * self.nvar]\n",
    "        alpha_obs = y[2 * self.nvar: 2 * self.nvar + self.num_tot]\n",
    "        d_obs = y[2 * self.nvar + self.num_tot:]\n",
    "\n",
    "        cost_smoothness_x = 0.5 * self.weight_smoothness * torch.diag(torch.matmul(c_x.T, torch.matmul(self.Q_smoothness, c_x)))\n",
    "        cost_smoothness_y = 0.5 * self.weight_smoothness * torch.diag(torch.matmul(c_y.T, torch.matmul(self.Q_smoothness, c_y)))\n",
    "\n",
    "        temp_x_obs = d_obs * torch.cos(alpha_obs) * self.a_obs\n",
    "        b_obs_x = self.x_obs.view(-1, 1) + temp_x_obs\n",
    "\n",
    "        temp_y_obs = d_obs * torch.sin(alpha_obs) * self.b_obs\n",
    "        b_obs_y = self.y_obs.view(-1, 1) + temp_y_obs\n",
    "\n",
    "        cost_obs_x = 0.5 * self.rho_obs * (torch.sum((torch.matmul(self.A_obs, c_x) - b_obs_x) ** 2, axis=0))\n",
    "        cost_obs_y = 0.5 * self.rho_obs * (torch.sum((torch.matmul(self.A_obs, c_y) - b_obs_y) ** 2, axis=0))\n",
    "        cost_slack = self.rho_obs * torch.sum(torch.max(1 - d_obs, ones_tensor), axis=0)\n",
    "\n",
    "        cost_eq_x = 0.5 * self.rho_eq * torch.sum((torch.matmul(self.A_eq, c_x) - bx_eq_tensor) ** 2, axis=0)\n",
    "        cost_eq_y = 0.5 * self.rho_eq * torch.sum((torch.matmul(self.A_eq, c_y) - by_eq_tensor) ** 2, axis=0)\n",
    "\n",
    "        cost_x = cost_smoothness_x + cost_obs_x + cost_eq_x - torch.diag(torch.matmul(lamda_x.transpose(0, 1), c_x))\n",
    "        cost_y = cost_smoothness_y + cost_obs_y + cost_eq_y - torch.diag(torch.matmul(lamda_y.transpose(0, 1), c_y))\n",
    "        cost = cost_x + cost_y + self.eps * torch.sum(c_x ** 2, axis=0) + self.eps * torch.sum(c_y ** 2, axis=0) + self.eps * torch.sum(d_obs ** 2, axis=0) + self.eps * torch.sum(alpha_obs ** 2, axis=0) + cost_slack\n",
    "        return cost\n",
    "    \n",
    "    def optimize_lang(self, b, lamda_x, lamda_y):\n",
    "        bx_eq_tensor, by_eq_tensor = torch.split(b, 6, dim=0)\n",
    "        \n",
    "        d_obs = torch.ones(self.num_obs, self.num, dtype=torch.double).to(device)\n",
    "        alpha_obs = torch.zeros(self.num_obs, self.num, dtype=torch.double).to(device)\n",
    "        ones_tensor = torch.ones((self.num_obs, self.num), dtype=torch.double).to(device)\n",
    "        cost_smoothness = self.weight_smoothness * torch.matmul(self.Pddot.T, self.Pddot)\n",
    "        cost = cost_smoothness + self.rho_obs * torch.matmul(self.A_obs.T, self.A_obs) + self.rho_eq * torch.matmul(self.A_eq.T, self.A_eq)\n",
    "\n",
    "        for i in range(self.maxiter):\n",
    "            temp_x_obs = d_obs * torch.cos(alpha_obs) * self.a_obs\n",
    "            temp_y_obs = d_obs * torch.sin(alpha_obs) * self.b_obs\n",
    "\n",
    "            b_obs_x = self.x_obs.view(self.num * self.num_obs) + temp_x_obs.view(self.num * self.num_obs)\n",
    "            b_obs_y = self.y_obs.view(self.num * self.num_obs) + temp_y_obs.view(self.num * self.num_obs)\n",
    "\n",
    "            lincost_x = -lamda_x - self.rho_obs * torch.matmul(self.A_obs.T, b_obs_x) - self.rho_eq * torch.matmul(self.A_eq.T, bx_eq_tensor)\n",
    "            lincost_y = -lamda_y - self.rho_obs * torch.matmul(self.A_obs.T, b_obs_y) - self.rho_eq * torch.matmul(self.A_eq.T, by_eq_tensor)\n",
    "\n",
    "            lincost_x = lincost_x.view(-1, 1)\n",
    "            lincost_y = lincost_y.view(-1, 1)\n",
    "\n",
    "            sol_x, _ = torch.solve(lincost_x, -cost)\n",
    "            sol_y, _ = torch.solve(lincost_y, -cost)\n",
    "\n",
    "            sol_x = sol_x.view(-1)\n",
    "            sol_y = sol_y.view(-1)\n",
    "\n",
    "            x = torch.matmul(self.P, sol_x)\n",
    "            y = torch.matmul(self.P, sol_y)\n",
    "\n",
    "            wc_alpha = x - self.x_obs\n",
    "            ws_alpha = y - self.y_obs\n",
    "            alpha_obs = torch.atan2(ws_alpha * self.a_obs, wc_alpha * self.b_obs)\n",
    "\n",
    "            c1_d = self.rho_obs * (self.a_obs ** 2 * torch.cos(alpha_obs) ** 2 + self.b_obs ** 2 * torch.sin(alpha_obs) ** 2)\n",
    "            c2_d = self.rho_obs * (self.a_obs * wc_alpha * torch.cos(alpha_obs) + self.b_obs * ws_alpha * torch.sin(alpha_obs))\n",
    "            d_temp = c2_d / c1_d\n",
    "            d_obs = torch.max(d_temp, ones_tensor)\n",
    "\n",
    "            res_x_obs_vec = wc_alpha - self.a_obs * d_obs * torch.cos(alpha_obs)\n",
    "            res_y_obs_vec = ws_alpha - self.b_obs * d_obs * torch.sin(alpha_obs)\n",
    "\n",
    "            res_eq_x_vec = torch.matmul(self.A_eq, sol_x) - bx_eq_tensor\n",
    "            res_eq_y_vec = torch.matmul(self.A_eq, sol_y) - by_eq_tensor\n",
    "\n",
    "            lamda_x -= self.rho_obs * torch.matmul(self.A_obs.T, res_x_obs_vec.view(-1)) + self.rho_eq * torch.matmul(self.A_eq.T, res_eq_x_vec)\n",
    "            lamda_y -= self.rho_obs * torch.matmul(self.A_obs.T, res_y_obs_vec.view(-1)) + self.rho_eq * torch.matmul(self.A_eq.T, res_eq_y_vec)\n",
    "\n",
    "        sol = torch.cat([sol_x, sol_y, alpha_obs.view(-1), d_obs.view(-1)])\n",
    "        return sol\n",
    "    \n",
    "    def optimize_lang(self, b, lamda_x, lamda_y):\n",
    "        bx_eq_tensor, by_eq_tensor = torch.split(b, 6, dim=0)\n",
    "        \n",
    "        d_obs = torch.ones(self.num_obs, self.num, dtype=torch.double).to(device)\n",
    "        alpha_obs = torch.zeros(self.num_obs, self.num, dtype=torch.double).to(device)\n",
    "        ones_tensor = torch.ones((self.num_obs, self.num), dtype=torch.double).to(device)\n",
    "        cost_smoothness = self.weight_smoothness * torch.matmul(self.Pddot.T, self.Pddot)\n",
    "        cost = cost_smoothness + self.rho_obs * torch.matmul(self.A_obs.T, self.A_obs) + self.rho_eq * torch.matmul(self.A_eq.T, self.A_eq)\n",
    "\n",
    "        for i in range(self.maxiter):\n",
    "            temp_x_obs = d_obs * torch.cos(alpha_obs) * self.a_obs\n",
    "            temp_y_obs = d_obs * torch.sin(alpha_obs) * self.b_obs\n",
    "\n",
    "            b_obs_x = self.x_obs.view(self.num * self.num_obs) + temp_x_obs.view(self.num * self.num_obs)\n",
    "            b_obs_y = self.y_obs.view(self.num * self.num_obs) + temp_y_obs.view(self.num * self.num_obs)\n",
    "\n",
    "            lincost_x = -lamda_x - self.rho_obs * torch.matmul(self.A_obs.T, b_obs_x) - self.rho_eq * torch.matmul(self.A_eq.T, bx_eq_tensor)\n",
    "            lincost_y = -lamda_y - self.rho_obs * torch.matmul(self.A_obs.T, b_obs_y) - self.rho_eq * torch.matmul(self.A_eq.T, by_eq_tensor)\n",
    "\n",
    "            lincost_x = lincost_x.view(-1, 1)\n",
    "            lincost_y = lincost_y.view(-1, 1)\n",
    "\n",
    "            sol_x, _ = torch.solve(lincost_x, -cost)\n",
    "            sol_y, _ = torch.solve(lincost_y, -cost)\n",
    "\n",
    "            sol_x = sol_x.view(-1)\n",
    "            sol_y = sol_y.view(-1)\n",
    "\n",
    "            x = torch.matmul(self.P, sol_x)\n",
    "            y = torch.matmul(self.P, sol_y)\n",
    "\n",
    "            wc_alpha = x - self.x_obs\n",
    "            ws_alpha = y - self.y_obs\n",
    "            alpha_obs = torch.atan2(ws_alpha * self.a_obs, wc_alpha * self.b_obs)\n",
    "\n",
    "            c1_d = self.rho_obs * (self.a_obs ** 2 * torch.cos(alpha_obs) ** 2 + self.b_obs ** 2 * torch.sin(alpha_obs) ** 2)\n",
    "            c2_d = self.rho_obs * (self.a_obs * wc_alpha * torch.cos(alpha_obs) + self.b_obs * ws_alpha * torch.sin(alpha_obs))\n",
    "            d_temp = c2_d / c1_d\n",
    "            d_obs = torch.max(d_temp, ones_tensor)\n",
    "\n",
    "            res_x_obs_vec = wc_alpha - self.a_obs * d_obs * torch.cos(alpha_obs)\n",
    "            res_y_obs_vec = ws_alpha - self.b_obs * d_obs * torch.sin(alpha_obs)\n",
    "\n",
    "            res_eq_x_vec = torch.matmul(self.A_eq, sol_x) - bx_eq_tensor\n",
    "            res_eq_y_vec = torch.matmul(self.A_eq, sol_y) - by_eq_tensor\n",
    "\n",
    "            lamda_x -= self.rho_obs * torch.matmul(self.A_obs.T, res_x_obs_vec.view(-1)) + self.rho_eq * torch.matmul(self.A_eq.T, res_eq_x_vec)\n",
    "            lamda_y -= self.rho_obs * torch.matmul(self.A_obs.T, res_y_obs_vec.view(-1)) + self.rho_eq * torch.matmul(self.A_eq.T, res_eq_y_vec)\n",
    "\n",
    "        sol = torch.cat([sol_x, sol_y, alpha_obs.view(-1), d_obs.view(-1)])\n",
    "        return sol    \n",
    "\n",
    "    def optimize_qp(self, b, lamda_x, lamda_y):\n",
    "        bx_eq_tensor, by_eq_tensor = torch.split(b, 6, dim=0)\n",
    "        \n",
    "        d_obs = torch.ones(self.num_obs, self.num, dtype=torch.double).to(device)\n",
    "        alpha_obs = torch.zeros(self.num_obs, self.num, dtype=torch.double).to(device)\n",
    "        ones_tensor = torch.ones((self.num_obs, self.num), dtype=torch.double).to(device)\n",
    "        cost_smoothness = self.weight_smoothness * torch.matmul(self.Pddot.T, self.Pddot)\n",
    "        cost = cost_smoothness + self.rho_obs * torch.matmul(self.A_obs.T, self.A_obs) + self.rho_eq * torch.matmul(self.A_eq.T, self.A_eq)\n",
    "\n",
    "        for i in range(self.maxiter):\n",
    "            temp_x_obs = d_obs * torch.cos(alpha_obs) * self.a_obs\n",
    "            temp_y_obs = d_obs * torch.sin(alpha_obs) * self.b_obs\n",
    "\n",
    "            b_obs_x = self.x_obs.view(self.num * self.num_obs) + temp_x_obs.view(self.num * self.num_obs)\n",
    "            b_obs_y = self.y_obs.view(self.num * self.num_obs) + temp_y_obs.view(self.num * self.num_obs)\n",
    "\n",
    "            lincost_x = -lamda_x - self.rho_obs * torch.matmul(self.A_obs.T, b_obs_x) - self.rho_eq * torch.matmul(self.A_eq.T, bx_eq_tensor)\n",
    "            lincost_y = -lamda_y - self.rho_obs * torch.matmul(self.A_obs.T, b_obs_y) - self.rho_eq * torch.matmul(self.A_eq.T, by_eq_tensor)\n",
    "\n",
    "            lincost_x = lincost_x.view(-1, 1)\n",
    "            lincost_y = lincost_y.view(-1, 1)\n",
    "\n",
    "            sol_x, _ = torch.solve(lincost_x, -cost)\n",
    "            sol_y, _ = torch.solve(lincost_y, -cost)\n",
    "\n",
    "            sol_x = sol_x.view(-1)\n",
    "            sol_y = sol_y.view(-1)\n",
    "\n",
    "            x = torch.matmul(self.P, sol_x)\n",
    "            y = torch.matmul(self.P, sol_y)\n",
    "\n",
    "            wc_alpha = x - self.x_obs\n",
    "            ws_alpha = y - self.y_obs\n",
    "            alpha_obs = torch.atan2(ws_alpha * self.a_obs, wc_alpha * self.b_obs)\n",
    "\n",
    "            c1_d = self.rho_obs * (self.a_obs ** 2 * torch.cos(alpha_obs) ** 2 + self.b_obs ** 2 * torch.sin(alpha_obs) ** 2)\n",
    "            c2_d = self.rho_obs * (self.a_obs * wc_alpha * torch.cos(alpha_obs) + self.b_obs * ws_alpha * torch.sin(alpha_obs))\n",
    "            d_temp = c2_d / c1_d\n",
    "            d_obs = torch.max(d_temp, ones_tensor)\n",
    "\n",
    "            res_x_obs_vec = wc_alpha - self.a_obs * d_obs * torch.cos(alpha_obs)\n",
    "            res_y_obs_vec = ws_alpha - self.b_obs * d_obs * torch.sin(alpha_obs)\n",
    "\n",
    "            res_eq_x_vec = torch.matmul(self.A_eq, sol_x) - bx_eq_tensor\n",
    "            res_eq_y_vec = torch.matmul(self.A_eq, sol_y) - by_eq_tensor\n",
    "\n",
    "            lamda_x -= self.rho_obs * torch.matmul(self.A_obs.T, res_x_obs_vec.view(-1)) + self.rho_eq * torch.matmul(self.A_eq.T, res_eq_x_vec)\n",
    "            lamda_y -= self.rho_obs * torch.matmul(self.A_obs.T, res_y_obs_vec.view(-1)) + self.rho_eq * torch.matmul(self.A_eq.T, res_eq_y_vec)\n",
    "\n",
    "        sol = torch.cat([sol_x, sol_y, alpha_obs.view(-1), d_obs.view(-1)])\n",
    "        return sol    \n",
    "    \n",
    "    def solve(self, b, lamda_x, lamda_y):\n",
    "        batch_size, _ = b.size()\n",
    "        b = b.transpose(0, 1)\n",
    "        lamda_x = lamda_x.transpose(0, 1)\n",
    "        lamda_y = lamda_y.transpose(0, 1)\n",
    "        y = torch.zeros(batch_size, 2 * self.nvar + 2 * self.num_tot, dtype=torch.double).to(device)\n",
    "        for i in range(batch_size):\n",
    "            b_cur = b[:, i]\n",
    "            lamda_x_cur = lamda_x[:, i]\n",
    "            lamda_y_cur = lamda_y[:, i]\n",
    "            sol = self.optimize(b_cur, lamda_x_cur, lamda_y_cur)\n",
    "            y[i, :] = sol\n",
    "        return y, None"
   ]
  },
  {
   "cell_type": "code",
   "execution_count": 171,
   "metadata": {},
   "outputs": [],
   "source": [
    "import cvxopt\n",
    "class OPTNodee(AbstractDeclarativeNode):\n",
    "    def __init__(self, P, Pddot, A_eq, A_obs, Q_smoothness, x_obs, y_obs, num=12, num_obs=4, nvar=11, a_obs=1.0, b_obs=1.0, rho_obs=0.3, rho_eq=10.0, weight_smoothness=10, maxiter=300, eps=1e-7, num_tot=48):\n",
    "        super().__init__()\n",
    "        self.P = torch.tensor(P, dtype=torch.double).to(device)\n",
    "        self.Pddot = torch.tensor(Pddot, dtype=torch.double).to(device)\n",
    "        self.A_eq = torch.tensor(A_eq, dtype=torch.double).to(device)\n",
    "        self.A_obs = torch.tensor(A_obs, dtype=torch.double).to(device)\n",
    "        self.Q_smoothness = torch.tensor(Q_smoothness, dtype=torch.double).to(device)\n",
    "        self.x_obs = torch.tensor(x_obs, dtype=torch.double).to(device)\n",
    "        self.y_obs = torch.tensor(y_obs, dtype=torch.double).to(device)\n",
    "        \n",
    "        self.num = num\n",
    "        self.num_obs = num_obs\n",
    "        self.eps = eps\n",
    "        self.nvar = nvar        \n",
    "        self.a_obs = a_obs\n",
    "        self.b_obs = b_obs        \n",
    "        self.rho_eq = rho_eq\n",
    "        self.num_obs = num_obs\n",
    "        self.maxiter = maxiter\n",
    "        self.num_tot = num_tot\n",
    "        self.rho_obs = rho_obs\n",
    "        self.weight_smoothness = weight_smoothness\n",
    "        \n",
    "    def objective(self, b, lamda_x, lamda_y, y):  \n",
    "        batch_size, _ = b.size()\n",
    "        b = b.transpose(0, 1)\n",
    "        y = y.transpose(0, 1)\n",
    "        lamda_x = lamda_x.transpose(0, 1)\n",
    "        lamda_y = lamda_y.transpose(0, 1)\n",
    "        bx_eq_tensor, by_eq_tensor = torch.split(b, 6, dim=0)\n",
    "        ones_tensor = torch.ones(self.num_tot, batch_size, dtype=torch.double).to(device)\n",
    "\n",
    "        c_x = y[0:self.nvar]\n",
    "        c_y = y[self.nvar:2 * self.nvar]\n",
    "        alpha_obs = y[2 * self.nvar: 2 * self.nvar + self.num_tot]\n",
    "        d_obs = y[2 * self.nvar + self.num_tot:]\n",
    "\n",
    "        cost_smoothness_x = 0.5 * self.weight_smoothness * torch.diag(torch.matmul(c_x.T, torch.matmul(self.Q_smoothness, c_x)))\n",
    "        cost_smoothness_y = 0.5 * self.weight_smoothness * torch.diag(torch.matmul(c_y.T, torch.matmul(self.Q_smoothness, c_y)))\n",
    "\n",
    "        temp_x_obs = d_obs * torch.cos(alpha_obs) * self.a_obs\n",
    "        b_obs_x = self.x_obs.view(-1, 1) + temp_x_obs\n",
    "\n",
    "        temp_y_obs = d_obs * torch.sin(alpha_obs) * self.b_obs\n",
    "        b_obs_y = self.y_obs.view(-1, 1) + temp_y_obs\n",
    "\n",
    "        cost_obs_x = 0.5 * self.rho_obs * (torch.sum((torch.matmul(self.A_obs, c_x) - b_obs_x) ** 2, axis=0))\n",
    "        cost_obs_y = 0.5 * self.rho_obs * (torch.sum((torch.matmul(self.A_obs, c_y) - b_obs_y) ** 2, axis=0))\n",
    "        cost_slack = self.rho_obs * torch.sum(torch.max(1 - d_obs, ones_tensor), axis=0)\n",
    "\n",
    "        cost_eq_x = 0.5 * self.rho_eq * torch.sum((torch.matmul(self.A_eq, c_x) - bx_eq_tensor) ** 2, axis=0)\n",
    "        cost_eq_y = 0.5 * self.rho_eq * torch.sum((torch.matmul(self. A_eq, c_y) - by_eq_tensor) ** 2, axis=0)\n",
    "\n",
    "        cost_x = cost_smoothness_x + cost_obs_x + cost_eq_x\n",
    "        cost_y = cost_smoothness_y + cost_obs_y + cost_eq_y\n",
    "        cost = cost_x + cost_y + self.eps * torch.sum(c_x ** 2, axis=0) + self.eps * torch.sum(c_y ** 2, axis=0) + self.eps * torch.sum(d_obs ** 2, axis=0) + self.eps * torch.sum(alpha_obs ** 2, axis=0) + cost_slack\n",
    "        return cost\n",
    "\n",
    "    def optimize(self, b, lamda_x, lamda_y):\n",
    "        bx_eq_tensor, by_eq_tensor = torch.split(b, 6, dim=0)\n",
    "        \n",
    "        d_obs = torch.ones(self.num_obs, self.num, dtype=torch.double).to(device)\n",
    "        alpha_obs = torch.zeros(self.num_obs, self.num, dtype=torch.double).to(device)\n",
    "        ones_tensor = torch.ones((self.num_obs, self.num), dtype=torch.double).to(device)\n",
    "        cost_smoothness = self.weight_smoothness * torch.matmul(self.Pddot.T, self.Pddot)\n",
    "        cost = cost_smoothness + self.rho_obs * torch.matmul(self.A_obs.T, self.A_obs) + self.rho_eq * torch.matmul(self.A_eq.T, self.A_eq)\n",
    "\n",
    "        temp_x_obs = d_obs * torch.cos(alpha_obs) * self.a_obs\n",
    "        temp_y_obs = d_obs * torch.sin(alpha_obs) * self.b_obs\n",
    "\n",
    "        b_obs_x = self.x_obs.view(self.num * self.num_obs) + temp_x_obs.view(self.num * self.num_obs)\n",
    "        b_obs_y = self.y_obs.view(self.num * self.num_obs) + temp_y_obs.view(self.num * self.num_obs)        \n",
    "        \n",
    "        bx_eq_tensor, by_eq_tensor = torch.split(b, 6, dim=0)\n",
    "        \n",
    "#         + torch.matmul(self.A_obs.T, b_obs_x) + self.rho_eq * torch.matmul(self.A_eq.T, bx_eq_tensor)\n",
    "#          self.rho_obs * torch.matmul(self.A_obs.T, b_obs_y) - self.rho_eq * torch.matmul(self.A_eq.T, by_eq_tensor)        \n",
    "        \n",
    "#       A_eq = np.vstack((P[0], Pdot[0], Pddot[0], P[-1], Pdot[-1], Pddot[-1]))\n",
    "#       A_eq = np.vstack((A_eq, A_eq))\n",
    "#        A_obs = np.tile(P, (num_obs, 1))\n",
    "        b_eq = np.hstack((bx_eq_tensor, by_eq_tensor))\n",
    "        print(A_obs.shape)\n",
    "#         A_eq = np.vstack((P[0], Pdot[0], Pddot[0], P[-1], Pdot[-1], Pddot[-1]))\n",
    "        Q_obs = torch.matmul(self.A_obs.T, self.A_obs)\n",
    "        Q_eq = torch.matmul(self.A_eq.T, self.A_eq)\n",
    "        bx_obs = x_obs.reshape(num_obs * num)\n",
    "        by_obs = y_obs.reshape(num_obs * num)\n",
    "        qx_obs = torch.matmul(b_obs_x.T, self.A_obs) * 2\n",
    "        qy_obs = torch.matmul(b_obs_y.T, self.A_obs) * 2\n",
    "        qx_eq = torch.matmul(bx_eq_tensor.T, self.A_eq) * 2\n",
    "        qy_eq = torch.matmul(by_eq_tensor.T, self.A_eq) * 2\n",
    "        q = np.hstack((qx_eq, qy_eq))\n",
    "        print(Q_obs.shape)\n",
    "        AA_eq = cvxopt.matrix(self.A_eq, tc='d')\n",
    "        bx_eq = cvxopt.matrix(bx_eq_tensor, tc='d')\n",
    "        by_eq = cvxopt.matrix(by_eq_tensor, tc='d')\n",
    "        b_eq = cvxopt.matrix(b_eq, tc='d')\n",
    "        Q = cvxopt.matrix(cost, tc='d')\n",
    "        q_x = cvxopt.matrix(rho_obs * qx_obs + rho_eq * qx_eq)\n",
    "        q_y = cvxopt.matrix(rho_obs * qy_obs + rho_eq * qy_eq)\n",
    "        sol_x = solvers.qp(Q, q_x, None, None, AA_eq, bx_eq)\n",
    "        sol_x = torch.tensor(sol_x['x'])\n",
    "        sol_y = solvers.qp(Q, q_y, None, None, AA_eq, by_eq)\n",
    "        sol_y = torch.tensor(sol_y['x'])\n",
    "        sol = torch.cat([sol_x, sol_y, alpha_obs.view(-1), d_obs.view(-1)])\n",
    "        return sol\n",
    "\n",
    "    def solve(self, b, lamda_x, lamda_y):\n",
    "        batch_size, _ = b.size()\n",
    "        b = b.transpose(0, 1)\n",
    "        lamda_x = lamda_x.transpose(0, 1)\n",
    "        lamda_y = lamda_y.transpose(0, 1)\n",
    "        y = torch.zeros(batch_size, 2 * self.nvar + 2 * self.num_tot, dtype=torch.double).to(device)\n",
    "        for i in range(batch_size):\n",
    "            b_cur = b[:, i]\n",
    "            lamda_x_cur = lamda_x[:, i]\n",
    "            lamda_y_cur = lamda_y[:, i]\n",
    "            sol = self.optimize(b_cur, lamda_x_cur, lamda_y_cur)\n",
    "            y[i, :] = sol\n",
    "        return y, None"
   ]
  },
  {
   "cell_type": "markdown",
   "metadata": {},
   "source": [
    "#### PyTorch Declarative Function"
   ]
  },
  {
   "cell_type": "code",
   "execution_count": 172,
   "metadata": {},
   "outputs": [],
   "source": [
    "class OptFunction(torch.autograd.Function):\n",
    "    \"\"\"Generic declarative autograd function.\n",
    "    Defines the forward and backward functions. Saves all inputs and outputs,\n",
    "    which may be memory-inefficient for the specific problem.\n",
    "    \n",
    "    Assumptions:\n",
    "    * All inputs are PyTorch tensors\n",
    "    * All inputs have a single batch dimension (b, ...)\n",
    "    \"\"\"\n",
    "    @staticmethod\n",
    "    def forward(ctx, problem, *inputs):\n",
    "        output, solve_ctx = torch.no_grad()(problem.solve)(*inputs)\n",
    "        ctx.save_for_backward(output, *inputs)\n",
    "        ctx.problem = problem\n",
    "        ctx.solve_ctx = solve_ctx\n",
    "        return output.clone()\n",
    "\n",
    "    @staticmethod\n",
    "    def backward(ctx, grad_output):\n",
    "        output, *inputs = ctx.saved_tensors\n",
    "        problem = ctx.problem\n",
    "        solve_ctx = ctx.solve_ctx\n",
    "        output.requires_grad = True\n",
    "        inputs = tuple(inputs)\n",
    "        grad_inputs = problem.gradient(*inputs, y=output, v=grad_output,\n",
    "            ctx=solve_ctx)\n",
    "        return (None, *grad_inputs)"
   ]
  },
  {
   "cell_type": "markdown",
   "metadata": {},
   "source": [
    "#### PyTorch Declarative Layer"
   ]
  },
  {
   "cell_type": "code",
   "execution_count": 173,
   "metadata": {},
   "outputs": [],
   "source": [
    "class OptLayer(torch.nn.Module):\n",
    "    \"\"\"Generic declarative layer.\n",
    "    \n",
    "    Assumptions:\n",
    "    * All inputs are PyTorch tensors\n",
    "    * All inputs have a single batch dimension (b, ...)\n",
    "    Usage:\n",
    "        problem = <derived class of *DeclarativeNode>\n",
    "        declarative_layer = DeclarativeLayer(problem)\n",
    "        y = declarative_layer(x1, x2, ...)\n",
    "    \"\"\"\n",
    "    def __init__(self, problem):\n",
    "        super(OptLayer, self).__init__()\n",
    "        self.problem = problem\n",
    "        \n",
    "    def forward(self, *inputs):\n",
    "        return OptFunction.apply(self.problem, *inputs)"
   ]
  },
  {
   "cell_type": "markdown",
   "metadata": {},
   "source": [
    "#### TrajNet"
   ]
  },
  {
   "cell_type": "code",
   "execution_count": 174,
   "metadata": {},
   "outputs": [],
   "source": [
    "class TrajNet(nn.Module):\n",
    "    def __init__(self, opt_layer, P, input_size=16, hidden_size=64, output_size=12, nvar=11, t_obs=8):\n",
    "        super(TrajNet, self).__init__()\n",
    "        self.P = torch.tensor(P, dtype=torch.double).to(device)\n",
    "        self.nvar = nvar\n",
    "        self.t_obs = t_obs\n",
    "        self.linear1 = nn.Linear(input_size, hidden_size)\n",
    "        self.linear2 = nn.Linear(hidden_size, output_size)\n",
    "        self.opt_layer = opt_layer\n",
    "        self.activation = nn.ReLU()\n",
    "        self.mask = torch.tensor([[1.0, 1.0, 1.0, 0.0, 1.0, 1.0, 1.0, 1.0, 1.0, 0.0, 1.0, 1.0]], dtype=torch.double)\n",
    "    \n",
    "    def forward(self, x, b):\n",
    "        batch_size, _ = x.size()\n",
    "        out = self.activation(self.linear1(x))\n",
    "        b_pred = self.linear2(out)\n",
    "        b_gen = self.mask * b + (1 - self.mask) * b_pred\n",
    "        \n",
    "        # Run optimization\n",
    "        lamda_x = torch.zeros(batch_size, self.nvar, dtype=torch.double).to(device)\n",
    "        lamda_y = torch.zeros(batch_size, self.nvar, dtype=torch.double).to(device)\n",
    "        sol = self.opt_layer(b_gen, lamda_x, lamda_y)\n",
    "\n",
    "        # Compute final trajectory\n",
    "        x_pred = torch.matmul(self.P, sol[:, :self.nvar].transpose(0, 1))\n",
    "        y_pred = torch.matmul(self.P, sol[:, self.nvar:2*self.nvar].transpose(0, 1))\n",
    "        \n",
    "        x_pred = x_pred.transpose(0, 1)\n",
    "        y_pred = y_pred.transpose(0, 1)\n",
    "        out = torch.cat([x_pred, y_pred], dim=1)\n",
    "        #return out, sol, b_gen, lamda_x, lamda_y\n",
    "        return out"
   ]
  },
  {
   "cell_type": "code",
   "execution_count": 175,
   "metadata": {},
   "outputs": [],
   "source": [
    "opt_node = OPTNode(\n",
    "    P, \n",
    "    Pddot, \n",
    "    A_eq,\n",
    "    A_obs, \n",
    "    Q_smoothness, \n",
    "    x_obs,\n",
    "    y_obs,\n",
    "    num=num, \n",
    "    num_obs=num_obs, \n",
    "    nvar=nvar, \n",
    "    a_obs=a_obs, \n",
    "    b_obs=b_obs, \n",
    "    rho_obs=rho_obs, \n",
    "    rho_eq=rho_eq,\n",
    "    weight_smoothness=weight_smoothness, \n",
    "    maxiter=300, \n",
    "    eps=1e-7, \n",
    "    num_tot=num*num_obs\n",
    ")\n",
    "opt_layer = OptLayer(opt_node)"
   ]
  },
  {
   "cell_type": "code",
   "execution_count": 176,
   "metadata": {},
   "outputs": [],
   "source": [
    "model = TrajNet(opt_layer, P, 36)\n",
    "model = model.double()\n",
    "model = model.to(device)"
   ]
  },
  {
   "cell_type": "markdown",
   "metadata": {},
   "source": [
    "#### Model Testing"
   ]
  },
  {
   "cell_type": "code",
   "execution_count": 177,
   "metadata": {},
   "outputs": [],
   "source": [
    "x_inp = torch.randn(10, 66, dtype=torch.double)\n",
    "y_out = torch.randn(10, 50, dtype=torch.double)\n",
    "b_inp = torch.randn(10, 12, dtype=torch.double)"
   ]
  },
  {
   "cell_type": "code",
   "execution_count": 178,
   "metadata": {},
   "outputs": [
    {
     "name": "stdout",
     "output_type": "stream",
     "text": [
      "torch.Size([10, 66])\n"
     ]
    }
   ],
   "source": [
    "print(x_inp.shape)"
   ]
  },
  {
   "cell_type": "code",
   "execution_count": 136,
   "metadata": {},
   "outputs": [],
   "source": [
    "# out = model(x_inp, b_inp)\n",
    "# out.size()"
   ]
  },
  {
   "cell_type": "markdown",
   "metadata": {},
   "source": [
    "#### Trajectory DataLoader"
   ]
  },
  {
   "cell_type": "code",
   "execution_count": 179,
   "metadata": {},
   "outputs": [],
   "source": [
    "import pandas as pd\n",
    "class PedDataLoader(Dataset):    \n",
    "    def __init__(self, file_path, threshold=20):        \n",
    "        \"\"\"        \n",
    "            Takes the filepath of input zara dataset, and trajectory length threshold.        \n",
    "        \"\"\"        \n",
    "        self.df = pd.read_csv(file_path, sep='\\t', header=None, names=[\"Frame\", \"Agent\", \"x-pos\", \"y-pos\"]) \n",
    "        print(self.df)\n",
    "        self.data = []    \n",
    "        self.dt = 0.2\n",
    "        cnt = 0\n",
    "        for i in range(int(self.df[\"Agent\"].max())):              \n",
    "            self.data.append([])\n",
    "            cnt = cnt + 1\n",
    "            for row in self.df.itertuples():\n",
    "                if int(row[2] - 1) == i and isinstance(self.data[int(row[2]) - 1],list) == False:\n",
    "                    self.data[int(row[2] - 1)].append([])\n",
    "                if int(row[2] - 1) == i and 1 and len(self.data[int(row[2] - 1)]) <= threshold:\n",
    "                    self.data[int(row[2] - 1)].append([row[3], row[4]])\n",
    "        self.data = list(filter(lambda x: len(x)==threshold, self.data))    \n",
    "        print(np.array(self.data).shape)\n",
    "#         print(np.array(self.data))\n",
    "    def __len__(self):        \n",
    "        return len(self.data)                \n",
    "    \n",
    "    def __getitem__(self, ind):       \n",
    "        traj = np.array(self.data[ind])\n",
    "        print(traj.shape)\n",
    "        x_traj = traj[:, 0]\n",
    "        y_traj = traj[:, 1]        \n",
    "#         print(x_traj, y_traj)       \n",
    "        x_inp = x_traj[:10]        \n",
    "        x_fut = x_traj[10:]        \n",
    "        y_inp = y_traj[:10]        \n",
    "        y_fut = y_traj[10:]               \n",
    "        vx_beg = x_inp[-1] - x_inp[-2]        \n",
    "        vy_beg = y_inp[-1] - y_inp[-2]        \n",
    "        vel_acc = np.array([vx_beg, vy_beg, 0, 0])        \n",
    "        traj_inp = np.dstack((x_inp, y_inp)).flatten()        \n",
    "        traj_inp = np.hstack((traj_inp, vel_acc, obs_inp))        \n",
    "        traj_out = np.hstack((x_fut, y_fut)).flatten()        \n",
    "        b_inp = np.array([x_fut[0], vx_beg, 0, x_fut[-1], 0, 0, y_fut[0], vy_beg, 0, y_fut[-1], 0, 0])    \n",
    "        return torch.tensor(traj_inp), torch.tensor(traj_out), torch.tensor(b_inp)\n",
    "\n",
    "class TrajectoryDataset(Dataset):\n",
    "    def __init__(self, root_dir, t_obs=10, dt=0.4):\n",
    "        self.root_dir = root_dir\n",
    "        self.t_obs = t_obs\n",
    "        self.dt = dt\n",
    "        self.data = []\n",
    "        data = np.load(self.root_dir + \"/test.npy\")\n",
    "        print(data.shape)\n",
    "        self.data = data    \n",
    "    \n",
    "    def __len__(self):\n",
    "        return len(self.data)\n",
    "    \n",
    "    def get_vel(self, pos):\n",
    "        return (pos[-1] - pos[-2]) / self.dt\n",
    "    \n",
    "    def get_acc(self, vel):\n",
    "        return (vel[-1] - vel[-2]) / self.dt\n",
    "    \n",
    "    def __getitem__(self, idx):\n",
    "#         file_name = \"tests/test.npy\"\n",
    "#         file_path = os.path.join(self.root_dir, file_name)\n",
    "        \n",
    "        data = np.load(self.root_dir + \"/test.npy\")\n",
    "        self.data = data\n",
    "#         print(data[idx].shape)\n",
    "#         print(data[idx][0])\n",
    "        x_traj = data[idx][:, 0]\n",
    "        y_traj = data[idx][:, 1]\n",
    "        \n",
    "        x_inp = x_traj[:self.t_obs]\n",
    "        y_inp = y_traj[:self.t_obs]\n",
    "        x_fut = x_traj[self.t_obs:]\n",
    "        y_fut = y_traj[self.t_obs:]\n",
    "        \n",
    "        vx_beg = x_inp[-1] - x_inp[-2]        \n",
    "        vy_beg = y_inp[-1] - y_inp[-2]        \n",
    "        vel_acc = np.array([vx_beg, vy_beg, 0, 0])        \n",
    "        traj_inp = np.dstack((x_inp, y_inp)).flatten()        \n",
    "        traj_inp = np.hstack((traj_inp, vel_acc, obs_inp))        \n",
    "        traj_out = np.hstack((x_fut, y_fut)).flatten()\n",
    "#         print(x_fut, y_fut)\n",
    "        b_inp = np.array([x_fut[0], vx_beg, 0, x_fut[-1], 0, 0, y_fut[0], vy_beg, 0, y_fut[-1], 0, 0])    \n",
    "        return torch.tensor(traj_inp), torch.tensor(traj_out), torch.tensor(b_inp)"
   ]
  },
  {
   "cell_type": "code",
   "execution_count": 138,
   "metadata": {},
   "outputs": [
    {
     "name": "stdout",
     "output_type": "stream",
     "text": [
      "        Frame  Agent      x-pos      y-pos\n",
      "0         0.0    1.0   9.050000   6.038093\n",
      "1         0.0    2.0  11.344069   7.398454\n",
      "2         0.0    3.0   6.082442   3.603763\n",
      "3         0.0    4.0   2.273023   6.205155\n",
      "4         0.0    5.0  13.680232   6.539279\n",
      "...       ...    ...        ...        ...\n",
      "15636  4310.0  363.0   9.287194   8.303213\n",
      "15637  4310.0  364.0   5.222692   8.301781\n",
      "15638  4310.0  417.0   8.442387   5.423544\n",
      "15639  4310.0  418.0   7.782368   5.097296\n",
      "15640  4310.0  432.0   9.392006  10.208673\n",
      "\n",
      "[15641 rows x 4 columns]\n",
      "(6, 20, 2)\n"
     ]
    }
   ],
   "source": [
    "train_dataset = PedDataLoader(\"./datasets/zara1/train/students003_train.txt\")\n",
    "train_loader = DataLoader(train_dataset, batch_size=20, shuffle=True, num_workers=0)"
   ]
  },
  {
   "cell_type": "code",
   "execution_count": 180,
   "metadata": {},
   "outputs": [
    {
     "name": "stdout",
     "output_type": "stream",
     "text": [
      "(100, 20, 2)\n"
     ]
    }
   ],
   "source": [
    "train_dataset = TrajectoryDataset(\"./tests\")\n",
    "train_loader = DataLoader(train_dataset, batch_size=20, shuffle=True, num_workers=0)"
   ]
  },
  {
   "cell_type": "code",
   "execution_count": 140,
   "metadata": {},
   "outputs": [],
   "source": [
    "# test_dataset = TrajectoryDataset(\"./test2/data/\", t_obs=25, dt=0.08)\n",
    "# test_loader = DataLoader(test_dataset, batch_size=20, shuffle=True, num_workers=0)"
   ]
  },
  {
   "cell_type": "code",
   "execution_count": 181,
   "metadata": {},
   "outputs": [
    {
     "name": "stdout",
     "output_type": "stream",
     "text": [
      "torch.Size([20, 36]) torch.Size([20, 20]) torch.Size([20, 12])\n"
     ]
    }
   ],
   "source": [
    "for i, data in enumerate(train_loader):\n",
    "    traj_inp, traj_out, b_inp = data\n",
    "    print(traj_inp.size(), traj_out.size(), b_inp.size())\n",
    "    break"
   ]
  },
  {
   "cell_type": "code",
   "execution_count": 142,
   "metadata": {},
   "outputs": [],
   "source": [
    "# out = model(traj_inp, b_inp)\n",
    "# out.size()"
   ]
  },
  {
   "cell_type": "markdown",
   "metadata": {},
   "source": [
    "#### Training"
   ]
  },
  {
   "cell_type": "code",
   "execution_count": 182,
   "metadata": {},
   "outputs": [],
   "source": [
    "criterion = nn.MSELoss()\n",
    "optimizer = torch.optim.SGD(model.parameters(), lr=0.01)"
   ]
  },
  {
   "cell_type": "code",
   "execution_count": 183,
   "metadata": {},
   "outputs": [
    {
     "data": {
      "text/plain": [
       "(torch.Size([20, 36]), torch.Size([20, 20]))"
      ]
     },
     "execution_count": 183,
     "metadata": {},
     "output_type": "execute_result"
    }
   ],
   "source": [
    "traj_inp.size(), traj_out.size()"
   ]
  },
  {
   "cell_type": "code",
   "execution_count": 184,
   "metadata": {},
   "outputs": [
    {
     "name": "stdout",
     "output_type": "stream",
     "text": [
      "Epoch: 0, Batch: 0, Loss: 3.2248190762687505\n",
      "Epoch: 0, Mean Loss: 2.1142823091018457\n",
      "----------------------------------------------------------------------------------------------------\n",
      "Epoch: 1, Batch: 0, Loss: 1.6060315847318527\n",
      "Epoch: 1, Mean Loss: 1.0686292476079646\n",
      "----------------------------------------------------------------------------------------------------\n",
      "Epoch: 2, Batch: 0, Loss: 0.8471436546832932\n",
      "Epoch: 2, Mean Loss: 0.8976609132495442\n",
      "----------------------------------------------------------------------------------------------------\n",
      "Epoch: 3, Batch: 0, Loss: 1.0678745837524948\n",
      "Epoch: 3, Mean Loss: 0.8761950277414996\n",
      "----------------------------------------------------------------------------------------------------\n",
      "Epoch: 4, Batch: 0, Loss: 0.9818493560905889\n",
      "Epoch: 4, Mean Loss: 0.8642269370411968\n",
      "----------------------------------------------------------------------------------------------------\n",
      "Epoch: 5, Batch: 0, Loss: 0.9401194167271743\n",
      "Epoch: 5, Mean Loss: 0.8689107832828572\n",
      "----------------------------------------------------------------------------------------------------\n",
      "Epoch: 6, Batch: 0, Loss: 0.8298541032285826\n",
      "Epoch: 6, Mean Loss: 0.8599568816083325\n",
      "----------------------------------------------------------------------------------------------------\n",
      "Epoch: 7, Batch: 0, Loss: 0.8752826798600958\n",
      "Epoch: 7, Mean Loss: 0.8673196487467212\n",
      "----------------------------------------------------------------------------------------------------\n",
      "Epoch: 8, Batch: 0, Loss: 0.823570489159622\n",
      "Epoch: 8, Mean Loss: 0.8493833966549342\n",
      "----------------------------------------------------------------------------------------------------\n",
      "Epoch: 9, Batch: 0, Loss: 0.6177351055515939\n",
      "Epoch: 9, Mean Loss: 0.8482408556685334\n",
      "----------------------------------------------------------------------------------------------------\n",
      "Epoch: 10, Batch: 0, Loss: 0.7279942582323227\n",
      "Epoch: 10, Mean Loss: 0.8444794499331169\n",
      "----------------------------------------------------------------------------------------------------\n",
      "Epoch: 11, Batch: 0, Loss: 0.7436497474334223\n",
      "Epoch: 11, Mean Loss: 0.8387523184906197\n",
      "----------------------------------------------------------------------------------------------------\n",
      "Epoch: 12, Batch: 0, Loss: 0.8520920580030821\n",
      "Epoch: 12, Mean Loss: 0.8500790094262625\n",
      "----------------------------------------------------------------------------------------------------\n",
      "Epoch: 13, Batch: 0, Loss: 0.6712723966060622\n",
      "Epoch: 13, Mean Loss: 0.8440147456645526\n",
      "----------------------------------------------------------------------------------------------------\n",
      "Epoch: 14, Batch: 0, Loss: 0.7667129417799353\n",
      "Epoch: 14, Mean Loss: 0.8341357862054496\n",
      "----------------------------------------------------------------------------------------------------\n",
      "Epoch: 15, Batch: 0, Loss: 0.7669906796507396\n",
      "Epoch: 15, Mean Loss: 0.8314744010374309\n",
      "----------------------------------------------------------------------------------------------------\n",
      "Epoch: 16, Batch: 0, Loss: 0.8496240093272489\n",
      "Epoch: 16, Mean Loss: 0.8354815642134795\n",
      "----------------------------------------------------------------------------------------------------\n",
      "Epoch: 17, Batch: 0, Loss: 0.8491321835882935\n",
      "Epoch: 17, Mean Loss: 0.8385121532620217\n",
      "----------------------------------------------------------------------------------------------------\n",
      "Epoch: 18, Batch: 0, Loss: 0.9280899515584626\n",
      "Epoch: 18, Mean Loss: 0.8315011863155094\n",
      "----------------------------------------------------------------------------------------------------\n",
      "Epoch: 19, Batch: 0, Loss: 0.7969718993850314\n",
      "Epoch: 19, Mean Loss: 0.8232370805284216\n",
      "----------------------------------------------------------------------------------------------------\n",
      "Epoch: 20, Batch: 0, Loss: 0.8999565348977544\n",
      "Epoch: 20, Mean Loss: 0.8287661061822373\n",
      "----------------------------------------------------------------------------------------------------\n",
      "Epoch: 21, Batch: 0, Loss: 0.7618058536351481\n",
      "Epoch: 21, Mean Loss: 0.8198162110057163\n",
      "----------------------------------------------------------------------------------------------------\n",
      "Epoch: 22, Batch: 0, Loss: 0.8209233480452102\n",
      "Epoch: 22, Mean Loss: 0.8174287427988418\n",
      "----------------------------------------------------------------------------------------------------\n",
      "Epoch: 23, Batch: 0, Loss: 0.8707682463872772\n",
      "Epoch: 23, Mean Loss: 0.8109487798691288\n",
      "----------------------------------------------------------------------------------------------------\n",
      "Epoch: 24, Batch: 0, Loss: 0.8189572508559253\n",
      "Epoch: 24, Mean Loss: 0.8100443154172077\n",
      "----------------------------------------------------------------------------------------------------\n"
     ]
    }
   ],
   "source": [
    "epoch_train_loss = []\n",
    "num_epochs = 25\n",
    "\n",
    "for epoch in range(num_epochs):\n",
    "    train_loss = []\n",
    "    for batch_num, data in enumerate(train_loader):\n",
    "        traj_inp, traj_out, b_inp = data\n",
    "        traj_inp = traj_inp.to(device)\n",
    "        traj_out = traj_out.to(device)\n",
    "        b_inp = b_inp.to(device)\n",
    "\n",
    "        out = model(traj_inp, b_inp)\n",
    "        loss = criterion(out, traj_out)\n",
    "        \n",
    "        optimizer.zero_grad()\n",
    "        loss.backward()\n",
    "        optimizer.step()\n",
    "        \n",
    "        train_loss.append(loss.item())\n",
    "        \n",
    "        cnt = 0\n",
    "        obs = np.load(\"train/obstacle.npy\")\n",
    "        for i in range(traj_inp.size()[0]):\n",
    "            plot_traj(cnt, traj_inp[i], traj_out[i], out[i], {\"x\": x_obs_temp, \"y\": y_obs_temp})\n",
    "            cnt += 1\n",
    "        \n",
    "        if batch_num % 10 == 0:\n",
    "            print(\"Epoch: {}, Batch: {}, Loss: {}\".format(epoch, batch_num, loss.item()))\n",
    "    \n",
    "    mean_loss = np.mean(train_loss)\n",
    "    epoch_train_loss.append(mean_loss)\n",
    "    print(\"Epoch: {}, Mean Loss: {}\".format(epoch, mean_loss))\n",
    "    print(\"-\"*100)"
   ]
  },
  {
   "cell_type": "markdown",
   "metadata": {},
   "source": [
    "#### Testing"
   ]
  },
  {
   "cell_type": "code",
   "execution_count": null,
   "metadata": {},
   "outputs": [],
   "source": []
  },
  {
   "cell_type": "code",
   "execution_count": null,
   "metadata": {},
   "outputs": [],
   "source": [
    "plot_traj(1, traj_inp, traj_out, traj_pred)"
   ]
  },
  {
   "cell_type": "code",
   "execution_count": null,
   "metadata": {},
   "outputs": [],
   "source": [
    "with torch.no_grad():\n",
    "    cnt = 0\n",
    "    test_loss = []\n",
    "    for batch_num, data in enumerate(test_loader):\n",
    "        traj_inp, traj_out, b_inp = data\n",
    "        traj_inp = traj_inp.to(device)\n",
    "        traj_out = traj_out.to(device)\n",
    "        b_inp = b_inp.to(device)\n",
    "\n",
    "        out = model(traj_inp, b_inp)\n",
    "        loss = criterion(out, traj_out)\n",
    "        \n",
    "        test_loss.append(loss.item())\n",
    "        obs = np.load(\"train/obstacle.npy\")\n",
    "        print(\"Batch: {}, Loss: {}\".format(batch_num, loss.item()))\n",
    "        for i in range(traj_inp.size()[0]):\n",
    "            plot_traj(cnt, traj_inp[i], traj_out[i], out[i], {\"x\": obs[i][0], \"y\": obs[i][1]})\n",
    "            cnt += 1\n",
    "mean_loss = np.mean(test_loss)\n",
    "print(\"Epoch Mean Test Loss: {}\".format(mean_loss))"
   ]
  },
  {
   "cell_type": "code",
   "execution_count": null,
   "metadata": {},
   "outputs": [],
   "source": [
    "traj_inp.numpy()[0][:2*num].shape, traj_out.numpy()[0].shape"
   ]
  },
  {
   "cell_type": "code",
   "execution_count": null,
   "metadata": {},
   "outputs": [],
   "source": [
    "traj_inp[6]"
   ]
  },
  {
   "cell_type": "code",
   "execution_count": null,
   "metadata": {},
   "outputs": [],
   "source": [
    "traj_out[6]"
   ]
  },
  {
   "cell_type": "code",
   "execution_count": null,
   "metadata": {},
   "outputs": [],
   "source": [
    "out[6]"
   ]
  },
  {
   "cell_type": "code",
   "execution_count": null,
   "metadata": {},
   "outputs": [],
   "source": [
    "torch.sqrt(torch.sum((traj_out[6] - out[6]) ** 2))"
   ]
  },
  {
   "cell_type": "code",
   "execution_count": null,
   "metadata": {},
   "outputs": [],
   "source": [
    "fin = torch.tensor([traj_out[6][1], traj_out[6][23]])\n",
    "fin_pred = torch.tensor([out[6][11], out[6][23]])\n",
    "fin, fin_pred"
   ]
  },
  {
   "cell_type": "code",
   "execution_count": null,
   "metadata": {},
   "outputs": [],
   "source": [
    "torch.sqrt(torch.sum((fin_pred - fin) ** 2))"
   ]
  },
  {
   "cell_type": "code",
   "execution_count": null,
   "metadata": {},
   "outputs": [],
   "source": [
    "torch.sqrt(torch.sum((traj_out[6][-1] - out[6][-1]) ** 2))"
   ]
  },
  {
   "cell_type": "code",
   "execution_count": null,
   "metadata": {},
   "outputs": [],
   "source": []
  },
  {
   "cell_type": "code",
   "execution_count": null,
   "metadata": {},
   "outputs": [],
   "source": [
    "criterion(traj_out[6], out[6])"
   ]
  },
  {
   "cell_type": "code",
   "execution_count": null,
   "metadata": {},
   "outputs": [],
   "source": [
    "def disp_traj(cnt, traj_inp, traj_out, traj_pred):\n",
    "    traj_inp = traj_inp.numpy()\n",
    "    traj_out = traj_out.numpy()\n",
    "    traj_pred = traj_pred.numpy()\n",
    "    \n",
    "    fig, ax = plt.subplots(1, 1, figsize=(6, 6))\n",
    "    ax.scatter(traj_inp[::2], traj_inp[1::2], label='Inp traj')\n",
    "    ax.scatter(traj_out[:12], traj_out[12:], label='GT')\n",
    "    ax.scatter(traj_out[11], traj_out[23], label='Fin GT')\n",
    "    ax.scatter(traj_pred[:12], traj_pred[12:], label='Pred')\n",
    "    ax.scatter(traj_pred[11], traj_pred[23], label='Fin Pred')\n",
    "    \n",
    "    th = np.linspace(0, 2 * np.pi, 100)\n",
    "    for i in range(0, num_obs):\n",
    "        x_circ = x_obs_temp[i] + a_obs * np.cos(th)\n",
    "        y_circ = y_obs_temp[i] + b_obs * np.sin(th)\n",
    "        ax.plot(x_circ, y_circ, '-k')\n",
    "    \n",
    "    ax.legend()\n",
    "    ax.set_xlim([-7, 7])\n",
    "    ax.set_ylim([-7, 7])\n",
    "    plt.show()"
   ]
  },
  {
   "cell_type": "code",
   "execution_count": null,
   "metadata": {},
   "outputs": [],
   "source": [
    "disp_traj(0, traj_inp[8], traj_out[8], out[8].detach())"
   ]
  }
 ],
 "metadata": {
  "kernelspec": {
   "display_name": "Python 3",
   "language": "python",
   "name": "python3"
  },
  "language_info": {
   "codemirror_mode": {
    "name": "ipython",
    "version": 3
   },
   "file_extension": ".py",
   "mimetype": "text/x-python",
   "name": "python",
   "nbconvert_exporter": "python",
   "pygments_lexer": "ipython3",
   "version": "3.8.5"
  }
 },
 "nbformat": 4,
 "nbformat_minor": 4
}
