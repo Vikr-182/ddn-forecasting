{
 "cells": [
  {
   "cell_type": "code",
   "execution_count": 1,
   "metadata": {},
   "outputs": [],
   "source": [
    "import time\n",
    "import numpy as np\n",
    "import scipy.special\n",
    "import jax.numpy as jnp\n",
    "import matplotlib.pyplot as plt\n",
    "# import optimizer_traj_opt\n",
    "\n",
    "from jax import jit, jacfwd, jacrev, random, vmap\n",
    "from jax.config import config\n",
    "config.update(\"jax_enable_x64\", True)"
   ]
  },
  {
   "cell_type": "markdown",
   "metadata": {},
   "source": [
    "#### Bernstein Coefficient Polynomials"
   ]
  },
  {
   "cell_type": "code",
   "execution_count": 2,
   "metadata": {},
   "outputs": [],
   "source": [
    "def bernstein_coeff_order10_new(n, tmin, tmax, t_actual):\n",
    "    l = tmax - tmin\n",
    "    t = (t_actual - tmin) / l\n",
    "\n",
    "    P0 = scipy.special.binom(n, 0) * ((1 - t) ** (n - 0)) * t ** 0\n",
    "    P1 = scipy.special.binom(n, 1) * ((1 - t) ** (n - 1)) * t ** 1\n",
    "    P2 = scipy.special.binom(n, 2) * ((1 - t) ** (n - 2)) * t ** 2\n",
    "    P3 = scipy.special.binom(n, 3) * ((1 - t) ** (n - 3)) * t ** 3\n",
    "    P4 = scipy.special.binom(n, 4) * ((1 - t) ** (n - 4)) * t ** 4\n",
    "    P5 = scipy.special.binom(n, 5) * ((1 - t) ** (n - 5)) * t ** 5\n",
    "    P6 = scipy.special.binom(n, 6) * ((1 - t) ** (n - 6)) * t ** 6\n",
    "    P7 = scipy.special.binom(n, 7) * ((1 - t) ** (n - 7)) * t ** 7\n",
    "    P8 = scipy.special.binom(n, 8) * ((1 - t) ** (n - 8)) * t ** 8\n",
    "    P9 = scipy.special.binom(n, 9) * ((1 - t) ** (n - 9)) * t ** 9\n",
    "    P10 = scipy.special.binom(n, 10) * ((1 - t) ** (n - 10)) * t ** 10\n",
    "\n",
    "    P0dot = -10.0 * (-t + 1) ** 9\n",
    "    P1dot = -90.0 * t * (-t + 1) ** 8 + 10.0 * (-t + 1) ** 9\n",
    "    P2dot = -360.0 * t ** 2 * (-t + 1) ** 7 + 90.0 * t * (-t + 1) ** 8\n",
    "    P3dot = -840.0 * t ** 3 * (-t + 1) ** 6 + 360.0 * t ** 2 * (-t + 1) ** 7\n",
    "    P4dot = -1260.0 * t ** 4 * (-t + 1) ** 5 + 840.0 * t ** 3 * (-t + 1) ** 6\n",
    "    P5dot = -1260.0 * t ** 5 * (-t + 1) ** 4 + 1260.0 * t ** 4 * (-t + 1) ** 5\n",
    "    P6dot = -840.0 * t ** 6 * (-t + 1) ** 3 + 1260.0 * t ** 5 * (-t + 1) ** 4\n",
    "    P7dot = -360.0 * t ** 7 * (-t + 1) ** 2 + 840.0 * t ** 6 * (-t + 1) ** 3\n",
    "    P8dot = 45.0 * t ** 8 * (2 * t - 2) + 360.0 * t ** 7 * (-t + 1) ** 2\n",
    "    P9dot = -10.0 * t ** 9 + 9 * t ** 8 * (-10.0 * t + 10.0)\n",
    "    P10dot = 10.0 * t ** 9\n",
    "\n",
    "    P0ddot = 90.0 * (-t + 1) ** 8\n",
    "    P1ddot = 720.0 * t * (-t + 1) ** 7 - 180.0 * (-t + 1) ** 8\n",
    "    P2ddot = 2520.0 * t ** 2 * (-t + 1) ** 6 - 1440.0 * t * (-t + 1) ** 7 + 90.0 * (-t + 1) ** 8\n",
    "    P3ddot = 5040.0 * t ** 3 * (-t + 1) ** 5 - 5040.0 * t ** 2 * (-t + 1) ** 6 + 720.0 * t * (-t + 1) ** 7\n",
    "    P4ddot = 6300.0 * t ** 4 * (-t + 1) ** 4 - 10080.0 * t ** 3 * (-t + 1) ** 5 + 2520.0 * t ** 2 * (-t + 1) ** 6\n",
    "    P5ddot = 5040.0 * t ** 5 * (-t + 1) ** 3 - 12600.0 * t ** 4 * (-t + 1) ** 4 + 5040.0 * t ** 3 * (-t + 1) ** 5\n",
    "    P6ddot = 2520.0 * t ** 6 * (-t + 1) ** 2 - 10080.0 * t ** 5 * (-t + 1) ** 3 + 6300.0 * t ** 4 * (-t + 1) ** 4\n",
    "    P7ddot = -360.0 * t ** 7 * (2 * t - 2) - 5040.0 * t ** 6 * (-t + 1) ** 2 + 5040.0 * t ** 5 * (-t + 1) ** 3\n",
    "    P8ddot = 90.0 * t ** 8 + 720.0 * t ** 7 * (2 * t - 2) + 2520.0 * t ** 6 * (-t + 1) ** 2\n",
    "    P9ddot = -180.0 * t ** 8 + 72 * t ** 7 * (-10.0 * t + 10.0)\n",
    "    P10ddot = 90.0 * t ** 8\n",
    "\n",
    "    P = np.hstack((P0, P1, P2, P3, P4, P5, P6, P7, P8, P9, P10))\n",
    "    Pdot = np.hstack((P0dot, P1dot, P2dot, P3dot, P4dot, P5dot, P6dot, P7dot, P8dot, P9dot, P10dot)) / l\n",
    "    Pddot = np.hstack((P0ddot, P1ddot, P2ddot, P3ddot, P4ddot, P5ddot, P6ddot, P7ddot, P8ddot, P9ddot, P10ddot)) / (l ** 2)\n",
    "    return P, Pdot, Pddot"
   ]
  },
  {
   "cell_type": "markdown",
   "metadata": {},
   "source": [
    "#### Initializations"
   ]
  },
  {
   "cell_type": "code",
   "execution_count": 3,
   "metadata": {},
   "outputs": [],
   "source": [
    "x_min = -6.0\n",
    "x_max = 6.0\n",
    "\n",
    "y_min = -6.0\n",
    "y_max = 6.0\n",
    "\n",
    "t_fin = 8.0\n",
    "num = 20"
   ]
  },
  {
   "cell_type": "code",
   "execution_count": 4,
   "metadata": {},
   "outputs": [],
   "source": [
    "tot_time = np.linspace(0.0, t_fin, num)\n",
    "tot_time_copy = tot_time.reshape(num, 1)\n",
    "P, Pdot, Pddot = bernstein_coeff_order10_new(10, tot_time_copy[0], tot_time_copy[-1], tot_time_copy)\n",
    "nvar = np.shape(P)[1]\n",
    "num = np.shape(P)[0]"
   ]
  },
  {
   "cell_type": "code",
   "execution_count": 5,
   "metadata": {},
   "outputs": [],
   "source": [
    "x_obs_temp = np.hstack((0, 1, 2.0, 2.5))\n",
    "y_obs_temp = np.hstack((1.0, 0, -1.0, -1.5))\n",
    "num_obs = np.shape(x_obs_temp)[0]\n",
    "\n",
    "a_obs = 1.0\n",
    "b_obs = 1.0\n",
    "\n",
    "x_obs = np.ones((num_obs, num)) * x_obs_temp[:, np.newaxis]\n",
    "y_obs = np.ones((num_obs, num)) * y_obs_temp[:, np.newaxis]"
   ]
  },
  {
   "cell_type": "code",
   "execution_count": 6,
   "metadata": {},
   "outputs": [],
   "source": [
    "x_init = -2.87\n",
    "y_init = 2.96\n",
    "vx_init = 0.0\n",
    "ax_init = 0.0\n",
    "vy_init = 0.0\n",
    "ay_init = 0.0"
   ]
  },
  {
   "cell_type": "code",
   "execution_count": 7,
   "metadata": {},
   "outputs": [],
   "source": [
    "x_fin = 3\n",
    "y_fin = -2\n",
    "vx_fin = 0.0\n",
    "ax_fin = 0.0\n",
    "vy_fin = 0.0\n",
    "ay_fin = 0.0"
   ]
  },
  {
   "cell_type": "code",
   "execution_count": 8,
   "metadata": {},
   "outputs": [],
   "source": [
    "rho_obs = 0.3\n",
    "rho_eq = 10.0\n",
    "weight_smoothness = 10"
   ]
  },
  {
   "cell_type": "code",
   "execution_count": 9,
   "metadata": {},
   "outputs": [],
   "source": [
    "bx_eq =  np.hstack((x_init, vx_init, ax_init, x_fin, vx_fin, ax_fin))\n",
    "by_eq =  np.hstack((y_init, vy_init, ay_init, y_fin, vy_fin, ay_fin))"
   ]
  },
  {
   "cell_type": "code",
   "execution_count": 10,
   "metadata": {},
   "outputs": [],
   "source": [
    "A_eq = np.vstack((P[0], Pdot[0], Pddot[0], P[-1], Pdot[-1], Pddot[-1]))\n",
    "A_obs = np.tile(P, (num_obs, 1))\n",
    "Q_smoothness = np.dot(Pddot.T, Pddot)"
   ]
  },
  {
   "cell_type": "code",
   "execution_count": 11,
   "metadata": {},
   "outputs": [
    {
     "name": "stderr",
     "output_type": "stream",
     "text": [
      "WARNING:absl:No GPU/TPU found, falling back to CPU. (Set TF_CPP_MIN_LOG_LEVEL=0 and rerun for more info.)\n"
     ]
    }
   ],
   "source": [
    "P_jax = jnp.asarray(P)\n",
    "A_eq_jax = jnp.asarray(A_eq)\n",
    "A_obs_jax = jnp.asarray(A_obs)\n",
    "x_obs_jax = jnp.asarray(x_obs)\n",
    "y_obs_jax = jnp.asarray(y_obs)\n",
    "Q_smoothness_jax = jnp.asarray(Q_smoothness)"
   ]
  },
  {
   "cell_type": "markdown",
   "metadata": {},
   "source": [
    "#### Compute Solution"
   ]
  },
  {
   "cell_type": "code",
   "execution_count": 12,
   "metadata": {},
   "outputs": [],
   "source": [
    "def compute_sol(rho_obs, rho_eq, weight_smoothness, num_obs, bx_eq, by_eq, P, Pdot, Pddot, x_obs, y_obs, a_obs, b_obs):    \n",
    "    maxiter = 300\n",
    "    nvar = np.shape(P)[1]\n",
    "    num = np.shape(P)[0]\n",
    "\n",
    "    A_eq = np.vstack((P[0], Pdot[0], Pddot[0], P[-1], Pdot[-1], Pddot[-1]))\n",
    "    A_obs = np.tile(P, (num_obs, 1))\n",
    "\n",
    "    cost_smoothness = weight_smoothness * np.dot(Pddot.T, Pddot)\n",
    "\n",
    "    alpha_obs = np.zeros((num_obs, num))\n",
    "    d_obs = np.ones((num_obs, num))\n",
    "\n",
    "    lamda_x = np.zeros(nvar)\n",
    "    lamda_y = np.zeros(nvar)\n",
    "    res_obs = np.ones(maxiter)\n",
    "    res_eq = np.ones(maxiter)\n",
    "    res_obs = np.ones(maxiter)\n",
    "    res_eq = np.ones(maxiter)\n",
    "    d_min = np.ones(maxiter)\n",
    "    cost = cost_smoothness + rho_obs * np.dot(A_obs.T, A_obs) + rho_eq * np.dot(A_eq.T, A_eq)\n",
    "    \n",
    "    for i in range(0, maxiter):\n",
    "        temp_x_obs = d_obs * np.cos(alpha_obs) * a_obs\n",
    "        #print(\"temp_x_obs.shape: {}\".format(temp_x_obs.shape, x_obs.shape))\n",
    "        b_obs_x = x_obs.reshape(num * num_obs) + temp_x_obs.reshape(num * num_obs)\n",
    "        #print(\"x_obs.shape: {}, b_obs_x.shape: {}\".format(x_obs.shape, b_obs_x.shape))\n",
    "\n",
    "        temp_y_obs = d_obs * np.sin(alpha_obs) * b_obs\n",
    "        b_obs_y = y_obs.reshape(num * num_obs) + temp_y_obs.reshape(num*num_obs)\n",
    "\n",
    "        lincost_x = -lamda_x - rho_obs * np.dot(A_obs.T, b_obs_x) - rho_eq * np.dot(A_eq.T, bx_eq)\n",
    "        lincost_y = -lamda_y - rho_obs * np.dot(A_obs.T, b_obs_y) - rho_eq * np.dot(A_eq.T, by_eq)\n",
    "\n",
    "        sol_x = np.linalg.solve(-cost, lincost_x)\n",
    "        sol_y = np.linalg.solve(-cost, lincost_y)\n",
    "        \n",
    "        #print(\"sol_x.shape: {}, sol_y.shape: {}\".format(sol_x.shape, sol_y.shape))\n",
    "\n",
    "        x = np.dot(P, sol_x)\n",
    "        y = np.dot(P, sol_y)\n",
    "        \n",
    "        #print(\"x.shape: {}, y.shape: {}\".format(x.shape, y.shape))\n",
    "\n",
    "        wc_alpha = (x - x_obs)\n",
    "        ws_alpha = (y - y_obs)\n",
    "        #print(\"wc_alpha.shape: {}, ws_alpha.shape: {}\".format(wc_alpha.shape, ws_alpha.shape))\n",
    "        alpha_obs = np.arctan2(ws_alpha * a_obs, wc_alpha * b_obs)\n",
    "        \n",
    "        c1_d = 1.0 * rho_obs * (a_obs ** 2 * np.cos(alpha_obs) ** 2 + b_obs ** 2 * np.sin(alpha_obs) ** 2)\n",
    "        c2_d = 1.0 * rho_obs * (a_obs * wc_alpha * np.cos(alpha_obs) + b_obs * ws_alpha * np.sin(alpha_obs))\n",
    "\n",
    "        d_temp = c2_d / c1_d\n",
    "        d_obs = np.maximum(np.ones((num_obs, num)), d_temp)\n",
    "        d_min[i] = np.amin(d_temp)\n",
    "\n",
    "        res_x_obs_vec = wc_alpha - a_obs * d_obs * np.cos(alpha_obs)\n",
    "        res_y_obs_vec = ws_alpha - b_obs * d_obs * np.sin(alpha_obs)\n",
    "        \n",
    "        res_eq_x_vec = np.dot(A_eq, sol_x) - bx_eq\n",
    "        res_eq_y_vec = np.dot(A_eq, sol_y) - by_eq\n",
    "\n",
    "        lamda_x = lamda_x-rho_obs*np.dot(A_obs.T, res_x_obs_vec.reshape(num_obs * num)) - rho_eq * np.dot(A_eq.T, res_eq_x_vec)\n",
    "        lamda_y = lamda_y-rho_obs*np.dot(A_obs.T, res_y_obs_vec.reshape(num_obs * num)) - rho_eq * np.dot(A_eq.T, res_eq_y_vec)\n",
    "\n",
    "        res_eq[i] = np.linalg.norm(np.hstack((res_eq_x_vec,  res_eq_y_vec)))\n",
    "        res_obs[i] = np.linalg.norm(np.hstack((res_x_obs_vec, res_y_obs_vec)))\n",
    "\n",
    "    slack_obs = np.sqrt((d_obs - 1))\n",
    "    plt.figure(1)\n",
    "    plt.plot(res_obs)\n",
    "    plt.figure(2)\n",
    "    plt.plot(res_eq)\n",
    "    plt.show()\n",
    "    return x, y, sol_x, sol_y, alpha_obs.reshape(num_obs*num), d_obs.reshape(num_obs*num), lamda_x, lamda_y, slack_obs.reshape(num_obs*num)"
   ]
  },
  {
   "cell_type": "code",
   "execution_count": 13,
   "metadata": {},
   "outputs": [
    {
     "data": {
      "image/png": "[encoded data removed]",
      "text/plain": [
       "<Figure size 432x288 with 1 Axes>"
      ]
     },
     "metadata": {
      "needs_background": "light"
     },
     "output_type": "display_data"
    },
    {
     "data": {
      "image/png": "[encoded data removed]",
      "text/plain": [
       "<Figure size 432x288 with 1 Axes>"
      ]
     },
     "metadata": {
      "needs_background": "light"
     },
     "output_type": "display_data"
    }
   ],
   "source": [
    "x, y, sol_x, sol_y, alpha_obs, d_obs, lamda_x, lamda_y, slack_obs = compute_sol(rho_obs, rho_eq, weight_smoothness, num_obs, bx_eq, by_eq, P, Pdot, Pddot, x_obs, y_obs, a_obs, b_obs)\n",
    "lamda_x_jax = jnp.asarray(lamda_x)\n",
    "lamda_y_jax = jnp.asarray(lamda_y)"
   ]
  },
  {
   "cell_type": "markdown",
   "metadata": {},
   "source": [
    "#### Cost function"
   ]
  },
  {
   "cell_type": "code",
   "execution_count": null,
   "metadata": {},
   "outputs": [],
   "source": [
    "# x^T -> (1 x n)\n",
    "# Q -> (n x n)\n",
    "# x -> (n x 1)\n",
    "\n",
    "# x^T Q x -> 1 x 1\n",
    "\n",
    "# x^T -> (B x n)\n",
    "# Q -> (n x n)\n",
    "# x -> (n x B)\n",
    "\n",
    "# x^T Q x -> B x B \n",
    "\n",
    "# 1. \n",
    "# for i in range(B):\n",
    "#     x^T -> (1 x n)\n",
    "#     Q -> (n x n)\n",
    "#     x -> (n x 1)\n",
    "#     lst.append(output)\n",
    "\n",
    "# 2.\n",
    "# diag(x^T Q x) -> B x B -> [B x 1]\n",
    "\n",
    "# 1 and 2 are same"
   ]
  },
  {
   "cell_type": "code",
   "execution_count": 17,
   "metadata": {},
   "outputs": [],
   "source": [
    "def cost_fun(aug_sol_jax, param_sol):\n",
    "    x_init, vx_init, ax_init, x_fin, vx_fin, ax_fin, y_init, vy_init, ay_init, y_fin, vy_fin, ay_fin = param_sol\n",
    "\n",
    "    bx_eq_jax =  jnp.hstack((x_init, vx_init, ax_init, x_fin, vx_fin, ax_fin))\n",
    "    by_eq_jax =  jnp.hstack((y_init, vy_init, ay_init, y_fin, vy_fin, ay_fin))\n",
    "\n",
    "    c_x = aug_sol_jax[0:nvar]\n",
    "    c_y = aug_sol_jax[nvar:2*nvar]\n",
    "\n",
    "    num_tot = num_obs * num\n",
    "\n",
    "    alpha_obs = aug_sol_jax[2*nvar:2*nvar+num_tot]\n",
    "    d_obs = aug_sol_jax[2*nvar+num_tot:2*nvar+2*num_tot]\n",
    "\n",
    "    cost_smoothness_x = 0.5 * weight_smoothness * jnp.dot(c_x.T, jnp.dot(Q_smoothness_jax, c_x))\n",
    "    cost_smoothness_y = 0.5 * weight_smoothness * jnp.dot(c_y.T, jnp.dot(Q_smoothness_jax, c_y))\n",
    "\n",
    "    temp_x_obs = d_obs * jnp.cos(alpha_obs) * a_obs\n",
    "    b_obs_x = x_obs_jax.reshape(num * num_obs) + temp_x_obs\n",
    "\n",
    "    temp_y_obs = d_obs * jnp.sin(alpha_obs) * b_obs\n",
    "    b_obs_y = y_obs_jax.reshape(num * num_obs) + temp_y_obs\n",
    "\n",
    "    cost_obs_x = 0.5 * rho_obs * (jnp.sum((jnp.dot(A_obs_jax, c_x) - b_obs_x) ** 2))\n",
    "    cost_obs_y = 0.5 * rho_obs * (jnp.sum((jnp.dot(A_obs_jax, c_y) - b_obs_y) ** 2))\n",
    "    \n",
    "    cost_slack = rho_obs * jnp.sum(jnp.maximum(jnp.zeros(num_tot), -d_obs + 1))\n",
    "    cost_eq_x = 0.5 * rho_eq * (jnp.sum((jnp.dot(A_eq_jax, c_x) - bx_eq_jax) ** 2))\n",
    "    cost_eq_y = 0.5 * rho_eq * (jnp.sum((jnp.dot(A_eq_jax, c_y) - by_eq_jax) ** 2))\n",
    "    \n",
    "    cost_x = cost_smoothness_x + cost_obs_x + cost_eq_x - jnp.dot(lamda_x_jax.T, c_x)\n",
    "    cost_y = cost_smoothness_y + cost_obs_y + cost_eq_y - jnp.dot(lamda_y_jax.T, c_y)\n",
    "   \n",
    "    eps = 10 ** (-8.0)\n",
    "    cost = cost_x + cost_y + eps * jnp.sum(c_x ** 2) + eps * jnp.sum(c_y ** 2) + eps * jnp.sum(d_obs ** 2) + eps * jnp.sum(alpha_obs ** 2) + cost_slack\n",
    "    return cost"
   ]
  },
  {
   "cell_type": "markdown",
   "metadata": {},
   "source": [
    "#### Compute argmin derivative"
   ]
  },
  {
   "cell_type": "code",
   "execution_count": 18,
   "metadata": {},
   "outputs": [],
   "source": [
    "hess_inp = jit(jacfwd(jacrev(cost_fun)))\n",
    "hess_param = jit(jacfwd(jacrev(cost_fun), argnums=1))"
   ]
  },
  {
   "cell_type": "code",
   "execution_count": 19,
   "metadata": {},
   "outputs": [],
   "source": [
    "aug_sol = np.hstack(( sol_x, sol_y, alpha_obs, d_obs))\n",
    "aug_sol_jax = jnp.asarray(aug_sol)\n",
    "\n",
    "params = jnp.hstack((x_init, vx_init, ax_init, x_fin, vx_fin, ax_fin, y_init, vy_init, ay_init, y_fin, vy_fin, ay_fin))\n",
    "\n",
    "F_yy = hess_inp(aug_sol, params)\n",
    "F_xy = hess_param(aug_sol, params)\n",
    "F_yy_inv = jnp.linalg.inv(F_yy)\n",
    "\n",
    "dgx = jnp.dot(-F_yy_inv, F_xy)"
   ]
  },
  {
   "cell_type": "code",
   "execution_count": 20,
   "metadata": {},
   "outputs": [
    {
     "data": {
      "text/plain": [
       "((182,), (12,))"
      ]
     },
     "execution_count": 20,
     "metadata": {},
     "output_type": "execute_result"
    }
   ],
   "source": [
    "aug_sol.shape, params.shape"
   ]
  },
  {
   "cell_type": "code",
   "execution_count": 21,
   "metadata": {},
   "outputs": [],
   "source": [
    "aug_sol = np.hstack(( sol_x, sol_y, alpha_obs, d_obs))\n",
    "aug_sol_jax = jnp.asarray(aug_sol)"
   ]
  },
  {
   "cell_type": "code",
   "execution_count": null,
   "metadata": {},
   "outputs": [],
   "source": []
  },
  {
   "cell_type": "markdown",
   "metadata": {},
   "source": [
    "#### debug compute solution dimensions and values"
   ]
  },
  {
   "cell_type": "code",
   "execution_count": 12,
   "metadata": {},
   "outputs": [],
   "source": [
    "alpha_obs = np.zeros((num_obs, num))\n",
    "d_obs = np.ones((num_obs, num))\n",
    "\n",
    "lamda_x = np.zeros(nvar)\n",
    "lamda_y = np.zeros(nvar)"
   ]
  },
  {
   "cell_type": "code",
   "execution_count": 13,
   "metadata": {},
   "outputs": [
    {
     "data": {
      "text/plain": [
       "(array([-1.6721, -0.0158,  0.2543, -0.5678,  0.    ,  0.    ]),\n",
       " array([ 2.1997, -1.7899, -0.6161, -0.7362,  0.    ,  0.    ]))"
      ]
     },
     "execution_count": 13,
     "metadata": {},
     "output_type": "execute_result"
    }
   ],
   "source": [
    "bx_eq = np.array([-1.6721, -0.0158,  0.2543, -0.5678,  0.0000,  0.0000])\n",
    "by_eq = np.array([2.1997, -1.7899, -0.6161, -0.7362,  0.0000,  0.0000])\n",
    "bx_eq, by_eq"
   ]
  },
  {
   "cell_type": "code",
   "execution_count": 14,
   "metadata": {},
   "outputs": [],
   "source": [
    "maxiter = 300\n",
    "cost_smoothness = weight_smoothness * np.dot(Pddot.T, Pddot)\n",
    "cost = cost_smoothness + rho_obs * np.dot(A_obs.T, A_obs) + rho_eq * np.dot(A_eq.T, A_eq)"
   ]
  },
  {
   "cell_type": "code",
   "execution_count": 15,
   "metadata": {},
   "outputs": [],
   "source": [
    "for i in range(0, maxiter):\n",
    "    temp_x_obs = d_obs * np.cos(alpha_obs) * a_obs\n",
    "    b_obs_x = x_obs.reshape(num * num_obs) + temp_x_obs.reshape(num * num_obs)\n",
    "\n",
    "    temp_y_obs = d_obs * np.sin(alpha_obs) * b_obs\n",
    "    b_obs_y = y_obs.reshape(num * num_obs) + temp_y_obs.reshape(num*num_obs)\n",
    "\n",
    "    lincost_x = -lamda_x - rho_obs * np.dot(A_obs.T, b_obs_x) - rho_eq * np.dot(A_eq.T, bx_eq)\n",
    "    lincost_y = -lamda_y - rho_obs * np.dot(A_obs.T, b_obs_y) - rho_eq * np.dot(A_eq.T, by_eq)\n",
    "\n",
    "    sol_x = np.linalg.solve(-cost, lincost_x)\n",
    "    sol_y = np.linalg.solve(-cost, lincost_y)\n",
    "\n",
    "    #print(\"sol_x.shape: {}, sol_y.shape: {}\".format(sol_x.shape, sol_y.shape))\n",
    "\n",
    "    x = np.dot(P, sol_x)\n",
    "    y = np.dot(P, sol_y)\n",
    "\n",
    "    #print(\"x.shape: {}, y.shape: {}\".format(x.shape, y.shape))\n",
    "\n",
    "    wc_alpha = (x - x_obs)\n",
    "    ws_alpha = (y - y_obs)\n",
    "    #print(\"wc_alpha.shape: {}, ws_alpha.shape: {}\".format(wc_alpha.shape, ws_alpha.shape))\n",
    "    alpha_obs = np.arctan2(ws_alpha * a_obs, wc_alpha * b_obs)\n",
    "\n",
    "    c1_d = 1.0 * rho_obs * (a_obs ** 2 * np.cos(alpha_obs) ** 2 + b_obs ** 2 * np.sin(alpha_obs) ** 2)\n",
    "    c2_d = 1.0 * rho_obs * (a_obs * wc_alpha * np.cos(alpha_obs) + b_obs * ws_alpha * np.sin(alpha_obs))\n",
    "\n",
    "    d_temp = c2_d / c1_d\n",
    "    d_obs = np.maximum(np.ones((num_obs, num)), d_temp)\n",
    "\n",
    "    res_x_obs_vec = wc_alpha - a_obs * d_obs * np.cos(alpha_obs)\n",
    "    res_y_obs_vec = ws_alpha - b_obs * d_obs * np.sin(alpha_obs)\n",
    "\n",
    "    res_eq_x_vec = np.dot(A_eq, sol_x) - bx_eq\n",
    "    res_eq_y_vec = np.dot(A_eq, sol_y) - by_eq\n",
    "    \n",
    "    lamda_x = lamda_x-rho_obs*np.dot(A_obs.T, res_x_obs_vec.reshape(num_obs * num)) - rho_eq * np.dot(A_eq.T, res_eq_x_vec)\n",
    "    lamda_y = lamda_y-rho_obs*np.dot(A_obs.T, res_y_obs_vec.reshape(num_obs * num)) - rho_eq * np.dot(A_eq.T, res_eq_y_vec)"
   ]
  },
  {
   "cell_type": "code",
   "execution_count": 16,
   "metadata": {},
   "outputs": [
    {
     "data": {
      "text/plain": [
       "(182,)"
      ]
     },
     "execution_count": 16,
     "metadata": {},
     "output_type": "execute_result"
    }
   ],
   "source": [
    "new_sol = np.hstack((sol_x, sol_y, alpha_obs.reshape(-1), d_obs.reshape(-1)))\n",
    "new_sol.shape"
   ]
  },
  {
   "cell_type": "code",
   "execution_count": 17,
   "metadata": {},
   "outputs": [
    {
     "data": {
      "text/plain": [
       "array([-1.6751658 , -1.68951276, -1.52324114, -2.28990924, -0.02903121,\n",
       "       -2.67892934,  0.03876907, -1.18994783, -0.56813012, -0.56799649,\n",
       "       -0.56786717,  2.19920053,  0.76694869, -1.10346246,  0.77083299,\n",
       "       -4.02462577,  0.97830399, -2.21887333, -0.95216784, -0.73627433,\n",
       "       -0.73624414, -0.73621506,  1.49359387,  1.47614969,  1.45273147,\n",
       "        1.41984932,  1.367335  ,  1.28642396,  1.17694747,  1.05269985,\n",
       "        0.9366822 ,  0.84533192,  0.78056644,  0.73675863,  0.70926153,\n",
       "        0.69634445,  0.69654173,  0.70571562,  0.71685165,  0.72335532,\n",
       "        0.7238006 ,  0.72303366,  2.2066572 ,  2.67550559, -2.90869704,\n",
       "       -2.43910483, -2.1933838 , -2.04608281, -1.94679206, -1.87525128,\n",
       "       -1.82016904, -1.77356385, -1.72989868, -1.68639021, -1.64295589,\n",
       "       -1.60111702, -1.56227602, -1.52663475, -1.49389958, -1.46580318,\n",
       "       -1.44779524, -1.44354678,  2.57120368,  2.69387151,  2.81306498,\n",
       "        2.91613655,  3.00297129,  3.075527  ,  3.13378807, -3.10641688,\n",
       "       -3.07859981, -3.06389703, -3.05903667, -3.06093838, -3.06782443,\n",
       "       -3.0793396 , -3.09553773, -3.11529075, -3.13527599,  3.13246586,\n",
       "        3.12492847,  3.12371695,  3.10650667, -3.04393491, -2.93156039,\n",
       "       -2.84433671, -2.77532074, -2.71937241, -2.67480138, -2.64122171,\n",
       "       -2.61769333, -2.60222905, -2.59236654, -2.58610524, -2.5825522 ,\n",
       "       -2.58185609, -2.58440197, -2.58972044, -2.59591866, -2.60040056,\n",
       "       -2.60189372, -2.60189868,  4.21174576,  3.45970021,  2.81109987,\n",
       "        2.29374946,  1.8833357 ,  1.56460519,  1.33741181,  1.20287204,\n",
       "        1.15150756,  1.16395466,  1.21924421,  1.30036012,  1.3953255 ,\n",
       "        1.4965272 ,  1.59936619,  1.69986891,  1.791356  ,  1.86264594,\n",
       "        1.90200319,  1.91001487,  1.49050341,  1.        ,  1.        ,\n",
       "        1.13343376,  1.42239185,  1.6849946 ,  1.89753933,  2.04923195,\n",
       "        2.13849838,  2.17367115,  2.16944005,  2.14058538,  2.09671783,\n",
       "        2.04103945,  1.97396819,  1.89935305,  1.82845647,  1.77689298,\n",
       "        1.75367188,  1.75036732,  5.55449179,  5.18399501,  4.93268629,\n",
       "        4.77594721,  4.66419389,  4.57101393,  4.48691098,  4.40703111,\n",
       "        4.32635398,  4.24052867,  4.14783537,  4.05005379,  3.95191476,\n",
       "        3.85935218,  3.7771865 ,  3.70743115,  3.64960898,  3.60393109,\n",
       "        3.57533636,  3.56843729,  5.67866073,  5.70019957,  5.79625583,\n",
       "        5.91446457,  6.0186772 ,  6.09642149,  6.144088  ,  6.15942124,\n",
       "        6.14150145,  6.09267876,  6.01891837,  5.92823684,  5.82846704,\n",
       "        5.725637  ,  5.62381732,  5.52660387,  5.43946835,  5.37137662,\n",
       "        5.33283013,  5.32468622])"
      ]
     },
     "execution_count": 17,
     "metadata": {},
     "output_type": "execute_result"
    }
   ],
   "source": [
    "new_sol"
   ]
  },
  {
   "cell_type": "code",
   "execution_count": null,
   "metadata": {},
   "outputs": [],
   "source": [
    "new_sol[:15]"
   ]
  },
  {
   "cell_type": "code",
   "execution_count": 19,
   "metadata": {},
   "outputs": [
    {
     "data": {
      "text/plain": [
       "array([ 4.6492705 , -7.27762464,  2.45053826, -0.59394761, -0.07953847,\n",
       "        0.03847494,  0.04978413,  0.03464998,  0.53340047,  2.4514911 ,\n",
       "       -2.26056138])"
      ]
     },
     "execution_count": 19,
     "metadata": {},
     "output_type": "execute_result"
    }
   ],
   "source": [
    "lamda_x"
   ]
  },
  {
   "cell_type": "code",
   "execution_count": 21,
   "metadata": {},
   "outputs": [],
   "source": [
    "x1 = np.dot(P, new_sol[:11])"
   ]
  },
  {
   "cell_type": "code",
   "execution_count": 22,
   "metadata": {},
   "outputs": [],
   "source": [
    "y1 = np.dot(P, new_sol[11:22])"
   ]
  },
  {
   "cell_type": "code",
   "execution_count": 23,
   "metadata": {},
   "outputs": [
    {
     "data": {
      "text/plain": [
       "array([-1.6751658 , -1.67303967, -1.66887841, -1.65507872, -1.61945231,\n",
       "       -1.56104207, -1.48677433, -1.4043049 , -1.31777312, -1.2277359 ,\n",
       "       -1.13370863, -1.0368879 , -0.94116697, -0.85187624, -0.7731814 ,\n",
       "       -0.70614884, -0.64953617, -0.60378099, -0.57483995, -0.56786717])"
      ]
     },
     "execution_count": 23,
     "metadata": {},
     "output_type": "execute_result"
    }
   ],
   "source": [
    "x1"
   ]
  },
  {
   "cell_type": "code",
   "execution_count": null,
   "metadata": {},
   "outputs": [],
   "source": [
    "def cost_fun_new(aug_sol_jax, param_sol):\n",
    "    x_init, vx_init, ax_init, x_fin, vx_fin, ax_fin, y_init, vy_init, ay_init, y_fin, vy_fin, ay_fin = param_sol\n",
    "\n",
    "    bx_eq_jax =  jnp.hstack((x_init, vx_init, ax_init, x_fin, vx_fin, ax_fin))\n",
    "    by_eq_jax =  jnp.hstack((y_init, vy_init, ay_init, y_fin, vy_fin, ay_fin))\n",
    "\n",
    "    c_x = aug_sol_jax[0:nvar]\n",
    "    c_y = aug_sol_jax[nvar:2*nvar]\n",
    "\n",
    "    num_tot = num_obs * num\n",
    "\n",
    "    alpha_obs = aug_sol_jax[2*nvar:2*nvar+num_tot]\n",
    "    d_obs = aug_sol_jax[2*nvar+num_tot:2*nvar+2*num_tot]\n",
    "\n",
    "    cost_smoothness_x = 0.5 * weight_smoothness * jnp.dot(c_x.T, jnp.dot(Q_smoothness_jax, c_x))\n",
    "    cost_smoothness_y = 0.5 * weight_smoothness * jnp.dot(c_y.T, jnp.dot(Q_smoothness_jax, c_y))\n",
    "\n",
    "    temp_x_obs = d_obs * jnp.cos(alpha_obs) * a_obs\n",
    "    b_obs_x = x_obs_jax.reshape(num * num_obs) + temp_x_obs\n",
    "\n",
    "    temp_y_obs = d_obs * jnp.sin(alpha_obs) * b_obs\n",
    "    b_obs_y = y_obs_jax.reshape(num * num_obs) + temp_y_obs\n",
    "\n",
    "    cost_obs_x = 0.5 * rho_obs * (jnp.sum((jnp.dot(A_obs_jax, c_x) - b_obs_x) ** 2))\n",
    "    cost_obs_y = 0.5 * rho_obs * (jnp.sum((jnp.dot(A_obs_jax, c_y) - b_obs_y) ** 2))\n",
    "    \n",
    "    cost_slack = rho_obs * jnp.sum(jnp.maximum(jnp.zeros(num_tot), -d_obs + 1))\n",
    "    cost_eq_x = 0.5 * rho_eq * (jnp.sum((jnp.dot(A_eq_jax, c_x) - bx_eq_jax) ** 2))\n",
    "    cost_eq_y = 0.5 * rho_eq * (jnp.sum((jnp.dot(A_eq_jax, c_y) - by_eq_jax) ** 2))\n",
    "    \n",
    "    cost_x = cost_smoothness_x + cost_obs_x + cost_eq_x - jnp.dot(lamda_x.T, c_x)\n",
    "    cost_y = cost_smoothness_y + cost_obs_y + cost_eq_y - jnp.dot(lamda_y.T, c_y)\n",
    "   \n",
    "    eps = 10 ** (-8.0)\n",
    "    cost = cost_x + cost_y + eps * jnp.sum(c_x ** 2) + eps * jnp.sum(c_y ** 2) + eps * jnp.sum(d_obs ** 2) + eps * jnp.sum(alpha_obs ** 2) + cost_slack\n",
    "    return cost"
   ]
  },
  {
   "cell_type": "code",
   "execution_count": null,
   "metadata": {},
   "outputs": [],
   "source": [
    "cost_fun_new(new_sol, np.hstack((bx_eq, by_eq)))"
   ]
  },
  {
   "cell_type": "code",
   "execution_count": null,
   "metadata": {},
   "outputs": [],
   "source": [
    "hess_inp = jit(jacfwd(jacrev(cost_fun_new)))\n",
    "hess_param = jit(jacfwd(jacrev(cost_fun_new), argnums=1))"
   ]
  },
  {
   "cell_type": "code",
   "execution_count": null,
   "metadata": {},
   "outputs": [],
   "source": [
    "aug_sol_jax = jnp.asarray(new_sol)\n",
    "params = jnp.asarray(np.hstack((bx_eq, by_eq)))\n",
    "\n",
    "F_yy = hess_inp(aug_sol_jax, params)\n",
    "F_xy = hess_param(aug_sol_jax, params)\n",
    "F_yy_inv = jnp.linalg.inv(F_yy)"
   ]
  },
  {
   "cell_type": "code",
   "execution_count": null,
   "metadata": {},
   "outputs": [],
   "source": [
    "dgx = jnp.dot(-F_yy_inv, F_xy)"
   ]
  },
  {
   "cell_type": "code",
   "execution_count": null,
   "metadata": {},
   "outputs": [],
   "source": [
    "dgx.shape"
   ]
  },
  {
   "cell_type": "code",
   "execution_count": null,
   "metadata": {},
   "outputs": [],
   "source": [
    "np.save(\"dgx.npy\", dgx)"
   ]
  },
  {
   "cell_type": "code",
   "execution_count": null,
   "metadata": {},
   "outputs": [],
   "source": [
    "dgx"
   ]
  },
  {
   "cell_type": "code",
   "execution_count": null,
   "metadata": {},
   "outputs": [],
   "source": []
  }
 ],
 "metadata": {
  "kernelspec": {
   "display_name": "Python 3",
   "language": "python",
   "name": "python3"
  },
  "language_info": {
   "codemirror_mode": {
    "name": "ipython",
    "version": 3
   },
   "file_extension": ".py",
   "mimetype": "text/x-python",
   "name": "python",
   "nbconvert_exporter": "python",
   "pygments_lexer": "ipython3",
   "version": "3.8.5"
  }
 },
 "nbformat": 4,
 "nbformat_minor": 4
}
