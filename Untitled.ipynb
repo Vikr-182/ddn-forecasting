{
 "cells": [
  {
   "cell_type": "code",
   "execution_count": 57,
   "id": "22065d5b-3f98-495c-8443-6a7a92893211",
   "metadata": {},
   "outputs": [],
   "source": [
    "import numpy as np\n",
    "import matplotlib.pyplot as plt\n",
    "\n",
    "from utils.spline import Spline2D"
   ]
  },
  {
   "cell_type": "code",
   "execution_count": 58,
   "id": "7d906432-3320-4bc0-a264-a0d01ce2ccb8",
   "metadata": {},
   "outputs": [
    {
     "name": "stdout",
     "output_type": "stream",
     "text": [
      "The autoreload extension is already loaded. To reload it, use:\n",
      "  %reload_ext autoreload\n"
     ]
    }
   ],
   "source": [
    "%load_ext autoreload\n",
    "%autoreload 2"
   ]
  },
  {
   "cell_type": "code",
   "execution_count": 59,
   "id": "770b50e3-5eac-48a4-a096-5c0d084238b5",
   "metadata": {},
   "outputs": [],
   "source": [
    "def global_to_frenet(xs, ys, trajs):\n",
    "    \"\"\"\n",
    "    xs: x coordinates of spline, shape (S, )\n",
    "    ys: y coordinates of spline, shape (S, )\n",
    "    trajs: np array of trajectories, shape (N, T, 2)\n",
    "    where \n",
    "        S is number of points in spline, \n",
    "        N is number of trajectories\n",
    "        T is total timesteps\n",
    "    \"\"\"\n",
    "    spline = Spline2D(xs, ys)\n",
    "    frenet_trajs = []\n",
    "    for traj in trajs:\n",
    "        poses = []\n",
    "        for pos in traj:\n",
    "            s, d = spline.calc_frenet_position(pos[0], pos[1])\n",
    "            poses.append([s,d])\n",
    "        frenet_trajs.append(poses)\n",
    "    return np.array(frenet_trajs)"
   ]
  },
  {
   "cell_type": "code",
   "execution_count": 73,
   "id": "3d393b73-4930-4843-b6d7-8039462131dd",
   "metadata": {
    "tags": []
   },
   "outputs": [
    {
     "data": {
      "text/plain": [
       "<matplotlib.legend.Legend at 0x7f3ec738ba60>"
      ]
     },
     "execution_count": 73,
     "metadata": {},
     "output_type": "execute_result"
    },
    {
     "data": {
      "image/png": "[encoded data removed]",
      "text/plain": [
       "<Figure size 1080x360 with 2 Axes>"
      ]
     },
     "metadata": {
      "needs_background": "light"
     },
     "output_type": "display_data"
    }
   ],
   "source": [
    "# lane centerline is y = x**2, sampled along delta_x=0.5 intervals.\n",
    "# trajectory is y = mx, where m in [1,2,3]\n",
    "\n",
    "pwr = 1\n",
    "\n",
    "xs = np.linspace(0, 100, 100*2)\n",
    "ys = 0.1 * xs ** 1\n",
    "spline = Spline2D(xs, ys, debug=False)\n",
    "\n",
    "ego_x = np.linspace(0, 100, 100)\n",
    "ego_y = ego_x ** 1 * 0.1 + 50\n",
    "ego_traj = np.dstack((ego_x, ego_y))\n",
    "obstacle_x = np.linspace(0, 100, 100)\n",
    "obstacle_y = obstacle_x ** 1 * 0.1 - 50\n",
    "obstacle_traj = np.dstack((obstacle_x, obstacle_y))\n",
    "\n",
    "trajs = np.concatenate((ego_traj, obstacle_traj)) # of shape 2x100x2\n",
    "\n",
    "frenet_trajs = global_to_frenet(xs, ys, trajs)\n",
    "\n",
    "f, (ax1, ax2) = plt.subplots(1, 2, figsize=(15, 5), sharey=True)\n",
    "\n",
    "ax1.plot(ego_x, ego_y, color=\"green\", label=\"ego\")\n",
    "ax1.plot(obstacle_x, obstacle_y, color=\"blue\", label=\"obstacle\")\n",
    "ax1.plot(xs, ys, color=\"red\", label=\"spline\")\n",
    "ax1.set_title(\"Global Frame\")\n",
    "\n",
    "ax2.plot(frenet_trajs[0, :, 0], frenet_trajs[0, :, 1], color=\"green\", label=\"ego\")\n",
    "ax2.plot(frenet_trajs[1, :, 0], frenet_trajs[1, :, 1], color=\"blue\", label=\"obstacle\")\n",
    "ax2.set_title(\"Frenet Frame, s vs d\")\n",
    "\n",
    "ax1.legend()\n",
    "ax2.legend()"
   ]
  },
  {
   "cell_type": "code",
   "execution_count": 76,
   "id": "13adc98f-50a2-4102-99b6-7c57222d1ed0",
   "metadata": {},
   "outputs": [],
   "source": [
    "import torch\n",
    "def project_to_frenet_frame(traj, ref_line):\n",
    "    distance_to_ref = torch.cdist(traj[:, :, :2], ref_line[:, :, :2])\n",
    "    k = torch.argmin(distance_to_ref, dim=-1).view(-1, traj.shape[1], 1).expand(-1, -1, 3)\n",
    "    ref_points = torch.gather(ref_line, 1, k)\n",
    "    x_r, y_r, theta_r = ref_points[:, :, 0], ref_points[:, :, 1], ref_points[:, :, 2] \n",
    "    x, y = traj[:, :, 0], traj[:, :, 1]\n",
    "    s = 0.1 * (k[:, :, 0] - 200)\n",
    "    l = torch.sign((y-y_r)*torch.cos(theta_r)-(x-x_r)*torch.sin(theta_r)) * torch.sqrt(torch.square(x-x_r)+torch.square(y-y_r))\n",
    "    sl = torch.stack([s, l], dim=-1)\n",
    "\n",
    "    return sl"
   ]
  },
  {
   "cell_type": "code",
   "execution_count": 79,
   "id": "13f3bc88-2b7a-486b-abb2-ddc248262732",
   "metadata": {},
   "outputs": [
    {
     "ename": "RuntimeError",
     "evalue": "Size does not match at dimension 0 expected index [2, 100, 3] to be smaller than self [1, 2, 200] apart from dimension 1",
     "output_type": "error",
     "traceback": [
      "\u001b[0;31m---------------------------------------------------------------------------\u001b[0m",
      "\u001b[0;31mRuntimeError\u001b[0m                              Traceback (most recent call last)",
      "Input \u001b[0;32mIn [79]\u001b[0m, in \u001b[0;36m<cell line: 1>\u001b[0;34m()\u001b[0m\n\u001b[0;32m----> 1\u001b[0m \u001b[43mproject_to_frenet_frame\u001b[49m\u001b[43m(\u001b[49m\u001b[43mtorch\u001b[49m\u001b[38;5;241;43m.\u001b[39;49m\u001b[43mtensor\u001b[49m\u001b[43m(\u001b[49m\u001b[43mtrajs\u001b[49m\u001b[43m)\u001b[49m\u001b[43m,\u001b[49m\u001b[43m \u001b[49m\u001b[43mtorch\u001b[49m\u001b[38;5;241;43m.\u001b[39;49m\u001b[43mtensor\u001b[49m\u001b[43m(\u001b[49m\u001b[43mnp\u001b[49m\u001b[38;5;241;43m.\u001b[39;49m\u001b[43marray\u001b[49m\u001b[43m(\u001b[49m\u001b[43m[\u001b[49m\u001b[43m[\u001b[49m\u001b[43mxs\u001b[49m\u001b[43m,\u001b[49m\u001b[43m \u001b[49m\u001b[43mys\u001b[49m\u001b[43m]\u001b[49m\u001b[43m]\u001b[49m\u001b[43m)\u001b[49m\u001b[43m)\u001b[49m\u001b[43m)\u001b[49m\n",
      "Input \u001b[0;32mIn [76]\u001b[0m, in \u001b[0;36mproject_to_frenet_frame\u001b[0;34m(traj, ref_line)\u001b[0m\n\u001b[1;32m      3\u001b[0m distance_to_ref \u001b[38;5;241m=\u001b[39m torch\u001b[38;5;241m.\u001b[39mcdist(traj[:, :, :\u001b[38;5;241m2\u001b[39m], ref_line[:, :, :\u001b[38;5;241m2\u001b[39m])\n\u001b[1;32m      4\u001b[0m k \u001b[38;5;241m=\u001b[39m torch\u001b[38;5;241m.\u001b[39margmin(distance_to_ref, dim\u001b[38;5;241m=\u001b[39m\u001b[38;5;241m-\u001b[39m\u001b[38;5;241m1\u001b[39m)\u001b[38;5;241m.\u001b[39mview(\u001b[38;5;241m-\u001b[39m\u001b[38;5;241m1\u001b[39m, traj\u001b[38;5;241m.\u001b[39mshape[\u001b[38;5;241m1\u001b[39m], \u001b[38;5;241m1\u001b[39m)\u001b[38;5;241m.\u001b[39mexpand(\u001b[38;5;241m-\u001b[39m\u001b[38;5;241m1\u001b[39m, \u001b[38;5;241m-\u001b[39m\u001b[38;5;241m1\u001b[39m, \u001b[38;5;241m3\u001b[39m)\n\u001b[0;32m----> 5\u001b[0m ref_points \u001b[38;5;241m=\u001b[39m \u001b[43mtorch\u001b[49m\u001b[38;5;241;43m.\u001b[39;49m\u001b[43mgather\u001b[49m\u001b[43m(\u001b[49m\u001b[43mref_line\u001b[49m\u001b[43m,\u001b[49m\u001b[43m \u001b[49m\u001b[38;5;241;43m1\u001b[39;49m\u001b[43m,\u001b[49m\u001b[43m \u001b[49m\u001b[43mk\u001b[49m\u001b[43m)\u001b[49m\n\u001b[1;32m      6\u001b[0m x_r, y_r, theta_r \u001b[38;5;241m=\u001b[39m ref_points[:, :, \u001b[38;5;241m0\u001b[39m], ref_points[:, :, \u001b[38;5;241m1\u001b[39m], ref_points[:, :, \u001b[38;5;241m2\u001b[39m] \n\u001b[1;32m      7\u001b[0m x, y \u001b[38;5;241m=\u001b[39m traj[:, :, \u001b[38;5;241m0\u001b[39m], traj[:, :, \u001b[38;5;241m1\u001b[39m]\n",
      "\u001b[0;31mRuntimeError\u001b[0m: Size does not match at dimension 0 expected index [2, 100, 3] to be smaller than self [1, 2, 200] apart from dimension 1"
     ]
    }
   ],
   "source": [
    "project_to_frenet_frame(torch.tensor(trajs), torch.tensor(np.array([[xs, ys]])))"
   ]
  },
  {
   "cell_type": "markdown",
   "id": "47c11a1b-28fc-4a1f-8f5b-9333fa3c3f95",
   "metadata": {},
   "source": [
    "The above graph verifies the results as \n",
    "- The blue trajectory (obstace) meets the spline at start and end. Consequently, d=0 at start and end\n",
    "- The green trajectory (ego) meet the spline at start at somewhere in middle. We see the same in graph as well."
   ]
  }
 ],
 "metadata": {
  "kernelspec": {
   "display_name": "Python 3 (ipykernel)",
   "language": "python",
   "name": "python3"
  },
  "language_info": {
   "codemirror_mode": {
    "name": "ipython",
    "version": 3
   },
   "file_extension": ".py",
   "mimetype": "text/x-python",
   "name": "python",
   "nbconvert_exporter": "python",
   "pygments_lexer": "ipython3",
   "version": "3.8.10"
  }
 },
 "nbformat": 4,
 "nbformat_minor": 5
}
