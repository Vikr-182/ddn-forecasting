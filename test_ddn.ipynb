{
 "cells": [
  {
   "cell_type": "code",
   "execution_count": 1,
   "id": "1c9e8579-c90c-4d05-b72c-4e13e9281f35",
   "metadata": {},
   "outputs": [],
   "source": [
    "import os\n",
    "import sys\n",
    "sys.path.append(\"/Users/shashank/University/rrc/ddn/\")\n",
    "import warnings\n",
    "warnings.filterwarnings('ignore')\n",
    "\n",
    "import torch\n",
    "import numpy as np\n",
    "import scipy.special\n",
    "import torch.nn as nn\n",
    "import torch.nn.functional as F\n",
    "import matplotlib.pyplot as plt\n",
    "\n",
    "from scipy.linalg import block_diag\n",
    "from torch.utils.data import Dataset, DataLoader\n",
    "from bernstein_coeff_order10_arbitinterval import bernstein_coeff_order10_new\n",
    "from ddn.pytorch.node import LinEqConstDeclarativeNode, AbstractDeclarativeNode, EqConstDeclarativeNode"
   ]
  },
  {
   "cell_type": "markdown",
   "id": "0f17ab4d-b891-48ad-a7f7-965a4a4ad108",
   "metadata": {},
   "source": [
    "#### CUDA Initialization"
   ]
  },
  {
   "cell_type": "code",
   "execution_count": 2,
   "id": "7a96cfe1-fb62-4acd-991c-154bde54363d",
   "metadata": {},
   "outputs": [
    {
     "name": "stdout",
     "output_type": "stream",
     "text": [
      "Using cpu device\n"
     ]
    }
   ],
   "source": [
    "device = 'cuda' if torch.cuda.is_available() else 'cpu'\n",
    "print('Using {} device'.format(device))"
   ]
  },
  {
   "cell_type": "code",
   "execution_count": 3,
   "id": "a0f96be6-a1c3-4977-89a2-5657d030adfc",
   "metadata": {},
   "outputs": [],
   "source": [
    "class OPTNode(AbstractDeclarativeNode):\n",
    "    def __init__(self, rho_eq=1.0, rho_goal=1.0, rho_lane=1.0, rho_nonhol=1.0, rho_w_psi=1.0, rho_psi=1.0, maxiter=500, weight_smoothness=1.0, weight_smoothness_psi=1.0, t_fin=8.0, num=100, rho_mid=0.01):\n",
    "        super().__init__()\n",
    "        self.rho_eq = rho_eq\n",
    "        self.rho_goal = rho_goal\n",
    "        self.rho_lane = rho_lane\n",
    "        self.rho_nonhol = rho_nonhol\n",
    "        self.rho_w_psi = rho_w_psi\n",
    "        self.rho_psi = rho_psi\n",
    "        self.maxiter = maxiter\n",
    "        self.weight_smoothness = weight_smoothness\n",
    "        self.weight_smoothness_psi = weight_smoothness_psi\n",
    "\n",
    "        self.t_fin = t_fin\n",
    "        self.num = num\n",
    "        self.t = self.t_fin / self.num\n",
    "\n",
    "        tot_time = torch.linspace(0.0, self.t_fin, self.num).to(device)\n",
    "        tot_time_copy = tot_time.reshape(self.num, 1)\n",
    "        self.P, self.Pdot, self.Pddot = bernstein_coeff_order10_new(10, tot_time_copy[0], tot_time_copy[-1], tot_time_copy)\n",
    "\n",
    "        self.nvar = np.shape(self.P)[1]\n",
    "        self.A_eq_psi = np.vstack((self.P[0], self.Pdot[0], self.P[-1], self.Pdot[-1]))\n",
    "\n",
    "        self.cost_smoothness = self.weight_smoothness * np.dot(self.Pddot.T, self.Pddot)\n",
    "        self.cost_smoothness_v = self.weight_smoothness * np.dot(self.Pddot.T, self.Pddot)\n",
    "        self.cost_smoothness_psi = self.weight_smoothness_psi * np.dot(self.Pddot.T, self.Pddot)\n",
    "        self.lincost_smoothness_psi = np.zeros(self.nvar)\n",
    "\n",
    "        self.P = torch.tensor(self.P, dtype=torch.double).to(device)\n",
    "        self.Pdot = torch.tensor(self.Pdot, dtype=torch.double).to(device)\n",
    "        self.Pddot = torch.tensor(self.Pddot, dtype=torch.double).to(device)\n",
    "        self.A_eq_psi = torch.tensor(self.A_eq_psi, dtype=torch.double).to(device)\n",
    "        self.cost_smoothness = torch.tensor(self.cost_smoothness, dtype=torch.double).to(device)\n",
    "        self.cost_smoothness_v = torch.tensor(self.cost_smoothness_v, dtype=torch.double).to(device)\n",
    "        self.cost_smoothness_psi = torch.tensor(self.cost_smoothness_psi, dtype=torch.double).to(device)\n",
    "        self.lincost_smoothness_psi = torch.tensor(self.lincost_smoothness_psi, dtype=torch.double).to(device)\n",
    "\n",
    "        self.rho_mid = rho_mid\n",
    "        self.mid_idx = torch.tensor([int(self.num/4), int(self.num/2), int(3*self.num/4)]).to(device)\n",
    "        \n",
    "        self.A_w = self.P\n",
    "        self.A_w_psi = self.P\n",
    "        self.A_psi = self.P\n",
    "\n",
    "    def compute_w_psi(self, x_init, y_init, x_fin, y_fin, x_mid, y_mid, psi, v, lamda_wc, lamda_ws):\n",
    "        b_wc_psi = torch.cos(psi).double()\n",
    "        b_ws_psi = torch.sin(psi).double()\n",
    "\n",
    "        temp_x = torch.cumsum(self.P * (v * self.t)[:, np.newaxis], axis=0)\n",
    "        temp_y = torch.cumsum(self.P * (v * self.t)[:, np.newaxis], axis=0)\n",
    "\n",
    "        A_x = temp_x[0:self.num - 1]\n",
    "        A_y = temp_y[0:self.num - 1]\n",
    "\n",
    "        A_x_goal = A_x[-1].reshape(1, self.nvar)\n",
    "        b_x_goal = torch.tensor([x_fin - x_init], dtype=torch.double)\n",
    "\n",
    "        A_y_goal = A_y[-1].reshape(1, self.nvar)\n",
    "        b_y_goal = torch.tensor([y_fin - y_init], dtype=torch.double)\n",
    "\n",
    "        A_x_mid = A_x[self.mid_idx]\n",
    "        A_y_mid = A_y[self.mid_idx]\n",
    "\n",
    "        b_x_mid = x_mid - x_init\n",
    "        b_y_mid = y_mid - y_init\n",
    "\n",
    "        obj_x_goal = self.rho_goal * torch.matmul(A_x_goal.T, A_x_goal)\n",
    "        linterm_augment_x_goal = -self.rho_goal * torch.matmul(A_x_goal.T, b_x_goal)\n",
    "\n",
    "        obj_y_goal = self.rho_goal * torch.matmul(A_y_goal.T, A_y_goal)\n",
    "        linterm_augment_y_goal = -self.rho_goal * torch.matmul(A_y_goal.T, b_y_goal)\n",
    "\n",
    "        obj_x_mid = self.rho_mid * torch.matmul(A_x_mid.T, A_x_mid)\n",
    "        linterm_augment_x_mid = -self.rho_mid * torch.matmul(A_x_mid.T, b_x_mid)\n",
    "\n",
    "        obj_y_mid = self.rho_mid * torch.matmul(A_y_mid.T, A_y_mid)\n",
    "        linterm_augment_y_mid = -self.rho_mid * torch.matmul(A_y_mid.T, b_y_mid)\n",
    "\n",
    "        obj_wc_psi = self.rho_w_psi * torch.matmul(self.A_w_psi.T, self.A_w_psi)\n",
    "        linterm_augment_wc_psi = -self.rho_w_psi * torch.matmul(self.A_w_psi.T, b_wc_psi)\n",
    "\n",
    "        obj_ws_psi = self.rho_w_psi * torch.matmul(self.A_w_psi.T, self.A_w_psi)\n",
    "        linterm_augment_ws_psi = -self.rho_w_psi * torch.matmul(self.A_w_psi.T, b_ws_psi)\n",
    "\n",
    "        cost_wc = obj_wc_psi + obj_x_goal + obj_x_mid\n",
    "        lincost_wc = -lamda_wc + linterm_augment_x_goal + linterm_augment_wc_psi + linterm_augment_x_mid\n",
    "\n",
    "        cost_ws = obj_y_goal + obj_ws_psi + obj_y_mid\n",
    "        lincost_ws = -lamda_ws + linterm_augment_y_goal + linterm_augment_ws_psi + linterm_augment_y_mid\n",
    "\n",
    "        c_wc_psi = torch.linalg.solve(-cost_wc, lincost_wc)\n",
    "        c_ws_psi = torch.linalg.solve(-cost_ws, lincost_ws)\n",
    "\n",
    "        wc = torch.matmul(self.P, c_wc_psi)\n",
    "        ws = torch.matmul(self.P, c_ws_psi)\n",
    "\n",
    "        return wc, ws, c_wc_psi, c_ws_psi\n",
    "\n",
    "    def compute_psi(self, wc, ws, b_eq_psi, lamda_psi):\n",
    "        b_psi = torch.atan2(ws, wc).double()\n",
    "        obj_psi = self.rho_psi * torch.matmul(self.A_psi.T, self.A_psi)\n",
    "        linterm_augment_psi = -self.rho_psi * torch.matmul(self.A_psi.T, b_psi)\n",
    "\n",
    "        cost_psi = self.cost_smoothness_psi + obj_psi + self.rho_eq * torch.matmul(self.A_eq_psi.T, self.A_eq_psi)\n",
    "        lincost_psi = -lamda_psi + linterm_augment_psi - self.rho_eq * torch.matmul(self.A_eq_psi.T, b_eq_psi)\n",
    "        sol = torch.linalg.solve(-cost_psi, lincost_psi)\n",
    "\n",
    "        c_psi = sol[0:self.nvar]\n",
    "        psi = torch.matmul(self.P, c_psi)\n",
    "\n",
    "        res_psi = torch.matmul(self.A_psi, c_psi) - b_psi\n",
    "        res_eq_psi = torch.matmul(self.A_eq_psi, c_psi) - b_eq_psi\n",
    "        lamda_psi = lamda_psi - self.rho_psi * torch.matmul(self.A_psi.T, res_psi) - self.rho_eq * torch.matmul(self.A_eq_psi.T, res_eq_psi)\n",
    "        return psi, c_psi, torch.linalg.norm(res_psi), torch.linalg.norm(res_eq_psi), lamda_psi\n",
    "    \n",
    "    def compute_v(self, v_init, x_init, x_fin, x_mid, y_init, y_fin, y_mid, psi, lamda_v):\n",
    "        temp_x = torch.cumsum(self.P * (torch.cos(psi) * self.t)[:, np.newaxis], axis=0)\n",
    "        temp_y = torch.cumsum(self.P * (torch.sin(psi) * self.t)[:, np.newaxis], axis=0)\n",
    "\n",
    "        A_x = temp_x[0:self.num - 1]\n",
    "        A_y = temp_y[0:self.num - 1]\n",
    "\n",
    "        A_x_goal = A_x[-1].resize(1, self.nvar)\n",
    "        b_x_goal = (x_fin - x_init).unsqueeze(0)\n",
    "\n",
    "        A_y_goal = A_y[-1].resize(1, self.nvar)\n",
    "        b_y_goal = (y_fin - y_init).unsqueeze(0)\n",
    "\n",
    "        A_x_mid = A_x[self.mid_idx]\n",
    "        A_y_mid = A_y[self.mid_idx]\n",
    "\n",
    "        b_x_mid = x_mid - x_init\n",
    "        b_y_mid = y_mid - y_init\n",
    "\n",
    "        A_vel_init = self.P[0].reshape(1, self.nvar)\n",
    "        b_vel_init = torch.tensor([v_init], dtype=torch.double)\n",
    "\n",
    "        obj_x_goal = self.rho_goal * torch.matmul(A_x_goal.T, A_x_goal)\n",
    "        linterm_augment_x_goal = -self.rho_goal * torch.matmul(A_x_goal.T, b_x_goal)\n",
    "\n",
    "        obj_y_goal = self.rho_goal * torch.matmul(A_y_goal.T, A_y_goal)\n",
    "        linterm_augment_y_goal = -self.rho_goal * torch.matmul(A_y_goal.T, b_y_goal)\n",
    "\n",
    "        obj_x_mid = self.rho_mid * torch.matmul(A_x_mid.T, A_x_mid)\n",
    "        linterm_augment_x_mid = -self.rho_mid * torch.matmul(A_x_mid.T, b_x_mid)\n",
    "\n",
    "        obj_y_mid = self.rho_mid * torch.matmul(A_y_mid.T, A_y_mid)\n",
    "        linterm_augment_y_mid = -self.rho_mid * torch.matmul(A_y_mid.T, b_y_mid)\n",
    "\n",
    "        obj_v_init = self.rho_eq * torch.matmul(A_vel_init.T, A_vel_init)\n",
    "        linterm_augment_v_init = -self.rho_eq * torch.matmul(A_vel_init.T, b_vel_init)\n",
    "\n",
    "        cost = obj_x_goal + obj_y_goal + self.cost_smoothness_v + obj_x_mid + obj_y_mid + obj_v_init\n",
    "        lincost = -lamda_v + linterm_augment_x_goal + linterm_augment_y_goal + linterm_augment_x_mid + linterm_augment_y_mid + linterm_augment_v_init\n",
    "\n",
    "        sol = torch.linalg.solve(-cost, lincost)\n",
    "\n",
    "        v = torch.matmul(self.P, sol)\n",
    "\n",
    "        res_v_init = torch.matmul(A_vel_init, sol) - b_vel_init\n",
    "        lamda_v = lamda_v - self.rho_eq * torch.matmul(A_vel_init.T, res_v_init)\n",
    "\n",
    "        return sol, lamda_v, v\n",
    "    \n",
    "    def optimize(self, fixed_params, variable_params):\n",
    "        x_init, y_init, v_init, psi_init, psidot_init = fixed_params\n",
    "        x_fin, y_fin, v_fin, psi_fin, psidot_fin = variable_params[:5]\n",
    "        x_mid = variable_params[5::2]\n",
    "        y_mid = variable_params[6::2]\n",
    "\n",
    "        v = v_init * torch.ones(self.num, dtype=torch.double).to(device)\n",
    "        psi = psi_init * torch.ones(self.num, dtype=torch.double).to(device)\n",
    "\n",
    "        res_psi = torch.ones(self.maxiter, dtype=torch.double).to(device)\n",
    "        res_w_psi = torch.ones(self.maxiter, dtype=torch.double).to(device)\n",
    "        res_w = torch.ones(self.maxiter, dtype=torch.double).to(device)\n",
    "        res_eq_psi = torch.ones(self.maxiter, dtype=torch.double).to(device)\n",
    "        res_eq = torch.ones(self.maxiter, dtype=torch.double).to(device)\n",
    "        b_eq_psi = torch.hstack((psi_init, psidot_init, psi_fin, psidot_fin))\n",
    "\n",
    "        lamda_wc = torch.zeros(self.nvar, dtype=torch.double).to(device)\n",
    "        lamda_ws = torch.zeros(self.nvar, dtype=torch.double).to(device)\n",
    "        lamda_psi = torch.zeros(self.nvar, dtype=torch.double).to(device)\n",
    "        lamda_v = torch.zeros(self.nvar, dtype=torch.double).to(device)\n",
    "        \n",
    "        for i in range(0, self.maxiter):\n",
    "            wc, ws, c_wc_psi, c_ws_psi = self.compute_w_psi(x_init, y_init, x_fin, y_fin, x_mid, y_mid, psi, v, lamda_wc, lamda_ws)\n",
    "            psi, c_psi, res_psi[i], res_eq_psi[i], lamda_psi = self.compute_psi(wc, ws, b_eq_psi, lamda_psi)\n",
    "            c_v, lamda_v, v = self.compute_v(v_init, x_init, x_fin, x_mid, y_init, y_fin, y_mid, psi, lamda_v)\n",
    "\n",
    "            res_wc = wc - torch.cos(psi)\n",
    "            res_ws = ws - torch.sin(psi)\n",
    "            \n",
    "            lamda_wc = lamda_wc - self.rho_w_psi * torch.matmul(self.A_w.T, res_wc)\n",
    "            lamda_ws = lamda_ws - self.rho_w_psi * torch.matmul(self.A_w.T, res_ws)\n",
    "\n",
    "            res_w[i] = torch.linalg.norm(torch.hstack((res_wc, res_ws)))\n",
    "            \n",
    "        primal_sol = torch.hstack((c_psi, c_v))\n",
    "        return primal_sol\n",
    "    \n",
    "    def solve(self, fixed_params, variable_params):\n",
    "        batch_size, _ = fixed_params.size()\n",
    "        y = torch.zeros(batch_size, 2 * self.nvar, dtype=torch.double).to(device)\n",
    "        mid_size = self.mid_idx.size()[0]\n",
    "        for i in range(batch_size):\n",
    "            fixed_params_cur = fixed_params[i]\n",
    "            variable_params_cur = variable_params[i]\n",
    "            primal_sol = self.optimize(fixed_params_cur, variable_params_cur)\n",
    "            y[i, :] = primal_sol\n",
    "        return y, None\n",
    "    \n",
    "    def objective(self, fixed_params, variable_params, y):\n",
    "        x_init, y_init, v_init, psi_init, psidot_init = torch.chunk(fixed_params, 5, dim=1)\n",
    "        x_fin, y_fin, v_fin, psi_fin, psidot_fin = torch.chunk(variable_params[:, :5], 5, dim=1)\n",
    "        x_mid = variable_params[:, 5::2]\n",
    "        y_mid = variable_params[:, 6::2]\n",
    "        \n",
    "        c_psi = y[:, :self.nvar]\n",
    "        c_v = y[:, self.nvar:]\n",
    "        \n",
    "        v_new = torch.matmul(self.P, c_v.T)\n",
    "        psi_new = torch.matmul(self.P, c_psi.T)\n",
    "        psidot_new = torch.matmul(self.Pdot, c_psi.T)\n",
    "        \n",
    "        x_temp = x_init + torch.cumsum(v_new * torch.cos(psi_new) * self.t, dim=0).T\n",
    "        y_temp = y_init + torch.cumsum(v_new * torch.sin(psi_new) * self.t, dim=0).T\n",
    "        \n",
    "        x = torch.hstack((x_init, x_temp[:, :-1]))\n",
    "        y = torch.hstack((y_init, y_temp[:, :-1]))\n",
    "        \n",
    "        cost_final_pos = 0.5 * self.rho_goal * ((x[:, -1:] - x_fin) ** 2 + (y[:, -1:] - y_fin) ** 2)\n",
    "        cost_psi_term = 0.5 * self.rho_eq * ((psi_new[:1, :].T - psi_init) ** 2 + (psidot_new[:1, :].T - psidot_init) ** 2 + (psi_new[-1:, :].T - psi_fin) ** 2 + (psidot_new[-1:, :].T - psidot_fin) ** 2)\n",
    "        cost_v_term = 0.5 * self.rho_eq * (v_new[:1, :].T - v_init) ** 2\n",
    "        cost_mid_term = 0.5 * self.rho_mid * (torch.sum((x[:, self.mid_idx] - x_mid) ** 2, dim=1, keepdim=True) + torch.sum((y[:, self.mid_idx] - y_mid) ** 2, dim=1, keepdim=True))\n",
    "        \n",
    "        cost = cost_final_pos + cost_psi_term + cost_v_term + cost_mid_term\n",
    "        return cost"
   ]
  },
  {
   "cell_type": "markdown",
   "id": "eb7f01c7-09c8-4be9-a8dd-58389ff5dbc9",
   "metadata": {},
   "source": [
    "#### Test with original inputs"
   ]
  },
  {
   "cell_type": "code",
   "execution_count": 4,
   "id": "5d195962-a356-47ee-ab7c-24427eed6c22",
   "metadata": {},
   "outputs": [],
   "source": [
    "x_init = 129\n",
    "y_init = 202.3 - 2.0\n",
    "\n",
    "x_fin = 238\n",
    "y_fin = 139.0 - 6.0\n",
    "\n",
    "v_init = 20.0\n",
    "v_fin =  16.0\n",
    "\n",
    "vdot_init = 0.0\n",
    "vdot_fin = 0.0\n",
    "\n",
    "psi_init = 0.0\n",
    "psidot_init = 0.0\n",
    "psiddot_init = 0.0\n",
    "\n",
    "psi_fin = -91 * np.pi / 180\n",
    "psidot_fin = 0.0\n",
    "psiddot_fin = 0.0\n",
    "\n",
    "x_mid = np.hstack((162, 198, 228))\n",
    "y_mid = np.hstack((202, 193, 170))"
   ]
  },
  {
   "cell_type": "code",
   "execution_count": 5,
   "id": "2d5a88bb-8d14-4145-b0ee-565e264cf8cb",
   "metadata": {},
   "outputs": [
    {
     "data": {
      "text/plain": [
       "((5,), (11,))"
      ]
     },
     "execution_count": 5,
     "metadata": {},
     "output_type": "execute_result"
    }
   ],
   "source": [
    "fixed_params = np.array([x_init, y_init, v_init, psi_init, psidot_init])\n",
    "variable_params = np.array([x_fin, y_fin, v_fin, psi_fin, psidot_fin, x_mid[0], y_mid[0], x_mid[1], y_mid[1], x_mid[2], y_mid[2]])\n",
    "fixed_params.shape, variable_params.shape"
   ]
  },
  {
   "cell_type": "code",
   "execution_count": 8,
   "id": "329fa79b-b451-4a2f-b235-a5868f4dcced",
   "metadata": {},
   "outputs": [],
   "source": [
    "fixed_params_new = torch.tensor([fixed_params], dtype=torch.double).to(device)\n",
    "variable_params_new = torch.tensor([variable_params], dtype=torch.double).to(device)"
   ]
  },
  {
   "cell_type": "code",
   "execution_count": 9,
   "id": "39981fd2-4be7-47fa-ba33-f97b38caadcf",
   "metadata": {},
   "outputs": [],
   "source": [
    "opt_node = OPTNode()\n",
    "primal_sol, _ = opt_node.solve(fixed_params_new, variable_params_new)"
   ]
  },
  {
   "cell_type": "code",
   "execution_count": 10,
   "id": "8274dfaf-cffc-4956-9ade-eb3fd722932f",
   "metadata": {},
   "outputs": [
    {
     "data": {
      "text/plain": [
       "tensor([[ 4.2368e-05,  7.0907e-05,  2.2459e-03,  2.2370e-02, -3.5275e-01,\n",
       "         -6.6612e-02, -8.7917e-01, -7.2940e-01, -1.3671e+00, -1.5883e+00,\n",
       "         -1.5883e+00,  2.0000e+01,  1.9729e+01,  1.9459e+01,  1.9205e+01,\n",
       "          1.8979e+01,  1.8772e+01,  1.8586e+01,  1.8404e+01,  1.8225e+01,\n",
       "          1.8046e+01,  1.7867e+01]], dtype=torch.float64)"
      ]
     },
     "execution_count": 10,
     "metadata": {},
     "output_type": "execute_result"
    }
   ],
   "source": [
    "primal_sol"
   ]
  },
  {
   "cell_type": "markdown",
   "id": "d3053304-dfe0-4a7f-b843-2080fb227d78",
   "metadata": {},
   "source": [
    "#### Test with random inputs"
   ]
  },
  {
   "cell_type": "code",
   "execution_count": null,
   "id": "271b294a-98e8-4dbc-bbf0-def9310cee4a",
   "metadata": {},
   "outputs": [],
   "source": [
    "fixed_params_new = torch.randn(10, 5, dtype=torch.double).to(device)\n",
    "variable_params_new = torch.randn(10, 11, dtype=torch.double).to(device)\n",
    "variable_params_new.requires_grad = True"
   ]
  },
  {
   "cell_type": "code",
   "execution_count": null,
   "id": "fac5a35f-275f-467e-9c03-a570be321cb8",
   "metadata": {},
   "outputs": [],
   "source": [
    "variable_params_new[7]"
   ]
  },
  {
   "cell_type": "code",
   "execution_count": null,
   "id": "618dd096-6176-4b52-8087-2531a79b1d85",
   "metadata": {},
   "outputs": [],
   "source": [
    "fixed_params_new[7]"
   ]
  },
  {
   "cell_type": "code",
   "execution_count": null,
   "id": "9b89f3be-2ab7-4ce8-afd5-5c53ff29b67d",
   "metadata": {},
   "outputs": [],
   "source": [
    "opt_node = OPTNode()\n",
    "primal_sol, _ = opt_node.solve(fixed_params_new, variable_params_new)"
   ]
  },
  {
   "cell_type": "code",
   "execution_count": null,
   "id": "81e928d7-430f-4729-8a23-9df16ed5d89e",
   "metadata": {},
   "outputs": [],
   "source": [
    "primal_sol.size()"
   ]
  },
  {
   "cell_type": "code",
   "execution_count": null,
   "id": "3c5597b1-bfa8-49e9-8d83-43a488f4b422",
   "metadata": {},
   "outputs": [],
   "source": [
    "primal_sol[7]"
   ]
  },
  {
   "cell_type": "code",
   "execution_count": null,
   "id": "dffa9f1d-6194-46bb-910b-85649dfc8c9d",
   "metadata": {},
   "outputs": [],
   "source": [
    "cost = opt_node.objective(fixed_params_new, variable_params_new, primal_sol)\n",
    "cost"
   ]
  },
  {
   "cell_type": "code",
   "execution_count": null,
   "id": "9d294dbc-8b3f-473a-8b73-6a3ed408865f",
   "metadata": {},
   "outputs": [],
   "source": [
    "cost[7]"
   ]
  },
  {
   "cell_type": "code",
   "execution_count": null,
   "id": "450190b4-888d-48e8-ae52-018ee7a220a4",
   "metadata": {},
   "outputs": [],
   "source": [
    "# opt_node.gradient(fixed_params_new, variable_params_new, y=primal_sol)\n",
    "primal_sol.requires_grad = True\n",
    "variable_params_new.requires_grad = True\n",
    "opt_node.gradient(fixed_params_new, variable_params_new, y=primal_sol)"
   ]
  },
  {
   "cell_type": "code",
   "execution_count": null,
   "id": "79695c3f-5a6b-4855-ac4b-4eb7bb06a9af",
   "metadata": {},
   "outputs": [],
   "source": []
  }
 ],
 "metadata": {
  "kernelspec": {
   "display_name": "Python 3 (ipykernel)",
   "language": "python",
   "name": "python3"
  },
  "language_info": {
   "codemirror_mode": {
    "name": "ipython",
    "version": 3
   },
   "file_extension": ".py",
   "mimetype": "text/x-python",
   "name": "python",
   "nbconvert_exporter": "python",
   "pygments_lexer": "ipython3",
   "version": "3.7.10"
  }
 },
 "nbformat": 4,
 "nbformat_minor": 5
}
