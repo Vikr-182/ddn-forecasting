{
 "cells": [
  {
   "cell_type": "code",
   "execution_count": 1,
   "metadata": {},
   "outputs": [],
   "source": [
    "import os\n",
    "import sys\n",
    "sys.path.append(\"./ddn/\")\n",
    "sys.path.append(\"./\")\n",
    "import warnings\n",
    "warnings.filterwarnings('ignore')\n",
    "\n",
    "import torch\n",
    "import numpy as np\n",
    "import scipy.special\n",
    "import torch.nn as nn\n",
    "import torch.nn.functional as F\n",
    "import matplotlib.pyplot as plt\n",
    "\n",
    "from scipy.linalg import block_diag\n",
    "from torch.utils.data import Dataset, DataLoader\n",
    "#from bernstein import bernstesin_coeff_order10_new\n",
    "from ddn.pytorch.node import AbstractDeclarativeNode\n",
    "\n",
    "from utils.viz_helpers import plot_traj\n",
    "from utils.metrics import get_ade, get_fde\n",
    "\n",
    "from argoverse.map_representation.map_api import ArgoverseMap\n",
    "from argoverse.data_loading.argoverse_forecasting_loader import ArgoverseForecastingLoader\n",
    "from argoverse.visualization.visualize_sequences import viz_sequence\n",
    "avm = ArgoverseMap()"
   ]
  },
  {
   "cell_type": "markdown",
   "metadata": {},
   "source": [
    "#### CUDA Initializations"
   ]
  },
  {
   "cell_type": "code",
   "execution_count": 2,
   "metadata": {},
   "outputs": [
    {
     "name": "stdout",
     "output_type": "stream",
     "text": [
      "Using cpu device\n"
     ]
    }
   ],
   "source": [
    "device = 'cuda' if torch.cuda.is_available() else 'cpu'\n",
    "device = 'cpu'\n",
    "print('Using {} device'.format(device))"
   ]
  },
  {
   "cell_type": "markdown",
   "metadata": {},
   "source": [
    "#### Trajectory DataLoader"
   ]
  },
  {
   "cell_type": "code",
   "execution_count": 10,
   "metadata": {},
   "outputs": [
    {
     "name": "stdout",
     "output_type": "stream",
     "text": [
      "(1000, 50, 2)\n",
      "AB\n",
      "(200, 50, 2)\n",
      "AB\n"
     ]
    }
   ],
   "source": [
    "from utils.dataloader import TrajectoryDataset\n",
    "\n",
    "train_dataset = TrajectoryDataset(\"/datasets/argoverse/val_data.npy\", centerline_dir=\"/datasets/argoverse/val_centerlines.npy\")\n",
    "train_loader = DataLoader(train_dataset, batch_size=20, shuffle=False, num_workers=0)\n",
    "\n",
    "test_dataset = TrajectoryDataset(\"/datasets/argoverse/val_test_data.npy\", centerline_dir=\"/datasets/argoverse/val_test_centerlines.npy\")\n",
    "test_loader = DataLoader(test_dataset, batch_size=20, shuffle=False, num_workers=0)\n",
    "\n",
    "# train_dataset = TrajectoryDataset(\"/datasets/argoverse/carla_train.npy\", t_obs=16)#, centerline_dir=\"/datasets/argoverse/carla_train_centerlines.npy\")\n",
    "# train_loader = DataLoader(train_dataset, batch_size=20, shuffle=False, num_workers=0)\n",
    "\n",
    "# test_dataset = TrajectoryDataset(\"/datasets/argoverse/carla_test.npy\",  t_obs=16)#, centerline_dir=\"/datasets/argoverse/carla_test_centerlines.npy\")\n",
    "# test_loader = DataLoader(test_dataset, batch_size=20, shuffle=False, num_workers=0)"
   ]
  },
  {
   "cell_type": "code",
   "execution_count": 39,
   "metadata": {},
   "outputs": [],
   "source": [
    "from utils.bernstein import bernstein_coeff_order10_new\n",
    "# rho_obs = 0.3\n",
    "rho_obs = 1.2\n",
    "rho_eq = 10.0\n",
    "weight_smoothness = 10\n",
    "\n",
    "num = 30\n",
    "t_fin = 2.0\n",
    "a_obs = 1.0\n",
    "b_obs = 1.0\n",
    "\n",
    "tot_time = np.linspace(0.0, t_fin, num)\n",
    "tot_time_copy = tot_time.reshape(num, 1)\n",
    "P, Pdot, Pddot = bernstein_coeff_order10_new(10, tot_time_copy[0], tot_time_copy[-1], tot_time_copy)\n",
    "nvar = np.shape(P)[1]\n",
    "\n",
    "x_obs_temp = np.hstack((-10000.0, 10000.79, 30000.0, 10000.0))\n",
    "y_obs_temp = np.hstack((-10000.0, 10000.0, -30000.80, 10000.0))\n",
    "\n",
    "num_obs = np.shape(x_obs_temp)[0]\n",
    "\n",
    "x_obs = np.ones((num_obs, num)) * x_obs_temp[:, np.newaxis]\n",
    "y_obs = np.ones((num_obs, num)) * y_obs_temp[:, np.newaxis]\n",
    "\n",
    "obs_inp_list = []\n",
    "for i in range(num_obs):\n",
    "    obs_inp_list.extend([x_obs_temp[i], y_obs_temp[i], a_obs])\n",
    "    \n",
    "A_obs = np.tile(P, (num_obs, 1))\n",
    "A_eq = np.vstack((P[0], Pdot[0], Pddot[0], P[-1], Pdot[-1], Pddot[-1]))\n",
    "Q_smoothness = np.dot(Pddot.T, Pddot)  \n",
    "\n",
    "cities = np.load(\"/datasets/argoverse/val_cities.npy\")\n",
    "offsets_train = np.load(\"/datasets/argoverse/val_offsets.npy\")\n",
    "# offsets_test = np.load(\"/datasets/argoverse/val_offsets_test.npy\")"
   ]
  },
  {
   "cell_type": "markdown",
   "metadata": {},
   "source": [
    "#### TrajNet"
   ]
  },
  {
   "cell_type": "code",
   "execution_count": 40,
   "metadata": {},
   "outputs": [],
   "source": [
    "from utils.nodes.OPTNode import OPTNode, OptLayer, TrajNet\n",
    "\n",
    "opt_node = OPTNode(\n",
    "    P, \n",
    "    Pddot, \n",
    "    A_eq,\n",
    "    A_obs, \n",
    "    Q_smoothness, \n",
    "    x_obs,\n",
    "    y_obs,\n",
    "    num=num, \n",
    "    num_obs=num_obs, \n",
    "    nvar=nvar, \n",
    "    a_obs=a_obs, \n",
    "    b_obs=b_obs, \n",
    "    rho_obs=rho_obs, \n",
    "    rho_eq=rho_eq,\n",
    "    weight_smoothness=weight_smoothness, \n",
    "    maxiter=300, \n",
    "    eps=1e-7, \n",
    "    num_tot=num*num_obs\n",
    ")\n",
    "opt_layer = OptLayer(opt_node)\n",
    "\n",
    "num_elems = 15 # number of sampled centerline points\n",
    "total_size = 20 * 2 + 4 + num_elems * 2\n",
    "# total_size\n",
    "\n",
    "model = TrajNet(opt_layer, P, total_size)\n",
    "model = model.double()\n",
    "model = model.to(device)"
   ]
  },
  {
   "cell_type": "markdown",
   "metadata": {},
   "source": [
    "#### Model Testing"
   ]
  },
  {
   "cell_type": "code",
   "execution_count": 41,
   "metadata": {},
   "outputs": [
    {
     "name": "stdout",
     "output_type": "stream",
     "text": [
      "torch.Size([10, 74])\n"
     ]
    }
   ],
   "source": [
    "x_inp = torch.randn(10, total_size, dtype=torch.double)\n",
    "y_out = torch.randn(10, 40, dtype=torch.double)\n",
    "b_inp = torch.randn(10, 12, dtype=torch.double)\n",
    "\n",
    "print(x_inp.shape)"
   ]
  },
  {
   "cell_type": "code",
   "execution_count": 42,
   "metadata": {},
   "outputs": [
    {
     "data": {
      "text/plain": [
       "torch.Size([10, 60])"
      ]
     },
     "execution_count": 42,
     "metadata": {},
     "output_type": "execute_result"
    }
   ],
   "source": [
    "out = model(x_inp, b_inp)\n",
    "out.size()"
   ]
  },
  {
   "cell_type": "code",
   "execution_count": 44,
   "metadata": {},
   "outputs": [
    {
     "name": "stdout",
     "output_type": "stream",
     "text": [
      "torch.Size([20, 74]) torch.Size([20, 60]) torch.Size([20, 12])\n",
      "ADE: 19.603165083362228 FDE: 40.17272112644295\n",
      "torch.Size([20, 74]) torch.Size([20, 60]) torch.Size([20, 12])\n",
      "ADE: 18.42773453545689 FDE: 38.701253827725786\n",
      "torch.Size([20, 74]) torch.Size([20, 60]) torch.Size([20, 12])\n",
      "ADE: 21.527157616533803 FDE: 44.239844726938294\n",
      "torch.Size([20, 74]) torch.Size([20, 60]) torch.Size([20, 12])\n",
      "ADE: 19.554590241662478 FDE: 41.81877369571882\n",
      "torch.Size([20, 74]) torch.Size([20, 60]) torch.Size([20, 12])\n",
      "ADE: 22.644374880232274 FDE: 47.396573907572325\n",
      "torch.Size([20, 74]) torch.Size([20, 60]) torch.Size([20, 12])\n",
      "ADE: 23.505829830668553 FDE: 46.58240334015595\n",
      "torch.Size([20, 74]) torch.Size([20, 60]) torch.Size([20, 12])\n",
      "ADE: 20.28159402560973 FDE: 42.09700167186975\n",
      "torch.Size([20, 74]) torch.Size([20, 60]) torch.Size([20, 12])\n",
      "ADE: 24.252690010127804 FDE: 50.284617437787084\n",
      "torch.Size([20, 74]) torch.Size([20, 60]) torch.Size([20, 12])\n",
      "ADE: 24.240656250379338 FDE: 50.473778319918154\n",
      "torch.Size([20, 74]) torch.Size([20, 60]) torch.Size([20, 12])\n",
      "ADE: 20.70939269374619 FDE: 43.51001368497785\n",
      "torch.Size([20, 74]) torch.Size([20, 60]) torch.Size([20, 12])\n",
      "ADE: 19.145188968472002 FDE: 40.353844681358794\n",
      "torch.Size([20, 74]) torch.Size([20, 60]) torch.Size([20, 12])\n",
      "ADE: 20.37262143755655 FDE: 42.87968344241522\n",
      "torch.Size([20, 74]) torch.Size([20, 60]) torch.Size([20, 12])\n",
      "ADE: 20.84783226420566 FDE: 43.68060797898049\n",
      "torch.Size([20, 74]) torch.Size([20, 60]) torch.Size([20, 12])\n",
      "ADE: 20.755696819715116 FDE: 42.05802362819563\n",
      "torch.Size([20, 74]) torch.Size([20, 60]) torch.Size([20, 12])\n",
      "ADE: 20.377407095540672 FDE: 42.309168610915165\n",
      "torch.Size([20, 74]) torch.Size([20, 60]) torch.Size([20, 12])\n",
      "ADE: 19.52478249160787 FDE: 41.12111779399823\n",
      "torch.Size([20, 74]) torch.Size([20, 60]) torch.Size([20, 12])\n",
      "ADE: 17.52012239115329 FDE: 36.66696991023209\n",
      "torch.Size([20, 74]) torch.Size([20, 60]) torch.Size([20, 12])\n",
      "ADE: 21.035244797136386 FDE: 43.76496916502628\n",
      "torch.Size([20, 74]) torch.Size([20, 60]) torch.Size([20, 12])\n",
      "ADE: 17.340429324904818 FDE: 36.456920433050584\n",
      "torch.Size([20, 74]) torch.Size([20, 60]) torch.Size([20, 12])\n",
      "ADE: 22.577260430604127 FDE: 46.98190948426087\n",
      "torch.Size([20, 74]) torch.Size([20, 60]) torch.Size([20, 12])\n",
      "ADE: 26.304314131252635 FDE: 54.57946142217759\n",
      "torch.Size([20, 74]) torch.Size([20, 60]) torch.Size([20, 12])\n",
      "ADE: 18.505313317259922 FDE: 38.89669246367715\n",
      "torch.Size([20, 74]) torch.Size([20, 60]) torch.Size([20, 12])\n",
      "ADE: 20.908703753789634 FDE: 43.76399615242189\n",
      "torch.Size([20, 74]) torch.Size([20, 60]) torch.Size([20, 12])\n",
      "ADE: 23.276120445641347 FDE: 47.71262646223627\n",
      "torch.Size([20, 74]) torch.Size([20, 60]) torch.Size([20, 12])\n",
      "ADE: 23.14629227750411 FDE: 48.38259486861674\n",
      "torch.Size([20, 74]) torch.Size([20, 60]) torch.Size([20, 12])\n",
      "ADE: 23.89771118609234 FDE: 49.76230850956432\n",
      "torch.Size([20, 74]) torch.Size([20, 60]) torch.Size([20, 12])\n",
      "ADE: 19.30881716432886 FDE: 40.12541405594797\n",
      "torch.Size([20, 74]) torch.Size([20, 60]) torch.Size([20, 12])\n",
      "ADE: 17.13574614312411 FDE: 36.33295692241369\n",
      "torch.Size([20, 74]) torch.Size([20, 60]) torch.Size([20, 12])\n",
      "ADE: 20.959910702788054 FDE: 42.704571015499184\n",
      "torch.Size([20, 74]) torch.Size([20, 60]) torch.Size([20, 12])\n",
      "ADE: 25.580896401817675 FDE: 53.140728229309204\n",
      "torch.Size([20, 74]) torch.Size([20, 60]) torch.Size([20, 12])\n",
      "ADE: 16.58524469198988 FDE: 35.25230889608962\n",
      "torch.Size([20, 74]) torch.Size([20, 60]) torch.Size([20, 12])\n",
      "ADE: 19.986172866663814 FDE: 42.08275108413902\n",
      "torch.Size([20, 74]) torch.Size([20, 60]) torch.Size([20, 12])\n",
      "ADE: 18.42167928099467 FDE: 37.96166533685459\n",
      "torch.Size([20, 74]) torch.Size([20, 60]) torch.Size([20, 12])\n",
      "ADE: 22.08758374272467 FDE: 47.38654197628879\n",
      "torch.Size([20, 74]) torch.Size([20, 60]) torch.Size([20, 12])\n",
      "ADE: 22.3260068096143 FDE: 46.56920864482409\n",
      "torch.Size([20, 74]) torch.Size([20, 60]) torch.Size([20, 12])\n",
      "ADE: 22.622995134800284 FDE: 47.680229096827446\n",
      "torch.Size([20, 74]) torch.Size([20, 60]) torch.Size([20, 12])\n",
      "ADE: 22.61100818717738 FDE: 47.34912251795977\n",
      "torch.Size([20, 74]) torch.Size([20, 60]) torch.Size([20, 12])\n",
      "ADE: 21.445666876582166 FDE: 45.02577093705653\n",
      "torch.Size([20, 74]) torch.Size([20, 60]) torch.Size([20, 12])\n",
      "ADE: 22.252112527323675 FDE: 45.767655052269106\n",
      "torch.Size([20, 74]) torch.Size([20, 60]) torch.Size([20, 12])\n",
      "ADE: 20.03981927448269 FDE: 42.565750952189866\n",
      "torch.Size([20, 74]) torch.Size([20, 60]) torch.Size([20, 12])\n",
      "ADE: 23.243463948949085 FDE: 48.91763174282758\n",
      "torch.Size([20, 74]) torch.Size([20, 60]) torch.Size([20, 12])\n",
      "ADE: 19.84815254082781 FDE: 40.559666142611526\n",
      "torch.Size([20, 74]) torch.Size([20, 60]) torch.Size([20, 12])\n",
      "ADE: 21.679916449377323 FDE: 46.317870421716115\n",
      "torch.Size([20, 74]) torch.Size([20, 60]) torch.Size([20, 12])\n",
      "ADE: 20.55421922546339 FDE: 42.05265325698483\n",
      "torch.Size([20, 74]) torch.Size([20, 60]) torch.Size([20, 12])\n",
      "ADE: 21.416253437634722 FDE: 44.858206712932024\n",
      "torch.Size([20, 74]) torch.Size([20, 60]) torch.Size([20, 12])\n",
      "ADE: 20.742468516038993 FDE: 42.94958612554972\n",
      "torch.Size([20, 74]) torch.Size([20, 60]) torch.Size([20, 12])\n",
      "ADE: 20.24136839971444 FDE: 41.87283723904638\n",
      "torch.Size([20, 74]) torch.Size([20, 60]) torch.Size([20, 12])\n",
      "ADE: 21.89868093628035 FDE: 46.56508322964633\n",
      "torch.Size([20, 74]) torch.Size([20, 60]) torch.Size([20, 12])\n",
      "ADE: 23.24618163196942 FDE: 48.815661093118635\n",
      "torch.Size([20, 74]) torch.Size([20, 60]) torch.Size([20, 12])\n",
      "ADE: 25.57602058889889 FDE: 53.1702397770037\n"
     ]
    },
    {
     "data": {
      "image/png": "[encoded data removed]",
      "text/plain": [
       "<Figure size 432x288 with 1 Axes>"
      ]
     },
     "metadata": {
      "needs_background": "light"
     },
     "output_type": "display_data"
    }
   ],
   "source": [
    "cnt = 0\n",
    "for i, data in enumerate(train_loader):\n",
    "    traj_inp, traj_out, b_inp = data\n",
    "    out = model(traj_inp, b_inp)\n",
    "    ade = []\n",
    "    fde = []\n",
    "#     plt.scatter(traj_inp[0][:32:2], traj_inp[0][1:32:2])\n",
    "#     plt.scatter(traj_inp[0][32:96:2], traj_inp[0][33:96:2])\n",
    "    for ii in range(traj_inp.shape[0]):\n",
    "        gt = [[out[ii][j],out[ii][j + num]] for j in range(len(out[ii])//2)]\n",
    "        pred = [[traj_out[ii][j],traj_out[ii][j + num]] for j in range(len(out[ii])//2)]\n",
    "        ade.append(get_ade(np.array(pred), np.array(gt)))\n",
    "        fde.append(get_fde(np.array(pred), np.array(gt)))\n",
    "        plot_traj(ii, traj_inp[ii], traj_out[ii], out[ii], {\"x\": [], \"y\": []}, offsets=offsets_train, cities = cities, avm=None, center=False, inp_len=20 * 2, c_len = 20 * 2 + num_elems * 2, num=30, mode=\"test\", batch_num = i)\n",
    "    print(traj_inp.size(), traj_out.size(), b_inp.size())\n",
    "    print(\"ADE: {}\".format(np.mean(ade)), \"FDE: {}\".format(np.mean(fde)))\n",
    "    cnt = cnt + 1\n",
    "    if cnt > 10000:\n",
    "        break"
   ]
  },
  {
   "cell_type": "markdown",
   "metadata": {},
   "source": [
    "#### Training"
   ]
  },
  {
   "cell_type": "code",
   "execution_count": 27,
   "metadata": {},
   "outputs": [],
   "source": [
    "criterion = nn.MSELoss()\n",
    "optimizer = torch.optim.SGD(model.parameters(), lr=0.0001)"
   ]
  },
  {
   "cell_type": "code",
   "execution_count": 31,
   "metadata": {},
   "outputs": [
    {
     "name": "stdout",
     "output_type": "stream",
     "text": [
      "Epoch: 0, Batch: 0, Loss: 24.008141048699503\n",
      "ADE: 4.530934032074578 FDE: 10.104133591845653\n",
      "Epoch: 0, Batch: 10, Loss: 24.259477295818243\n",
      "ADE: 4.366141756388936 FDE: 9.574554544335612\n",
      "Epoch: 0, Mean Loss: 15.7871955823869\n",
      "Mean ADE: 3.4240366046849147 Mean FDE: 7.4354677551476644\n",
      "----------------------------------------------------------------------------------------------------\n",
      "Epoch: 1, Batch: 0, Loss: 20.662394408212453\n",
      "ADE: 4.231356960301994 FDE: 9.332511728223633\n",
      "Epoch: 1, Batch: 10, Loss: 21.17022581085559\n",
      "ADE: 4.089264600512158 FDE: 8.961099100348461\n",
      "Epoch: 1, Mean Loss: 13.85100873129063\n",
      "Mean ADE: 3.234550087301283 Mean FDE: 6.980317078677108\n",
      "----------------------------------------------------------------------------------------------------\n",
      "Epoch: 2, Batch: 0, Loss: 17.788798957896727\n",
      "ADE: 3.9569648145825718 FDE: 8.686757314355143\n",
      "Epoch: 2, Batch: 10, Loss: 18.505059028109383\n",
      "ADE: 3.83613246793226 FDE: 8.428213946291743\n",
      "Epoch: 2, Mean Loss: 12.219795930937067\n",
      "Mean ADE: 3.070691966823204 Mean FDE: 6.618447191699849\n",
      "----------------------------------------------------------------------------------------------------\n",
      "Epoch: 3, Batch: 0, Loss: 15.331654833712713\n",
      "ADE: 3.706252181700582 FDE: 8.13831306065466\n"
     ]
    },
    {
     "ename": "KeyboardInterrupt",
     "evalue": "",
     "output_type": "error",
     "traceback": [
      "\u001b[0;31m---------------------------------------------------------------------------\u001b[0m",
      "\u001b[0;31mKeyboardInterrupt\u001b[0m                         Traceback (most recent call last)",
      "\u001b[0;32m<ipython-input-31-ab008f67e761>\u001b[0m in \u001b[0;36m<module>\u001b[0;34m\u001b[0m\n\u001b[1;32m     14\u001b[0m         \u001b[0mb_inp\u001b[0m \u001b[0;34m=\u001b[0m \u001b[0mb_inp\u001b[0m\u001b[0;34m.\u001b[0m\u001b[0mto\u001b[0m\u001b[0;34m(\u001b[0m\u001b[0mdevice\u001b[0m\u001b[0;34m)\u001b[0m\u001b[0;34m\u001b[0m\u001b[0;34m\u001b[0m\u001b[0m\n\u001b[1;32m     15\u001b[0m \u001b[0;34m\u001b[0m\u001b[0m\n\u001b[0;32m---> 16\u001b[0;31m         \u001b[0mout\u001b[0m \u001b[0;34m=\u001b[0m \u001b[0mmodel\u001b[0m\u001b[0;34m(\u001b[0m\u001b[0mtraj_inp\u001b[0m\u001b[0;34m,\u001b[0m \u001b[0mb_inp\u001b[0m\u001b[0;34m)\u001b[0m\u001b[0;34m\u001b[0m\u001b[0;34m\u001b[0m\u001b[0m\n\u001b[0m\u001b[1;32m     17\u001b[0m         \u001b[0mloss\u001b[0m \u001b[0;34m=\u001b[0m \u001b[0mcriterion\u001b[0m\u001b[0;34m(\u001b[0m\u001b[0mout\u001b[0m\u001b[0;34m,\u001b[0m \u001b[0mtraj_out\u001b[0m\u001b[0;34m)\u001b[0m\u001b[0;34m\u001b[0m\u001b[0;34m\u001b[0m\u001b[0m\n\u001b[1;32m     18\u001b[0m \u001b[0;34m\u001b[0m\u001b[0m\n",
      "\u001b[0;32m~/.local/lib/python3.8/site-packages/torch/nn/modules/module.py\u001b[0m in \u001b[0;36m_call_impl\u001b[0;34m(self, *input, **kwargs)\u001b[0m\n\u001b[1;32m    887\u001b[0m             \u001b[0mresult\u001b[0m \u001b[0;34m=\u001b[0m \u001b[0mself\u001b[0m\u001b[0;34m.\u001b[0m\u001b[0m_slow_forward\u001b[0m\u001b[0;34m(\u001b[0m\u001b[0;34m*\u001b[0m\u001b[0minput\u001b[0m\u001b[0;34m,\u001b[0m \u001b[0;34m**\u001b[0m\u001b[0mkwargs\u001b[0m\u001b[0;34m)\u001b[0m\u001b[0;34m\u001b[0m\u001b[0;34m\u001b[0m\u001b[0m\n\u001b[1;32m    888\u001b[0m         \u001b[0;32melse\u001b[0m\u001b[0;34m:\u001b[0m\u001b[0;34m\u001b[0m\u001b[0;34m\u001b[0m\u001b[0m\n\u001b[0;32m--> 889\u001b[0;31m             \u001b[0mresult\u001b[0m \u001b[0;34m=\u001b[0m \u001b[0mself\u001b[0m\u001b[0;34m.\u001b[0m\u001b[0mforward\u001b[0m\u001b[0;34m(\u001b[0m\u001b[0;34m*\u001b[0m\u001b[0minput\u001b[0m\u001b[0;34m,\u001b[0m \u001b[0;34m**\u001b[0m\u001b[0mkwargs\u001b[0m\u001b[0;34m)\u001b[0m\u001b[0;34m\u001b[0m\u001b[0;34m\u001b[0m\u001b[0m\n\u001b[0m\u001b[1;32m    890\u001b[0m         for hook in itertools.chain(\n\u001b[1;32m    891\u001b[0m                 \u001b[0m_global_forward_hooks\u001b[0m\u001b[0;34m.\u001b[0m\u001b[0mvalues\u001b[0m\u001b[0;34m(\u001b[0m\u001b[0;34m)\u001b[0m\u001b[0;34m,\u001b[0m\u001b[0;34m\u001b[0m\u001b[0;34m\u001b[0m\u001b[0m\n",
      "\u001b[0;32m~/core/home/R/goal/code/utils/nodes/OPTNode.py\u001b[0m in \u001b[0;36mforward\u001b[0;34m(self, x, b)\u001b[0m\n\u001b[1;32m    240\u001b[0m         \u001b[0mlamda_x\u001b[0m \u001b[0;34m=\u001b[0m \u001b[0mtorch\u001b[0m\u001b[0;34m.\u001b[0m\u001b[0mzeros\u001b[0m\u001b[0;34m(\u001b[0m\u001b[0mbatch_size\u001b[0m\u001b[0;34m,\u001b[0m \u001b[0mself\u001b[0m\u001b[0;34m.\u001b[0m\u001b[0mnvar\u001b[0m\u001b[0;34m,\u001b[0m \u001b[0mdtype\u001b[0m\u001b[0;34m=\u001b[0m\u001b[0mtorch\u001b[0m\u001b[0;34m.\u001b[0m\u001b[0mdouble\u001b[0m\u001b[0;34m)\u001b[0m\u001b[0;34m.\u001b[0m\u001b[0mto\u001b[0m\u001b[0;34m(\u001b[0m\u001b[0mself\u001b[0m\u001b[0;34m.\u001b[0m\u001b[0mdevice\u001b[0m\u001b[0;34m)\u001b[0m\u001b[0;34m\u001b[0m\u001b[0;34m\u001b[0m\u001b[0m\n\u001b[1;32m    241\u001b[0m         \u001b[0mlamda_y\u001b[0m \u001b[0;34m=\u001b[0m \u001b[0mtorch\u001b[0m\u001b[0;34m.\u001b[0m\u001b[0mzeros\u001b[0m\u001b[0;34m(\u001b[0m\u001b[0mbatch_size\u001b[0m\u001b[0;34m,\u001b[0m \u001b[0mself\u001b[0m\u001b[0;34m.\u001b[0m\u001b[0mnvar\u001b[0m\u001b[0;34m,\u001b[0m \u001b[0mdtype\u001b[0m\u001b[0;34m=\u001b[0m\u001b[0mtorch\u001b[0m\u001b[0;34m.\u001b[0m\u001b[0mdouble\u001b[0m\u001b[0;34m)\u001b[0m\u001b[0;34m.\u001b[0m\u001b[0mto\u001b[0m\u001b[0;34m(\u001b[0m\u001b[0mself\u001b[0m\u001b[0;34m.\u001b[0m\u001b[0mdevice\u001b[0m\u001b[0;34m)\u001b[0m\u001b[0;34m\u001b[0m\u001b[0;34m\u001b[0m\u001b[0m\n\u001b[0;32m--> 242\u001b[0;31m         \u001b[0msol\u001b[0m \u001b[0;34m=\u001b[0m \u001b[0mself\u001b[0m\u001b[0;34m.\u001b[0m\u001b[0mopt_layer\u001b[0m\u001b[0;34m(\u001b[0m\u001b[0mb_gen\u001b[0m\u001b[0;34m,\u001b[0m \u001b[0mlamda_x\u001b[0m\u001b[0;34m,\u001b[0m \u001b[0mlamda_y\u001b[0m\u001b[0;34m)\u001b[0m\u001b[0;34m\u001b[0m\u001b[0;34m\u001b[0m\u001b[0m\n\u001b[0m\u001b[1;32m    243\u001b[0m         \u001b[0;31m# Compute final trajectory\u001b[0m\u001b[0;34m\u001b[0m\u001b[0;34m\u001b[0m\u001b[0;34m\u001b[0m\u001b[0m\n\u001b[1;32m    244\u001b[0m         \u001b[0mx_pred\u001b[0m \u001b[0;34m=\u001b[0m \u001b[0mtorch\u001b[0m\u001b[0;34m.\u001b[0m\u001b[0mmatmul\u001b[0m\u001b[0;34m(\u001b[0m\u001b[0mself\u001b[0m\u001b[0;34m.\u001b[0m\u001b[0mP\u001b[0m\u001b[0;34m,\u001b[0m \u001b[0msol\u001b[0m\u001b[0;34m[\u001b[0m\u001b[0;34m:\u001b[0m\u001b[0;34m,\u001b[0m \u001b[0;34m:\u001b[0m\u001b[0mself\u001b[0m\u001b[0;34m.\u001b[0m\u001b[0mnvar\u001b[0m\u001b[0;34m]\u001b[0m\u001b[0;34m.\u001b[0m\u001b[0mtranspose\u001b[0m\u001b[0;34m(\u001b[0m\u001b[0;36m0\u001b[0m\u001b[0;34m,\u001b[0m \u001b[0;36m1\u001b[0m\u001b[0;34m)\u001b[0m\u001b[0;34m)\u001b[0m\u001b[0;34m\u001b[0m\u001b[0;34m\u001b[0m\u001b[0m\n",
      "\u001b[0;32m~/.local/lib/python3.8/site-packages/torch/nn/modules/module.py\u001b[0m in \u001b[0;36m_call_impl\u001b[0;34m(self, *input, **kwargs)\u001b[0m\n\u001b[1;32m    887\u001b[0m             \u001b[0mresult\u001b[0m \u001b[0;34m=\u001b[0m \u001b[0mself\u001b[0m\u001b[0;34m.\u001b[0m\u001b[0m_slow_forward\u001b[0m\u001b[0;34m(\u001b[0m\u001b[0;34m*\u001b[0m\u001b[0minput\u001b[0m\u001b[0;34m,\u001b[0m \u001b[0;34m**\u001b[0m\u001b[0mkwargs\u001b[0m\u001b[0;34m)\u001b[0m\u001b[0;34m\u001b[0m\u001b[0;34m\u001b[0m\u001b[0m\n\u001b[1;32m    888\u001b[0m         \u001b[0;32melse\u001b[0m\u001b[0;34m:\u001b[0m\u001b[0;34m\u001b[0m\u001b[0;34m\u001b[0m\u001b[0m\n\u001b[0;32m--> 889\u001b[0;31m             \u001b[0mresult\u001b[0m \u001b[0;34m=\u001b[0m \u001b[0mself\u001b[0m\u001b[0;34m.\u001b[0m\u001b[0mforward\u001b[0m\u001b[0;34m(\u001b[0m\u001b[0;34m*\u001b[0m\u001b[0minput\u001b[0m\u001b[0;34m,\u001b[0m \u001b[0;34m**\u001b[0m\u001b[0mkwargs\u001b[0m\u001b[0;34m)\u001b[0m\u001b[0;34m\u001b[0m\u001b[0;34m\u001b[0m\u001b[0m\n\u001b[0m\u001b[1;32m    890\u001b[0m         for hook in itertools.chain(\n\u001b[1;32m    891\u001b[0m                 \u001b[0m_global_forward_hooks\u001b[0m\u001b[0;34m.\u001b[0m\u001b[0mvalues\u001b[0m\u001b[0;34m(\u001b[0m\u001b[0;34m)\u001b[0m\u001b[0;34m,\u001b[0m\u001b[0;34m\u001b[0m\u001b[0;34m\u001b[0m\u001b[0m\n",
      "\u001b[0;32m~/core/home/R/goal/code/utils/nodes/OPTNode.py\u001b[0m in \u001b[0;36mforward\u001b[0;34m(self, *inputs)\u001b[0m\n\u001b[1;32m    206\u001b[0m \u001b[0;34m\u001b[0m\u001b[0m\n\u001b[1;32m    207\u001b[0m     \u001b[0;32mdef\u001b[0m \u001b[0mforward\u001b[0m\u001b[0;34m(\u001b[0m\u001b[0mself\u001b[0m\u001b[0;34m,\u001b[0m \u001b[0;34m*\u001b[0m\u001b[0minputs\u001b[0m\u001b[0;34m)\u001b[0m\u001b[0;34m:\u001b[0m\u001b[0;34m\u001b[0m\u001b[0;34m\u001b[0m\u001b[0m\n\u001b[0;32m--> 208\u001b[0;31m         \u001b[0;32mreturn\u001b[0m \u001b[0mOptFunction\u001b[0m\u001b[0;34m.\u001b[0m\u001b[0mapply\u001b[0m\u001b[0;34m(\u001b[0m\u001b[0mself\u001b[0m\u001b[0;34m.\u001b[0m\u001b[0mproblem\u001b[0m\u001b[0;34m,\u001b[0m \u001b[0;34m*\u001b[0m\u001b[0minputs\u001b[0m\u001b[0;34m)\u001b[0m\u001b[0;34m\u001b[0m\u001b[0;34m\u001b[0m\u001b[0m\n\u001b[0m\u001b[1;32m    209\u001b[0m \u001b[0;34m\u001b[0m\u001b[0m\n\u001b[1;32m    210\u001b[0m \u001b[0;34m\u001b[0m\u001b[0m\n",
      "\u001b[0;32m~/core/home/R/goal/code/utils/nodes/OPTNode.py\u001b[0m in \u001b[0;36mforward\u001b[0;34m(ctx, problem, *inputs)\u001b[0m\n\u001b[1;32m    166\u001b[0m     \u001b[0;34m@\u001b[0m\u001b[0mstaticmethod\u001b[0m\u001b[0;34m\u001b[0m\u001b[0;34m\u001b[0m\u001b[0m\n\u001b[1;32m    167\u001b[0m     \u001b[0;32mdef\u001b[0m \u001b[0mforward\u001b[0m\u001b[0;34m(\u001b[0m\u001b[0mctx\u001b[0m\u001b[0;34m,\u001b[0m \u001b[0mproblem\u001b[0m\u001b[0;34m,\u001b[0m \u001b[0;34m*\u001b[0m\u001b[0minputs\u001b[0m\u001b[0;34m)\u001b[0m\u001b[0;34m:\u001b[0m\u001b[0;34m\u001b[0m\u001b[0;34m\u001b[0m\u001b[0m\n\u001b[0;32m--> 168\u001b[0;31m         \u001b[0moutput\u001b[0m\u001b[0;34m,\u001b[0m \u001b[0msolve_ctx\u001b[0m \u001b[0;34m=\u001b[0m \u001b[0mtorch\u001b[0m\u001b[0;34m.\u001b[0m\u001b[0mno_grad\u001b[0m\u001b[0;34m(\u001b[0m\u001b[0;34m)\u001b[0m\u001b[0;34m(\u001b[0m\u001b[0mproblem\u001b[0m\u001b[0;34m.\u001b[0m\u001b[0msolve\u001b[0m\u001b[0;34m)\u001b[0m\u001b[0;34m(\u001b[0m\u001b[0;34m*\u001b[0m\u001b[0minputs\u001b[0m\u001b[0;34m)\u001b[0m\u001b[0;34m\u001b[0m\u001b[0;34m\u001b[0m\u001b[0m\n\u001b[0m\u001b[1;32m    169\u001b[0m         \u001b[0mctx\u001b[0m\u001b[0;34m.\u001b[0m\u001b[0msave_for_backward\u001b[0m\u001b[0;34m(\u001b[0m\u001b[0moutput\u001b[0m\u001b[0;34m,\u001b[0m \u001b[0;34m*\u001b[0m\u001b[0minputs\u001b[0m\u001b[0;34m)\u001b[0m\u001b[0;34m\u001b[0m\u001b[0;34m\u001b[0m\u001b[0m\n\u001b[1;32m    170\u001b[0m         \u001b[0mctx\u001b[0m\u001b[0;34m.\u001b[0m\u001b[0mproblem\u001b[0m \u001b[0;34m=\u001b[0m \u001b[0mproblem\u001b[0m\u001b[0;34m\u001b[0m\u001b[0;34m\u001b[0m\u001b[0m\n",
      "\u001b[0;32m~/.local/lib/python3.8/site-packages/torch/autograd/grad_mode.py\u001b[0m in \u001b[0;36mdecorate_context\u001b[0;34m(*args, **kwargs)\u001b[0m\n\u001b[1;32m     25\u001b[0m         \u001b[0;32mdef\u001b[0m \u001b[0mdecorate_context\u001b[0m\u001b[0;34m(\u001b[0m\u001b[0;34m*\u001b[0m\u001b[0margs\u001b[0m\u001b[0;34m,\u001b[0m \u001b[0;34m**\u001b[0m\u001b[0mkwargs\u001b[0m\u001b[0;34m)\u001b[0m\u001b[0;34m:\u001b[0m\u001b[0;34m\u001b[0m\u001b[0;34m\u001b[0m\u001b[0m\n\u001b[1;32m     26\u001b[0m             \u001b[0;32mwith\u001b[0m \u001b[0mself\u001b[0m\u001b[0;34m.\u001b[0m\u001b[0m__class__\u001b[0m\u001b[0;34m(\u001b[0m\u001b[0;34m)\u001b[0m\u001b[0;34m:\u001b[0m\u001b[0;34m\u001b[0m\u001b[0;34m\u001b[0m\u001b[0m\n\u001b[0;32m---> 27\u001b[0;31m                 \u001b[0;32mreturn\u001b[0m \u001b[0mfunc\u001b[0m\u001b[0;34m(\u001b[0m\u001b[0;34m*\u001b[0m\u001b[0margs\u001b[0m\u001b[0;34m,\u001b[0m \u001b[0;34m**\u001b[0m\u001b[0mkwargs\u001b[0m\u001b[0;34m)\u001b[0m\u001b[0;34m\u001b[0m\u001b[0;34m\u001b[0m\u001b[0m\n\u001b[0m\u001b[1;32m     28\u001b[0m         \u001b[0;32mreturn\u001b[0m \u001b[0mcast\u001b[0m\u001b[0;34m(\u001b[0m\u001b[0mF\u001b[0m\u001b[0;34m,\u001b[0m \u001b[0mdecorate_context\u001b[0m\u001b[0;34m)\u001b[0m\u001b[0;34m\u001b[0m\u001b[0;34m\u001b[0m\u001b[0m\n\u001b[1;32m     29\u001b[0m \u001b[0;34m\u001b[0m\u001b[0m\n",
      "\u001b[0;32m~/core/home/R/goal/code/utils/nodes/OPTNode.py\u001b[0m in \u001b[0;36msolve\u001b[0;34m(self, b, lamda_x, lamda_y)\u001b[0m\n\u001b[1;32m    146\u001b[0m             \u001b[0mlamda_x_cur\u001b[0m \u001b[0;34m=\u001b[0m \u001b[0mlamda_x\u001b[0m\u001b[0;34m[\u001b[0m\u001b[0;34m:\u001b[0m\u001b[0;34m,\u001b[0m \u001b[0mi\u001b[0m\u001b[0;34m]\u001b[0m\u001b[0;34m\u001b[0m\u001b[0;34m\u001b[0m\u001b[0m\n\u001b[1;32m    147\u001b[0m             \u001b[0mlamda_y_cur\u001b[0m \u001b[0;34m=\u001b[0m \u001b[0mlamda_y\u001b[0m\u001b[0;34m[\u001b[0m\u001b[0;34m:\u001b[0m\u001b[0;34m,\u001b[0m \u001b[0mi\u001b[0m\u001b[0;34m]\u001b[0m\u001b[0;34m\u001b[0m\u001b[0;34m\u001b[0m\u001b[0m\n\u001b[0;32m--> 148\u001b[0;31m             \u001b[0msol\u001b[0m \u001b[0;34m=\u001b[0m \u001b[0mself\u001b[0m\u001b[0;34m.\u001b[0m\u001b[0moptimize\u001b[0m\u001b[0;34m(\u001b[0m\u001b[0mb_cur\u001b[0m\u001b[0;34m,\u001b[0m \u001b[0mlamda_x_cur\u001b[0m\u001b[0;34m,\u001b[0m \u001b[0mlamda_y_cur\u001b[0m\u001b[0;34m)\u001b[0m\u001b[0;34m\u001b[0m\u001b[0;34m\u001b[0m\u001b[0m\n\u001b[0m\u001b[1;32m    149\u001b[0m \u001b[0;31m#             print(sol.shape)\u001b[0m\u001b[0;34m\u001b[0m\u001b[0;34m\u001b[0m\u001b[0;34m\u001b[0m\u001b[0m\n\u001b[1;32m    150\u001b[0m             \u001b[0my\u001b[0m\u001b[0;34m[\u001b[0m\u001b[0mi\u001b[0m\u001b[0;34m,\u001b[0m \u001b[0;34m:\u001b[0m\u001b[0;34m]\u001b[0m \u001b[0;34m=\u001b[0m \u001b[0msol\u001b[0m\u001b[0;34m\u001b[0m\u001b[0;34m\u001b[0m\u001b[0m\n",
      "\u001b[0;32m~/core/home/R/goal/code/utils/nodes/OPTNode.py\u001b[0m in \u001b[0;36moptimize\u001b[0;34m(self, b, lamda_x, lamda_y)\u001b[0m\n\u001b[1;32m    109\u001b[0m \u001b[0;34m\u001b[0m\u001b[0m\n\u001b[1;32m    110\u001b[0m             \u001b[0msol_x\u001b[0m \u001b[0;34m=\u001b[0m \u001b[0msol_x\u001b[0m\u001b[0;34m.\u001b[0m\u001b[0mview\u001b[0m\u001b[0;34m(\u001b[0m\u001b[0;34m-\u001b[0m\u001b[0;36m1\u001b[0m\u001b[0;34m)\u001b[0m\u001b[0;34m\u001b[0m\u001b[0;34m\u001b[0m\u001b[0m\n\u001b[0;32m--> 111\u001b[0;31m             \u001b[0msol_y\u001b[0m \u001b[0;34m=\u001b[0m \u001b[0msol_y\u001b[0m\u001b[0;34m.\u001b[0m\u001b[0mview\u001b[0m\u001b[0;34m(\u001b[0m\u001b[0;34m-\u001b[0m\u001b[0;36m1\u001b[0m\u001b[0;34m)\u001b[0m\u001b[0;34m\u001b[0m\u001b[0;34m\u001b[0m\u001b[0m\n\u001b[0m\u001b[1;32m    112\u001b[0m \u001b[0;34m\u001b[0m\u001b[0m\n\u001b[1;32m    113\u001b[0m             \u001b[0mx\u001b[0m \u001b[0;34m=\u001b[0m \u001b[0mtorch\u001b[0m\u001b[0;34m.\u001b[0m\u001b[0mmatmul\u001b[0m\u001b[0;34m(\u001b[0m\u001b[0mself\u001b[0m\u001b[0;34m.\u001b[0m\u001b[0mP\u001b[0m\u001b[0;34m,\u001b[0m \u001b[0msol_x\u001b[0m\u001b[0;34m)\u001b[0m\u001b[0;34m\u001b[0m\u001b[0;34m\u001b[0m\u001b[0m\n",
      "\u001b[0;31mKeyboardInterrupt\u001b[0m: "
     ]
    },
    {
     "data": {
      "image/png": "[encoded data removed]",
      "text/plain": [
       "<Figure size 432x288 with 1 Axes>"
      ]
     },
     "metadata": {
      "needs_background": "light"
     },
     "output_type": "display_data"
    }
   ],
   "source": [
    "epoch_train_loss = []\n",
    "num_epochs = 5\n",
    "ade_total = []\n",
    "fde_total = []\n",
    "\n",
    "for epoch in range(num_epochs):\n",
    "    train_loss = []\n",
    "    mean_ade = []\n",
    "    mean_fde = []\n",
    "    for batch_num, data in enumerate(train_loader):\n",
    "        traj_inp, traj_out, b_inp = data\n",
    "        traj_inp = traj_inp.to(device)\n",
    "        traj_out = traj_out.to(device)\n",
    "        b_inp = b_inp.to(device)\n",
    "\n",
    "        out = model(traj_inp, b_inp)\n",
    "        loss = criterion(out, traj_out)\n",
    "        \n",
    "        optimizer.zero_grad()\n",
    "        loss.backward()\n",
    "        optimizer.step()\n",
    "        \n",
    "        train_loss.append(loss.item())\n",
    "        \n",
    "        cnt = 0\n",
    "        ade = []\n",
    "        fde = []       \n",
    "        for ii in range(traj_inp.size()[0]):\n",
    "            gt = [[out[ii][j],out[ii][j + num]] for j in range(len(out[ii])//2)]\n",
    "            pred = [[traj_out[ii][j],traj_out[ii][j + num]] for j in range(len(out[ii])//2)]\n",
    "            ade.append(get_ade(np.array(pred), np.array(gt)))\n",
    "            fde.append(get_fde(np.array(pred), np.array(gt)))            \n",
    "            plot_traj(ii, traj_inp[ii], traj_out[ii], out[ii], {\"x\": [], \"y\": []}, offsets=offsets_train, cities = cities, avm=None, center=False, inp_len=num * 2, c_len = num * 2 + num_elems * 2, num=num)\n",
    "            cnt += 1\n",
    "        \n",
    "        if batch_num % 10 == 0:\n",
    "            print(\"Epoch: {}, Batch: {}, Loss: {}\".format(epoch, batch_num, loss.item()))\n",
    "            print(\"ADE: {}\".format(np.mean(ade)), \"FDE: {}\".format(np.mean(fde)))\n",
    "    \n",
    "        mean_ade.append(np.mean(ade))\n",
    "        mean_fde.append(np.mean(fde))\n",
    "    mean_loss = np.mean(train_loss)\n",
    "    epoch_train_loss.append(mean_loss)\n",
    "    ade_total.append(np.mean(mean_ade))\n",
    "    fde_total.append(np.mean(mean_fde))\n",
    "    torch.save(model.state_dict(), \"./checkpoints/final.ckpt\")\n",
    "    print(\"Epoch: {}, Mean Loss: {}\".format(epoch, mean_loss))\n",
    "    print(\"Mean ADE: {}\".format(np.mean(mean_ade)), \"Mean FDE: {}\".format(np.mean(mean_fde)))\n",
    "    print(\"-\"*100)"
   ]
  },
  {
   "cell_type": "markdown",
   "metadata": {},
   "source": [
    "#### Testing"
   ]
  },
  {
   "cell_type": "code",
   "execution_count": 32,
   "metadata": {},
   "outputs": [
    {
     "name": "stdout",
     "output_type": "stream",
     "text": [
      "Batch: 0, Loss: 21.651967257453663\n",
      "Batch: 1, Loss: 15.560219082197623\n",
      "Batch: 2, Loss: 10.759707110224143\n",
      "Batch: 3, Loss: 9.24195649138094\n",
      "Batch: 4, Loss: 11.809982725787588\n",
      "Batch: 5, Loss: 3.8183717961494237\n",
      "Batch: 6, Loss: 6.875628039191634\n",
      "Batch: 7, Loss: 11.24518591561262\n",
      "Batch: 8, Loss: 16.949294095008955\n",
      "Batch: 9, Loss: 4.990096545232122\n",
      "Epoch Mean Test Loss: 11.29024090582387\n",
      "Mean ADE: 2.8959913536681685 Mean FDE: 6.193840370095684\n"
     ]
    },
    {
     "data": {
      "image/png": "[encoded data removed]",
      "text/plain": [
       "<Figure size 432x288 with 1 Axes>"
      ]
     },
     "metadata": {
      "needs_background": "light"
     },
     "output_type": "display_data"
    }
   ],
   "source": [
    "with torch.no_grad():\n",
    "    test_loss = []\n",
    "    mean_ade = []\n",
    "    mean_fde = [] \n",
    "    for batch_num, data in enumerate(test_loader):\n",
    "        traj_inp, traj_out, b_inp = data\n",
    "        cnt = 0\n",
    "        traj_inp = traj_inp.to(device)\n",
    "        traj_out = traj_out.to(device)\n",
    "        b_inp = b_inp.to(device)\n",
    "\n",
    "        out = model(traj_inp, b_inp)\n",
    "        loss = criterion(out, traj_out)\n",
    "        \n",
    "        ade = []\n",
    "        fde = []        \n",
    "        \n",
    "        test_loss.append(loss.item())\n",
    "        obs = np.load(\"train/obstacle.npy\")\n",
    "        print(\"Batch: {}, Loss: {}\".format(batch_num, loss.item()))\n",
    "        for ii in range(traj_inp.size()[0]):\n",
    "            gt = [[out[ii][j],out[ii][j + num]] for j in range(len(out[ii])//2)]\n",
    "            pred = [[traj_out[ii][j],traj_out[ii][j + num]] for j in range(len(out[ii])//2)]\n",
    "            ade.append(get_ade(np.array(pred), np.array(gt)))\n",
    "            fde.append(get_fde(np.array(pred), np.array(gt)))                        \n",
    "            plot_traj(ii, traj_inp[ii], traj_out[ii], out[ii], {\"x\": [], \"y\": []}, offsets=offsets_test, cities = cities, avm=None, center=False, inp_len=num * 2, c_len = num * 2 + num_elems * 2, num=num, mode=\"test\", batch_num=batch_num)\n",
    "            cnt += 1\n",
    "        mean_ade.append(np.mean(ade))\n",
    "        mean_fde.append(np.mean(fde))  \n",
    "mean_loss = np.mean(test_loss)\n",
    "print(\"Epoch Mean Test Loss: {}\".format(mean_loss))\n",
    "print(\"Mean ADE: {}\".format(np.mean(mean_ade)), \"Mean FDE: {}\".format(np.mean(mean_fde)))"
   ]
  },
  {
   "cell_type": "code",
   "execution_count": null,
   "metadata": {},
   "outputs": [],
   "source": [
    "traj_inp.numpy()[0][:2*num].shape, traj_out.numpy()[0].shape"
   ]
  },
  {
   "cell_type": "code",
   "execution_count": null,
   "metadata": {},
   "outputs": [],
   "source": [
    "traj_inp[6]"
   ]
  },
  {
   "cell_type": "code",
   "execution_count": null,
   "metadata": {},
   "outputs": [],
   "source": [
    "traj_out[6]"
   ]
  },
  {
   "cell_type": "code",
   "execution_count": null,
   "metadata": {},
   "outputs": [],
   "source": [
    "out[6]"
   ]
  },
  {
   "cell_type": "code",
   "execution_count": null,
   "metadata": {},
   "outputs": [],
   "source": [
    "torch.sqrt(torch.sum((traj_out[6] - out[6]) ** 2))"
   ]
  },
  {
   "cell_type": "code",
   "execution_count": null,
   "metadata": {},
   "outputs": [],
   "source": [
    "fin = torch.tensor([traj_out[6][1], traj_out[6][23]])\n",
    "fin_pred = torch.tensor([out[6][11], out[6][23]])\n",
    "fin, fin_pred"
   ]
  },
  {
   "cell_type": "code",
   "execution_count": null,
   "metadata": {},
   "outputs": [],
   "source": [
    "torch.sqrt(torch.sum((fin_pred - fin) ** 2))"
   ]
  },
  {
   "cell_type": "code",
   "execution_count": null,
   "metadata": {},
   "outputs": [],
   "source": [
    "torch.sqrt(torch.sum((traj_out[6][-1] - out[6][-1]) ** 2))"
   ]
  },
  {
   "cell_type": "code",
   "execution_count": null,
   "metadata": {},
   "outputs": [],
   "source": []
  },
  {
   "cell_type": "code",
   "execution_count": null,
   "metadata": {},
   "outputs": [],
   "source": [
    "criterion(traj_out[6], out[6])"
   ]
  },
  {
   "cell_type": "code",
   "execution_count": null,
   "metadata": {},
   "outputs": [],
   "source": [
    "def disp_traj(cnt, traj_inp, traj_out, traj_pred):\n",
    "    traj_inp = traj_inp.numpy()\n",
    "    traj_out = traj_out.numpy()\n",
    "    traj_pred = traj_pred.numpy()\n",
    "    \n",
    "    fig, ax = plt.subplots(1, 1, figsize=(6, 6))\n",
    "    ax.scatter(traj_inp[::2], traj_inp[1::2], label='Inp traj')\n",
    "    ax.scatter(traj_out[:12], traj_out[12:], label='GT')\n",
    "    ax.scatter(traj_out[11], traj_out[23], label='Fin GT')\n",
    "    ax.scatter(traj_pred[:12], traj_pred[12:], label='Pred')\n",
    "    ax.scatter(traj_pred[11], traj_pred[23], label='Fin Pred')\n",
    "    \n",
    "    th = np.linspace(0, 2 * np.pi, 100)\n",
    "    for i in range(0, num_obs):\n",
    "        x_circ = x_obs_temp[i] + a_obs * np.cos(th)\n",
    "        y_circ = y_obs_temp[i] + b_obs * np.sin(th)\n",
    "        ax.plot(x_circ, y_circ, '-k')\n",
    "    \n",
    "    ax.legend()\n",
    "    ax.set_xlim([-7, 7])\n",
    "    ax.set_ylim([-7, 7])\n",
    "    plt.show()"
   ]
  },
  {
   "cell_type": "code",
   "execution_count": null,
   "metadata": {},
   "outputs": [],
   "source": [
    "disp_traj(0, traj_inp[8], traj_out[8], out[8].detach())"
   ]
  },
  {
   "cell_type": "code",
   "execution_count": null,
   "metadata": {},
   "outputs": [],
   "source": [
    "import cvxopt\n",
    "class OPTNodee(AbstractDeclarativeNode):\n",
    "    def __init__(self, P, Pddot, A_eq, A_obs, Q_smoothness, x_obs, y_obs, num=12, num_obs=4, nvar=11, a_obs=1.0, b_obs=1.0, rho_obs=0.3, rho_eq=10.0, weight_smoothness=10, maxiter=300, eps=1e-7, num_tot=48):\n",
    "        super().__init__()\n",
    "        self.P = torch.tensor(P, dtype=torch.double).to(device)\n",
    "        self.Pddot = torch.tensor(Pddot, dtype=torch.double).to(device)\n",
    "        self.A_eq = torch.tensor(A_eq, dtype=torch.double).to(device)\n",
    "        self.A_obs = torch.tensor(A_obs, dtype=torch.double).to(device)\n",
    "        self.Q_smoothness = torch.tensor(Q_smoothness, dtype=torch.double).to(device)\n",
    "        self.x_obs = torch.tensor(x_obs, dtype=torch.double).to(device)\n",
    "        self.y_obs = torch.tensor(y_obs, dtype=torch.double).to(device)\n",
    "        \n",
    "        self.num = num\n",
    "        self.num_obs = num_obs\n",
    "        self.eps = eps\n",
    "        self.nvar = nvar        \n",
    "        self.a_obs = a_obs\n",
    "        self.b_obs = b_obs        \n",
    "        self.rho_eq = rho_eq\n",
    "        self.num_obs = num_obs\n",
    "        self.maxiter = maxiter\n",
    "        self.num_tot = num_tot\n",
    "        self.rho_obs = rho_obs\n",
    "        self.weight_smoothness = weight_smoothness\n",
    "        \n",
    "    def objective(self, b, lamda_x, lamda_y, y):  \n",
    "        batch_size, _ = b.size()\n",
    "        b = b.transpose(0, 1)\n",
    "        y = y.transpose(0, 1)\n",
    "        lamda_x = lamda_x.transpose(0, 1)\n",
    "        lamda_y = lamda_y.transpose(0, 1)\n",
    "        bx_eq_tensor, by_eq_tensor = torch.split(b, 6, dim=0)\n",
    "        ones_tensor = torch.ones(self.num_tot, batch_size, dtype=torch.double).to(device)\n",
    "\n",
    "        c_x = y[0:self.nvar]\n",
    "        c_y = y[self.nvar:2 * self.nvar]\n",
    "        alpha_obs = y[2 * self.nvar: 2 * self.nvar + self.num_tot]\n",
    "        d_obs = y[2 * self.nvar + self.num_tot:]\n",
    "\n",
    "        cost_smoothness_x = 0.5 * self.weight_smoothness * torch.diag(torch.matmul(c_x.T, torch.matmul(self.Q_smoothness, c_x)))\n",
    "        cost_smoothness_y = 0.5 * self.weight_smoothness * torch.diag(torch.matmul(c_y.T, torch.matmul(self.Q_smoothness, c_y)))\n",
    "\n",
    "        temp_x_obs = d_obs * torch.cos(alpha_obs) * self.a_obs\n",
    "        b_obs_x = self.x_obs.view(-1, 1) + temp_x_obs\n",
    "\n",
    "        temp_y_obs = d_obs * torch.sin(alpha_obs) * self.b_obs\n",
    "        b_obs_y = self.y_obs.view(-1, 1) + temp_y_obs\n",
    "\n",
    "        cost_obs_x = 0.5 * self.rho_obs * (torch.sum((torch.matmul(self.A_obs, c_x) - b_obs_x) ** 2, axis=0))\n",
    "        cost_obs_y = 0.5 * self.rho_obs * (torch.sum((torch.matmul(self.A_obs, c_y) - b_obs_y) ** 2, axis=0))\n",
    "        cost_slack = self.rho_obs * torch.sum(torch.max(1 - d_obs, ones_tensor), axis=0)\n",
    "\n",
    "        cost_eq_x = 0.5 * self.rho_eq * torch.sum((torch.matmul(self.A_eq, c_x) - bx_eq_tensor) ** 2, axis=0)\n",
    "        cost_eq_y = 0.5 * self.rho_eq * torch.sum((torch.matmul(self. A_eq, c_y) - by_eq_tensor) ** 2, axis=0)\n",
    "\n",
    "        cost_x = cost_smoothness_x + cost_obs_x + cost_eq_x\n",
    "        cost_y = cost_smoothness_y + cost_obs_y + cost_eq_y\n",
    "        cost = cost_x + cost_y + self.eps * torch.sum(c_x ** 2, axis=0) + self.eps * torch.sum(c_y ** 2, axis=0) + self.eps * torch.sum(d_obs ** 2, axis=0) + self.eps * torch.sum(alpha_obs ** 2, axis=0) + cost_slack\n",
    "        return cost\n",
    "\n",
    "    def optimize(self, b, lamda_x, lamda_y):\n",
    "        bx_eq_tensor, by_eq_tensor = torch.split(b, 6, dim=0)\n",
    "        \n",
    "        d_obs = torch.ones(self.num_obs, self.num, dtype=torch.double).to(device)\n",
    "        alpha_obs = torch.zeros(self.num_obs, self.num, dtype=torch.double).to(device)\n",
    "        ones_tensor = torch.ones((self.num_obs, self.num), dtype=torch.double).to(device)\n",
    "        cost_smoothness = self.weight_smoothness * torch.matmul(self.Pddot.T, self.Pddot)\n",
    "        cost = cost_smoothness + self.rho_obs * torch.matmul(self.A_obs.T, self.A_obs) + self.rho_eq * torch.matmul(self.A_eq.T, self.A_eq)\n",
    "\n",
    "        temp_x_obs = d_obs * torch.cos(alpha_obs) * self.a_obs\n",
    "        temp_y_obs = d_obs * torch.sin(alpha_obs) * self.b_obs\n",
    "\n",
    "        b_obs_x = self.x_obs.view(self.num * self.num_obs) + temp_x_obs.view(self.num * self.num_obs)\n",
    "        b_obs_y = self.y_obs.view(self.num * self.num_obs) + temp_y_obs.view(self.num * self.num_obs)        \n",
    "        \n",
    "        bx_eq_tensor, by_eq_tensor = torch.split(b, 6, dim=0)\n",
    "        \n",
    "#         + torch.matmul(self.A_obs.T, b_obs_x) + self.rho_eq * torch.matmul(self.A_eq.T, bx_eq_tensor)\n",
    "#          self.rho_obs * torch.matmul(self.A_obs.T, b_obs_y) - self.rho_eq * torch.matmul(self.A_eq.T, by_eq_tensor)        \n",
    "        \n",
    "#       A_eq = np.vstack((P[0], Pdot[0], Pddot[0], P[-1], Pdot[-1], Pddot[-1]))\n",
    "#       A_eq = np.vstack((A_eq, A_eq))\n",
    "#        A_obs = np.tile(P, (num_obs, 1))\n",
    "        b_eq = np.hstack((bx_eq_tensor, by_eq_tensor))\n",
    "#         print(A_obs.shape)\n",
    "#         A_eq = np.vstack((P[0], Pdot[0], Pddot[0], P[-1], Pdot[-1], Pddot[-1]))\n",
    "        Q_obs = torch.matmul(self.A_obs.T, self.A_obs)\n",
    "        Q_eq = torch.matmul(self.A_eq.T, self.A_eq)\n",
    "        bx_obs = x_obs.reshape(num_obs * num)\n",
    "        by_obs = y_obs.reshape(num_obs * num)\n",
    "        qx_obs = torch.matmul(b_obs_x.T, self.A_obs) * 2\n",
    "        qy_obs = torch.matmul(b_obs_y.T, self.A_obs) * 2\n",
    "        qx_eq = torch.matmul(bx_eq_tensor.T, self.A_eq) * 2\n",
    "        qy_eq = torch.matmul(by_eq_tensor.T, self.A_eq) * 2\n",
    "        q = np.hstack((qx_eq, qy_eq))\n",
    "#         print(Q_obs.shape)\n",
    "        AA_eq = cvxopt.matrix(self.A_eq, tc='d')\n",
    "        bx_eq = cvxopt.matrix(bx_eq_tensor, tc='d')\n",
    "        by_eq = cvxopt.matrix(by_eq_tensor, tc='d')\n",
    "        b_eq = cvxopt.matrix(b_eq, tc='d')\n",
    "        Q = cvxopt.matrix(cost, tc='d')\n",
    "        q_x = cvxopt.matrix(rho_obs * qx_obs + rho_eq * qx_eq)\n",
    "        q_y = cvxopt.matrix(rho_obs * qy_obs + rho_eq * qy_eq)\n",
    "        sol_x = solvers.qp(Q, q_x, None, None, AA_eq, bx_eq)\n",
    "        sol_x = torch.tensor(sol_x['x'])\n",
    "        sol_y = solvers.qp(Q, q_y, None, None, AA_eq, by_eq)\n",
    "        sol_y = torch.tensor(sol_y['x'])\n",
    "        sol = torch.cat([sol_x, sol_y, alpha_obs.view(-1), d_obs.view(-1)])\n",
    "        return sol\n",
    "\n",
    "    def solve(self, b, lamda_x, lamda_y):\n",
    "        batch_size, _ = b.size()\n",
    "        b = b.transpose(0, 1)\n",
    "        lamda_x = lamda_x.transpose(0, 1)\n",
    "        lamda_y = lamda_y.transpose(0, 1)\n",
    "        y = torch.zeros(batch_size, 2 * self.nvar + 2 * self.num_tot, dtype=torch.double).to(device)\n",
    "        for i in range(batch_size):\n",
    "            b_cur = b[:, i]\n",
    "            lamda_x_cur = lamda_x[:, i]\n",
    "            lamda_y_cur = lamda_y[:, i]\n",
    "            sol = self.optimize(b_cur, lamda_x_cur, lamda_y_cur)\n",
    "            y[i, :] = sol\n",
    "        return y, None"
   ]
  },
  {
   "cell_type": "code",
   "execution_count": 8,
   "metadata": {},
   "outputs": [
    {
     "data": {
      "text/plain": [
       "(193, 32, 6)"
      ]
     },
     "execution_count": 8,
     "metadata": {},
     "output_type": "execute_result"
    }
   ],
   "source": [
    "import numpy as np\n",
    "import matplotlib.pyplot as plt\n",
    "arr = np.load(\"carla_test.npy\")\n",
    "arr.shape"
   ]
  },
  {
   "cell_type": "code",
   "execution_count": 12,
   "metadata": {},
   "outputs": [
    {
     "data": {
      "text/plain": [
       "[<matplotlib.lines.Line2D at 0x7fc1bc7aee20>]"
      ]
     },
     "execution_count": 12,
     "metadata": {},
     "output_type": "execute_result"
    },
    {
     "data": {
      "image/png": "[encoded data removed]",
      "text/plain": [
       "<Figure size 432x288 with 1 Axes>"
      ]
     },
     "metadata": {
      "needs_background": "light"
     },
     "output_type": "display_data"
    }
   ],
   "source": [
    "arr[0,:,:4].shape\n",
    "plt.plot(arr[3, :, 0], arr[3, :, 1])"
   ]
  }
 ],
 "metadata": {
  "kernelspec": {
   "display_name": "Python 3",
   "language": "python",
   "name": "python3"
  },
  "language_info": {
   "codemirror_mode": {
    "name": "ipython",
    "version": 3
   },
   "file_extension": ".py",
   "mimetype": "text/x-python",
   "name": "python",
   "nbconvert_exporter": "python",
   "pygments_lexer": "ipython3",
   "version": "3.8.10"
  }
 },
 "nbformat": 4,
 "nbformat_minor": 4
}
