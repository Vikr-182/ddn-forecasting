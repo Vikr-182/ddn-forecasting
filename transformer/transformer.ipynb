{
 "cells": [
  {
   "cell_type": "markdown",
   "metadata": {
    "id": "-a0y_50KXpLE"
   },
   "source": [
    "# Transformer model for Trajectory Prediction\n",
    "\n",
    "Benjamin Mo\n",
    "\n",
    "2021 Master's Project"
   ]
  },
  {
   "cell_type": "code",
   "execution_count": 50,
   "metadata": {
    "id": "P2PUgChc98Xc"
   },
   "outputs": [],
   "source": [
    "# import tensorflow as tf\n",
    "import numpy as np\n",
    "import torch\n",
    "import torch.nn as nn"
   ]
  },
  {
   "cell_type": "code",
   "execution_count": 51,
   "metadata": {},
   "outputs": [],
   "source": [
    "val = np.load('val_test_data.npy')\n",
    "train = np.load('val_data.npy')\n",
    "val.shape\n",
    "train.shape\n",
    "val = np.array([[[i[j][0], i[j][1], 0.2 * j] for j in range(len(i))]   for i in val])\n",
    "train = np.array([[[i[j][0], i[j][1], 0.2 * j] for j in range(len(i))]   for i in train])\n",
    "train.shape\n",
    "np.save('transformer_val_data.npy', train)\n",
    "np.save('transformer_test_data.npy', val)"
   ]
  },
  {
   "cell_type": "markdown",
   "metadata": {
    "id": "r9fJqZedYIT9"
   },
   "source": [
    "## Load data\n",
    "\n",
    "Data was compiled from the TrajNet++ dataset. No preprocessing has yet to be performed. There are 240890 sequences in the training data. Each sequence has a total of 20 $(x, y)$ positions. The first 8 positions will be given as input, and the last 12 positions are the ground truth labels. Split up the training data into training data and validation data.\n",
    "\n",
    "Each sequence is a $20 \\times 3$ matrix. The first column is the time of the frame, the second and third columns are the $(x, y)$ positions at that time, respectively. The time is centered at the $8^{th}$ frame.\n",
    "\n",
    "Split the data up into encoder input sequence $(8 \\times 1)$, decoder input sequence (shift right) $(12 \\times 1)$, and true output sequence $(12 \\times 1)$"
   ]
  },
  {
   "cell_type": "code",
   "execution_count": 52,
   "metadata": {
    "id": "34Zgw3_nbYr8"
   },
   "outputs": [],
   "source": [
    "def normalize(data):\n",
    "    data_mean = np.mean(data, axis=(0,1))\n",
    "    data_std = np.std(data, axis=(0,1))\n",
    "    \n",
    "    normalized_data = (data - data_mean) / data_std\n",
    "    return normalized_data, data_mean, data_std"
   ]
  },
  {
   "cell_type": "code",
   "execution_count": 53,
   "metadata": {
    "colab": {
     "base_uri": "https://localhost:8080/"
    },
    "executionInfo": {
     "elapsed": 793,
     "status": "ok",
     "timestamp": 1620346897638,
     "user": {
      "displayName": "Ben Mo",
      "photoUrl": "",
      "userId": "15145245307052334155"
     },
     "user_tz": 240
    },
    "id": "YKtOVGSrw_6h",
    "outputId": "eff9c4dc-c027-4ab0-8f10-20978c5d6fc5"
   },
   "outputs": [],
   "source": [
    "total = 50\n",
    "obs = 20\n",
    "dt = 0.2\n",
    "# data = np.load('val_data.npy')\n",
    "# # val_dataset = np.load('val_data.npy')\n",
    "\n",
    "# # data = np.concatenate((train_dataset, val_dataset), axis=0)\n",
    "# print(data.shape)\n",
    "\n",
    "# N = data.shape[0]\n",
    "# idx = np.random.permutation(N)\n",
    "\n",
    "# data = data[idx]\n",
    "\n",
    "# val_data = data[200000::]\n",
    "# train_data = data[0:200000]\n",
    "# print(train_data.shape)\n",
    "# print(val_data.shape)\n",
    "\n",
    "# np.save('val_data.npy', train_data)\n",
    "# np.save('test_data.npy', val_data)"
   ]
  },
  {
   "cell_type": "code",
   "execution_count": 54,
   "metadata": {
    "colab": {
     "base_uri": "https://localhost:8080/"
    },
    "executionInfo": {
     "elapsed": 1239,
     "status": "ok",
     "timestamp": 1620346944345,
     "user": {
      "displayName": "Ben Mo",
      "photoUrl": "",
      "userId": "15145245307052334155"
     },
     "user_tz": 240
    },
    "id": "00-wMPi9veLQ",
    "outputId": "f7167426-fca5-4bfc-8538-3ceafcf7a398"
   },
   "outputs": [
    {
     "name": "stdout",
     "output_type": "stream",
     "text": [
      "'in_seq' dimension: torch.Size([1000, 20, 2])\n",
      "'in_seq_times' dimension: torch.Size([1000, 20])\n",
      "'tar_seq' dimension: torch.Size([1000, 30, 2])\n",
      "'gnd_true' dimension: torch.Size([1000, 30, 2])\n",
      "'start_point' dimension: torch.Size([1000, 2])\n",
      "'in_seq_incr' dimension: torch.Size([1000, 20, 2])\n",
      "'tar_seq_incr' dimension: torch.Size([1000, 30, 2])\n",
      "'gnd_true_incr' dimension: torch.Size([1000, 30, 2])\n",
      "'norm_in_seq' dimension: torch.Size([1000, 20, 2])\n",
      "'norm_tar_seq' dimension: torch.Size([1000, 30, 2])\n",
      "'norm_gnd_true' dimension: torch.Size([1000, 30, 2])\n",
      "'mean' dimension: torch.Size([2])\n",
      "'std' dimension: torch.Size([2])\n"
     ]
    }
   ],
   "source": [
    "def load_data(filepath):\n",
    "    # Load data from file\n",
    "    data = np.load(filepath)\n",
    "    normalized_data, data_mean, data_std = normalize(data[:, :, 1::])\n",
    "\n",
    "    # Compute the positional increments at each step\n",
    "    seq_incr = np.zeros_like(data[:, :, 1::])\n",
    "    seq_incr[:, 1::, :] = data[:, 1::, 1::] - data[:, 0:-1, 1::]\n",
    "\n",
    "    # Concatenate to data array\n",
    "    data = np.concatenate((data, seq_incr), axis=-1)\n",
    "\n",
    "    # Split data array into input and output sequences\n",
    "    in_seq = torch.tensor(data[:, 0:obs, :], dtype=torch.float32)\n",
    "    tar_seq = torch.tensor(data[:, obs - 1:-1, :], dtype=torch.float32)\n",
    "    gnd_true = torch.tensor(data[:, obs::, :], dtype=torch.float32)\n",
    "\n",
    "    norm_in_seq = torch.tensor(normalized_data[:, 0:obs, :], dtype=torch.float32)\n",
    "    norm_tar_seq = torch.tensor(normalized_data[:, obs - 1:-1, :], dtype=torch.float32)\n",
    "    norm_gnd_true = torch.tensor(normalized_data[:, obs::, :], dtype=torch.float32)    \n",
    "\n",
    "    # Compile all of the necessary information into a dataset\n",
    "    dataset = {'in_seq': in_seq[:, :, 1:3], \n",
    "            'in_seq_times': in_seq[:, :, 0],\n",
    "            'tar_seq': tar_seq[:, :, 1:3],\n",
    "            'gnd_true': gnd_true[:, :, 1:3],\n",
    "            'start_point': in_seq[:, -1, 1:3],\n",
    "            'in_seq_incr': in_seq[:, :, 3::],\n",
    "            'tar_seq_incr': tar_seq[:, :, 3::],\n",
    "            'gnd_true_incr': gnd_true[:, :, 3::],\n",
    "            'batched': False,\n",
    "            'norm_in_seq': norm_in_seq,\n",
    "            'norm_tar_seq': norm_tar_seq,\n",
    "            'norm_gnd_true': norm_gnd_true,\n",
    "            'mean': torch.tensor(data_mean, dtype=torch.float32), \n",
    "            'std': torch.tensor(data_std, dtype=torch.float32)\n",
    "            }\n",
    "    \n",
    "    return dataset\n",
    "\n",
    "train_dataset = load_data('transformer_val_data.npy')\n",
    "val_dataset = load_data('transformer_test_data.npy')\n",
    "\n",
    "# Adjust validation data norms\n",
    "\n",
    "val_dataset['norm_in_seq'] = val_dataset['std']*val_dataset['norm_in_seq'] + val_dataset['mean']\n",
    "val_dataset['norm_tar_seq'] = val_dataset['std']*val_dataset['norm_tar_seq'] + val_dataset['mean']\n",
    "val_dataset['norm_gnd_true'] = val_dataset['std']*val_dataset['norm_gnd_true'] + val_dataset['mean']\n",
    "\n",
    "val_dataset['norm_in_seq'] = (val_dataset['in_seq'] - train_dataset['mean']) / train_dataset['std']\n",
    "val_dataset['norm_tar_seq'] = (val_dataset['tar_seq'] - train_dataset['mean']) / train_dataset['std']\n",
    "val_dataset['norm_gnd_true'] = (val_dataset['gnd_true'] - train_dataset['mean']) / train_dataset['std']\n",
    "\n",
    "for key in train_dataset.keys():\n",
    "    if key != 'batched':\n",
    "        print(\"'{}' dimension: {}\".format(key, train_dataset[key].shape))"
   ]
  },
  {
   "cell_type": "code",
   "execution_count": 55,
   "metadata": {},
   "outputs": [
    {
     "data": {
      "text/plain": [
       "<matplotlib.collections.PathCollection at 0x7fd5b0c5e9a0>"
      ]
     },
     "execution_count": 55,
     "metadata": {},
     "output_type": "execute_result"
    },
    {
     "data": {
      "image/png": "[encoded data removed]",
      "text/plain": [
       "<Figure size 432x288 with 1 Axes>"
      ]
     },
     "metadata": {
      "needs_background": "light"
     },
     "output_type": "display_data"
    }
   ],
   "source": [
    "train_dataset['norm_gnd_true'].shape\n",
    "train_dataset['norm_gnd_true'][0].shape\n",
    "check_dataset = train_dataset\n",
    "import matplotlib.pyplot as plt\n",
    "ind = 0\n",
    "# print(train_dataset['start_point'][0:1])\n",
    "plt.scatter(train_dataset['norm_gnd_true'][ind, :, 0], train_dataset['norm_gnd_true'][ind, : ,1])"
   ]
  },
  {
   "cell_type": "markdown",
   "metadata": {
    "id": "2uTBeI9DW_6_"
   },
   "source": [
    "## Linear Embedding\n",
    "\n",
    "Linear embedding is implemented using a single fully connected layer to project the $(x,y)$ position at each frame into a $d_{model}$ length vector. The default value for $d_{model}=512$\n",
    "\n",
    "$(x, y) \\in \\mathbb{R}^{2\\times 1} :\\longrightarrow \\mathbb{R}^{512\\times 1} $"
   ]
  },
  {
   "cell_type": "code",
   "execution_count": 56,
   "metadata": {
    "id": "gigOgpMlXImQ"
   },
   "outputs": [],
   "source": [
    "# Linear Embedding layer for the transformer. Maps input sequences into d_model \n",
    "# length vectors and scales by the square-root of d_model. Default d_model = 512\n",
    "class LinearEmbedding(nn.Module):\n",
    "    def __init__(self, d_model=512):\n",
    "        super(LinearEmbedding, self).__init__()\n",
    "\n",
    "        self.d_model = d_model\n",
    "        self.embedding = nn.Linear(2, d_model)\n",
    "    \n",
    "    def forward(self, inputs):\n",
    "        \n",
    "        outputs = self.embedding(inputs)\n",
    "        outputs *= torch.sqrt( torch.tensor(self.d_model, dtype=torch.float32) )\n",
    "\n",
    "        return outputs"
   ]
  },
  {
   "cell_type": "code",
   "execution_count": 57,
   "metadata": {
    "colab": {
     "base_uri": "https://localhost:8080/"
    },
    "executionInfo": {
     "elapsed": 3062,
     "status": "ok",
     "timestamp": 1620320924968,
     "user": {
      "displayName": "Ben Mo",
      "photoUrl": "",
      "userId": "15145245307052334155"
     },
     "user_tz": 240
    },
    "id": "sToFLWOXbPSL",
    "outputId": "343416d4-fb2d-4e40-ff81-c3455ddf7ed0"
   },
   "outputs": [
    {
     "name": "stdout",
     "output_type": "stream",
     "text": [
      "Linear Embedding Layer (Encoder side):\n",
      "torch.Size([1, 20, 2])\n",
      "Input shape: torch.Size([1, 20, 2])\n",
      "Output shape: torch.Size([1, 20, 512])\n",
      "===============================\n",
      "Linear Embedding Layer (Decoder side):\n",
      "Input shape: torch.Size([1, 30, 2])\n",
      "Output shape: torch.Size([1, 30, 512])\n"
     ]
    }
   ],
   "source": [
    "# Test output of Linear Embedding layer\n",
    "print(\"Linear Embedding Layer (Encoder side):\")\n",
    "LE_enc = LinearEmbedding(d_model=512)\n",
    "inputs = train_dataset['in_seq'][0:1]\n",
    "print(inputs.shape)\n",
    "LE_enc_out = LE_enc(inputs)\n",
    "\n",
    "print(\"Input shape: {}\".format(inputs.shape))\n",
    "print(\"Output shape: {}\".format(LE_enc_out.shape))\n",
    "\n",
    "print(\"===============================\")\n",
    "\n",
    "print(\"Linear Embedding Layer (Decoder side):\")\n",
    "LE_dec = LinearEmbedding(d_model=512)\n",
    "inputs = train_dataset['tar_seq'][0:1]\n",
    "LE_dec_out = LE_dec(inputs)\n",
    "\n",
    "print(\"Input shape: {}\".format(inputs.shape))\n",
    "print(\"Output shape: {}\".format(LE_dec_out.shape))"
   ]
  },
  {
   "cell_type": "markdown",
   "metadata": {
    "id": "zrEPLZhGBBcG"
   },
   "source": [
    "## Positional Encoding\n",
    "\n",
    "Positional encoding in order to capture the positions of each input relative to each other, since the linear embedding does not capture that information\n",
    "\n",
    "Use the equation...\n",
    "\n",
    "*Equation goes here*"
   ]
  },
  {
   "cell_type": "code",
   "execution_count": 58,
   "metadata": {
    "id": "gxYXbslkBAXA"
   },
   "outputs": [],
   "source": [
    "class PositionalEncoding(nn.Module):\n",
    "    def __init__(self, d_model=512):\n",
    "        super(PositionalEncoding, self).__init__()\n",
    "        self.d_model = d_model\n",
    "        self.indices = torch.range(start=0,end=d_model, dtype=torch.float32).unsqueeze(0)#[torch.newaxis,:]\n",
    "\n",
    "        self.angles = 1 / torch.pow(10000, (self.indices / torch.tensor(d_model, dtype=torch.float32)))\n",
    "\n",
    "\n",
    "    def positional_encoding(self, position):\n",
    "        angle_rads = position * self.angles\n",
    "        \n",
    "        pos_encoding = np.zeros_like(angle_rads)\n",
    "        # sin every even index of position\n",
    "        pos_encoding[..., 0::2] = torch.sin(angle_rads[..., 0::2])\n",
    "        # cos every odd index of position\n",
    "        pos_encoding[..., 1::2] = torch.cos(angle_rads[..., 1::2])\n",
    "\n",
    "        return torch.tensor(pos_encoding, dtype=torch.float32)\n",
    "\n",
    "\n",
    "    def forward(self, inputs):\n",
    "        position = inputs.unsqueeze(-1)#[..., torch.newaxis]\n",
    "        return self.positional_encoding(position)"
   ]
  },
  {
   "cell_type": "code",
   "execution_count": 61,
   "metadata": {
    "colab": {
     "base_uri": "https://localhost:8080/"
    },
    "executionInfo": {
     "elapsed": 220,
     "status": "ok",
     "timestamp": 1620320930556,
     "user": {
      "displayName": "Ben Mo",
      "photoUrl": "",
      "userId": "15145245307052334155"
     },
     "user_tz": 240
    },
    "id": "EIr3hY1scXMJ",
    "outputId": "f30e1741-1fcf-4095-c653-d44957494348"
   },
   "outputs": [
    {
     "name": "stdout",
     "output_type": "stream",
     "text": [
      "Positional Encoding with Times (Encoder side)\n",
      "Input shape: torch.Size([1, 20])\n",
      "Output shape: torch.Size([1, 20, 513])\n",
      "===============================\n",
      "Positional Encoding with Position (Decoder side)\n",
      "Input shape: torch.Size([31])\n",
      "Output shape: torch.Size([31, 513])\n"
     ]
    },
    {
     "name": "stderr",
     "output_type": "stream",
     "text": [
      "<ipython-input-58-ff521b8d945a>:5: UserWarning: torch.range is deprecated and will be removed in a future release because its behavior is inconsistent with Python's range builtin. Instead, use torch.arange, which produces values in [start, end).\n",
      "  self.indices = torch.range(start=0,end=d_model, dtype=torch.float32).unsqueeze(0)#[torch.newaxis,:]\n",
      "<ipython-input-61-ba0fda1e2c87>:15: UserWarning: torch.range is deprecated and will be removed in a future release because its behavior is inconsistent with Python's range builtin. Instead, use torch.arange, which produces values in [start, end).\n",
      "  inputs = torch.range(start=0,end=seq_len, dtype=torch.float32)\n"
     ]
    }
   ],
   "source": [
    "# Some code testing the output of calling positional encoding ...\n",
    "print(\"Positional Encoding with Times (Encoder side)\")\n",
    "PE_enc = PositionalEncoding(d_model=512)\n",
    "inputs = train_dataset['in_seq_times'][0:1]\n",
    "PE_enc_out = PE_enc(inputs)\n",
    "\n",
    "print(\"Input shape: {}\".format(inputs.shape))\n",
    "print(\"Output shape: {}\".format(PE_enc_out.shape))\n",
    "\n",
    "print(\"===============================\")\n",
    "\n",
    "print(\"Positional Encoding with Position (Decoder side)\")\n",
    "PE_dec = PositionalEncoding(d_model=512)\n",
    "seq_len = train_dataset['tar_seq_incr'][0:1].shape[1]\n",
    "inputs = torch.range(start=0,end=seq_len, dtype=torch.float32)\n",
    "PE_dec_out = PE_dec(inputs)\n",
    "\n",
    "print(\"Input shape: {}\".format(inputs.shape))\n",
    "print(\"Output shape: {}\".format(PE_dec_out.shape))\n",
    "\n"
   ]
  },
  {
   "cell_type": "code",
   "execution_count": 103,
   "metadata": {
    "colab": {
     "base_uri": "https://localhost:8080/"
    },
    "executionInfo": {
     "elapsed": 312,
     "status": "ok",
     "timestamp": 1620320932714,
     "user": {
      "displayName": "Ben Mo",
      "photoUrl": "",
      "userId": "15145245307052334155"
     },
     "user_tz": 240
    },
    "id": "_Q07W_cHi27Z",
    "outputId": "255e9c1c-695d-49bc-94d3-91d93dd87b14"
   },
   "outputs": [
    {
     "name": "stdout",
     "output_type": "stream",
     "text": [
      "Encoder Input\n",
      "Linear Embedding Output: (1, 20, 512)\n",
      "Positional Encoding Output: (1, 20, 512)\n",
      "Encoder input dimension: (1, 20, 512)\n",
      "===============================\n",
      "Decoder Input\n",
      "Linear Embedding Output: (1, 30, 512)\n",
      "Positional Encoding Output: (30, 512)\n",
      "Decoder input dimension: (1, 30, 512)\n"
     ]
    }
   ],
   "source": [
    "# Add the output from the Linear Embedding with the Positional Encoding\n",
    "print(\"Encoder Input\")\n",
    "encoder_in = LE_enc_out + PE_enc_out\n",
    "\n",
    "print(\"Linear Embedding Output: {}\".format(LE_enc_out.shape))\n",
    "print(\"Positional Encoding Output: {}\".format(PE_enc_out.shape))\n",
    "print(\"Encoder input dimension: {}\".format(encoder_in.shape))\n",
    "\n",
    "print(\"===============================\")\n",
    "\n",
    "print(\"Decoder Input\")\n",
    "decoder_in = LE_dec_out + PE_dec_out\n",
    "\n",
    "print(\"Linear Embedding Output: {}\".format(LE_dec_out.shape))\n",
    "print(\"Positional Encoding Output: {}\".format(PE_dec_out.shape))\n",
    "print(\"Decoder input dimension: {}\".format(decoder_in.shape))"
   ]
  },
  {
   "cell_type": "markdown",
   "metadata": {
    "id": "zrQhIgL0A8s-"
   },
   "source": [
    "## Multi-Head Attention"
   ]
  },
  {
   "cell_type": "code",
   "execution_count": 104,
   "metadata": {
    "id": "Fmr9ujKP_sUn"
   },
   "outputs": [],
   "source": [
    "# Scaled dot product attention function\n",
    "def scaled_dot_prodct_attention(query, key, value, mask):\n",
    "    matmul_qk = tf.matmul(query, key, transpose_b=True)\n",
    "\n",
    "    depth = tf.cast( tf.shape(key)[-1], tf.float32 )\n",
    "    logits = matmul_qk / tf.math.sqrt(depth)\n",
    "\n",
    "    # Add mask if necessary\n",
    "    if mask is not None:\n",
    "        logits += (mask * -1e9)  # Make masked values a very large negative value\n",
    "    \n",
    "    attention_weights = tf.nn.softmax(logits, axis=1)\n",
    "\n",
    "    return tf.matmul(attention_weights, value)\n",
    "\n",
    "# Implement multi-head attention using Model subclassing\n",
    "class MultiHeadAttention(tf.keras.layers.Layer):\n",
    "    def __init__(self, d_model=512, num_heads=8, name=\"multi_head_attention\"):\n",
    "        super(MultiHeadAttention, self).__init__(name=name)\n",
    "        self.num_heads = num_heads\n",
    "        self.d_model = d_model\n",
    "\n",
    "        assert d_model % self.num_heads == 0\n",
    "\n",
    "        # Dimension of queries, keys and values\n",
    "        self.depth = d_model // self.num_heads \n",
    "\n",
    "        # Dense layers for computing linear projections of queries, keys and values\n",
    "        self.query_dense = tf.keras.layers.Dense(units=d_model)\n",
    "        self.key_dense = tf.keras.layers.Dense(units=d_model)\n",
    "        self.value_dense = tf.keras.layers.Dense(units=d_model)\n",
    "\n",
    "        # Dense layer for final linear projection of concatenated scaled dot-product attention outputs\n",
    "        self.dense = tf.keras.layers.Dense(units=d_model)\n",
    "\n",
    "    def split_heads(self, inputs, batch_size):\n",
    "        inputs = tf.reshape(inputs, shape=(batch_size, -1, self.num_heads, self.depth))\n",
    "        return tf.transpose(inputs, perm=[0, 2, 1, 3])\n",
    "\n",
    "\n",
    "    def call(self, inputs):\n",
    "        # inputs for query, key, value, and mask are stored as a dictionary because call only takes one input object\n",
    "        query, key, value, mask = inputs['query'], inputs['key'], inputs['value'], inputs['mask']\n",
    "\n",
    "        batch_size = tf.shape(query)[0]\n",
    "\n",
    "        # Linear projections to depth dimension\n",
    "        query = self.query_dense(query)\n",
    "        key = self.key_dense(key)\n",
    "        value = self.value_dense(value)\n",
    "\n",
    "        # Split heads - total weight dimensions for each dense layer is (d_model x d_model), its just each head weight concatenated together\n",
    "        query = self.split_heads(query, batch_size)\n",
    "        key = self.split_heads(key, batch_size)\n",
    "        value = self.split_heads(value, batch_size)\n",
    "\n",
    "        # Compute scaled dot-product attention\n",
    "        scaled_attention = scaled_dot_prodct_attention(query, key, value, mask)\n",
    "        scaled_attention = tf.transpose(scaled_attention, perm=[0, 2, 1, 3])\n",
    "\n",
    "        # Concatenate the outputs\n",
    "        concat_attention = tf.reshape(scaled_attention, shape=(batch_size, -1, self.d_model))\n",
    "\n",
    "        # Run concatenated outputs through dense layer\n",
    "        outputs = self.dense(concat_attention)\n",
    "\n",
    "        return outputs"
   ]
  },
  {
   "cell_type": "code",
   "execution_count": 105,
   "metadata": {
    "colab": {
     "base_uri": "https://localhost:8080/"
    },
    "executionInfo": {
     "elapsed": 219,
     "status": "ok",
     "timestamp": 1620320936722,
     "user": {
      "displayName": "Ben Mo",
      "photoUrl": "",
      "userId": "15145245307052334155"
     },
     "user_tz": 240
    },
    "id": "JAz8q4i8g_39",
    "outputId": "8bbf5d50-2d6b-4f73-9383-ee2500870642"
   },
   "outputs": [
    {
     "name": "stdout",
     "output_type": "stream",
     "text": [
      "Multi Head Attention\n",
      "query dimension: (1, 20, 512)\n",
      "key dimension: (1, 20, 512)\n",
      "value dimension: (1, 20, 512)\n",
      "mask dimension: None\n",
      "\n",
      "Output dimension: (1, 20, 512)\n"
     ]
    }
   ],
   "source": [
    "# Test Multi Head Attention\n",
    "print(\"Multi Head Attention\")\n",
    "input = {\n",
    "    'query': encoder_in,\n",
    "    'key': encoder_in,\n",
    "    'value': encoder_in,\n",
    "    'mask': None\n",
    "}\n",
    "for key in input.keys():\n",
    "  if input[key] != None:\n",
    "    print(\"{:s} dimension: {}\".format(key, input[key].shape))\n",
    "  else:\n",
    "    print(\"{:s} dimension: None\".format(key))\n",
    "\n",
    "MHA = MultiHeadAttention(d_model=512, num_heads=8)\n",
    "MHA_out = MHA(input)\n",
    "\n",
    "print(\"\\nOutput dimension: {}\".format(MHA_out.shape))"
   ]
  },
  {
   "cell_type": "markdown",
   "metadata": {
    "id": "h_9WVWluwACz"
   },
   "source": [
    "## Masking"
   ]
  },
  {
   "cell_type": "code",
   "execution_count": 106,
   "metadata": {
    "colab": {
     "base_uri": "https://localhost:8080/"
    },
    "executionInfo": {
     "elapsed": 235,
     "status": "ok",
     "timestamp": 1620320938685,
     "user": {
      "displayName": "Ben Mo",
      "photoUrl": "",
      "userId": "15145245307052334155"
     },
     "user_tz": 240
    },
    "id": "SL6qidnOv_YL",
    "outputId": "ad57b367-0a91-4a48-c251-238bf6202adb"
   },
   "outputs": [
    {
     "name": "stdout",
     "output_type": "stream",
     "text": [
      "Look ahead mask\n",
      "[[0. 1. 1. 1. 1. 1. 1. 1. 1. 1. 1. 1. 1. 1. 1. 1. 1. 1. 1. 1. 1. 1. 1. 1.\n",
      "  1. 1. 1. 1. 1. 1.]\n",
      " [0. 0. 1. 1. 1. 1. 1. 1. 1. 1. 1. 1. 1. 1. 1. 1. 1. 1. 1. 1. 1. 1. 1. 1.\n",
      "  1. 1. 1. 1. 1. 1.]\n",
      " [0. 0. 0. 1. 1. 1. 1. 1. 1. 1. 1. 1. 1. 1. 1. 1. 1. 1. 1. 1. 1. 1. 1. 1.\n",
      "  1. 1. 1. 1. 1. 1.]\n",
      " [0. 0. 0. 0. 1. 1. 1. 1. 1. 1. 1. 1. 1. 1. 1. 1. 1. 1. 1. 1. 1. 1. 1. 1.\n",
      "  1. 1. 1. 1. 1. 1.]\n",
      " [0. 0. 0. 0. 0. 1. 1. 1. 1. 1. 1. 1. 1. 1. 1. 1. 1. 1. 1. 1. 1. 1. 1. 1.\n",
      "  1. 1. 1. 1. 1. 1.]\n",
      " [0. 0. 0. 0. 0. 0. 1. 1. 1. 1. 1. 1. 1. 1. 1. 1. 1. 1. 1. 1. 1. 1. 1. 1.\n",
      "  1. 1. 1. 1. 1. 1.]\n",
      " [0. 0. 0. 0. 0. 0. 0. 1. 1. 1. 1. 1. 1. 1. 1. 1. 1. 1. 1. 1. 1. 1. 1. 1.\n",
      "  1. 1. 1. 1. 1. 1.]\n",
      " [0. 0. 0. 0. 0. 0. 0. 0. 1. 1. 1. 1. 1. 1. 1. 1. 1. 1. 1. 1. 1. 1. 1. 1.\n",
      "  1. 1. 1. 1. 1. 1.]\n",
      " [0. 0. 0. 0. 0. 0. 0. 0. 0. 1. 1. 1. 1. 1. 1. 1. 1. 1. 1. 1. 1. 1. 1. 1.\n",
      "  1. 1. 1. 1. 1. 1.]\n",
      " [0. 0. 0. 0. 0. 0. 0. 0. 0. 0. 1. 1. 1. 1. 1. 1. 1. 1. 1. 1. 1. 1. 1. 1.\n",
      "  1. 1. 1. 1. 1. 1.]\n",
      " [0. 0. 0. 0. 0. 0. 0. 0. 0. 0. 0. 1. 1. 1. 1. 1. 1. 1. 1. 1. 1. 1. 1. 1.\n",
      "  1. 1. 1. 1. 1. 1.]\n",
      " [0. 0. 0. 0. 0. 0. 0. 0. 0. 0. 0. 0. 1. 1. 1. 1. 1. 1. 1. 1. 1. 1. 1. 1.\n",
      "  1. 1. 1. 1. 1. 1.]\n",
      " [0. 0. 0. 0. 0. 0. 0. 0. 0. 0. 0. 0. 0. 1. 1. 1. 1. 1. 1. 1. 1. 1. 1. 1.\n",
      "  1. 1. 1. 1. 1. 1.]\n",
      " [0. 0. 0. 0. 0. 0. 0. 0. 0. 0. 0. 0. 0. 0. 1. 1. 1. 1. 1. 1. 1. 1. 1. 1.\n",
      "  1. 1. 1. 1. 1. 1.]\n",
      " [0. 0. 0. 0. 0. 0. 0. 0. 0. 0. 0. 0. 0. 0. 0. 1. 1. 1. 1. 1. 1. 1. 1. 1.\n",
      "  1. 1. 1. 1. 1. 1.]\n",
      " [0. 0. 0. 0. 0. 0. 0. 0. 0. 0. 0. 0. 0. 0. 0. 0. 1. 1. 1. 1. 1. 1. 1. 1.\n",
      "  1. 1. 1. 1. 1. 1.]\n",
      " [0. 0. 0. 0. 0. 0. 0. 0. 0. 0. 0. 0. 0. 0. 0. 0. 0. 1. 1. 1. 1. 1. 1. 1.\n",
      "  1. 1. 1. 1. 1. 1.]\n",
      " [0. 0. 0. 0. 0. 0. 0. 0. 0. 0. 0. 0. 0. 0. 0. 0. 0. 0. 1. 1. 1. 1. 1. 1.\n",
      "  1. 1. 1. 1. 1. 1.]\n",
      " [0. 0. 0. 0. 0. 0. 0. 0. 0. 0. 0. 0. 0. 0. 0. 0. 0. 0. 0. 1. 1. 1. 1. 1.\n",
      "  1. 1. 1. 1. 1. 1.]\n",
      " [0. 0. 0. 0. 0. 0. 0. 0. 0. 0. 0. 0. 0. 0. 0. 0. 0. 0. 0. 0. 1. 1. 1. 1.\n",
      "  1. 1. 1. 1. 1. 1.]\n",
      " [0. 0. 0. 0. 0. 0. 0. 0. 0. 0. 0. 0. 0. 0. 0. 0. 0. 0. 0. 0. 0. 1. 1. 1.\n",
      "  1. 1. 1. 1. 1. 1.]\n",
      " [0. 0. 0. 0. 0. 0. 0. 0. 0. 0. 0. 0. 0. 0. 0. 0. 0. 0. 0. 0. 0. 0. 1. 1.\n",
      "  1. 1. 1. 1. 1. 1.]\n",
      " [0. 0. 0. 0. 0. 0. 0. 0. 0. 0. 0. 0. 0. 0. 0. 0. 0. 0. 0. 0. 0. 0. 0. 1.\n",
      "  1. 1. 1. 1. 1. 1.]\n",
      " [0. 0. 0. 0. 0. 0. 0. 0. 0. 0. 0. 0. 0. 0. 0. 0. 0. 0. 0. 0. 0. 0. 0. 0.\n",
      "  1. 1. 1. 1. 1. 1.]\n",
      " [0. 0. 0. 0. 0. 0. 0. 0. 0. 0. 0. 0. 0. 0. 0. 0. 0. 0. 0. 0. 0. 0. 0. 0.\n",
      "  0. 1. 1. 1. 1. 1.]\n",
      " [0. 0. 0. 0. 0. 0. 0. 0. 0. 0. 0. 0. 0. 0. 0. 0. 0. 0. 0. 0. 0. 0. 0. 0.\n",
      "  0. 0. 1. 1. 1. 1.]\n",
      " [0. 0. 0. 0. 0. 0. 0. 0. 0. 0. 0. 0. 0. 0. 0. 0. 0. 0. 0. 0. 0. 0. 0. 0.\n",
      "  0. 0. 0. 1. 1. 1.]\n",
      " [0. 0. 0. 0. 0. 0. 0. 0. 0. 0. 0. 0. 0. 0. 0. 0. 0. 0. 0. 0. 0. 0. 0. 0.\n",
      "  0. 0. 0. 0. 1. 1.]\n",
      " [0. 0. 0. 0. 0. 0. 0. 0. 0. 0. 0. 0. 0. 0. 0. 0. 0. 0. 0. 0. 0. 0. 0. 0.\n",
      "  0. 0. 0. 0. 0. 1.]\n",
      " [0. 0. 0. 0. 0. 0. 0. 0. 0. 0. 0. 0. 0. 0. 0. 0. 0. 0. 0. 0. 0. 0. 0. 0.\n",
      "  0. 0. 0. 0. 0. 0.]]\n"
     ]
    }
   ],
   "source": [
    "target_seq_len = total - obs\n",
    "look_ahead_mask = 1 - tf.linalg.band_part(tf.ones((target_seq_len, target_seq_len)), -1, 0)\n",
    "print(\"Look ahead mask\")\n",
    "print(look_ahead_mask.numpy())"
   ]
  },
  {
   "cell_type": "markdown",
   "metadata": {
    "id": "X81Tx4fiXKbQ"
   },
   "source": [
    "## Encoder"
   ]
  },
  {
   "cell_type": "code",
   "execution_count": 107,
   "metadata": {
    "id": "YIXikdiBXN63"
   },
   "outputs": [],
   "source": [
    "class EncoderLayer(tf.keras.layers.Layer):\n",
    "    def __init__(self, d_model=512, d_ff=1024, num_heads=obs, dropout=0.8, \n",
    "                                                        name=\"encoder_layer\"):\n",
    "        super(EncoderLayer, self).__init__(name=name)\n",
    "\n",
    "        # Multi-head attention block\n",
    "        self.attention = MultiHeadAttention(d_model=d_model, \n",
    "                                            num_heads=num_heads, \n",
    "                                            name=\"encoder_attention\")\n",
    "\n",
    "        # Feed forward nework\n",
    "        self.feedforward = tf.keras.Sequential([\n",
    "            tf.keras.layers.Dense(d_ff, activation='relu'),\n",
    "            tf.keras.layers.Dense(d_model)\n",
    "        ])\n",
    "\n",
    "        # Dropout and Normalization Layers\n",
    "        self.dropout1 = tf.keras.layers.Dropout(rate=dropout)\n",
    "        self.dropout2 = tf.keras.layers.Dropout(rate=dropout)\n",
    "        self.layernorm1 = tf.keras.layers.LayerNormalization(epsilon=1e-6)\n",
    "        self.layernorm2 = tf.keras.layers.LayerNormalization(epsilon=1e-6)\n",
    "\n",
    "    def call(self, inputs):\n",
    "        # Attention + normalization sublayer\n",
    "        attention_out = self.attention({\n",
    "            'query': inputs,\n",
    "            'key': inputs,\n",
    "            'value': inputs,\n",
    "            'mask': None\n",
    "        })\n",
    "        attention_out = self.dropout1(attention_out)\n",
    "        attention_out = self.layernorm1(attention_out + inputs)\n",
    "\n",
    "        # Feedforward + normalization sublayer\n",
    "        outputs = self.feedforward(attention_out)\n",
    "        outputs = self.dropout2(outputs)\n",
    "        outputs = self.layernorm2(outputs + attention_out)\n",
    "\n",
    "        return outputs\n",
    "\n",
    "\n",
    "class Encoder(tf.keras.layers.Layer):\n",
    "    def __init__(self, num_layers=6, d_model=512, num_heads=obs, d_ff=1024, dropout=0.8, name=\"encoder\"):\n",
    "        super(Encoder, self).__init__(name=name)\n",
    "\n",
    "        self.d_model = d_model\n",
    "        self.num_layers = num_layers\n",
    "\n",
    "        # Embedding and positional encoding layers\n",
    "        self.embedding = LinearEmbedding(d_model=d_model, name=\"input_embedding\")\n",
    "        self.pos_encoding = PositionalEncoding(d_model=d_model)\n",
    "\n",
    "        self.encoding_layers = [EncoderLayer(\n",
    "                                    d_model=d_model, \n",
    "                                    d_ff=d_ff, \n",
    "                                    num_heads=num_heads, \n",
    "                                    dropout=dropout, \n",
    "                                    name=\"encoder_layer_{}\".format(i)) \n",
    "                                for i in range(num_layers)]\n",
    "                                \n",
    "        self.dropout = tf.keras.layers.Dropout(rate=dropout)\n",
    "\n",
    "    def call(self, inputs):    \n",
    "        # inputs -->  N x seq_len x 3\n",
    "        # times = inputs['in_seq_times']\n",
    "        # seq = inputs['in_seq']\n",
    "        [seq, times] = inputs\n",
    "    \n",
    "        # Input embedding and positional encoding\n",
    "        embedded_inputs = self.embedding(seq)\n",
    "        embedded_inputs += self.pos_encoding(times)\n",
    "\n",
    "        outputs = self.dropout(embedded_inputs)\n",
    "\n",
    "        # Encoding layers\n",
    "        for i in range(self.num_layers):\n",
    "            outputs = self.encoding_layers[i](outputs)\n",
    "\n",
    "        return outputs"
   ]
  },
  {
   "cell_type": "code",
   "execution_count": 108,
   "metadata": {
    "colab": {
     "base_uri": "https://localhost:8080/"
    },
    "executionInfo": {
     "elapsed": 718,
     "status": "ok",
     "timestamp": 1620320943738,
     "user": {
      "displayName": "Ben Mo",
      "photoUrl": "",
      "userId": "15145245307052334155"
     },
     "user_tz": 240
    },
    "id": "SgQnFeYioL21",
    "outputId": "a45c909d-a7a1-4d17-e2a1-d39a4bfee9c6"
   },
   "outputs": [
    {
     "name": "stdout",
     "output_type": "stream",
     "text": [
      "Encoder input sequence dimension: (1, 20, 2)\n",
      "Encoder input times dimension: (1, 20)\n",
      "Encoder output dimension: (1, 20, 512)\n"
     ]
    }
   ],
   "source": [
    "# Test encoder\n",
    "input = [train_dataset['in_seq_incr'][0:1], train_dataset['in_seq_times'][0:1]]\n",
    "print(\"Encoder input sequence dimension: {}\".format(input[0].shape))\n",
    "print(\"Encoder input times dimension: {}\".format(input[1].shape))\n",
    "\n",
    "enc = Encoder(num_layers=6, d_model=512, num_heads=8, d_ff=1024, dropout=0.8)\n",
    "enc_output = enc(input)\n",
    "\n",
    "print(\"Encoder output dimension: {}\".format(enc_output.shape))"
   ]
  },
  {
   "cell_type": "markdown",
   "metadata": {
    "id": "BBPo8QWRXOby"
   },
   "source": [
    "## Decoder"
   ]
  },
  {
   "cell_type": "code",
   "execution_count": 109,
   "metadata": {
    "id": "Ua5srVZ5XP70"
   },
   "outputs": [],
   "source": [
    "class DecoderLayer(tf.keras.layers.Layer):\n",
    "    def __init__(self, d_model=512, d_ff=1024, num_heads=obs, dropout=0.8, name=\"decoder_layer\"):\n",
    "        super(DecoderLayer, self).__init__(name=name)\n",
    "\n",
    "        self.attention1 = MultiHeadAttention(d_model=d_model, \n",
    "                                            num_heads=num_heads, \n",
    "                                            name=\"decoder_attention_1\")\n",
    "\n",
    "        self.attention2 = MultiHeadAttention(d_model=d_model, \n",
    "                                            num_heads=num_heads, \n",
    "                                            name=\"decoder_attention_2\")\n",
    "\n",
    "        self.feedforward = tf.keras.Sequential([\n",
    "            tf.keras.layers.Dense(d_ff, activation='relu'),\n",
    "            tf.keras.layers.Dense(d_model)\n",
    "        ])\n",
    "\n",
    "        self.dropout1 = tf.keras.layers.Dropout(rate=dropout)\n",
    "        self.dropout2 = tf.keras.layers.Dropout(rate=dropout)\n",
    "        self.dropout3 = tf.keras.layers.Dropout(rate=dropout)\n",
    "        self.layernorm1 = tf.keras.layers.LayerNormalization(epsilon=1e-6)\n",
    "        self.layernorm2 = tf.keras.layers.LayerNormalization(epsilon=1e-6)\n",
    "        self.layernorm3 = tf.keras.layers.LayerNormalization(epsilon=1e-6)\n",
    "\n",
    "    \n",
    "    def call(self, inputs):\n",
    "        [inputs, encoder_outputs, look_ahead_mask] = inputs\n",
    "\n",
    "        # First multi-head attention sublayer\n",
    "        # Use look-ahead mask\n",
    "        attention1_out = self.attention1({\n",
    "            'query': inputs,\n",
    "            'key': inputs,\n",
    "            'value': inputs,\n",
    "            'mask': look_ahead_mask\n",
    "        })\n",
    "        attention1_out = self.dropout1(attention1_out)\n",
    "        attention1_out = self.layernorm1(attention1_out + inputs)\n",
    "\n",
    "        # Second multi head attention sublayer\n",
    "        # Use padding mask, key and value are from encoder output\n",
    "        attention2_out = self.attention2({\n",
    "            'query': attention1_out,\n",
    "            'key': encoder_outputs,\n",
    "            'value': encoder_outputs,\n",
    "            'mask': None\n",
    "        })\n",
    "        attention2_out = self.dropout2(attention2_out)\n",
    "        attention2_out = self.layernorm2(attention2_out + attention1_out)\n",
    "        \n",
    "        # Feedforward sublayer\n",
    "        outputs = self.feedforward(attention2_out)\n",
    "        outputs = self.dropout3(outputs)\n",
    "        outputs = self.layernorm3(outputs + attention2_out)\n",
    "\n",
    "        return outputs\n",
    "\n",
    "class Decoder(tf.keras.layers.Layer):\n",
    "    def __init__(self, num_layers=6, d_model=512, num_heads=obs, d_ff=1024, dropout=0.8, name=\"decoder\"):\n",
    "        super(Decoder, self).__init__(name=name)\n",
    "\n",
    "        self.d_model = d_model\n",
    "        self.num_layers = num_layers\n",
    "\n",
    "        self.embedding = LinearEmbedding(d_model, name=\"output_embedding\")\n",
    "        self.pos_encoding = PositionalEncoding(d_model)\n",
    "\n",
    "        self.decoding_layers = [DecoderLayer(\n",
    "                                    d_model=d_model, \n",
    "                                    d_ff=d_ff, \n",
    "                                    num_heads=num_heads, \n",
    "                                    dropout=dropout, \n",
    "                                    name=\"decoder_layer_{}\".format(i)) \n",
    "                                for i in  range(num_layers)]\n",
    "\n",
    "        self.dropout = tf.keras.layers.Dropout(rate=dropout)\n",
    "    \n",
    "    def call(self, inputs):\n",
    "        [decoder_inputs, encoder_outputs, look_ahead_mask] = inputs\n",
    "        seq_len = decoder_inputs.shape[1]\n",
    "\n",
    "        # Output embedding and positional encoding\n",
    "        embedded_inputs = self.embedding(decoder_inputs)\n",
    "        embedded_inputs += self.pos_encoding(tf.range(seq_len, dtype=tf.float32))\n",
    "\n",
    "        outputs = self.dropout(embedded_inputs)\n",
    "\n",
    "        # Decoding layers\n",
    "        for i in range(self.num_layers):\n",
    "            outputs = self.decoding_layers[i]([outputs, encoder_outputs, look_ahead_mask])\n",
    "\n",
    "        return outputs"
   ]
  },
  {
   "cell_type": "code",
   "execution_count": 110,
   "metadata": {
    "colab": {
     "base_uri": "https://localhost:8080/"
    },
    "executionInfo": {
     "elapsed": 817,
     "status": "ok",
     "timestamp": 1620320951882,
     "user": {
      "displayName": "Ben Mo",
      "photoUrl": "",
      "userId": "15145245307052334155"
     },
     "user_tz": 240
    },
    "id": "RyD0WPR5v2_Z",
    "outputId": "d03e70d3-92df-46b7-c2ec-0c09185e19b8"
   },
   "outputs": [
    {
     "name": "stdout",
     "output_type": "stream",
     "text": [
      "Decoder\n",
      "Target Sequence dimension: (1, 30, 2)\n",
      "Encoder Output dimension: (1, 20, 512)\n",
      "Look Ahead Mask dimension: (30, 30)\n",
      "Decoder Output dimension: (1, 30, 512)\n"
     ]
    }
   ],
   "source": [
    "print(\"Decoder\")\n",
    "input = [train_dataset['tar_seq_incr'][0:1], enc_output, look_ahead_mask]\n",
    "print(\"Target Sequence dimension: {}\".format(input[0].shape))\n",
    "print(\"Encoder Output dimension: {}\".format(input[1].shape))\n",
    "print(\"Look Ahead Mask dimension: {}\".format(input[2].shape))\n",
    "\n",
    "dec = Decoder(num_layers=6, d_model=512, num_heads=8, d_ff=1024, dropout=0.8)\n",
    "dec_out = dec(input)\n",
    "print(\"Decoder Output dimension: {}\".format(dec_out.shape))"
   ]
  },
  {
   "cell_type": "markdown",
   "metadata": {
    "id": "UvFg9we8zKNj"
   },
   "source": [
    "## Final Linear Layer"
   ]
  },
  {
   "cell_type": "code",
   "execution_count": 111,
   "metadata": {
    "id": "TuxcofCL3MKv"
   },
   "outputs": [],
   "source": [
    "# Just one dense layer, take the last output position as predicted next step\n",
    "\n",
    "class OutputLinear(tf.keras.layers.Layer):\n",
    "  def __init__(self, out_dim=2, name='output_linear_layer'):\n",
    "    super(OutputLinear, self).__init__(name=name)\n",
    "\n",
    "    self.linear = tf.keras.layers.Dense(out_dim)\n",
    "\n",
    "  def call(self, inputs):\n",
    "    return self.linear(inputs)"
   ]
  },
  {
   "cell_type": "code",
   "execution_count": 112,
   "metadata": {
    "colab": {
     "base_uri": "https://localhost:8080/"
    },
    "executionInfo": {
     "elapsed": 442,
     "status": "ok",
     "timestamp": 1620320954211,
     "user": {
      "displayName": "Ben Mo",
      "photoUrl": "",
      "userId": "15145245307052334155"
     },
     "user_tz": 240
    },
    "id": "1Ei1KVVYzMco",
    "outputId": "a1beed5f-56b6-435f-85df-2c1108cd848f"
   },
   "outputs": [
    {
     "name": "stdout",
     "output_type": "stream",
     "text": [
      "Decoder output dimension: (1, 30, 512)\n",
      "Transformer output dimension: (1, 30, 2)\n",
      "Predicted sequence:\n",
      "[[[1.9358375  0.69033265]\n",
      "  [1.9298769  0.68912685]\n",
      "  [1.9272044  0.69063544]\n",
      "  [1.9271898  0.69240916]\n",
      "  [1.9286771  0.6915901 ]\n",
      "  [1.9309014  0.6884574 ]\n",
      "  [1.9346765  0.6823843 ]\n",
      "  [1.9420922  0.67576027]\n",
      "  [1.9507961  0.6677051 ]\n",
      "  [1.9618157  0.65934074]\n",
      "  [1.9739232  0.6500348 ]\n",
      "  [1.9869223  0.6390446 ]\n",
      "  [2.0019567  0.6276225 ]\n",
      "  [2.0187845  0.61444986]\n",
      "  [2.037039   0.6007832 ]\n",
      "  [2.055729   0.58732414]\n",
      "  [2.0748801  0.5720476 ]\n",
      "  [2.0951908  0.55712557]\n",
      "  [2.114564   0.54005337]\n",
      "  [2.1334627  0.52158654]\n",
      "  [2.1554208  0.50192255]\n",
      "  [2.1786041  0.4791506 ]\n",
      "  [2.2026575  0.45530027]\n",
      "  [2.2272754  0.43271336]\n",
      "  [2.251387   0.41133073]\n",
      "  [2.2730913  0.38899338]\n",
      "  [2.296149   0.36601457]\n",
      "  [2.3189979  0.34331948]\n",
      "  [2.3416793  0.3216637 ]\n",
      "  [2.3635635  0.3005339 ]]]\n"
     ]
    }
   ],
   "source": [
    "out_linear = OutputLinear()\n",
    "\n",
    "print(\"Decoder output dimension: {}\".format(dec_out.shape))\n",
    "\n",
    "tf_out = out_linear(dec_out)\n",
    "print(\"Transformer output dimension: {}\".format(tf_out.shape))\n",
    "\n",
    "print(\"Predicted sequence:\")\n",
    "print(tf_out.numpy())\n"
   ]
  },
  {
   "cell_type": "markdown",
   "metadata": {
    "id": "76R6d7JKzm8j"
   },
   "source": [
    "## Loss and Evaluation\n",
    "\n",
    "Minimize mean squared error loss\n",
    "\n",
    "Evaluate with mean distance and final distance"
   ]
  },
  {
   "cell_type": "code",
   "execution_count": 113,
   "metadata": {
    "id": "c483GAU2_X54"
   },
   "outputs": [],
   "source": [
    "def compute_sequence(start_point, increments):\n",
    "    seq_len = increments.shape[1]\n",
    "\n",
    "    seq = np.zeros_like(increments)\n",
    "    seq[:, 0, :] = start_point + increments[:, 0, :]\n",
    "    for i in range(1, seq_len):\n",
    "        seq[:, i, :] = seq[:, i-1, :] + increments[:, i, :]\n",
    "    \n",
    "    seq = tf.cast(seq, tf.float32)\n",
    "    return seq\n"
   ]
  },
  {
   "cell_type": "code",
   "execution_count": 114,
   "metadata": {
    "colab": {
     "base_uri": "https://localhost:8080/"
    },
    "executionInfo": {
     "elapsed": 324,
     "status": "ok",
     "timestamp": 1620320967962,
     "user": {
      "displayName": "Ben Mo",
      "photoUrl": "",
      "userId": "15145245307052334155"
     },
     "user_tz": 240
    },
    "id": "RHrCvtS3zqVO",
    "outputId": "5c7c9dbd-7994-45e5-ed43-2b4130c25357"
   },
   "outputs": [
    {
     "name": "stdout",
     "output_type": "stream",
     "text": [
      "Predicted sequence increments:\n",
      "\n",
      "Ground truth increments:\n",
      "\n",
      "Loss = 0.9951746463775635\n",
      "Predicted sequence\n",
      "\n",
      "Distance at each point:\n",
      "[[[ 0.59718186]\n",
      "  [ 1.8025166 ]\n",
      "  [ 2.9810236 ]\n",
      "  [ 4.276728  ]\n",
      "  [ 5.405693  ]\n",
      "  [ 6.5398955 ]\n",
      "  [ 7.853814  ]\n",
      "  [ 9.014919  ]\n",
      "  [10.276184  ]\n",
      "  [12.254297  ]\n",
      "  [14.250542  ]\n",
      "  [13.964639  ]\n",
      "  [15.763435  ]\n",
      "  [17.78872   ]\n",
      "  [18.085266  ]\n",
      "  [19.566393  ]\n",
      "  [20.5104    ]\n",
      "  [21.589838  ]\n",
      "  [22.938618  ]\n",
      "  [24.41487   ]\n",
      "  [25.791815  ]\n",
      "  [27.036585  ]\n",
      "  [28.47457   ]\n",
      "  [29.830477  ]\n",
      "  [31.630457  ]\n",
      "  [33.09572   ]\n",
      "  [34.61153   ]\n",
      "  [36.187733  ]\n",
      "  [37.635937  ]\n",
      "  [39.12228   ]]]\n",
      "Mean Distance: 19.109737396240234\n",
      "\n",
      "Distance at each point:\n",
      "[[39.12228]]\n",
      "Final Distance: 39.12228012084961\n",
      "tf.Tensor([[639.75104   3.8    ]], shape=(1, 2), dtype=float32)\n"
     ]
    },
    {
     "data": {
      "image/png": "[encoded data removed]",
      "text/plain": [
       "<Figure size 432x288 with 1 Axes>"
      ]
     },
     "metadata": {
      "needs_background": "light"
     },
     "output_type": "display_data"
    }
   ],
   "source": [
    "print(\"Predicted sequence increments:\")\n",
    "# print(tf_out.numpy())\n",
    "\n",
    "print(\"\\nGround truth increments:\")\n",
    "gnd_true = train_dataset['gnd_true_incr'][0:1]\n",
    "# print(gnd_true.numpy())\n",
    "\n",
    "# Compute loss\n",
    "loss = tf.keras.losses.MeanSquaredError()\n",
    "L = loss(gnd_true, tf_out)\n",
    "print(\"\\nLoss = {}\".format(L.numpy()))\n",
    "\n",
    "print(\"Predicted sequence\")\n",
    "start_point = train_dataset['start_point'][0:1]\n",
    "pred_seq = compute_sequence(start_point, tf_out)\n",
    "# print(pred_seq.numpy())\n",
    "# print(\"\\nGround truth sequence\")\n",
    "# print(train_dataset['gnd_true'][0:1].numpy())\n",
    "\n",
    "\n",
    "# Compute mean distance\n",
    "def avg_distance(true, pred, verbose=True):\n",
    "  distances = tf.linalg.normalize(true - pred, ord=2, axis=-1)[1]\n",
    "  if verbose:\n",
    "    print(\"\\nDistance at each point:\")\n",
    "    print(distances.numpy())\n",
    "  \n",
    "  return tf.math.reduce_mean(distances)\n",
    "\n",
    "# print(train_dataset['gnd_true'][0:1])\n",
    "# print(pred_seq)\n",
    "mean_dist = avg_distance(train_dataset['gnd_true'][0:1], pred_seq)\n",
    "print(\"Mean Distance: {}\".format(mean_dist))\n",
    "\n",
    "# Compute final distance\n",
    "final_true = train_dataset['gnd_true'][0:1, -1, :]\n",
    "final_tf_out = pred_seq[:, -1, :]\n",
    "final_dist = avg_distance(final_true, final_tf_out, verbose=True) \n",
    "print(\"Final Distance: {}\".format(final_dist))\n",
    "\n",
    "plt.scatter(pred_seq[0, :, 0], pred_seq[0, :, 1], label='pred')\n",
    "plt.scatter(train_dataset['gnd_true'][0:1][0, :, 0], train_dataset['gnd_true'][0:1][0, :, 1], label='gt')\n",
    "plt.legend()\n",
    "print(start_point)\n",
    "# print(check_dataset['norm_gnd_true'][0:1].shape)"
   ]
  },
  {
   "cell_type": "markdown",
   "metadata": {
    "id": "LVUNmt2CXQLe"
   },
   "source": [
    "## Transformer"
   ]
  },
  {
   "cell_type": "code",
   "execution_count": 115,
   "metadata": {
    "id": "WWmpuCViXSVE"
   },
   "outputs": [],
   "source": [
    "class Transformer(tf.keras.Model):\n",
    "    def __init__(self, num_layers=6, d_model=64 * obs, num_heads=obs, d_ff=1024, target_seq_len=30, out_dim=2, dropout=0.8, name=\"transformer\"):\n",
    "        super(Transformer, self).__init__(name=name)\n",
    "\n",
    "        self.target_seq_len = target_seq_len\n",
    "\n",
    "        # Encoder\n",
    "        # Decoder\n",
    "        # Linear and softmax\n",
    "        self.encoder = Encoder( num_layers=num_layers, \n",
    "                                d_model=d_model, \n",
    "                                num_heads=num_heads, \n",
    "                                d_ff=d_ff, \n",
    "                                dropout=dropout)\n",
    "\n",
    "        self.decoder = Decoder( num_layers=num_layers, \n",
    "                                d_model=d_model, \n",
    "                                num_heads=num_heads, \n",
    "                                d_ff=d_ff, \n",
    "                                dropout=dropout)\n",
    "\n",
    "        self.linear = OutputLinear(out_dim=out_dim)\n",
    "\n",
    "        # Look ahead mask\n",
    "        self.look_ahead_mask = 1 - tf.linalg.band_part(tf.ones((target_seq_len, target_seq_len)), -1, 0)\n",
    "\n",
    "        # Loss function and optimizer\n",
    "        self.loss = tf.keras.losses.MeanSquaredError()\n",
    "        self.optimizer = tf.keras.optimizers.Adam()\n",
    "\n",
    "    def call(self, inputs, train=False):\n",
    "        [encoder_seq, encoder_times, decoder_seq] = inputs\n",
    "        # encoder_seq --->  N x  8 x 3\n",
    "        # decoder_seq --->  N x 12 x 3  (train)\n",
    "        #                   N x  1 x 3  (test)\n",
    "        \n",
    "        # Pass input sequence into encoder\n",
    "        encoder_output = self.encoder([encoder_seq, encoder_times])\n",
    "\n",
    "        if train:\n",
    "            # Mask the future target sequences and get entire prediction at once\n",
    "            decoder_inputs = [decoder_seq, encoder_output, self.look_ahead_mask]\n",
    "            decoder_output = self.decoder(decoder_inputs)\n",
    "            output_seq = self.linear(decoder_output)\n",
    "\n",
    "        else:\n",
    "            # Compute predictions sequentially and use the last predictions\n",
    "            for i in range(self.target_seq_len):\n",
    "                decoder_inputs = [decoder_seq, encoder_output, None]\n",
    "                decoder_output = self.decoder(decoder_inputs)\n",
    "                outputs = self.linear(decoder_output)\n",
    "                prediction = outputs[:, -1:-2:-1, :]\n",
    "\n",
    "                decoder_seq = tf.concat((decoder_seq, prediction), axis=1)\n",
    "            \n",
    "            output_seq = decoder_seq[:, 1::, :]\n",
    "\n",
    "        return output_seq\n",
    "\n",
    "    def compute_sequence(self, start_point, increments):\n",
    "        seq_len = increments.shape[1]\n",
    "\n",
    "        seq = np.zeros_like(increments)\n",
    "        seq[:, 0, :] = start_point + increments[:, 0, :]\n",
    "        for i in range(1, seq_len):\n",
    "            seq[:, i, :] = seq[:, i-1, :] + increments[:, i, :]\n",
    "        \n",
    "        seq = tf.cast(seq, tf.float32)\n",
    "        return seq\n",
    "\n",
    "\n",
    "    # Compute average distance between prediction and actual at each point\n",
    "    def average_distance(self, y_true, y_pred):\n",
    "        distances = tf.linalg.normalize(y_true - y_pred, ord=2, axis=-1)[1]\n",
    "        avg_dist = tf.math.reduce_mean(distances)\n",
    "        return avg_dist\n",
    "\n",
    "    # Compute average final distance between prediction and actual\n",
    "    def final_distance(self, y_true, y_pred):\n",
    "        final_pred_pose = y_pred[:, -1, :]\n",
    "        final_true_pose = y_true[:, -1, :]\n",
    "\n",
    "        avg_final = self.average_distance(final_true_pose, final_pred_pose)\n",
    "        return avg_final"
   ]
  },
  {
   "cell_type": "code",
   "execution_count": 121,
   "metadata": {
    "colab": {
     "base_uri": "https://localhost:8080/"
    },
    "executionInfo": {
     "elapsed": 962,
     "status": "ok",
     "timestamp": 1620321921124,
     "user": {
      "displayName": "Ben Mo",
      "photoUrl": "",
      "userId": "15145245307052334155"
     },
     "user_tz": 240
    },
    "id": "soraDIJZ_mEn",
    "outputId": "00835e75-85a3-4975-954e-6391df079fa4"
   },
   "outputs": [
    {
     "name": "stdout",
     "output_type": "stream",
     "text": [
      "Transformer Forward Call\n",
      "Encoder Input dimension: (1, 20, 2)\n",
      "Decoder Target dimension: (1, 20)\n",
      "Ground Truth dimension: (1, 30, 2)\n",
      "\n",
      "Transformer Output dimension: (1, 30, 2)\n",
      "\n",
      "Loss = 212754.703125\n",
      "Average distance = 652.2684326171875\n",
      "Final distance = 664.3720703125\n"
     ]
    },
    {
     "data": {
      "text/plain": [
       "[<matplotlib.lines.Line2D at 0x7f5a5ebb47c0>]"
      ]
     },
     "execution_count": 121,
     "metadata": {},
     "output_type": "execute_result"
    },
    {
     "data": {
      "image/png": "[encoded data removed]",
      "text/plain": [
       "<Figure size 432x288 with 1 Axes>"
      ]
     },
     "metadata": {
      "needs_background": "light"
     },
     "output_type": "display_data"
    }
   ],
   "source": [
    "# Test transformer forward pass\n",
    "print(\"Transformer Forward Call\")\n",
    "traj_tf = Transformer()\n",
    "\n",
    "enc_incr = train_dataset['in_seq_incr'][0:1]\n",
    "enc_seq = train_dataset['in_seq'][0:1]\n",
    "enc_times = train_dataset['in_seq_times'][0:1]\n",
    "dec_incr = train_dataset['tar_seq_incr'][0:1]\n",
    "dec_seq = train_dataset['tar_seq'][0:1]\n",
    "true_incr = train_dataset['gnd_true_incr'][0:1]\n",
    "start_point = train_dataset['start_point'][0:1]\n",
    "true_seq = train_dataset['gnd_true'][0:1]\n",
    "\n",
    "print(\"Encoder Input dimension: {}\".format(enc_incr.shape))\n",
    "print(\"Decoder Target dimension: {}\".format(enc_times.shape))\n",
    "print(\"Ground Truth dimension: {}\\n\".format(dec_incr.shape))\n",
    "\n",
    "tf_input = [enc_seq, enc_times, dec_seq]\n",
    "tf_out = traj_tf(tf_input, train=True)\n",
    "print(\"Transformer Output dimension: {}\\n\".format(tf_out.shape))\n",
    "\n",
    "L = traj_tf.loss(true_seq, tf_out)\n",
    "print(\"Loss = {}\".format(L))\n",
    "\n",
    "pred_seq = tf_out\n",
    "#pred_seq = traj_tf.compute_sequence(start_point, tf_out)\n",
    "\n",
    "md = traj_tf.average_distance(true_seq, pred_seq)\n",
    "print(\"Average distance = {}\".format(md))\n",
    "\n",
    "fd = traj_tf.final_distance(true_seq, pred_seq)\n",
    "print(\"Final distance = {}\".format(fd))\n",
    "\n",
    "plt.plot(true_seq[0, :, 0], true_seq[0, :, 1])\n",
    "plt.plot(pred_seq[0, :, 0], pred_seq[0, :, 1])"
   ]
  },
  {
   "cell_type": "code",
   "execution_count": 122,
   "metadata": {
    "colab": {
     "base_uri": "https://localhost:8080/"
    },
    "executionInfo": {
     "elapsed": 415,
     "status": "ok",
     "timestamp": 1620349659574,
     "user": {
      "displayName": "Ben Mo",
      "photoUrl": "",
      "userId": "15145245307052334155"
     },
     "user_tz": 240
    },
    "id": "k-3FmTk-hkb5",
    "outputId": "f40fca35-f901-40c8-94e2-f01661ef2a3e"
   },
   "outputs": [
    {
     "name": "stdout",
     "output_type": "stream",
     "text": [
      "Original dimensions\n",
      "in_seq (1000, 20, 2)\n",
      "in_seq_times (1000, 20)\n",
      "tar_seq (1000, 30, 2)\n",
      "gnd_true (1000, 30, 2)\n",
      "start_point (1000, 2)\n",
      "in_seq_incr (1000, 20, 2)\n",
      "tar_seq_incr (1000, 30, 2)\n",
      "gnd_true_incr (1000, 30, 2)\n",
      "norm_in_seq (1000, 20, 2)\n",
      "norm_tar_seq (1000, 30, 2)\n",
      "norm_gnd_true (1000, 30, 2)\n",
      "mean (2,)\n",
      "std (2,)\n",
      "\n",
      "Batched dataset with batchsize 100\n",
      "in_seq (10, 100, 20, 2)\n",
      "in_seq_times (10, 100, 20)\n",
      "tar_seq (10, 100, 30, 2)\n",
      "gnd_true (10, 100, 30, 2)\n",
      "start_point (10, 100, 2)\n",
      "in_seq_incr (10, 100, 20, 2)\n",
      "tar_seq_incr (10, 100, 30, 2)\n",
      "gnd_true_incr (10, 100, 30, 2)\n",
      "norm_in_seq (10, 100, 20, 2)\n",
      "norm_tar_seq (10, 100, 30, 2)\n",
      "norm_gnd_true (10, 100, 30, 2)\n",
      "mean (2,)\n",
      "std (2,)\n",
      "\n",
      "Unbatched dataset\n",
      "in_seq (1000, 20, 2)\n",
      "in_seq_times (1000, 20)\n",
      "tar_seq (1000, 30, 2)\n",
      "gnd_true (1000, 30, 2)\n",
      "start_point (1000, 2)\n",
      "in_seq_incr (1000, 20, 2)\n",
      "tar_seq_incr (1000, 30, 2)\n",
      "gnd_true_incr (1000, 30, 2)\n",
      "norm_in_seq (1000, 20, 2)\n",
      "norm_tar_seq (1000, 30, 2)\n",
      "norm_gnd_true (1000, 30, 2)\n",
      "mean (2,)\n",
      "std (2,)\n"
     ]
    }
   ],
   "source": [
    "print(\"Original dimensions\")\n",
    "for key in train_dataset.keys():\n",
    "    if key != 'batched':\n",
    "        print(key, train_dataset[key].shape)\n",
    "\n",
    "def batch_dataset(dataset, batchsize):\n",
    "    if dataset['batched']:\n",
    "        print(\"Dataset already batched\")\n",
    "        return dataset\n",
    "\n",
    "    for key in dataset.keys():\n",
    "        if key == 'batched':\n",
    "            dataset[key] = True\n",
    "            continue\n",
    "        if key == 'mean' or key == 'std':\n",
    "            continue\n",
    "\n",
    "        dim = dataset[key].shape\n",
    "        if len(dim) == 3:\n",
    "            (N, L, D) = dim\n",
    "            dataset[key] = tf.reshape(dataset[key], (-1, batchsize, L, D))\n",
    "        elif len(dim) == 2:\n",
    "            (N, D) = dim\n",
    "            dataset[key] = tf.reshape(dataset[key], (-1, batchsize, D))\n",
    "\n",
    "    return dataset\n",
    "\n",
    "train_dataset = batch_dataset(train_dataset, 100)\n",
    "print(\"\\nBatched dataset with batchsize 100\")\n",
    "for key in train_dataset.keys():\n",
    "    if key != 'batched':\n",
    "        print(key, train_dataset[key].shape)\n",
    "\n",
    "def unbatch_dataset(dataset):\n",
    "    if not dataset['batched']:\n",
    "        print(\"Dataset not batched yet\")\n",
    "        return dataset\n",
    "\n",
    "    for key in dataset.keys():\n",
    "        if key == 'batched':\n",
    "            dataset[key] = False\n",
    "            continue\n",
    "\n",
    "        if key == 'mean' or key == 'std':\n",
    "            continue\n",
    "\n",
    "        dim = dataset[key].shape\n",
    "        if len(dim) == 4:\n",
    "            (_, _, L, D) = dataset[key].shape\n",
    "            dataset[key] = tf.reshape(dataset[key], (-1, L, D))\n",
    "        elif len(dim) == 3:\n",
    "            (_, _, D) = dataset[key].shape\n",
    "            dataset[key] = tf.reshape(dataset[key], (-1, D))\n",
    "        \n",
    "    return dataset\n",
    "\n",
    "train_dataset = unbatch_dataset(train_dataset)\n",
    "print(\"\\nUnbatched dataset\")\n",
    "for key in train_dataset.keys():\n",
    "    if key != 'batched':\n",
    "        print(key, train_dataset[key].shape)"
   ]
  },
  {
   "cell_type": "code",
   "execution_count": 125,
   "metadata": {
    "colab": {
     "base_uri": "https://localhost:8080/"
    },
    "executionInfo": {
     "elapsed": 724,
     "status": "ok",
     "timestamp": 1620332983635,
     "user": {
      "displayName": "Ben Mo",
      "photoUrl": "",
      "userId": "15145245307052334155"
     },
     "user_tz": 240
    },
    "id": "oXujs2G6jhuS",
    "outputId": "86313af6-010b-4d2f-b8e9-5417ef6ebead"
   },
   "outputs": [
    {
     "name": "stdout",
     "output_type": "stream",
     "text": [
      "Dataset already batched\n",
      "(100, 30, 2)\n"
     ]
    },
    {
     "data": {
      "text/plain": [
       "[<matplotlib.lines.Line2D at 0x7f5aac4f9220>,\n",
       " <matplotlib.lines.Line2D at 0x7f5a5edf8ca0>]"
      ]
     },
     "execution_count": 125,
     "metadata": {},
     "output_type": "execute_result"
    },
    {
     "data": {
      "image/png": "[encoded data removed]",
      "text/plain": [
       "<Figure size 432x288 with 1 Axes>"
      ]
     },
     "metadata": {
      "needs_background": "light"
     },
     "output_type": "display_data"
    }
   ],
   "source": [
    "def shuffle_dataset(dataset):\n",
    "    # unbatch the dataset\n",
    "    dataset = unbatch_dataset(dataset)\n",
    "    N = dataset['in_seq'].shape[0]\n",
    "\n",
    "    shuffle_idx = np.random.permutation(N)\n",
    "\n",
    "    for key in dataset.keys():\n",
    "        if key == 'batched' or key == 'mean' or key == 'std':\n",
    "            continue\n",
    "        dataset[key] = tf.gather(dataset[key], shuffle_idx)\n",
    "\n",
    "    return dataset\n",
    "\n",
    "train_dataset = batch_dataset(train_dataset, 100)\n",
    "# train_dataset = shuffle_dataset(train_dataset)\n",
    "# for key in train_dataset.keys():\n",
    "#     if key != 'batched':\n",
    "#         print(key, train_dataset[key].shape)\n",
    "\n",
    "print(train_dataset['norm_gnd_true'][0].shape)\n",
    "arr = train_dataset['norm_gnd_true'][0]\n",
    "plt.plot(arr[:, 0], arr[:, 1])"
   ]
  },
  {
   "cell_type": "markdown",
   "metadata": {
    "id": "vH5Mnpn6hCWz"
   },
   "source": [
    "## Training"
   ]
  },
  {
   "cell_type": "code",
   "execution_count": null,
   "metadata": {
    "colab": {
     "base_uri": "https://localhost:8080/"
    },
    "executionInfo": {
     "elapsed": 1442210,
     "status": "ok",
     "timestamp": 1620351105319,
     "user": {
      "displayName": "Ben Mo",
      "photoUrl": "",
      "userId": "15145245307052334155"
     },
     "user_tz": 240
    },
    "id": "xqFedV4nEQ1G",
    "outputId": "cbb13c31-d177-47cc-86c3-c2b755516387"
   },
   "outputs": [],
   "source": [
    "# Training Loop\n",
    "\n",
    "# Initializ transformer model\n",
    "traj_tf = Transformer()\n",
    "\n",
    "# Epochs and batchsize\n",
    "epochs = 2\n",
    "batchsize = 100\n",
    "\n",
    "N_train = train_dataset['in_seq'].shape[0]\n",
    "num_batches = N_train // batchsize\n",
    "\n",
    "history = {\n",
    "    'loss': [],\n",
    "    'fd': [],\n",
    "    'md': []\n",
    "}\n",
    "\n",
    "# Run for specified number of epochs\n",
    "for epoch in range(epochs):\n",
    "    # Batch the data\n",
    "    train_dataset = batch_dataset(train_dataset, batchsize)\n",
    "    \n",
    "    # Iterate through each batch\n",
    "    for i in range(num_batches):\n",
    "        in_seq_incr = train_dataset['in_seq_incr'][i]\n",
    "        in_seq_times = train_dataset['in_seq_times'][i]\n",
    "        in_seq = train_dataset['norm_in_seq'][i]\n",
    "        tar_seq = train_dataset['norm_tar_seq'][i]\n",
    "        tar_seq_incr = train_dataset['tar_seq_incr'][i]\n",
    "        start_point = train_dataset['start_point'][i]\n",
    "        gnd_true_incr = train_dataset['gnd_true_incr'][i]\n",
    "        gnd_true_seq = train_dataset['norm_gnd_true'][i]\n",
    "\n",
    "        with tf.GradientTape(persistent=True) as tape:\n",
    "            tape.watch(start_point)\n",
    "            tf_in = [ in_seq, in_seq_times, tar_seq ]\n",
    "            tf_out = traj_tf(tf_in, train=True)\n",
    "            L = traj_tf.loss(gnd_true_seq, tf_out)\n",
    "\n",
    "        gradients = tape.gradient(L, traj_tf.trainable_variables)\n",
    "        traj_tf.optimizer.apply_gradients(zip(gradients, traj_tf.trainable_variables))\n",
    "\n",
    "        pred_seq = tf_out #traj_tf.compute_sequence(start_point, tf_out)\n",
    "        mean_dist = traj_tf.average_distance(gnd_true_seq, pred_seq)\n",
    "        final_dist = traj_tf.final_distance(gnd_true_seq, pred_seq)\n",
    "\n",
    "        print(\"Epoch {} - [{}/{}] Loss = {}, MD = {}, FD = {}\".format(epoch, i, num_batches, L, mean_dist, final_dist))\n",
    "        history['loss'].append(L)\n",
    "        history['fd'].append(final_dist)\n",
    "        history['md'].append(mean_dist)\n",
    "\n",
    "    # Test over validation data\n",
    "\n",
    "    # Unbatch and shuffle\n",
    "    train_dataset = shuffle_dataset(train_dataset)"
   ]
  },
  {
   "cell_type": "code",
   "execution_count": 161,
   "metadata": {
    "colab": {
     "base_uri": "https://localhost:8080/"
    },
    "executionInfo": {
     "elapsed": 63395,
     "status": "ok",
     "timestamp": 1620351304158,
     "user": {
      "displayName": "Ben Mo",
      "photoUrl": "",
      "userId": "15145245307052334155"
     },
     "user_tz": 240
    },
    "id": "OEABH-sbIddK",
    "outputId": "a57a874d-b11f-4ec3-b8c3-c995bee5d89e"
   },
   "outputs": [
    {
     "name": "stdout",
     "output_type": "stream",
     "text": [
      "(30, 1363, 8, 2)\n",
      "(30, 1363, 8)\n",
      "(30, 1363, 12, 2)\n",
      "(30, 1363, 12, 2)\n",
      "(30, 1363, 2)\n",
      "(30, 1363, 8, 2)\n",
      "(30, 1363, 12, 2)\n",
      "(30, 1363, 12, 2)\n",
      "(30, 1363, 8, 2)\n",
      "(30, 1363, 12, 2)\n",
      "(30, 1363, 12, 2)\n",
      "(2,)\n",
      "(2,)\n",
      "0 - MD: 0.325495183467865 FD: 0.44686442613601685\n",
      "1 - MD: 0.32137995958328247 FD: 0.4298490583896637\n",
      "2 - MD: 0.3309996426105499 FD: 0.44769805669784546\n",
      "3 - MD: 0.3315306007862091 FD: 0.44789448380470276\n",
      "4 - MD: 0.33702582120895386 FD: 0.45381128787994385\n",
      "5 - MD: 0.3335513472557068 FD: 0.45866402983665466\n",
      "6 - MD: 0.33332741260528564 FD: 0.4479939341545105\n",
      "7 - MD: 0.3264075219631195 FD: 0.44134584069252014\n",
      "8 - MD: 0.3417442739009857 FD: 0.45745962858200073\n",
      "9 - MD: 0.33938077092170715 FD: 0.45736029744148254\n",
      "10 - MD: 0.33292990922927856 FD: 0.4474920332431793\n",
      "11 - MD: 0.3275238275527954 FD: 0.4444466829299927\n",
      "12 - MD: 0.33339256048202515 FD: 0.4503863751888275\n",
      "13 - MD: 0.33783185482025146 FD: 0.45512884855270386\n",
      "14 - MD: 0.33438172936439514 FD: 0.45202064514160156\n",
      "15 - MD: 0.3282422125339508 FD: 0.4418286085128784\n",
      "16 - MD: 0.33030417561531067 FD: 0.4463540315628052\n",
      "17 - MD: 0.32938867807388306 FD: 0.4440954327583313\n",
      "18 - MD: 0.33458423614501953 FD: 0.454532653093338\n",
      "19 - MD: 0.3303130567073822 FD: 0.44701388478279114\n",
      "20 - MD: 0.33295583724975586 FD: 0.4478066563606262\n",
      "21 - MD: 0.33101966977119446 FD: 0.4474278688430786\n",
      "22 - MD: 0.33098968863487244 FD: 0.44506800174713135\n",
      "23 - MD: 0.33582770824432373 FD: 0.4495227038860321\n",
      "24 - MD: 0.34024110436439514 FD: 0.4627240002155304\n",
      "25 - MD: 0.3372132182121277 FD: 0.45565444231033325\n",
      "26 - MD: 0.32938212156295776 FD: 0.44222989678382874\n",
      "27 - MD: 0.3380049169063568 FD: 0.45591700077056885\n",
      "28 - MD: 0.334138959646225 FD: 0.45389842987060547\n",
      "29 - MD: 0.32804709672927856 FD: 0.4365657866001129\n",
      "Validation MD: 0.3325851857662201\n",
      "Validation FD: 0.4489684998989105\n"
     ]
    }
   ],
   "source": [
    "# Batch the validation data\n",
    "val_dataset = batch_dataset(val_dataset, 1363)\n",
    "for key in val_dataset.keys():\n",
    "    if key != 'batched':\n",
    "        print(val_dataset[key].shape)\n",
    "\n",
    "val_md = 0\n",
    "val_fd = 0\n",
    "\n",
    "for i in range(30):\n",
    "\n",
    "    in_seq_incr = val_dataset['in_seq_incr'][i]\n",
    "    in_seq_times = val_dataset['in_seq_times'][i]\n",
    "    in_seq = val_dataset['norm_in_seq'][i]\n",
    "    tar_seq = val_dataset['norm_tar_seq'][i, :, 0:1, :]\n",
    "    tar_seq_incr = val_dataset['tar_seq_incr'][i, :, 0:1, :]\n",
    "    start_point = val_dataset['start_point'][i]\n",
    "    gnd_true_incr = val_dataset['gnd_true_incr'][i]\n",
    "    gnd_true_seq = val_dataset['norm_gnd_true'][i]\n",
    "\n",
    "    val_in = [in_seq, in_seq_times, tar_seq]\n",
    "    val_out = traj_tf(val_in)\n",
    "\n",
    "    val_pred = val_out #traj_tf.compute_sequence(start_point, val_out)\n",
    "\n",
    "    md = traj_tf.average_distance(gnd_true_seq, val_pred)\n",
    "    fd = traj_tf.final_distance(gnd_true_seq, val_pred)\n",
    "\n",
    "    val_md += md\n",
    "    val_fd += fd\n",
    "\n",
    "    print(\"{} - MD: {} FD: {}\".format(i, md, fd))\n",
    "\n",
    "val_md /= 30\n",
    "val_fd /= 30\n",
    "print(\"Validation MD: {}\".format(val_md))\n",
    "print(\"Validation FD: {}\".format(val_fd))\n",
    "\n",
    "\n",
    "# in_seq_incr = val_dataset['in_seq_incr'][0:1000]\n",
    "# tar_seq_incr = val_dataset['tar_seq_incr'][0:1000]\n",
    "# gnd_true_seq = val_dataset['gnd_true'][0:1000]\n",
    "# in_seq_times = val_dataset['in_seq_times'][0:1000]\n",
    "# start_point = val_dataset['start_point'][0:1000]\n"
   ]
  },
  {
   "cell_type": "code",
   "execution_count": 160,
   "metadata": {
    "executionInfo": {
     "elapsed": 461,
     "status": "ok",
     "timestamp": 1620351238342,
     "user": {
      "displayName": "Ben Mo",
      "photoUrl": "",
      "userId": "15145245307052334155"
     },
     "user_tz": 240
    },
    "id": "VFPM_I8xnbml"
   },
   "outputs": [],
   "source": [
    "val_dataset = unbatch_dataset(val_dataset)\n",
    "\n",
    "val_dataset['norm_in_seq'] = val_dataset['std']*val_dataset['norm_in_seq'] + val_dataset['mean']\n",
    "val_dataset['norm_tar_seq'] = val_dataset['std']*val_dataset['norm_tar_seq'] + val_dataset['mean']\n",
    "val_dataset['norm_gnd_true'] = val_dataset['std']*val_dataset['norm_gnd_true'] + val_dataset['mean']\n",
    "\n",
    "val_dataset['norm_in_seq'] = (val_dataset['in_seq'] - train_dataset['mean']) / train_dataset['std']\n",
    "val_dataset['norm_tar_seq'] = (val_dataset['tar_seq'] - train_dataset['mean']) / train_dataset['std']\n",
    "val_dataset['norm_gnd_true'] = (val_dataset['gnd_true'] - train_dataset['mean']) / train_dataset['std']\n"
   ]
  },
  {
   "cell_type": "code",
   "execution_count": 124,
   "metadata": {
    "executionInfo": {
     "elapsed": 270,
     "status": "ok",
     "timestamp": 1620339793561,
     "user": {
      "displayName": "Ben Mo",
      "photoUrl": "",
      "userId": "15145245307052334155"
     },
     "user_tz": 240
    },
    "id": "5D6cs_xToWqt"
   },
   "outputs": [],
   "source": [
    "val_dataset['norm_in_seq'] = (val_dataset['in_seq'] - train_dataset['mean']) / train_dataset['std']\n",
    "val_dataset['norm_tar_seq'] = (val_dataset['tar_seq'] - train_dataset['mean']) / train_dataset['std']\n",
    "val_dataset['norm_gnd_true'] = (val_dataset['gnd_true'] - train_dataset['mean']) / train_dataset['std']"
   ]
  },
  {
   "cell_type": "code",
   "execution_count": 106,
   "metadata": {
    "colab": {
     "base_uri": "https://localhost:8080/",
     "height": 304
    },
    "executionInfo": {
     "elapsed": 1464,
     "status": "ok",
     "timestamp": 1620336895742,
     "user": {
      "displayName": "Ben Mo",
      "photoUrl": "",
      "userId": "15145245307052334155"
     },
     "user_tz": 240
    },
    "id": "u0Mw5Sbp8ADC",
    "outputId": "c1ba2759-0b48-459f-9a2a-ecc409058707"
   },
   "outputs": [
    {
     "data": {
      "image/png": "[encoded data removed]",
      "text/plain": [
       "<Figure size 1728x432 with 3 Axes>"
      ]
     },
     "metadata": {
      "needs_background": "light",
      "tags": []
     },
     "output_type": "display_data"
    }
   ],
   "source": [
    "import matplotlib.pyplot as plt\n",
    "\n",
    "fig, ax = plt.subplots(1, 3, figsize=(24, 6))\n",
    "\n",
    "ax[0].plot(history['loss'][10::])\n",
    "ax[0].set_ylabel('loss')\n",
    "ax[0].set_xlabel('iterations')\n",
    "\n",
    "ax[1].plot(history['md'][10::])\n",
    "ax[1].set_ylabel('mean distance')\n",
    "ax[1].set_xlabel('iterations')\n",
    "\n",
    "ax[2].plot(history['fd'][10::])\n",
    "ax[2].set_ylabel('final distance')\n",
    "ax[2].set_xlabel('iterations')\n",
    "\n",
    "fig.tight_layout()\n",
    "fig.savefig('3epoch_incr_training.eps', format='eps')"
   ]
  },
  {
   "cell_type": "code",
   "execution_count": 162,
   "metadata": {
    "executionInfo": {
     "elapsed": 2345,
     "status": "ok",
     "timestamp": 1620351385186,
     "user": {
      "displayName": "Ben Mo",
      "photoUrl": "",
      "userId": "15145245307052334155"
     },
     "user_tz": 240
    },
    "id": "KZQo9cOvaSUw"
   },
   "outputs": [],
   "source": [
    "\n",
    "traj_tf.save_weights(\"trained_models/3epoch_norm/trained_tf\")"
   ]
  },
  {
   "cell_type": "code",
   "execution_count": 107,
   "metadata": {
    "executionInfo": {
     "elapsed": 443,
     "status": "ok",
     "timestamp": 1620336903018,
     "user": {
      "displayName": "Ben Mo",
      "photoUrl": "",
      "userId": "15145245307052334155"
     },
     "user_tz": 240
    },
    "id": "kwqxbheX3cUh"
   },
   "outputs": [],
   "source": [
    "!mkdir trained_models/3epoch_norm"
   ]
  },
  {
   "cell_type": "code",
   "execution_count": 146,
   "metadata": {
    "colab": {
     "base_uri": "https://localhost:8080/"
    },
    "executionInfo": {
     "elapsed": 581,
     "status": "ok",
     "timestamp": 1620345488634,
     "user": {
      "displayName": "Ben Mo",
      "photoUrl": "",
      "userId": "15145245307052334155"
     },
     "user_tz": 240
    },
    "id": "jNhIadKS9YCk",
    "outputId": "97577af2-18fa-4beb-f4c9-a0c53d06fe97"
   },
   "outputs": [
    {
     "data": {
      "text/plain": [
       "<tensorflow.python.training.tracking.util.CheckpointLoadStatus at 0x7f1ff409d550>"
      ]
     },
     "execution_count": 146,
     "metadata": {
      "tags": []
     },
     "output_type": "execute_result"
    }
   ],
   "source": [
    "reloaded_tf = Transformer()\n",
    "reloaded_tf.load_weights('trained_models/3epoch_norm/trained_tf')"
   ]
  }
 ],
 "metadata": {
  "accelerator": "GPU",
  "colab": {
   "collapsed_sections": [],
   "name": "transformer.ipynb",
   "provenance": []
  },
  "kernelspec": {
   "display_name": "Python 3",
   "language": "python",
   "name": "python3"
  },
  "language_info": {
   "codemirror_mode": {
    "name": "ipython",
    "version": 3
   },
   "file_extension": ".py",
   "mimetype": "text/x-python",
   "name": "python",
   "nbconvert_exporter": "python",
   "pygments_lexer": "ipython3",
   "version": "3.8.10"
  }
 },
 "nbformat": 4,
 "nbformat_minor": 4
}
