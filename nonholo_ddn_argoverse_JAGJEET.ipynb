{
 "cells": [
  {
   "cell_type": "code",
   "execution_count": 1,
   "metadata": {},
   "outputs": [
    {
     "name": "stdout",
     "output_type": "stream",
     "text": [
      "(1000, 50, 2)\n",
      "AB\n"
     ]
    }
   ],
   "source": [
    "import os\n",
    "import sys\n",
    "# sys.path.append(\"/Users/shashanks./Downloads/Installations/ddn/\")\n",
    "sys.path.append(\"./ddn/\")\n",
    "sys.path.append(\"./\")\n",
    "import warnings\n",
    "warnings.filterwarnings('ignore')\n",
    "\n",
    "import torch\n",
    "import numpy as np\n",
    "import scipy.special\n",
    "import torch.nn as nn\n",
    "import matplotlib.pyplot as plt\n",
    "\n",
    "from scipy.linalg import block_diag\n",
    "from torch.utils.data import Dataset, DataLoader\n",
    "from bernstein import bernstein_coeff_order10_new\n",
    "from ddn.pytorch.node import AbstractDeclarativeNode\n",
    "\n",
    "from utils.nodes.OPTNode import OPTNode\n",
    "from utils.dataloader import ArgoverseDataset\n",
    "\n",
    "from utils.models.ddn import *\n",
    "\n",
    "from utils.bernstein import bernstein_coeff_order10_new\n",
    "from utils.viz_helpers import plot_traj\n",
    "from utils.metrics import get_ade, get_fde\n",
    "\n",
    "import pytorch_lightning as pl\n",
    "device = 'cpu'\n",
    "\n",
    "num = 30\n",
    "t_obs = 20\n",
    "num_elems = 15\n",
    "include_centerline = False\n",
    "name = \"final_without\" if include_centerline else \"final_with\"\n",
    "lr = 0.0001\n",
    "shuffle = True\n",
    "\n",
    "train_dir = \"/datasets/argoverse/val_data.npy\"\n",
    "centerline_train_dir=\"/datasets/argoverse/val_centerlines.npy\"\n",
    "test_dir = \"/datasets/argoverse/val_test_data.npy\"\n",
    "centerline_test_dir=\"/datasets/argoverse/val_test_centerlines.npy\"\n",
    "val_offsets_dir = \"/datasets/argoverse/val_offsets.npy\""
   ]
  },
  {
   "cell_type": "code",
   "execution_count": 2,
   "metadata": {
    "tags": []
   },
   "outputs": [],
   "source": [
    "train_dataset = ArgoverseDataset(train_dir, centerline_dir=centerline_train_dir, t_obs=t_obs, dt=0.3, include_centerline = include_centerline)\n",
    "train_loader = DataLoader(train_dataset, batch_size=20, shuffle=shuffle, num_workers=0)\n",
    "\n",
    "test_dataset = ArgoverseDataset(test_dir, centerline_dir=centerline_test_dir, t_obs=t_obs, dt=0.3, include_centerline = include_centerline)\n",
    "test_loader = DataLoader(test_dataset, batch_size=20, shuffle=shuffle, num_workers=0)\n",
    "\n",
    "offsets_train = np.load(val_offsets_dir)\n",
    "# offsets_test = np.load(\"/datasets/argoverse/val_offsets_test.npy\")\n",
    "\n",
    "problem = OPTNode(rho_eq=10, t_fin=9.0, num=num, bernstein_coeff_order10_new=bernstein_coeff_order10_new, device = device)\n",
    "opt_layer = DeclarativeLayer(problem)\n",
    "\n",
    "model = TrajNetLSTM(opt_layer, problem.P, problem.Pdot)#, input_size=t_obs * 2 + include_centerline * num_elems * 2)\n",
    "# model = TrajNet(opt_layer, problem.P, problem.Pdot)#, input_size=t_obs * 2 + include_centerline * num_elems * 2)\n",
    "# model = TrajNet(opt_layer, problem.P, problem.Pdot, input_size=t_obs * 2 + include_centerline * num_elems * 2)\n",
    "model = model.double()\n",
    "model = model.to(device)\n",
    "\n",
    "# model.load_state_dict(torch.load(\"./checkpoints/final.ckpt\"))\n",
    "\n",
    "criterion = nn.MSELoss()\n",
    "optimizer = torch.optim.SGD(model.parameters(), lr = lr)"
   ]
  },
  {
   "cell_type": "code",
   "execution_count": 3,
   "metadata": {},
   "outputs": [
    {
     "name": "stdout",
     "output_type": "stream",
     "text": [
      "torch.Size([20, 20, 2]) torch.Size([20, 60])\n"
     ]
    },
    {
     "data": {
      "image/png": "[encoded data removed]",
      "text/plain": [
       "<Figure size 432x288 with 1 Axes>"
      ]
     },
     "metadata": {
      "needs_background": "light"
     },
     "output_type": "display_data"
    }
   ],
   "source": [
    "for batch_num, data in enumerate(train_loader):\n",
    "    traj_inp, traj_out, fixed_params, var_inp = data\n",
    "    torch.set_printoptions(precision=None, threshold=None, edgeitems=None, linewidth=None, profile=None, sci_mode=False)\n",
    "    print(traj_inp.size(), traj_out.size())\n",
    "    ade = []\n",
    "    fde = []\n",
    "#     out = model(traj_inp.float(), fixed_params.float(), var_inp.float())\n",
    "    out = model(traj_inp, fixed_params, var_inp)\n",
    "#     print(out.shape)\n",
    "#     plt.scatter(traj_inp[1][:40:2], traj_inp[1][1:40:2], label='inp')\n",
    "    plt.scatter(traj_inp[1,:, 0], traj_inp[1, :, 1], label='inp')\n",
    "#     plt.scatter(traj_out[1,:, 0], traj_out[1, :, 1], label='gt')\n",
    "#     plt.scatter(out[1,:, 0].detach(), out[1, :, 1].detach(), label='pred')\n",
    "\n",
    "    plt.scatter(traj_out[1][:30], traj_out[1][30:], label='gt')\n",
    "    plt.scatter(out[1][:30].detach(), out[1][30:].detach(), label='pred')\n",
    "    if include_centerline:\n",
    "        inp_len=t_obs * 2\n",
    "        c_len = t_obs * 2 + num_elems * 2\n",
    "        plt.plot(traj_inp[1][inp_len:c_len:2] , traj_inp[1][inp_len + 1:c_len:2], color='black',label='primary-centerline')\n",
    "    plt.legend()\n",
    "    break"
   ]
  },
  {
   "cell_type": "code",
   "execution_count": 5,
   "metadata": {},
   "outputs": [],
   "source": [
    "epoch_train_loss = []\n",
    "num_epochs = 20\n",
    "\n",
    "for epoch in range(num_epochs):\n",
    "    train_loss = []\n",
    "    mean_ade = []\n",
    "    mean_fde = []    \n",
    "    for batch_num, data in enumerate(train_loader):\n",
    "        traj_inp, traj_out, fixed_params, var_inp = data\n",
    "        traj_inp = traj_inp.to(device)\n",
    "        traj_out = traj_out.to(device)\n",
    "        fixed_params = fixed_params.to(device)\n",
    "        var_inp = var_inp.to(device)\n",
    "\n",
    "        ade = []\n",
    "        fde = []            \n",
    "#         out = model(traj_inp.float(), fixed_params.float(), var_inp.float())\n",
    "        out = model(traj_inp, fixed_params, var_inp)\n",
    "        loss = criterion(out, traj_out)\n",
    "        \n",
    "        optimizer.zero_grad()\n",
    "        loss.backward()\n",
    "        optimizer.step()\n",
    "\n",
    "        train_loss.append(loss.item())\n",
    "        for ii in range(traj_inp.size()[0]):\n",
    "            gt = [[out[ii][j].item(),out[ii][j + num].item()] for j in range(len(out[ii])//2)]\n",
    "            pred = [[traj_out[ii][j].item(),traj_out[ii][j + num].item()] for j in range(len(out[ii])//2)]\n",
    "#             ade.append(get_ade(np.array(out[ii].detach()), np.array(traj_out[ii].detach())))\n",
    "#             fde.append(get_fde(np.array(out[ii].detach()), np.array(traj_out[ii].detach())))\n",
    "            ade.append(get_ade(np.array(pred), np.array(gt)))\n",
    "            fde.append(get_fde(np.array(pred), np.array(gt)))                                    \n",
    "#             plot_traj(ii, traj_inp[ii], traj_out[ii], out[ii], {\"x\": [], \"y\": []}, offsets=offsets_train, cities = [], avm=None, center=include_centerline, inp_len=t_obs * 2, c_len = t_obs * 2 + num_elems * 2, num=num, mode=\"test\", batch_num=batch_num)\n",
    "        if batch_num % 10 == 0:\n",
    "            print(\"Epoch: {}, Batch: {}, Loss: {}\".format(epoch, batch_num, loss.item()))\n",
    "            print(\"ADE: {}\".format(np.mean(ade)), \"FDE: {}\".format(np.mean(fde)))\n",
    "\n",
    "        mean_ade.append(np.mean(ade))\n",
    "        mean_fde.append(np.mean(fde))\n",
    "\n",
    "    mean_loss = np.mean(train_loss)\n",
    "    epoch_train_loss.append(mean_loss)\n",
    "    torch.save(model.state_dict(), \"./checkpoints/{}.ckpt\".format(name))\n",
    "    print(\"Epoch: {}, Mean Loss: {}\".format(epoch, mean_loss))\n",
    "    print(\"Mean ADE: {}\".format(np.mean(mean_ade)), \"Mean FDE: {}\".format(np.mean(mean_fde)))\n",
    "    print(\"-\"*100)"
   ]
  },
  {
   "cell_type": "code",
   "execution_count": 148,
   "metadata": {},
   "outputs": [
    {
     "name": "stdout",
     "output_type": "stream",
     "text": [
      "Batch: 0, Loss: 14.400999027443135\n",
      "Batch: 1, Loss: 11.699043619684053\n",
      "Batch: 2, Loss: 8.618406937053239\n",
      "Batch: 3, Loss: 5.229336737043434\n",
      "Batch: 4, Loss: 6.6153500760466\n",
      "Batch: 5, Loss: 7.819490196908543\n",
      "Batch: 6, Loss: 18.122736699381505\n",
      "Batch: 7, Loss: 13.311774520411692\n",
      "Batch: 8, Loss: 21.00286850690768\n",
      "Batch: 9, Loss: 14.720169439894413\n",
      "Epoch Mean Test Loss: 12.15401757607743\n",
      "Mean ADE: 3.391014935577728 Mean FDE: 5.738302015315152\n"
     ]
    },
    {
     "data": {
      "image/png": "[encoded data removed]",
      "text/plain": [
       "<Figure size 432x288 with 1 Axes>"
      ]
     },
     "metadata": {
      "needs_background": "light"
     },
     "output_type": "display_data"
    }
   ],
   "source": [
    "with torch.no_grad():\n",
    "    cnt = 0\n",
    "    test_loss = []\n",
    "    mean_ade = []\n",
    "    mean_fde = []     \n",
    "    for batch_num, data in enumerate(test_loader):\n",
    "        traj_inp, traj_out, fixed_params, var_inp = data\n",
    "        traj_inp = traj_inp.to(device)\n",
    "        traj_out = traj_out.to(device)\n",
    "        fixed_params = fixed_params.to(device)\n",
    "        var_inp = var_inp.to(device)\n",
    "        \n",
    "        ade = []\n",
    "        fde = []        \n",
    "        \n",
    "        out = model(traj_inp, fixed_params, var_inp)\n",
    "        loss = criterion(out, traj_out)\n",
    "        \n",
    "        test_loss.append(loss.item())\n",
    "        print(\"Batch: {}, Loss: {}\".format(batch_num, loss.item()))\n",
    "        \n",
    "        for ii in range(traj_inp.size()[0]):\n",
    "            gt = [[out[ii][j],out[ii][j + num]] for j in range(len(out[ii])//2)]\n",
    "            pred = [[traj_out[ii][j],traj_out[ii][j + num]] for j in range(len(out[ii])//2)]\n",
    "            ade.append(get_ade(np.array(pred), np.array(gt)))\n",
    "            fde.append(get_fde(np.array(pred), np.array(gt)))                        \n",
    "            plot_traj(ii, traj_inp[ii], traj_out[ii], out[ii], {\"x\": [], \"y\": []}, offsets=offsets_train, cities = [], avm=None, center=include_centerline, inp_len=num * 2, c_len = num * 2 + num_elems * 2, num=num, mode=\"test\", batch_num=batch_num)\n",
    "\n",
    "        mean_ade.append(np.mean(ade))\n",
    "        mean_fde.append(np.mean(fde))  \n",
    "\n",
    "mean_loss = np.mean(test_loss)\n",
    "print(\"Epoch Mean Test Loss: {}\".format(mean_loss))\n",
    "print(\"Mean ADE: {}\".format(np.mean(mean_ade)), \"Mean FDE: {}\".format(np.mean(mean_fde)))"
   ]
  }
 ],
 "metadata": {
  "interpreter": {
   "hash": "916dbcbb3f70747c44a77c7bcd40155683ae19c65e1c03b4aa3499c5328201f1"
  },
  "kernelspec": {
   "display_name": "Python 3",
   "language": "python",
   "name": "python3"
  },
  "language_info": {
   "codemirror_mode": {
    "name": "ipython",
    "version": 3
   },
   "file_extension": ".py",
   "mimetype": "text/x-python",
   "name": "python",
   "nbconvert_exporter": "python",
   "pygments_lexer": "ipython3",
   "version": "3.8.10"
  }
 },
 "nbformat": 4,
 "nbformat_minor": 4
}
