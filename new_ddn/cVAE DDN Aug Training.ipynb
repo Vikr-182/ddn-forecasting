{
 "cells": [
  {
   "cell_type": "code",
   "execution_count": 127,
   "metadata": {
    "tags": []
   },
   "outputs": [],
   "source": [
    "import numpy as np \n",
    "import matplotlib.pyplot as plt \n",
    "import seaborn as sns\n",
    "sns.set_theme()\n",
    "\n",
    "import torch \n",
    "import torch.nn as nn \n",
    "import torch.optim as optim\n",
    "from torch.utils.data import Dataset, DataLoader\n",
    "\n",
    "torch.manual_seed(42)\n",
    "torch.cuda.manual_seed_all(42)\n",
    "torch.set_default_dtype(torch.float64)\n",
    "\n",
    "%matplotlib inline"
   ]
  },
  {
   "cell_type": "code",
   "execution_count": 128,
   "metadata": {},
   "outputs": [
    {
     "name": "stdout",
     "output_type": "stream",
     "text": [
      "The autoreload extension is already loaded. To reload it, use:\n",
      "  %reload_ext autoreload\n"
     ]
    }
   ],
   "source": [
    "%load_ext autoreload\n",
    "%autoreload 2"
   ]
  },
  {
   "cell_type": "code",
   "execution_count": 129,
   "metadata": {},
   "outputs": [
    {
     "name": "stdout",
     "output_type": "stream",
     "text": [
      "Using cpu device\n"
     ]
    }
   ],
   "source": [
    "device = torch.device(\"cuda\" if torch.cuda.is_available() else \"cpu\")\n",
    "print(f\"Using {device} device\")"
   ]
  },
  {
   "cell_type": "code",
   "execution_count": 154,
   "metadata": {},
   "outputs": [
    {
     "name": "stdout",
     "output_type": "stream",
     "text": [
      "torch.Size([60, 11]) torch.Size([60, 11]) torch.Size([60, 11])\n"
     ]
    }
   ],
   "source": [
    "from bernstein_torch import bernstein_coeff_order10_new\n",
    "\n",
    "# Generating P matrix\n",
    "t_fin = 6.0\n",
    "num = 60\n",
    "tot_time = torch.linspace(0, t_fin, num)\n",
    "tot_time_copy = tot_time.reshape(num, 1)\n",
    "P, Pdot, Pddot = bernstein_coeff_order10_new(10, tot_time_copy[0], tot_time_copy[-1], tot_time_copy)\n",
    "print(P.shape, Pdot.shape, Pddot.shape)"
   ]
  },
  {
   "cell_type": "code",
   "execution_count": 155,
   "metadata": {
    "tags": []
   },
   "outputs": [
    {
     "name": "stdout",
     "output_type": "stream",
     "text": [
      "torch.Size([64, 200]) torch.Size([64, 120])\n"
     ]
    }
   ],
   "source": [
    "# Custom Dataset Loader \n",
    "class TrajDataset(Dataset):\n",
    "    \"\"\"Expert Trajectory Dataset.\"\"\"\n",
    "    def __init__(self, data):\n",
    "        \n",
    "        # Inputs\n",
    "        self.inp = data[:, 0:55]\n",
    "        \n",
    "        # Outputs\n",
    "        self.out = data[:, 55:]\n",
    "        \n",
    "    def __len__(self):\n",
    "        return len(self.inp)\n",
    "    \n",
    "    def __getitem__(self, idx):\n",
    "        \n",
    "        # Inputs\n",
    "        inp = self.inp[idx]\n",
    "        \n",
    "        # Outputs\n",
    "        out = self.out[idx]\n",
    "                 \n",
    "        return torch.tensor(inp).double(), torch.tensor(out).double()\n",
    "\n",
    "def rotate(gt_x, gt_y,theta):\n",
    "    gt_x_x = [ (gt_x[k] * np.cos(theta) - gt_y[k] * np.sin(theta))  for k in range(len(gt_x))]\n",
    "    gt_y_y = [ (gt_x[k] * np.sin(theta) + gt_y[k] * np.cos(theta))  for k in range(len(gt_x))]\n",
    "    gt_x = gt_x_x\n",
    "    gt_y = gt_y_y\n",
    "    return gt_x, gt_y\n",
    "    \n",
    "# Load the dataset\n",
    "# train_data = np.load(\"../datasets/toy/train_data.npy\", mmap_mode=\"c\")\n",
    "DATASET_PATH =  \"/mnt/e/datasets/argoverse/parsed\"\n",
    "import os\n",
    "files = os.listdir(DATASET_PATH)\n",
    "\n",
    "# Custom Dataset Loader \n",
    "class TrajDataset(Dataset):\n",
    "    \"\"\"Expert Trajectory Dataset.\"\"\"\n",
    "    def __init__(self, dataset_path):\n",
    "        \n",
    "        self.dataset_path = dataset_path\n",
    "        self.files = os.listdir(DATASET_PATH)\n",
    "        \n",
    "    def __len__(self):\n",
    "        return len(self.files)\n",
    "    \n",
    "    def __getitem__(self, idx):\n",
    "        arr = np.load(os.path.join(self.dataset_path, self.files[idx], f\"{self.files[idx]}.npy\"), allow_pickle=True)\n",
    "        # map_info = np.load(os.path.join(self.dataset_path, self.files[idx], f\"lanes_{self.files[idx]}.npy\"), allow_pickle=True)\n",
    "        agent, obstacle_tracks = None, []\n",
    "        # [object_state.position[0], object_state.position[1], object_state.heading, object_state.velocity[0], object_state.velocity[1], timestamps_ns[ind], tck[track.category], vmp[track.object_type]\n",
    "        # 5s of input of agent and 4 obstacles, 5s of output\n",
    "        inp = np.zeros((200))\n",
    "        out = np.zeros((120))\n",
    "        for tracks in arr:\n",
    "            if tracks[0][-2] == 3:\n",
    "                agent = tracks\n",
    "                last_obs = np.array(tracks)[-1]\n",
    "                last_obs_x = last_obs[0]\n",
    "                last_obs_y = last_obs[1]\n",
    "                last_obs_vel_x = last_obs[3]\n",
    "                last_obs_vel_y = last_obs[4]\n",
    "                for i in range(np.array(tracks).shape[0], 110):\n",
    "                    timestep = (i - np.array(tracks).shape[0] + 1)\n",
    "                    tracks.append([last_obs_x + last_obs_vel_x * timestep, last_obs_y + last_obs_vel_y * timestep, last_obs[2], last_obs_vel_x, last_obs_vel_y, i, last_obs[-2], last_obs[-1]])\n",
    "                agx = np.array(tracks)[10:50, 0] # position-x\n",
    "                agy = np.array(tracks)[10:50, 1] # position-y\n",
    "                offsetx = agx[-1]\n",
    "                offsety = agy[-1]\n",
    "                theta = np.arctan2(agy[-1] - agy[-2], agx[-1] - agx[-2])\n",
    "                ox = np.array(tracks)[50:, 0] # position-x\n",
    "                oy = np.array(tracks)[50:, 1] # position-x\n",
    "                agx, agy = rotate(agx - offsetx, agy - offsety, -theta)\n",
    "                ox, oy = rotate(ox - offsetx, oy - offsety, -theta)\n",
    "                vx = np.array(tracks)[10:50, 3] # velocity-x\n",
    "                vy = np.array(tracks)[10:50, 4] # velocity-y\n",
    "                vx, vy = rotate(vx, vy, -theta)\n",
    "                inp[0::5] = agx\n",
    "                inp[1::5] = agy\n",
    "                inp[2::5] = vx\n",
    "                inp[3::5] = vy\n",
    "                inp[4::5] = np.array(tracks)[10:50, 2] - theta # heading\n",
    "                out[:60] = ox\n",
    "                out[60:] = oy\n",
    "                traj_inp = np.hstack((agx, agy)).flatten()\n",
    "                traj_out = np.hstack((ox, oy)).flatten()\n",
    "                b_inp = np.array([agx[-1], agy[-1], vx[-1], vy[-1], 0, 0])\n",
    "                \n",
    "        return torch.tensor(inp).double(), torch.tensor(out).double(), torch.tensor(traj_inp).double(), torch.tensor(traj_out).double(), torch.tensor(b_inp).double()\n",
    "\n",
    "train_dataset = TrajDataset(DATASET_PATH)\n",
    "train_loader = DataLoader(train_dataset, batch_size=64, shuffle=True, num_workers=0)\n",
    "for _, data in enumerate(train_loader):\n",
    "    inp, out, past, future, inputs = data\n",
    "    print(inp.shape, out.shape)\n",
    "    break\n",
    "    pass\n",
    "# Using PyTorch Dataloader\n",
    "train_loader = DataLoader(train_dataset, batch_size=64, shuffle=True, num_workers=0)"
   ]
  },
  {
   "cell_type": "code",
   "execution_count": 185,
   "metadata": {},
   "outputs": [
    {
     "name": "stderr",
     "output_type": "stream",
     "text": [
      "[autoreload of gru_cvae_aug_ddn failed: Traceback (most recent call last):\n",
      "  File \"/home/vikrant/.local/lib/python3.8/site-packages/IPython/extensions/autoreload.py\", line 257, in check\n",
      "    superreload(m, reload, self.old_objects)\n",
      "  File \"/home/vikrant/.local/lib/python3.8/site-packages/IPython/extensions/autoreload.py\", line 480, in superreload\n",
      "    update_generic(old_obj, new_obj)\n",
      "  File \"/home/vikrant/.local/lib/python3.8/site-packages/IPython/extensions/autoreload.py\", line 377, in update_generic\n",
      "    update(a, b)\n",
      "  File \"/home/vikrant/.local/lib/python3.8/site-packages/IPython/extensions/autoreload.py\", line 329, in update_class\n",
      "    if update_generic(old_obj, new_obj):\n",
      "  File \"/home/vikrant/.local/lib/python3.8/site-packages/IPython/extensions/autoreload.py\", line 377, in update_generic\n",
      "    update(a, b)\n",
      "  File \"/home/vikrant/.local/lib/python3.8/site-packages/IPython/extensions/autoreload.py\", line 329, in update_class\n",
      "    if update_generic(old_obj, new_obj):\n",
      "  File \"/home/vikrant/.local/lib/python3.8/site-packages/IPython/extensions/autoreload.py\", line 377, in update_generic\n",
      "    update(a, b)\n",
      "  File \"/home/vikrant/.local/lib/python3.8/site-packages/IPython/extensions/autoreload.py\", line 329, in update_class\n",
      "    if update_generic(old_obj, new_obj):\n",
      "  File \"/home/vikrant/.local/lib/python3.8/site-packages/IPython/extensions/autoreload.py\", line 377, in update_generic\n",
      "    update(a, b)\n",
      "  File \"/home/vikrant/.local/lib/python3.8/site-packages/IPython/extensions/autoreload.py\", line 329, in update_class\n",
      "    if update_generic(old_obj, new_obj):\n",
      "RecursionError: maximum recursion depth exceeded\n",
      "]\n"
     ]
    }
   ],
   "source": [
    "from beta_cvae_aug_ddn import Encoder, Decoder, Beta_cVAE, BatchOpt_DDN, DeclarativeLayer\n",
    "from gru_cvae_aug_ddn import GRU_cVAE, DecoderGRU, EncoderGRU\n",
    "\n",
    "# DDN\n",
    "num_batch = train_loader.batch_size\n",
    "node = BatchOpt_DDN(P, Pdot, Pddot, num_batch)\n",
    "opt_layer = DeclarativeLayer(node)\n",
    "\n",
    "# Beta-cVAE Inputs\n",
    "enc_inp_dim = 200\n",
    "enc_out_dim = 120\n",
    "dec_inp_dim = enc_inp_dim\n",
    "dec_out_dim = 8\n",
    "hidden_dim = 1024 * 2\n",
    "z_dim = 2\n",
    "\n",
    "inp_mean, inp_std = 5.1077423, 20.914295\n",
    "\n",
    "encoder = Encoder(enc_inp_dim, enc_out_dim, hidden_dim, z_dim)\n",
    "decoder = Decoder(dec_inp_dim, dec_out_dim, hidden_dim, z_dim)\n",
    "model = Beta_cVAE(encoder, decoder, opt_layer, inp_mean, inp_std).to(device)\n",
    "\n",
    "encoder = EncoderGRU(enc_inp_dim, enc_out_dim, hidden_dim, z_dim, batch_size=num_batch)\n",
    "decoder = DecoderGRU(dec_inp_dim, 2, hidden_dim, z_dim, batch_size=num_batch)\n",
    "model_gru = GRU_cVAE(encoder, decoder, opt_layer, inp_mean, inp_std).to(device)\n",
    "\n",
    "P_ = torch.block_diag(P, P).to(device)\n",
    "Pdot_ = Pdot.to(device)\n",
    "Pddot_ = Pddot.to(device)"
   ]
  },
  {
   "cell_type": "code",
   "execution_count": 186,
   "metadata": {},
   "outputs": [
    {
     "name": "stderr",
     "output_type": "stream",
     "text": [
      "  0%|                                                                                                                   | 0/391 [00:00<?, ?it/s]"
     ]
    },
    {
     "name": "stdout",
     "output_type": "stream",
     "text": [
      "torch.Size([64, 2]) BHUVANIDAS\n",
      "torch.Size([64, 202]) LALA\n",
      "torch.Size([64, 2])\n",
      "torch.Size([64, 202])\n",
      "torch.Size([64, 1, 202]) torch.Size([1, 64, 2048]) OKOK\n"
     ]
    },
    {
     "name": "stderr",
     "output_type": "stream",
     "text": [
      "  0%|                                                                                                                   | 0/391 [00:10<?, ?it/s]\n"
     ]
    },
    {
     "ename": "IndexError",
     "evalue": "index 2 is out of bounds for dimension 1 with size 2",
     "output_type": "error",
     "traceback": [
      "\u001b[0;31m---------------------------------------------------------------------------\u001b[0m",
      "\u001b[0;31mIndexError\u001b[0m                                Traceback (most recent call last)",
      "Input \u001b[0;32mIn [186]\u001b[0m, in \u001b[0;36m<cell line: 7>\u001b[0;34m()\u001b[0m\n\u001b[1;32m     37\u001b[0m \u001b[38;5;66;03m# mean, std = model._encoder(inp, traj_gt)\u001b[39;00m\n\u001b[1;32m     38\u001b[0m \u001b[38;5;66;03m# z = model._sample_z(mean, std)\u001b[39;00m\n\u001b[1;32m     39\u001b[0m \u001b[38;5;66;03m# y_star = model._decoder(z, inp, initial_state_ego, 0, 0) \u001b[39;00m\n\u001b[1;32m     40\u001b[0m \u001b[38;5;66;03m# traj_sol = (P @ y_star.T).T \u001b[39;00m\n\u001b[1;32m     41\u001b[0m        \n\u001b[1;32m     42\u001b[0m \u001b[38;5;66;03m# Remember to add the Aug Loss\u001b[39;00m\n\u001b[1;32m     43\u001b[0m KL_loss, RCL_loss, loss, _ \u001b[38;5;241m=\u001b[39m model\u001b[38;5;241m.\u001b[39mforward(inp, traj_gt, initial_state_ego, P_, Pdot_, Pddot_, beta, step)\n\u001b[0;32m---> 44\u001b[0m KL_loss_, RCL_loss_, loss_, _ \u001b[38;5;241m=\u001b[39m \u001b[43mmodel_gru\u001b[49m\u001b[38;5;241;43m.\u001b[39;49m\u001b[43mforward\u001b[49m\u001b[43m(\u001b[49m\u001b[43minp\u001b[49m\u001b[43m,\u001b[49m\u001b[43m \u001b[49m\u001b[43mtraj_gt\u001b[49m\u001b[43m,\u001b[49m\u001b[43m \u001b[49m\u001b[43minitial_state_ego\u001b[49m\u001b[43m,\u001b[49m\u001b[43m \u001b[49m\u001b[43mP_\u001b[49m\u001b[43m,\u001b[49m\u001b[43m \u001b[49m\u001b[43mPdot_\u001b[49m\u001b[43m,\u001b[49m\u001b[43m \u001b[49m\u001b[43mPddot_\u001b[49m\u001b[43m,\u001b[49m\u001b[43m \u001b[49m\u001b[43mbeta\u001b[49m\u001b[43m,\u001b[49m\u001b[43m \u001b[49m\u001b[43mstep\u001b[49m\u001b[43m)\u001b[49m\n\u001b[1;32m     46\u001b[0m optimizer\u001b[38;5;241m.\u001b[39mzero_grad()\n\u001b[1;32m     47\u001b[0m loss\u001b[38;5;241m.\u001b[39mbackward()\n",
      "File \u001b[0;32m/mnt/d/core/home/R/goal/ddn-forecasting/new_ddn/gru_cvae_aug_ddn.py:128\u001b[0m, in \u001b[0;36mGRU_cVAE.forward\u001b[0;34m(self, inp, traj_gt, init_state_ego, P, Pdot, Pddot, beta, step)\u001b[0m\n\u001b[1;32m    125\u001b[0m z \u001b[38;5;241m=\u001b[39m \u001b[38;5;28mself\u001b[39m\u001b[38;5;241m.\u001b[39m_sample_z(mean, std);\u001b[38;5;28mprint\u001b[39m(z\u001b[38;5;241m.\u001b[39mshape)\n\u001b[1;32m    127\u001b[0m \u001b[38;5;66;03m# Decode y\u001b[39;00m\n\u001b[0;32m--> 128\u001b[0m y_star \u001b[38;5;241m=\u001b[39m \u001b[38;5;28;43mself\u001b[39;49m\u001b[38;5;241;43m.\u001b[39;49m\u001b[43m_decoder\u001b[49m\u001b[43m(\u001b[49m\u001b[43mz\u001b[49m\u001b[43m,\u001b[49m\u001b[43m \u001b[49m\u001b[43minp_norm\u001b[49m\u001b[43m,\u001b[49m\u001b[43m \u001b[49m\u001b[43minit_state_ego\u001b[49m\u001b[43m,\u001b[49m\u001b[43m \u001b[49m\u001b[43my_ub\u001b[49m\u001b[43m,\u001b[49m\u001b[43m \u001b[49m\u001b[43my_lb\u001b[49m\u001b[43m)\u001b[49m\n\u001b[1;32m    129\u001b[0m traj_sol \u001b[38;5;241m=\u001b[39m (P \u001b[38;5;241m@\u001b[39m y_star\u001b[38;5;241m.\u001b[39mT)\u001b[38;5;241m.\u001b[39mT \n\u001b[1;32m    131\u001b[0m \u001b[38;5;66;03m# KL Loss\u001b[39;00m\n",
      "File \u001b[0;32m/mnt/d/core/home/R/goal/ddn-forecasting/new_ddn/gru_cvae_aug_ddn.py:99\u001b[0m, in \u001b[0;36mGRU_cVAE._decoder\u001b[0;34m(self, z, x, init_state_ego, y_ub, y_lb)\u001b[0m\n\u001b[1;32m     95\u001b[0m y[:, \u001b[38;5;241m0\u001b[39m:\u001b[38;5;241m4\u001b[39m] \u001b[38;5;241m=\u001b[39m F\u001b[38;5;241m.\u001b[39msigmoid(y[:, \u001b[38;5;241m0\u001b[39m:\u001b[38;5;241m4\u001b[39m]) \u001b[38;5;241m*\u001b[39m \u001b[38;5;241m27.\u001b[39m \u001b[38;5;241m+\u001b[39m \u001b[38;5;241m3.\u001b[39m\n\u001b[1;32m     96\u001b[0m \u001b[38;5;66;03m# y[:, 4:]  = F.tanh(y[:, 4:]) * 8. + (y_ub.unsqueeze(1) + y_lb.unsqueeze(1)) \u001b[39;00m\n\u001b[1;32m     97\u001b[0m \n\u001b[1;32m     98\u001b[0m \u001b[38;5;66;03m# Call Optimization Solver\u001b[39;00m\n\u001b[0;32m---> 99\u001b[0m y_star \u001b[38;5;241m=\u001b[39m \u001b[38;5;28;43mself\u001b[39;49m\u001b[38;5;241;43m.\u001b[39;49m\u001b[43mopt_layer\u001b[49m\u001b[43m(\u001b[49m\u001b[43minit_state_ego\u001b[49m\u001b[43m,\u001b[49m\u001b[43m \u001b[49m\u001b[43my\u001b[49m\u001b[43m)\u001b[49m\n\u001b[1;32m    100\u001b[0m \u001b[38;5;28;01mreturn\u001b[39;00m y_star\n",
      "File \u001b[0;32m~/.local/lib/python3.8/site-packages/torch/nn/modules/module.py:1130\u001b[0m, in \u001b[0;36mModule._call_impl\u001b[0;34m(self, *input, **kwargs)\u001b[0m\n\u001b[1;32m   1126\u001b[0m \u001b[38;5;66;03m# If we don't have any hooks, we want to skip the rest of the logic in\u001b[39;00m\n\u001b[1;32m   1127\u001b[0m \u001b[38;5;66;03m# this function, and just call forward.\u001b[39;00m\n\u001b[1;32m   1128\u001b[0m \u001b[38;5;28;01mif\u001b[39;00m \u001b[38;5;129;01mnot\u001b[39;00m (\u001b[38;5;28mself\u001b[39m\u001b[38;5;241m.\u001b[39m_backward_hooks \u001b[38;5;129;01mor\u001b[39;00m \u001b[38;5;28mself\u001b[39m\u001b[38;5;241m.\u001b[39m_forward_hooks \u001b[38;5;129;01mor\u001b[39;00m \u001b[38;5;28mself\u001b[39m\u001b[38;5;241m.\u001b[39m_forward_pre_hooks \u001b[38;5;129;01mor\u001b[39;00m _global_backward_hooks\n\u001b[1;32m   1129\u001b[0m         \u001b[38;5;129;01mor\u001b[39;00m _global_forward_hooks \u001b[38;5;129;01mor\u001b[39;00m _global_forward_pre_hooks):\n\u001b[0;32m-> 1130\u001b[0m     \u001b[38;5;28;01mreturn\u001b[39;00m \u001b[43mforward_call\u001b[49m\u001b[43m(\u001b[49m\u001b[38;5;241;43m*\u001b[39;49m\u001b[38;5;28;43minput\u001b[39;49m\u001b[43m,\u001b[49m\u001b[43m \u001b[49m\u001b[38;5;241;43m*\u001b[39;49m\u001b[38;5;241;43m*\u001b[39;49m\u001b[43mkwargs\u001b[49m\u001b[43m)\u001b[49m\n\u001b[1;32m   1131\u001b[0m \u001b[38;5;66;03m# Do not call functions when jit is used\u001b[39;00m\n\u001b[1;32m   1132\u001b[0m full_backward_hooks, non_full_backward_hooks \u001b[38;5;241m=\u001b[39m [], []\n",
      "File \u001b[0;32m/mnt/d/core/home/R/goal/ddn-forecasting/new_ddn/beta_cvae_aug_ddn.py:459\u001b[0m, in \u001b[0;36mDeclarativeLayer.forward\u001b[0;34m(self, *inputs)\u001b[0m\n\u001b[1;32m    458\u001b[0m \u001b[38;5;28;01mdef\u001b[39;00m \u001b[38;5;21mforward\u001b[39m(\u001b[38;5;28mself\u001b[39m, \u001b[38;5;241m*\u001b[39minputs):\n\u001b[0;32m--> 459\u001b[0m \t\u001b[38;5;28;01mreturn\u001b[39;00m \u001b[43mDeclarativeFunction\u001b[49m\u001b[38;5;241;43m.\u001b[39;49m\u001b[43mapply\u001b[49m\u001b[43m(\u001b[49m\u001b[38;5;28;43mself\u001b[39;49m\u001b[38;5;241;43m.\u001b[39;49m\u001b[43mproblem\u001b[49m\u001b[43m,\u001b[49m\u001b[43m \u001b[49m\u001b[38;5;241;43m*\u001b[39;49m\u001b[43minputs\u001b[49m\u001b[43m)\u001b[49m\n",
      "File \u001b[0;32m/mnt/d/core/home/R/goal/ddn-forecasting/new_ddn/beta_cvae_aug_ddn.py:426\u001b[0m, in \u001b[0;36mDeclarativeFunction.forward\u001b[0;34m(ctx, problem, *inputs)\u001b[0m\n\u001b[1;32m    424\u001b[0m \u001b[38;5;129m@staticmethod\u001b[39m\n\u001b[1;32m    425\u001b[0m \u001b[38;5;28;01mdef\u001b[39;00m \u001b[38;5;21mforward\u001b[39m(ctx, problem, \u001b[38;5;241m*\u001b[39minputs):\n\u001b[0;32m--> 426\u001b[0m \toutput, solve_ctx \u001b[38;5;241m=\u001b[39m \u001b[43mtorch\u001b[49m\u001b[38;5;241;43m.\u001b[39;49m\u001b[43mno_grad\u001b[49m\u001b[43m(\u001b[49m\u001b[43m)\u001b[49m\u001b[43m(\u001b[49m\u001b[43mproblem\u001b[49m\u001b[38;5;241;43m.\u001b[39;49m\u001b[43msolve\u001b[49m\u001b[43m)\u001b[49m\u001b[43m(\u001b[49m\u001b[38;5;241;43m*\u001b[39;49m\u001b[43minputs\u001b[49m\u001b[43m)\u001b[49m\n\u001b[1;32m    427\u001b[0m \tctx\u001b[38;5;241m.\u001b[39msave_for_backward(output, \u001b[38;5;241m*\u001b[39minputs)\n\u001b[1;32m    428\u001b[0m \tctx\u001b[38;5;241m.\u001b[39mproblem \u001b[38;5;241m=\u001b[39m problem\n",
      "File \u001b[0;32m~/.local/lib/python3.8/site-packages/torch/autograd/grad_mode.py:27\u001b[0m, in \u001b[0;36m_DecoratorContextManager.__call__.<locals>.decorate_context\u001b[0;34m(*args, **kwargs)\u001b[0m\n\u001b[1;32m     24\u001b[0m \u001b[38;5;129m@functools\u001b[39m\u001b[38;5;241m.\u001b[39mwraps(func)\n\u001b[1;32m     25\u001b[0m \u001b[38;5;28;01mdef\u001b[39;00m \u001b[38;5;21mdecorate_context\u001b[39m(\u001b[38;5;241m*\u001b[39margs, \u001b[38;5;241m*\u001b[39m\u001b[38;5;241m*\u001b[39mkwargs):\n\u001b[1;32m     26\u001b[0m     \u001b[38;5;28;01mwith\u001b[39;00m \u001b[38;5;28mself\u001b[39m\u001b[38;5;241m.\u001b[39mclone():\n\u001b[0;32m---> 27\u001b[0m         \u001b[38;5;28;01mreturn\u001b[39;00m \u001b[43mfunc\u001b[49m\u001b[43m(\u001b[49m\u001b[38;5;241;43m*\u001b[39;49m\u001b[43margs\u001b[49m\u001b[43m,\u001b[49m\u001b[43m \u001b[49m\u001b[38;5;241;43m*\u001b[39;49m\u001b[38;5;241;43m*\u001b[39;49m\u001b[43mkwargs\u001b[49m\u001b[43m)\u001b[49m\n",
      "File \u001b[0;32m/mnt/d/core/home/R/goal/ddn-forecasting/new_ddn/beta_cvae_aug_ddn.py:354\u001b[0m, in \u001b[0;36mBatchOpt_DDN.solve\u001b[0;34m(self, initial_state_ego, neural_output_batch)\u001b[0m\n\u001b[1;32m    352\u001b[0m v_des_1 \u001b[38;5;241m=\u001b[39m neural_output_batch[:, \u001b[38;5;241m0\u001b[39m]\n\u001b[1;32m    353\u001b[0m v_des_2 \u001b[38;5;241m=\u001b[39m neural_output_batch[:, \u001b[38;5;241m1\u001b[39m]\n\u001b[0;32m--> 354\u001b[0m v_des_3 \u001b[38;5;241m=\u001b[39m \u001b[43mneural_output_batch\u001b[49m\u001b[43m[\u001b[49m\u001b[43m:\u001b[49m\u001b[43m,\u001b[49m\u001b[43m \u001b[49m\u001b[38;5;241;43m2\u001b[39;49m\u001b[43m]\u001b[49m\n\u001b[1;32m    355\u001b[0m v_des_4 \u001b[38;5;241m=\u001b[39m neural_output_batch[:, \u001b[38;5;241m3\u001b[39m]\n\u001b[1;32m    357\u001b[0m y_des_1 \u001b[38;5;241m=\u001b[39m neural_output_batch[:, \u001b[38;5;241m4\u001b[39m]\n",
      "\u001b[0;31mIndexError\u001b[0m: index 2 is out of bounds for dimension 1 with size 2"
     ]
    }
   ],
   "source": [
    "epochs = 60\n",
    "step, beta = 0, 3.5\n",
    "optimizer = optim.AdamW(model.parameters(), lr = 1e-5, weight_decay=6e-4)\n",
    "scheduler = optim.lr_scheduler.StepLR(optimizer, step_size = 12, gamma = 0.1)\n",
    "\n",
    "avg_train_loss, avg_rcl_loss, avg_kl_loss, avg_aug_loss = [], [], [], []\n",
    "for epoch in range(epochs):\n",
    "    \n",
    "    # Train Loop\n",
    "    losses_train, kl_losses, rcl_losses, aug_losses = [], [], [], []\n",
    "    model.train()\n",
    "    from tqdm import tqdm\n",
    "    it = 0\n",
    "    for inp, out, past, future, inputs in tqdm(train_loader):\n",
    "        it = it + 1\n",
    "        inp = inp.to(device)\n",
    "        out = out.to(device)\n",
    "        \n",
    "        past = past.to(device)\n",
    "        future = future.to(device)\n",
    "        b_inp = inputs.to(device) \n",
    "\n",
    "        traj_gt = out#torch.cat((out[:, :50], out[:, 50:]))\n",
    "        # z = torch.cat([inp, out], dim = 1)\n",
    "\t\t# Sample from z -> Reparameterized \n",
    "\t\t# z = self._sample_z(mean, std)\n",
    "\t\t\n",
    "\t\t# Decode y\n",
    "\t\t# y_star = self._decoder(z, inp_norm, init_state_ego, y_ub, y_lb)\n",
    "        \n",
    "        # Ego vehicle states\n",
    "        initial_state_ego = inp[:, 2:6]\n",
    "        initial_state_ego[:, 2] = inp[:, 2::5][:, -1]\n",
    "        initial_state_ego[:, 3] = inp[:, 3::5][:, -1]\n",
    "        initial_state_ego[:, 0:2] = 0\n",
    "        \n",
    "        # mean, std = model._encoder(inp, traj_gt)\n",
    "        # z = model._sample_z(mean, std)\n",
    "        # y_star = model._decoder(z, inp, initial_state_ego, 0, 0) \n",
    "        # traj_sol = (P @ y_star.T).T \n",
    "               \n",
    "        # Remember to add the Aug Loss\n",
    "        KL_loss, RCL_loss, loss, _ = model.forward(inp, traj_gt, initial_state_ego, P_, Pdot_, Pddot_, beta, step)\n",
    "        KL_loss_, RCL_loss_, loss_, _ = model_gru.forward(inp, traj_gt, initial_state_ego, P_, Pdot_, Pddot_, beta, step)\n",
    "        \n",
    "        optimizer.zero_grad()\n",
    "        loss.backward()\n",
    "        optimizer.step()\n",
    "        \n",
    "        losses_train.append(loss.detach().cpu().numpy()) \n",
    "        rcl_losses.append(RCL_loss.detach().cpu().numpy())\n",
    "        kl_losses.append(KL_loss.detach().cpu().numpy())\n",
    "        # aug_losses.append(Aug.detach().cpu().numpy())\n",
    "        if it % 10 == 1:    \n",
    "            print(f\"Epoch: {epoch + 1}, Train Loss: {np.average(losses_train):.3f}, RCL: {np.average(rcl_losses):.3f}, KL: {np.average(kl_losses):.3f}\") #, Aug: {np.average(aug_losses):.3f}\")\n",
    "\n",
    "    if epoch % 1 == 0:\n",
    "        print(f\"Epoch: {epoch + 1}, Train Loss: {np.average(losses_train):.3f}, RCL: {np.average(rcl_losses):.3f}, KL: {np.average(kl_losses):.3f}\") #, Aug: {np.average(aug_losses):.3f}\")\n",
    "\n",
    "    step += 1.0\n",
    "    scheduler.step()\n",
    "    avg_train_loss.append(np.average(losses_train)), avg_rcl_loss.append(np.average(rcl_losses)), \\\n",
    "    avg_kl_loss.append(np.average(kl_losses)) #, avg_aug_loss.append(np.average(aug_losses))"
   ]
  },
  {
   "cell_type": "code",
   "execution_count": 77,
   "metadata": {},
   "outputs": [],
   "source": [
    "# Sanity Check\n",
    "for batch_num, (datas) in enumerate(train_loader):\n",
    "    inp, out = datas\n",
    "    \n",
    "    print(inp.shape, out.shape)\n",
    "        \n",
    "    num = 2\n",
    "    \n",
    "    # # Sanity Check\n",
    "    # x_obs = inp[num].flatten()[5::5]\n",
    "    # y_obs = inp[num].flatten()[6::5]\n",
    "     \n",
    "    # th = np.linspace(0, 2 * np.pi, 100)\n",
    "    plt.figure(1)\n",
    "    \n",
    "    a_obs, b_obs = 5.8, 3.2\n",
    "    \n",
    "    # for i in range(0, 10):\n",
    "    #     x_ell = x_obs[i] + a_obs * np.cos(th)\n",
    "    #     y_ell = y_obs[i] + b_obs * np.sin(th)\n",
    "    #     plt.plot(x_ell, y_ell, '-k', linewidth=1.0)\n",
    "\n",
    "    plt.axis('equal')\n",
    "        \n",
    "    traj_gt = out\n",
    "\n",
    "    # Ego vehicle states\n",
    "    initial_state_ego = inp[:, 2:6]\n",
    "    initial_state_ego[:, 2] = inp[:, 2::5][:, -1]\n",
    "    initial_state_ego[:, 3] = inp[:, 3::5][:, -1]\n",
    "    initial_state_ego[:, 0:2] = 0\n",
    "\n",
    "    mean, std = model._encoder(inp, traj_gt)\n",
    "    z = model._sample_z(mean, std)\n",
    "    y_star = model._decoder(z, inp, initial_state_ego, 0, 0) \n",
    "    traj_sol = (P @ y_star.T).T\n",
    "\n",
    "    ccx = traj_sol[num].flatten()[0:60]\n",
    "    ccy = traj_sol[num].flatten()[60:]\n",
    "    \n",
    "    cx = out[num].flatten()[0:60]\n",
    "    cy = out[num].flatten()[60:]\n",
    "    \n",
    "    x_gt =  cx\n",
    "    y_gt =  cy\n",
    "\n",
    "    x_gt_ =  ccx\n",
    "    y_gt_ =  ccy    \n",
    "    \n",
    "    x_obs = inp[0::5]\n",
    "    y_obs = inp[1::5]\n",
    "    \n",
    "    ag_x = inp[num].flatten()[0::5]\n",
    "    ag_y = inp[num].flatten()[1::5]    \n",
    "\n",
    "    # plt.plot(ag_x.numpy(), ag_y.numpy(), label=\"Observed\", color=\"blue\")    \n",
    "    plt.plot(x_gt.numpy(), y_gt.numpy(), label=\"Ground Truth\", color=\"red\")\n",
    "    plt.plot(x_gt_.detach().numpy(), y_gt_.detach().numpy(), label=\"Predicted\", color=\"orange\")\n",
    "    plt.legend()\n",
    "    plt.savefig(f\"argoverse_figs/{batch_num}_{num}.png\")\n",
    "    plt.clf()\n",
    "    # plt.show()\n",
    "    \n",
    "    # break"
   ]
  },
  {
   "cell_type": "code",
   "execution_count": 7,
   "metadata": {},
   "outputs": [],
   "source": []
  },
  {
   "cell_type": "code",
   "execution_count": 8,
   "metadata": {},
   "outputs": [],
   "source": []
  },
  {
   "cell_type": "code",
   "execution_count": 9,
   "metadata": {},
   "outputs": [
    {
     "ename": "RuntimeError",
     "evalue": "mat1 and mat2 shapes cannot be multiplied (4290x0 and 22x200)",
     "output_type": "error",
     "traceback": [
      "\u001b[0;31m---------------------------------------------------------------------------\u001b[0m",
      "\u001b[0;31mRuntimeError\u001b[0m                              Traceback (most recent call last)",
      "Input \u001b[0;32mIn [9]\u001b[0m, in \u001b[0;36m<cell line: 7>\u001b[0;34m()\u001b[0m\n\u001b[1;32m     14\u001b[0m inp \u001b[38;5;241m=\u001b[39m inp\u001b[38;5;241m.\u001b[39mto(device)\n\u001b[1;32m     15\u001b[0m out \u001b[38;5;241m=\u001b[39m out\u001b[38;5;241m.\u001b[39mto(device)\n\u001b[0;32m---> 16\u001b[0m traj_gt \u001b[38;5;241m=\u001b[39m (\u001b[43mP\u001b[49m\u001b[43m \u001b[49m\u001b[38;5;241;43m@\u001b[39;49m\u001b[43m \u001b[49m\u001b[43mout\u001b[49m\u001b[38;5;241;43m.\u001b[39;49m\u001b[43mT\u001b[49m)\u001b[38;5;241m.\u001b[39mT\n\u001b[1;32m     18\u001b[0m \u001b[38;5;66;03m# Ego vehicle states\u001b[39;00m\n\u001b[1;32m     19\u001b[0m initial_state_ego \u001b[38;5;241m=\u001b[39m inp[:, \u001b[38;5;241m2\u001b[39m:\u001b[38;5;241m6\u001b[39m]\n",
      "\u001b[0;31mRuntimeError\u001b[0m: mat1 and mat2 shapes cannot be multiplied (4290x0 and 22x200)"
     ]
    }
   ],
   "source": []
  },
  {
   "cell_type": "code",
   "execution_count": 10,
   "metadata": {},
   "outputs": [],
   "source": [
    "torch.save(model.state_dict(), './Weights/cvae_aug_mse.pth')"
   ]
  }
 ],
 "metadata": {
  "kernelspec": {
   "display_name": "Python 3 (ipykernel)",
   "language": "python",
   "name": "python3"
  },
  "language_info": {
   "codemirror_mode": {
    "name": "ipython",
    "version": 3
   },
   "file_extension": ".py",
   "mimetype": "text/x-python",
   "name": "python",
   "nbconvert_exporter": "python",
   "pygments_lexer": "ipython3",
   "version": "3.8.10"
  },
  "vscode": {
   "interpreter": {
    "hash": "9c562111517df06ec79e2a0b366e2ca57c1da3a77768b6967f7ee5330ff1fbc3"
   }
  }
 },
 "nbformat": 4,
 "nbformat_minor": 4
}
