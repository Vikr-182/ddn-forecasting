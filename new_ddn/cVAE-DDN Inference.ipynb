{
 "cells": [
  {
   "cell_type": "code",
   "execution_count": 1,
   "id": "e53aa54b-3fd9-4461-887f-d2098487c253",
   "metadata": {},
   "outputs": [],
   "source": [
    "import numpy as np \n",
    "import matplotlib.pyplot as plt \n",
    "import seaborn as sns\n",
    "sns.set_theme()\n",
    "\n",
    "import torch \n",
    "import torch.nn as nn \n",
    "import torch.optim as optim\n",
    "from torch.utils.data import Dataset, DataLoader\n",
    "\n",
    "torch.manual_seed(42)\n",
    "torch.cuda.manual_seed_all(42)\n",
    "torch.set_default_dtype(torch.float64)\n",
    "\n",
    "%matplotlib inline"
   ]
  },
  {
   "cell_type": "code",
   "execution_count": 2,
   "id": "353de535-0bad-4c3e-bff4-a1e672c76758",
   "metadata": {},
   "outputs": [
    {
     "name": "stdout",
     "output_type": "stream",
     "text": [
      "Using cuda device\n"
     ]
    }
   ],
   "source": [
    "device = torch.device(\"cuda\" if torch.cuda.is_available() else \"cpu\")\n",
    "print(f\"Using {device} device\")"
   ]
  },
  {
   "cell_type": "code",
   "execution_count": 3,
   "id": "aa48cdc3",
   "metadata": {},
   "outputs": [],
   "source": [
    "from Utils.bernstein_torch import bernstein_coeff_order10_new\n",
    "from Utils.pol_matrix_torch import pol_matrix_comp\n",
    "\n",
    "# Generating P matrix\n",
    "t_fin = 15.0\n",
    "num = 100\n",
    "tot_time = torch.linspace(0, t_fin, num)\n",
    "tot_time_copy = tot_time.reshape(num, 1)\n",
    "P, Pdot, Pddot = bernstein_coeff_order10_new(10, tot_time_copy[0], tot_time_copy[-1], tot_time_copy)"
   ]
  },
  {
   "cell_type": "code",
   "execution_count": 4,
   "id": "f8a99715-4242-4811-b2f9-199737a784e9",
   "metadata": {},
   "outputs": [],
   "source": [
    "# Custom Dataset Loader \n",
    "class TrajDataset(Dataset):\n",
    "    \"\"\"Expert Trajectory Dataset.\"\"\"\n",
    "    def __init__(self, data):\n",
    "        \n",
    "        # Inputs\n",
    "        self.inp = data[:, 0:55]\n",
    "        \n",
    "        # Outputs\n",
    "        self.out = data[:, 55:]\n",
    "        \n",
    "    def __len__(self):\n",
    "        return len(self.inp)\n",
    "    \n",
    "    def __getitem__(self, idx):\n",
    "        \n",
    "        # Inputs\n",
    "        inp = self.inp[idx]\n",
    "        \n",
    "        # Outputs\n",
    "        out = self.out[idx]\n",
    "                 \n",
    "        return torch.tensor(inp).double(), torch.tensor(out).double()\n",
    "\n",
    "# Load the dataset\n",
    "train_data = np.load(\"./Preprocessed Data/val_lane_4.npy\", mmap_mode=\"c\")\n",
    "\n",
    "# Using PyTorch Dataloader\n",
    "train_dataset = TrajDataset(train_data)\n",
    "train_loader = DataLoader(train_dataset, batch_size=1, shuffle=True, num_workers=0)"
   ]
  },
  {
   "cell_type": "code",
   "execution_count": 5,
   "id": "37a68dd8-4d8a-471b-80ac-0672d5024367",
   "metadata": {},
   "outputs": [
    {
     "data": {
      "text/plain": [
       "<All keys matched successfully>"
      ]
     },
     "execution_count": 5,
     "metadata": {},
     "output_type": "execute_result"
    }
   ],
   "source": [
    "from Utils.beta_cvae_aug_ddn import Encoder, Decoder, Beta_cVAE, BatchOpt_DDN, DeclarativeLayer\n",
    "\n",
    "# DDN\n",
    "num_batch = 100\n",
    "node = BatchOpt_DDN(P, Pdot, Pddot, num_batch)\n",
    "opt_layer = DeclarativeLayer(node)\n",
    "\n",
    "# Beta-cVAE Inputs\n",
    "enc_inp_dim = 55\n",
    "enc_out_dim = 200\n",
    "dec_inp_dim = enc_inp_dim\n",
    "dec_out_dim = 8\n",
    "hidden_dim = 1024 * 2\n",
    "z_dim = 2\n",
    "\n",
    "inp_mean, inp_std = 5.1077423, 20.914295\n",
    "\n",
    "encoder = Encoder(enc_inp_dim, enc_out_dim, hidden_dim, z_dim)\n",
    "decoder = Decoder(dec_inp_dim, dec_out_dim, hidden_dim, z_dim)\n",
    "model = Beta_cVAE(encoder, decoder, opt_layer, inp_mean, inp_std).to(device)\n",
    "model.load_state_dict(torch.load('./Weights/cvae_aug_bern_2.pth'))"
   ]
  },
  {
   "cell_type": "code",
   "execution_count": 6,
   "id": "38f2e943-28be-416c-a624-e668e3fe3cd6",
   "metadata": {},
   "outputs": [],
   "source": [
    "P = torch.block_diag(P, P).to(device)\n",
    "Pdot = Pdot.to(device)\n",
    "Pddot = Pddot.to(device)"
   ]
  },
  {
   "cell_type": "code",
   "execution_count": 7,
   "id": "20c0b757-b18c-4cec-a554-8693a8bc633f",
   "metadata": {},
   "outputs": [],
   "source": [
    "import matplotlib.cm as cm\n",
    "\n",
    "# No. of Generated Samples\n",
    "N = num_batch\n",
    "\n",
    "%matplotlib qt\n",
    "\n",
    "model.eval()\n",
    "for batch_num, (datas) in enumerate(train_loader):\n",
    "    inp, out = datas\n",
    "    \n",
    "    inp = inp.to(device)\n",
    "    out = out.to(device)\n",
    "\n",
    "    # Normalized Input\n",
    "    inp_norm = (inp - inp_mean) / inp_std\n",
    "\n",
    "    # Initial State Ego\n",
    "    initial_state_ego = inp[:, 2:6]\n",
    "    initial_state_ego[:, 2:4] = initial_state_ego[:, 0:2]\n",
    "    initial_state_ego[:, 0:2] = 0\n",
    "    \n",
    "    # Inference with cVAE\n",
    "    batch_inp_norm = torch.vstack([inp_norm] * N)\n",
    "    batch_init_state = torch.vstack([initial_state_ego] * N)\n",
    "    z = torch.randn((N, z_dim), device=device)\n",
    "    \n",
    "    with torch.no_grad():\n",
    "        y_star = model._decoder(z, batch_inp_norm, batch_init_state, 0, 0)\n",
    "        traj_pred = (P @ y_star.T).T\n",
    "    \n",
    "    # Reverting Transformation\n",
    "    inputs = inp.cpu().numpy()\n",
    "    predictions = traj_pred.cpu().numpy() \n",
    "            \n",
    "    plt.figure(figsize=(12, 8), dpi=90)\n",
    "    \n",
    "    # Obstacles \n",
    "    x_obs = inputs.flatten()[5::5]\n",
    "    y_obs = inputs.flatten()[6::5]\n",
    "        \n",
    "    th = np.linspace(0, 2 * np.pi, 100)\n",
    "\n",
    "    a_obs, b_obs = 5.8, 3.2\n",
    "    \n",
    "    for i in range(0, 10):\n",
    "        x_ell = x_obs[i] + a_obs * np.cos(th)\n",
    "        y_ell = y_obs[i] + b_obs * np.sin(th)\n",
    "        plt.plot(x_ell, y_ell, '-k', linewidth=1.0)\n",
    "\n",
    "    # Original Distribution\n",
    "    x_gt = (P @ out.T).T\n",
    "    x = x_gt.flatten()[0:100]\n",
    "    y = x_gt.flatten()[100:200]\n",
    "\n",
    "    plt.plot(x.cpu().numpy(), y.cpu().numpy(), color=\"black\", label=\"Ground Truth\", linewidth=5.5)\n",
    "    \n",
    "    # Generated\n",
    "    x_traj = predictions[:, 0:100]\n",
    "    y_traj = predictions[:, 100:200]\n",
    "            \n",
    "    # Plotting different trajectories\n",
    "    colors = cm.rainbow(np.linspace(0, 1, len(x_traj)))\n",
    "    j = 0\n",
    "    for y, c in zip(y_traj, colors):\n",
    "        plt.plot(x_traj[j], y, color=c, linewidth=1.5)\n",
    "        j += 1\n",
    "\n",
    "    plt.axhline(y=inp.flatten()[0].cpu().numpy(), linewidth=2.5, color='blue')\n",
    "    plt.axhline(y=inp.flatten()[1].cpu().numpy(), linewidth=2.5, color='blue')\n",
    "    plt.legend()\n",
    "    plt.axis(\"equal\")\n",
    "    plt.show()\n",
    "\n",
    "    break"
   ]
  }
 ],
 "metadata": {
  "kernelspec": {
   "display_name": "Python 3 (ipykernel)",
   "language": "python",
   "name": "python3"
  },
  "language_info": {
   "codemirror_mode": {
    "name": "ipython",
    "version": 3
   },
   "file_extension": ".py",
   "mimetype": "text/x-python",
   "name": "python",
   "nbconvert_exporter": "python",
   "pygments_lexer": "ipython3",
   "version": "3.8.10"
  },
  "vscode": {
   "interpreter": {
    "hash": "9c562111517df06ec79e2a0b366e2ca57c1da3a77768b6967f7ee5330ff1fbc3"
   }
  }
 },
 "nbformat": 4,
 "nbformat_minor": 5
}
