{
 "cells": [
  {
   "cell_type": "code",
   "execution_count": 1,
   "metadata": {},
   "outputs": [],
   "source": [
    "import numpy as np \n",
    "import matplotlib.pyplot as plt \n",
    "import seaborn as sns\n",
    "sns.set_theme()\n",
    "\n",
    "import torch \n",
    "import torch.nn as nn \n",
    "import torch.optim as optim\n",
    "from torch.utils.data import Dataset, DataLoader\n",
    "\n",
    "torch.manual_seed(42)\n",
    "torch.cuda.manual_seed_all(42)\n",
    "torch.set_default_dtype(torch.float64)\n",
    "\n",
    "%matplotlib inline"
   ]
  },
  {
   "cell_type": "code",
   "execution_count": 2,
   "metadata": {},
   "outputs": [
    {
     "name": "stdout",
     "output_type": "stream",
     "text": [
      "Using cuda device\n"
     ]
    }
   ],
   "source": [
    "device = torch.device(\"cuda\" if torch.cuda.is_available() else \"cpu\")\n",
    "print(f\"Using {device} device\")"
   ]
  },
  {
   "cell_type": "code",
   "execution_count": 3,
   "metadata": {},
   "outputs": [],
   "source": [
    "from Utils.bernstein_torch import bernstein_coeff_order10_new\n",
    "\n",
    "# Generating P matrix\n",
    "t_fin = 15.0\n",
    "num = 100\n",
    "tot_time = torch.linspace(0, t_fin, num)\n",
    "tot_time_copy = tot_time.reshape(num, 1)\n",
    "P, Pdot, Pddot = bernstein_coeff_order10_new(10, tot_time_copy[0], tot_time_copy[-1], tot_time_copy)"
   ]
  },
  {
   "cell_type": "code",
   "execution_count": 4,
   "metadata": {},
   "outputs": [],
   "source": [
    "# Custom Dataset Loader \n",
    "class TrajDataset(Dataset):\n",
    "    \"\"\"Expert Trajectory Dataset.\"\"\"\n",
    "    def __init__(self, data):\n",
    "        \n",
    "        # Inputs\n",
    "        self.inp = data[:, 0:55]\n",
    "        \n",
    "        # Outputs\n",
    "        self.out = data[:, 55:]\n",
    "        \n",
    "    def __len__(self):\n",
    "        return len(self.inp)\n",
    "    \n",
    "    def __getitem__(self, idx):\n",
    "        \n",
    "        # Inputs\n",
    "        inp = self.inp[idx]\n",
    "        \n",
    "        # Outputs\n",
    "        out = self.out[idx]\n",
    "                 \n",
    "        return torch.tensor(inp).double(), torch.tensor(out).double()\n",
    "\n",
    "# Load the dataset\n",
    "train_data = np.load(\"./Preprocessed Data/train_lane_4.npy\", mmap_mode=\"c\")\n",
    "\n",
    "# Using PyTorch Dataloader\n",
    "train_dataset = TrajDataset(train_data)\n",
    "train_loader = DataLoader(train_dataset, batch_size=2145, shuffle=True, num_workers=0)"
   ]
  },
  {
   "cell_type": "code",
   "execution_count": 5,
   "metadata": {},
   "outputs": [
    {
     "name": "stdout",
     "output_type": "stream",
     "text": [
      "torch.Size([2145, 55]) torch.Size([2145, 22])\n"
     ]
    },
    {
     "data": {
      "image/png": "[encoded data removed]",
      "text/plain": [
       "<Figure size 432x288 with 1 Axes>"
      ]
     },
     "metadata": {
      "needs_background": "light"
     },
     "output_type": "display_data"
    }
   ],
   "source": [
    "# Sanity Check\n",
    "for batch_num, (datas) in enumerate(train_loader):\n",
    "    inp, out = datas\n",
    "    \n",
    "    print(inp.shape, out.shape)\n",
    "        \n",
    "    num = 2\n",
    "    \n",
    "    # Sanity Check\n",
    "    x_obs = inp[num].flatten()[5::5]\n",
    "    y_obs = inp[num].flatten()[6::5]\n",
    "     \n",
    "    th = np.linspace(0, 2 * np.pi, 100)\n",
    "    plt.figure(1)\n",
    "    \n",
    "    a_obs, b_obs = 5.8, 3.2\n",
    "    \n",
    "    for i in range(0, 10):\n",
    "        x_ell = x_obs[i] + a_obs * np.cos(th)\n",
    "        y_ell = y_obs[i] + b_obs * np.sin(th)\n",
    "        plt.plot(x_ell, y_ell, '-k', linewidth=1.0)\n",
    "\n",
    "    plt.axis('equal')\n",
    "        \n",
    "    cx = out[num].flatten()[0:11]\n",
    "    cy = out[num].flatten()[11:22]\n",
    "    \n",
    "    x_gt = P.cpu() @ cx\n",
    "    y_gt = P.cpu() @ cy\n",
    "    \n",
    "    plt.plot(x_gt.numpy(), y_gt.numpy(), label=\"Ground Truth\", color=\"red\")\n",
    "    plt.legend()\n",
    "    plt.show()\n",
    "    \n",
    "    break"
   ]
  },
  {
   "cell_type": "code",
   "execution_count": 6,
   "metadata": {},
   "outputs": [],
   "source": [
    "from Utils.beta_cvae_aug_ddn import Encoder, Decoder, Beta_cVAE, BatchOpt_DDN, DeclarativeLayer\n",
    "\n",
    "# DDN\n",
    "num_batch = train_loader.batch_size\n",
    "node = BatchOpt_DDN(P, Pdot, Pddot, num_batch)\n",
    "opt_layer = DeclarativeLayer(node)\n",
    "\n",
    "# Beta-cVAE Inputs\n",
    "enc_inp_dim = 55\n",
    "enc_out_dim = 200\n",
    "dec_inp_dim = enc_inp_dim\n",
    "dec_out_dim = 8\n",
    "hidden_dim = 1024 * 2\n",
    "z_dim = 2\n",
    "\n",
    "inp_mean, inp_std = 5.1077423, 20.914295\n",
    "\n",
    "encoder = Encoder(enc_inp_dim, enc_out_dim, hidden_dim, z_dim)\n",
    "decoder = Decoder(dec_inp_dim, dec_out_dim, hidden_dim, z_dim)\n",
    "model = Beta_cVAE(encoder, decoder, opt_layer, inp_mean, inp_std).to(device)"
   ]
  },
  {
   "cell_type": "code",
   "execution_count": 7,
   "metadata": {},
   "outputs": [],
   "source": [
    "P = torch.block_diag(P, P).to(device)\n",
    "Pdot = Pdot.to(device)\n",
    "Pddot = Pddot.to(device)"
   ]
  },
  {
   "cell_type": "code",
   "execution_count": 9,
   "metadata": {},
   "outputs": [
    {
     "name": "stdout",
     "output_type": "stream",
     "text": [
      "Epoch: 1, Train Loss: 9.481, RCL: 9.481, KL: 14.735\n",
      "Epoch: 2, Train Loss: 2.839, RCL: 2.788, KL: 14.381\n",
      "Epoch: 3, Train Loss: 2.342, RCL: 2.259, KL: 11.858\n",
      "Epoch: 4, Train Loss: 2.254, RCL: 2.151, KL: 9.807\n",
      "Epoch: 5, Train Loss: 2.254, RCL: 2.134, KL: 8.564\n",
      "Epoch: 6, Train Loss: 2.212, RCL: 2.072, KL: 8.003\n",
      "Epoch: 7, Train Loss: 2.142, RCL: 1.983, KL: 7.589\n",
      "Epoch: 8, Train Loss: 1.933, RCL: 1.756, KL: 7.211\n",
      "Epoch: 9, Train Loss: 2.186, RCL: 1.990, KL: 7.031\n",
      "Epoch: 10, Train Loss: 1.964, RCL: 1.751, KL: 6.776\n",
      "Epoch: 11, Train Loss: 1.952, RCL: 1.722, KL: 6.557\n",
      "Epoch: 12, Train Loss: 2.143, RCL: 1.896, KL: 6.425\n",
      "Epoch: 13, Train Loss: 1.541, RCL: 1.280, KL: 6.225\n",
      "Epoch: 14, Train Loss: 1.552, RCL: 1.276, KL: 6.074\n",
      "Epoch: 15, Train Loss: 1.518, RCL: 1.226, KL: 5.949\n",
      "Epoch: 16, Train Loss: 1.532, RCL: 1.226, KL: 5.824\n",
      "Epoch: 17, Train Loss: 1.550, RCL: 1.229, KL: 5.721\n",
      "Epoch: 18, Train Loss: 1.552, RCL: 1.218, KL: 5.624\n",
      "Epoch: 19, Train Loss: 1.558, RCL: 1.210, KL: 5.527\n",
      "Epoch: 20, Train Loss: 1.573, RCL: 1.211, KL: 5.446\n",
      "Epoch: 21, Train Loss: 1.580, RCL: 1.205, KL: 5.364\n",
      "Epoch: 22, Train Loss: 1.615, RCL: 1.227, KL: 5.279\n",
      "Epoch: 23, Train Loss: 1.615, RCL: 1.214, KL: 5.213\n",
      "Epoch: 24, Train Loss: 1.630, RCL: 1.215, KL: 5.151\n",
      "Epoch: 25, Train Loss: 1.538, RCL: 1.110, KL: 5.091\n",
      "Epoch: 26, Train Loss: 1.558, RCL: 1.116, KL: 5.051\n",
      "Epoch: 27, Train Loss: 1.570, RCL: 1.114, KL: 5.006\n",
      "Epoch: 28, Train Loss: 1.595, RCL: 1.126, KL: 4.961\n",
      "Epoch: 29, Train Loss: 1.609, RCL: 1.127, KL: 4.920\n",
      "Epoch: 30, Train Loss: 1.614, RCL: 1.119, KL: 4.879\n",
      "Epoch: 31, Train Loss: 1.643, RCL: 1.134, KL: 4.842\n",
      "Epoch: 32, Train Loss: 1.660, RCL: 1.139, KL: 4.804\n",
      "Epoch: 33, Train Loss: 1.684, RCL: 1.150, KL: 4.770\n",
      "Epoch: 34, Train Loss: 1.673, RCL: 1.126, KL: 4.730\n",
      "Epoch: 35, Train Loss: 1.689, RCL: 1.130, KL: 4.696\n",
      "Epoch: 36, Train Loss: 1.698, RCL: 1.127, KL: 4.662\n",
      "Epoch: 37, Train Loss: 1.703, RCL: 1.118, KL: 4.646\n",
      "Epoch: 38, Train Loss: 1.746, RCL: 1.147, KL: 4.628\n",
      "Epoch: 39, Train Loss: 1.739, RCL: 1.126, KL: 4.608\n",
      "Epoch: 40, Train Loss: 1.769, RCL: 1.143, KL: 4.588\n",
      "Epoch: 41, Train Loss: 1.765, RCL: 1.126, KL: 4.567\n",
      "Epoch: 42, Train Loss: 1.800, RCL: 1.148, KL: 4.544\n",
      "Epoch: 43, Train Loss: 1.811, RCL: 1.146, KL: 4.522\n",
      "Epoch: 44, Train Loss: 1.844, RCL: 1.167, KL: 4.496\n",
      "Epoch: 45, Train Loss: 1.853, RCL: 1.163, KL: 4.476\n",
      "Epoch: 46, Train Loss: 1.875, RCL: 1.174, KL: 4.450\n",
      "Epoch: 47, Train Loss: 1.890, RCL: 1.177, KL: 4.427\n",
      "Epoch: 48, Train Loss: 1.890, RCL: 1.165, KL: 4.405\n",
      "Epoch: 49, Train Loss: 1.921, RCL: 1.183, KL: 4.394\n",
      "Epoch: 50, Train Loss: 1.939, RCL: 1.186, KL: 4.390\n",
      "Epoch: 51, Train Loss: 1.953, RCL: 1.186, KL: 4.386\n",
      "Epoch: 52, Train Loss: 1.969, RCL: 1.187, KL: 4.380\n",
      "Epoch: 53, Train Loss: 1.975, RCL: 1.179, KL: 4.374\n",
      "Epoch: 54, Train Loss: 1.993, RCL: 1.183, KL: 4.367\n",
      "Epoch: 55, Train Loss: 2.018, RCL: 1.194, KL: 4.360\n",
      "Epoch: 56, Train Loss: 2.027, RCL: 1.189, KL: 4.352\n",
      "Epoch: 57, Train Loss: 2.038, RCL: 1.187, KL: 4.345\n",
      "Epoch: 58, Train Loss: 2.071, RCL: 1.206, KL: 4.337\n",
      "Epoch: 59, Train Loss: 2.065, RCL: 1.186, KL: 4.329\n",
      "Epoch: 60, Train Loss: 2.086, RCL: 1.194, KL: 4.321\n"
     ]
    }
   ],
   "source": [
    "epochs = 60\n",
    "step, beta = 0, 3.5\n",
    "optimizer = optim.AdamW(model.parameters(), lr = 1e-3, weight_decay=6e-4)\n",
    "scheduler = optim.lr_scheduler.StepLR(optimizer, step_size = 12, gamma = 0.1)\n",
    "\n",
    "avg_train_loss, avg_rcl_loss, avg_kl_loss, avg_aug_loss = [], [], [], []\n",
    "for epoch in range(epochs):\n",
    "    \n",
    "    # Train Loop\n",
    "    losses_train, kl_losses, rcl_losses, aug_losses = [], [], [], []\n",
    "    model.train()\n",
    "    for inp, out in train_loader:\n",
    "        \n",
    "        inp = inp.to(device)\n",
    "        out = out.to(device)\n",
    "        traj_gt = (P @ out.T).T\n",
    "       \n",
    "        # Ego vehicle states\n",
    "        initial_state_ego = inp[:, 2:6]\n",
    "        initial_state_ego[:, 2:4] = initial_state_ego[:, 0:2]\n",
    "        initial_state_ego[:, 0:2] = 0\n",
    "               \n",
    "        # Remember to add the Aug Loss\n",
    "        KL_loss, RCL_loss, loss, _ = model.forward(inp, traj_gt, initial_state_ego, P, Pdot, Pddot, beta, step)\n",
    "        \n",
    "        optimizer.zero_grad()\n",
    "        loss.backward()\n",
    "        optimizer.step()\n",
    "        \n",
    "        losses_train.append(loss.detach().cpu().numpy()) \n",
    "        rcl_losses.append(RCL_loss.detach().cpu().numpy())\n",
    "        kl_losses.append(KL_loss.detach().cpu().numpy())\n",
    "        # aug_losses.append(Aug.detach().cpu().numpy())\n",
    "\n",
    "    if epoch % 1 == 0:    \n",
    "        print(f\"Epoch: {epoch + 1}, Train Loss: {np.average(losses_train):.3f}, RCL: {np.average(rcl_losses):.3f}, KL: {np.average(kl_losses):.3f}\") #, Aug: {np.average(aug_losses):.3f}\")\n",
    "\n",
    "    step += 1.0\n",
    "    scheduler.step()\n",
    "    avg_train_loss.append(np.average(losses_train)), avg_rcl_loss.append(np.average(rcl_losses)), \\\n",
    "    avg_kl_loss.append(np.average(kl_losses)) #, avg_aug_loss.append(np.average(aug_losses))"
   ]
  },
  {
   "cell_type": "code",
   "execution_count": 10,
   "metadata": {},
   "outputs": [],
   "source": [
    "torch.save(model.state_dict(), './Weights/cvae_aug_mse.pth')"
   ]
  }
 ],
 "metadata": {
  "kernelspec": {
   "display_name": "Python 3 (ipykernel)",
   "language": "python",
   "name": "python3"
  },
  "language_info": {
   "codemirror_mode": {
    "name": "ipython",
    "version": 3
   },
   "file_extension": ".py",
   "mimetype": "text/x-python",
   "name": "python",
   "nbconvert_exporter": "python",
   "pygments_lexer": "ipython3",
   "version": "3.8.10"
  },
  "vscode": {
   "interpreter": {
    "hash": "9c562111517df06ec79e2a0b366e2ca57c1da3a77768b6967f7ee5330ff1fbc3"
   }
  }
 },
 "nbformat": 4,
 "nbformat_minor": 4
}
