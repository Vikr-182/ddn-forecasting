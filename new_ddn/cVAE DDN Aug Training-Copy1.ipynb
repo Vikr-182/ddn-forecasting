{
 "cells": [
  {
   "cell_type": "code",
   "execution_count": 1,
   "metadata": {
    "tags": []
   },
   "outputs": [],
   "source": [
    "import numpy as np \n",
    "import matplotlib.pyplot as plt \n",
    "import seaborn as sns\n",
    "sns.set_theme()\n",
    "\n",
    "import torch \n",
    "import torch.nn as nn \n",
    "import torch.optim as optim\n",
    "from torch.utils.data import Dataset, DataLoader\n",
    "\n",
    "torch.manual_seed(42)\n",
    "torch.cuda.manual_seed_all(42)\n",
    "torch.set_default_dtype(torch.float64)\n",
    "\n",
    "%matplotlib inline"
   ]
  },
  {
   "cell_type": "code",
   "execution_count": 2,
   "metadata": {},
   "outputs": [],
   "source": [
    "%load_ext autoreload\n",
    "%autoreload 2"
   ]
  },
  {
   "cell_type": "code",
   "execution_count": 3,
   "metadata": {},
   "outputs": [
    {
     "name": "stdout",
     "output_type": "stream",
     "text": [
      "Using cpu device\n"
     ]
    }
   ],
   "source": [
    "device = torch.device(\"cuda\" if torch.cuda.is_available() else \"cpu\")\n",
    "print(f\"Using {device} device\")"
   ]
  },
  {
   "cell_type": "code",
   "execution_count": 4,
   "metadata": {},
   "outputs": [],
   "source": [
    "from bernstein_torch import bernstein_coeff_order10_new\n",
    "\n",
    "# Generating P matrix\n",
    "t_fin = 15.0\n",
    "num = 100\n",
    "tot_time = torch.linspace(0, t_fin, num)\n",
    "tot_time_copy = tot_time.reshape(num, 1)\n",
    "P, Pdot, Pddot = bernstein_coeff_order10_new(10, tot_time_copy[0], tot_time_copy[-1], tot_time_copy)"
   ]
  },
  {
   "cell_type": "code",
   "execution_count": 5,
   "metadata": {},
   "outputs": [],
   "source": [
    "# Custom Dataset Loader \n",
    "class TrajDataset(Dataset):\n",
    "    \"\"\"Expert Trajectory Dataset.\"\"\"\n",
    "    def __init__(self, data):\n",
    "        \n",
    "        # Inputs\n",
    "        self.inp = data[:, 0:55]\n",
    "        \n",
    "        # Outputs\n",
    "        self.out = data[:, 55:]\n",
    "        \n",
    "    def __len__(self):\n",
    "        return len(self.inp)\n",
    "    \n",
    "    def __getitem__(self, idx):\n",
    "        \n",
    "        # Inputs\n",
    "        inp = self.inp[idx]\n",
    "        \n",
    "        # Outputs\n",
    "        out = self.out[idx]\n",
    "                 \n",
    "        return torch.tensor(inp).double(), torch.tensor(out).double()\n",
    "\n",
    "# Load the dataset\n",
    "train_data = np.load(\"../datasets/toy/train_data.npy\", mmap_mode=\"c\")\n",
    "\n",
    "# Using PyTorch Dataloader\n",
    "train_dataset = TrajDataset(train_data)\n",
    "train_loader = DataLoader(train_dataset, batch_size=2145, shuffle=True, num_workers=0)"
   ]
  },
  {
   "cell_type": "code",
   "execution_count": 6,
   "metadata": {},
   "outputs": [
    {
     "name": "stdout",
     "output_type": "stream",
     "text": [
      "torch.Size([2145, 20, 2]) torch.Size([2145, 0, 2])\n"
     ]
    },
    {
     "ename": "IndexError",
     "evalue": "index 7 is out of bounds for dimension 0 with size 7",
     "output_type": "error",
     "traceback": [
      "\u001b[0;31m---------------------------------------------------------------------------\u001b[0m",
      "\u001b[0;31mIndexError\u001b[0m                                Traceback (most recent call last)",
      "Input \u001b[0;32mIn [6]\u001b[0m, in \u001b[0;36m<cell line: 2>\u001b[0;34m()\u001b[0m\n\u001b[1;32m     16\u001b[0m a_obs, b_obs \u001b[38;5;241m=\u001b[39m \u001b[38;5;241m5.8\u001b[39m, \u001b[38;5;241m3.2\u001b[39m\n\u001b[1;32m     18\u001b[0m \u001b[38;5;28;01mfor\u001b[39;00m i \u001b[38;5;129;01min\u001b[39;00m \u001b[38;5;28mrange\u001b[39m(\u001b[38;5;241m0\u001b[39m, \u001b[38;5;241m10\u001b[39m):\n\u001b[0;32m---> 19\u001b[0m     x_ell \u001b[38;5;241m=\u001b[39m \u001b[43mx_obs\u001b[49m\u001b[43m[\u001b[49m\u001b[43mi\u001b[49m\u001b[43m]\u001b[49m \u001b[38;5;241m+\u001b[39m a_obs \u001b[38;5;241m*\u001b[39m np\u001b[38;5;241m.\u001b[39mcos(th)\n\u001b[1;32m     20\u001b[0m     y_ell \u001b[38;5;241m=\u001b[39m y_obs[i] \u001b[38;5;241m+\u001b[39m b_obs \u001b[38;5;241m*\u001b[39m np\u001b[38;5;241m.\u001b[39msin(th)\n\u001b[1;32m     21\u001b[0m     plt\u001b[38;5;241m.\u001b[39mplot(x_ell, y_ell, \u001b[38;5;124m'\u001b[39m\u001b[38;5;124m-k\u001b[39m\u001b[38;5;124m'\u001b[39m, linewidth\u001b[38;5;241m=\u001b[39m\u001b[38;5;241m1.0\u001b[39m)\n",
      "\u001b[0;31mIndexError\u001b[0m: index 7 is out of bounds for dimension 0 with size 7"
     ]
    },
    {
     "data": {
      "image/png": "[encoded data removed]",
      "text/plain": [
       "<Figure size 432x288 with 1 Axes>"
      ]
     },
     "metadata": {
      "needs_background": "light"
     },
     "output_type": "display_data"
    }
   ],
   "source": [
    "# Sanity Check\n",
    "for batch_num, (datas) in enumerate(train_loader):\n",
    "    inp, out = datas\n",
    "    \n",
    "    print(inp.shape, out.shape)\n",
    "        \n",
    "    num = 2\n",
    "    \n",
    "    # Sanity Check\n",
    "    x_obs = inp[num].flatten()[5::5]\n",
    "    y_obs = inp[num].flatten()[6::5]\n",
    "     \n",
    "    th = np.linspace(0, 2 * np.pi, 100)\n",
    "    plt.figure(1)\n",
    "    \n",
    "    a_obs, b_obs = 5.8, 3.2\n",
    "    \n",
    "    for i in range(0, 10):\n",
    "        x_ell = x_obs[i] + a_obs * np.cos(th)\n",
    "        y_ell = y_obs[i] + b_obs * np.sin(th)\n",
    "        plt.plot(x_ell, y_ell, '-k', linewidth=1.0)\n",
    "\n",
    "    plt.axis('equal')\n",
    "        \n",
    "    cx = out[num].flatten()[0:11]\n",
    "    cy = out[num].flatten()[11:22]\n",
    "    \n",
    "    x_gt = P.cpu() @ cx\n",
    "    y_gt = P.cpu() @ cy\n",
    "    \n",
    "    plt.plot(x_gt.numpy(), y_gt.numpy(), label=\"Ground Truth\", color=\"red\")\n",
    "    plt.legend()\n",
    "    plt.show()\n",
    "    \n",
    "    break"
   ]
  },
  {
   "cell_type": "code",
   "execution_count": 7,
   "metadata": {},
   "outputs": [],
   "source": [
    "from beta_cvae_aug_ddn import Encoder, Decoder, Beta_cVAE, BatchOpt_DDN, DeclarativeLayer\n",
    "\n",
    "# DDN\n",
    "num_batch = train_loader.batch_size\n",
    "node = BatchOpt_DDN(P, Pdot, Pddot, num_batch)\n",
    "opt_layer = DeclarativeLayer(node)\n",
    "\n",
    "# Beta-cVAE Inputs\n",
    "enc_inp_dim = 55\n",
    "enc_out_dim = 200\n",
    "dec_inp_dim = enc_inp_dim\n",
    "dec_out_dim = 8\n",
    "hidden_dim = 1024 * 2\n",
    "z_dim = 2\n",
    "\n",
    "inp_mean, inp_std = 5.1077423, 20.914295\n",
    "\n",
    "encoder = Encoder(enc_inp_dim, enc_out_dim, hidden_dim, z_dim)\n",
    "decoder = Decoder(dec_inp_dim, dec_out_dim, hidden_dim, z_dim)\n",
    "model = Beta_cVAE(encoder, decoder, opt_layer, inp_mean, inp_std).to(device)"
   ]
  },
  {
   "cell_type": "code",
   "execution_count": 8,
   "metadata": {},
   "outputs": [],
   "source": [
    "P = torch.block_diag(P, P).to(device)\n",
    "Pdot = Pdot.to(device)\n",
    "Pddot = Pddot.to(device)"
   ]
  },
  {
   "cell_type": "code",
   "execution_count": 9,
   "metadata": {},
   "outputs": [
    {
     "ename": "RuntimeError",
     "evalue": "mat1 and mat2 shapes cannot be multiplied (4290x0 and 22x200)",
     "output_type": "error",
     "traceback": [
      "\u001b[0;31m---------------------------------------------------------------------------\u001b[0m",
      "\u001b[0;31mRuntimeError\u001b[0m                              Traceback (most recent call last)",
      "Input \u001b[0;32mIn [9]\u001b[0m, in \u001b[0;36m<cell line: 7>\u001b[0;34m()\u001b[0m\n\u001b[1;32m     14\u001b[0m inp \u001b[38;5;241m=\u001b[39m inp\u001b[38;5;241m.\u001b[39mto(device)\n\u001b[1;32m     15\u001b[0m out \u001b[38;5;241m=\u001b[39m out\u001b[38;5;241m.\u001b[39mto(device)\n\u001b[0;32m---> 16\u001b[0m traj_gt \u001b[38;5;241m=\u001b[39m (\u001b[43mP\u001b[49m\u001b[43m \u001b[49m\u001b[38;5;241;43m@\u001b[39;49m\u001b[43m \u001b[49m\u001b[43mout\u001b[49m\u001b[38;5;241;43m.\u001b[39;49m\u001b[43mT\u001b[49m)\u001b[38;5;241m.\u001b[39mT\n\u001b[1;32m     18\u001b[0m \u001b[38;5;66;03m# Ego vehicle states\u001b[39;00m\n\u001b[1;32m     19\u001b[0m initial_state_ego \u001b[38;5;241m=\u001b[39m inp[:, \u001b[38;5;241m2\u001b[39m:\u001b[38;5;241m6\u001b[39m]\n",
      "\u001b[0;31mRuntimeError\u001b[0m: mat1 and mat2 shapes cannot be multiplied (4290x0 and 22x200)"
     ]
    }
   ],
   "source": [
    "epochs = 60\n",
    "step, beta = 0, 3.5\n",
    "optimizer = optim.AdamW(model.parameters(), lr = 1e-3, weight_decay=6e-4)\n",
    "scheduler = optim.lr_scheduler.StepLR(optimizer, step_size = 12, gamma = 0.1)\n",
    "\n",
    "avg_train_loss, avg_rcl_loss, avg_kl_loss, avg_aug_loss = [], [], [], []\n",
    "for epoch in range(epochs):\n",
    "    \n",
    "    # Train Loop\n",
    "    losses_train, kl_losses, rcl_losses, aug_losses = [], [], [], []\n",
    "    model.train()\n",
    "    for inp, out in train_loader:\n",
    "        \n",
    "        inp = inp.to(device)\n",
    "        out = out.to(device)\n",
    "        traj_gt = (P @ out.T).T\n",
    "       \n",
    "        # Ego vehicle states\n",
    "        initial_state_ego = inp[:, 2:6]\n",
    "        initial_state_ego[:, 2:4] = initial_state_ego[:, 0:2]\n",
    "        initial_state_ego[:, 0:2] = 0\n",
    "               \n",
    "        # Remember to add the Aug Loss\n",
    "        KL_loss, RCL_loss, loss, _ = model.forward(inp, traj_gt, initial_state_ego, P, Pdot, Pddot, beta, step)\n",
    "        \n",
    "        optimizer.zero_grad()\n",
    "        loss.backward()\n",
    "        optimizer.step()\n",
    "        \n",
    "        losses_train.append(loss.detach().cpu().numpy()) \n",
    "        rcl_losses.append(RCL_loss.detach().cpu().numpy())\n",
    "        kl_losses.append(KL_loss.detach().cpu().numpy())\n",
    "        # aug_losses.append(Aug.detach().cpu().numpy())\n",
    "\n",
    "    if epoch % 1 == 0:    \n",
    "        print(f\"Epoch: {epoch + 1}, Train Loss: {np.average(losses_train):.3f}, RCL: {np.average(rcl_losses):.3f}, KL: {np.average(kl_losses):.3f}\") #, Aug: {np.average(aug_losses):.3f}\")\n",
    "\n",
    "    step += 1.0\n",
    "    scheduler.step()\n",
    "    avg_train_loss.append(np.average(losses_train)), avg_rcl_loss.append(np.average(rcl_losses)), \\\n",
    "    avg_kl_loss.append(np.average(kl_losses)) #, avg_aug_loss.append(np.average(aug_losses))"
   ]
  },
  {
   "cell_type": "code",
   "execution_count": 10,
   "metadata": {},
   "outputs": [],
   "source": [
    "torch.save(model.state_dict(), './Weights/cvae_aug_mse.pth')"
   ]
  }
 ],
 "metadata": {
  "kernelspec": {
   "display_name": "Python 3 (ipykernel)",
   "language": "python",
   "name": "python3"
  },
  "language_info": {
   "codemirror_mode": {
    "name": "ipython",
    "version": 3
   },
   "file_extension": ".py",
   "mimetype": "text/x-python",
   "name": "python",
   "nbconvert_exporter": "python",
   "pygments_lexer": "ipython3",
   "version": "3.8.10"
  },
  "vscode": {
   "interpreter": {
    "hash": "9c562111517df06ec79e2a0b366e2ca57c1da3a77768b6967f7ee5330ff1fbc3"
   }
  }
 },
 "nbformat": 4,
 "nbformat_minor": 4
}
